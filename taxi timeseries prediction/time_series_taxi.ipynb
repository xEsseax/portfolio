{
  "cells": [
    {
      "cell_type": "markdown",
      "source": [
        "# Введение\n",
        "\n",
        "Проект посвящён прогнозированию спроса: с целью привлечения большего количества водителей в период пиковой нагрузки нужно спрогнозировать количество заказов такси на следующий час в аэроопрту.\n",
        "\n",
        "В распоряжении исторические данные. Количество заказов находится в столбце num_orders.\n",
        "\n",
        "В качестве метрики используется RMSE, пороговое значение по ТЗ: RMSE на тестовой выборке должно быть не больше 48.\n",
        "\n",
        "План:\n",
        "1. Чтение и обзор данны, а также базовая подготовка в анализу\n",
        "- по необходимости - заполнение пропусков, ресемлирование по часовым интервалам\n",
        "2. Разбитие ряда на компоненты: тренд сезонность и шум. Поиск закономерностей\n",
        "3. Обучение моделей:\n",
        "- добавление новых признаков, обучение моделей: линейной регрессии и модели Lasso\n",
        "4. Тестирование модели: сравнение обученной модели с константной (медианной) и с предыдущим значением\n",
        "5. Заключение по проекту\n"
      ],
      "metadata": {
        "id": "7KdXxO3vYB7M"
      }
    },
    {
      "cell_type": "markdown",
      "metadata": {
        "toc": true,
        "id": "Ilf8Cz-fXmkp"
      },
      "source": [
        "<h1>Содержание<span class=\"tocSkip\"></span></h1>\n",
        "<div class=\"toc\"><ul class=\"toc-item\"><li><span><a href=\"#Чтение-и-обзор-данных\" data-toc-modified-id=\"Чтение-и-обзор-данных-1\"><span class=\"toc-item-num\">1&nbsp;&nbsp;</span>Чтение и обзор данных</a></span></li><li><span><a href=\"#Анализ\" data-toc-modified-id=\"Анализ-2\"><span class=\"toc-item-num\">2&nbsp;&nbsp;</span>Анализ</a></span></li><li><span><a href=\"#Обучение\" data-toc-modified-id=\"Обучение-3\"><span class=\"toc-item-num\">3&nbsp;&nbsp;</span>Обучение</a></span><ul class=\"toc-item\"><li><span><a href=\"#Подготовка-данных-к-обучению-моделей\" data-toc-modified-id=\"Подготовка-данных-к-обучению-моделей-3.1\"><span class=\"toc-item-num\">3.1&nbsp;&nbsp;</span>Подготовка данных к обучению моделей</a></span></li><li><span><a href=\"#Линейная-регрессия\" data-toc-modified-id=\"Линейная-регрессия-3.2\"><span class=\"toc-item-num\">3.2&nbsp;&nbsp;</span>Линейная регрессия</a></span></li><li><span><a href=\"#Lasso\" data-toc-modified-id=\"Lasso-3.3\"><span class=\"toc-item-num\">3.3&nbsp;&nbsp;</span>Lasso</a></span></li></ul></li><li><span><a href=\"#Тестирование\" data-toc-modified-id=\"Тестирование-4\"><span class=\"toc-item-num\">4&nbsp;&nbsp;</span>Тестирование</a></span></li><li><span><a href=\"#Общий-вывод\" data-toc-modified-id=\"Общий-вывод-5\"><span class=\"toc-item-num\">5&nbsp;&nbsp;</span>Общий вывод</a></span></ul></div>"
      ]
    },
    {
      "cell_type": "markdown",
      "metadata": {
        "id": "EiY9S1f6Xmkq"
      },
      "source": [
        "## Технический раздел"
      ]
    },
    {
      "cell_type": "code",
      "execution_count": 1,
      "metadata": {
        "id": "2EneZATNXmkr"
      },
      "outputs": [],
      "source": [
        "#импорты\n",
        "\n",
        "import numpy as np\n",
        "import pandas as pd\n",
        "import matplotlib.pyplot as plt\n",
        "\n",
        "from statsmodels.tsa.seasonal import seasonal_decompose\n",
        "\n",
        "from sklearn.model_selection import train_test_split\n",
        "from sklearn.linear_model import LinearRegression, Lasso\n",
        "\n",
        "from sklearn.metrics import mean_squared_error"
      ]
    },
    {
      "cell_type": "code",
      "source": [
        "#функция для добавления новых признаков\n",
        "def add_features(data, max_lag, rolling_mean_size):\n",
        "    data['dayofweek'] = data.index.dayofweek\n",
        "    data['hour'] = data.index.hour\n",
        "\n",
        "    for lag in range(1, max_lag + 1):\n",
        "        data['lag_{}'.format(lag)] = data['num_orders'].shift(lag)\n",
        "    data['rolling_mean'] = data['num_orders'].shift().rolling(rolling_mean_size).mean()\n",
        "    return data"
      ],
      "metadata": {
        "id": "TTik8D9ls4Yh"
      },
      "execution_count": 2,
      "outputs": []
    },
    {
      "cell_type": "markdown",
      "source": [
        "## Чтение и обзор данных"
      ],
      "metadata": {
        "id": "OmJ9JNY4sxh6"
      }
    },
    {
      "cell_type": "markdown",
      "metadata": {
        "id": "fFqc3GjPXmku"
      },
      "source": [
        "Начнём с чтения и обзора данных:"
      ]
    },
    {
      "cell_type": "code",
      "execution_count": 3,
      "metadata": {
        "colab": {
          "base_uri": "https://localhost:8080/",
          "height": 237
        },
        "id": "Y5PHMgS_Xmkv",
        "outputId": "87923cd9-3416-4f28-d496-94fe090888af"
      },
      "outputs": [
        {
          "output_type": "execute_result",
          "data": {
            "text/plain": [
              "                     num_orders\n",
              "datetime                       \n",
              "2018-03-01 00:00:00           9\n",
              "2018-03-01 00:10:00          14\n",
              "2018-03-01 00:20:00          28\n",
              "2018-03-01 00:30:00          20\n",
              "2018-03-01 00:40:00          32"
            ],
            "text/html": [
              "\n",
              "\n",
              "  <div id=\"df-539ceda0-3ff3-41b5-8a64-34f5214fcbdf\">\n",
              "    <div class=\"colab-df-container\">\n",
              "      <div>\n",
              "<style scoped>\n",
              "    .dataframe tbody tr th:only-of-type {\n",
              "        vertical-align: middle;\n",
              "    }\n",
              "\n",
              "    .dataframe tbody tr th {\n",
              "        vertical-align: top;\n",
              "    }\n",
              "\n",
              "    .dataframe thead th {\n",
              "        text-align: right;\n",
              "    }\n",
              "</style>\n",
              "<table border=\"1\" class=\"dataframe\">\n",
              "  <thead>\n",
              "    <tr style=\"text-align: right;\">\n",
              "      <th></th>\n",
              "      <th>num_orders</th>\n",
              "    </tr>\n",
              "    <tr>\n",
              "      <th>datetime</th>\n",
              "      <th></th>\n",
              "    </tr>\n",
              "  </thead>\n",
              "  <tbody>\n",
              "    <tr>\n",
              "      <th>2018-03-01 00:00:00</th>\n",
              "      <td>9</td>\n",
              "    </tr>\n",
              "    <tr>\n",
              "      <th>2018-03-01 00:10:00</th>\n",
              "      <td>14</td>\n",
              "    </tr>\n",
              "    <tr>\n",
              "      <th>2018-03-01 00:20:00</th>\n",
              "      <td>28</td>\n",
              "    </tr>\n",
              "    <tr>\n",
              "      <th>2018-03-01 00:30:00</th>\n",
              "      <td>20</td>\n",
              "    </tr>\n",
              "    <tr>\n",
              "      <th>2018-03-01 00:40:00</th>\n",
              "      <td>32</td>\n",
              "    </tr>\n",
              "  </tbody>\n",
              "</table>\n",
              "</div>\n",
              "      <button class=\"colab-df-convert\" onclick=\"convertToInteractive('df-539ceda0-3ff3-41b5-8a64-34f5214fcbdf')\"\n",
              "              title=\"Convert this dataframe to an interactive table.\"\n",
              "              style=\"display:none;\">\n",
              "\n",
              "  <svg xmlns=\"http://www.w3.org/2000/svg\" height=\"24px\"viewBox=\"0 0 24 24\"\n",
              "       width=\"24px\">\n",
              "    <path d=\"M0 0h24v24H0V0z\" fill=\"none\"/>\n",
              "    <path d=\"M18.56 5.44l.94 2.06.94-2.06 2.06-.94-2.06-.94-.94-2.06-.94 2.06-2.06.94zm-11 1L8.5 8.5l.94-2.06 2.06-.94-2.06-.94L8.5 2.5l-.94 2.06-2.06.94zm10 10l.94 2.06.94-2.06 2.06-.94-2.06-.94-.94-2.06-.94 2.06-2.06.94z\"/><path d=\"M17.41 7.96l-1.37-1.37c-.4-.4-.92-.59-1.43-.59-.52 0-1.04.2-1.43.59L10.3 9.45l-7.72 7.72c-.78.78-.78 2.05 0 2.83L4 21.41c.39.39.9.59 1.41.59.51 0 1.02-.2 1.41-.59l7.78-7.78 2.81-2.81c.8-.78.8-2.07 0-2.86zM5.41 20L4 18.59l7.72-7.72 1.47 1.35L5.41 20z\"/>\n",
              "  </svg>\n",
              "      </button>\n",
              "\n",
              "\n",
              "\n",
              "    <div id=\"df-587c89a9-2f74-434d-a53c-466e7baf44a8\">\n",
              "      <button class=\"colab-df-quickchart\" onclick=\"quickchart('df-587c89a9-2f74-434d-a53c-466e7baf44a8')\"\n",
              "              title=\"Suggest charts.\"\n",
              "              style=\"display:none;\">\n",
              "\n",
              "<svg xmlns=\"http://www.w3.org/2000/svg\" height=\"24px\"viewBox=\"0 0 24 24\"\n",
              "     width=\"24px\">\n",
              "    <g>\n",
              "        <path d=\"M19 3H5c-1.1 0-2 .9-2 2v14c0 1.1.9 2 2 2h14c1.1 0 2-.9 2-2V5c0-1.1-.9-2-2-2zM9 17H7v-7h2v7zm4 0h-2V7h2v10zm4 0h-2v-4h2v4z\"/>\n",
              "    </g>\n",
              "</svg>\n",
              "      </button>\n",
              "    </div>\n",
              "\n",
              "<style>\n",
              "  .colab-df-quickchart {\n",
              "    background-color: #E8F0FE;\n",
              "    border: none;\n",
              "    border-radius: 50%;\n",
              "    cursor: pointer;\n",
              "    display: none;\n",
              "    fill: #1967D2;\n",
              "    height: 32px;\n",
              "    padding: 0 0 0 0;\n",
              "    width: 32px;\n",
              "  }\n",
              "\n",
              "  .colab-df-quickchart:hover {\n",
              "    background-color: #E2EBFA;\n",
              "    box-shadow: 0px 1px 2px rgba(60, 64, 67, 0.3), 0px 1px 3px 1px rgba(60, 64, 67, 0.15);\n",
              "    fill: #174EA6;\n",
              "  }\n",
              "\n",
              "  [theme=dark] .colab-df-quickchart {\n",
              "    background-color: #3B4455;\n",
              "    fill: #D2E3FC;\n",
              "  }\n",
              "\n",
              "  [theme=dark] .colab-df-quickchart:hover {\n",
              "    background-color: #434B5C;\n",
              "    box-shadow: 0px 1px 3px 1px rgba(0, 0, 0, 0.15);\n",
              "    filter: drop-shadow(0px 1px 2px rgba(0, 0, 0, 0.3));\n",
              "    fill: #FFFFFF;\n",
              "  }\n",
              "</style>\n",
              "\n",
              "    <script>\n",
              "      async function quickchart(key) {\n",
              "        const containerElement = document.querySelector('#' + key);\n",
              "        const charts = await google.colab.kernel.invokeFunction(\n",
              "            'suggestCharts', [key], {});\n",
              "      }\n",
              "    </script>\n",
              "\n",
              "      <script>\n",
              "\n",
              "function displayQuickchartButton(domScope) {\n",
              "  let quickchartButtonEl =\n",
              "    domScope.querySelector('#df-587c89a9-2f74-434d-a53c-466e7baf44a8 button.colab-df-quickchart');\n",
              "  quickchartButtonEl.style.display =\n",
              "    google.colab.kernel.accessAllowed ? 'block' : 'none';\n",
              "}\n",
              "\n",
              "        displayQuickchartButton(document);\n",
              "      </script>\n",
              "      <style>\n",
              "    .colab-df-container {\n",
              "      display:flex;\n",
              "      flex-wrap:wrap;\n",
              "      gap: 12px;\n",
              "    }\n",
              "\n",
              "    .colab-df-convert {\n",
              "      background-color: #E8F0FE;\n",
              "      border: none;\n",
              "      border-radius: 50%;\n",
              "      cursor: pointer;\n",
              "      display: none;\n",
              "      fill: #1967D2;\n",
              "      height: 32px;\n",
              "      padding: 0 0 0 0;\n",
              "      width: 32px;\n",
              "    }\n",
              "\n",
              "    .colab-df-convert:hover {\n",
              "      background-color: #E2EBFA;\n",
              "      box-shadow: 0px 1px 2px rgba(60, 64, 67, 0.3), 0px 1px 3px 1px rgba(60, 64, 67, 0.15);\n",
              "      fill: #174EA6;\n",
              "    }\n",
              "\n",
              "    [theme=dark] .colab-df-convert {\n",
              "      background-color: #3B4455;\n",
              "      fill: #D2E3FC;\n",
              "    }\n",
              "\n",
              "    [theme=dark] .colab-df-convert:hover {\n",
              "      background-color: #434B5C;\n",
              "      box-shadow: 0px 1px 3px 1px rgba(0, 0, 0, 0.15);\n",
              "      filter: drop-shadow(0px 1px 2px rgba(0, 0, 0, 0.3));\n",
              "      fill: #FFFFFF;\n",
              "    }\n",
              "  </style>\n",
              "\n",
              "      <script>\n",
              "        const buttonEl =\n",
              "          document.querySelector('#df-539ceda0-3ff3-41b5-8a64-34f5214fcbdf button.colab-df-convert');\n",
              "        buttonEl.style.display =\n",
              "          google.colab.kernel.accessAllowed ? 'block' : 'none';\n",
              "\n",
              "        async function convertToInteractive(key) {\n",
              "          const element = document.querySelector('#df-539ceda0-3ff3-41b5-8a64-34f5214fcbdf');\n",
              "          const dataTable =\n",
              "            await google.colab.kernel.invokeFunction('convertToInteractive',\n",
              "                                                     [key], {});\n",
              "          if (!dataTable) return;\n",
              "\n",
              "          const docLinkHtml = 'Like what you see? Visit the ' +\n",
              "            '<a target=\"_blank\" href=https://colab.research.google.com/notebooks/data_table.ipynb>data table notebook</a>'\n",
              "            + ' to learn more about interactive tables.';\n",
              "          element.innerHTML = '';\n",
              "          dataTable['output_type'] = 'display_data';\n",
              "          await google.colab.output.renderOutput(dataTable, element);\n",
              "          const docLink = document.createElement('div');\n",
              "          docLink.innerHTML = docLinkHtml;\n",
              "          element.appendChild(docLink);\n",
              "        }\n",
              "      </script>\n",
              "    </div>\n",
              "  </div>\n"
            ]
          },
          "metadata": {},
          "execution_count": 3
        }
      ],
      "source": [
        "data = pd.read_csv('taxi.csv', index_col='datetime', parse_dates=[0])\n",
        "data.head()"
      ]
    },
    {
      "cell_type": "code",
      "execution_count": 4,
      "metadata": {
        "colab": {
          "base_uri": "https://localhost:8080/"
        },
        "id": "unrqwRzNXmkx",
        "outputId": "ec1e2049-86cc-4b7e-afec-1fbe89a7112c"
      },
      "outputs": [
        {
          "output_type": "stream",
          "name": "stdout",
          "text": [
            "<class 'pandas.core.frame.DataFrame'>\n",
            "DatetimeIndex: 26496 entries, 2018-03-01 00:00:00 to 2018-08-31 23:50:00\n",
            "Data columns (total 1 columns):\n",
            " #   Column      Non-Null Count  Dtype\n",
            "---  ------      --------------  -----\n",
            " 0   num_orders  26496 non-null  int64\n",
            "dtypes: int64(1)\n",
            "memory usage: 414.0 KB\n"
          ]
        }
      ],
      "source": [
        "data.info()"
      ]
    },
    {
      "cell_type": "markdown",
      "metadata": {
        "id": "fQVZZqXvXmkx"
      },
      "source": [
        "У нас, о счастье, нет пропусков!\n",
        "Посмотрим немного на данные:"
      ]
    },
    {
      "cell_type": "code",
      "execution_count": 5,
      "metadata": {
        "id": "WtG7G5R1Xmkx"
      },
      "outputs": [],
      "source": [
        "data = data.sort_index()"
      ]
    },
    {
      "cell_type": "code",
      "execution_count": 6,
      "metadata": {
        "colab": {
          "base_uri": "https://localhost:8080/"
        },
        "id": "WbEFmfFLXmkx",
        "outputId": "c86c0854-b57d-43eb-fa05-1b2b183a205b"
      },
      "outputs": [
        {
          "output_type": "stream",
          "name": "stdout",
          "text": [
            "Временной диапазон данных: 2018-03-01 00:00:00 - 2018-08-31 23:50:00\n"
          ]
        }
      ],
      "source": [
        "print(f'Временной диапазон данных: {data.index.min()} - {data.index.max()}')"
      ]
    },
    {
      "cell_type": "markdown",
      "metadata": {
        "id": "4Fe58PkYXmkx"
      },
      "source": [
        "С первого марта по 31 августа 2018 года, полгода исторических данных. Немало!\n",
        "\n",
        "Поскольку наша задача - спрогнозировать количество заказов на следующий час, проведём ресемплирование по часовым интервалам с суммированием значений внутри интервала:"
      ]
    },
    {
      "cell_type": "code",
      "execution_count": 7,
      "metadata": {
        "id": "4p4QJNrbXmky"
      },
      "outputs": [],
      "source": [
        "#сохраним исходный ряд\n",
        "data_nosemple = data\n",
        "data = data.resample('1H').sum()"
      ]
    },
    {
      "cell_type": "markdown",
      "metadata": {
        "id": "LL9NFkE5Xmky"
      },
      "source": [
        "Вывод: проведено чтение данных, а также краткий обзор. Пропусков в данных нет. В нашем распоряжении исторические данные о количестве заказов такси за полгода. Проведено ресемплирование данных в соответствии со стоящей задачей."
      ]
    },
    {
      "cell_type": "markdown",
      "metadata": {
        "id": "TYYZ_pUJXmky"
      },
      "source": [
        "## Анализ компонент временного ряда"
      ]
    },
    {
      "cell_type": "markdown",
      "metadata": {
        "id": "lqTlocyWXmky"
      },
      "source": [
        "Начнём с того, чтобы разбить ряд на компоненты: тренд сезонность и шум, и построить графики в зависимости от времени:"
      ]
    },
    {
      "cell_type": "code",
      "execution_count": 8,
      "metadata": {
        "id": "BsETClbOXmky"
      },
      "outputs": [],
      "source": [
        "decomposed = seasonal_decompose(data)"
      ]
    },
    {
      "cell_type": "code",
      "execution_count": 9,
      "metadata": {
        "colab": {
          "base_uri": "https://localhost:8080/",
          "height": 766
        },
        "id": "H3v3sYstXmkz",
        "outputId": "9cd3a0a9-efe1-41a7-eae8-486762113b4a"
      },
      "outputs": [
        {
          "output_type": "display_data",
          "data": {
            "text/plain": [
              "<Figure size 1600x1000 with 3 Axes>"
            ],
            "image/png": "[encoded data removed]"
          },
          "metadata": {}
        }
      ],
      "source": [
        "plt.figure(figsize=(16, 10))\n",
        "plt.subplot(311)\n",
        "\n",
        "decomposed.trend.plot(ax=plt.gca())\n",
        "plt.title('Trend')\n",
        "\n",
        "plt.subplot(312)\n",
        "decomposed.seasonal.plot(ax=plt.gca())\n",
        "plt.title('Seasonality')\n",
        "plt.subplot(313)\n",
        "decomposed.resid.plot(ax=plt.gca())\n",
        "plt.title('Residuals')\n",
        "plt.tight_layout()"
      ]
    },
    {
      "cell_type": "markdown",
      "metadata": {
        "id": "Vf3P_Nr1Xmkz"
      },
      "source": [
        "\"Сезонность, ты пьяна, иди домой\"\n",
        "\n",
        "- сезонность похожа на стационарный ряд - среднее постоянно, отклонения близки. Ниже посмотрим на уменьшенный интервал для выявления закономерностей\n",
        "- тренд: количество заказов возрастает с течением времени, зависимость похожа на линейную\n",
        "- шум имеет постоянное вреднее значение, но явно видны выбросы: вероятно, зповышенной спрос на такси по выходным и праздникам. Амплитуда пиков повышается со временем.\n"
      ]
    },
    {
      "cell_type": "markdown",
      "metadata": {
        "id": "6zjhsoiOXmk0"
      },
      "source": [
        "Посмотрим на график сезонности на уменьшенном интервале для обнаружения закономерностей:"
      ]
    },
    {
      "cell_type": "code",
      "execution_count": 10,
      "metadata": {
        "colab": {
          "base_uri": "https://localhost:8080/",
          "height": 261
        },
        "id": "a5MmBMjnXmk0",
        "outputId": "889c28fe-1b53-43ec-f1d6-b01700a4dbe5"
      },
      "outputs": [
        {
          "output_type": "execute_result",
          "data": {
            "text/plain": [
              "Text(0.5, 1.0, 'Seasonality')"
            ]
          },
          "metadata": {},
          "execution_count": 10
        },
        {
          "output_type": "display_data",
          "data": {
            "text/plain": [
              "<Figure size 640x480 with 1 Axes>"
            ],
            "image/png": "[encoded data removed]"
          },
          "metadata": {}
        }
      ],
      "source": [
        "plt.subplot(312)\n",
        "decomposed.seasonal['2018-05-01':'2018-05-02'].plot(ax=plt.gca())\n",
        "plt.title('Seasonality')"
      ]
    },
    {
      "cell_type": "markdown",
      "metadata": {
        "id": "kIbKhiA2Xmk0"
      },
      "source": [
        "Видно, что количество заказов существенное увеличивается вечером и ночью, спад приходится на раннее утро (6 утра)."
      ]
    },
    {
      "cell_type": "markdown",
      "metadata": {
        "id": "1XbDwLcYXmk0"
      },
      "source": [
        "Посмотрим на закономерность внутри одной недели:"
      ]
    },
    {
      "cell_type": "code",
      "execution_count": 11,
      "metadata": {
        "colab": {
          "base_uri": "https://localhost:8080/",
          "height": 500
        },
        "id": "x1zAn_nmXmk1",
        "outputId": "2d23407f-221c-4d3e-eadf-9edc4319efe5"
      },
      "outputs": [
        {
          "output_type": "execute_result",
          "data": {
            "text/plain": [
              "<Axes: xlabel='datetime'>"
            ]
          },
          "metadata": {},
          "execution_count": 11
        },
        {
          "output_type": "display_data",
          "data": {
            "text/plain": [
              "<Figure size 640x480 with 1 Axes>"
            ],
            "image/png": "[encoded data removed]"
          },
          "metadata": {}
        }
      ],
      "source": [
        "seasonal_decompose(data_nosemple.resample('1D').sum()).seasonal['2018-05-21':'2018-05-28'].plot(ax=plt.gca())"
      ]
    },
    {
      "cell_type": "markdown",
      "metadata": {
        "id": "pZDiiXXwXmk1"
      },
      "source": [
        "Пик заказов приходится на пятницу и, как ни странно, на понедельник. Резкий спад - во вторник и вечер воскресенья."
      ]
    },
    {
      "cell_type": "markdown",
      "metadata": {
        "id": "jV-iCbFmXmk1"
      },
      "source": [
        "## Обучение моделей"
      ]
    },
    {
      "cell_type": "markdown",
      "metadata": {
        "id": "mL4eEkM7Xmk1"
      },
      "source": [
        "Можем переходить к обучению моделей."
      ]
    },
    {
      "cell_type": "markdown",
      "metadata": {
        "id": "mVLk2fwzXmlJ"
      },
      "source": [
        "### Подготовка данных к обучению моделей"
      ]
    },
    {
      "cell_type": "markdown",
      "metadata": {
        "id": "0ncQCQlmXmlJ"
      },
      "source": [
        "На предыдущем этапе выявили явное наличие дневной сезонности в периоде недели и зависимости от времени суток. С учётом этого создаём новые признаки, которые понадобятся для дальнейшего обучения моделей: час, день, день недели, скользящее среднее, признак отстающего значения."
      ]
    },
    {
      "cell_type": "code",
      "execution_count": 12,
      "metadata": {
        "id": "PJ1cJmiUXmlK"
      },
      "outputs": [],
      "source": [
        "#значения параментров с учётом выявленных сезонностей\n",
        "data_modified = add_features(data, 20, 50)\n",
        "#удаляем строки  с пропусками в lag_i\n",
        "data_modified = data_modified.dropna()"
      ]
    },
    {
      "cell_type": "markdown",
      "metadata": {
        "id": "xLUIlPZYXmlL"
      },
      "source": [
        "И разбиваем выборку на обучающую, валидационную и тестовую в соотношении 8:1:1.\n",
        "Поскольку это временной ряд - важно запретить перемешивание строк.\n",
        "\n",
        "Сначала откусим тестовую, а потом остальное разобьём на обучающую и валидационную:"
      ]
    },
    {
      "cell_type": "code",
      "execution_count": 13,
      "metadata": {
        "id": "-zEhuZxwXmlL"
      },
      "outputs": [],
      "source": [
        "train_valid, test = train_test_split(data_modified, shuffle=False, test_size=0.1)\n",
        "train, valid = train_test_split(train_valid, shuffle=False, test_size=0.1)\n",
        "\n",
        "features_train = train.drop('num_orders', axis = 1)\n",
        "target_train = train['num_orders']\n",
        "features_valid = valid.drop('num_orders', axis = 1)\n",
        "target_valid = valid['num_orders']\n",
        "features_test = test.drop('num_orders', axis = 1)\n",
        "target_test = test['num_orders']"
      ]
    },
    {
      "cell_type": "markdown",
      "metadata": {
        "id": "K307txCjXmlL"
      },
      "source": [
        "Предварительная подготовка закончена, можем обучать модели.\n",
        "\n",
        "В качестве метрики будем использовать RMSE - по ТЗ он должен не превышать 48 на тестовой выборке."
      ]
    },
    {
      "cell_type": "markdown",
      "metadata": {
        "id": "Tx6l9IaIXmlL"
      },
      "source": [
        "### Линейная регрессия"
      ]
    },
    {
      "cell_type": "code",
      "execution_count": 14,
      "metadata": {
        "id": "i38tIuC5XmlM"
      },
      "outputs": [],
      "source": [
        "model_lr = LinearRegression().fit(features_train, target_train)"
      ]
    },
    {
      "cell_type": "code",
      "execution_count": 15,
      "metadata": {
        "scrolled": true,
        "colab": {
          "base_uri": "https://localhost:8080/"
        },
        "id": "ISYPA881XmlN",
        "outputId": "f14daaad-b1ed-4cec-dd7c-08c80317b7a1"
      },
      "outputs": [
        {
          "output_type": "stream",
          "name": "stdout",
          "text": [
            "RMSE на валидационной выборке для модели линейной регрессии =     37.61452834276079\n"
          ]
        }
      ],
      "source": [
        "print(f'RMSE на валидационной выборке для модели линейной регрессии = \\\n",
        "    {mean_squared_error(target_valid, model_lr.predict(features_valid)) ** .5}')"
      ]
    },
    {
      "cell_type": "markdown",
      "metadata": {
        "id": "TvU6fCifXmlN"
      },
      "source": [
        "Неплохо - и даже удовлетворяет условию. Однако посмотрим, получитсяли снизить значение выбранной метрики подбором параметров функции создания признаков - размером максимального смещения и шириной окна:"
      ]
    },
    {
      "cell_type": "code",
      "execution_count": 16,
      "metadata": {
        "id": "JRdxYKYvXmlO"
      },
      "outputs": [],
      "source": [
        "lag_lr = 0\n",
        "rolling_lr = 0\n",
        "rmse_lr = 48\n",
        "model_lr_best = LinearRegression()\n",
        "\n",
        "for lag in range(1, 101, 10):\n",
        "    for roll_size in range(1, 101, 10):\n",
        "        data_modified = add_features(data, lag, roll_size)\n",
        "        data_modified = data_modified.dropna()\n",
        "\n",
        "        train_valid, test = train_test_split(data_modified, shuffle=False, test_size=0.1)\n",
        "        train, valid = train_test_split(train_valid, shuffle=False, test_size=0.1)\n",
        "\n",
        "        features_train = train.drop('num_orders', axis = 1)\n",
        "        target_train = train['num_orders']\n",
        "        features_valid = valid.drop('num_orders', axis = 1)\n",
        "        target_valid = valid['num_orders']\n",
        "        features_test = test.drop('num_orders', axis = 1)\n",
        "        target_test = test['num_orders']\n",
        "\n",
        "        model_lr = LinearRegression().fit(features_train, target_train)\n",
        "        rmse = mean_squared_error(target_valid, model_lr.predict(features_valid)) ** 0.5\n",
        "\n",
        "        if rmse < rmse_lr:\n",
        "            rmse_lr = rmse\n",
        "            lag_lr = lag\n",
        "            rolling_lr = roll_size\n",
        "            model_lr_best = model_lr\n",
        "\n",
        ""
      ]
    },
    {
      "cell_type": "code",
      "execution_count": 17,
      "metadata": {
        "colab": {
          "base_uri": "https://localhost:8080/"
        },
        "id": "rHYjYb1OXmlO",
        "outputId": "2be03b12-9225-4229-8180-441326a52097"
      },
      "outputs": [
        {
          "output_type": "stream",
          "name": "stdout",
          "text": [
            "Минимальное RMSE для модели линейной регрессии на валидационной выборке = 30.05383778656571,     максимальное смещение = 81, размер окна = 91\n"
          ]
        }
      ],
      "source": [
        "print(f'Минимальное RMSE для модели линейной регрессии на валидационной выборке = {rmse_lr}, \\\n",
        "    максимальное смещение = {lag_lr}, размер окна = {rolling_lr}')"
      ]
    },
    {
      "cell_type": "markdown",
      "metadata": {
        "id": "6u5w5FXxXmlP"
      },
      "source": [
        "С помощью более тщательного подроба параметров создания признаков удалось несколько уменьшить метрику"
      ]
    },
    {
      "cell_type": "markdown",
      "metadata": {
        "id": "pPg1m_HRXmlP"
      },
      "source": [
        "### Lasso"
      ]
    },
    {
      "cell_type": "markdown",
      "metadata": {
        "id": "q-xAybgoXmlP"
      },
      "source": [
        "Сравним линейную регрессиию с моделью из того же модуля sklearn - Lasso. Регрессоры вроде случайного леса, CatBoost и тд в рамках данного проекта трогать не будем - в них нужно оптимизировать гиперпараметры обучения модели, если прибавить сюда гиперпараметры создания признаков - получится задача поиска минимума в четырёхмерном пространстве. У модели Lasso всего один гиперпараметр:"
      ]
    },
    {
      "cell_type": "code",
      "execution_count": 18,
      "metadata": {
        "colab": {
          "base_uri": "https://localhost:8080/"
        },
        "id": "Da4SUh5ZXmlP",
        "outputId": "26621495-5e30-4cee-d53e-db7498c0aaae"
      },
      "outputs": [
        {
          "output_type": "stream",
          "name": "stdout",
          "text": [
            "1 1 0.1\n",
            "1 1 0.2\n",
            "1 1 0.30000000000000004\n",
            "1 1 0.4\n",
            "1 1 0.5\n",
            "1 1 0.6\n",
            "1 1 0.7000000000000001\n",
            "1 1 0.8\n",
            "1 1 0.9\n",
            "1 11 0.1\n",
            "1 11 0.2\n",
            "1 11 0.30000000000000004\n",
            "1 11 0.4\n",
            "1 11 0.5\n",
            "1 11 0.6\n",
            "1 11 0.7000000000000001\n",
            "1 11 0.8\n",
            "1 11 0.9\n",
            "1 21 0.1\n",
            "1 21 0.2\n",
            "1 21 0.30000000000000004\n",
            "1 21 0.4\n",
            "1 21 0.5\n",
            "1 21 0.6\n",
            "1 21 0.7000000000000001\n",
            "1 21 0.8\n",
            "1 21 0.9\n",
            "1 31 0.1\n",
            "1 31 0.2\n",
            "1 31 0.30000000000000004\n",
            "1 31 0.4\n",
            "1 31 0.5\n",
            "1 31 0.6\n",
            "1 31 0.7000000000000001\n",
            "1 31 0.8\n",
            "1 31 0.9\n",
            "1 41 0.1\n",
            "1 41 0.2\n",
            "1 41 0.30000000000000004\n",
            "1 41 0.4\n",
            "1 41 0.5\n",
            "1 41 0.6\n",
            "1 41 0.7000000000000001\n",
            "1 41 0.8\n",
            "1 41 0.9\n",
            "1 51 0.1\n",
            "1 51 0.2\n",
            "1 51 0.30000000000000004\n",
            "1 51 0.4\n",
            "1 51 0.5\n",
            "1 51 0.6\n",
            "1 51 0.7000000000000001\n",
            "1 51 0.8\n",
            "1 51 0.9\n",
            "1 61 0.1\n",
            "1 61 0.2\n",
            "1 61 0.30000000000000004\n",
            "1 61 0.4\n",
            "1 61 0.5\n",
            "1 61 0.6\n",
            "1 61 0.7000000000000001\n",
            "1 61 0.8\n",
            "1 61 0.9\n",
            "1 71 0.1\n",
            "1 71 0.2\n",
            "1 71 0.30000000000000004\n",
            "1 71 0.4\n",
            "1 71 0.5\n",
            "1 71 0.6\n",
            "1 71 0.7000000000000001\n",
            "1 71 0.8\n",
            "1 71 0.9\n",
            "1 81 0.1\n",
            "1 81 0.2\n",
            "1 81 0.30000000000000004\n",
            "1 81 0.4\n",
            "1 81 0.5\n",
            "1 81 0.6\n",
            "1 81 0.7000000000000001\n",
            "1 81 0.8\n",
            "1 81 0.9\n",
            "1 91 0.1\n",
            "1 91 0.2\n",
            "1 91 0.30000000000000004\n",
            "1 91 0.4\n",
            "1 91 0.5\n",
            "1 91 0.6\n",
            "1 91 0.7000000000000001\n",
            "1 91 0.8\n",
            "1 91 0.9\n",
            "11 1 0.1\n",
            "11 1 0.2\n",
            "11 1 0.30000000000000004\n",
            "11 1 0.4\n",
            "11 1 0.5\n",
            "11 1 0.6\n",
            "11 1 0.7000000000000001\n",
            "11 1 0.8\n",
            "11 1 0.9\n",
            "11 11 0.1\n",
            "11 11 0.2\n",
            "11 11 0.30000000000000004\n",
            "11 11 0.4\n",
            "11 11 0.5\n",
            "11 11 0.6\n",
            "11 11 0.7000000000000001\n",
            "11 11 0.8\n",
            "11 11 0.9\n",
            "11 21 0.1\n",
            "11 21 0.2\n",
            "11 21 0.30000000000000004\n",
            "11 21 0.4\n",
            "11 21 0.5\n",
            "11 21 0.6\n",
            "11 21 0.7000000000000001\n",
            "11 21 0.8\n",
            "11 21 0.9\n",
            "11 31 0.1\n",
            "11 31 0.2\n",
            "11 31 0.30000000000000004\n",
            "11 31 0.4\n",
            "11 31 0.5\n",
            "11 31 0.6\n",
            "11 31 0.7000000000000001\n",
            "11 31 0.8\n",
            "11 31 0.9\n",
            "11 41 0.1\n",
            "11 41 0.2\n",
            "11 41 0.30000000000000004\n",
            "11 41 0.4\n",
            "11 41 0.5\n",
            "11 41 0.6\n",
            "11 41 0.7000000000000001\n",
            "11 41 0.8\n",
            "11 41 0.9\n",
            "11 51 0.1\n",
            "11 51 0.2\n",
            "11 51 0.30000000000000004\n",
            "11 51 0.4\n",
            "11 51 0.5\n",
            "11 51 0.6\n",
            "11 51 0.7000000000000001\n",
            "11 51 0.8\n",
            "11 51 0.9\n",
            "11 61 0.1\n",
            "11 61 0.2\n",
            "11 61 0.30000000000000004\n",
            "11 61 0.4\n",
            "11 61 0.5\n",
            "11 61 0.6\n",
            "11 61 0.7000000000000001\n",
            "11 61 0.8\n",
            "11 61 0.9\n",
            "11 71 0.1\n",
            "11 71 0.2\n",
            "11 71 0.30000000000000004\n",
            "11 71 0.4\n",
            "11 71 0.5\n",
            "11 71 0.6\n",
            "11 71 0.7000000000000001\n",
            "11 71 0.8\n",
            "11 71 0.9\n",
            "11 81 0.1\n",
            "11 81 0.2\n",
            "11 81 0.30000000000000004\n",
            "11 81 0.4\n",
            "11 81 0.5\n",
            "11 81 0.6\n",
            "11 81 0.7000000000000001\n",
            "11 81 0.8\n",
            "11 81 0.9\n",
            "11 91 0.1\n",
            "11 91 0.2\n",
            "11 91 0.30000000000000004\n",
            "11 91 0.4\n",
            "11 91 0.5\n",
            "11 91 0.6\n",
            "11 91 0.7000000000000001\n",
            "11 91 0.8\n",
            "11 91 0.9\n",
            "21 1 0.1\n",
            "21 1 0.2\n",
            "21 1 0.30000000000000004\n",
            "21 1 0.4\n",
            "21 1 0.5\n",
            "21 1 0.6\n",
            "21 1 0.7000000000000001\n",
            "21 1 0.8\n",
            "21 1 0.9\n",
            "21 11 0.1\n",
            "21 11 0.2\n",
            "21 11 0.30000000000000004\n",
            "21 11 0.4\n",
            "21 11 0.5\n",
            "21 11 0.6\n",
            "21 11 0.7000000000000001\n",
            "21 11 0.8\n",
            "21 11 0.9\n",
            "21 21 0.1\n",
            "21 21 0.2\n",
            "21 21 0.30000000000000004\n",
            "21 21 0.4\n",
            "21 21 0.5\n",
            "21 21 0.6\n",
            "21 21 0.7000000000000001\n",
            "21 21 0.8\n",
            "21 21 0.9\n",
            "21 31 0.1\n",
            "21 31 0.2\n",
            "21 31 0.30000000000000004\n",
            "21 31 0.4\n",
            "21 31 0.5\n",
            "21 31 0.6\n",
            "21 31 0.7000000000000001\n",
            "21 31 0.8\n",
            "21 31 0.9\n",
            "21 41 0.1\n",
            "21 41 0.2\n",
            "21 41 0.30000000000000004\n",
            "21 41 0.4\n",
            "21 41 0.5\n",
            "21 41 0.6\n",
            "21 41 0.7000000000000001\n",
            "21 41 0.8\n",
            "21 41 0.9\n",
            "21 51 0.1\n",
            "21 51 0.2\n",
            "21 51 0.30000000000000004\n",
            "21 51 0.4\n",
            "21 51 0.5\n",
            "21 51 0.6\n",
            "21 51 0.7000000000000001\n",
            "21 51 0.8\n",
            "21 51 0.9\n",
            "21 61 0.1\n",
            "21 61 0.2\n",
            "21 61 0.30000000000000004\n",
            "21 61 0.4\n",
            "21 61 0.5\n",
            "21 61 0.6\n",
            "21 61 0.7000000000000001\n",
            "21 61 0.8\n",
            "21 61 0.9\n",
            "21 71 0.1\n",
            "21 71 0.2\n",
            "21 71 0.30000000000000004\n",
            "21 71 0.4\n",
            "21 71 0.5\n",
            "21 71 0.6\n",
            "21 71 0.7000000000000001\n",
            "21 71 0.8\n",
            "21 71 0.9\n",
            "21 81 0.1\n",
            "21 81 0.2\n",
            "21 81 0.30000000000000004\n",
            "21 81 0.4\n",
            "21 81 0.5\n",
            "21 81 0.6\n",
            "21 81 0.7000000000000001\n",
            "21 81 0.8\n",
            "21 81 0.9\n",
            "21 91 0.1\n",
            "21 91 0.2\n",
            "21 91 0.30000000000000004\n",
            "21 91 0.4\n",
            "21 91 0.5\n",
            "21 91 0.6\n",
            "21 91 0.7000000000000001\n",
            "21 91 0.8\n",
            "21 91 0.9\n",
            "31 1 0.1\n",
            "31 1 0.2\n",
            "31 1 0.30000000000000004\n",
            "31 1 0.4\n",
            "31 1 0.5\n",
            "31 1 0.6\n",
            "31 1 0.7000000000000001\n",
            "31 1 0.8\n",
            "31 1 0.9\n",
            "31 11 0.1\n",
            "31 11 0.2\n",
            "31 11 0.30000000000000004\n",
            "31 11 0.4\n",
            "31 11 0.5\n",
            "31 11 0.6\n",
            "31 11 0.7000000000000001\n",
            "31 11 0.8\n",
            "31 11 0.9\n",
            "31 21 0.1\n",
            "31 21 0.2\n",
            "31 21 0.30000000000000004\n",
            "31 21 0.4\n",
            "31 21 0.5\n",
            "31 21 0.6\n",
            "31 21 0.7000000000000001\n",
            "31 21 0.8\n",
            "31 21 0.9\n",
            "31 31 0.1\n",
            "31 31 0.2\n",
            "31 31 0.30000000000000004\n",
            "31 31 0.4\n",
            "31 31 0.5\n",
            "31 31 0.6\n",
            "31 31 0.7000000000000001\n",
            "31 31 0.8\n",
            "31 31 0.9\n",
            "31 41 0.1\n",
            "31 41 0.2\n",
            "31 41 0.30000000000000004\n",
            "31 41 0.4\n",
            "31 41 0.5\n",
            "31 41 0.6\n",
            "31 41 0.7000000000000001\n",
            "31 41 0.8\n",
            "31 41 0.9\n",
            "31 51 0.1\n",
            "31 51 0.2\n",
            "31 51 0.30000000000000004\n",
            "31 51 0.4\n",
            "31 51 0.5\n",
            "31 51 0.6\n",
            "31 51 0.7000000000000001\n",
            "31 51 0.8\n",
            "31 51 0.9\n",
            "31 61 0.1\n",
            "31 61 0.2\n",
            "31 61 0.30000000000000004\n",
            "31 61 0.4\n",
            "31 61 0.5\n",
            "31 61 0.6\n",
            "31 61 0.7000000000000001\n",
            "31 61 0.8\n",
            "31 61 0.9\n",
            "31 71 0.1\n",
            "31 71 0.2\n",
            "31 71 0.30000000000000004\n",
            "31 71 0.4\n",
            "31 71 0.5\n",
            "31 71 0.6\n",
            "31 71 0.7000000000000001\n",
            "31 71 0.8\n",
            "31 71 0.9\n",
            "31 81 0.1\n",
            "31 81 0.2\n",
            "31 81 0.30000000000000004\n",
            "31 81 0.4\n",
            "31 81 0.5\n",
            "31 81 0.6\n",
            "31 81 0.7000000000000001\n",
            "31 81 0.8\n",
            "31 81 0.9\n",
            "31 91 0.1\n",
            "31 91 0.2\n",
            "31 91 0.30000000000000004\n",
            "31 91 0.4\n",
            "31 91 0.5\n",
            "31 91 0.6\n",
            "31 91 0.7000000000000001\n",
            "31 91 0.8\n",
            "31 91 0.9\n",
            "41 1 0.1\n",
            "41 1 0.2\n",
            "41 1 0.30000000000000004\n",
            "41 1 0.4\n",
            "41 1 0.5\n",
            "41 1 0.6\n",
            "41 1 0.7000000000000001\n",
            "41 1 0.8\n",
            "41 1 0.9\n",
            "41 11 0.1\n",
            "41 11 0.2\n",
            "41 11 0.30000000000000004\n",
            "41 11 0.4\n",
            "41 11 0.5\n",
            "41 11 0.6\n",
            "41 11 0.7000000000000001\n",
            "41 11 0.8\n",
            "41 11 0.9\n",
            "41 21 0.1\n",
            "41 21 0.2\n",
            "41 21 0.30000000000000004\n",
            "41 21 0.4\n",
            "41 21 0.5\n",
            "41 21 0.6\n",
            "41 21 0.7000000000000001\n",
            "41 21 0.8\n",
            "41 21 0.9\n",
            "41 31 0.1\n",
            "41 31 0.2\n",
            "41 31 0.30000000000000004\n",
            "41 31 0.4\n",
            "41 31 0.5\n",
            "41 31 0.6\n",
            "41 31 0.7000000000000001\n",
            "41 31 0.8\n",
            "41 31 0.9\n",
            "41 41 0.1\n",
            "41 41 0.2\n",
            "41 41 0.30000000000000004\n",
            "41 41 0.4\n",
            "41 41 0.5\n",
            "41 41 0.6\n",
            "41 41 0.7000000000000001\n",
            "41 41 0.8\n",
            "41 41 0.9\n",
            "41 51 0.1\n",
            "41 51 0.2\n",
            "41 51 0.30000000000000004\n",
            "41 51 0.4\n",
            "41 51 0.5\n",
            "41 51 0.6\n",
            "41 51 0.7000000000000001\n",
            "41 51 0.8\n",
            "41 51 0.9\n",
            "41 61 0.1\n",
            "41 61 0.2\n",
            "41 61 0.30000000000000004\n",
            "41 61 0.4\n",
            "41 61 0.5\n",
            "41 61 0.6\n",
            "41 61 0.7000000000000001\n",
            "41 61 0.8\n",
            "41 61 0.9\n",
            "41 71 0.1\n",
            "41 71 0.2\n",
            "41 71 0.30000000000000004\n",
            "41 71 0.4\n",
            "41 71 0.5\n",
            "41 71 0.6\n",
            "41 71 0.7000000000000001\n",
            "41 71 0.8\n",
            "41 71 0.9\n",
            "41 81 0.1\n",
            "41 81 0.2\n",
            "41 81 0.30000000000000004\n",
            "41 81 0.4\n",
            "41 81 0.5\n",
            "41 81 0.6\n",
            "41 81 0.7000000000000001\n",
            "41 81 0.8\n",
            "41 81 0.9\n",
            "41 91 0.1\n",
            "41 91 0.2\n",
            "41 91 0.30000000000000004\n",
            "41 91 0.4\n",
            "41 91 0.5\n",
            "41 91 0.6\n",
            "41 91 0.7000000000000001\n",
            "41 91 0.8\n",
            "41 91 0.9\n",
            "51 1 0.1\n",
            "51 1 0.2\n",
            "51 1 0.30000000000000004\n",
            "51 1 0.4\n",
            "51 1 0.5\n",
            "51 1 0.6\n",
            "51 1 0.7000000000000001\n",
            "51 1 0.8\n",
            "51 1 0.9\n",
            "51 11 0.1\n",
            "51 11 0.2\n",
            "51 11 0.30000000000000004\n",
            "51 11 0.4\n",
            "51 11 0.5\n",
            "51 11 0.6\n",
            "51 11 0.7000000000000001\n",
            "51 11 0.8\n",
            "51 11 0.9\n",
            "51 21 0.1\n",
            "51 21 0.2\n",
            "51 21 0.30000000000000004\n",
            "51 21 0.4\n",
            "51 21 0.5\n",
            "51 21 0.6\n",
            "51 21 0.7000000000000001\n",
            "51 21 0.8\n",
            "51 21 0.9\n",
            "51 31 0.1\n",
            "51 31 0.2\n",
            "51 31 0.30000000000000004\n",
            "51 31 0.4\n",
            "51 31 0.5\n",
            "51 31 0.6\n",
            "51 31 0.7000000000000001\n",
            "51 31 0.8\n",
            "51 31 0.9\n",
            "51 41 0.1\n",
            "51 41 0.2\n",
            "51 41 0.30000000000000004\n",
            "51 41 0.4\n",
            "51 41 0.5\n",
            "51 41 0.6\n",
            "51 41 0.7000000000000001\n",
            "51 41 0.8\n",
            "51 41 0.9\n",
            "51 51 0.1\n",
            "51 51 0.2\n",
            "51 51 0.30000000000000004\n",
            "51 51 0.4\n",
            "51 51 0.5\n",
            "51 51 0.6\n",
            "51 51 0.7000000000000001\n",
            "51 51 0.8\n",
            "51 51 0.9\n",
            "51 61 0.1\n",
            "51 61 0.2\n",
            "51 61 0.30000000000000004\n",
            "51 61 0.4\n",
            "51 61 0.5\n",
            "51 61 0.6\n",
            "51 61 0.7000000000000001\n",
            "51 61 0.8\n",
            "51 61 0.9\n",
            "51 71 0.1\n",
            "51 71 0.2\n",
            "51 71 0.30000000000000004\n",
            "51 71 0.4\n",
            "51 71 0.5\n",
            "51 71 0.6\n",
            "51 71 0.7000000000000001\n",
            "51 71 0.8\n",
            "51 71 0.9\n",
            "51 81 0.1\n",
            "51 81 0.2\n",
            "51 81 0.30000000000000004\n",
            "51 81 0.4\n",
            "51 81 0.5\n",
            "51 81 0.6\n",
            "51 81 0.7000000000000001\n",
            "51 81 0.8\n",
            "51 81 0.9\n",
            "51 91 0.1\n",
            "51 91 0.2\n",
            "51 91 0.30000000000000004\n",
            "51 91 0.4\n",
            "51 91 0.5\n",
            "51 91 0.6\n",
            "51 91 0.7000000000000001\n",
            "51 91 0.8\n",
            "51 91 0.9\n",
            "61 1 0.1\n",
            "61 1 0.2\n",
            "61 1 0.30000000000000004\n",
            "61 1 0.4\n",
            "61 1 0.5\n",
            "61 1 0.6\n",
            "61 1 0.7000000000000001\n",
            "61 1 0.8\n",
            "61 1 0.9\n",
            "61 11 0.1\n",
            "61 11 0.2\n",
            "61 11 0.30000000000000004\n",
            "61 11 0.4\n",
            "61 11 0.5\n",
            "61 11 0.6\n",
            "61 11 0.7000000000000001\n",
            "61 11 0.8\n",
            "61 11 0.9\n",
            "61 21 0.1\n",
            "61 21 0.2\n",
            "61 21 0.30000000000000004\n",
            "61 21 0.4\n",
            "61 21 0.5\n",
            "61 21 0.6\n",
            "61 21 0.7000000000000001\n",
            "61 21 0.8\n",
            "61 21 0.9\n",
            "61 31 0.1\n",
            "61 31 0.2\n",
            "61 31 0.30000000000000004\n",
            "61 31 0.4\n",
            "61 31 0.5\n",
            "61 31 0.6\n",
            "61 31 0.7000000000000001\n",
            "61 31 0.8\n",
            "61 31 0.9\n",
            "61 41 0.1\n",
            "61 41 0.2\n",
            "61 41 0.30000000000000004\n",
            "61 41 0.4\n",
            "61 41 0.5\n",
            "61 41 0.6\n",
            "61 41 0.7000000000000001\n",
            "61 41 0.8\n",
            "61 41 0.9\n",
            "61 51 0.1\n",
            "61 51 0.2\n",
            "61 51 0.30000000000000004\n",
            "61 51 0.4\n",
            "61 51 0.5\n",
            "61 51 0.6\n",
            "61 51 0.7000000000000001\n",
            "61 51 0.8\n",
            "61 51 0.9\n",
            "61 61 0.1\n",
            "61 61 0.2\n",
            "61 61 0.30000000000000004\n",
            "61 61 0.4\n",
            "61 61 0.5\n",
            "61 61 0.6\n",
            "61 61 0.7000000000000001\n",
            "61 61 0.8\n",
            "61 61 0.9\n",
            "61 71 0.1\n",
            "61 71 0.2\n",
            "61 71 0.30000000000000004\n",
            "61 71 0.4\n",
            "61 71 0.5\n",
            "61 71 0.6\n",
            "61 71 0.7000000000000001\n",
            "61 71 0.8\n",
            "61 71 0.9\n",
            "61 81 0.1\n",
            "61 81 0.2\n",
            "61 81 0.30000000000000004\n",
            "61 81 0.4\n",
            "61 81 0.5\n",
            "61 81 0.6\n",
            "61 81 0.7000000000000001\n",
            "61 81 0.8\n",
            "61 81 0.9\n",
            "61 91 0.1\n",
            "61 91 0.2\n",
            "61 91 0.30000000000000004\n",
            "61 91 0.4\n",
            "61 91 0.5\n",
            "61 91 0.6\n",
            "61 91 0.7000000000000001\n",
            "61 91 0.8\n",
            "61 91 0.9\n",
            "71 1 0.1\n",
            "71 1 0.2\n",
            "71 1 0.30000000000000004\n",
            "71 1 0.4\n",
            "71 1 0.5\n",
            "71 1 0.6\n",
            "71 1 0.7000000000000001\n",
            "71 1 0.8\n",
            "71 1 0.9\n",
            "71 11 0.1\n",
            "71 11 0.2\n",
            "71 11 0.30000000000000004\n",
            "71 11 0.4\n",
            "71 11 0.5\n",
            "71 11 0.6\n",
            "71 11 0.7000000000000001\n",
            "71 11 0.8\n",
            "71 11 0.9\n",
            "71 21 0.1\n",
            "71 21 0.2\n",
            "71 21 0.30000000000000004\n",
            "71 21 0.4\n",
            "71 21 0.5\n",
            "71 21 0.6\n",
            "71 21 0.7000000000000001\n",
            "71 21 0.8\n",
            "71 21 0.9\n",
            "71 31 0.1\n",
            "71 31 0.2\n",
            "71 31 0.30000000000000004\n",
            "71 31 0.4\n",
            "71 31 0.5\n",
            "71 31 0.6\n",
            "71 31 0.7000000000000001\n",
            "71 31 0.8\n",
            "71 31 0.9\n",
            "71 41 0.1\n",
            "71 41 0.2\n",
            "71 41 0.30000000000000004\n",
            "71 41 0.4\n",
            "71 41 0.5\n",
            "71 41 0.6\n",
            "71 41 0.7000000000000001\n",
            "71 41 0.8\n",
            "71 41 0.9\n",
            "71 51 0.1\n",
            "71 51 0.2\n",
            "71 51 0.30000000000000004\n",
            "71 51 0.4\n",
            "71 51 0.5\n",
            "71 51 0.6\n",
            "71 51 0.7000000000000001\n",
            "71 51 0.8\n",
            "71 51 0.9\n",
            "71 61 0.1\n",
            "71 61 0.2\n",
            "71 61 0.30000000000000004\n",
            "71 61 0.4\n",
            "71 61 0.5\n",
            "71 61 0.6\n",
            "71 61 0.7000000000000001\n",
            "71 61 0.8\n",
            "71 61 0.9\n",
            "71 71 0.1\n",
            "71 71 0.2\n",
            "71 71 0.30000000000000004\n",
            "71 71 0.4\n",
            "71 71 0.5\n",
            "71 71 0.6\n",
            "71 71 0.7000000000000001\n",
            "71 71 0.8\n",
            "71 71 0.9\n",
            "71 81 0.1\n",
            "71 81 0.2\n",
            "71 81 0.30000000000000004\n",
            "71 81 0.4\n",
            "71 81 0.5\n",
            "71 81 0.6\n",
            "71 81 0.7000000000000001\n",
            "71 81 0.8\n",
            "71 81 0.9\n",
            "71 91 0.1\n",
            "71 91 0.2\n",
            "71 91 0.30000000000000004\n",
            "71 91 0.4\n",
            "71 91 0.5\n",
            "71 91 0.6\n",
            "71 91 0.7000000000000001\n",
            "71 91 0.8\n",
            "71 91 0.9\n",
            "81 1 0.1\n",
            "81 1 0.2\n",
            "81 1 0.30000000000000004\n",
            "81 1 0.4\n",
            "81 1 0.5\n",
            "81 1 0.6\n",
            "81 1 0.7000000000000001\n",
            "81 1 0.8\n",
            "81 1 0.9\n",
            "81 11 0.1\n",
            "81 11 0.2\n",
            "81 11 0.30000000000000004\n",
            "81 11 0.4\n",
            "81 11 0.5\n",
            "81 11 0.6\n",
            "81 11 0.7000000000000001\n",
            "81 11 0.8\n",
            "81 11 0.9\n",
            "81 21 0.1\n",
            "81 21 0.2\n",
            "81 21 0.30000000000000004\n",
            "81 21 0.4\n",
            "81 21 0.5\n",
            "81 21 0.6\n",
            "81 21 0.7000000000000001\n",
            "81 21 0.8\n",
            "81 21 0.9\n",
            "81 31 0.1\n",
            "81 31 0.2\n",
            "81 31 0.30000000000000004\n",
            "81 31 0.4\n",
            "81 31 0.5\n",
            "81 31 0.6\n",
            "81 31 0.7000000000000001\n",
            "81 31 0.8\n",
            "81 31 0.9\n",
            "81 41 0.1\n",
            "81 41 0.2\n",
            "81 41 0.30000000000000004\n",
            "81 41 0.4\n",
            "81 41 0.5\n",
            "81 41 0.6\n",
            "81 41 0.7000000000000001\n",
            "81 41 0.8\n",
            "81 41 0.9\n",
            "81 51 0.1\n",
            "81 51 0.2\n",
            "81 51 0.30000000000000004\n",
            "81 51 0.4\n",
            "81 51 0.5\n",
            "81 51 0.6\n",
            "81 51 0.7000000000000001\n",
            "81 51 0.8\n",
            "81 51 0.9\n",
            "81 61 0.1\n",
            "81 61 0.2\n",
            "81 61 0.30000000000000004\n",
            "81 61 0.4\n",
            "81 61 0.5\n",
            "81 61 0.6\n",
            "81 61 0.7000000000000001\n",
            "81 61 0.8\n",
            "81 61 0.9\n",
            "81 71 0.1\n",
            "81 71 0.2\n",
            "81 71 0.30000000000000004\n",
            "81 71 0.4\n",
            "81 71 0.5\n",
            "81 71 0.6\n",
            "81 71 0.7000000000000001\n",
            "81 71 0.8\n",
            "81 71 0.9\n",
            "81 81 0.1\n",
            "81 81 0.2\n",
            "81 81 0.30000000000000004\n",
            "81 81 0.4\n",
            "81 81 0.5\n",
            "81 81 0.6\n",
            "81 81 0.7000000000000001\n",
            "81 81 0.8\n",
            "81 81 0.9\n",
            "81 91 0.1\n",
            "81 91 0.2\n",
            "81 91 0.30000000000000004\n",
            "81 91 0.4\n",
            "81 91 0.5\n",
            "81 91 0.6\n",
            "81 91 0.7000000000000001\n",
            "81 91 0.8\n",
            "81 91 0.9\n",
            "91 1 0.1\n",
            "91 1 0.2\n",
            "91 1 0.30000000000000004\n",
            "91 1 0.4\n",
            "91 1 0.5\n",
            "91 1 0.6\n",
            "91 1 0.7000000000000001\n",
            "91 1 0.8\n",
            "91 1 0.9\n",
            "91 11 0.1\n",
            "91 11 0.2\n",
            "91 11 0.30000000000000004\n",
            "91 11 0.4\n",
            "91 11 0.5\n",
            "91 11 0.6\n",
            "91 11 0.7000000000000001\n",
            "91 11 0.8\n",
            "91 11 0.9\n",
            "91 21 0.1\n",
            "91 21 0.2\n",
            "91 21 0.30000000000000004\n",
            "91 21 0.4\n",
            "91 21 0.5\n",
            "91 21 0.6\n",
            "91 21 0.7000000000000001\n",
            "91 21 0.8\n",
            "91 21 0.9\n",
            "91 31 0.1\n",
            "91 31 0.2\n",
            "91 31 0.30000000000000004\n",
            "91 31 0.4\n",
            "91 31 0.5\n",
            "91 31 0.6\n",
            "91 31 0.7000000000000001\n",
            "91 31 0.8\n",
            "91 31 0.9\n",
            "91 41 0.1\n",
            "91 41 0.2\n",
            "91 41 0.30000000000000004\n",
            "91 41 0.4\n",
            "91 41 0.5\n",
            "91 41 0.6\n",
            "91 41 0.7000000000000001\n",
            "91 41 0.8\n",
            "91 41 0.9\n",
            "91 51 0.1\n",
            "91 51 0.2\n",
            "91 51 0.30000000000000004\n",
            "91 51 0.4\n",
            "91 51 0.5\n",
            "91 51 0.6\n",
            "91 51 0.7000000000000001\n",
            "91 51 0.8\n",
            "91 51 0.9\n",
            "91 61 0.1\n",
            "91 61 0.2\n",
            "91 61 0.30000000000000004\n",
            "91 61 0.4\n",
            "91 61 0.5\n",
            "91 61 0.6\n",
            "91 61 0.7000000000000001\n",
            "91 61 0.8\n",
            "91 61 0.9\n",
            "91 71 0.1\n",
            "91 71 0.2\n",
            "91 71 0.30000000000000004\n",
            "91 71 0.4\n",
            "91 71 0.5\n",
            "91 71 0.6\n",
            "91 71 0.7000000000000001\n",
            "91 71 0.8\n",
            "91 71 0.9\n",
            "91 81 0.1\n",
            "91 81 0.2\n",
            "91 81 0.30000000000000004\n",
            "91 81 0.4\n",
            "91 81 0.5\n",
            "91 81 0.6\n",
            "91 81 0.7000000000000001\n",
            "91 81 0.8\n",
            "91 81 0.9\n",
            "91 91 0.1\n",
            "91 91 0.2\n",
            "91 91 0.30000000000000004\n",
            "91 91 0.4\n",
            "91 91 0.5\n",
            "91 91 0.6\n",
            "91 91 0.7000000000000001\n",
            "91 91 0.8\n",
            "91 91 0.9\n"
          ]
        }
      ],
      "source": [
        "lag_lasso = 0\n",
        "rolling_lasso = 0\n",
        "rmse_lasso = 48\n",
        "\n",
        "for lag in range(1, 101, 10):\n",
        "    for roll_size in range(1, 101, 10):\n",
        "        for alpha in np.arange(0.1, 1, 0.1):\n",
        "            print(lag, roll_size, alpha)\n",
        "            data_modified = add_features(data, lag, roll_size)\n",
        "            data_modified = data_modified.dropna()\n",
        "\n",
        "            train_valid, test = train_test_split(data_modified, shuffle=False, test_size=0.1)\n",
        "            train, valid = train_test_split(train_valid, shuffle=False, test_size=0.1)\n",
        "\n",
        "            features_train = train.drop('num_orders', axis = 1)\n",
        "            target_train = train['num_orders']\n",
        "            features_valid = valid.drop('num_orders', axis = 1)\n",
        "            target_valid = valid['num_orders']\n",
        "            features_test = test.drop('num_orders', axis = 1)\n",
        "            target_test = test['num_orders']\n",
        "\n",
        "            model_lasso = Lasso(alpha=alpha).fit(features_train, target_train)\n",
        "            rmse = mean_squared_error(target_valid, model_lasso.predict(features_valid)) ** 0.5\n",
        "\n",
        "            if rmse < rmse_lasso:\n",
        "                rmse_lasso = rmse\n",
        "                lag_lasso = lag\n",
        "                rolling_lasso = roll_size\n",
        "\n",
        ""
      ]
    },
    {
      "cell_type": "code",
      "execution_count": 19,
      "metadata": {
        "colab": {
          "base_uri": "https://localhost:8080/"
        },
        "id": "AzUbGQGmXmlQ",
        "outputId": "850d15b7-822e-42d5-a803-ba4e1946caed"
      },
      "outputs": [
        {
          "output_type": "stream",
          "name": "stdout",
          "text": [
            "Минимальное RMSE для модели Lasso на тестовой выборке = 30.063665969287044,     максимальное смещение = 1, размер окна = 71\n"
          ]
        }
      ],
      "source": [
        "print(f'Минимальное RMSE для модели Lasso на тестовой выборке = {rmse_lasso}, \\\n",
        "    максимальное смещение = {lag_lasso}, размер окна = {rolling_lasso}')"
      ]
    },
    {
      "cell_type": "markdown",
      "metadata": {
        "id": "WMVOCUtyXmlR"
      },
      "source": [
        "Вывод: были обучены две модели - линейная регрессия и модель Lasso. Там, где это возможно, проведэн подбор гиперпараметра. В рамках обучения моделей проведен подбор параметов создания признаков через призму минимизации выбранной метрики."
      ]
    },
    {
      "cell_type": "markdown",
      "metadata": {
        "id": "Mgizfi4EXmlR"
      },
      "source": [
        "## Тестирование"
      ]
    },
    {
      "cell_type": "markdown",
      "metadata": {
        "id": "GSePw8UkXmlS"
      },
      "source": [
        "В качестве тестирования получившихся моделей сравним метрики с предказанием по медиане и по предыдущему значению:"
      ]
    },
    {
      "cell_type": "code",
      "execution_count": 20,
      "metadata": {
        "colab": {
          "base_uri": "https://localhost:8080/"
        },
        "id": "bhFzQi8SXmlS",
        "outputId": "90695428-f0c4-41b3-9c69-dcb49e94483b"
      },
      "outputs": [
        {
          "output_type": "stream",
          "name": "stdout",
          "text": [
            "RMSE медианной модели: 45.94216192068119\n"
          ]
        }
      ],
      "source": [
        "pred_mean = np.ones(target_valid.shape) * target_valid.mean()\n",
        "rmse_median = mean_squared_error(target_valid, pred_mean) ** 0.5\n",
        "print(\"RMSE медианной модели:\", rmse_median)"
      ]
    },
    {
      "cell_type": "code",
      "execution_count": 21,
      "metadata": {
        "colab": {
          "base_uri": "https://localhost:8080/"
        },
        "id": "QMYev-B7XmlS",
        "outputId": "34fbb785-a3e5-446d-fa55-b90e16d4612b"
      },
      "outputs": [
        {
          "output_type": "stream",
          "name": "stdout",
          "text": [
            "RMSE предсказания по предыдущему значению: 45.18805930341496\n"
          ]
        }
      ],
      "source": [
        "pred_previous = valid.shift()\n",
        "pred_previous.iloc[0] = train.iloc[-1]\n",
        "rmse_previous =  mean_squared_error(valid, pred_previous) ** 0.5\n",
        "print(\"RMSE предсказания по предыдущему значению:\", rmse_previous)"
      ]
    },
    {
      "cell_type": "markdown",
      "metadata": {
        "id": "2wPX3MflXmlT"
      },
      "source": [
        "Сведём все полученные результаты в таблицу:"
      ]
    },
    {
      "cell_type": "code",
      "execution_count": 22,
      "metadata": {
        "id": "z_iifHJBXmlT"
      },
      "outputs": [],
      "source": [
        "models_rmse = pd.DataFrame({\n",
        "    'Model': ['LinearRegression', 'Lasso', 'Median', 'Previous'],\n",
        "    'RMSE': [rmse_lr, rmse_lasso, rmse_median, rmse_previous],\n",
        "})"
      ]
    },
    {
      "cell_type": "code",
      "execution_count": 23,
      "metadata": {
        "scrolled": true,
        "colab": {
          "base_uri": "https://localhost:8080/",
          "height": 175
        },
        "id": "jP-pPlu3XmlT",
        "outputId": "cf122fed-e648-4153-8545-42fa7a895fc6"
      },
      "outputs": [
        {
          "output_type": "execute_result",
          "data": {
            "text/plain": [
              "              Model       RMSE\n",
              "0  LinearRegression  30.053838\n",
              "1             Lasso  30.063666\n",
              "2            Median  45.942162\n",
              "3          Previous  45.188059"
            ],
            "text/html": [
              "\n",
              "\n",
              "  <div id=\"df-46aa3bb2-5aa0-484b-9962-3162274c6bb7\">\n",
              "    <div class=\"colab-df-container\">\n",
              "      <div>\n",
              "<style scoped>\n",
              "    .dataframe tbody tr th:only-of-type {\n",
              "        vertical-align: middle;\n",
              "    }\n",
              "\n",
              "    .dataframe tbody tr th {\n",
              "        vertical-align: top;\n",
              "    }\n",
              "\n",
              "    .dataframe thead th {\n",
              "        text-align: right;\n",
              "    }\n",
              "</style>\n",
              "<table border=\"1\" class=\"dataframe\">\n",
              "  <thead>\n",
              "    <tr style=\"text-align: right;\">\n",
              "      <th></th>\n",
              "      <th>Model</th>\n",
              "      <th>RMSE</th>\n",
              "    </tr>\n",
              "  </thead>\n",
              "  <tbody>\n",
              "    <tr>\n",
              "      <th>0</th>\n",
              "      <td>LinearRegression</td>\n",
              "      <td>30.053838</td>\n",
              "    </tr>\n",
              "    <tr>\n",
              "      <th>1</th>\n",
              "      <td>Lasso</td>\n",
              "      <td>30.063666</td>\n",
              "    </tr>\n",
              "    <tr>\n",
              "      <th>2</th>\n",
              "      <td>Median</td>\n",
              "      <td>45.942162</td>\n",
              "    </tr>\n",
              "    <tr>\n",
              "      <th>3</th>\n",
              "      <td>Previous</td>\n",
              "      <td>45.188059</td>\n",
              "    </tr>\n",
              "  </tbody>\n",
              "</table>\n",
              "</div>\n",
              "      <button class=\"colab-df-convert\" onclick=\"convertToInteractive('df-46aa3bb2-5aa0-484b-9962-3162274c6bb7')\"\n",
              "              title=\"Convert this dataframe to an interactive table.\"\n",
              "              style=\"display:none;\">\n",
              "\n",
              "  <svg xmlns=\"http://www.w3.org/2000/svg\" height=\"24px\"viewBox=\"0 0 24 24\"\n",
              "       width=\"24px\">\n",
              "    <path d=\"M0 0h24v24H0V0z\" fill=\"none\"/>\n",
              "    <path d=\"M18.56 5.44l.94 2.06.94-2.06 2.06-.94-2.06-.94-.94-2.06-.94 2.06-2.06.94zm-11 1L8.5 8.5l.94-2.06 2.06-.94-2.06-.94L8.5 2.5l-.94 2.06-2.06.94zm10 10l.94 2.06.94-2.06 2.06-.94-2.06-.94-.94-2.06-.94 2.06-2.06.94z\"/><path d=\"M17.41 7.96l-1.37-1.37c-.4-.4-.92-.59-1.43-.59-.52 0-1.04.2-1.43.59L10.3 9.45l-7.72 7.72c-.78.78-.78 2.05 0 2.83L4 21.41c.39.39.9.59 1.41.59.51 0 1.02-.2 1.41-.59l7.78-7.78 2.81-2.81c.8-.78.8-2.07 0-2.86zM5.41 20L4 18.59l7.72-7.72 1.47 1.35L5.41 20z\"/>\n",
              "  </svg>\n",
              "      </button>\n",
              "\n",
              "\n",
              "\n",
              "    <div id=\"df-020fbf9e-b062-4689-8681-ed580f30d307\">\n",
              "      <button class=\"colab-df-quickchart\" onclick=\"quickchart('df-020fbf9e-b062-4689-8681-ed580f30d307')\"\n",
              "              title=\"Suggest charts.\"\n",
              "              style=\"display:none;\">\n",
              "\n",
              "<svg xmlns=\"http://www.w3.org/2000/svg\" height=\"24px\"viewBox=\"0 0 24 24\"\n",
              "     width=\"24px\">\n",
              "    <g>\n",
              "        <path d=\"M19 3H5c-1.1 0-2 .9-2 2v14c0 1.1.9 2 2 2h14c1.1 0 2-.9 2-2V5c0-1.1-.9-2-2-2zM9 17H7v-7h2v7zm4 0h-2V7h2v10zm4 0h-2v-4h2v4z\"/>\n",
              "    </g>\n",
              "</svg>\n",
              "      </button>\n",
              "    </div>\n",
              "\n",
              "<style>\n",
              "  .colab-df-quickchart {\n",
              "    background-color: #E8F0FE;\n",
              "    border: none;\n",
              "    border-radius: 50%;\n",
              "    cursor: pointer;\n",
              "    display: none;\n",
              "    fill: #1967D2;\n",
              "    height: 32px;\n",
              "    padding: 0 0 0 0;\n",
              "    width: 32px;\n",
              "  }\n",
              "\n",
              "  .colab-df-quickchart:hover {\n",
              "    background-color: #E2EBFA;\n",
              "    box-shadow: 0px 1px 2px rgba(60, 64, 67, 0.3), 0px 1px 3px 1px rgba(60, 64, 67, 0.15);\n",
              "    fill: #174EA6;\n",
              "  }\n",
              "\n",
              "  [theme=dark] .colab-df-quickchart {\n",
              "    background-color: #3B4455;\n",
              "    fill: #D2E3FC;\n",
              "  }\n",
              "\n",
              "  [theme=dark] .colab-df-quickchart:hover {\n",
              "    background-color: #434B5C;\n",
              "    box-shadow: 0px 1px 3px 1px rgba(0, 0, 0, 0.15);\n",
              "    filter: drop-shadow(0px 1px 2px rgba(0, 0, 0, 0.3));\n",
              "    fill: #FFFFFF;\n",
              "  }\n",
              "</style>\n",
              "\n",
              "    <script>\n",
              "      async function quickchart(key) {\n",
              "        const containerElement = document.querySelector('#' + key);\n",
              "        const charts = await google.colab.kernel.invokeFunction(\n",
              "            'suggestCharts', [key], {});\n",
              "      }\n",
              "    </script>\n",
              "\n",
              "      <script>\n",
              "\n",
              "function displayQuickchartButton(domScope) {\n",
              "  let quickchartButtonEl =\n",
              "    domScope.querySelector('#df-020fbf9e-b062-4689-8681-ed580f30d307 button.colab-df-quickchart');\n",
              "  quickchartButtonEl.style.display =\n",
              "    google.colab.kernel.accessAllowed ? 'block' : 'none';\n",
              "}\n",
              "\n",
              "        displayQuickchartButton(document);\n",
              "      </script>\n",
              "      <style>\n",
              "    .colab-df-container {\n",
              "      display:flex;\n",
              "      flex-wrap:wrap;\n",
              "      gap: 12px;\n",
              "    }\n",
              "\n",
              "    .colab-df-convert {\n",
              "      background-color: #E8F0FE;\n",
              "      border: none;\n",
              "      border-radius: 50%;\n",
              "      cursor: pointer;\n",
              "      display: none;\n",
              "      fill: #1967D2;\n",
              "      height: 32px;\n",
              "      padding: 0 0 0 0;\n",
              "      width: 32px;\n",
              "    }\n",
              "\n",
              "    .colab-df-convert:hover {\n",
              "      background-color: #E2EBFA;\n",
              "      box-shadow: 0px 1px 2px rgba(60, 64, 67, 0.3), 0px 1px 3px 1px rgba(60, 64, 67, 0.15);\n",
              "      fill: #174EA6;\n",
              "    }\n",
              "\n",
              "    [theme=dark] .colab-df-convert {\n",
              "      background-color: #3B4455;\n",
              "      fill: #D2E3FC;\n",
              "    }\n",
              "\n",
              "    [theme=dark] .colab-df-convert:hover {\n",
              "      background-color: #434B5C;\n",
              "      box-shadow: 0px 1px 3px 1px rgba(0, 0, 0, 0.15);\n",
              "      filter: drop-shadow(0px 1px 2px rgba(0, 0, 0, 0.3));\n",
              "      fill: #FFFFFF;\n",
              "    }\n",
              "  </style>\n",
              "\n",
              "      <script>\n",
              "        const buttonEl =\n",
              "          document.querySelector('#df-46aa3bb2-5aa0-484b-9962-3162274c6bb7 button.colab-df-convert');\n",
              "        buttonEl.style.display =\n",
              "          google.colab.kernel.accessAllowed ? 'block' : 'none';\n",
              "\n",
              "        async function convertToInteractive(key) {\n",
              "          const element = document.querySelector('#df-46aa3bb2-5aa0-484b-9962-3162274c6bb7');\n",
              "          const dataTable =\n",
              "            await google.colab.kernel.invokeFunction('convertToInteractive',\n",
              "                                                     [key], {});\n",
              "          if (!dataTable) return;\n",
              "\n",
              "          const docLinkHtml = 'Like what you see? Visit the ' +\n",
              "            '<a target=\"_blank\" href=https://colab.research.google.com/notebooks/data_table.ipynb>data table notebook</a>'\n",
              "            + ' to learn more about interactive tables.';\n",
              "          element.innerHTML = '';\n",
              "          dataTable['output_type'] = 'display_data';\n",
              "          await google.colab.output.renderOutput(dataTable, element);\n",
              "          const docLink = document.createElement('div');\n",
              "          docLink.innerHTML = docLinkHtml;\n",
              "          element.appendChild(docLink);\n",
              "        }\n",
              "      </script>\n",
              "    </div>\n",
              "  </div>\n"
            ]
          },
          "metadata": {},
          "execution_count": 23
        }
      ],
      "source": [
        "models_rmse"
      ]
    },
    {
      "cell_type": "markdown",
      "metadata": {
        "id": "zO8atNeJXmlU"
      },
      "source": [
        "Видно, что линейная регрессия совсем немного выигрыет у модели Lasso при существенном выигрыше в скорости обучения за счёт отсуствия необходимости подбора гиперпараметров обучения модели. Обе модели существенно выигрывают по сравнению со стационарной медианной и предсказанию по предыдущему значению."
      ]
    },
    {
      "cell_type": "markdown",
      "metadata": {
        "id": "Znf1CYejXmlU"
      },
      "source": [
        "Теперь считаем финальное значение метрики для выбранной модели и параметров создания признаков на тестовой выборке:"
      ]
    },
    {
      "cell_type": "code",
      "execution_count": 24,
      "metadata": {
        "id": "rU1IG1xNXmlU"
      },
      "outputs": [],
      "source": [
        "data_modified_final = add_features(data, lag_lr, rolling_lr).dropna()\n",
        "\n",
        "train_valid, test_lr = train_test_split(data_modified_final, shuffle=False, test_size=0.1)\n",
        "\n",
        "features_test_lr = test_lr.drop('num_orders', axis = 1)\n",
        "target_test_lr = test_lr['num_orders']\n",
        "\n",
        "rmse_lr_test = mean_squared_error(target_test_lr, model_lr.predict(features_test_lr)) ** 0.5\n"
      ]
    },
    {
      "cell_type": "code",
      "execution_count": 25,
      "metadata": {
        "scrolled": true,
        "colab": {
          "base_uri": "https://localhost:8080/"
        },
        "id": "sMmwei_vXmlU",
        "outputId": "c6c83fb5-a6e2-49f4-eaa5-0712197422c2"
      },
      "outputs": [
        {
          "output_type": "stream",
          "name": "stdout",
          "text": [
            "RMSE лучшей модели на тестовой выборке: 41.48315876576971\n"
          ]
        }
      ],
      "source": [
        "print(\"RMSE лучшей модели на тестовой выборке:\", rmse_lr_test)"
      ]
    },
    {
      "cell_type": "markdown",
      "metadata": {
        "id": "EOiUbimeXmlV"
      },
      "source": [
        "Условие о том, что метрика должна быть меньше 48, соблюдено."
      ]
    },
    {
      "cell_type": "markdown",
      "metadata": {
        "id": "kN-qGBM5XmlV"
      },
      "source": [
        "## Общий вывод"
      ]
    },
    {
      "cell_type": "markdown",
      "metadata": {
        "id": "fdd15D-CXmlV"
      },
      "source": [
        "Данный проект посвящён предсказанию количества заказов такси в следуюший час. В нашем распоряжении исторические данные заказов за полгода. Сначала проведён обзор файла, данные агрегированы по часовым интервалам в соответвествиии с сутью задачи. Ряд разбит на компоненты - тренд, сезонность и шум. Видно, что сезонность похожа на стационарный ряд, тренд постепенно возрастает, в шумах есть явные выбросы, связанные с опвышенным спросом по выходным и праздникам. Можно заметить рост амплитуды выбросов со временем. Для подготовки данных к обучению созданы новые признаки: день, день недели, а также скользящее среднее и отстающие значения.\n",
        "\n",
        "В качестве моделей выбраны линейная регрессия и модель Lasso. В рамках обучения каждой проведена оптимизация параметров создания признаков модели. Значения метрик RMSE на тестовой выборке сравнены со значением медианной модели и предсказанием по предыдущему значению - обе модели существенно выигрывает. Всилу простоты обучения линейной регрессии наиболее оптимальной выбрана она.\n",
        "\n",
        "Итоговое значение метрики на тестовой выборке для такой модели = 41.5."
      ]
    }
  ],
  "metadata": {
    "ExecuteTimeLog": [
      {
        "duration": 368,
        "start_time": "2023-06-06T13:50:54.831Z"
      },
      {
        "duration": 304,
        "start_time": "2023-06-06T13:51:22.999Z"
      },
      {
        "duration": 15,
        "start_time": "2023-06-06T13:51:27.824Z"
      },
      {
        "duration": 6,
        "start_time": "2023-06-06T13:51:37.991Z"
      },
      {
        "duration": 12,
        "start_time": "2023-06-06T13:51:44.594Z"
      },
      {
        "duration": 71,
        "start_time": "2023-06-06T14:01:37.393Z"
      },
      {
        "duration": 8,
        "start_time": "2023-06-06T14:01:44.539Z"
      },
      {
        "duration": 9,
        "start_time": "2023-06-06T14:01:50.725Z"
      },
      {
        "duration": 7,
        "start_time": "2023-06-06T14:01:56.889Z"
      },
      {
        "duration": 4,
        "start_time": "2023-06-06T14:02:15.438Z"
      },
      {
        "duration": 3,
        "start_time": "2023-06-06T14:02:47.981Z"
      },
      {
        "duration": 5,
        "start_time": "2023-06-06T14:03:16.819Z"
      },
      {
        "duration": 4,
        "start_time": "2023-06-06T14:03:32.724Z"
      },
      {
        "duration": 7,
        "start_time": "2023-06-06T14:04:04.726Z"
      },
      {
        "duration": 39,
        "start_time": "2023-06-06T14:04:12.854Z"
      },
      {
        "duration": 7,
        "start_time": "2023-06-06T14:04:14.639Z"
      },
      {
        "duration": 9,
        "start_time": "2023-06-06T14:04:17.480Z"
      },
      {
        "duration": 792,
        "start_time": "2023-06-06T14:04:23.474Z"
      },
      {
        "duration": 32,
        "start_time": "2023-06-06T14:04:39.984Z"
      },
      {
        "duration": 5,
        "start_time": "2023-06-06T14:06:29.734Z"
      },
      {
        "duration": 14,
        "start_time": "2023-06-06T14:06:32.312Z"
      },
      {
        "duration": 4,
        "start_time": "2023-06-06T14:30:46.627Z"
      },
      {
        "duration": 3,
        "start_time": "2023-06-06T14:31:08.441Z"
      },
      {
        "duration": 11,
        "start_time": "2023-06-06T14:31:51.941Z"
      },
      {
        "duration": 4,
        "start_time": "2023-06-06T14:31:58.125Z"
      },
      {
        "duration": 4,
        "start_time": "2023-06-06T14:32:11.854Z"
      },
      {
        "duration": 5,
        "start_time": "2023-06-06T14:32:18.276Z"
      },
      {
        "duration": 6,
        "start_time": "2023-06-06T14:32:24.054Z"
      },
      {
        "duration": 29,
        "start_time": "2023-06-06T14:42:36.596Z"
      },
      {
        "duration": 52,
        "start_time": "2023-06-06T14:43:14.982Z"
      },
      {
        "duration": 5,
        "start_time": "2023-06-06T14:43:18.103Z"
      },
      {
        "duration": 7,
        "start_time": "2023-06-06T14:43:57.246Z"
      },
      {
        "duration": 10,
        "start_time": "2023-06-06T14:44:20.471Z"
      },
      {
        "duration": 4,
        "start_time": "2023-06-06T14:44:41.937Z"
      },
      {
        "duration": 376,
        "start_time": "2023-06-06T14:44:52.731Z"
      },
      {
        "duration": 49,
        "start_time": "2023-06-06T14:44:53.109Z"
      },
      {
        "duration": 11,
        "start_time": "2023-06-06T14:44:53.160Z"
      },
      {
        "duration": 14,
        "start_time": "2023-06-06T14:44:53.172Z"
      },
      {
        "duration": 31,
        "start_time": "2023-06-06T14:44:53.188Z"
      },
      {
        "duration": 3,
        "start_time": "2023-06-06T14:44:53.233Z"
      },
      {
        "duration": 17,
        "start_time": "2023-06-06T14:44:53.238Z"
      },
      {
        "duration": 20,
        "start_time": "2023-06-06T14:44:53.256Z"
      },
      {
        "duration": 9,
        "start_time": "2023-06-06T14:45:23.370Z"
      },
      {
        "duration": 4,
        "start_time": "2023-06-06T14:45:41.522Z"
      },
      {
        "duration": 65,
        "start_time": "2023-06-06T14:55:19.089Z"
      },
      {
        "duration": 451,
        "start_time": "2023-06-06T14:55:32.024Z"
      },
      {
        "duration": 387,
        "start_time": "2023-06-06T14:55:36.395Z"
      },
      {
        "duration": 3,
        "start_time": "2023-06-06T14:56:09.849Z"
      },
      {
        "duration": 51,
        "start_time": "2023-06-06T14:56:09.853Z"
      },
      {
        "duration": 17,
        "start_time": "2023-06-06T14:56:09.905Z"
      },
      {
        "duration": 15,
        "start_time": "2023-06-06T14:56:09.924Z"
      },
      {
        "duration": 4,
        "start_time": "2023-06-06T14:56:09.941Z"
      },
      {
        "duration": 6,
        "start_time": "2023-06-06T14:56:09.946Z"
      },
      {
        "duration": 4,
        "start_time": "2023-06-06T14:56:09.953Z"
      },
      {
        "duration": 18,
        "start_time": "2023-06-06T14:56:09.958Z"
      },
      {
        "duration": 808,
        "start_time": "2023-06-06T14:56:19.737Z"
      },
      {
        "duration": 48,
        "start_time": "2023-06-06T14:56:20.547Z"
      },
      {
        "duration": 29,
        "start_time": "2023-06-06T14:56:20.597Z"
      },
      {
        "duration": 24,
        "start_time": "2023-06-06T14:56:20.628Z"
      },
      {
        "duration": 9,
        "start_time": "2023-06-06T14:56:20.654Z"
      },
      {
        "duration": 15,
        "start_time": "2023-06-06T14:56:20.665Z"
      },
      {
        "duration": 12,
        "start_time": "2023-06-06T14:56:20.682Z"
      },
      {
        "duration": 115,
        "start_time": "2023-06-06T14:56:20.695Z"
      },
      {
        "duration": 8,
        "start_time": "2023-06-06T14:56:32.838Z"
      },
      {
        "duration": 7,
        "start_time": "2023-06-06T14:57:16.384Z"
      },
      {
        "duration": 18,
        "start_time": "2023-06-06T14:57:21.404Z"
      },
      {
        "duration": 8,
        "start_time": "2023-06-06T14:57:31.576Z"
      },
      {
        "duration": 9,
        "start_time": "2023-06-06T14:57:55.476Z"
      },
      {
        "duration": 386,
        "start_time": "2023-06-06T14:58:23.705Z"
      },
      {
        "duration": 715,
        "start_time": "2023-06-06T14:58:26.685Z"
      },
      {
        "duration": 316,
        "start_time": "2023-06-06T14:58:51.484Z"
      },
      {
        "duration": 945,
        "start_time": "2023-06-06T14:59:18.332Z"
      },
      {
        "duration": 860,
        "start_time": "2023-06-06T14:59:32.184Z"
      },
      {
        "duration": 892,
        "start_time": "2023-06-06T14:59:39.637Z"
      },
      {
        "duration": 68,
        "start_time": "2023-06-07T19:23:26.367Z"
      },
      {
        "duration": 1573,
        "start_time": "2023-06-07T19:23:34.059Z"
      },
      {
        "duration": 136,
        "start_time": "2023-06-07T19:23:35.634Z"
      },
      {
        "duration": 24,
        "start_time": "2023-06-07T19:23:35.772Z"
      },
      {
        "duration": 13,
        "start_time": "2023-06-07T19:23:35.798Z"
      },
      {
        "duration": 4,
        "start_time": "2023-06-07T19:23:35.814Z"
      },
      {
        "duration": 20,
        "start_time": "2023-06-07T19:23:35.819Z"
      },
      {
        "duration": 15,
        "start_time": "2023-06-07T19:23:35.842Z"
      },
      {
        "duration": 11,
        "start_time": "2023-06-07T19:23:35.858Z"
      },
      {
        "duration": 1094,
        "start_time": "2023-06-07T19:23:35.871Z"
      },
      {
        "duration": 3,
        "start_time": "2023-06-07T19:24:19.068Z"
      },
      {
        "duration": 121,
        "start_time": "2023-06-07T19:31:57.224Z"
      },
      {
        "duration": 5,
        "start_time": "2023-06-07T19:32:05.220Z"
      },
      {
        "duration": 4,
        "start_time": "2023-06-07T19:34:01.402Z"
      },
      {
        "duration": 9,
        "start_time": "2023-06-07T19:34:48.517Z"
      },
      {
        "duration": 19,
        "start_time": "2023-06-07T19:34:55.101Z"
      },
      {
        "duration": 22,
        "start_time": "2023-06-07T19:37:36.088Z"
      },
      {
        "duration": 3,
        "start_time": "2023-06-07T19:37:43.269Z"
      },
      {
        "duration": 7,
        "start_time": "2023-06-07T19:38:51.090Z"
      },
      {
        "duration": 19,
        "start_time": "2023-06-07T19:43:23.301Z"
      },
      {
        "duration": 22,
        "start_time": "2023-06-07T19:43:26.335Z"
      },
      {
        "duration": 8,
        "start_time": "2023-06-07T19:43:50.535Z"
      },
      {
        "duration": 35,
        "start_time": "2023-06-07T19:43:58.286Z"
      },
      {
        "duration": 6,
        "start_time": "2023-06-07T19:44:08.389Z"
      },
      {
        "duration": 20,
        "start_time": "2023-06-07T19:44:31.837Z"
      },
      {
        "duration": 9,
        "start_time": "2023-06-07T19:44:34.098Z"
      },
      {
        "duration": 17,
        "start_time": "2023-06-07T19:44:41.673Z"
      },
      {
        "duration": 13,
        "start_time": "2023-06-07T19:45:02.817Z"
      },
      {
        "duration": 1369,
        "start_time": "2023-06-07T19:45:14.596Z"
      },
      {
        "duration": 51,
        "start_time": "2023-06-07T19:45:15.967Z"
      },
      {
        "duration": 11,
        "start_time": "2023-06-07T19:45:16.020Z"
      },
      {
        "duration": 11,
        "start_time": "2023-06-07T19:45:16.033Z"
      },
      {
        "duration": 5,
        "start_time": "2023-06-07T19:45:16.046Z"
      },
      {
        "duration": 15,
        "start_time": "2023-06-07T19:45:16.053Z"
      },
      {
        "duration": 23,
        "start_time": "2023-06-07T19:45:16.070Z"
      },
      {
        "duration": 8,
        "start_time": "2023-06-07T19:45:16.095Z"
      },
      {
        "duration": 901,
        "start_time": "2023-06-07T19:45:16.104Z"
      },
      {
        "duration": 4,
        "start_time": "2023-06-07T19:45:17.007Z"
      },
      {
        "duration": 26,
        "start_time": "2023-06-07T19:45:17.013Z"
      },
      {
        "duration": 8,
        "start_time": "2023-06-07T19:45:17.041Z"
      },
      {
        "duration": 119,
        "start_time": "2023-06-07T19:45:17.051Z"
      },
      {
        "duration": 35,
        "start_time": "2023-06-07T19:45:42.620Z"
      },
      {
        "duration": 25,
        "start_time": "2023-06-07T19:45:46.769Z"
      },
      {
        "duration": 11,
        "start_time": "2023-06-07T19:45:54.170Z"
      },
      {
        "duration": 30,
        "start_time": "2023-06-07T19:45:59.382Z"
      },
      {
        "duration": 6,
        "start_time": "2023-06-07T19:46:52.351Z"
      },
      {
        "duration": 16,
        "start_time": "2023-06-07T19:46:55.496Z"
      },
      {
        "duration": 18,
        "start_time": "2023-06-07T19:47:18.575Z"
      },
      {
        "duration": 9,
        "start_time": "2023-06-07T19:47:24.969Z"
      },
      {
        "duration": 56,
        "start_time": "2023-06-07T19:47:27.038Z"
      },
      {
        "duration": 15,
        "start_time": "2023-06-07T19:47:58.708Z"
      },
      {
        "duration": 14,
        "start_time": "2023-06-07T19:49:45.783Z"
      },
      {
        "duration": 4,
        "start_time": "2023-06-07T19:54:10.674Z"
      },
      {
        "duration": 61,
        "start_time": "2023-06-07T19:54:10.681Z"
      },
      {
        "duration": 6,
        "start_time": "2023-06-07T19:54:10.744Z"
      },
      {
        "duration": 18,
        "start_time": "2023-06-07T19:54:10.751Z"
      },
      {
        "duration": 3,
        "start_time": "2023-06-07T19:54:10.771Z"
      },
      {
        "duration": 26,
        "start_time": "2023-06-07T19:54:10.775Z"
      },
      {
        "duration": 9,
        "start_time": "2023-06-07T19:54:10.803Z"
      },
      {
        "duration": 11,
        "start_time": "2023-06-07T19:54:10.813Z"
      },
      {
        "duration": 850,
        "start_time": "2023-06-07T19:54:10.826Z"
      },
      {
        "duration": 5,
        "start_time": "2023-06-07T19:54:11.679Z"
      },
      {
        "duration": 45,
        "start_time": "2023-06-07T19:54:11.687Z"
      },
      {
        "duration": 7,
        "start_time": "2023-06-07T19:54:11.734Z"
      },
      {
        "duration": 41,
        "start_time": "2023-06-07T19:54:11.743Z"
      },
      {
        "duration": 108,
        "start_time": "2023-06-07T19:54:11.787Z"
      },
      {
        "duration": 24886,
        "start_time": "2023-06-07T19:58:36.393Z"
      },
      {
        "duration": 4,
        "start_time": "2023-06-07T20:00:10.999Z"
      },
      {
        "duration": 4,
        "start_time": "2023-06-07T20:00:29.226Z"
      },
      {
        "duration": 107,
        "start_time": "2023-06-07T20:00:38.854Z"
      },
      {
        "duration": 121,
        "start_time": "2023-06-07T20:00:42.204Z"
      },
      {
        "duration": 100,
        "start_time": "2023-06-07T20:00:46.003Z"
      },
      {
        "duration": 3,
        "start_time": "2023-06-07T20:00:52.692Z"
      },
      {
        "duration": 9,
        "start_time": "2023-06-07T20:07:19.891Z"
      },
      {
        "duration": 82,
        "start_time": "2023-06-07T20:07:21.597Z"
      },
      {
        "duration": 9,
        "start_time": "2023-06-07T20:07:22.794Z"
      },
      {
        "duration": 33185,
        "start_time": "2023-06-07T20:07:25.195Z"
      },
      {
        "duration": 3,
        "start_time": "2023-06-07T20:08:11.431Z"
      },
      {
        "duration": 3,
        "start_time": "2023-06-07T20:14:08.696Z"
      },
      {
        "duration": 13,
        "start_time": "2023-06-07T20:16:24.109Z"
      },
      {
        "duration": 4,
        "start_time": "2023-06-07T20:16:35.493Z"
      },
      {
        "duration": 266325,
        "start_time": "2023-06-07T20:16:38.652Z"
      },
      {
        "duration": 311780,
        "start_time": "2023-06-07T20:21:06.597Z"
      },
      {
        "duration": 3,
        "start_time": "2023-06-07T20:34:26.197Z"
      },
      {
        "duration": 579979,
        "start_time": "2023-06-07T20:35:16.105Z"
      },
      {
        "duration": 4,
        "start_time": "2023-06-07T20:45:02.659Z"
      },
      {
        "duration": 14,
        "start_time": "2023-06-07T20:45:11.601Z"
      },
      {
        "duration": 5,
        "start_time": "2023-06-07T20:45:50.911Z"
      },
      {
        "duration": 3,
        "start_time": "2023-06-07T20:46:05.493Z"
      },
      {
        "duration": 4,
        "start_time": "2023-06-07T20:46:23.013Z"
      },
      {
        "duration": 7,
        "start_time": "2023-06-07T20:47:14.934Z"
      },
      {
        "duration": 32,
        "start_time": "2023-06-07T20:47:20.592Z"
      },
      {
        "duration": 36,
        "start_time": "2023-06-07T20:48:16.312Z"
      },
      {
        "duration": 27,
        "start_time": "2023-06-07T20:48:57.441Z"
      },
      {
        "duration": 25,
        "start_time": "2023-06-07T20:49:10.356Z"
      },
      {
        "duration": 4,
        "start_time": "2023-06-07T20:53:32.008Z"
      },
      {
        "duration": 11,
        "start_time": "2023-06-07T20:53:36.495Z"
      },
      {
        "duration": 1403,
        "start_time": "2023-06-07T21:01:52.394Z"
      },
      {
        "duration": 49,
        "start_time": "2023-06-07T21:01:53.799Z"
      },
      {
        "duration": 9,
        "start_time": "2023-06-07T21:01:53.850Z"
      },
      {
        "duration": 14,
        "start_time": "2023-06-07T21:01:53.861Z"
      },
      {
        "duration": 3,
        "start_time": "2023-06-07T21:01:53.877Z"
      },
      {
        "duration": 17,
        "start_time": "2023-06-07T21:01:53.881Z"
      },
      {
        "duration": 17,
        "start_time": "2023-06-07T21:01:53.900Z"
      },
      {
        "duration": 9,
        "start_time": "2023-06-07T21:01:53.918Z"
      },
      {
        "duration": 828,
        "start_time": "2023-06-07T21:01:53.929Z"
      },
      {
        "duration": 3,
        "start_time": "2023-06-07T21:01:54.759Z"
      },
      {
        "duration": 28,
        "start_time": "2023-06-07T21:01:54.764Z"
      },
      {
        "duration": 7,
        "start_time": "2023-06-07T21:01:54.794Z"
      },
      {
        "duration": 78,
        "start_time": "2023-06-07T21:01:54.802Z"
      },
      {
        "duration": 103,
        "start_time": "2023-06-07T21:01:54.885Z"
      },
      {
        "duration": 26189,
        "start_time": "2023-06-07T21:01:54.989Z"
      },
      {
        "duration": 7,
        "start_time": "2023-06-07T21:02:21.181Z"
      },
      {
        "duration": 552000,
        "start_time": "2023-06-07T21:02:21.278Z"
      },
      {
        "duration": 99,
        "start_time": "2023-06-07T21:11:33.281Z"
      },
      {
        "duration": 95,
        "start_time": "2023-06-07T21:11:33.382Z"
      },
      {
        "duration": 31,
        "start_time": "2023-06-07T21:11:33.479Z"
      },
      {
        "duration": 6,
        "start_time": "2023-06-07T21:11:33.512Z"
      },
      {
        "duration": 13,
        "start_time": "2023-06-07T21:11:33.519Z"
      },
      {
        "duration": 47,
        "start_time": "2023-06-08T10:30:05.815Z"
      },
      {
        "duration": 1577,
        "start_time": "2023-06-08T10:30:13.246Z"
      },
      {
        "duration": 145,
        "start_time": "2023-06-08T10:30:14.825Z"
      },
      {
        "duration": 10,
        "start_time": "2023-06-08T10:30:14.971Z"
      },
      {
        "duration": 15,
        "start_time": "2023-06-08T10:30:14.983Z"
      },
      {
        "duration": 4,
        "start_time": "2023-06-08T10:30:14.999Z"
      },
      {
        "duration": 44,
        "start_time": "2023-06-08T10:30:15.005Z"
      },
      {
        "duration": 18,
        "start_time": "2023-06-08T10:30:15.051Z"
      },
      {
        "duration": 7,
        "start_time": "2023-06-08T10:30:15.071Z"
      },
      {
        "duration": 856,
        "start_time": "2023-06-08T10:30:15.079Z"
      },
      {
        "duration": 252,
        "start_time": "2023-06-08T10:30:15.938Z"
      },
      {
        "duration": 7,
        "start_time": "2023-06-08T10:30:21.996Z"
      },
      {
        "duration": 127,
        "start_time": "2023-06-08T10:31:11.905Z"
      },
      {
        "duration": 4,
        "start_time": "2023-06-08T10:35:17.740Z"
      },
      {
        "duration": 59,
        "start_time": "2023-06-08T10:35:17.746Z"
      },
      {
        "duration": 7,
        "start_time": "2023-06-08T10:35:17.807Z"
      },
      {
        "duration": 12,
        "start_time": "2023-06-08T10:35:17.816Z"
      },
      {
        "duration": 5,
        "start_time": "2023-06-08T10:35:17.831Z"
      },
      {
        "duration": 11,
        "start_time": "2023-06-08T10:35:17.837Z"
      },
      {
        "duration": 20,
        "start_time": "2023-06-08T10:35:17.850Z"
      },
      {
        "duration": 10,
        "start_time": "2023-06-08T10:35:17.872Z"
      },
      {
        "duration": 802,
        "start_time": "2023-06-08T10:35:17.884Z"
      },
      {
        "duration": 143,
        "start_time": "2023-06-08T10:35:18.688Z"
      },
      {
        "duration": 210,
        "start_time": "2023-06-08T10:36:32.157Z"
      },
      {
        "duration": 158,
        "start_time": "2023-06-08T10:36:53.951Z"
      },
      {
        "duration": 142,
        "start_time": "2023-06-08T10:37:00.185Z"
      },
      {
        "duration": 147,
        "start_time": "2023-06-08T10:37:42.026Z"
      },
      {
        "duration": 106,
        "start_time": "2023-06-08T10:58:11.353Z"
      },
      {
        "duration": 4,
        "start_time": "2023-06-08T10:58:18.020Z"
      },
      {
        "duration": 66,
        "start_time": "2023-06-08T10:58:18.026Z"
      },
      {
        "duration": 7,
        "start_time": "2023-06-08T10:58:18.094Z"
      },
      {
        "duration": 25,
        "start_time": "2023-06-08T10:58:18.103Z"
      },
      {
        "duration": 3,
        "start_time": "2023-06-08T10:58:18.129Z"
      },
      {
        "duration": 7,
        "start_time": "2023-06-08T10:58:18.133Z"
      },
      {
        "duration": 28,
        "start_time": "2023-06-08T10:58:18.141Z"
      },
      {
        "duration": 10,
        "start_time": "2023-06-08T10:58:18.171Z"
      },
      {
        "duration": 847,
        "start_time": "2023-06-08T10:58:18.183Z"
      },
      {
        "duration": 158,
        "start_time": "2023-06-08T10:58:19.032Z"
      },
      {
        "duration": 159,
        "start_time": "2023-06-08T10:58:19.193Z"
      },
      {
        "duration": 4,
        "start_time": "2023-06-08T10:58:19.353Z"
      },
      {
        "duration": 43,
        "start_time": "2023-06-08T10:58:19.359Z"
      },
      {
        "duration": 8,
        "start_time": "2023-06-08T10:58:24.574Z"
      },
      {
        "duration": 9,
        "start_time": "2023-06-08T10:58:36.288Z"
      },
      {
        "duration": 4,
        "start_time": "2023-06-08T10:58:38.592Z"
      },
      {
        "duration": 4,
        "start_time": "2023-06-08T10:58:49.742Z"
      },
      {
        "duration": 4,
        "start_time": "2023-06-08T10:58:58.370Z"
      },
      {
        "duration": 7,
        "start_time": "2023-06-08T15:28:39.779Z"
      },
      {
        "duration": 9,
        "start_time": "2023-06-08T15:30:06.163Z"
      },
      {
        "duration": 8,
        "start_time": "2023-06-08T15:30:41.862Z"
      },
      {
        "duration": 7,
        "start_time": "2023-06-08T15:30:44.908Z"
      },
      {
        "duration": 6,
        "start_time": "2023-06-08T15:30:53.407Z"
      },
      {
        "duration": 4,
        "start_time": "2023-06-08T15:33:17.228Z"
      },
      {
        "duration": 4,
        "start_time": "2023-06-08T15:33:43.772Z"
      },
      {
        "duration": 12,
        "start_time": "2023-06-08T15:33:47.445Z"
      },
      {
        "duration": 22,
        "start_time": "2023-06-08T15:33:55.578Z"
      },
      {
        "duration": 3,
        "start_time": "2023-06-08T15:34:32.744Z"
      },
      {
        "duration": 84,
        "start_time": "2023-06-08T15:34:32.749Z"
      },
      {
        "duration": 9,
        "start_time": "2023-06-08T15:34:32.835Z"
      },
      {
        "duration": 24,
        "start_time": "2023-06-08T15:34:32.845Z"
      },
      {
        "duration": 3,
        "start_time": "2023-06-08T15:34:32.872Z"
      },
      {
        "duration": 8,
        "start_time": "2023-06-08T15:34:32.876Z"
      },
      {
        "duration": 21,
        "start_time": "2023-06-08T15:34:32.886Z"
      },
      {
        "duration": 7,
        "start_time": "2023-06-08T15:34:32.908Z"
      },
      {
        "duration": 942,
        "start_time": "2023-06-08T15:34:32.916Z"
      },
      {
        "duration": 135,
        "start_time": "2023-06-08T15:34:33.860Z"
      },
      {
        "duration": 176,
        "start_time": "2023-06-08T15:34:33.997Z"
      },
      {
        "duration": 5,
        "start_time": "2023-06-08T15:34:34.175Z"
      },
      {
        "duration": 33,
        "start_time": "2023-06-08T15:34:34.181Z"
      },
      {
        "duration": 10,
        "start_time": "2023-06-08T15:34:34.216Z"
      },
      {
        "duration": 15,
        "start_time": "2023-06-08T15:34:43.660Z"
      },
      {
        "duration": 7,
        "start_time": "2023-06-08T15:34:46.332Z"
      },
      {
        "duration": 5,
        "start_time": "2023-06-08T15:34:47.964Z"
      },
      {
        "duration": 21554,
        "start_time": "2023-06-08T15:37:22.896Z"
      },
      {
        "duration": 3,
        "start_time": "2023-06-08T15:37:57.056Z"
      },
      {
        "duration": 461044,
        "start_time": "2023-06-08T15:39:57.606Z"
      },
      {
        "duration": 4,
        "start_time": "2023-06-08T16:06:43.210Z"
      },
      {
        "duration": 3,
        "start_time": "2023-06-08T16:07:10.224Z"
      },
      {
        "duration": 6,
        "start_time": "2023-06-08T16:07:43.608Z"
      },
      {
        "duration": 23,
        "start_time": "2023-06-08T16:08:02.298Z"
      },
      {
        "duration": 4,
        "start_time": "2023-06-08T16:08:05.848Z"
      },
      {
        "duration": 7,
        "start_time": "2023-06-08T16:08:08.807Z"
      },
      {
        "duration": 28307,
        "start_time": "2023-06-08T16:12:05.743Z"
      },
      {
        "duration": 37402,
        "start_time": "2023-06-08T16:12:46.848Z"
      },
      {
        "duration": 15,
        "start_time": "2023-06-08T16:13:50.352Z"
      },
      {
        "duration": 4,
        "start_time": "2023-06-08T16:13:54.562Z"
      },
      {
        "duration": 4,
        "start_time": "2023-06-08T16:14:21.761Z"
      },
      {
        "duration": 1356,
        "start_time": "2023-06-08T16:15:23.807Z"
      },
      {
        "duration": 51,
        "start_time": "2023-06-08T16:15:25.165Z"
      },
      {
        "duration": 10,
        "start_time": "2023-06-08T16:15:25.219Z"
      },
      {
        "duration": 12,
        "start_time": "2023-06-08T16:15:25.230Z"
      },
      {
        "duration": 2,
        "start_time": "2023-06-08T16:15:25.243Z"
      },
      {
        "duration": 4,
        "start_time": "2023-06-08T16:15:25.250Z"
      },
      {
        "duration": 15,
        "start_time": "2023-06-08T16:15:25.256Z"
      },
      {
        "duration": 7,
        "start_time": "2023-06-08T16:15:25.273Z"
      },
      {
        "duration": 922,
        "start_time": "2023-06-08T16:15:25.282Z"
      },
      {
        "duration": 130,
        "start_time": "2023-06-08T16:15:26.205Z"
      },
      {
        "duration": 247,
        "start_time": "2023-06-08T16:15:26.336Z"
      },
      {
        "duration": 4,
        "start_time": "2023-06-08T16:15:26.585Z"
      },
      {
        "duration": 24,
        "start_time": "2023-06-08T16:15:26.590Z"
      },
      {
        "duration": 10,
        "start_time": "2023-06-08T16:15:26.616Z"
      },
      {
        "duration": 38,
        "start_time": "2023-06-08T16:15:26.627Z"
      },
      {
        "duration": 95,
        "start_time": "2023-06-08T16:15:26.667Z"
      },
      {
        "duration": 28081,
        "start_time": "2023-06-08T16:15:26.770Z"
      },
      {
        "duration": 6,
        "start_time": "2023-06-08T16:15:54.853Z"
      },
      {
        "duration": 1471,
        "start_time": "2023-06-08T16:32:09.596Z"
      },
      {
        "duration": 50,
        "start_time": "2023-06-08T16:32:11.069Z"
      },
      {
        "duration": 11,
        "start_time": "2023-06-08T16:32:11.121Z"
      },
      {
        "duration": 12,
        "start_time": "2023-06-08T16:32:11.135Z"
      },
      {
        "duration": 6,
        "start_time": "2023-06-08T16:32:11.149Z"
      },
      {
        "duration": 12,
        "start_time": "2023-06-08T16:32:11.157Z"
      },
      {
        "duration": 13,
        "start_time": "2023-06-08T16:32:11.172Z"
      },
      {
        "duration": 7,
        "start_time": "2023-06-08T16:32:11.187Z"
      },
      {
        "duration": 911,
        "start_time": "2023-06-08T16:32:11.196Z"
      },
      {
        "duration": 121,
        "start_time": "2023-06-08T16:32:12.110Z"
      },
      {
        "duration": 247,
        "start_time": "2023-06-08T16:32:12.233Z"
      },
      {
        "duration": 3,
        "start_time": "2023-06-08T16:32:12.482Z"
      },
      {
        "duration": 32,
        "start_time": "2023-06-08T16:32:12.487Z"
      },
      {
        "duration": 11,
        "start_time": "2023-06-08T16:32:12.521Z"
      },
      {
        "duration": 11,
        "start_time": "2023-06-08T16:32:12.551Z"
      },
      {
        "duration": 85,
        "start_time": "2023-06-08T16:32:12.567Z"
      },
      {
        "duration": 27205,
        "start_time": "2023-06-08T16:32:12.653Z"
      },
      {
        "duration": 94,
        "start_time": "2023-06-08T16:32:39.860Z"
      },
      {
        "duration": 472693,
        "start_time": "2023-06-08T16:32:39.958Z"
      },
      {
        "duration": 3,
        "start_time": "2023-06-08T16:40:32.653Z"
      },
      {
        "duration": 193,
        "start_time": "2023-06-08T16:40:32.658Z"
      },
      {
        "duration": 27,
        "start_time": "2023-06-08T16:40:32.853Z"
      },
      {
        "duration": 4,
        "start_time": "2023-06-08T16:40:32.881Z"
      },
      {
        "duration": 19,
        "start_time": "2023-06-08T16:40:32.887Z"
      },
      {
        "duration": 154,
        "start_time": "2023-06-08T16:40:32.907Z"
      },
      {
        "duration": 0,
        "start_time": "2023-06-08T16:40:33.062Z"
      },
      {
        "duration": 41,
        "start_time": "2023-06-08T17:09:30.013Z"
      },
      {
        "duration": 7,
        "start_time": "2023-06-08T17:10:00.842Z"
      },
      {
        "duration": 8,
        "start_time": "2023-06-08T17:10:06.492Z"
      },
      {
        "duration": 4,
        "start_time": "2023-06-08T17:10:09.644Z"
      },
      {
        "duration": 14,
        "start_time": "2023-06-08T17:10:23.374Z"
      },
      {
        "duration": 5,
        "start_time": "2023-06-08T17:11:57.376Z"
      },
      {
        "duration": 17,
        "start_time": "2023-06-08T17:12:13.040Z"
      },
      {
        "duration": 4,
        "start_time": "2023-06-08T17:13:09.041Z"
      },
      {
        "duration": 5,
        "start_time": "2023-06-08T17:13:16.644Z"
      },
      {
        "duration": 34,
        "start_time": "2023-06-08T17:14:19.527Z"
      },
      {
        "duration": 3,
        "start_time": "2023-06-08T17:14:30.310Z"
      },
      {
        "duration": 2443,
        "start_time": "2023-06-08T19:56:53.927Z"
      },
      {
        "duration": 137,
        "start_time": "2023-06-08T19:56:56.372Z"
      },
      {
        "duration": 11,
        "start_time": "2023-06-08T19:56:56.511Z"
      },
      {
        "duration": 15,
        "start_time": "2023-06-08T19:56:56.523Z"
      },
      {
        "duration": 6,
        "start_time": "2023-06-08T19:56:56.541Z"
      },
      {
        "duration": 7,
        "start_time": "2023-06-08T19:56:56.548Z"
      },
      {
        "duration": 17,
        "start_time": "2023-06-08T19:56:56.557Z"
      },
      {
        "duration": 8,
        "start_time": "2023-06-08T19:56:56.575Z"
      },
      {
        "duration": 825,
        "start_time": "2023-06-08T19:56:56.584Z"
      },
      {
        "duration": 124,
        "start_time": "2023-06-08T19:56:57.411Z"
      },
      {
        "duration": 241,
        "start_time": "2023-06-08T19:56:57.537Z"
      },
      {
        "duration": 4,
        "start_time": "2023-06-08T19:56:57.780Z"
      },
      {
        "duration": 34,
        "start_time": "2023-06-08T19:56:57.786Z"
      },
      {
        "duration": 10,
        "start_time": "2023-06-08T19:56:57.822Z"
      },
      {
        "duration": 23,
        "start_time": "2023-06-08T19:56:57.834Z"
      }
    ],
    "kernelspec": {
      "display_name": "Python 3 (ipykernel)",
      "language": "python",
      "name": "python3"
    },
    "language_info": {
      "codemirror_mode": {
        "name": "ipython",
        "version": 3
      },
      "file_extension": ".py",
      "mimetype": "text/x-python",
      "name": "python",
      "nbconvert_exporter": "python",
      "pygments_lexer": "ipython3",
      "version": "3.9.5"
    },
    "toc": {
      "base_numbering": 1,
      "nav_menu": {},
      "number_sections": true,
      "sideBar": true,
      "skip_h1_title": true,
      "title_cell": "Содержание",
      "title_sidebar": "Contents",
      "toc_cell": true,
      "toc_position": {},
      "toc_section_display": true,
      "toc_window_display": true
    },
    "colab": {
      "provenance": []
    }
  },
  "nbformat": 4,
  "nbformat_minor": 0
}
