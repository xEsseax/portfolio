{
  "cells": [
    {
      "cell_type": "markdown",
      "metadata": {
        "toc": true,
        "id": "sW2MVN5mxPGA"
      },
      "source": [
        "<h1>Содержание<span class=\"tocSkip\"></span></h1>\n",
        "<div class=\"toc\"><ul class=\"toc-item\"><li><span><a href=\"#Введение\" data-toc-modified-id=\"Введение-1\"><span class=\"toc-item-num\">1&nbsp;&nbsp;</span>Введение</a></span></li><li><span><a href=\"#Подготовка-данных\" data-toc-modified-id=\"Подготовка-данных-2\"><span class=\"toc-item-num\">2&nbsp;&nbsp;</span>Подготовка данных</a></span><ul class=\"toc-item\"><li><span><a href=\"#Чтение-и-предварительный-обзор-данных\" data-toc-modified-id=\"Чтение-и-предварительный-обзор-данных-2.1\"><span class=\"toc-item-num\">2.1&nbsp;&nbsp;</span>Чтение и предварительный обзор данных</a></span></li><li><span><a href=\"#Проверка-корректности-вычисления-эффективности-обогащения\" data-toc-modified-id=\"Проверка-корректности-вычисления-эффективности-обогащения-2.2\"><span class=\"toc-item-num\">2.2&nbsp;&nbsp;</span>Проверка корректности вычисления эффективности обогащения</a></span></li><li><span><a href=\"#Эффективность-флотации\" data-toc-modified-id=\"Эффективность-флотации-2.3\"><span class=\"toc-item-num\">2.3&nbsp;&nbsp;</span>Эффективность флотации</a></span></li><li><span><a href=\"#Эффективность-обогащения-финального-концентрата\" data-toc-modified-id=\"Эффективность-обогащения-финального-концентрата-2.4\"><span class=\"toc-item-num\">2.4&nbsp;&nbsp;</span>Эффективность обогащения финального концентрата</a></span></li><li><span><a href=\"#Исследование-признаков,-отсутсвующих-в-тестовой-выборке\" data-toc-modified-id=\"Исследование-признаков,-отсутсвующих-в-тестовой-выборке-2.5\"><span class=\"toc-item-num\">2.5&nbsp;&nbsp;</span>Исследование признаков, отсутсвующих в тестовой выборке</a></span></li></ul></li><li><span><a href=\"#Анализ-данных\" data-toc-modified-id=\"Анализ-данных-3\"><span class=\"toc-item-num\">3&nbsp;&nbsp;</span>Анализ данных</a></span><ul class=\"toc-item\"><li><span><a href=\"#Концентрация-металлов-в-зависимости-от-уровня-очистки\" data-toc-modified-id=\"Концентрация-металлов-в-зависимости-от-уровня-очистки-3.1\"><span class=\"toc-item-num\">3.1&nbsp;&nbsp;</span>Концентрация металлов в зависимости от уровня очистки</a></span></li><li><span><a href=\"#Сравнение-размеров-гранул-сырья-в-обучающей-и-тестовой-выборках\" data-toc-modified-id=\"Сравнение-размеров-гранул-сырья-в-обучающей-и-тестовой-выборках-3.2\"><span class=\"toc-item-num\">3.2&nbsp;&nbsp;</span>Сравнение размеров гранул сырья в обучающей и тестовой выборках</a></span></li><li><span><a href=\"#Cуммарная-концентрация-веществ-на-всех-стадиях\" data-toc-modified-id=\"Cуммарная-концентрация-веществ-на-всех-стадиях-3.3\"><span class=\"toc-item-num\">3.3&nbsp;&nbsp;</span>Cуммарная концентрация веществ на всех стадиях</a></span></li></ul></li><li><span><a href=\"#Модель\" data-toc-modified-id=\"Модель-4\"><span class=\"toc-item-num\">4&nbsp;&nbsp;</span>Модель</a></span><ul class=\"toc-item\"><li><span><a href=\"#Метрики-качества-моделей\" data-toc-modified-id=\"Метрики-качества-моделей-4.1\"><span class=\"toc-item-num\">4.1&nbsp;&nbsp;</span>Метрики качества моделей</a></span></li><li><span><a href=\"#Обучение-и-оптимизация-моделей\" data-toc-modified-id=\"Обучение-и-оптимизация-моделей-4.2\"><span class=\"toc-item-num\">4.2&nbsp;&nbsp;</span>Обучение и оптимизация моделей</a></span><ul class=\"toc-item\"><li><span><a href=\"#Подготовка-данных\" data-toc-modified-id=\"Подготовка-данных-4.2.1\"><span class=\"toc-item-num\">4.2.1&nbsp;&nbsp;</span>Подготовка данных</a></span></li><li><span><a href=\"#Обучение-и-оптимизация-моделей\" data-toc-modified-id=\"Обучение-и-оптимизация-моделей-4.2.2\"><span class=\"toc-item-num\">4.2.2&nbsp;&nbsp;</span>Обучение и оптимизация моделей</a></span><ul class=\"toc-item\"><li><span><a href=\"#Линейная-регрессия\" data-toc-modified-id=\"Линейная-регрессия-4.2.2.1\"><span class=\"toc-item-num\">4.2.2.1&nbsp;&nbsp;</span>Линейная регрессия</a></span></li><li><span><a href=\"#Случайный-лес\" data-toc-modified-id=\"Случайный-лес-4.2.2.2\"><span class=\"toc-item-num\">4.2.2.2&nbsp;&nbsp;</span>Случайный лес</a></span></li><li><span><a href=\"#Градиентный-бустинг\" data-toc-modified-id=\"Градиентный-бустинг-4.2.2.3\"><span class=\"toc-item-num\">4.2.2.3&nbsp;&nbsp;</span>Градиентный бустинг</a></span></li><li><span><a href=\"#CatBoost\" data-toc-modified-id=\"CatBoost-4.2.2.4\"><span class=\"toc-item-num\">4.2.2.4&nbsp;&nbsp;</span>CatBoost</a></span></li><li><span><a href=\"#Выбор-модели\" data-toc-modified-id=\"Выбор-модели-4.2.2.5\"><span class=\"toc-item-num\">4.2.2.5&nbsp;&nbsp;</span>Выбор модели</a></span></li><li><span><a href=\"#Проверка-модели\" data-toc-modified-id=\"Проверка-модели-4.2.2.6\"><span class=\"toc-item-num\">4.2.2.6&nbsp;&nbsp;</span>Проверка модели</a></span></li></ul></li></ul></li></ul></li><li><span><a href=\"#Общий-вывод\" data-toc-modified-id=\"Общий-вывод-5\"><span class=\"toc-item-num\">5&nbsp;&nbsp;</span>Общий вывод</a></span></ul></div>"
      ]
    },
    {
      "cell_type": "markdown",
      "metadata": {
        "id": "1YpBYpl2xPGB"
      },
      "source": [
        "## Введение"
      ]
    },
    {
      "cell_type": "markdown",
      "metadata": {
        "id": "M-V26r6LxPGC"
      },
      "source": [
        "Проект посвящён разработке прототипа машинного обучения, предназначенного для прогнозирования эффективности преобразования смеси золотоносной руды в финальный концентрат на двух этапах: начальном этапе флотации и итоговой эффективности после всех шагов. Общая эффективность процессе представляет собой линейную комбинацию указанных ранее эффективностей.\n",
        "\n",
        "Предварительный план выглядит следующим образом:\n",
        "1. Подготовка данных. Чтение файлов и их предварительный обзор. Обнаружение потенциальных проблем, возможно - подготвка данных к дальнейшему анализу: удаление или заполнение пропусков, перевод данных в тредуемый формат и тд.\n",
        "2. Подготовка данных: проверка корректности вычисления целевого признака на примере эффективности флотации, изучение распределений целевых признаков: эффективности на двух этапах.\n",
        "3. Анализ данных: изучение концентрации металлов на разных этапах, сравнение размеров гранул в обучающей и тестовой выборках на двух этапах, изучение суммарной концентрации всех веществ\n",
        "4. Обучение и оптимизация моделей: дополнительная подготовка данных к обучению моделей - выделение целевых признаков, нормализация, удаление лишних столбцов и тд. Обучение выбранных моделей для прогнозирования целевых признаков, подбор гиперпараметров. Вычисление итоговой метрики на основе выбранных моделей с использованием бустрапирования. Проверка адекватности получившейся модели методом сравнения с метрикой, вычисленной на основе константной модели, использующей в качестве прогноза медианное значение целевых признаков обучающей выборки.\n",
        "5. Общий вывод\n",
        "\n"
      ]
    },
    {
      "cell_type": "markdown",
      "metadata": {
        "id": "6dE-zAEXxPGC"
      },
      "source": [
        "## Подготовка данных"
      ]
    },
    {
      "cell_type": "markdown",
      "metadata": {
        "id": "4ntyzq5VxPGD"
      },
      "source": [
        "###  Чтение и предварительный обзор данных"
      ]
    },
    {
      "cell_type": "code",
      "execution_count": null,
      "metadata": {
        "id": "v6TwBI-ZxPGD"
      },
      "outputs": [],
      "source": [
        "#импортируем необходимые модули и тд\n",
        "import pandas as pd\n",
        "import matplotlib.pyplot as plt\n",
        "import numpy as np\n",
        "from scipy import stats as st\n",
        "import seaborn as sns\n",
        "import math\n",
        "\n",
        "from catboost import Pool, CatBoostRegressor\n",
        "\n",
        "from sklearn.preprocessing import StandardScaler\n",
        "from sklearn.metrics import mean_absolute_error\n",
        "from sklearn.metrics import make_scorer\n",
        "from sklearn.model_selection import cross_val_score\n",
        "\n",
        "from sklearn.linear_model import LinearRegression\n",
        "from sklearn.ensemble import RandomForestRegressor\n",
        "from sklearn.ensemble import GradientBoostingRegressor"
      ]
    },
    {
      "cell_type": "code",
      "execution_count": null,
      "metadata": {
        "id": "-3xii5afxPGE"
      },
      "outputs": [],
      "source": [
        "#считываем сырые данные\n",
        "data_train = pd.read_csv('/datasets/gold_recovery_train_new.csv')\n",
        "data_full = pd.read_csv('/datasets/gold_recovery_full_new.csv')\n",
        "data_test = pd.read_csv('/datasets/gold_recovery_test_new.csv')"
      ]
    },
    {
      "cell_type": "markdown",
      "metadata": {
        "id": "Z-ZrgpzixPGE"
      },
      "source": [
        "Посмотрим теперь на то, что нам досталось:"
      ]
    },
    {
      "cell_type": "code",
      "execution_count": null,
      "metadata": {
        "id": "JhvToow4xPGE",
        "outputId": "5fd8014d-8d10-427f-96c3-a8965c3bc7da"
      },
      "outputs": [
        {
          "data": {
            "text/html": [
              "<div>\n",
              "<style scoped>\n",
              "    .dataframe tbody tr th:only-of-type {\n",
              "        vertical-align: middle;\n",
              "    }\n",
              "\n",
              "    .dataframe tbody tr th {\n",
              "        vertical-align: top;\n",
              "    }\n",
              "\n",
              "    .dataframe thead th {\n",
              "        text-align: right;\n",
              "    }\n",
              "</style>\n",
              "<table border=\"1\" class=\"dataframe\">\n",
              "  <thead>\n",
              "    <tr style=\"text-align: right;\">\n",
              "      <th></th>\n",
              "      <th>date</th>\n",
              "      <th>final.output.concentrate_ag</th>\n",
              "      <th>final.output.concentrate_pb</th>\n",
              "      <th>final.output.concentrate_sol</th>\n",
              "      <th>final.output.concentrate_au</th>\n",
              "      <th>final.output.recovery</th>\n",
              "      <th>final.output.tail_ag</th>\n",
              "      <th>final.output.tail_pb</th>\n",
              "      <th>final.output.tail_sol</th>\n",
              "      <th>final.output.tail_au</th>\n",
              "      <th>...</th>\n",
              "      <th>secondary_cleaner.state.floatbank4_a_air</th>\n",
              "      <th>secondary_cleaner.state.floatbank4_a_level</th>\n",
              "      <th>secondary_cleaner.state.floatbank4_b_air</th>\n",
              "      <th>secondary_cleaner.state.floatbank4_b_level</th>\n",
              "      <th>secondary_cleaner.state.floatbank5_a_air</th>\n",
              "      <th>secondary_cleaner.state.floatbank5_a_level</th>\n",
              "      <th>secondary_cleaner.state.floatbank5_b_air</th>\n",
              "      <th>secondary_cleaner.state.floatbank5_b_level</th>\n",
              "      <th>secondary_cleaner.state.floatbank6_a_air</th>\n",
              "      <th>secondary_cleaner.state.floatbank6_a_level</th>\n",
              "    </tr>\n",
              "  </thead>\n",
              "  <tbody>\n",
              "    <tr>\n",
              "      <th>0</th>\n",
              "      <td>2016-01-15 00:00:00</td>\n",
              "      <td>6.055403</td>\n",
              "      <td>9.889648</td>\n",
              "      <td>5.507324</td>\n",
              "      <td>42.192020</td>\n",
              "      <td>70.541216</td>\n",
              "      <td>10.411962</td>\n",
              "      <td>0.895447</td>\n",
              "      <td>16.904297</td>\n",
              "      <td>2.143149</td>\n",
              "      <td>...</td>\n",
              "      <td>14.016835</td>\n",
              "      <td>-502.488007</td>\n",
              "      <td>12.099931</td>\n",
              "      <td>-504.715942</td>\n",
              "      <td>9.925633</td>\n",
              "      <td>-498.310211</td>\n",
              "      <td>8.079666</td>\n",
              "      <td>-500.470978</td>\n",
              "      <td>14.151341</td>\n",
              "      <td>-605.841980</td>\n",
              "    </tr>\n",
              "    <tr>\n",
              "      <th>1</th>\n",
              "      <td>2016-01-15 01:00:00</td>\n",
              "      <td>6.029369</td>\n",
              "      <td>9.968944</td>\n",
              "      <td>5.257781</td>\n",
              "      <td>42.701629</td>\n",
              "      <td>69.266198</td>\n",
              "      <td>10.462676</td>\n",
              "      <td>0.927452</td>\n",
              "      <td>16.634514</td>\n",
              "      <td>2.224930</td>\n",
              "      <td>...</td>\n",
              "      <td>13.992281</td>\n",
              "      <td>-505.503262</td>\n",
              "      <td>11.950531</td>\n",
              "      <td>-501.331529</td>\n",
              "      <td>10.039245</td>\n",
              "      <td>-500.169983</td>\n",
              "      <td>7.984757</td>\n",
              "      <td>-500.582168</td>\n",
              "      <td>13.998353</td>\n",
              "      <td>-599.787184</td>\n",
              "    </tr>\n",
              "    <tr>\n",
              "      <th>2</th>\n",
              "      <td>2016-01-15 02:00:00</td>\n",
              "      <td>6.055926</td>\n",
              "      <td>10.213995</td>\n",
              "      <td>5.383759</td>\n",
              "      <td>42.657501</td>\n",
              "      <td>68.116445</td>\n",
              "      <td>10.507046</td>\n",
              "      <td>0.953716</td>\n",
              "      <td>16.208849</td>\n",
              "      <td>2.257889</td>\n",
              "      <td>...</td>\n",
              "      <td>14.015015</td>\n",
              "      <td>-502.520901</td>\n",
              "      <td>11.912783</td>\n",
              "      <td>-501.133383</td>\n",
              "      <td>10.070913</td>\n",
              "      <td>-500.129135</td>\n",
              "      <td>8.013877</td>\n",
              "      <td>-500.517572</td>\n",
              "      <td>14.028663</td>\n",
              "      <td>-601.427363</td>\n",
              "    </tr>\n",
              "    <tr>\n",
              "      <th>3</th>\n",
              "      <td>2016-01-15 03:00:00</td>\n",
              "      <td>6.047977</td>\n",
              "      <td>9.977019</td>\n",
              "      <td>4.858634</td>\n",
              "      <td>42.689819</td>\n",
              "      <td>68.347543</td>\n",
              "      <td>10.422762</td>\n",
              "      <td>0.883763</td>\n",
              "      <td>16.532835</td>\n",
              "      <td>2.146849</td>\n",
              "      <td>...</td>\n",
              "      <td>14.036510</td>\n",
              "      <td>-500.857308</td>\n",
              "      <td>11.999550</td>\n",
              "      <td>-501.193686</td>\n",
              "      <td>9.970366</td>\n",
              "      <td>-499.201640</td>\n",
              "      <td>7.977324</td>\n",
              "      <td>-500.255908</td>\n",
              "      <td>14.005551</td>\n",
              "      <td>-599.996129</td>\n",
              "    </tr>\n",
              "    <tr>\n",
              "      <th>4</th>\n",
              "      <td>2016-01-15 04:00:00</td>\n",
              "      <td>6.148599</td>\n",
              "      <td>10.142511</td>\n",
              "      <td>4.939416</td>\n",
              "      <td>42.774141</td>\n",
              "      <td>66.927016</td>\n",
              "      <td>10.360302</td>\n",
              "      <td>0.792826</td>\n",
              "      <td>16.525686</td>\n",
              "      <td>2.055292</td>\n",
              "      <td>...</td>\n",
              "      <td>14.027298</td>\n",
              "      <td>-499.838632</td>\n",
              "      <td>11.953070</td>\n",
              "      <td>-501.053894</td>\n",
              "      <td>9.925709</td>\n",
              "      <td>-501.686727</td>\n",
              "      <td>7.894242</td>\n",
              "      <td>-500.356035</td>\n",
              "      <td>13.996647</td>\n",
              "      <td>-601.496691</td>\n",
              "    </tr>\n",
              "  </tbody>\n",
              "</table>\n",
              "<p>5 rows × 87 columns</p>\n",
              "</div>"
            ],
            "text/plain": [
              "                  date  final.output.concentrate_ag  \\\n",
              "0  2016-01-15 00:00:00                     6.055403   \n",
              "1  2016-01-15 01:00:00                     6.029369   \n",
              "2  2016-01-15 02:00:00                     6.055926   \n",
              "3  2016-01-15 03:00:00                     6.047977   \n",
              "4  2016-01-15 04:00:00                     6.148599   \n",
              "\n",
              "   final.output.concentrate_pb  final.output.concentrate_sol  \\\n",
              "0                     9.889648                      5.507324   \n",
              "1                     9.968944                      5.257781   \n",
              "2                    10.213995                      5.383759   \n",
              "3                     9.977019                      4.858634   \n",
              "4                    10.142511                      4.939416   \n",
              "\n",
              "   final.output.concentrate_au  final.output.recovery  final.output.tail_ag  \\\n",
              "0                    42.192020              70.541216             10.411962   \n",
              "1                    42.701629              69.266198             10.462676   \n",
              "2                    42.657501              68.116445             10.507046   \n",
              "3                    42.689819              68.347543             10.422762   \n",
              "4                    42.774141              66.927016             10.360302   \n",
              "\n",
              "   final.output.tail_pb  final.output.tail_sol  final.output.tail_au  ...  \\\n",
              "0              0.895447              16.904297              2.143149  ...   \n",
              "1              0.927452              16.634514              2.224930  ...   \n",
              "2              0.953716              16.208849              2.257889  ...   \n",
              "3              0.883763              16.532835              2.146849  ...   \n",
              "4              0.792826              16.525686              2.055292  ...   \n",
              "\n",
              "   secondary_cleaner.state.floatbank4_a_air  \\\n",
              "0                                 14.016835   \n",
              "1                                 13.992281   \n",
              "2                                 14.015015   \n",
              "3                                 14.036510   \n",
              "4                                 14.027298   \n",
              "\n",
              "   secondary_cleaner.state.floatbank4_a_level  \\\n",
              "0                                 -502.488007   \n",
              "1                                 -505.503262   \n",
              "2                                 -502.520901   \n",
              "3                                 -500.857308   \n",
              "4                                 -499.838632   \n",
              "\n",
              "   secondary_cleaner.state.floatbank4_b_air  \\\n",
              "0                                 12.099931   \n",
              "1                                 11.950531   \n",
              "2                                 11.912783   \n",
              "3                                 11.999550   \n",
              "4                                 11.953070   \n",
              "\n",
              "   secondary_cleaner.state.floatbank4_b_level  \\\n",
              "0                                 -504.715942   \n",
              "1                                 -501.331529   \n",
              "2                                 -501.133383   \n",
              "3                                 -501.193686   \n",
              "4                                 -501.053894   \n",
              "\n",
              "   secondary_cleaner.state.floatbank5_a_air  \\\n",
              "0                                  9.925633   \n",
              "1                                 10.039245   \n",
              "2                                 10.070913   \n",
              "3                                  9.970366   \n",
              "4                                  9.925709   \n",
              "\n",
              "   secondary_cleaner.state.floatbank5_a_level  \\\n",
              "0                                 -498.310211   \n",
              "1                                 -500.169983   \n",
              "2                                 -500.129135   \n",
              "3                                 -499.201640   \n",
              "4                                 -501.686727   \n",
              "\n",
              "   secondary_cleaner.state.floatbank5_b_air  \\\n",
              "0                                  8.079666   \n",
              "1                                  7.984757   \n",
              "2                                  8.013877   \n",
              "3                                  7.977324   \n",
              "4                                  7.894242   \n",
              "\n",
              "   secondary_cleaner.state.floatbank5_b_level  \\\n",
              "0                                 -500.470978   \n",
              "1                                 -500.582168   \n",
              "2                                 -500.517572   \n",
              "3                                 -500.255908   \n",
              "4                                 -500.356035   \n",
              "\n",
              "   secondary_cleaner.state.floatbank6_a_air  \\\n",
              "0                                 14.151341   \n",
              "1                                 13.998353   \n",
              "2                                 14.028663   \n",
              "3                                 14.005551   \n",
              "4                                 13.996647   \n",
              "\n",
              "   secondary_cleaner.state.floatbank6_a_level  \n",
              "0                                 -605.841980  \n",
              "1                                 -599.787184  \n",
              "2                                 -601.427363  \n",
              "3                                 -599.996129  \n",
              "4                                 -601.496691  \n",
              "\n",
              "[5 rows x 87 columns]"
            ]
          },
          "execution_count": 3,
          "metadata": {},
          "output_type": "execute_result"
        }
      ],
      "source": [
        "data_train.head(5)"
      ]
    },
    {
      "cell_type": "code",
      "execution_count": null,
      "metadata": {
        "id": "vbIqi4vtxPGF",
        "outputId": "c260530a-4606-4d05-9cb1-d4b726cf1fb0"
      },
      "outputs": [
        {
          "name": "stdout",
          "output_type": "stream",
          "text": [
            "<class 'pandas.core.frame.DataFrame'>\n",
            "RangeIndex: 14149 entries, 0 to 14148\n",
            "Data columns (total 87 columns):\n",
            " #   Column                                              Non-Null Count  Dtype  \n",
            "---  ------                                              --------------  -----  \n",
            " 0   date                                                14149 non-null  object \n",
            " 1   final.output.concentrate_ag                         14148 non-null  float64\n",
            " 2   final.output.concentrate_pb                         14148 non-null  float64\n",
            " 3   final.output.concentrate_sol                        13938 non-null  float64\n",
            " 4   final.output.concentrate_au                         14149 non-null  float64\n",
            " 5   final.output.recovery                               14149 non-null  float64\n",
            " 6   final.output.tail_ag                                14149 non-null  float64\n",
            " 7   final.output.tail_pb                                14049 non-null  float64\n",
            " 8   final.output.tail_sol                               14144 non-null  float64\n",
            " 9   final.output.tail_au                                14149 non-null  float64\n",
            " 10  primary_cleaner.input.sulfate                       14129 non-null  float64\n",
            " 11  primary_cleaner.input.depressant                    14117 non-null  float64\n",
            " 12  primary_cleaner.input.feed_size                     14149 non-null  float64\n",
            " 13  primary_cleaner.input.xanthate                      14049 non-null  float64\n",
            " 14  primary_cleaner.output.concentrate_ag               14149 non-null  float64\n",
            " 15  primary_cleaner.output.concentrate_pb               14063 non-null  float64\n",
            " 16  primary_cleaner.output.concentrate_sol              13863 non-null  float64\n",
            " 17  primary_cleaner.output.concentrate_au               14149 non-null  float64\n",
            " 18  primary_cleaner.output.tail_ag                      14148 non-null  float64\n",
            " 19  primary_cleaner.output.tail_pb                      14134 non-null  float64\n",
            " 20  primary_cleaner.output.tail_sol                     14103 non-null  float64\n",
            " 21  primary_cleaner.output.tail_au                      14149 non-null  float64\n",
            " 22  primary_cleaner.state.floatbank8_a_air              14145 non-null  float64\n",
            " 23  primary_cleaner.state.floatbank8_a_level            14148 non-null  float64\n",
            " 24  primary_cleaner.state.floatbank8_b_air              14145 non-null  float64\n",
            " 25  primary_cleaner.state.floatbank8_b_level            14148 non-null  float64\n",
            " 26  primary_cleaner.state.floatbank8_c_air              14147 non-null  float64\n",
            " 27  primary_cleaner.state.floatbank8_c_level            14148 non-null  float64\n",
            " 28  primary_cleaner.state.floatbank8_d_air              14146 non-null  float64\n",
            " 29  primary_cleaner.state.floatbank8_d_level            14148 non-null  float64\n",
            " 30  rougher.calculation.sulfate_to_au_concentrate       14148 non-null  float64\n",
            " 31  rougher.calculation.floatbank10_sulfate_to_au_feed  14148 non-null  float64\n",
            " 32  rougher.calculation.floatbank11_sulfate_to_au_feed  14148 non-null  float64\n",
            " 33  rougher.calculation.au_pb_ratio                     14149 non-null  float64\n",
            " 34  rougher.input.feed_ag                               14149 non-null  float64\n",
            " 35  rougher.input.feed_pb                               14049 non-null  float64\n",
            " 36  rougher.input.feed_rate                             14141 non-null  float64\n",
            " 37  rougher.input.feed_size                             14005 non-null  float64\n",
            " 38  rougher.input.feed_sol                              14071 non-null  float64\n",
            " 39  rougher.input.feed_au                               14149 non-null  float64\n",
            " 40  rougher.input.floatbank10_sulfate                   14120 non-null  float64\n",
            " 41  rougher.input.floatbank10_xanthate                  14141 non-null  float64\n",
            " 42  rougher.input.floatbank11_sulfate                   14113 non-null  float64\n",
            " 43  rougher.input.floatbank11_xanthate                  13721 non-null  float64\n",
            " 44  rougher.output.concentrate_ag                       14149 non-null  float64\n",
            " 45  rougher.output.concentrate_pb                       14149 non-null  float64\n",
            " 46  rougher.output.concentrate_sol                      14127 non-null  float64\n",
            " 47  rougher.output.concentrate_au                       14149 non-null  float64\n",
            " 48  rougher.output.recovery                             14149 non-null  float64\n",
            " 49  rougher.output.tail_ag                              14148 non-null  float64\n",
            " 50  rougher.output.tail_pb                              14149 non-null  float64\n",
            " 51  rougher.output.tail_sol                             14149 non-null  float64\n",
            " 52  rougher.output.tail_au                              14149 non-null  float64\n",
            " 53  rougher.state.floatbank10_a_air                     14148 non-null  float64\n",
            " 54  rougher.state.floatbank10_a_level                   14148 non-null  float64\n",
            " 55  rougher.state.floatbank10_b_air                     14148 non-null  float64\n",
            " 56  rougher.state.floatbank10_b_level                   14148 non-null  float64\n",
            " 57  rougher.state.floatbank10_c_air                     14148 non-null  float64\n",
            " 58  rougher.state.floatbank10_c_level                   14148 non-null  float64\n",
            " 59  rougher.state.floatbank10_d_air                     14149 non-null  float64\n",
            " 60  rougher.state.floatbank10_d_level                   14149 non-null  float64\n",
            " 61  rougher.state.floatbank10_e_air                     13713 non-null  float64\n",
            " 62  rougher.state.floatbank10_e_level                   14149 non-null  float64\n",
            " 63  rougher.state.floatbank10_f_air                     14149 non-null  float64\n",
            " 64  rougher.state.floatbank10_f_level                   14149 non-null  float64\n",
            " 65  secondary_cleaner.output.tail_ag                    14147 non-null  float64\n",
            " 66  secondary_cleaner.output.tail_pb                    14139 non-null  float64\n",
            " 67  secondary_cleaner.output.tail_sol                   12544 non-null  float64\n",
            " 68  secondary_cleaner.output.tail_au                    14149 non-null  float64\n",
            " 69  secondary_cleaner.state.floatbank2_a_air            13932 non-null  float64\n",
            " 70  secondary_cleaner.state.floatbank2_a_level          14148 non-null  float64\n",
            " 71  secondary_cleaner.state.floatbank2_b_air            14128 non-null  float64\n",
            " 72  secondary_cleaner.state.floatbank2_b_level          14148 non-null  float64\n",
            " 73  secondary_cleaner.state.floatbank3_a_air            14145 non-null  float64\n",
            " 74  secondary_cleaner.state.floatbank3_a_level          14148 non-null  float64\n",
            " 75  secondary_cleaner.state.floatbank3_b_air            14148 non-null  float64\n",
            " 76  secondary_cleaner.state.floatbank3_b_level          14148 non-null  float64\n",
            " 77  secondary_cleaner.state.floatbank4_a_air            14143 non-null  float64\n",
            " 78  secondary_cleaner.state.floatbank4_a_level          14148 non-null  float64\n",
            " 79  secondary_cleaner.state.floatbank4_b_air            14148 non-null  float64\n",
            " 80  secondary_cleaner.state.floatbank4_b_level          14148 non-null  float64\n",
            " 81  secondary_cleaner.state.floatbank5_a_air            14148 non-null  float64\n",
            " 82  secondary_cleaner.state.floatbank5_a_level          14148 non-null  float64\n",
            " 83  secondary_cleaner.state.floatbank5_b_air            14148 non-null  float64\n",
            " 84  secondary_cleaner.state.floatbank5_b_level          14148 non-null  float64\n",
            " 85  secondary_cleaner.state.floatbank6_a_air            14147 non-null  float64\n",
            " 86  secondary_cleaner.state.floatbank6_a_level          14148 non-null  float64\n",
            "dtypes: float64(86), object(1)\n",
            "memory usage: 9.4+ MB\n"
          ]
        }
      ],
      "source": [
        "data_train.info()"
      ]
    },
    {
      "cell_type": "markdown",
      "metadata": {
        "id": "QZIdg4psxPGG"
      },
      "source": [
        "АУЧ. Чуть больше 14 тысяч строк, но 87 столбцов! Однако в первом приближении видим, что типы данных в целом соответсвуют ожидаемым (везде числовой формат)"
      ]
    },
    {
      "cell_type": "code",
      "execution_count": null,
      "metadata": {
        "id": "qvSzpy6qxPGG",
        "outputId": "bc5e65fb-2d80-4c27-f571-73043e52d3ba"
      },
      "outputs": [
        {
          "data": {
            "text/html": [
              "<div>\n",
              "<style scoped>\n",
              "    .dataframe tbody tr th:only-of-type {\n",
              "        vertical-align: middle;\n",
              "    }\n",
              "\n",
              "    .dataframe tbody tr th {\n",
              "        vertical-align: top;\n",
              "    }\n",
              "\n",
              "    .dataframe thead th {\n",
              "        text-align: right;\n",
              "    }\n",
              "</style>\n",
              "<table border=\"1\" class=\"dataframe\">\n",
              "  <thead>\n",
              "    <tr style=\"text-align: right;\">\n",
              "      <th></th>\n",
              "      <th>date</th>\n",
              "      <th>primary_cleaner.input.sulfate</th>\n",
              "      <th>primary_cleaner.input.depressant</th>\n",
              "      <th>primary_cleaner.input.feed_size</th>\n",
              "      <th>primary_cleaner.input.xanthate</th>\n",
              "      <th>primary_cleaner.state.floatbank8_a_air</th>\n",
              "      <th>primary_cleaner.state.floatbank8_a_level</th>\n",
              "      <th>primary_cleaner.state.floatbank8_b_air</th>\n",
              "      <th>primary_cleaner.state.floatbank8_b_level</th>\n",
              "      <th>primary_cleaner.state.floatbank8_c_air</th>\n",
              "      <th>...</th>\n",
              "      <th>secondary_cleaner.state.floatbank4_a_air</th>\n",
              "      <th>secondary_cleaner.state.floatbank4_a_level</th>\n",
              "      <th>secondary_cleaner.state.floatbank4_b_air</th>\n",
              "      <th>secondary_cleaner.state.floatbank4_b_level</th>\n",
              "      <th>secondary_cleaner.state.floatbank5_a_air</th>\n",
              "      <th>secondary_cleaner.state.floatbank5_a_level</th>\n",
              "      <th>secondary_cleaner.state.floatbank5_b_air</th>\n",
              "      <th>secondary_cleaner.state.floatbank5_b_level</th>\n",
              "      <th>secondary_cleaner.state.floatbank6_a_air</th>\n",
              "      <th>secondary_cleaner.state.floatbank6_a_level</th>\n",
              "    </tr>\n",
              "  </thead>\n",
              "  <tbody>\n",
              "    <tr>\n",
              "      <th>0</th>\n",
              "      <td>2016-09-01 00:59:59</td>\n",
              "      <td>210.800909</td>\n",
              "      <td>14.993118</td>\n",
              "      <td>8.080000</td>\n",
              "      <td>1.005021</td>\n",
              "      <td>1398.981301</td>\n",
              "      <td>-500.225577</td>\n",
              "      <td>1399.144926</td>\n",
              "      <td>-499.919735</td>\n",
              "      <td>1400.102998</td>\n",
              "      <td>...</td>\n",
              "      <td>12.023554</td>\n",
              "      <td>-497.795834</td>\n",
              "      <td>8.016656</td>\n",
              "      <td>-501.289139</td>\n",
              "      <td>7.946562</td>\n",
              "      <td>-432.317850</td>\n",
              "      <td>4.872511</td>\n",
              "      <td>-500.037437</td>\n",
              "      <td>26.705889</td>\n",
              "      <td>-499.709414</td>\n",
              "    </tr>\n",
              "    <tr>\n",
              "      <th>1</th>\n",
              "      <td>2016-09-01 01:59:59</td>\n",
              "      <td>215.392455</td>\n",
              "      <td>14.987471</td>\n",
              "      <td>8.080000</td>\n",
              "      <td>0.990469</td>\n",
              "      <td>1398.777912</td>\n",
              "      <td>-500.057435</td>\n",
              "      <td>1398.055362</td>\n",
              "      <td>-499.778182</td>\n",
              "      <td>1396.151033</td>\n",
              "      <td>...</td>\n",
              "      <td>12.058140</td>\n",
              "      <td>-498.695773</td>\n",
              "      <td>8.130979</td>\n",
              "      <td>-499.634209</td>\n",
              "      <td>7.958270</td>\n",
              "      <td>-525.839648</td>\n",
              "      <td>4.878850</td>\n",
              "      <td>-500.162375</td>\n",
              "      <td>25.019940</td>\n",
              "      <td>-499.819438</td>\n",
              "    </tr>\n",
              "    <tr>\n",
              "      <th>2</th>\n",
              "      <td>2016-09-01 02:59:59</td>\n",
              "      <td>215.259946</td>\n",
              "      <td>12.884934</td>\n",
              "      <td>7.786667</td>\n",
              "      <td>0.996043</td>\n",
              "      <td>1398.493666</td>\n",
              "      <td>-500.868360</td>\n",
              "      <td>1398.860436</td>\n",
              "      <td>-499.764529</td>\n",
              "      <td>1398.075709</td>\n",
              "      <td>...</td>\n",
              "      <td>11.962366</td>\n",
              "      <td>-498.767484</td>\n",
              "      <td>8.096893</td>\n",
              "      <td>-500.827423</td>\n",
              "      <td>8.071056</td>\n",
              "      <td>-500.801673</td>\n",
              "      <td>4.905125</td>\n",
              "      <td>-499.828510</td>\n",
              "      <td>24.994862</td>\n",
              "      <td>-500.622559</td>\n",
              "    </tr>\n",
              "    <tr>\n",
              "      <th>3</th>\n",
              "      <td>2016-09-01 03:59:59</td>\n",
              "      <td>215.336236</td>\n",
              "      <td>12.006805</td>\n",
              "      <td>7.640000</td>\n",
              "      <td>0.863514</td>\n",
              "      <td>1399.618111</td>\n",
              "      <td>-498.863574</td>\n",
              "      <td>1397.440120</td>\n",
              "      <td>-499.211024</td>\n",
              "      <td>1400.129303</td>\n",
              "      <td>...</td>\n",
              "      <td>12.033091</td>\n",
              "      <td>-498.350935</td>\n",
              "      <td>8.074946</td>\n",
              "      <td>-499.474407</td>\n",
              "      <td>7.897085</td>\n",
              "      <td>-500.868509</td>\n",
              "      <td>4.931400</td>\n",
              "      <td>-499.963623</td>\n",
              "      <td>24.948919</td>\n",
              "      <td>-498.709987</td>\n",
              "    </tr>\n",
              "    <tr>\n",
              "      <th>4</th>\n",
              "      <td>2016-09-01 04:59:59</td>\n",
              "      <td>199.099327</td>\n",
              "      <td>10.682530</td>\n",
              "      <td>7.530000</td>\n",
              "      <td>0.805575</td>\n",
              "      <td>1401.268123</td>\n",
              "      <td>-500.808305</td>\n",
              "      <td>1398.128818</td>\n",
              "      <td>-499.504543</td>\n",
              "      <td>1402.172226</td>\n",
              "      <td>...</td>\n",
              "      <td>12.025367</td>\n",
              "      <td>-500.786497</td>\n",
              "      <td>8.054678</td>\n",
              "      <td>-500.397500</td>\n",
              "      <td>8.107890</td>\n",
              "      <td>-509.526725</td>\n",
              "      <td>4.957674</td>\n",
              "      <td>-500.360026</td>\n",
              "      <td>25.003331</td>\n",
              "      <td>-500.856333</td>\n",
              "    </tr>\n",
              "  </tbody>\n",
              "</table>\n",
              "<p>5 rows × 53 columns</p>\n",
              "</div>"
            ],
            "text/plain": [
              "                  date  primary_cleaner.input.sulfate  \\\n",
              "0  2016-09-01 00:59:59                     210.800909   \n",
              "1  2016-09-01 01:59:59                     215.392455   \n",
              "2  2016-09-01 02:59:59                     215.259946   \n",
              "3  2016-09-01 03:59:59                     215.336236   \n",
              "4  2016-09-01 04:59:59                     199.099327   \n",
              "\n",
              "   primary_cleaner.input.depressant  primary_cleaner.input.feed_size  \\\n",
              "0                         14.993118                         8.080000   \n",
              "1                         14.987471                         8.080000   \n",
              "2                         12.884934                         7.786667   \n",
              "3                         12.006805                         7.640000   \n",
              "4                         10.682530                         7.530000   \n",
              "\n",
              "   primary_cleaner.input.xanthate  primary_cleaner.state.floatbank8_a_air  \\\n",
              "0                        1.005021                             1398.981301   \n",
              "1                        0.990469                             1398.777912   \n",
              "2                        0.996043                             1398.493666   \n",
              "3                        0.863514                             1399.618111   \n",
              "4                        0.805575                             1401.268123   \n",
              "\n",
              "   primary_cleaner.state.floatbank8_a_level  \\\n",
              "0                               -500.225577   \n",
              "1                               -500.057435   \n",
              "2                               -500.868360   \n",
              "3                               -498.863574   \n",
              "4                               -500.808305   \n",
              "\n",
              "   primary_cleaner.state.floatbank8_b_air  \\\n",
              "0                             1399.144926   \n",
              "1                             1398.055362   \n",
              "2                             1398.860436   \n",
              "3                             1397.440120   \n",
              "4                             1398.128818   \n",
              "\n",
              "   primary_cleaner.state.floatbank8_b_level  \\\n",
              "0                               -499.919735   \n",
              "1                               -499.778182   \n",
              "2                               -499.764529   \n",
              "3                               -499.211024   \n",
              "4                               -499.504543   \n",
              "\n",
              "   primary_cleaner.state.floatbank8_c_air  ...  \\\n",
              "0                             1400.102998  ...   \n",
              "1                             1396.151033  ...   \n",
              "2                             1398.075709  ...   \n",
              "3                             1400.129303  ...   \n",
              "4                             1402.172226  ...   \n",
              "\n",
              "   secondary_cleaner.state.floatbank4_a_air  \\\n",
              "0                                 12.023554   \n",
              "1                                 12.058140   \n",
              "2                                 11.962366   \n",
              "3                                 12.033091   \n",
              "4                                 12.025367   \n",
              "\n",
              "   secondary_cleaner.state.floatbank4_a_level  \\\n",
              "0                                 -497.795834   \n",
              "1                                 -498.695773   \n",
              "2                                 -498.767484   \n",
              "3                                 -498.350935   \n",
              "4                                 -500.786497   \n",
              "\n",
              "   secondary_cleaner.state.floatbank4_b_air  \\\n",
              "0                                  8.016656   \n",
              "1                                  8.130979   \n",
              "2                                  8.096893   \n",
              "3                                  8.074946   \n",
              "4                                  8.054678   \n",
              "\n",
              "   secondary_cleaner.state.floatbank4_b_level  \\\n",
              "0                                 -501.289139   \n",
              "1                                 -499.634209   \n",
              "2                                 -500.827423   \n",
              "3                                 -499.474407   \n",
              "4                                 -500.397500   \n",
              "\n",
              "   secondary_cleaner.state.floatbank5_a_air  \\\n",
              "0                                  7.946562   \n",
              "1                                  7.958270   \n",
              "2                                  8.071056   \n",
              "3                                  7.897085   \n",
              "4                                  8.107890   \n",
              "\n",
              "   secondary_cleaner.state.floatbank5_a_level  \\\n",
              "0                                 -432.317850   \n",
              "1                                 -525.839648   \n",
              "2                                 -500.801673   \n",
              "3                                 -500.868509   \n",
              "4                                 -509.526725   \n",
              "\n",
              "   secondary_cleaner.state.floatbank5_b_air  \\\n",
              "0                                  4.872511   \n",
              "1                                  4.878850   \n",
              "2                                  4.905125   \n",
              "3                                  4.931400   \n",
              "4                                  4.957674   \n",
              "\n",
              "   secondary_cleaner.state.floatbank5_b_level  \\\n",
              "0                                 -500.037437   \n",
              "1                                 -500.162375   \n",
              "2                                 -499.828510   \n",
              "3                                 -499.963623   \n",
              "4                                 -500.360026   \n",
              "\n",
              "   secondary_cleaner.state.floatbank6_a_air  \\\n",
              "0                                 26.705889   \n",
              "1                                 25.019940   \n",
              "2                                 24.994862   \n",
              "3                                 24.948919   \n",
              "4                                 25.003331   \n",
              "\n",
              "   secondary_cleaner.state.floatbank6_a_level  \n",
              "0                                 -499.709414  \n",
              "1                                 -499.819438  \n",
              "2                                 -500.622559  \n",
              "3                                 -498.709987  \n",
              "4                                 -500.856333  \n",
              "\n",
              "[5 rows x 53 columns]"
            ]
          },
          "execution_count": 5,
          "metadata": {},
          "output_type": "execute_result"
        }
      ],
      "source": [
        "data_test.head()"
      ]
    },
    {
      "cell_type": "code",
      "execution_count": null,
      "metadata": {
        "id": "8KCc0aSpxPGG",
        "outputId": "93bda0c4-df2d-4c7b-9af3-23a5b3d2f836"
      },
      "outputs": [
        {
          "name": "stdout",
          "output_type": "stream",
          "text": [
            "<class 'pandas.core.frame.DataFrame'>\n",
            "RangeIndex: 5290 entries, 0 to 5289\n",
            "Data columns (total 53 columns):\n",
            " #   Column                                      Non-Null Count  Dtype  \n",
            "---  ------                                      --------------  -----  \n",
            " 0   date                                        5290 non-null   object \n",
            " 1   primary_cleaner.input.sulfate               5286 non-null   float64\n",
            " 2   primary_cleaner.input.depressant            5285 non-null   float64\n",
            " 3   primary_cleaner.input.feed_size             5290 non-null   float64\n",
            " 4   primary_cleaner.input.xanthate              5286 non-null   float64\n",
            " 5   primary_cleaner.state.floatbank8_a_air      5290 non-null   float64\n",
            " 6   primary_cleaner.state.floatbank8_a_level    5290 non-null   float64\n",
            " 7   primary_cleaner.state.floatbank8_b_air      5290 non-null   float64\n",
            " 8   primary_cleaner.state.floatbank8_b_level    5290 non-null   float64\n",
            " 9   primary_cleaner.state.floatbank8_c_air      5290 non-null   float64\n",
            " 10  primary_cleaner.state.floatbank8_c_level    5290 non-null   float64\n",
            " 11  primary_cleaner.state.floatbank8_d_air      5290 non-null   float64\n",
            " 12  primary_cleaner.state.floatbank8_d_level    5290 non-null   float64\n",
            " 13  rougher.input.feed_ag                       5290 non-null   float64\n",
            " 14  rougher.input.feed_pb                       5290 non-null   float64\n",
            " 15  rougher.input.feed_rate                     5287 non-null   float64\n",
            " 16  rougher.input.feed_size                     5289 non-null   float64\n",
            " 17  rougher.input.feed_sol                      5269 non-null   float64\n",
            " 18  rougher.input.feed_au                       5290 non-null   float64\n",
            " 19  rougher.input.floatbank10_sulfate           5285 non-null   float64\n",
            " 20  rougher.input.floatbank10_xanthate          5290 non-null   float64\n",
            " 21  rougher.input.floatbank11_sulfate           5282 non-null   float64\n",
            " 22  rougher.input.floatbank11_xanthate          5265 non-null   float64\n",
            " 23  rougher.state.floatbank10_a_air             5290 non-null   float64\n",
            " 24  rougher.state.floatbank10_a_level           5290 non-null   float64\n",
            " 25  rougher.state.floatbank10_b_air             5290 non-null   float64\n",
            " 26  rougher.state.floatbank10_b_level           5290 non-null   float64\n",
            " 27  rougher.state.floatbank10_c_air             5290 non-null   float64\n",
            " 28  rougher.state.floatbank10_c_level           5290 non-null   float64\n",
            " 29  rougher.state.floatbank10_d_air             5290 non-null   float64\n",
            " 30  rougher.state.floatbank10_d_level           5290 non-null   float64\n",
            " 31  rougher.state.floatbank10_e_air             5290 non-null   float64\n",
            " 32  rougher.state.floatbank10_e_level           5290 non-null   float64\n",
            " 33  rougher.state.floatbank10_f_air             5290 non-null   float64\n",
            " 34  rougher.state.floatbank10_f_level           5290 non-null   float64\n",
            " 35  secondary_cleaner.state.floatbank2_a_air    5287 non-null   float64\n",
            " 36  secondary_cleaner.state.floatbank2_a_level  5290 non-null   float64\n",
            " 37  secondary_cleaner.state.floatbank2_b_air    5288 non-null   float64\n",
            " 38  secondary_cleaner.state.floatbank2_b_level  5290 non-null   float64\n",
            " 39  secondary_cleaner.state.floatbank3_a_air    5281 non-null   float64\n",
            " 40  secondary_cleaner.state.floatbank3_a_level  5290 non-null   float64\n",
            " 41  secondary_cleaner.state.floatbank3_b_air    5290 non-null   float64\n",
            " 42  secondary_cleaner.state.floatbank3_b_level  5290 non-null   float64\n",
            " 43  secondary_cleaner.state.floatbank4_a_air    5290 non-null   float64\n",
            " 44  secondary_cleaner.state.floatbank4_a_level  5290 non-null   float64\n",
            " 45  secondary_cleaner.state.floatbank4_b_air    5290 non-null   float64\n",
            " 46  secondary_cleaner.state.floatbank4_b_level  5290 non-null   float64\n",
            " 47  secondary_cleaner.state.floatbank5_a_air    5290 non-null   float64\n",
            " 48  secondary_cleaner.state.floatbank5_a_level  5290 non-null   float64\n",
            " 49  secondary_cleaner.state.floatbank5_b_air    5290 non-null   float64\n",
            " 50  secondary_cleaner.state.floatbank5_b_level  5290 non-null   float64\n",
            " 51  secondary_cleaner.state.floatbank6_a_air    5290 non-null   float64\n",
            " 52  secondary_cleaner.state.floatbank6_a_level  5290 non-null   float64\n",
            "dtypes: float64(52), object(1)\n",
            "memory usage: 2.1+ MB\n"
          ]
        }
      ],
      "source": [
        "data_test.info()"
      ]
    },
    {
      "cell_type": "markdown",
      "metadata": {
        "id": "u2TAMqDTxPGG"
      },
      "source": [
        "Чуть больше пяти тысяч столбцов, обращаем внимание на то, что здесь столбцов уже чущественно меньше - 53 вместо 87. Либо какие-то данные не выгружаются, либо какие-то значения - вычисляемые. Будем разбираться. Пока обратим внимание на то, что здесь снова есть пропуски, а типы данных соответствуют ожидаемому числовому формату."
      ]
    },
    {
      "cell_type": "code",
      "execution_count": null,
      "metadata": {
        "id": "RB04fAC6xPGG",
        "outputId": "03c80e85-9a3a-40fc-970b-9cb168c0ecd5"
      },
      "outputs": [
        {
          "data": {
            "text/html": [
              "<div>\n",
              "<style scoped>\n",
              "    .dataframe tbody tr th:only-of-type {\n",
              "        vertical-align: middle;\n",
              "    }\n",
              "\n",
              "    .dataframe tbody tr th {\n",
              "        vertical-align: top;\n",
              "    }\n",
              "\n",
              "    .dataframe thead th {\n",
              "        text-align: right;\n",
              "    }\n",
              "</style>\n",
              "<table border=\"1\" class=\"dataframe\">\n",
              "  <thead>\n",
              "    <tr style=\"text-align: right;\">\n",
              "      <th></th>\n",
              "      <th>date</th>\n",
              "      <th>final.output.concentrate_ag</th>\n",
              "      <th>final.output.concentrate_pb</th>\n",
              "      <th>final.output.concentrate_sol</th>\n",
              "      <th>final.output.concentrate_au</th>\n",
              "      <th>final.output.recovery</th>\n",
              "      <th>final.output.tail_ag</th>\n",
              "      <th>final.output.tail_pb</th>\n",
              "      <th>final.output.tail_sol</th>\n",
              "      <th>final.output.tail_au</th>\n",
              "      <th>...</th>\n",
              "      <th>secondary_cleaner.state.floatbank4_a_air</th>\n",
              "      <th>secondary_cleaner.state.floatbank4_a_level</th>\n",
              "      <th>secondary_cleaner.state.floatbank4_b_air</th>\n",
              "      <th>secondary_cleaner.state.floatbank4_b_level</th>\n",
              "      <th>secondary_cleaner.state.floatbank5_a_air</th>\n",
              "      <th>secondary_cleaner.state.floatbank5_a_level</th>\n",
              "      <th>secondary_cleaner.state.floatbank5_b_air</th>\n",
              "      <th>secondary_cleaner.state.floatbank5_b_level</th>\n",
              "      <th>secondary_cleaner.state.floatbank6_a_air</th>\n",
              "      <th>secondary_cleaner.state.floatbank6_a_level</th>\n",
              "    </tr>\n",
              "  </thead>\n",
              "  <tbody>\n",
              "    <tr>\n",
              "      <th>0</th>\n",
              "      <td>2016-01-15 00:00:00</td>\n",
              "      <td>6.055403</td>\n",
              "      <td>9.889648</td>\n",
              "      <td>5.507324</td>\n",
              "      <td>42.192020</td>\n",
              "      <td>70.541216</td>\n",
              "      <td>10.411962</td>\n",
              "      <td>0.895447</td>\n",
              "      <td>16.904297</td>\n",
              "      <td>2.143149</td>\n",
              "      <td>...</td>\n",
              "      <td>14.016835</td>\n",
              "      <td>-502.488007</td>\n",
              "      <td>12.099931</td>\n",
              "      <td>-504.715942</td>\n",
              "      <td>9.925633</td>\n",
              "      <td>-498.310211</td>\n",
              "      <td>8.079666</td>\n",
              "      <td>-500.470978</td>\n",
              "      <td>14.151341</td>\n",
              "      <td>-605.841980</td>\n",
              "    </tr>\n",
              "    <tr>\n",
              "      <th>1</th>\n",
              "      <td>2016-01-15 01:00:00</td>\n",
              "      <td>6.029369</td>\n",
              "      <td>9.968944</td>\n",
              "      <td>5.257781</td>\n",
              "      <td>42.701629</td>\n",
              "      <td>69.266198</td>\n",
              "      <td>10.462676</td>\n",
              "      <td>0.927452</td>\n",
              "      <td>16.634514</td>\n",
              "      <td>2.224930</td>\n",
              "      <td>...</td>\n",
              "      <td>13.992281</td>\n",
              "      <td>-505.503262</td>\n",
              "      <td>11.950531</td>\n",
              "      <td>-501.331529</td>\n",
              "      <td>10.039245</td>\n",
              "      <td>-500.169983</td>\n",
              "      <td>7.984757</td>\n",
              "      <td>-500.582168</td>\n",
              "      <td>13.998353</td>\n",
              "      <td>-599.787184</td>\n",
              "    </tr>\n",
              "    <tr>\n",
              "      <th>2</th>\n",
              "      <td>2016-01-15 02:00:00</td>\n",
              "      <td>6.055926</td>\n",
              "      <td>10.213995</td>\n",
              "      <td>5.383759</td>\n",
              "      <td>42.657501</td>\n",
              "      <td>68.116445</td>\n",
              "      <td>10.507046</td>\n",
              "      <td>0.953716</td>\n",
              "      <td>16.208849</td>\n",
              "      <td>2.257889</td>\n",
              "      <td>...</td>\n",
              "      <td>14.015015</td>\n",
              "      <td>-502.520901</td>\n",
              "      <td>11.912783</td>\n",
              "      <td>-501.133383</td>\n",
              "      <td>10.070913</td>\n",
              "      <td>-500.129135</td>\n",
              "      <td>8.013877</td>\n",
              "      <td>-500.517572</td>\n",
              "      <td>14.028663</td>\n",
              "      <td>-601.427363</td>\n",
              "    </tr>\n",
              "    <tr>\n",
              "      <th>3</th>\n",
              "      <td>2016-01-15 03:00:00</td>\n",
              "      <td>6.047977</td>\n",
              "      <td>9.977019</td>\n",
              "      <td>4.858634</td>\n",
              "      <td>42.689819</td>\n",
              "      <td>68.347543</td>\n",
              "      <td>10.422762</td>\n",
              "      <td>0.883763</td>\n",
              "      <td>16.532835</td>\n",
              "      <td>2.146849</td>\n",
              "      <td>...</td>\n",
              "      <td>14.036510</td>\n",
              "      <td>-500.857308</td>\n",
              "      <td>11.999550</td>\n",
              "      <td>-501.193686</td>\n",
              "      <td>9.970366</td>\n",
              "      <td>-499.201640</td>\n",
              "      <td>7.977324</td>\n",
              "      <td>-500.255908</td>\n",
              "      <td>14.005551</td>\n",
              "      <td>-599.996129</td>\n",
              "    </tr>\n",
              "    <tr>\n",
              "      <th>4</th>\n",
              "      <td>2016-01-15 04:00:00</td>\n",
              "      <td>6.148599</td>\n",
              "      <td>10.142511</td>\n",
              "      <td>4.939416</td>\n",
              "      <td>42.774141</td>\n",
              "      <td>66.927016</td>\n",
              "      <td>10.360302</td>\n",
              "      <td>0.792826</td>\n",
              "      <td>16.525686</td>\n",
              "      <td>2.055292</td>\n",
              "      <td>...</td>\n",
              "      <td>14.027298</td>\n",
              "      <td>-499.838632</td>\n",
              "      <td>11.953070</td>\n",
              "      <td>-501.053894</td>\n",
              "      <td>9.925709</td>\n",
              "      <td>-501.686727</td>\n",
              "      <td>7.894242</td>\n",
              "      <td>-500.356035</td>\n",
              "      <td>13.996647</td>\n",
              "      <td>-601.496691</td>\n",
              "    </tr>\n",
              "  </tbody>\n",
              "</table>\n",
              "<p>5 rows × 87 columns</p>\n",
              "</div>"
            ],
            "text/plain": [
              "                  date  final.output.concentrate_ag  \\\n",
              "0  2016-01-15 00:00:00                     6.055403   \n",
              "1  2016-01-15 01:00:00                     6.029369   \n",
              "2  2016-01-15 02:00:00                     6.055926   \n",
              "3  2016-01-15 03:00:00                     6.047977   \n",
              "4  2016-01-15 04:00:00                     6.148599   \n",
              "\n",
              "   final.output.concentrate_pb  final.output.concentrate_sol  \\\n",
              "0                     9.889648                      5.507324   \n",
              "1                     9.968944                      5.257781   \n",
              "2                    10.213995                      5.383759   \n",
              "3                     9.977019                      4.858634   \n",
              "4                    10.142511                      4.939416   \n",
              "\n",
              "   final.output.concentrate_au  final.output.recovery  final.output.tail_ag  \\\n",
              "0                    42.192020              70.541216             10.411962   \n",
              "1                    42.701629              69.266198             10.462676   \n",
              "2                    42.657501              68.116445             10.507046   \n",
              "3                    42.689819              68.347543             10.422762   \n",
              "4                    42.774141              66.927016             10.360302   \n",
              "\n",
              "   final.output.tail_pb  final.output.tail_sol  final.output.tail_au  ...  \\\n",
              "0              0.895447              16.904297              2.143149  ...   \n",
              "1              0.927452              16.634514              2.224930  ...   \n",
              "2              0.953716              16.208849              2.257889  ...   \n",
              "3              0.883763              16.532835              2.146849  ...   \n",
              "4              0.792826              16.525686              2.055292  ...   \n",
              "\n",
              "   secondary_cleaner.state.floatbank4_a_air  \\\n",
              "0                                 14.016835   \n",
              "1                                 13.992281   \n",
              "2                                 14.015015   \n",
              "3                                 14.036510   \n",
              "4                                 14.027298   \n",
              "\n",
              "   secondary_cleaner.state.floatbank4_a_level  \\\n",
              "0                                 -502.488007   \n",
              "1                                 -505.503262   \n",
              "2                                 -502.520901   \n",
              "3                                 -500.857308   \n",
              "4                                 -499.838632   \n",
              "\n",
              "   secondary_cleaner.state.floatbank4_b_air  \\\n",
              "0                                 12.099931   \n",
              "1                                 11.950531   \n",
              "2                                 11.912783   \n",
              "3                                 11.999550   \n",
              "4                                 11.953070   \n",
              "\n",
              "   secondary_cleaner.state.floatbank4_b_level  \\\n",
              "0                                 -504.715942   \n",
              "1                                 -501.331529   \n",
              "2                                 -501.133383   \n",
              "3                                 -501.193686   \n",
              "4                                 -501.053894   \n",
              "\n",
              "   secondary_cleaner.state.floatbank5_a_air  \\\n",
              "0                                  9.925633   \n",
              "1                                 10.039245   \n",
              "2                                 10.070913   \n",
              "3                                  9.970366   \n",
              "4                                  9.925709   \n",
              "\n",
              "   secondary_cleaner.state.floatbank5_a_level  \\\n",
              "0                                 -498.310211   \n",
              "1                                 -500.169983   \n",
              "2                                 -500.129135   \n",
              "3                                 -499.201640   \n",
              "4                                 -501.686727   \n",
              "\n",
              "   secondary_cleaner.state.floatbank5_b_air  \\\n",
              "0                                  8.079666   \n",
              "1                                  7.984757   \n",
              "2                                  8.013877   \n",
              "3                                  7.977324   \n",
              "4                                  7.894242   \n",
              "\n",
              "   secondary_cleaner.state.floatbank5_b_level  \\\n",
              "0                                 -500.470978   \n",
              "1                                 -500.582168   \n",
              "2                                 -500.517572   \n",
              "3                                 -500.255908   \n",
              "4                                 -500.356035   \n",
              "\n",
              "   secondary_cleaner.state.floatbank6_a_air  \\\n",
              "0                                 14.151341   \n",
              "1                                 13.998353   \n",
              "2                                 14.028663   \n",
              "3                                 14.005551   \n",
              "4                                 13.996647   \n",
              "\n",
              "   secondary_cleaner.state.floatbank6_a_level  \n",
              "0                                 -605.841980  \n",
              "1                                 -599.787184  \n",
              "2                                 -601.427363  \n",
              "3                                 -599.996129  \n",
              "4                                 -601.496691  \n",
              "\n",
              "[5 rows x 87 columns]"
            ]
          },
          "execution_count": 7,
          "metadata": {},
          "output_type": "execute_result"
        }
      ],
      "source": [
        "data_full.head()"
      ]
    },
    {
      "cell_type": "code",
      "execution_count": null,
      "metadata": {
        "id": "OuUAR2FJxPGG",
        "outputId": "a95a3a1c-a980-44bc-bb71-870433c2b832"
      },
      "outputs": [
        {
          "name": "stdout",
          "output_type": "stream",
          "text": [
            "<class 'pandas.core.frame.DataFrame'>\n",
            "RangeIndex: 19439 entries, 0 to 19438\n",
            "Data columns (total 87 columns):\n",
            " #   Column                                              Non-Null Count  Dtype  \n",
            "---  ------                                              --------------  -----  \n",
            " 0   date                                                19439 non-null  object \n",
            " 1   final.output.concentrate_ag                         19438 non-null  float64\n",
            " 2   final.output.concentrate_pb                         19438 non-null  float64\n",
            " 3   final.output.concentrate_sol                        19228 non-null  float64\n",
            " 4   final.output.concentrate_au                         19439 non-null  float64\n",
            " 5   final.output.recovery                               19439 non-null  float64\n",
            " 6   final.output.tail_ag                                19438 non-null  float64\n",
            " 7   final.output.tail_pb                                19338 non-null  float64\n",
            " 8   final.output.tail_sol                               19433 non-null  float64\n",
            " 9   final.output.tail_au                                19439 non-null  float64\n",
            " 10  primary_cleaner.input.sulfate                       19415 non-null  float64\n",
            " 11  primary_cleaner.input.depressant                    19402 non-null  float64\n",
            " 12  primary_cleaner.input.feed_size                     19439 non-null  float64\n",
            " 13  primary_cleaner.input.xanthate                      19335 non-null  float64\n",
            " 14  primary_cleaner.output.concentrate_ag               19439 non-null  float64\n",
            " 15  primary_cleaner.output.concentrate_pb               19323 non-null  float64\n",
            " 16  primary_cleaner.output.concentrate_sol              19069 non-null  float64\n",
            " 17  primary_cleaner.output.concentrate_au               19439 non-null  float64\n",
            " 18  primary_cleaner.output.tail_ag                      19435 non-null  float64\n",
            " 19  primary_cleaner.output.tail_pb                      19418 non-null  float64\n",
            " 20  primary_cleaner.output.tail_sol                     19377 non-null  float64\n",
            " 21  primary_cleaner.output.tail_au                      19439 non-null  float64\n",
            " 22  primary_cleaner.state.floatbank8_a_air              19435 non-null  float64\n",
            " 23  primary_cleaner.state.floatbank8_a_level            19438 non-null  float64\n",
            " 24  primary_cleaner.state.floatbank8_b_air              19435 non-null  float64\n",
            " 25  primary_cleaner.state.floatbank8_b_level            19438 non-null  float64\n",
            " 26  primary_cleaner.state.floatbank8_c_air              19437 non-null  float64\n",
            " 27  primary_cleaner.state.floatbank8_c_level            19438 non-null  float64\n",
            " 28  primary_cleaner.state.floatbank8_d_air              19436 non-null  float64\n",
            " 29  primary_cleaner.state.floatbank8_d_level            19438 non-null  float64\n",
            " 30  rougher.calculation.sulfate_to_au_concentrate       19437 non-null  float64\n",
            " 31  rougher.calculation.floatbank10_sulfate_to_au_feed  19437 non-null  float64\n",
            " 32  rougher.calculation.floatbank11_sulfate_to_au_feed  19437 non-null  float64\n",
            " 33  rougher.calculation.au_pb_ratio                     19439 non-null  float64\n",
            " 34  rougher.input.feed_ag                               19439 non-null  float64\n",
            " 35  rougher.input.feed_pb                               19339 non-null  float64\n",
            " 36  rougher.input.feed_rate                             19428 non-null  float64\n",
            " 37  rougher.input.feed_size                             19294 non-null  float64\n",
            " 38  rougher.input.feed_sol                              19340 non-null  float64\n",
            " 39  rougher.input.feed_au                               19439 non-null  float64\n",
            " 40  rougher.input.floatbank10_sulfate                   19405 non-null  float64\n",
            " 41  rougher.input.floatbank10_xanthate                  19431 non-null  float64\n",
            " 42  rougher.input.floatbank11_sulfate                   19395 non-null  float64\n",
            " 43  rougher.input.floatbank11_xanthate                  18986 non-null  float64\n",
            " 44  rougher.output.concentrate_ag                       19439 non-null  float64\n",
            " 45  rougher.output.concentrate_pb                       19439 non-null  float64\n",
            " 46  rougher.output.concentrate_sol                      19416 non-null  float64\n",
            " 47  rougher.output.concentrate_au                       19439 non-null  float64\n",
            " 48  rougher.output.recovery                             19439 non-null  float64\n",
            " 49  rougher.output.tail_ag                              19438 non-null  float64\n",
            " 50  rougher.output.tail_pb                              19439 non-null  float64\n",
            " 51  rougher.output.tail_sol                             19439 non-null  float64\n",
            " 52  rougher.output.tail_au                              19439 non-null  float64\n",
            " 53  rougher.state.floatbank10_a_air                     19438 non-null  float64\n",
            " 54  rougher.state.floatbank10_a_level                   19438 non-null  float64\n",
            " 55  rougher.state.floatbank10_b_air                     19438 non-null  float64\n",
            " 56  rougher.state.floatbank10_b_level                   19438 non-null  float64\n",
            " 57  rougher.state.floatbank10_c_air                     19438 non-null  float64\n",
            " 58  rougher.state.floatbank10_c_level                   19438 non-null  float64\n",
            " 59  rougher.state.floatbank10_d_air                     19439 non-null  float64\n",
            " 60  rougher.state.floatbank10_d_level                   19439 non-null  float64\n",
            " 61  rougher.state.floatbank10_e_air                     19003 non-null  float64\n",
            " 62  rougher.state.floatbank10_e_level                   19439 non-null  float64\n",
            " 63  rougher.state.floatbank10_f_air                     19439 non-null  float64\n",
            " 64  rougher.state.floatbank10_f_level                   19439 non-null  float64\n",
            " 65  secondary_cleaner.output.tail_ag                    19437 non-null  float64\n",
            " 66  secondary_cleaner.output.tail_pb                    19427 non-null  float64\n",
            " 67  secondary_cleaner.output.tail_sol                   17691 non-null  float64\n",
            " 68  secondary_cleaner.output.tail_au                    19439 non-null  float64\n",
            " 69  secondary_cleaner.state.floatbank2_a_air            19219 non-null  float64\n",
            " 70  secondary_cleaner.state.floatbank2_a_level          19438 non-null  float64\n",
            " 71  secondary_cleaner.state.floatbank2_b_air            19416 non-null  float64\n",
            " 72  secondary_cleaner.state.floatbank2_b_level          19438 non-null  float64\n",
            " 73  secondary_cleaner.state.floatbank3_a_air            19426 non-null  float64\n",
            " 74  secondary_cleaner.state.floatbank3_a_level          19438 non-null  float64\n",
            " 75  secondary_cleaner.state.floatbank3_b_air            19438 non-null  float64\n",
            " 76  secondary_cleaner.state.floatbank3_b_level          19438 non-null  float64\n",
            " 77  secondary_cleaner.state.floatbank4_a_air            19433 non-null  float64\n",
            " 78  secondary_cleaner.state.floatbank4_a_level          19438 non-null  float64\n",
            " 79  secondary_cleaner.state.floatbank4_b_air            19438 non-null  float64\n",
            " 80  secondary_cleaner.state.floatbank4_b_level          19438 non-null  float64\n",
            " 81  secondary_cleaner.state.floatbank5_a_air            19438 non-null  float64\n",
            " 82  secondary_cleaner.state.floatbank5_a_level          19438 non-null  float64\n",
            " 83  secondary_cleaner.state.floatbank5_b_air            19438 non-null  float64\n",
            " 84  secondary_cleaner.state.floatbank5_b_level          19438 non-null  float64\n",
            " 85  secondary_cleaner.state.floatbank6_a_air            19437 non-null  float64\n",
            " 86  secondary_cleaner.state.floatbank6_a_level          19438 non-null  float64\n",
            "dtypes: float64(86), object(1)\n",
            "memory usage: 12.9+ MB\n"
          ]
        }
      ],
      "source": [
        "data_full.info()"
      ]
    },
    {
      "cell_type": "markdown",
      "metadata": {
        "id": "bq8x4tjmxPGH"
      },
      "source": [
        "Наш добрый знакомый 87 колонок датасета. Пропуски есть, формат числовой. Удалять строки с пропусками пока не будем: несмотря на то, что модели чувствительны к пропускам - пока не знаем, какие именно столбцы будем использовать для обучения моделей. Чтобы не удалить лишнее - пока оставим \"как есть\".\n",
        "\n",
        "\n",
        "Замечение: подготовка данных к обучению моделей отложена до раздела 4.2.1"
      ]
    },
    {
      "cell_type": "markdown",
      "metadata": {
        "id": "0FjuaSOOxPGH"
      },
      "source": [
        "### Проверка корректности вычисления эффективности обогащения"
      ]
    },
    {
      "cell_type": "markdown",
      "metadata": {
        "id": "XTAQK8ImxPGH"
      },
      "source": [
        "Известно, что эффективность обогащения - параметр, вычисляемый как:\n",
        "\n",
        "$  Recovery = \\frac{C \\times (F - T)}{F\\times(C-T)} * 100\\% $, где:\n",
        "- C — доля золота в концентрате после флотации/очистки;\n",
        "- F — доля золота в сырье/концентрате до флотации/очистки;\n",
        "- T — доля золота в отвальных хвостах после флотации/очистки.\n"
      ]
    },
    {
      "cell_type": "markdown",
      "metadata": {
        "id": "AGtr0GSmxPGH"
      },
      "source": [
        "### Эффективность флотации"
      ]
    },
    {
      "cell_type": "markdown",
      "metadata": {
        "id": "qh0MQLhIxPGH"
      },
      "source": [
        "Проверим корректность вычисления на обучающей выборке на признаке rougher.output.recovery - это эффективность обогащения чернового концентрата, то есть это эффективность флотации - этапа конвертации руды в черновой концентрат.\n",
        "\n",
        "Для него:\n",
        "- C = rougher.output.concentrate_au\n",
        "- F = rougher.input.feed_au\n",
        "- T = rougher.output.tail_au\n",
        "\n",
        "\n",
        "Для корректной проверки почистим эти столбцы от пропусков"
      ]
    },
    {
      "cell_type": "code",
      "execution_count": null,
      "metadata": {
        "id": "tdArKH1DxPGH"
      },
      "outputs": [],
      "source": [
        "data_train.dropna(subset=['rougher.output.concentrate_au', 'rougher.input.feed_au',\n",
        "                                   'rougher.output.tail_au','rougher.output.recovery'], inplace=True)"
      ]
    },
    {
      "cell_type": "code",
      "execution_count": null,
      "metadata": {
        "id": "iyjuOYFnxPGI",
        "outputId": "ab7925f1-678d-4bbd-9ba1-ba115905364b"
      },
      "outputs": [
        {
          "name": "stdout",
          "output_type": "stream",
          "text": [
            "Средняя абсолютная ошибка эффеетивности ошибки = 9.73512347450521e-15\n"
          ]
        }
      ],
      "source": [
        "test_C = data_train['rougher.output.concentrate_au']\n",
        "test_F = data_train['rougher.input.feed_au']\n",
        "test_T = data_train['rougher.output.tail_au']\n",
        "\n",
        "data_train['rougher.output.recovery_calculated'] = (test_C * (test_F - test_T)) / (test_F * (test_C - test_T)) * 100\n",
        "print('Средняя абсолютная ошибка эффеетивности ошибки =', mean_absolute_error(data_train['rougher.output.recovery_calculated'], data_train['rougher.output.recovery']))\n"
      ]
    },
    {
      "cell_type": "markdown",
      "metadata": {
        "id": "d0m3okcMxPGI"
      },
      "source": [
        "Видим, что МАЕ стремится к нулю - значит, данный параметр вычисляется корректно. Ради интереса посмотрим на гистограмму эффективности:"
      ]
    },
    {
      "cell_type": "code",
      "execution_count": null,
      "metadata": {
        "id": "ErqxkXaQxPGI",
        "outputId": "f70dce63-ce89-4970-ec85-7acca4347d96"
      },
      "outputs": [
        {
          "data": {
            "image/png": "[encoded data removed]",
            "text/plain": [
              "<Figure size 864x648 with 1 Axes>"
            ]
          },
          "metadata": {
            "needs_background": "light"
          },
          "output_type": "display_data"
        }
      ],
      "source": [
        "plt.figure(figsize=[12,9])\n",
        "\n",
        "plt.hist(data_train['rougher.output.recovery_calculated'], bins=50)\n",
        "plt.xlabel(\"Эффективность обогащения чернового концентрата \")\n",
        "plt.title(\"Гистограмма эффективности флотации \")\n",
        "plt.show()"
      ]
    },
    {
      "cell_type": "markdown",
      "metadata": {
        "id": "EXPd29s5xPGJ"
      },
      "source": [
        "Нулевая эффективность восстановления может соответсвововать двум случаям:\n",
        "1. Доля золота в концентрате после очистки = 0\n",
        "2. Доля золота в концентрате до очистки равна доле золота после очистки в отвальном хвосте.\n",
        "\n",
        "Проверим, что происходит в нашем случае:"
      ]
    },
    {
      "cell_type": "code",
      "execution_count": null,
      "metadata": {
        "id": "OfHD91e4xPGJ",
        "outputId": "387eba0c-d2e6-4524-da99-ea7cb4e00a85"
      },
      "outputs": [
        {
          "data": {
            "text/plain": [
              "297"
            ]
          },
          "execution_count": 12,
          "metadata": {},
          "output_type": "execute_result"
        }
      ],
      "source": [
        "len(data_train[data_train['rougher.output.recovery_calculated']==0])"
      ]
    },
    {
      "cell_type": "code",
      "execution_count": null,
      "metadata": {
        "id": "VS7qTJiGxPGJ",
        "outputId": "2eacb273-31d0-41fd-9f2b-138a23e941cb"
      },
      "outputs": [
        {
          "data": {
            "text/plain": [
              "297"
            ]
          },
          "execution_count": 13,
          "metadata": {},
          "output_type": "execute_result"
        }
      ],
      "source": [
        "len(test_T[test_C==0])"
      ]
    },
    {
      "cell_type": "markdown",
      "metadata": {
        "id": "cvb8hOvSxPGJ"
      },
      "source": [
        "То есть это случай, когда в концентрате после очистки целевого металла (золота) нет совсем. Было бы хорошо обсудить это с экспертом - предполагаем, что это случай, когда целевой металл (золото) изначально отсутствует в сырье."
      ]
    },
    {
      "cell_type": "markdown",
      "metadata": {
        "id": "bCndpOjSxPGK"
      },
      "source": [
        "### Эффективность обогащения финального концентрата"
      ]
    },
    {
      "cell_type": "markdown",
      "metadata": {
        "id": "UsDXDjiMxPGL"
      },
      "source": [
        "Поскольку стоит задача прогноза и этого целевого параметра тоже - посмотрим на его распределение"
      ]
    },
    {
      "cell_type": "code",
      "execution_count": null,
      "metadata": {
        "id": "ze8VulQVxPGL",
        "outputId": "fa4c99c9-9647-4f5f-84ca-f2c85488b09e"
      },
      "outputs": [
        {
          "data": {
            "image/png": "[encoded data removed]",
            "text/plain": [
              "<Figure size 864x648 with 1 Axes>"
            ]
          },
          "metadata": {
            "needs_background": "light"
          },
          "output_type": "display_data"
        }
      ],
      "source": [
        "plt.figure(figsize=[12,9])\n",
        "\n",
        "plt.hist(data_train['final.output.recovery'], bins=50)\n",
        "plt.xlabel(\"Эффективность обогащения финальная\")\n",
        "plt.title(\"Гистограмма итоговой эффективности очистки\")\n",
        "plt.show()"
      ]
    },
    {
      "cell_type": "code",
      "execution_count": null,
      "metadata": {
        "id": "KS2VWO3PxPGL",
        "outputId": "38352014-121f-4f1f-b69a-3d5c60d81cc2"
      },
      "outputs": [
        {
          "data": {
            "text/plain": [
              "count    14149.000000\n",
              "mean        66.518832\n",
              "std         10.295402\n",
              "min          0.000000\n",
              "25%         62.545817\n",
              "50%         67.432775\n",
              "75%         72.346428\n",
              "max        100.000000\n",
              "Name: final.output.recovery, dtype: float64"
            ]
          },
          "execution_count": 16,
          "metadata": {},
          "output_type": "execute_result"
        }
      ],
      "source": [
        "data_train['final.output.recovery'].describe()"
      ]
    },
    {
      "cell_type": "markdown",
      "metadata": {
        "id": "2yyTCONmxPGL"
      },
      "source": [
        "Распределение носит нормальный характер. Есть редкие всплески на 0 и 100 процентах - очевидно, оба случая являются выбросами, избавимся от них."
      ]
    },
    {
      "cell_type": "code",
      "execution_count": null,
      "metadata": {
        "id": "blzRwR_FxPGL"
      },
      "outputs": [],
      "source": [
        "#data_train = data_train[(data_train['final.output.recovery']>0)  & (data_train['final.output.recovery']<100)]"
      ]
    },
    {
      "cell_type": "markdown",
      "metadata": {
        "id": "i5PLg7Q-xPGM"
      },
      "source": [
        "### Исследование признаков, отсутсвующих в тестовой выборке"
      ]
    },
    {
      "cell_type": "markdown",
      "metadata": {
        "id": "ooq6yTbUxPGM"
      },
      "source": [
        "В пункте 2.1 мы уже обратили внимание на то, что в тестовой выборке примерно на 30 колонок меньше, посмотрим, что это за колонки"
      ]
    },
    {
      "cell_type": "code",
      "execution_count": null,
      "metadata": {
        "id": "yyOr8HiGxPGM",
        "outputId": "6f9f1025-da73-4e79-db4e-b14ef42e164e"
      },
      "outputs": [
        {
          "data": {
            "text/plain": [
              "Index(['final.output.concentrate_ag', 'final.output.concentrate_au',\n",
              "       'final.output.concentrate_pb', 'final.output.concentrate_sol',\n",
              "       'final.output.recovery', 'final.output.tail_ag', 'final.output.tail_au',\n",
              "       'final.output.tail_pb', 'final.output.tail_sol',\n",
              "       'primary_cleaner.output.concentrate_ag',\n",
              "       'primary_cleaner.output.concentrate_au',\n",
              "       'primary_cleaner.output.concentrate_pb',\n",
              "       'primary_cleaner.output.concentrate_sol',\n",
              "       'primary_cleaner.output.tail_ag', 'primary_cleaner.output.tail_au',\n",
              "       'primary_cleaner.output.tail_pb', 'primary_cleaner.output.tail_sol',\n",
              "       'rougher.calculation.au_pb_ratio',\n",
              "       'rougher.calculation.floatbank10_sulfate_to_au_feed',\n",
              "       'rougher.calculation.floatbank11_sulfate_to_au_feed',\n",
              "       'rougher.calculation.sulfate_to_au_concentrate',\n",
              "       'rougher.output.concentrate_ag', 'rougher.output.concentrate_au',\n",
              "       'rougher.output.concentrate_pb', 'rougher.output.concentrate_sol',\n",
              "       'rougher.output.recovery', 'rougher.output.recovery_calculated',\n",
              "       'rougher.output.tail_ag', 'rougher.output.tail_au',\n",
              "       'rougher.output.tail_pb', 'rougher.output.tail_sol',\n",
              "       'secondary_cleaner.output.tail_ag', 'secondary_cleaner.output.tail_au',\n",
              "       'secondary_cleaner.output.tail_pb',\n",
              "       'secondary_cleaner.output.tail_sol'],\n",
              "      dtype='object')"
            ]
          },
          "execution_count": 18,
          "metadata": {},
          "output_type": "execute_result"
        }
      ],
      "source": [
        "data_train.columns.difference(data_test.columns)"
      ]
    },
    {
      "cell_type": "markdown",
      "metadata": {
        "id": "1aZzqr_rxPGM"
      },
      "source": [
        "Можно разделить параметры на две большие группы - вычисляемые (smth.calculation.smth_else) и параметры этапа output, это параметры выходного продукта. Вероятно, эти признаки измеряются позже - и потому отсутствуют в тестовой выборке."
      ]
    },
    {
      "cell_type": "code",
      "execution_count": null,
      "metadata": {
        "id": "NOtNOl-ixPGM",
        "outputId": "fc03afbd-c32b-43d2-9ccd-626bfc62ed19"
      },
      "outputs": [
        {
          "data": {
            "text/html": [
              "<div>\n",
              "<style scoped>\n",
              "    .dataframe tbody tr th:only-of-type {\n",
              "        vertical-align: middle;\n",
              "    }\n",
              "\n",
              "    .dataframe tbody tr th {\n",
              "        vertical-align: top;\n",
              "    }\n",
              "\n",
              "    .dataframe thead th {\n",
              "        text-align: right;\n",
              "    }\n",
              "</style>\n",
              "<table border=\"1\" class=\"dataframe\">\n",
              "  <thead>\n",
              "    <tr style=\"text-align: right;\">\n",
              "      <th></th>\n",
              "      <th>final.output.concentrate_ag</th>\n",
              "      <th>final.output.concentrate_au</th>\n",
              "      <th>final.output.concentrate_pb</th>\n",
              "      <th>final.output.concentrate_sol</th>\n",
              "      <th>final.output.recovery</th>\n",
              "      <th>final.output.tail_ag</th>\n",
              "      <th>final.output.tail_au</th>\n",
              "      <th>final.output.tail_pb</th>\n",
              "      <th>final.output.tail_sol</th>\n",
              "      <th>primary_cleaner.output.concentrate_ag</th>\n",
              "      <th>...</th>\n",
              "      <th>rougher.output.recovery</th>\n",
              "      <th>rougher.output.recovery_calculated</th>\n",
              "      <th>rougher.output.tail_ag</th>\n",
              "      <th>rougher.output.tail_au</th>\n",
              "      <th>rougher.output.tail_pb</th>\n",
              "      <th>rougher.output.tail_sol</th>\n",
              "      <th>secondary_cleaner.output.tail_ag</th>\n",
              "      <th>secondary_cleaner.output.tail_au</th>\n",
              "      <th>secondary_cleaner.output.tail_pb</th>\n",
              "      <th>secondary_cleaner.output.tail_sol</th>\n",
              "    </tr>\n",
              "  </thead>\n",
              "  <tbody>\n",
              "    <tr>\n",
              "      <th>count</th>\n",
              "      <td>14148.000000</td>\n",
              "      <td>14149.000000</td>\n",
              "      <td>14148.000000</td>\n",
              "      <td>13938.000000</td>\n",
              "      <td>14149.000000</td>\n",
              "      <td>14149.000000</td>\n",
              "      <td>14149.000000</td>\n",
              "      <td>14049.000000</td>\n",
              "      <td>14144.000000</td>\n",
              "      <td>14149.000000</td>\n",
              "      <td>...</td>\n",
              "      <td>14149.000000</td>\n",
              "      <td>14149.000000</td>\n",
              "      <td>14148.000000</td>\n",
              "      <td>14149.000000</td>\n",
              "      <td>14149.000000</td>\n",
              "      <td>14149.000000</td>\n",
              "      <td>14147.000000</td>\n",
              "      <td>14149.000000</td>\n",
              "      <td>14139.000000</td>\n",
              "      <td>12544.000000</td>\n",
              "    </tr>\n",
              "    <tr>\n",
              "      <th>mean</th>\n",
              "      <td>5.142034</td>\n",
              "      <td>44.003792</td>\n",
              "      <td>10.132960</td>\n",
              "      <td>9.202849</td>\n",
              "      <td>66.518832</td>\n",
              "      <td>9.607035</td>\n",
              "      <td>2.918421</td>\n",
              "      <td>2.597298</td>\n",
              "      <td>10.512122</td>\n",
              "      <td>8.200916</td>\n",
              "      <td>...</td>\n",
              "      <td>82.704502</td>\n",
              "      <td>82.704502</td>\n",
              "      <td>5.567124</td>\n",
              "      <td>1.757473</td>\n",
              "      <td>0.653277</td>\n",
              "      <td>17.882853</td>\n",
              "      <td>14.281629</td>\n",
              "      <td>4.246961</td>\n",
              "      <td>5.848863</td>\n",
              "      <td>6.938693</td>\n",
              "    </tr>\n",
              "    <tr>\n",
              "      <th>std</th>\n",
              "      <td>1.369586</td>\n",
              "      <td>4.905261</td>\n",
              "      <td>1.654930</td>\n",
              "      <td>2.790516</td>\n",
              "      <td>10.295402</td>\n",
              "      <td>2.319069</td>\n",
              "      <td>0.903712</td>\n",
              "      <td>0.971843</td>\n",
              "      <td>3.003617</td>\n",
              "      <td>2.005185</td>\n",
              "      <td>...</td>\n",
              "      <td>14.479156</td>\n",
              "      <td>14.479156</td>\n",
              "      <td>1.039136</td>\n",
              "      <td>0.713187</td>\n",
              "      <td>0.263766</td>\n",
              "      <td>3.432859</td>\n",
              "      <td>4.477126</td>\n",
              "      <td>2.389060</td>\n",
              "      <td>2.861799</td>\n",
              "      <td>4.155487</td>\n",
              "    </tr>\n",
              "    <tr>\n",
              "      <th>min</th>\n",
              "      <td>0.000000</td>\n",
              "      <td>0.000000</td>\n",
              "      <td>0.000000</td>\n",
              "      <td>0.000000</td>\n",
              "      <td>0.000000</td>\n",
              "      <td>0.000000</td>\n",
              "      <td>0.000000</td>\n",
              "      <td>0.000000</td>\n",
              "      <td>0.000000</td>\n",
              "      <td>0.000000</td>\n",
              "      <td>...</td>\n",
              "      <td>0.000000</td>\n",
              "      <td>-0.000000</td>\n",
              "      <td>0.594562</td>\n",
              "      <td>0.020676</td>\n",
              "      <td>0.007566</td>\n",
              "      <td>10.014648</td>\n",
              "      <td>0.000000</td>\n",
              "      <td>0.000000</td>\n",
              "      <td>0.000000</td>\n",
              "      <td>0.000000</td>\n",
              "    </tr>\n",
              "    <tr>\n",
              "      <th>25%</th>\n",
              "      <td>4.211620</td>\n",
              "      <td>43.276111</td>\n",
              "      <td>9.297355</td>\n",
              "      <td>7.484645</td>\n",
              "      <td>62.545817</td>\n",
              "      <td>7.997429</td>\n",
              "      <td>2.368607</td>\n",
              "      <td>1.905973</td>\n",
              "      <td>8.811324</td>\n",
              "      <td>7.107126</td>\n",
              "      <td>...</td>\n",
              "      <td>79.993067</td>\n",
              "      <td>79.993067</td>\n",
              "      <td>4.921647</td>\n",
              "      <td>1.310800</td>\n",
              "      <td>0.474047</td>\n",
              "      <td>15.688727</td>\n",
              "      <td>12.177364</td>\n",
              "      <td>3.153122</td>\n",
              "      <td>3.982298</td>\n",
              "      <td>3.225486</td>\n",
              "    </tr>\n",
              "    <tr>\n",
              "      <th>50%</th>\n",
              "      <td>4.994652</td>\n",
              "      <td>44.872436</td>\n",
              "      <td>10.297144</td>\n",
              "      <td>8.845462</td>\n",
              "      <td>67.432775</td>\n",
              "      <td>9.480270</td>\n",
              "      <td>2.851025</td>\n",
              "      <td>2.592022</td>\n",
              "      <td>10.514621</td>\n",
              "      <td>8.226247</td>\n",
              "      <td>...</td>\n",
              "      <td>85.299462</td>\n",
              "      <td>85.299462</td>\n",
              "      <td>5.722018</td>\n",
              "      <td>1.745513</td>\n",
              "      <td>0.625805</td>\n",
              "      <td>18.015894</td>\n",
              "      <td>15.357951</td>\n",
              "      <td>3.980210</td>\n",
              "      <td>5.442310</td>\n",
              "      <td>7.302639</td>\n",
              "    </tr>\n",
              "    <tr>\n",
              "      <th>75%</th>\n",
              "      <td>5.859540</td>\n",
              "      <td>46.166425</td>\n",
              "      <td>11.170603</td>\n",
              "      <td>10.487508</td>\n",
              "      <td>72.346428</td>\n",
              "      <td>11.003707</td>\n",
              "      <td>3.434764</td>\n",
              "      <td>3.241723</td>\n",
              "      <td>11.933009</td>\n",
              "      <td>9.504924</td>\n",
              "      <td>...</td>\n",
              "      <td>90.165021</td>\n",
              "      <td>90.165021</td>\n",
              "      <td>6.310633</td>\n",
              "      <td>2.186790</td>\n",
              "      <td>0.794326</td>\n",
              "      <td>19.938672</td>\n",
              "      <td>17.230151</td>\n",
              "      <td>4.883943</td>\n",
              "      <td>7.797948</td>\n",
              "      <td>10.547068</td>\n",
              "    </tr>\n",
              "    <tr>\n",
              "      <th>max</th>\n",
              "      <td>16.001945</td>\n",
              "      <td>52.756638</td>\n",
              "      <td>17.031899</td>\n",
              "      <td>18.124851</td>\n",
              "      <td>100.000000</td>\n",
              "      <td>19.552149</td>\n",
              "      <td>8.197408</td>\n",
              "      <td>5.639565</td>\n",
              "      <td>22.317730</td>\n",
              "      <td>16.081632</td>\n",
              "      <td>...</td>\n",
              "      <td>100.000000</td>\n",
              "      <td>100.000000</td>\n",
              "      <td>12.719177</td>\n",
              "      <td>9.688980</td>\n",
              "      <td>3.778064</td>\n",
              "      <td>66.117188</td>\n",
              "      <td>23.264738</td>\n",
              "      <td>26.811643</td>\n",
              "      <td>17.042505</td>\n",
              "      <td>17.976171</td>\n",
              "    </tr>\n",
              "  </tbody>\n",
              "</table>\n",
              "<p>8 rows × 35 columns</p>\n",
              "</div>"
            ],
            "text/plain": [
              "       final.output.concentrate_ag  final.output.concentrate_au  \\\n",
              "count                 14148.000000                 14149.000000   \n",
              "mean                      5.142034                    44.003792   \n",
              "std                       1.369586                     4.905261   \n",
              "min                       0.000000                     0.000000   \n",
              "25%                       4.211620                    43.276111   \n",
              "50%                       4.994652                    44.872436   \n",
              "75%                       5.859540                    46.166425   \n",
              "max                      16.001945                    52.756638   \n",
              "\n",
              "       final.output.concentrate_pb  final.output.concentrate_sol  \\\n",
              "count                 14148.000000                  13938.000000   \n",
              "mean                     10.132960                      9.202849   \n",
              "std                       1.654930                      2.790516   \n",
              "min                       0.000000                      0.000000   \n",
              "25%                       9.297355                      7.484645   \n",
              "50%                      10.297144                      8.845462   \n",
              "75%                      11.170603                     10.487508   \n",
              "max                      17.031899                     18.124851   \n",
              "\n",
              "       final.output.recovery  final.output.tail_ag  final.output.tail_au  \\\n",
              "count           14149.000000          14149.000000          14149.000000   \n",
              "mean               66.518832              9.607035              2.918421   \n",
              "std                10.295402              2.319069              0.903712   \n",
              "min                 0.000000              0.000000              0.000000   \n",
              "25%                62.545817              7.997429              2.368607   \n",
              "50%                67.432775              9.480270              2.851025   \n",
              "75%                72.346428             11.003707              3.434764   \n",
              "max               100.000000             19.552149              8.197408   \n",
              "\n",
              "       final.output.tail_pb  final.output.tail_sol  \\\n",
              "count          14049.000000           14144.000000   \n",
              "mean               2.597298              10.512122   \n",
              "std                0.971843               3.003617   \n",
              "min                0.000000               0.000000   \n",
              "25%                1.905973               8.811324   \n",
              "50%                2.592022              10.514621   \n",
              "75%                3.241723              11.933009   \n",
              "max                5.639565              22.317730   \n",
              "\n",
              "       primary_cleaner.output.concentrate_ag  ...  rougher.output.recovery  \\\n",
              "count                           14149.000000  ...             14149.000000   \n",
              "mean                                8.200916  ...                82.704502   \n",
              "std                                 2.005185  ...                14.479156   \n",
              "min                                 0.000000  ...                 0.000000   \n",
              "25%                                 7.107126  ...                79.993067   \n",
              "50%                                 8.226247  ...                85.299462   \n",
              "75%                                 9.504924  ...                90.165021   \n",
              "max                                16.081632  ...               100.000000   \n",
              "\n",
              "       rougher.output.recovery_calculated  rougher.output.tail_ag  \\\n",
              "count                        14149.000000            14148.000000   \n",
              "mean                            82.704502                5.567124   \n",
              "std                             14.479156                1.039136   \n",
              "min                             -0.000000                0.594562   \n",
              "25%                             79.993067                4.921647   \n",
              "50%                             85.299462                5.722018   \n",
              "75%                             90.165021                6.310633   \n",
              "max                            100.000000               12.719177   \n",
              "\n",
              "       rougher.output.tail_au  rougher.output.tail_pb  \\\n",
              "count            14149.000000            14149.000000   \n",
              "mean                 1.757473                0.653277   \n",
              "std                  0.713187                0.263766   \n",
              "min                  0.020676                0.007566   \n",
              "25%                  1.310800                0.474047   \n",
              "50%                  1.745513                0.625805   \n",
              "75%                  2.186790                0.794326   \n",
              "max                  9.688980                3.778064   \n",
              "\n",
              "       rougher.output.tail_sol  secondary_cleaner.output.tail_ag  \\\n",
              "count             14149.000000                      14147.000000   \n",
              "mean                 17.882853                         14.281629   \n",
              "std                   3.432859                          4.477126   \n",
              "min                  10.014648                          0.000000   \n",
              "25%                  15.688727                         12.177364   \n",
              "50%                  18.015894                         15.357951   \n",
              "75%                  19.938672                         17.230151   \n",
              "max                  66.117188                         23.264738   \n",
              "\n",
              "       secondary_cleaner.output.tail_au  secondary_cleaner.output.tail_pb  \\\n",
              "count                      14149.000000                      14139.000000   \n",
              "mean                           4.246961                          5.848863   \n",
              "std                            2.389060                          2.861799   \n",
              "min                            0.000000                          0.000000   \n",
              "25%                            3.153122                          3.982298   \n",
              "50%                            3.980210                          5.442310   \n",
              "75%                            4.883943                          7.797948   \n",
              "max                           26.811643                         17.042505   \n",
              "\n",
              "       secondary_cleaner.output.tail_sol  \n",
              "count                       12544.000000  \n",
              "mean                            6.938693  \n",
              "std                             4.155487  \n",
              "min                             0.000000  \n",
              "25%                             3.225486  \n",
              "50%                             7.302639  \n",
              "75%                            10.547068  \n",
              "max                            17.976171  \n",
              "\n",
              "[8 rows x 35 columns]"
            ]
          },
          "execution_count": 19,
          "metadata": {},
          "output_type": "execute_result"
        }
      ],
      "source": [
        "data_train[data_train.columns.difference(data_test.columns)].describe()"
      ]
    },
    {
      "cell_type": "markdown",
      "metadata": {
        "id": "-0r8x6FBxPGN"
      },
      "source": [
        "Все признаки относятся к классу количественных."
      ]
    },
    {
      "cell_type": "markdown",
      "metadata": {
        "id": "yxnlAmAdxPGN"
      },
      "source": [
        "Вывод:\n",
        "\n",
        "Проведено чтение и общий обзор данных. Тип данных соответствует ожидаемому, присутствуют пропуски. Проведена проверка корректности вычисления эффективности флотации на тестовой выборке. Средняя абсолютная ошибка равна нулю в пределах погрешности - соответственно, вычисление можно считать корректным. Изучено распределение эффективности флотации, а также финальной эффективности. Удалены пропуски и выбросы в целевых параметрах. Установлено, что признаки, не вошедшие в тестовую выборку, можно разделить на две категории - вычисляемые и измеряемые позднее."
      ]
    },
    {
      "cell_type": "markdown",
      "metadata": {
        "id": "SLg1Od2dxPGO"
      },
      "source": [
        "## Анализ данных"
      ]
    },
    {
      "cell_type": "markdown",
      "metadata": {
        "id": "xfjbSkDExPGO"
      },
      "source": [
        "### Концентрация металлов в зависимости от уровня очистки"
      ]
    },
    {
      "cell_type": "markdown",
      "metadata": {
        "id": "hK8EXh0YxPGO"
      },
      "source": [
        "Посмотрим, как меняется концетрация металлов на различных этапах очистки.\n",
        "\n",
        "Будем сравнивать концетрации трёх металлов: золота, серебра и свинца на трёх различных этапах: флотации, первом и втором этапах очистки."
      ]
    },
    {
      "cell_type": "code",
      "execution_count": null,
      "metadata": {
        "id": "EpyrSZD1xPGO",
        "outputId": "1451e28c-90f5-4ebf-927f-9d153712a5c3"
      },
      "outputs": [
        {
          "data": {
            "image/png": "[encoded data removed]",
            "text/plain": [
              "<Figure size 864x648 with 1 Axes>"
            ]
          },
          "metadata": {
            "needs_background": "light"
          },
          "output_type": "display_data"
        }
      ],
      "source": [
        "plt.figure(figsize=[12,9])\n",
        "plt.hist(data_train['final.output.concentrate_au'], bins=100, label = 'final.output', alpha=.5)\n",
        "plt.hist(data_train['primary_cleaner.output.concentrate_au'], bins=100, label = 'primary_cleaner.output', alpha=.5)\n",
        "plt.hist(data_train['rougher.output.concentrate_au'], bins=100, label = 'rougher.output', alpha=.5)\n",
        "plt.hist(data_train['rougher.input.feed_au'], bins=30, label = 'rougher.input', alpha=.5)\n",
        "plt.xlim([1, 55])\n",
        "plt.xlabel(\"Концентрация золота после этапа\")\n",
        "plt.legend()\n",
        "plt.title(\"Распределение концентрации золота\")\n",
        "plt.show()"
      ]
    },
    {
      "cell_type": "markdown",
      "metadata": {
        "id": "-SXbDryFxPGO"
      },
      "source": [
        "Видно, что медианное значение концентрации на каждом этапе, соответствующее пику каждого распределения - смещается вправо, что соответсвует росту концентрации после каждого этапа."
      ]
    },
    {
      "cell_type": "markdown",
      "metadata": {
        "id": "S2doa0BQxPGP"
      },
      "source": [
        "Аналогично изучим концентрацию свинца:"
      ]
    },
    {
      "cell_type": "code",
      "execution_count": null,
      "metadata": {
        "id": "CqJ_4MScxPGP",
        "outputId": "46f29e7a-4b05-4398-cb3a-973f58fbaaf9"
      },
      "outputs": [
        {
          "data": {
            "image/png": "[encoded data removed]",
            "text/plain": [
              "<Figure size 864x648 with 1 Axes>"
            ]
          },
          "metadata": {
            "needs_background": "light"
          },
          "output_type": "display_data"
        }
      ],
      "source": [
        "plt.figure(figsize=[12,9])\n",
        "\n",
        "plt.hist(data_train['final.output.concentrate_pb'], bins=100, label = 'final.output', alpha=.5)\n",
        "plt.hist(data_train['primary_cleaner.output.concentrate_pb'], bins=100, label = 'primary_cleaner.output', alpha=.5)\n",
        "plt.hist(data_train['rougher.output.concentrate_pb'], bins=100, label = 'rougher.output', alpha=.5)\n",
        "plt.hist(data_train['rougher.input.feed_pb'], bins=30, label = 'rougher.input', alpha=.5)\n",
        "\n",
        "plt.xlim([1, 20])\n",
        "plt.xlabel(\"Концентрация свинца после этапа\")\n",
        "plt.legend()\n",
        "plt.title(\"Распределение концентрации свинца\")\n",
        "plt.show()"
      ]
    },
    {
      "cell_type": "markdown",
      "metadata": {
        "id": "70vMMOx0xPGP"
      },
      "source": [
        "Концентрация свинца уменьшается после флотации, а вот дальше концентрация свинца слабо меняется. Это обусловлено особенностями технологического процесса, а повышение концентрации золота достигается путём очистки от иных примесей."
      ]
    },
    {
      "cell_type": "markdown",
      "metadata": {
        "id": "VeoTC_76xPGP"
      },
      "source": [
        "Теперь для серебра:"
      ]
    },
    {
      "cell_type": "code",
      "execution_count": null,
      "metadata": {
        "id": "XjDSuCmzxPGP",
        "outputId": "ab551f7a-d19f-414f-fb55-68a46045a29f"
      },
      "outputs": [
        {
          "data": {
            "image/png": "[encoded data removed]",
            "text/plain": [
              "<Figure size 864x648 with 1 Axes>"
            ]
          },
          "metadata": {
            "needs_background": "light"
          },
          "output_type": "display_data"
        }
      ],
      "source": [
        "plt.figure(figsize=[12,9])\n",
        "\n",
        "plt.hist(data_train['final.output.concentrate_ag'], bins=100, label = 'final.output', alpha=.5)\n",
        "plt.hist(data_train['primary_cleaner.output.concentrate_ag'], bins=100, label = 'primary_cleaner.output', alpha=.5)\n",
        "plt.hist(data_train['rougher.output.concentrate_ag'], bins=100, label = 'rougher.output', alpha=.5)\n",
        "plt.hist(data_train['rougher.input.feed_ag'], bins=100, label = 'rougher.input', alpha=.5)\n",
        "\n",
        "\n",
        "plt.xlim([1, 20])\n",
        "plt.xlabel(\"Концентрация серебра после этапа\")\n",
        "plt.legend()\n",
        "plt.title(\"Распределение концентрации серебра\")\n",
        "plt.show()"
      ]
    },
    {
      "cell_type": "markdown",
      "metadata": {
        "id": "vETSfBZcxPGQ"
      },
      "source": [
        "Здесь пики распределний смещаются влево - то есть концентрация серебра на каждом следующем этапе уменьшается. Серебро в данном случае является примесным металлом - значит, технологический процесс должен быть направлен на уменьшение их концентрации - что и видно на гистограмме. Любопытно, что после этапа флотации концентрация повышается, однако выравнивается после первого этапа очистки - значит, флотация больше направлена на очистку от черновых примесей."
      ]
    },
    {
      "cell_type": "markdown",
      "metadata": {
        "id": "n3RSGE_pxPGR"
      },
      "source": [
        "###   Сравнение размеров гранул сырья в обучающей и тестовой выборках"
      ]
    },
    {
      "cell_type": "markdown",
      "metadata": {
        "id": "ljCc7k8NxPGR"
      },
      "source": [
        "Размер гранул сырья - одно из важных параметров технологического процесса. Если в обучающей и тестовой выборке гранулы существенно отличаются друг от друга - результаты прогнозирования могут получится некорректными.\n",
        "\n",
        "Начнём с визуального сравнения распределений:"
      ]
    },
    {
      "cell_type": "code",
      "execution_count": null,
      "metadata": {
        "id": "bgXdrX3bxPGR",
        "outputId": "c9081c24-2cb9-4fbb-eb76-5a1f983e0103"
      },
      "outputs": [
        {
          "data": {
            "image/png": "[encoded data removed]",
            "text/plain": [
              "<Figure size 864x648 with 1 Axes>"
            ]
          },
          "metadata": {
            "needs_background": "light"
          },
          "output_type": "display_data"
        }
      ],
      "source": [
        "plt.figure(figsize=[12,9])\n",
        "\n",
        "plt.hist(data_train['rougher.input.feed_size'], bins=200, label = 'Train size', alpha=.5)\n",
        "plt.hist(data_test['rougher.input.feed_size'], bins=200, label = 'Test size', alpha=.5)\n",
        "plt.xlabel(\"Размер гранул\")\n",
        "plt.legend()\n",
        "plt.title(\"Распределение размеров гранул сырья перед флотацией\")\n",
        "plt.show()"
      ]
    },
    {
      "cell_type": "markdown",
      "metadata": {
        "id": "PFKxNfP_xPGS"
      },
      "source": [
        "Видно, что справа есть выбросы. Отрежем и посмотрим заново, заодно - поскольку выборки разного размера, и сравнивать их в таком формате некорректно - будет выводить нормированные на единицу выборки, то есть гистограмму плотности:"
      ]
    },
    {
      "cell_type": "code",
      "execution_count": null,
      "metadata": {
        "id": "8Br_BjgzxPGS",
        "outputId": "e0e08ea7-bb17-4d3b-9ac7-b56eed1bf8bc"
      },
      "outputs": [
        {
          "data": {
            "image/png": "[encoded data removed]",
            "text/plain": [
              "<Figure size 864x648 with 1 Axes>"
            ]
          },
          "metadata": {
            "needs_background": "light"
          },
          "output_type": "display_data"
        }
      ],
      "source": [
        "plt.figure(figsize=[12,9])\n",
        "\n",
        "sns.kdeplot(data_train['rougher.input.feed_size'], bw_method = .3, label = 'Train size', color='red', fill=True , alpha= .3)\n",
        "sns.kdeplot(data_test['rougher.input.feed_size'], bw_method = .3, label = 'Test size', color='blue', fill= True , alpha= .3)\n",
        "\n",
        "plt.xlabel(\"Размер гранул\")\n",
        "plt.legend()\n",
        "plt.xlim(0, 180)\n",
        "plt.title(\"Распределение размеров гранул сырья перед флотацией\")\n",
        "\n",
        "plt.show()"
      ]
    },
    {
      "cell_type": "markdown",
      "metadata": {
        "id": "-WpeLrAjxPGT"
      },
      "source": [
        "Видно что распределения довольно близки - но всё же не совпадают. Для более детальной оценки проверим гипотезу о равенстве средних двух выборок методом t-теста.\n",
        "\n",
        "Нулевая гипотеза H_0: Средний размер гранул сырья перед флотацией в обучающей выборке = среднему размеру гранул сырья перед флотацией в тестовой выборке\n",
        "\n",
        "Альтернативная гипотеза H_1: средние этих двух выборок отличаются.\n"
      ]
    },
    {
      "cell_type": "code",
      "execution_count": null,
      "metadata": {
        "id": "jbKKiyXTxPGT"
      },
      "outputs": [],
      "source": [
        "data_train = data_train[data_train['rougher.input.feed_size']>0]\n",
        "data_test = data_test[data_test['rougher.input.feed_size']>0]"
      ]
    },
    {
      "cell_type": "code",
      "execution_count": null,
      "metadata": {
        "id": "jXGpMJALxPGU",
        "outputId": "114209ee-7782-4a97-a402-862a79219da6"
      },
      "outputs": [
        {
          "name": "stdout",
          "output_type": "stream",
          "text": [
            "1.5360283753498475e-37\n",
            "Отвергаем нулевую гипотезу\n"
          ]
        }
      ],
      "source": [
        "#вызов метода для проверки гипотезы\n",
        "results = st.ttest_ind(data_train['rougher.input.feed_size'], data_test['rougher.input.feed_size'], equal_var=False)\n",
        "\n",
        "#значение уровня значимости\n",
        "alpha = .05\n",
        "\n",
        "print(results.pvalue)\n",
        "if results.pvalue< alpha:\n",
        "    print('Отвергаем нулевую гипотезу')\n",
        "else:\n",
        "    print('Не получилось отвергнуть нулевую гипотезу')"
      ]
    },
    {
      "cell_type": "markdown",
      "metadata": {
        "id": "f2_mtyZhxPGU"
      },
      "source": [
        "Не так чтобы \"у нас проблемы\" - но можно было бы задуматься на тему того, насколько корректно было выполнено разбиение данных на обучающую и тестовую выборки\n",
        "\n",
        "\n",
        "Проверим теперь, что происходит перед первичной очисткой"
      ]
    },
    {
      "cell_type": "code",
      "execution_count": null,
      "metadata": {
        "id": "7Y3GwyfpxPGU",
        "outputId": "89990f6c-4ae9-4fa9-bf57-67e25ee55691"
      },
      "outputs": [
        {
          "data": {
            "image/png": "[encoded data removed]",
            "text/plain": [
              "<Figure size 864x648 with 1 Axes>"
            ]
          },
          "metadata": {
            "needs_background": "light"
          },
          "output_type": "display_data"
        }
      ],
      "source": [
        "plt.figure(figsize=[12,9])\n",
        "\n",
        "sns.kdeplot(data_train['primary_cleaner.input.feed_size'], bw_method = .3, label = 'Train size', color='red', fill=True , alpha= .3)\n",
        "sns.kdeplot(data_test['primary_cleaner.input.feed_size'], bw_method = .3, label = 'Test size', color='blue', fill= True , alpha= .3)\n",
        "\n",
        "plt.xlabel(\"Размер гранул\")\n",
        "plt.legend()\n",
        "plt.xlim(2, 12)\n",
        "plt.title(\"Распределение размеров гранул сырья перед первичной очисткой\")\n",
        "\n",
        "plt.show()"
      ]
    },
    {
      "cell_type": "markdown",
      "metadata": {
        "id": "yX9y51EUxPGU"
      },
      "source": [
        "Визуально видно, что распределения выглядят выглядят очень схожими по медианному значению и разбросу - но всё-таки тоже сравним средние этиих выборок статистическим т-тестом:\n",
        "\n",
        "Нулевая гипотеза H_0: Средний размер гранул сырья перед первичной очисткой в обучающей выборке = среднему размеру гранул сырья перед первичной очисткой в тестовой выборке\n",
        "\n",
        "Альтернативная гипотеза H_1: средние этих двух выборок отличаются."
      ]
    },
    {
      "cell_type": "code",
      "execution_count": null,
      "metadata": {
        "id": "-WwSb0BRxPGU"
      },
      "outputs": [],
      "source": [
        "data_train = data_train[data_train['primary_cleaner.input.feed_size']>0]\n",
        "data_test = data_test[data_test['primary_cleaner.input.feed_size']>0]"
      ]
    },
    {
      "cell_type": "code",
      "execution_count": null,
      "metadata": {
        "id": "XQkFWJXIxPGV",
        "outputId": "592181ac-14de-43e2-9bf3-234ecc406b1c"
      },
      "outputs": [
        {
          "name": "stdout",
          "output_type": "stream",
          "text": [
            "8.574938220691054e-07\n",
            "Отвергаем нулевую гипотезу\n"
          ]
        }
      ],
      "source": [
        "#вызов метода для проверки гипотезы\n",
        "results = st.ttest_ind(data_train['primary_cleaner.input.feed_size'], data_test['primary_cleaner.input.feed_size'], equal_var=False)\n",
        "\n",
        "#значение уровня значимости\n",
        "alpha = .001\n",
        "\n",
        "print(results.pvalue)\n",
        "if results.pvalue< alpha:\n",
        "    print('Отвергаем нулевую гипотезу')\n",
        "else:\n",
        "    print('Не получилось отвергнуть нулевую гипотезу')"
      ]
    },
    {
      "cell_type": "markdown",
      "metadata": {
        "id": "sdl_vjapxPGV"
      },
      "source": [
        "В условиях чудовищно строгого значения p-value в .001 видим, что отвергнуть нулевую гипотезу не получилось - то есть нет оснований говорить, что средние размеры гранул в тестовой и обучающей выборках перед этапом первичной очистки отличаются. Но это и хорошо :)"
      ]
    },
    {
      "cell_type": "markdown",
      "metadata": {
        "id": "fiikrF6FxPGV"
      },
      "source": [
        "### Cуммарная концентрация веществ на всех стадиях"
      ]
    },
    {
      "cell_type": "markdown",
      "metadata": {
        "id": "z44EoebVxPGV"
      },
      "source": [
        "Теперь посмотрим, как на всех стадиях меняется суммарная концентрация веществ с известной нам информацией"
      ]
    },
    {
      "cell_type": "code",
      "execution_count": null,
      "metadata": {
        "id": "msXc6P5qxPGW"
      },
      "outputs": [],
      "source": [
        "data_train['final_all_concentrate'] = (data_train['final.output.concentrate_au'] +\n",
        "                                      data_train['final.output.concentrate_ag'] +\n",
        "                                      data_train['final.output.concentrate_pb'] +\n",
        "                                      data_train['final.output.concentrate_sol'])\n",
        "data_train['primary_all_concentrate'] = (data_train['primary_cleaner.output.concentrate_au'] +\n",
        "                                                data_train['primary_cleaner.output.concentrate_ag'] +\n",
        "                                                data_train['primary_cleaner.output.concentrate_pb'] +\n",
        "                                                data_train['primary_cleaner.output.concentrate_sol'])\n",
        "data_train['rougher_all_concentrate'] = (data_train['rougher.output.concentrate_au'] +\n",
        "                                        data_train['rougher.output.concentrate_ag'] +\n",
        "                                        data_train['rougher.output.concentrate_pb'] +\n",
        "                                        data_train['rougher.output.concentrate_sol'])\n",
        "\n",
        "data_train['input_all_concentrate'] = (data_train['rougher.input.feed_au'] +\n",
        "                                        data_train['rougher.input.feed_ag'] +\n",
        "                                        data_train['rougher.input.feed_pb'] +\n",
        "                                        data_train['rougher.input.feed_sol'])\n",
        "\n"
      ]
    },
    {
      "cell_type": "code",
      "execution_count": null,
      "metadata": {
        "id": "47U1gB88xPGW",
        "outputId": "d1c86c87-8ffb-4559-9fd3-8e8adf4c2655"
      },
      "outputs": [
        {
          "data": {
            "image/png": "[encoded data removed]",
            "text/plain": [
              "<Figure size 864x648 with 1 Axes>"
            ]
          },
          "metadata": {
            "needs_background": "light"
          },
          "output_type": "display_data"
        }
      ],
      "source": [
        "plt.figure(figsize=[12,9])\n",
        "plt.hist(data_train['final_all_concentrate'], bins=100, label = 'final', alpha=.5)\n",
        "plt.hist(data_train['primary_all_concentrate'], bins=100, label = 'primary_cleaner', alpha=.5)\n",
        "plt.hist(data_train['rougher_all_concentrate'], bins=100, label = 'rougher', alpha=.5)\n",
        "plt.hist(data_train['input_all_concentrate'], bins=100, label = 'input', alpha=.5)\n",
        "plt.xlabel(\"Суммарная концентраця веществ\")\n",
        "plt.legend()\n",
        "plt.title(\"Распределение концентраций на разных этапах очистки\")\n",
        "plt.show()"
      ]
    },
    {
      "cell_type": "markdown",
      "metadata": {
        "id": "cmJ2J0qQxPGX"
      },
      "source": [
        "Виден пик в районе нуля. Этапы флотации и финальной стадии мы чистили, а этап первичной очистки - нет. Удаляем строки с аномально низкими знаяениями - это выбросы, они не нужны при обучении модели."
      ]
    },
    {
      "cell_type": "code",
      "execution_count": null,
      "metadata": {
        "id": "WZ23Ba2rxPGX"
      },
      "outputs": [],
      "source": [
        "data_train = data_train[data_train['primary_all_concentrate']>20]\n",
        "data_train = data_train[data_train['final_all_concentrate']>20]\n",
        "data_train = data_train[data_train['rougher_all_concentrate']>20]"
      ]
    },
    {
      "cell_type": "markdown",
      "metadata": {
        "id": "PyJhQ_9fxPGX"
      },
      "source": [
        "Ради интереса можно провести дополнительную статистическую проверку о равенстве средних для распределения суммурной концентрации на этапах флотации и финальной стадии - визуально, несмотря на то, что распределение для этапа флотации существенно шире (дисперсия больше) - посмотреть на (не)равенство средних любопытно:"
      ]
    },
    {
      "cell_type": "code",
      "execution_count": null,
      "metadata": {
        "id": "hx042SzZxPGX",
        "outputId": "55aac63a-d0c9-4615-9adc-f0af02500633"
      },
      "outputs": [
        {
          "name": "stdout",
          "output_type": "stream",
          "text": [
            "0.02884196705514276\n",
            "Не получилось отвергнуть нулевую гипотезу\n"
          ]
        }
      ],
      "source": [
        "#вызов метода для проверки гипотезы\n",
        "results = st.ttest_ind(data_train['final_all_concentrate'], data_train['rougher_all_concentrate'], equal_var=False)\n",
        "\n",
        "#значение уровня значимости\n",
        "alpha = .01\n",
        "\n",
        "print(results.pvalue)\n",
        "if results.pvalue< alpha:\n",
        "    print('Отвергаем нулевую гипотезу')\n",
        "else:\n",
        "    print('Не получилось отвергнуть нулевую гипотезу')"
      ]
    },
    {
      "cell_type": "markdown",
      "metadata": {
        "id": "6xboorJDxPGY"
      },
      "source": [
        "Получается, при уровне значимости 0.01 нет оснований утверждать, что суммарные концентрации отличаются - что любопытно с учётом того, что флотация - самый первый этап. Получается, первая и вторая этапы очистки сильнее влияют на концентрацию данных металлов - а флотация отвечает за иные примеси. Видно, что по сравнению с черновым концентратом суммарная концентрация увеличивается - что дополнительно усиливает гипотезу о том, что на этапе флотации преимущественно происходит очистка от черновых примесей."
      ]
    },
    {
      "cell_type": "markdown",
      "metadata": {
        "id": "nTmcQq3BxPGY"
      },
      "source": [
        "ВЫВОД\n",
        "\n",
        "Проведён первичный анализ данных:\n",
        "- изучена зависимость концентрации металлов на каждом этапе. Концентрация золота увеличивается от флотации до финала, концентрация серебра, являющегося в данном случае примесным металлом, уменьшается. Концентрация свинца уменьшается после флотации, а затем практически не изменяется. Это обусловлено особенностями технологического процесса\n",
        "- проведено сравнение распределений размеров гранул сырья на этапе флотации и первичной очистки для обучающей и тесловой выборок. Проведены статистические т-тесты о проверке гипотез о равенстве средних. Распределения носят нормальный характер. На этапе флотации распределения близки, но средние незначительно отличаются. А вот на этапе первичной обработки с высоким уровнем значимости нет оснований отвергнуть гипотезу о равенстве средниз двуз совокупностей - а значит, можно считать их равными. Вероятно, особенность длч этапа флотации обусловлена различием в качестве сырья. Возможно, стоит вопрос о репрезентативности тестовой выборки.\n",
        "- Проведено сравнение суммарной концентрации веществ на различных этапах обработки. Любопытно, что средние концентрации после флотации с высоким уровнем значимости не отличаются от среднего финального продукта."
      ]
    },
    {
      "cell_type": "markdown",
      "metadata": {
        "id": "GLrtKYD3xPGY"
      },
      "source": [
        "## Модель"
      ]
    },
    {
      "cell_type": "markdown",
      "metadata": {
        "id": "YpNaAwBkxPGY"
      },
      "source": [
        "### Метрики качества моделей"
      ]
    },
    {
      "cell_type": "markdown",
      "metadata": {
        "id": "IS71hEOKxPGZ"
      },
      "source": [
        "Цель модели - прогнозирование эффективности обогащения на двух этапах - флотации и финальной эффективности, оптимизированой через призму метрики sMAPE, вычисляемой как:\n",
        "\n",
        "$ sMAPE = \\frac{1}{N} \\times \\sum\\limits_{i=1}^n \\frac{2|y_{i} - \\hat{y_{i}}|}{|y_{i}| + |\\hat{y_{i}}|} \\times 100\\%$, где:\n",
        "\n",
        "$y_{i}$ - истинное значение целевого признака\n",
        "\n",
        "$\\hat{y_{i}}$ - предсказание целевого признака\n",
        "\n",
        "N - количество объектов в выборке"
      ]
    },
    {
      "cell_type": "markdown",
      "metadata": {
        "id": "OhJph5z-xPGZ"
      },
      "source": [
        "Итоговая метрика представляет собой линейную комбинацию метрики sMAPE для двух целевых признаков с соответствующими весовыми коэффициентами:\n",
        "\n",
        "$sMAPE_{total} = \\frac{1}{4} \\times sMAPE_{rouher} + \\frac{3}{4} \\times sMAPE_{final}$, где:\n",
        "\n",
        "$sMAPE_{rouher}$ - метрика sMAPE, вычисленная для целевого признака эффективности обогащения чернового концентрата на этапе флотации rougher.output.recovery\n",
        "\n",
        "$sMAPE_{final}$ - метрика sMAPE, описывающая финальную эффективность обогащения final.output.recovery"
      ]
    },
    {
      "cell_type": "code",
      "execution_count": null,
      "metadata": {
        "id": "ceaLIrPjxPGZ"
      },
      "outputs": [],
      "source": [
        "#функция для вычисления sMAPE\n",
        "def smape(target, prediction):\n",
        "    n = len(target)\n",
        "    return (1 / n * np.sum( 2* (np.abs(target - prediction))/ (np.abs(target) + np.abs(prediction))) * 100)\n",
        "\n",
        "#итоговая sMAPE\n",
        "def smape_total(smape_rouher, smape_final):\n",
        "    return(.25 * smape_rouher + .75 * smape_final)"
      ]
    },
    {
      "cell_type": "markdown",
      "metadata": {
        "id": "H6nhqZPYxPGZ"
      },
      "source": [
        "### Обучение и оптимизация моделей"
      ]
    },
    {
      "cell_type": "markdown",
      "metadata": {
        "id": "S43Jd4zpxPGZ"
      },
      "source": [
        "Решаемая задача - регрессия (прогнозирование) с учителем. Будем пробовать следующие базовые модели:\n",
        "- Линейная регрессия\n",
        "- Случайный лес RandomForestRegressor\n",
        "\n",
        "Модель случайного леса в целом хорошо показывает себя в задачах регрессии, однако требует высоких вычислительных мощностей. Поэтому в качестве более продвинутых моделей попробуем:\n",
        "- модель градиентного бустинга\n",
        "- регрессор библиотеки CatBoost, использующий построение небрежных деревьев для построения более сбалансированного итогового дерева\n"
      ]
    },
    {
      "cell_type": "markdown",
      "metadata": {
        "id": "3u0Dd0SCxPGZ"
      },
      "source": [
        "#### Подготовка данных"
      ]
    },
    {
      "cell_type": "markdown",
      "metadata": {
        "id": "3n4L6qxxxPGa"
      },
      "source": [
        "Для обучения моделей необходимо подготовить данные более детально - удалить ненужные столбцы, выделить целевые признаки, провести масштабирование, если оно необходимо.\n",
        "\n",
        "Начнём.\n",
        "\n",
        "Очевидно, что эффективность не зависит от даты - потом удалим этот столбец, но пока оставим как уникальный идентификатор строки.\n",
        "Уберём явные дубликаты, если они вдруг есть"
      ]
    },
    {
      "cell_type": "code",
      "execution_count": null,
      "metadata": {
        "id": "s4vb568oxPGa"
      },
      "outputs": [],
      "source": [
        "for data in [data_full, data_test, data_train]:\n",
        "    data.drop_duplicates(inplace=True)"
      ]
    },
    {
      "cell_type": "markdown",
      "metadata": {
        "id": "JLRx1Ei2xPGa"
      },
      "source": [
        "Проверим, какой процент данных мы потеряем, если удалим все строки с пропущенными значениями:"
      ]
    },
    {
      "cell_type": "code",
      "execution_count": null,
      "metadata": {
        "id": "Ul-dMlxlxPGa",
        "outputId": "c73dc12a-889a-4f32-8ae2-e2739dce6607"
      },
      "outputs": [
        {
          "data": {
            "text/plain": [
              "primary_cleaner.input.sulfate                3\n",
              "primary_cleaner.input.depressant             4\n",
              "primary_cleaner.input.xanthate               4\n",
              "rougher.input.feed_rate                      2\n",
              "rougher.input.feed_sol                      21\n",
              "rougher.input.floatbank10_sulfate            4\n",
              "rougher.input.floatbank11_sulfate            7\n",
              "rougher.input.floatbank11_xanthate          25\n",
              "secondary_cleaner.state.floatbank2_a_air     3\n",
              "secondary_cleaner.state.floatbank2_b_air     2\n",
              "secondary_cleaner.state.floatbank3_a_air     9\n",
              "dtype: int64"
            ]
          },
          "execution_count": 36,
          "metadata": {},
          "output_type": "execute_result"
        }
      ],
      "source": [
        "data_test.isna().sum()[data_test.isna().sum()>0]"
      ]
    },
    {
      "cell_type": "code",
      "execution_count": null,
      "metadata": {
        "id": "jJzz6ydVxPGb",
        "outputId": "e4da79dd-6b19-44b9-faf2-62d684c5a829"
      },
      "outputs": [
        {
          "data": {
            "text/plain": [
              "5289"
            ]
          },
          "execution_count": 37,
          "metadata": {},
          "output_type": "execute_result"
        }
      ],
      "source": [
        "len(data_test)"
      ]
    },
    {
      "cell_type": "markdown",
      "metadata": {
        "id": "ycq221qixPGb"
      },
      "source": [
        "Для тестовой выборки это меньше одного процента. Посмотрим теперь на обучающую выборку под тем же разрезом:"
      ]
    },
    {
      "cell_type": "code",
      "execution_count": null,
      "metadata": {
        "id": "vqu8Y1RwxPGb",
        "outputId": "b3e7d416-1544-463e-a8e8-4bdbba40fdea"
      },
      "outputs": [
        {
          "data": {
            "text/plain": [
              "final.output.tail_pb                          58\n",
              "final.output.tail_sol                          3\n",
              "primary_cleaner.input.sulfate                  1\n",
              "primary_cleaner.input.depressant               9\n",
              "primary_cleaner.input.xanthate                62\n",
              "primary_cleaner.output.tail_ag                 1\n",
              "primary_cleaner.output.tail_pb                15\n",
              "primary_cleaner.output.tail_sol               23\n",
              "primary_cleaner.state.floatbank8_a_air         3\n",
              "primary_cleaner.state.floatbank8_b_air         3\n",
              "primary_cleaner.state.floatbank8_c_air         1\n",
              "primary_cleaner.state.floatbank8_d_air         2\n",
              "rougher.input.feed_pb                         52\n",
              "rougher.input.feed_rate                        6\n",
              "rougher.input.feed_sol                        35\n",
              "rougher.input.floatbank10_sulfate              7\n",
              "rougher.input.floatbank11_sulfate             22\n",
              "rougher.input.floatbank11_xanthate           345\n",
              "rougher.output.tail_ag                         1\n",
              "rougher.state.floatbank10_e_air              362\n",
              "secondary_cleaner.output.tail_ag               1\n",
              "secondary_cleaner.output.tail_pb               8\n",
              "secondary_cleaner.output.tail_sol           1442\n",
              "secondary_cleaner.state.floatbank2_a_air     186\n",
              "secondary_cleaner.state.floatbank2_b_air       2\n",
              "secondary_cleaner.state.floatbank3_a_air       1\n",
              "secondary_cleaner.state.floatbank4_a_air       3\n",
              "input_all_concentrate                         85\n",
              "dtype: int64"
            ]
          },
          "execution_count": 38,
          "metadata": {},
          "output_type": "execute_result"
        }
      ],
      "source": [
        "data_train.isna().sum()[data_train.isna().sum()>0]"
      ]
    },
    {
      "cell_type": "code",
      "execution_count": null,
      "metadata": {
        "id": "F7cO3Up7xPGb",
        "outputId": "eeb8f608-32e0-47b3-bc84-7c68be9801c0"
      },
      "outputs": [
        {
          "data": {
            "text/plain": [
              "12909"
            ]
          },
          "execution_count": 39,
          "metadata": {},
          "output_type": "execute_result"
        }
      ],
      "source": [
        "len(data_train)"
      ]
    },
    {
      "cell_type": "markdown",
      "metadata": {
        "id": "ktHpMht8xPGb"
      },
      "source": [
        "Отвратительный столбец secondary_cleaner.output.tail_sol c десятью процентами пропусков! Аргррргхх. Во всех остальных колонках - порядка двух процентов, эти потери несущественны. 10 процентов - тоже допустимая потеря - но ок, попробуем всё-таки восстановить.\n",
        "Начнём с распределения данного признака:"
      ]
    },
    {
      "cell_type": "code",
      "execution_count": null,
      "metadata": {
        "scrolled": true,
        "id": "py9bW9gIxPGb",
        "outputId": "23601ac0-ddc0-43e1-b759-a1e816084d99"
      },
      "outputs": [
        {
          "data": {
            "text/plain": [
              "'Процент потерь при удалении 17.79378728019212 %'"
            ]
          },
          "execution_count": 40,
          "metadata": {},
          "output_type": "execute_result"
        }
      ],
      "source": [
        "f'Процент потерь при удалении {100 * (1 - data_train.dropna().shape[0] / data_train.shape[0])} %'"
      ]
    },
    {
      "cell_type": "code",
      "execution_count": null,
      "metadata": {
        "id": "yRL80tvfxPGc",
        "outputId": "be989b26-dc1a-4af3-d83b-ce8051fb7df8"
      },
      "outputs": [
        {
          "data": {
            "text/plain": [
              "<AxesSubplot:>"
            ]
          },
          "execution_count": 41,
          "metadata": {},
          "output_type": "execute_result"
        },
        {
          "data": {
            "image/png": "[encoded data removed]",
            "text/plain": [
              "<Figure size 432x288 with 1 Axes>"
            ]
          },
          "metadata": {
            "needs_background": "light"
          },
          "output_type": "display_data"
        }
      ],
      "source": [
        "data_train['secondary_cleaner.output.tail_sol'].hist(bins=50)"
      ]
    },
    {
      "cell_type": "markdown",
      "metadata": {
        "id": "5ejfnDSLxPGc"
      },
      "source": [
        "Начнём с того, что этот признак - количество вещества sol в отвальном хвосте после второго этапа очистки. Вряд ли это существенный признак для эффективности очистки золотоносной руды. Что, впрочем, имеет свой плюс - маловероятно заполнение пропусков существенно повлияет на качество обучения моделей.\n",
        "\n",
        "Теперь по распределению: огромный пик в районе нуля, в остальном сложно выделить конкретный характер распределения. \"Грубо\" назовём его равномерным с двумя пиками - в районе 2.5 и в районе 10.5. Пик в нуле в данном случае означает, что данное вещество удалено полностью на предыдущих и этом этапе очистки и не содержится в отвальном хвосте.\n",
        "\n",
        "Заполняем пропуски на основании данных ближайших соседей:"
      ]
    },
    {
      "cell_type": "code",
      "execution_count": null,
      "metadata": {
        "id": "DuwjmbmnxPGc"
      },
      "outputs": [],
      "source": [
        "data_train = data_train.fillna(method='ffill')\n",
        "data_test = data_test.fillna(method='ffill')"
      ]
    },
    {
      "cell_type": "code",
      "execution_count": null,
      "metadata": {
        "id": "Q6nGWRazxPGc",
        "outputId": "883e85c4-1d6b-493d-bd3f-0956b1a90ffc"
      },
      "outputs": [
        {
          "data": {
            "text/plain": [
              "Series([], dtype: int64)"
            ]
          },
          "execution_count": 43,
          "metadata": {},
          "output_type": "execute_result"
        }
      ],
      "source": [
        "data_train.isna().sum()[data_train.isna().sum()>0]"
      ]
    },
    {
      "cell_type": "code",
      "execution_count": null,
      "metadata": {
        "id": "zE_KOLtpxPGc",
        "outputId": "cfb06945-367b-49f8-9b6e-c8b5ec933820"
      },
      "outputs": [
        {
          "data": {
            "text/plain": [
              "Series([], dtype: int64)"
            ]
          },
          "execution_count": 44,
          "metadata": {},
          "output_type": "execute_result"
        }
      ],
      "source": [
        "data_test.isna().sum()[data_test.isna().sum()>0]"
      ]
    },
    {
      "cell_type": "markdown",
      "metadata": {
        "id": "DHLgN9j-xPGd"
      },
      "source": [
        "Готово, от пропусков в обучающем и тестовом датасетах избавились."
      ]
    },
    {
      "cell_type": "markdown",
      "metadata": {
        "id": "Ja0PekkmxPGd"
      },
      "source": [
        "Помним, что в тестовой выборке меньше столбцов, чем в тестовой и полной - значит, эти дополнитльеные параметры - вычисляемые, то есть зависимые от уже имеющихся значений. Значит, для изебажения зависимых весов, то есть переобучения моделей, данные столбцы подлежат удалению из обучающей выборки - кроме столбцов с уже рассчитанными эффективностями, которые мы оттуда заранее сохраним :)"
      ]
    },
    {
      "cell_type": "code",
      "execution_count": null,
      "metadata": {
        "id": "DA6r7VrVxPGd",
        "outputId": "41ba9a50-c344-4ff4-8893-cd3d4de8b15f"
      },
      "outputs": [
        {
          "name": "stdout",
          "output_type": "stream",
          "text": [
            "(19439, 87)\n",
            "(5289, 53)\n",
            "(12909, 92)\n"
          ]
        }
      ],
      "source": [
        "for data in [data_full, data_test, data_train]:\n",
        "    print(data.shape)"
      ]
    },
    {
      "cell_type": "code",
      "execution_count": null,
      "metadata": {
        "id": "ipT5pNpgxPGd"
      },
      "outputs": [],
      "source": [
        "rougher_recovery_train = data_train['rougher.output.recovery']\n",
        "final_recovery_train = data_train['final.output.recovery']\n",
        "#теперь оставляем в признаках обучающей выборки только то, что есть в тестовой\n",
        "features_train = data_train[list(set(data_test.columns) & set(data_train.columns))]"
      ]
    },
    {
      "cell_type": "code",
      "execution_count": null,
      "metadata": {
        "id": "3FklnRlExPGd"
      },
      "outputs": [],
      "source": [
        "#сортируем в алфавитном порядке для упрощения навигации и удалим ненужный здесь столбец с датой\n",
        "features_train = features_train[sorted(features_train.columns )].drop('date', axis=1)"
      ]
    },
    {
      "cell_type": "code",
      "execution_count": null,
      "metadata": {
        "id": "3GVZ4jtixPGe",
        "outputId": "497ce8c3-1aee-47c0-8de2-422042d69975"
      },
      "outputs": [
        {
          "data": {
            "text/plain": [
              "(12909, 52)"
            ]
          },
          "execution_count": 48,
          "metadata": {},
          "output_type": "execute_result"
        }
      ],
      "source": [
        "features_train.shape"
      ]
    },
    {
      "cell_type": "markdown",
      "metadata": {
        "id": "Alg5Q1y3xPGe"
      },
      "source": [
        "С обучающей выборкой пока закончили. Перейдём к тестовой. По сути она представляет из себя набор признаков, есть нюанс - целевых признаков в ней нет. Было бы отлично их посчитать - но в процессе попытки это сделать выяснилось, что эффективность этапа вычисляется на основе трёх параметров, два из которых отсутсвуют в тестовой выборке - то есть, пам-пам-пам, тоже являются вычисляемыми. К счастью, у нас есть джокер - полные данные, из которых можно восстановить эффективности для данных, содержащихся в тестовой подвыборке. Объединяем нужные колонки датафрейма full по столбцу date."
      ]
    },
    {
      "cell_type": "code",
      "execution_count": null,
      "metadata": {
        "scrolled": true,
        "id": "2jDiZvPpxPGe"
      },
      "outputs": [],
      "source": [
        "data_test = data_test.merge(\n",
        "    data_full[['date', 'rougher.output.recovery', 'final.output.recovery']],\n",
        "    on='date', # название столбца, по которому объединять, передают в параметре on\n",
        "    how='left', # режим объединения передают в параметре how\n",
        "    )"
      ]
    },
    {
      "cell_type": "code",
      "execution_count": null,
      "metadata": {
        "id": "yRLqS3djxPGf",
        "outputId": "ce4e62fd-7384-4e2f-c801-dacacfd03e8e"
      },
      "outputs": [
        {
          "name": "stdout",
          "output_type": "stream",
          "text": [
            "Количество пропусков в строке rougher.output.recovery = 0, количество нулевых значений = 97\n",
            "Количество пропусков в строке final.output.recovery = 0, количество нулевых значений = 40\n"
          ]
        }
      ],
      "source": [
        "for column in ['rougher.output.recovery', 'final.output.recovery']:\n",
        "    print(f'Количество пропусков в строке {column} = {sum(data_test[column].isna())}, '\n",
        "          f'количество нулевых значений = {len(data_test[data_test[column]==0])}')"
      ]
    },
    {
      "cell_type": "markdown",
      "metadata": {
        "id": "kuoY0t4DxPGf"
      },
      "source": [
        "Пропусков нет, но есть нулевые значения - посмотрим на них"
      ]
    },
    {
      "cell_type": "code",
      "execution_count": null,
      "metadata": {
        "id": "nYWoGIpbxPGf",
        "outputId": "c45c2e45-b400-4a1f-dde2-74d1901d3b18"
      },
      "outputs": [
        {
          "data": {
            "text/html": [
              "<div>\n",
              "<style scoped>\n",
              "    .dataframe tbody tr th:only-of-type {\n",
              "        vertical-align: middle;\n",
              "    }\n",
              "\n",
              "    .dataframe tbody tr th {\n",
              "        vertical-align: top;\n",
              "    }\n",
              "\n",
              "    .dataframe thead th {\n",
              "        text-align: right;\n",
              "    }\n",
              "</style>\n",
              "<table border=\"1\" class=\"dataframe\">\n",
              "  <thead>\n",
              "    <tr style=\"text-align: right;\">\n",
              "      <th></th>\n",
              "      <th>date</th>\n",
              "      <th>primary_cleaner.input.sulfate</th>\n",
              "      <th>primary_cleaner.input.depressant</th>\n",
              "      <th>primary_cleaner.input.feed_size</th>\n",
              "      <th>primary_cleaner.input.xanthate</th>\n",
              "      <th>primary_cleaner.state.floatbank8_a_air</th>\n",
              "      <th>primary_cleaner.state.floatbank8_a_level</th>\n",
              "      <th>primary_cleaner.state.floatbank8_b_air</th>\n",
              "      <th>primary_cleaner.state.floatbank8_b_level</th>\n",
              "      <th>primary_cleaner.state.floatbank8_c_air</th>\n",
              "      <th>...</th>\n",
              "      <th>secondary_cleaner.state.floatbank4_b_air</th>\n",
              "      <th>secondary_cleaner.state.floatbank4_b_level</th>\n",
              "      <th>secondary_cleaner.state.floatbank5_a_air</th>\n",
              "      <th>secondary_cleaner.state.floatbank5_a_level</th>\n",
              "      <th>secondary_cleaner.state.floatbank5_b_air</th>\n",
              "      <th>secondary_cleaner.state.floatbank5_b_level</th>\n",
              "      <th>secondary_cleaner.state.floatbank6_a_air</th>\n",
              "      <th>secondary_cleaner.state.floatbank6_a_level</th>\n",
              "      <th>rougher.output.recovery</th>\n",
              "      <th>final.output.recovery</th>\n",
              "    </tr>\n",
              "  </thead>\n",
              "  <tbody>\n",
              "    <tr>\n",
              "      <th>30</th>\n",
              "      <td>2016-09-02 06:59:59</td>\n",
              "      <td>126.329123</td>\n",
              "      <td>8.003034</td>\n",
              "      <td>7.160000</td>\n",
              "      <td>0.699695</td>\n",
              "      <td>412.629243</td>\n",
              "      <td>-795.316337</td>\n",
              "      <td>413.703253</td>\n",
              "      <td>-787.396567</td>\n",
              "      <td>441.604260</td>\n",
              "      <td>...</td>\n",
              "      <td>4.625908e+00</td>\n",
              "      <td>-678.347958</td>\n",
              "      <td>4.451592</td>\n",
              "      <td>-795.337422</td>\n",
              "      <td>3.544708</td>\n",
              "      <td>-800.024373</td>\n",
              "      <td>5.914889</td>\n",
              "      <td>-799.501783</td>\n",
              "      <td>0.000000</td>\n",
              "      <td>0.0</td>\n",
              "    </tr>\n",
              "    <tr>\n",
              "      <th>282</th>\n",
              "      <td>2016-09-14 17:59:59</td>\n",
              "      <td>48.195847</td>\n",
              "      <td>2.923789</td>\n",
              "      <td>7.700000</td>\n",
              "      <td>0.203315</td>\n",
              "      <td>1396.236294</td>\n",
              "      <td>-499.713498</td>\n",
              "      <td>1402.216373</td>\n",
              "      <td>-500.223270</td>\n",
              "      <td>1399.423793</td>\n",
              "      <td>...</td>\n",
              "      <td>4.924957e+00</td>\n",
              "      <td>-499.767342</td>\n",
              "      <td>7.987184</td>\n",
              "      <td>-481.483617</td>\n",
              "      <td>2.879591</td>\n",
              "      <td>-457.540226</td>\n",
              "      <td>20.060078</td>\n",
              "      <td>-495.686828</td>\n",
              "      <td>48.526913</td>\n",
              "      <td>0.0</td>\n",
              "    </tr>\n",
              "    <tr>\n",
              "      <th>468</th>\n",
              "      <td>2016-09-29 13:59:59</td>\n",
              "      <td>16.223643</td>\n",
              "      <td>4.202569</td>\n",
              "      <td>8.380000</td>\n",
              "      <td>0.080215</td>\n",
              "      <td>1601.171129</td>\n",
              "      <td>-500.306888</td>\n",
              "      <td>1601.390223</td>\n",
              "      <td>-499.704200</td>\n",
              "      <td>1600.129669</td>\n",
              "      <td>...</td>\n",
              "      <td>9.919378e+00</td>\n",
              "      <td>-499.255251</td>\n",
              "      <td>10.007758</td>\n",
              "      <td>-656.574395</td>\n",
              "      <td>5.073701</td>\n",
              "      <td>-499.346188</td>\n",
              "      <td>19.985170</td>\n",
              "      <td>-499.977234</td>\n",
              "      <td>55.111801</td>\n",
              "      <td>0.0</td>\n",
              "    </tr>\n",
              "    <tr>\n",
              "      <th>469</th>\n",
              "      <td>2016-09-29 14:59:59</td>\n",
              "      <td>38.259607</td>\n",
              "      <td>1.728081</td>\n",
              "      <td>7.340001</td>\n",
              "      <td>0.209381</td>\n",
              "      <td>1601.807616</td>\n",
              "      <td>-498.495345</td>\n",
              "      <td>1602.512000</td>\n",
              "      <td>-500.909520</td>\n",
              "      <td>1602.116280</td>\n",
              "      <td>...</td>\n",
              "      <td>9.970564e+00</td>\n",
              "      <td>-499.981219</td>\n",
              "      <td>9.973910</td>\n",
              "      <td>-623.338390</td>\n",
              "      <td>5.004010</td>\n",
              "      <td>-499.989059</td>\n",
              "      <td>19.980656</td>\n",
              "      <td>-498.495103</td>\n",
              "      <td>68.031508</td>\n",
              "      <td>0.0</td>\n",
              "    </tr>\n",
              "    <tr>\n",
              "      <th>1233</th>\n",
              "      <td>2016-11-01 18:59:59</td>\n",
              "      <td>55.257492</td>\n",
              "      <td>2.992843</td>\n",
              "      <td>7.380000</td>\n",
              "      <td>0.355297</td>\n",
              "      <td>1671.072268</td>\n",
              "      <td>-499.864198</td>\n",
              "      <td>1698.414652</td>\n",
              "      <td>-501.584380</td>\n",
              "      <td>1701.959486</td>\n",
              "      <td>...</td>\n",
              "      <td>1.707057e+01</td>\n",
              "      <td>-497.495626</td>\n",
              "      <td>17.001114</td>\n",
              "      <td>-500.960168</td>\n",
              "      <td>13.999324</td>\n",
              "      <td>-499.744494</td>\n",
              "      <td>21.974881</td>\n",
              "      <td>-501.707536</td>\n",
              "      <td>83.226991</td>\n",
              "      <td>0.0</td>\n",
              "    </tr>\n",
              "    <tr>\n",
              "      <th>1645</th>\n",
              "      <td>2016-11-19 15:59:59</td>\n",
              "      <td>218.039453</td>\n",
              "      <td>6.926424</td>\n",
              "      <td>7.670000</td>\n",
              "      <td>1.301482</td>\n",
              "      <td>1603.908536</td>\n",
              "      <td>-501.108403</td>\n",
              "      <td>1599.551563</td>\n",
              "      <td>-499.536339</td>\n",
              "      <td>1595.460911</td>\n",
              "      <td>...</td>\n",
              "      <td>1.405552e+01</td>\n",
              "      <td>-461.804543</td>\n",
              "      <td>15.766758</td>\n",
              "      <td>-499.518491</td>\n",
              "      <td>9.370660</td>\n",
              "      <td>-495.470797</td>\n",
              "      <td>4.994278</td>\n",
              "      <td>-808.118080</td>\n",
              "      <td>93.390280</td>\n",
              "      <td>0.0</td>\n",
              "    </tr>\n",
              "    <tr>\n",
              "      <th>1806</th>\n",
              "      <td>2016-11-26 19:59:59</td>\n",
              "      <td>41.812631</td>\n",
              "      <td>3.041078</td>\n",
              "      <td>6.860000</td>\n",
              "      <td>0.167392</td>\n",
              "      <td>1595.759262</td>\n",
              "      <td>-497.231709</td>\n",
              "      <td>1595.388342</td>\n",
              "      <td>-418.965488</td>\n",
              "      <td>1599.880478</td>\n",
              "      <td>...</td>\n",
              "      <td>1.609045e+01</td>\n",
              "      <td>-500.156835</td>\n",
              "      <td>18.499333</td>\n",
              "      <td>-500.471365</td>\n",
              "      <td>12.026245</td>\n",
              "      <td>-499.875568</td>\n",
              "      <td>22.009022</td>\n",
              "      <td>-500.841140</td>\n",
              "      <td>82.491757</td>\n",
              "      <td>0.0</td>\n",
              "    </tr>\n",
              "    <tr>\n",
              "      <th>2690</th>\n",
              "      <td>2017-09-07 22:59:59</td>\n",
              "      <td>94.764305</td>\n",
              "      <td>3.013439</td>\n",
              "      <td>7.899999</td>\n",
              "      <td>1.098096</td>\n",
              "      <td>1603.149105</td>\n",
              "      <td>-499.856199</td>\n",
              "      <td>1597.844121</td>\n",
              "      <td>-500.379230</td>\n",
              "      <td>1600.769821</td>\n",
              "      <td>...</td>\n",
              "      <td>8.962698e+00</td>\n",
              "      <td>-400.133961</td>\n",
              "      <td>13.976275</td>\n",
              "      <td>-500.717160</td>\n",
              "      <td>10.836718</td>\n",
              "      <td>-499.947161</td>\n",
              "      <td>14.961842</td>\n",
              "      <td>-499.197240</td>\n",
              "      <td>81.910997</td>\n",
              "      <td>0.0</td>\n",
              "    </tr>\n",
              "    <tr>\n",
              "      <th>2708</th>\n",
              "      <td>2017-09-08 16:59:59</td>\n",
              "      <td>128.957399</td>\n",
              "      <td>4.490944</td>\n",
              "      <td>6.746667</td>\n",
              "      <td>1.391752</td>\n",
              "      <td>1601.731343</td>\n",
              "      <td>-500.661217</td>\n",
              "      <td>1602.211439</td>\n",
              "      <td>-499.147697</td>\n",
              "      <td>1602.509171</td>\n",
              "      <td>...</td>\n",
              "      <td>8.986300e+00</td>\n",
              "      <td>-400.106014</td>\n",
              "      <td>14.009930</td>\n",
              "      <td>-499.491149</td>\n",
              "      <td>8.783444</td>\n",
              "      <td>-499.742589</td>\n",
              "      <td>15.002190</td>\n",
              "      <td>-499.417604</td>\n",
              "      <td>84.737674</td>\n",
              "      <td>0.0</td>\n",
              "    </tr>\n",
              "    <tr>\n",
              "      <th>2776</th>\n",
              "      <td>2017-09-11 12:59:59</td>\n",
              "      <td>201.655698</td>\n",
              "      <td>6.002331</td>\n",
              "      <td>7.690000</td>\n",
              "      <td>0.887615</td>\n",
              "      <td>1294.277579</td>\n",
              "      <td>-500.084037</td>\n",
              "      <td>1295.881340</td>\n",
              "      <td>-499.924937</td>\n",
              "      <td>1301.414207</td>\n",
              "      <td>...</td>\n",
              "      <td>1.302827e+01</td>\n",
              "      <td>-409.260856</td>\n",
              "      <td>10.003464</td>\n",
              "      <td>-498.977630</td>\n",
              "      <td>7.987446</td>\n",
              "      <td>-499.831928</td>\n",
              "      <td>11.018036</td>\n",
              "      <td>-500.079273</td>\n",
              "      <td>84.985606</td>\n",
              "      <td>0.0</td>\n",
              "    </tr>\n",
              "    <tr>\n",
              "      <th>2777</th>\n",
              "      <td>2017-09-11 13:59:59</td>\n",
              "      <td>204.543303</td>\n",
              "      <td>5.983086</td>\n",
              "      <td>7.690000</td>\n",
              "      <td>0.886945</td>\n",
              "      <td>1293.737896</td>\n",
              "      <td>-498.918959</td>\n",
              "      <td>1299.080778</td>\n",
              "      <td>-499.015776</td>\n",
              "      <td>1297.488210</td>\n",
              "      <td>...</td>\n",
              "      <td>1.297970e+01</td>\n",
              "      <td>-412.393492</td>\n",
              "      <td>9.989396</td>\n",
              "      <td>-499.130121</td>\n",
              "      <td>8.025679</td>\n",
              "      <td>-499.922578</td>\n",
              "      <td>11.014303</td>\n",
              "      <td>-497.950309</td>\n",
              "      <td>86.307127</td>\n",
              "      <td>0.0</td>\n",
              "    </tr>\n",
              "    <tr>\n",
              "      <th>3125</th>\n",
              "      <td>2017-09-26 12:59:59</td>\n",
              "      <td>164.698210</td>\n",
              "      <td>0.003839</td>\n",
              "      <td>7.380000</td>\n",
              "      <td>1.821275</td>\n",
              "      <td>1251.845483</td>\n",
              "      <td>-471.118852</td>\n",
              "      <td>1248.263605</td>\n",
              "      <td>-550.127277</td>\n",
              "      <td>1248.421893</td>\n",
              "      <td>...</td>\n",
              "      <td>1.302851e+01</td>\n",
              "      <td>-399.180109</td>\n",
              "      <td>11.031989</td>\n",
              "      <td>-514.882414</td>\n",
              "      <td>9.077423</td>\n",
              "      <td>-344.179961</td>\n",
              "      <td>11.995561</td>\n",
              "      <td>-460.165587</td>\n",
              "      <td>82.289524</td>\n",
              "      <td>0.0</td>\n",
              "    </tr>\n",
              "    <tr>\n",
              "      <th>3126</th>\n",
              "      <td>2017-09-26 13:59:59</td>\n",
              "      <td>67.464280</td>\n",
              "      <td>2.235325</td>\n",
              "      <td>7.380000</td>\n",
              "      <td>0.384292</td>\n",
              "      <td>1250.610304</td>\n",
              "      <td>-498.700415</td>\n",
              "      <td>1250.449662</td>\n",
              "      <td>-520.712680</td>\n",
              "      <td>1254.352259</td>\n",
              "      <td>...</td>\n",
              "      <td>1.303718e+01</td>\n",
              "      <td>-399.292911</td>\n",
              "      <td>10.929864</td>\n",
              "      <td>-501.886353</td>\n",
              "      <td>8.989974</td>\n",
              "      <td>-499.981361</td>\n",
              "      <td>11.996606</td>\n",
              "      <td>-529.086417</td>\n",
              "      <td>82.947955</td>\n",
              "      <td>0.0</td>\n",
              "    </tr>\n",
              "    <tr>\n",
              "      <th>3361</th>\n",
              "      <td>2017-10-07 05:59:59</td>\n",
              "      <td>102.862434</td>\n",
              "      <td>3.731914</td>\n",
              "      <td>6.540000</td>\n",
              "      <td>0.821710</td>\n",
              "      <td>1451.225620</td>\n",
              "      <td>-500.258723</td>\n",
              "      <td>1450.221455</td>\n",
              "      <td>-501.470062</td>\n",
              "      <td>1449.407914</td>\n",
              "      <td>...</td>\n",
              "      <td>1.494140e+01</td>\n",
              "      <td>-399.287140</td>\n",
              "      <td>11.959596</td>\n",
              "      <td>-497.962637</td>\n",
              "      <td>8.985116</td>\n",
              "      <td>-499.793704</td>\n",
              "      <td>13.002515</td>\n",
              "      <td>-498.584771</td>\n",
              "      <td>85.220842</td>\n",
              "      <td>0.0</td>\n",
              "    </tr>\n",
              "    <tr>\n",
              "      <th>3484</th>\n",
              "      <td>2017-10-12 14:59:59</td>\n",
              "      <td>30.249199</td>\n",
              "      <td>2.720087</td>\n",
              "      <td>6.880000</td>\n",
              "      <td>0.388418</td>\n",
              "      <td>1400.046194</td>\n",
              "      <td>-500.201011</td>\n",
              "      <td>1399.728564</td>\n",
              "      <td>-499.628658</td>\n",
              "      <td>1399.137045</td>\n",
              "      <td>...</td>\n",
              "      <td>1.593672e+01</td>\n",
              "      <td>-399.310571</td>\n",
              "      <td>13.018954</td>\n",
              "      <td>-502.895181</td>\n",
              "      <td>10.016073</td>\n",
              "      <td>-499.937751</td>\n",
              "      <td>14.015996</td>\n",
              "      <td>-789.713101</td>\n",
              "      <td>11.510465</td>\n",
              "      <td>0.0</td>\n",
              "    </tr>\n",
              "    <tr>\n",
              "      <th>3487</th>\n",
              "      <td>2017-10-12 20:59:59</td>\n",
              "      <td>33.239969</td>\n",
              "      <td>3.382857</td>\n",
              "      <td>6.880000</td>\n",
              "      <td>0.662208</td>\n",
              "      <td>1399.041760</td>\n",
              "      <td>-499.534106</td>\n",
              "      <td>1394.930961</td>\n",
              "      <td>-499.679881</td>\n",
              "      <td>1397.925813</td>\n",
              "      <td>...</td>\n",
              "      <td>1.607143e+01</td>\n",
              "      <td>-401.050659</td>\n",
              "      <td>12.967077</td>\n",
              "      <td>-504.457854</td>\n",
              "      <td>10.006132</td>\n",
              "      <td>-500.392843</td>\n",
              "      <td>14.005296</td>\n",
              "      <td>-500.500078</td>\n",
              "      <td>77.427432</td>\n",
              "      <td>0.0</td>\n",
              "    </tr>\n",
              "    <tr>\n",
              "      <th>3504</th>\n",
              "      <td>2017-10-13 13:59:59</td>\n",
              "      <td>91.702137</td>\n",
              "      <td>5.044698</td>\n",
              "      <td>6.790000</td>\n",
              "      <td>0.990615</td>\n",
              "      <td>1397.421982</td>\n",
              "      <td>-495.575892</td>\n",
              "      <td>1396.621563</td>\n",
              "      <td>-503.780005</td>\n",
              "      <td>1401.647332</td>\n",
              "      <td>...</td>\n",
              "      <td>1.603624e+01</td>\n",
              "      <td>-399.213499</td>\n",
              "      <td>12.945032</td>\n",
              "      <td>-494.955276</td>\n",
              "      <td>10.001027</td>\n",
              "      <td>-499.591320</td>\n",
              "      <td>14.000650</td>\n",
              "      <td>-498.537977</td>\n",
              "      <td>87.484721</td>\n",
              "      <td>0.0</td>\n",
              "    </tr>\n",
              "    <tr>\n",
              "      <th>3594</th>\n",
              "      <td>2017-10-17 22:59:59</td>\n",
              "      <td>46.899174</td>\n",
              "      <td>3.434200</td>\n",
              "      <td>6.280000</td>\n",
              "      <td>0.198842</td>\n",
              "      <td>1497.619514</td>\n",
              "      <td>-475.088128</td>\n",
              "      <td>1497.933465</td>\n",
              "      <td>-539.053514</td>\n",
              "      <td>1497.792402</td>\n",
              "      <td>...</td>\n",
              "      <td>1.599884e+01</td>\n",
              "      <td>-399.858793</td>\n",
              "      <td>12.965370</td>\n",
              "      <td>-504.141672</td>\n",
              "      <td>9.984940</td>\n",
              "      <td>-500.215795</td>\n",
              "      <td>13.965057</td>\n",
              "      <td>-500.410091</td>\n",
              "      <td>82.441953</td>\n",
              "      <td>0.0</td>\n",
              "    </tr>\n",
              "    <tr>\n",
              "      <th>3668</th>\n",
              "      <td>2017-10-21 02:59:59</td>\n",
              "      <td>241.836283</td>\n",
              "      <td>13.772468</td>\n",
              "      <td>6.560000</td>\n",
              "      <td>1.880886</td>\n",
              "      <td>1701.653089</td>\n",
              "      <td>-494.594309</td>\n",
              "      <td>1701.054440</td>\n",
              "      <td>-506.916268</td>\n",
              "      <td>1689.450121</td>\n",
              "      <td>...</td>\n",
              "      <td>1.897038e+01</td>\n",
              "      <td>-401.022944</td>\n",
              "      <td>14.957328</td>\n",
              "      <td>-502.434463</td>\n",
              "      <td>10.972131</td>\n",
              "      <td>-499.888689</td>\n",
              "      <td>16.008505</td>\n",
              "      <td>-499.900305</td>\n",
              "      <td>91.930282</td>\n",
              "      <td>0.0</td>\n",
              "    </tr>\n",
              "    <tr>\n",
              "      <th>3669</th>\n",
              "      <td>2017-10-21 03:59:59</td>\n",
              "      <td>238.551574</td>\n",
              "      <td>13.711953</td>\n",
              "      <td>6.560000</td>\n",
              "      <td>1.783935</td>\n",
              "      <td>1702.274765</td>\n",
              "      <td>-477.752079</td>\n",
              "      <td>1701.500551</td>\n",
              "      <td>-552.896038</td>\n",
              "      <td>1689.713195</td>\n",
              "      <td>...</td>\n",
              "      <td>1.906851e+01</td>\n",
              "      <td>-400.217395</td>\n",
              "      <td>15.012764</td>\n",
              "      <td>-503.412115</td>\n",
              "      <td>10.982003</td>\n",
              "      <td>-500.082481</td>\n",
              "      <td>16.016800</td>\n",
              "      <td>-501.243170</td>\n",
              "      <td>90.020718</td>\n",
              "      <td>0.0</td>\n",
              "    </tr>\n",
              "    <tr>\n",
              "      <th>3927</th>\n",
              "      <td>2017-11-01 11:59:59</td>\n",
              "      <td>209.042917</td>\n",
              "      <td>8.914860</td>\n",
              "      <td>7.490000</td>\n",
              "      <td>3.331364</td>\n",
              "      <td>1798.700159</td>\n",
              "      <td>-503.005148</td>\n",
              "      <td>1781.385386</td>\n",
              "      <td>-495.596797</td>\n",
              "      <td>1339.015588</td>\n",
              "      <td>...</td>\n",
              "      <td>1.591784e+01</td>\n",
              "      <td>-499.743487</td>\n",
              "      <td>14.987678</td>\n",
              "      <td>-499.887424</td>\n",
              "      <td>10.960099</td>\n",
              "      <td>-500.186276</td>\n",
              "      <td>15.984455</td>\n",
              "      <td>-500.491550</td>\n",
              "      <td>90.171583</td>\n",
              "      <td>0.0</td>\n",
              "    </tr>\n",
              "    <tr>\n",
              "      <th>4011</th>\n",
              "      <td>2017-11-05 03:59:59</td>\n",
              "      <td>181.663660</td>\n",
              "      <td>6.911539</td>\n",
              "      <td>6.060000</td>\n",
              "      <td>1.802205</td>\n",
              "      <td>1602.047561</td>\n",
              "      <td>-504.941932</td>\n",
              "      <td>1601.006594</td>\n",
              "      <td>-557.848922</td>\n",
              "      <td>1554.147500</td>\n",
              "      <td>...</td>\n",
              "      <td>1.809672e+01</td>\n",
              "      <td>-498.770039</td>\n",
              "      <td>14.006047</td>\n",
              "      <td>-498.331719</td>\n",
              "      <td>9.980501</td>\n",
              "      <td>-433.781201</td>\n",
              "      <td>13.964962</td>\n",
              "      <td>-498.085199</td>\n",
              "      <td>85.631084</td>\n",
              "      <td>0.0</td>\n",
              "    </tr>\n",
              "    <tr>\n",
              "      <th>4312</th>\n",
              "      <td>2017-11-18 07:59:59</td>\n",
              "      <td>236.233741</td>\n",
              "      <td>10.026221</td>\n",
              "      <td>6.570000</td>\n",
              "      <td>3.911401</td>\n",
              "      <td>1602.550806</td>\n",
              "      <td>-500.176047</td>\n",
              "      <td>1600.681880</td>\n",
              "      <td>-525.548255</td>\n",
              "      <td>1556.853509</td>\n",
              "      <td>...</td>\n",
              "      <td>1.500953e+01</td>\n",
              "      <td>-499.159075</td>\n",
              "      <td>10.915912</td>\n",
              "      <td>-498.960600</td>\n",
              "      <td>8.974639</td>\n",
              "      <td>-499.773388</td>\n",
              "      <td>15.999072</td>\n",
              "      <td>-499.251085</td>\n",
              "      <td>93.527759</td>\n",
              "      <td>0.0</td>\n",
              "    </tr>\n",
              "    <tr>\n",
              "      <th>4313</th>\n",
              "      <td>2017-11-18 08:59:59</td>\n",
              "      <td>237.654033</td>\n",
              "      <td>10.002648</td>\n",
              "      <td>6.570000</td>\n",
              "      <td>3.891594</td>\n",
              "      <td>1603.289788</td>\n",
              "      <td>-499.675257</td>\n",
              "      <td>1601.831260</td>\n",
              "      <td>-511.109645</td>\n",
              "      <td>1547.882677</td>\n",
              "      <td>...</td>\n",
              "      <td>1.485666e+01</td>\n",
              "      <td>-498.886685</td>\n",
              "      <td>10.938831</td>\n",
              "      <td>-500.803012</td>\n",
              "      <td>9.009462</td>\n",
              "      <td>-500.588748</td>\n",
              "      <td>15.992782</td>\n",
              "      <td>-500.181483</td>\n",
              "      <td>94.054587</td>\n",
              "      <td>0.0</td>\n",
              "    </tr>\n",
              "    <tr>\n",
              "      <th>4588</th>\n",
              "      <td>2017-11-29 23:59:59</td>\n",
              "      <td>227.427719</td>\n",
              "      <td>0.115705</td>\n",
              "      <td>7.600000</td>\n",
              "      <td>0.010486</td>\n",
              "      <td>1500.190486</td>\n",
              "      <td>-500.592799</td>\n",
              "      <td>1499.240647</td>\n",
              "      <td>-499.368215</td>\n",
              "      <td>1499.805579</td>\n",
              "      <td>...</td>\n",
              "      <td>1.498787e+01</td>\n",
              "      <td>-778.977540</td>\n",
              "      <td>10.934705</td>\n",
              "      <td>-497.792554</td>\n",
              "      <td>8.994251</td>\n",
              "      <td>-499.851597</td>\n",
              "      <td>12.006522</td>\n",
              "      <td>-497.487539</td>\n",
              "      <td>35.546995</td>\n",
              "      <td>0.0</td>\n",
              "    </tr>\n",
              "    <tr>\n",
              "      <th>4589</th>\n",
              "      <td>2017-11-30 01:59:59</td>\n",
              "      <td>52.103361</td>\n",
              "      <td>6.301665</td>\n",
              "      <td>7.600000</td>\n",
              "      <td>0.657437</td>\n",
              "      <td>1494.786081</td>\n",
              "      <td>-500.413157</td>\n",
              "      <td>1495.357330</td>\n",
              "      <td>-501.895209</td>\n",
              "      <td>1501.062405</td>\n",
              "      <td>...</td>\n",
              "      <td>1.500967e+01</td>\n",
              "      <td>-479.367772</td>\n",
              "      <td>10.946650</td>\n",
              "      <td>-498.083096</td>\n",
              "      <td>8.935884</td>\n",
              "      <td>-495.181422</td>\n",
              "      <td>11.998238</td>\n",
              "      <td>-494.504277</td>\n",
              "      <td>87.427782</td>\n",
              "      <td>0.0</td>\n",
              "    </tr>\n",
              "    <tr>\n",
              "      <th>4590</th>\n",
              "      <td>2017-11-30 02:59:59</td>\n",
              "      <td>144.176078</td>\n",
              "      <td>10.012783</td>\n",
              "      <td>7.600000</td>\n",
              "      <td>2.070324</td>\n",
              "      <td>1429.308485</td>\n",
              "      <td>-499.952461</td>\n",
              "      <td>1427.976347</td>\n",
              "      <td>-502.828304</td>\n",
              "      <td>1435.695626</td>\n",
              "      <td>...</td>\n",
              "      <td>1.508771e+01</td>\n",
              "      <td>-361.338836</td>\n",
              "      <td>11.033323</td>\n",
              "      <td>-411.774309</td>\n",
              "      <td>8.991549</td>\n",
              "      <td>-259.669885</td>\n",
              "      <td>12.001940</td>\n",
              "      <td>-294.817404</td>\n",
              "      <td>90.157963</td>\n",
              "      <td>0.0</td>\n",
              "    </tr>\n",
              "    <tr>\n",
              "      <th>4869</th>\n",
              "      <td>2017-12-12 05:59:59</td>\n",
              "      <td>163.661393</td>\n",
              "      <td>7.068190</td>\n",
              "      <td>8.240000</td>\n",
              "      <td>1.102733</td>\n",
              "      <td>1551.091348</td>\n",
              "      <td>-531.489000</td>\n",
              "      <td>1553.669998</td>\n",
              "      <td>-676.938435</td>\n",
              "      <td>1549.571818</td>\n",
              "      <td>...</td>\n",
              "      <td>1.500618e+01</td>\n",
              "      <td>-501.338755</td>\n",
              "      <td>10.943969</td>\n",
              "      <td>-499.837690</td>\n",
              "      <td>7.962367</td>\n",
              "      <td>-500.161187</td>\n",
              "      <td>11.981267</td>\n",
              "      <td>-500.657063</td>\n",
              "      <td>68.709807</td>\n",
              "      <td>0.0</td>\n",
              "    </tr>\n",
              "    <tr>\n",
              "      <th>4963</th>\n",
              "      <td>2017-12-16 23:59:59</td>\n",
              "      <td>45.935947</td>\n",
              "      <td>4.785894</td>\n",
              "      <td>7.490000</td>\n",
              "      <td>0.349275</td>\n",
              "      <td>1927.484998</td>\n",
              "      <td>-499.931023</td>\n",
              "      <td>1548.393751</td>\n",
              "      <td>-799.995232</td>\n",
              "      <td>1157.850239</td>\n",
              "      <td>...</td>\n",
              "      <td>8.306354e-17</td>\n",
              "      <td>-799.841500</td>\n",
              "      <td>10.932292</td>\n",
              "      <td>-499.168782</td>\n",
              "      <td>7.990934</td>\n",
              "      <td>-500.395727</td>\n",
              "      <td>12.013788</td>\n",
              "      <td>-500.518380</td>\n",
              "      <td>75.499299</td>\n",
              "      <td>0.0</td>\n",
              "    </tr>\n",
              "    <tr>\n",
              "      <th>4964</th>\n",
              "      <td>2017-12-17 00:59:59</td>\n",
              "      <td>69.708869</td>\n",
              "      <td>5.181690</td>\n",
              "      <td>7.490000</td>\n",
              "      <td>0.478115</td>\n",
              "      <td>1895.502733</td>\n",
              "      <td>-500.052947</td>\n",
              "      <td>1549.793555</td>\n",
              "      <td>-799.995589</td>\n",
              "      <td>1148.024190</td>\n",
              "      <td>...</td>\n",
              "      <td>8.306354e-17</td>\n",
              "      <td>-799.849054</td>\n",
              "      <td>11.046907</td>\n",
              "      <td>-498.618131</td>\n",
              "      <td>7.993874</td>\n",
              "      <td>-498.869933</td>\n",
              "      <td>11.975429</td>\n",
              "      <td>-499.815000</td>\n",
              "      <td>77.103878</td>\n",
              "      <td>0.0</td>\n",
              "    </tr>\n",
              "    <tr>\n",
              "      <th>4965</th>\n",
              "      <td>2017-12-17 01:59:59</td>\n",
              "      <td>76.159680</td>\n",
              "      <td>4.386311</td>\n",
              "      <td>7.490000</td>\n",
              "      <td>0.499720</td>\n",
              "      <td>1916.164386</td>\n",
              "      <td>-501.818727</td>\n",
              "      <td>1550.641004</td>\n",
              "      <td>-799.995945</td>\n",
              "      <td>1140.177402</td>\n",
              "      <td>...</td>\n",
              "      <td>1.178043e+01</td>\n",
              "      <td>-799.856607</td>\n",
              "      <td>10.929155</td>\n",
              "      <td>-502.818072</td>\n",
              "      <td>8.025616</td>\n",
              "      <td>-500.623392</td>\n",
              "      <td>11.984924</td>\n",
              "      <td>-499.585939</td>\n",
              "      <td>76.679096</td>\n",
              "      <td>0.0</td>\n",
              "    </tr>\n",
              "    <tr>\n",
              "      <th>4966</th>\n",
              "      <td>2017-12-17 02:59:59</td>\n",
              "      <td>80.005276</td>\n",
              "      <td>3.976996</td>\n",
              "      <td>7.490000</td>\n",
              "      <td>0.489500</td>\n",
              "      <td>2103.103580</td>\n",
              "      <td>-447.478305</td>\n",
              "      <td>1549.278726</td>\n",
              "      <td>-799.996302</td>\n",
              "      <td>1113.665783</td>\n",
              "      <td>...</td>\n",
              "      <td>1.485418e+01</td>\n",
              "      <td>-242.757356</td>\n",
              "      <td>10.998073</td>\n",
              "      <td>-489.710247</td>\n",
              "      <td>7.991842</td>\n",
              "      <td>-470.664100</td>\n",
              "      <td>12.006419</td>\n",
              "      <td>-502.354004</td>\n",
              "      <td>77.772547</td>\n",
              "      <td>0.0</td>\n",
              "    </tr>\n",
              "    <tr>\n",
              "      <th>4967</th>\n",
              "      <td>2017-12-17 03:59:59</td>\n",
              "      <td>58.460796</td>\n",
              "      <td>3.932019</td>\n",
              "      <td>7.490000</td>\n",
              "      <td>0.498044</td>\n",
              "      <td>2098.615459</td>\n",
              "      <td>-442.663786</td>\n",
              "      <td>1553.500067</td>\n",
              "      <td>-799.996659</td>\n",
              "      <td>1132.905336</td>\n",
              "      <td>...</td>\n",
              "      <td>1.506994e+01</td>\n",
              "      <td>-12.498243</td>\n",
              "      <td>10.987770</td>\n",
              "      <td>-451.837778</td>\n",
              "      <td>7.920535</td>\n",
              "      <td>-392.108193</td>\n",
              "      <td>11.953059</td>\n",
              "      <td>-458.033823</td>\n",
              "      <td>73.847562</td>\n",
              "      <td>0.0</td>\n",
              "    </tr>\n",
              "    <tr>\n",
              "      <th>4968</th>\n",
              "      <td>2017-12-17 04:59:59</td>\n",
              "      <td>58.008716</td>\n",
              "      <td>3.994091</td>\n",
              "      <td>6.470001</td>\n",
              "      <td>0.500558</td>\n",
              "      <td>1551.871328</td>\n",
              "      <td>-441.830986</td>\n",
              "      <td>1552.452588</td>\n",
              "      <td>-799.997015</td>\n",
              "      <td>1506.164669</td>\n",
              "      <td>...</td>\n",
              "      <td>1.498121e+01</td>\n",
              "      <td>-6.506986</td>\n",
              "      <td>10.986187</td>\n",
              "      <td>-559.692660</td>\n",
              "      <td>8.089905</td>\n",
              "      <td>-384.877506</td>\n",
              "      <td>12.014706</td>\n",
              "      <td>-482.695674</td>\n",
              "      <td>71.052419</td>\n",
              "      <td>0.0</td>\n",
              "    </tr>\n",
              "    <tr>\n",
              "      <th>4972</th>\n",
              "      <td>2017-12-17 08:59:59</td>\n",
              "      <td>58.001557</td>\n",
              "      <td>3.950404</td>\n",
              "      <td>5.880000</td>\n",
              "      <td>0.502388</td>\n",
              "      <td>1553.232581</td>\n",
              "      <td>-508.537488</td>\n",
              "      <td>1553.210408</td>\n",
              "      <td>-746.967330</td>\n",
              "      <td>1509.521439</td>\n",
              "      <td>...</td>\n",
              "      <td>1.659924e+01</td>\n",
              "      <td>-53.213101</td>\n",
              "      <td>11.018384</td>\n",
              "      <td>-506.382137</td>\n",
              "      <td>8.048664</td>\n",
              "      <td>-500.375102</td>\n",
              "      <td>12.002344</td>\n",
              "      <td>-499.655422</td>\n",
              "      <td>50.889893</td>\n",
              "      <td>0.0</td>\n",
              "    </tr>\n",
              "    <tr>\n",
              "      <th>4975</th>\n",
              "      <td>2017-12-17 11:59:59</td>\n",
              "      <td>39.745377</td>\n",
              "      <td>3.871389</td>\n",
              "      <td>5.880000</td>\n",
              "      <td>0.530212</td>\n",
              "      <td>1549.245765</td>\n",
              "      <td>-500.859835</td>\n",
              "      <td>1550.700491</td>\n",
              "      <td>-762.248446</td>\n",
              "      <td>1455.389786</td>\n",
              "      <td>...</td>\n",
              "      <td>1.964601e+01</td>\n",
              "      <td>-77.907947</td>\n",
              "      <td>11.042520</td>\n",
              "      <td>-498.267729</td>\n",
              "      <td>7.976021</td>\n",
              "      <td>-499.554446</td>\n",
              "      <td>11.974268</td>\n",
              "      <td>-499.790718</td>\n",
              "      <td>44.121694</td>\n",
              "      <td>0.0</td>\n",
              "    </tr>\n",
              "    <tr>\n",
              "      <th>4976</th>\n",
              "      <td>2017-12-17 12:59:59</td>\n",
              "      <td>20.015311</td>\n",
              "      <td>4.126689</td>\n",
              "      <td>5.880000</td>\n",
              "      <td>0.507608</td>\n",
              "      <td>1551.852814</td>\n",
              "      <td>-499.880892</td>\n",
              "      <td>1550.891744</td>\n",
              "      <td>-762.546042</td>\n",
              "      <td>1439.447785</td>\n",
              "      <td>...</td>\n",
              "      <td>3.126971e+01</td>\n",
              "      <td>-750.304060</td>\n",
              "      <td>10.956465</td>\n",
              "      <td>-503.860927</td>\n",
              "      <td>8.174718</td>\n",
              "      <td>-500.221250</td>\n",
              "      <td>11.977739</td>\n",
              "      <td>-499.706494</td>\n",
              "      <td>72.328628</td>\n",
              "      <td>0.0</td>\n",
              "    </tr>\n",
              "    <tr>\n",
              "      <th>5168</th>\n",
              "      <td>2017-12-25 20:59:59</td>\n",
              "      <td>2.566156</td>\n",
              "      <td>7.061140</td>\n",
              "      <td>7.900000</td>\n",
              "      <td>0.596297</td>\n",
              "      <td>1599.742252</td>\n",
              "      <td>-368.905787</td>\n",
              "      <td>1600.344228</td>\n",
              "      <td>-437.154266</td>\n",
              "      <td>1321.275844</td>\n",
              "      <td>...</td>\n",
              "      <td>1.509072e+01</td>\n",
              "      <td>-501.300294</td>\n",
              "      <td>10.972631</td>\n",
              "      <td>-502.648521</td>\n",
              "      <td>8.962803</td>\n",
              "      <td>-500.033494</td>\n",
              "      <td>12.005303</td>\n",
              "      <td>-533.891295</td>\n",
              "      <td>6.705438</td>\n",
              "      <td>0.0</td>\n",
              "    </tr>\n",
              "    <tr>\n",
              "      <th>5181</th>\n",
              "      <td>2017-12-26 19:59:59</td>\n",
              "      <td>137.612362</td>\n",
              "      <td>10.316957</td>\n",
              "      <td>5.800000</td>\n",
              "      <td>0.740978</td>\n",
              "      <td>1602.511948</td>\n",
              "      <td>-393.302755</td>\n",
              "      <td>1597.432341</td>\n",
              "      <td>-424.984334</td>\n",
              "      <td>1299.103981</td>\n",
              "      <td>...</td>\n",
              "      <td>1.489798e+01</td>\n",
              "      <td>-499.892176</td>\n",
              "      <td>10.923265</td>\n",
              "      <td>-496.073855</td>\n",
              "      <td>9.052940</td>\n",
              "      <td>-499.780110</td>\n",
              "      <td>11.998058</td>\n",
              "      <td>-498.700110</td>\n",
              "      <td>79.705229</td>\n",
              "      <td>0.0</td>\n",
              "    </tr>\n",
              "    <tr>\n",
              "      <th>5182</th>\n",
              "      <td>2017-12-26 20:59:59</td>\n",
              "      <td>170.646906</td>\n",
              "      <td>14.300399</td>\n",
              "      <td>7.004998</td>\n",
              "      <td>0.695363</td>\n",
              "      <td>1602.131085</td>\n",
              "      <td>-403.600008</td>\n",
              "      <td>1601.125899</td>\n",
              "      <td>-385.187349</td>\n",
              "      <td>1269.949584</td>\n",
              "      <td>...</td>\n",
              "      <td>1.491689e+01</td>\n",
              "      <td>-498.024756</td>\n",
              "      <td>10.962281</td>\n",
              "      <td>-498.858810</td>\n",
              "      <td>9.015296</td>\n",
              "      <td>-500.349342</td>\n",
              "      <td>12.020402</td>\n",
              "      <td>-500.137799</td>\n",
              "      <td>83.325755</td>\n",
              "      <td>0.0</td>\n",
              "    </tr>\n",
              "  </tbody>\n",
              "</table>\n",
              "<p>40 rows × 55 columns</p>\n",
              "</div>"
            ],
            "text/plain": [
              "                     date  primary_cleaner.input.sulfate  \\\n",
              "30    2016-09-02 06:59:59                     126.329123   \n",
              "282   2016-09-14 17:59:59                      48.195847   \n",
              "468   2016-09-29 13:59:59                      16.223643   \n",
              "469   2016-09-29 14:59:59                      38.259607   \n",
              "1233  2016-11-01 18:59:59                      55.257492   \n",
              "1645  2016-11-19 15:59:59                     218.039453   \n",
              "1806  2016-11-26 19:59:59                      41.812631   \n",
              "2690  2017-09-07 22:59:59                      94.764305   \n",
              "2708  2017-09-08 16:59:59                     128.957399   \n",
              "2776  2017-09-11 12:59:59                     201.655698   \n",
              "2777  2017-09-11 13:59:59                     204.543303   \n",
              "3125  2017-09-26 12:59:59                     164.698210   \n",
              "3126  2017-09-26 13:59:59                      67.464280   \n",
              "3361  2017-10-07 05:59:59                     102.862434   \n",
              "3484  2017-10-12 14:59:59                      30.249199   \n",
              "3487  2017-10-12 20:59:59                      33.239969   \n",
              "3504  2017-10-13 13:59:59                      91.702137   \n",
              "3594  2017-10-17 22:59:59                      46.899174   \n",
              "3668  2017-10-21 02:59:59                     241.836283   \n",
              "3669  2017-10-21 03:59:59                     238.551574   \n",
              "3927  2017-11-01 11:59:59                     209.042917   \n",
              "4011  2017-11-05 03:59:59                     181.663660   \n",
              "4312  2017-11-18 07:59:59                     236.233741   \n",
              "4313  2017-11-18 08:59:59                     237.654033   \n",
              "4588  2017-11-29 23:59:59                     227.427719   \n",
              "4589  2017-11-30 01:59:59                      52.103361   \n",
              "4590  2017-11-30 02:59:59                     144.176078   \n",
              "4869  2017-12-12 05:59:59                     163.661393   \n",
              "4963  2017-12-16 23:59:59                      45.935947   \n",
              "4964  2017-12-17 00:59:59                      69.708869   \n",
              "4965  2017-12-17 01:59:59                      76.159680   \n",
              "4966  2017-12-17 02:59:59                      80.005276   \n",
              "4967  2017-12-17 03:59:59                      58.460796   \n",
              "4968  2017-12-17 04:59:59                      58.008716   \n",
              "4972  2017-12-17 08:59:59                      58.001557   \n",
              "4975  2017-12-17 11:59:59                      39.745377   \n",
              "4976  2017-12-17 12:59:59                      20.015311   \n",
              "5168  2017-12-25 20:59:59                       2.566156   \n",
              "5181  2017-12-26 19:59:59                     137.612362   \n",
              "5182  2017-12-26 20:59:59                     170.646906   \n",
              "\n",
              "      primary_cleaner.input.depressant  primary_cleaner.input.feed_size  \\\n",
              "30                            8.003034                         7.160000   \n",
              "282                           2.923789                         7.700000   \n",
              "468                           4.202569                         8.380000   \n",
              "469                           1.728081                         7.340001   \n",
              "1233                          2.992843                         7.380000   \n",
              "1645                          6.926424                         7.670000   \n",
              "1806                          3.041078                         6.860000   \n",
              "2690                          3.013439                         7.899999   \n",
              "2708                          4.490944                         6.746667   \n",
              "2776                          6.002331                         7.690000   \n",
              "2777                          5.983086                         7.690000   \n",
              "3125                          0.003839                         7.380000   \n",
              "3126                          2.235325                         7.380000   \n",
              "3361                          3.731914                         6.540000   \n",
              "3484                          2.720087                         6.880000   \n",
              "3487                          3.382857                         6.880000   \n",
              "3504                          5.044698                         6.790000   \n",
              "3594                          3.434200                         6.280000   \n",
              "3668                         13.772468                         6.560000   \n",
              "3669                         13.711953                         6.560000   \n",
              "3927                          8.914860                         7.490000   \n",
              "4011                          6.911539                         6.060000   \n",
              "4312                         10.026221                         6.570000   \n",
              "4313                         10.002648                         6.570000   \n",
              "4588                          0.115705                         7.600000   \n",
              "4589                          6.301665                         7.600000   \n",
              "4590                         10.012783                         7.600000   \n",
              "4869                          7.068190                         8.240000   \n",
              "4963                          4.785894                         7.490000   \n",
              "4964                          5.181690                         7.490000   \n",
              "4965                          4.386311                         7.490000   \n",
              "4966                          3.976996                         7.490000   \n",
              "4967                          3.932019                         7.490000   \n",
              "4968                          3.994091                         6.470001   \n",
              "4972                          3.950404                         5.880000   \n",
              "4975                          3.871389                         5.880000   \n",
              "4976                          4.126689                         5.880000   \n",
              "5168                          7.061140                         7.900000   \n",
              "5181                         10.316957                         5.800000   \n",
              "5182                         14.300399                         7.004998   \n",
              "\n",
              "      primary_cleaner.input.xanthate  primary_cleaner.state.floatbank8_a_air  \\\n",
              "30                          0.699695                              412.629243   \n",
              "282                         0.203315                             1396.236294   \n",
              "468                         0.080215                             1601.171129   \n",
              "469                         0.209381                             1601.807616   \n",
              "1233                        0.355297                             1671.072268   \n",
              "1645                        1.301482                             1603.908536   \n",
              "1806                        0.167392                             1595.759262   \n",
              "2690                        1.098096                             1603.149105   \n",
              "2708                        1.391752                             1601.731343   \n",
              "2776                        0.887615                             1294.277579   \n",
              "2777                        0.886945                             1293.737896   \n",
              "3125                        1.821275                             1251.845483   \n",
              "3126                        0.384292                             1250.610304   \n",
              "3361                        0.821710                             1451.225620   \n",
              "3484                        0.388418                             1400.046194   \n",
              "3487                        0.662208                             1399.041760   \n",
              "3504                        0.990615                             1397.421982   \n",
              "3594                        0.198842                             1497.619514   \n",
              "3668                        1.880886                             1701.653089   \n",
              "3669                        1.783935                             1702.274765   \n",
              "3927                        3.331364                             1798.700159   \n",
              "4011                        1.802205                             1602.047561   \n",
              "4312                        3.911401                             1602.550806   \n",
              "4313                        3.891594                             1603.289788   \n",
              "4588                        0.010486                             1500.190486   \n",
              "4589                        0.657437                             1494.786081   \n",
              "4590                        2.070324                             1429.308485   \n",
              "4869                        1.102733                             1551.091348   \n",
              "4963                        0.349275                             1927.484998   \n",
              "4964                        0.478115                             1895.502733   \n",
              "4965                        0.499720                             1916.164386   \n",
              "4966                        0.489500                             2103.103580   \n",
              "4967                        0.498044                             2098.615459   \n",
              "4968                        0.500558                             1551.871328   \n",
              "4972                        0.502388                             1553.232581   \n",
              "4975                        0.530212                             1549.245765   \n",
              "4976                        0.507608                             1551.852814   \n",
              "5168                        0.596297                             1599.742252   \n",
              "5181                        0.740978                             1602.511948   \n",
              "5182                        0.695363                             1602.131085   \n",
              "\n",
              "      primary_cleaner.state.floatbank8_a_level  \\\n",
              "30                                 -795.316337   \n",
              "282                                -499.713498   \n",
              "468                                -500.306888   \n",
              "469                                -498.495345   \n",
              "1233                               -499.864198   \n",
              "1645                               -501.108403   \n",
              "1806                               -497.231709   \n",
              "2690                               -499.856199   \n",
              "2708                               -500.661217   \n",
              "2776                               -500.084037   \n",
              "2777                               -498.918959   \n",
              "3125                               -471.118852   \n",
              "3126                               -498.700415   \n",
              "3361                               -500.258723   \n",
              "3484                               -500.201011   \n",
              "3487                               -499.534106   \n",
              "3504                               -495.575892   \n",
              "3594                               -475.088128   \n",
              "3668                               -494.594309   \n",
              "3669                               -477.752079   \n",
              "3927                               -503.005148   \n",
              "4011                               -504.941932   \n",
              "4312                               -500.176047   \n",
              "4313                               -499.675257   \n",
              "4588                               -500.592799   \n",
              "4589                               -500.413157   \n",
              "4590                               -499.952461   \n",
              "4869                               -531.489000   \n",
              "4963                               -499.931023   \n",
              "4964                               -500.052947   \n",
              "4965                               -501.818727   \n",
              "4966                               -447.478305   \n",
              "4967                               -442.663786   \n",
              "4968                               -441.830986   \n",
              "4972                               -508.537488   \n",
              "4975                               -500.859835   \n",
              "4976                               -499.880892   \n",
              "5168                               -368.905787   \n",
              "5181                               -393.302755   \n",
              "5182                               -403.600008   \n",
              "\n",
              "      primary_cleaner.state.floatbank8_b_air  \\\n",
              "30                                413.703253   \n",
              "282                              1402.216373   \n",
              "468                              1601.390223   \n",
              "469                              1602.512000   \n",
              "1233                             1698.414652   \n",
              "1645                             1599.551563   \n",
              "1806                             1595.388342   \n",
              "2690                             1597.844121   \n",
              "2708                             1602.211439   \n",
              "2776                             1295.881340   \n",
              "2777                             1299.080778   \n",
              "3125                             1248.263605   \n",
              "3126                             1250.449662   \n",
              "3361                             1450.221455   \n",
              "3484                             1399.728564   \n",
              "3487                             1394.930961   \n",
              "3504                             1396.621563   \n",
              "3594                             1497.933465   \n",
              "3668                             1701.054440   \n",
              "3669                             1701.500551   \n",
              "3927                             1781.385386   \n",
              "4011                             1601.006594   \n",
              "4312                             1600.681880   \n",
              "4313                             1601.831260   \n",
              "4588                             1499.240647   \n",
              "4589                             1495.357330   \n",
              "4590                             1427.976347   \n",
              "4869                             1553.669998   \n",
              "4963                             1548.393751   \n",
              "4964                             1549.793555   \n",
              "4965                             1550.641004   \n",
              "4966                             1549.278726   \n",
              "4967                             1553.500067   \n",
              "4968                             1552.452588   \n",
              "4972                             1553.210408   \n",
              "4975                             1550.700491   \n",
              "4976                             1550.891744   \n",
              "5168                             1600.344228   \n",
              "5181                             1597.432341   \n",
              "5182                             1601.125899   \n",
              "\n",
              "      primary_cleaner.state.floatbank8_b_level  \\\n",
              "30                                 -787.396567   \n",
              "282                                -500.223270   \n",
              "468                                -499.704200   \n",
              "469                                -500.909520   \n",
              "1233                               -501.584380   \n",
              "1645                               -499.536339   \n",
              "1806                               -418.965488   \n",
              "2690                               -500.379230   \n",
              "2708                               -499.147697   \n",
              "2776                               -499.924937   \n",
              "2777                               -499.015776   \n",
              "3125                               -550.127277   \n",
              "3126                               -520.712680   \n",
              "3361                               -501.470062   \n",
              "3484                               -499.628658   \n",
              "3487                               -499.679881   \n",
              "3504                               -503.780005   \n",
              "3594                               -539.053514   \n",
              "3668                               -506.916268   \n",
              "3669                               -552.896038   \n",
              "3927                               -495.596797   \n",
              "4011                               -557.848922   \n",
              "4312                               -525.548255   \n",
              "4313                               -511.109645   \n",
              "4588                               -499.368215   \n",
              "4589                               -501.895209   \n",
              "4590                               -502.828304   \n",
              "4869                               -676.938435   \n",
              "4963                               -799.995232   \n",
              "4964                               -799.995589   \n",
              "4965                               -799.995945   \n",
              "4966                               -799.996302   \n",
              "4967                               -799.996659   \n",
              "4968                               -799.997015   \n",
              "4972                               -746.967330   \n",
              "4975                               -762.248446   \n",
              "4976                               -762.546042   \n",
              "5168                               -437.154266   \n",
              "5181                               -424.984334   \n",
              "5182                               -385.187349   \n",
              "\n",
              "      primary_cleaner.state.floatbank8_c_air  ...  \\\n",
              "30                                441.604260  ...   \n",
              "282                              1399.423793  ...   \n",
              "468                              1600.129669  ...   \n",
              "469                              1602.116280  ...   \n",
              "1233                             1701.959486  ...   \n",
              "1645                             1595.460911  ...   \n",
              "1806                             1599.880478  ...   \n",
              "2690                             1600.769821  ...   \n",
              "2708                             1602.509171  ...   \n",
              "2776                             1301.414207  ...   \n",
              "2777                             1297.488210  ...   \n",
              "3125                             1248.421893  ...   \n",
              "3126                             1254.352259  ...   \n",
              "3361                             1449.407914  ...   \n",
              "3484                             1399.137045  ...   \n",
              "3487                             1397.925813  ...   \n",
              "3504                             1401.647332  ...   \n",
              "3594                             1497.792402  ...   \n",
              "3668                             1689.450121  ...   \n",
              "3669                             1689.713195  ...   \n",
              "3927                             1339.015588  ...   \n",
              "4011                             1554.147500  ...   \n",
              "4312                             1556.853509  ...   \n",
              "4313                             1547.882677  ...   \n",
              "4588                             1499.805579  ...   \n",
              "4589                             1501.062405  ...   \n",
              "4590                             1435.695626  ...   \n",
              "4869                             1549.571818  ...   \n",
              "4963                             1157.850239  ...   \n",
              "4964                             1148.024190  ...   \n",
              "4965                             1140.177402  ...   \n",
              "4966                             1113.665783  ...   \n",
              "4967                             1132.905336  ...   \n",
              "4968                             1506.164669  ...   \n",
              "4972                             1509.521439  ...   \n",
              "4975                             1455.389786  ...   \n",
              "4976                             1439.447785  ...   \n",
              "5168                             1321.275844  ...   \n",
              "5181                             1299.103981  ...   \n",
              "5182                             1269.949584  ...   \n",
              "\n",
              "      secondary_cleaner.state.floatbank4_b_air  \\\n",
              "30                                4.625908e+00   \n",
              "282                               4.924957e+00   \n",
              "468                               9.919378e+00   \n",
              "469                               9.970564e+00   \n",
              "1233                              1.707057e+01   \n",
              "1645                              1.405552e+01   \n",
              "1806                              1.609045e+01   \n",
              "2690                              8.962698e+00   \n",
              "2708                              8.986300e+00   \n",
              "2776                              1.302827e+01   \n",
              "2777                              1.297970e+01   \n",
              "3125                              1.302851e+01   \n",
              "3126                              1.303718e+01   \n",
              "3361                              1.494140e+01   \n",
              "3484                              1.593672e+01   \n",
              "3487                              1.607143e+01   \n",
              "3504                              1.603624e+01   \n",
              "3594                              1.599884e+01   \n",
              "3668                              1.897038e+01   \n",
              "3669                              1.906851e+01   \n",
              "3927                              1.591784e+01   \n",
              "4011                              1.809672e+01   \n",
              "4312                              1.500953e+01   \n",
              "4313                              1.485666e+01   \n",
              "4588                              1.498787e+01   \n",
              "4589                              1.500967e+01   \n",
              "4590                              1.508771e+01   \n",
              "4869                              1.500618e+01   \n",
              "4963                              8.306354e-17   \n",
              "4964                              8.306354e-17   \n",
              "4965                              1.178043e+01   \n",
              "4966                              1.485418e+01   \n",
              "4967                              1.506994e+01   \n",
              "4968                              1.498121e+01   \n",
              "4972                              1.659924e+01   \n",
              "4975                              1.964601e+01   \n",
              "4976                              3.126971e+01   \n",
              "5168                              1.509072e+01   \n",
              "5181                              1.489798e+01   \n",
              "5182                              1.491689e+01   \n",
              "\n",
              "      secondary_cleaner.state.floatbank4_b_level  \\\n",
              "30                                   -678.347958   \n",
              "282                                  -499.767342   \n",
              "468                                  -499.255251   \n",
              "469                                  -499.981219   \n",
              "1233                                 -497.495626   \n",
              "1645                                 -461.804543   \n",
              "1806                                 -500.156835   \n",
              "2690                                 -400.133961   \n",
              "2708                                 -400.106014   \n",
              "2776                                 -409.260856   \n",
              "2777                                 -412.393492   \n",
              "3125                                 -399.180109   \n",
              "3126                                 -399.292911   \n",
              "3361                                 -399.287140   \n",
              "3484                                 -399.310571   \n",
              "3487                                 -401.050659   \n",
              "3504                                 -399.213499   \n",
              "3594                                 -399.858793   \n",
              "3668                                 -401.022944   \n",
              "3669                                 -400.217395   \n",
              "3927                                 -499.743487   \n",
              "4011                                 -498.770039   \n",
              "4312                                 -499.159075   \n",
              "4313                                 -498.886685   \n",
              "4588                                 -778.977540   \n",
              "4589                                 -479.367772   \n",
              "4590                                 -361.338836   \n",
              "4869                                 -501.338755   \n",
              "4963                                 -799.841500   \n",
              "4964                                 -799.849054   \n",
              "4965                                 -799.856607   \n",
              "4966                                 -242.757356   \n",
              "4967                                  -12.498243   \n",
              "4968                                   -6.506986   \n",
              "4972                                  -53.213101   \n",
              "4975                                  -77.907947   \n",
              "4976                                 -750.304060   \n",
              "5168                                 -501.300294   \n",
              "5181                                 -499.892176   \n",
              "5182                                 -498.024756   \n",
              "\n",
              "      secondary_cleaner.state.floatbank5_a_air  \\\n",
              "30                                    4.451592   \n",
              "282                                   7.987184   \n",
              "468                                  10.007758   \n",
              "469                                   9.973910   \n",
              "1233                                 17.001114   \n",
              "1645                                 15.766758   \n",
              "1806                                 18.499333   \n",
              "2690                                 13.976275   \n",
              "2708                                 14.009930   \n",
              "2776                                 10.003464   \n",
              "2777                                  9.989396   \n",
              "3125                                 11.031989   \n",
              "3126                                 10.929864   \n",
              "3361                                 11.959596   \n",
              "3484                                 13.018954   \n",
              "3487                                 12.967077   \n",
              "3504                                 12.945032   \n",
              "3594                                 12.965370   \n",
              "3668                                 14.957328   \n",
              "3669                                 15.012764   \n",
              "3927                                 14.987678   \n",
              "4011                                 14.006047   \n",
              "4312                                 10.915912   \n",
              "4313                                 10.938831   \n",
              "4588                                 10.934705   \n",
              "4589                                 10.946650   \n",
              "4590                                 11.033323   \n",
              "4869                                 10.943969   \n",
              "4963                                 10.932292   \n",
              "4964                                 11.046907   \n",
              "4965                                 10.929155   \n",
              "4966                                 10.998073   \n",
              "4967                                 10.987770   \n",
              "4968                                 10.986187   \n",
              "4972                                 11.018384   \n",
              "4975                                 11.042520   \n",
              "4976                                 10.956465   \n",
              "5168                                 10.972631   \n",
              "5181                                 10.923265   \n",
              "5182                                 10.962281   \n",
              "\n",
              "      secondary_cleaner.state.floatbank5_a_level  \\\n",
              "30                                   -795.337422   \n",
              "282                                  -481.483617   \n",
              "468                                  -656.574395   \n",
              "469                                  -623.338390   \n",
              "1233                                 -500.960168   \n",
              "1645                                 -499.518491   \n",
              "1806                                 -500.471365   \n",
              "2690                                 -500.717160   \n",
              "2708                                 -499.491149   \n",
              "2776                                 -498.977630   \n",
              "2777                                 -499.130121   \n",
              "3125                                 -514.882414   \n",
              "3126                                 -501.886353   \n",
              "3361                                 -497.962637   \n",
              "3484                                 -502.895181   \n",
              "3487                                 -504.457854   \n",
              "3504                                 -494.955276   \n",
              "3594                                 -504.141672   \n",
              "3668                                 -502.434463   \n",
              "3669                                 -503.412115   \n",
              "3927                                 -499.887424   \n",
              "4011                                 -498.331719   \n",
              "4312                                 -498.960600   \n",
              "4313                                 -500.803012   \n",
              "4588                                 -497.792554   \n",
              "4589                                 -498.083096   \n",
              "4590                                 -411.774309   \n",
              "4869                                 -499.837690   \n",
              "4963                                 -499.168782   \n",
              "4964                                 -498.618131   \n",
              "4965                                 -502.818072   \n",
              "4966                                 -489.710247   \n",
              "4967                                 -451.837778   \n",
              "4968                                 -559.692660   \n",
              "4972                                 -506.382137   \n",
              "4975                                 -498.267729   \n",
              "4976                                 -503.860927   \n",
              "5168                                 -502.648521   \n",
              "5181                                 -496.073855   \n",
              "5182                                 -498.858810   \n",
              "\n",
              "      secondary_cleaner.state.floatbank5_b_air  \\\n",
              "30                                    3.544708   \n",
              "282                                   2.879591   \n",
              "468                                   5.073701   \n",
              "469                                   5.004010   \n",
              "1233                                 13.999324   \n",
              "1645                                  9.370660   \n",
              "1806                                 12.026245   \n",
              "2690                                 10.836718   \n",
              "2708                                  8.783444   \n",
              "2776                                  7.987446   \n",
              "2777                                  8.025679   \n",
              "3125                                  9.077423   \n",
              "3126                                  8.989974   \n",
              "3361                                  8.985116   \n",
              "3484                                 10.016073   \n",
              "3487                                 10.006132   \n",
              "3504                                 10.001027   \n",
              "3594                                  9.984940   \n",
              "3668                                 10.972131   \n",
              "3669                                 10.982003   \n",
              "3927                                 10.960099   \n",
              "4011                                  9.980501   \n",
              "4312                                  8.974639   \n",
              "4313                                  9.009462   \n",
              "4588                                  8.994251   \n",
              "4589                                  8.935884   \n",
              "4590                                  8.991549   \n",
              "4869                                  7.962367   \n",
              "4963                                  7.990934   \n",
              "4964                                  7.993874   \n",
              "4965                                  8.025616   \n",
              "4966                                  7.991842   \n",
              "4967                                  7.920535   \n",
              "4968                                  8.089905   \n",
              "4972                                  8.048664   \n",
              "4975                                  7.976021   \n",
              "4976                                  8.174718   \n",
              "5168                                  8.962803   \n",
              "5181                                  9.052940   \n",
              "5182                                  9.015296   \n",
              "\n",
              "      secondary_cleaner.state.floatbank5_b_level  \\\n",
              "30                                   -800.024373   \n",
              "282                                  -457.540226   \n",
              "468                                  -499.346188   \n",
              "469                                  -499.989059   \n",
              "1233                                 -499.744494   \n",
              "1645                                 -495.470797   \n",
              "1806                                 -499.875568   \n",
              "2690                                 -499.947161   \n",
              "2708                                 -499.742589   \n",
              "2776                                 -499.831928   \n",
              "2777                                 -499.922578   \n",
              "3125                                 -344.179961   \n",
              "3126                                 -499.981361   \n",
              "3361                                 -499.793704   \n",
              "3484                                 -499.937751   \n",
              "3487                                 -500.392843   \n",
              "3504                                 -499.591320   \n",
              "3594                                 -500.215795   \n",
              "3668                                 -499.888689   \n",
              "3669                                 -500.082481   \n",
              "3927                                 -500.186276   \n",
              "4011                                 -433.781201   \n",
              "4312                                 -499.773388   \n",
              "4313                                 -500.588748   \n",
              "4588                                 -499.851597   \n",
              "4589                                 -495.181422   \n",
              "4590                                 -259.669885   \n",
              "4869                                 -500.161187   \n",
              "4963                                 -500.395727   \n",
              "4964                                 -498.869933   \n",
              "4965                                 -500.623392   \n",
              "4966                                 -470.664100   \n",
              "4967                                 -392.108193   \n",
              "4968                                 -384.877506   \n",
              "4972                                 -500.375102   \n",
              "4975                                 -499.554446   \n",
              "4976                                 -500.221250   \n",
              "5168                                 -500.033494   \n",
              "5181                                 -499.780110   \n",
              "5182                                 -500.349342   \n",
              "\n",
              "      secondary_cleaner.state.floatbank6_a_air  \\\n",
              "30                                    5.914889   \n",
              "282                                  20.060078   \n",
              "468                                  19.985170   \n",
              "469                                  19.980656   \n",
              "1233                                 21.974881   \n",
              "1645                                  4.994278   \n",
              "1806                                 22.009022   \n",
              "2690                                 14.961842   \n",
              "2708                                 15.002190   \n",
              "2776                                 11.018036   \n",
              "2777                                 11.014303   \n",
              "3125                                 11.995561   \n",
              "3126                                 11.996606   \n",
              "3361                                 13.002515   \n",
              "3484                                 14.015996   \n",
              "3487                                 14.005296   \n",
              "3504                                 14.000650   \n",
              "3594                                 13.965057   \n",
              "3668                                 16.008505   \n",
              "3669                                 16.016800   \n",
              "3927                                 15.984455   \n",
              "4011                                 13.964962   \n",
              "4312                                 15.999072   \n",
              "4313                                 15.992782   \n",
              "4588                                 12.006522   \n",
              "4589                                 11.998238   \n",
              "4590                                 12.001940   \n",
              "4869                                 11.981267   \n",
              "4963                                 12.013788   \n",
              "4964                                 11.975429   \n",
              "4965                                 11.984924   \n",
              "4966                                 12.006419   \n",
              "4967                                 11.953059   \n",
              "4968                                 12.014706   \n",
              "4972                                 12.002344   \n",
              "4975                                 11.974268   \n",
              "4976                                 11.977739   \n",
              "5168                                 12.005303   \n",
              "5181                                 11.998058   \n",
              "5182                                 12.020402   \n",
              "\n",
              "      secondary_cleaner.state.floatbank6_a_level  rougher.output.recovery  \\\n",
              "30                                   -799.501783                 0.000000   \n",
              "282                                  -495.686828                48.526913   \n",
              "468                                  -499.977234                55.111801   \n",
              "469                                  -498.495103                68.031508   \n",
              "1233                                 -501.707536                83.226991   \n",
              "1645                                 -808.118080                93.390280   \n",
              "1806                                 -500.841140                82.491757   \n",
              "2690                                 -499.197240                81.910997   \n",
              "2708                                 -499.417604                84.737674   \n",
              "2776                                 -500.079273                84.985606   \n",
              "2777                                 -497.950309                86.307127   \n",
              "3125                                 -460.165587                82.289524   \n",
              "3126                                 -529.086417                82.947955   \n",
              "3361                                 -498.584771                85.220842   \n",
              "3484                                 -789.713101                11.510465   \n",
              "3487                                 -500.500078                77.427432   \n",
              "3504                                 -498.537977                87.484721   \n",
              "3594                                 -500.410091                82.441953   \n",
              "3668                                 -499.900305                91.930282   \n",
              "3669                                 -501.243170                90.020718   \n",
              "3927                                 -500.491550                90.171583   \n",
              "4011                                 -498.085199                85.631084   \n",
              "4312                                 -499.251085                93.527759   \n",
              "4313                                 -500.181483                94.054587   \n",
              "4588                                 -497.487539                35.546995   \n",
              "4589                                 -494.504277                87.427782   \n",
              "4590                                 -294.817404                90.157963   \n",
              "4869                                 -500.657063                68.709807   \n",
              "4963                                 -500.518380                75.499299   \n",
              "4964                                 -499.815000                77.103878   \n",
              "4965                                 -499.585939                76.679096   \n",
              "4966                                 -502.354004                77.772547   \n",
              "4967                                 -458.033823                73.847562   \n",
              "4968                                 -482.695674                71.052419   \n",
              "4972                                 -499.655422                50.889893   \n",
              "4975                                 -499.790718                44.121694   \n",
              "4976                                 -499.706494                72.328628   \n",
              "5168                                 -533.891295                 6.705438   \n",
              "5181                                 -498.700110                79.705229   \n",
              "5182                                 -500.137799                83.325755   \n",
              "\n",
              "      final.output.recovery  \n",
              "30                      0.0  \n",
              "282                     0.0  \n",
              "468                     0.0  \n",
              "469                     0.0  \n",
              "1233                    0.0  \n",
              "1645                    0.0  \n",
              "1806                    0.0  \n",
              "2690                    0.0  \n",
              "2708                    0.0  \n",
              "2776                    0.0  \n",
              "2777                    0.0  \n",
              "3125                    0.0  \n",
              "3126                    0.0  \n",
              "3361                    0.0  \n",
              "3484                    0.0  \n",
              "3487                    0.0  \n",
              "3504                    0.0  \n",
              "3594                    0.0  \n",
              "3668                    0.0  \n",
              "3669                    0.0  \n",
              "3927                    0.0  \n",
              "4011                    0.0  \n",
              "4312                    0.0  \n",
              "4313                    0.0  \n",
              "4588                    0.0  \n",
              "4589                    0.0  \n",
              "4590                    0.0  \n",
              "4869                    0.0  \n",
              "4963                    0.0  \n",
              "4964                    0.0  \n",
              "4965                    0.0  \n",
              "4966                    0.0  \n",
              "4967                    0.0  \n",
              "4968                    0.0  \n",
              "4972                    0.0  \n",
              "4975                    0.0  \n",
              "4976                    0.0  \n",
              "5168                    0.0  \n",
              "5181                    0.0  \n",
              "5182                    0.0  \n",
              "\n",
              "[40 rows x 55 columns]"
            ]
          },
          "execution_count": 51,
          "metadata": {},
          "output_type": "execute_result"
        }
      ],
      "source": [
        "data_test[data_test['final.output.recovery']==0]"
      ]
    },
    {
      "cell_type": "markdown",
      "metadata": {
        "id": "hCm3T8GPxPGg"
      },
      "source": [
        "Все данные есть, но эффективность не рассчитана. В принципе - могли бы попробовать восстановить по крайней мере часть из них по остальным данным полного датасета data_full. Удалять не можем - это тестовая выборка. Возможно, исходное сырьё содержало слишком малый процент металла, и особенности технологического процесса и оборудования не позволяют справится с такой концентрацией. Значит - в обучающей выборки строки с нулевой эффективностью тоже нужно оставить."
      ]
    },
    {
      "cell_type": "markdown",
      "metadata": {
        "id": "gxzuqz4ZxPGg"
      },
      "source": [
        "Теперь, наконец, можем удалить столбец с датой - он нам уже не понадобится, эффективность точно не зависит от времени суток)"
      ]
    },
    {
      "cell_type": "code",
      "execution_count": null,
      "metadata": {
        "id": "SZxVf_TjxPGg"
      },
      "outputs": [],
      "source": [
        "data_test = data_test.drop('date', axis=1)\n",
        "data_train = data_train.drop('date', axis=1)"
      ]
    },
    {
      "cell_type": "code",
      "execution_count": null,
      "metadata": {
        "id": "XDOpDJMRxPGh"
      },
      "outputs": [],
      "source": [
        "# теперь отделяем целевые признаки от всего остального\n",
        "rougher_recovery_test = data_test['rougher.output.recovery']\n",
        "final_recovery_test = data_test['final.output.recovery']\n",
        "features_test = data_test.drop(columns=['rougher.output.recovery', 'final.output.recovery'], axis=1)"
      ]
    },
    {
      "cell_type": "markdown",
      "metadata": {
        "id": "CXusY03DxPGh"
      },
      "source": [
        "Теперь посмотрим на масштаб признаков:"
      ]
    },
    {
      "cell_type": "code",
      "execution_count": null,
      "metadata": {
        "id": "8N2g6IdYxPGh",
        "outputId": "779ee529-6c89-4656-9afb-c169160138eb"
      },
      "outputs": [
        {
          "data": {
            "text/html": [
              "<div>\n",
              "<style scoped>\n",
              "    .dataframe tbody tr th:only-of-type {\n",
              "        vertical-align: middle;\n",
              "    }\n",
              "\n",
              "    .dataframe tbody tr th {\n",
              "        vertical-align: top;\n",
              "    }\n",
              "\n",
              "    .dataframe thead th {\n",
              "        text-align: right;\n",
              "    }\n",
              "</style>\n",
              "<table border=\"1\" class=\"dataframe\">\n",
              "  <thead>\n",
              "    <tr style=\"text-align: right;\">\n",
              "      <th></th>\n",
              "      <th>primary_cleaner.input.depressant</th>\n",
              "      <th>primary_cleaner.input.feed_size</th>\n",
              "      <th>primary_cleaner.input.sulfate</th>\n",
              "      <th>primary_cleaner.input.xanthate</th>\n",
              "      <th>primary_cleaner.state.floatbank8_a_air</th>\n",
              "      <th>primary_cleaner.state.floatbank8_a_level</th>\n",
              "      <th>primary_cleaner.state.floatbank8_b_air</th>\n",
              "      <th>primary_cleaner.state.floatbank8_b_level</th>\n",
              "      <th>primary_cleaner.state.floatbank8_c_air</th>\n",
              "      <th>primary_cleaner.state.floatbank8_c_level</th>\n",
              "      <th>...</th>\n",
              "      <th>secondary_cleaner.state.floatbank4_a_air</th>\n",
              "      <th>secondary_cleaner.state.floatbank4_a_level</th>\n",
              "      <th>secondary_cleaner.state.floatbank4_b_air</th>\n",
              "      <th>secondary_cleaner.state.floatbank4_b_level</th>\n",
              "      <th>secondary_cleaner.state.floatbank5_a_air</th>\n",
              "      <th>secondary_cleaner.state.floatbank5_a_level</th>\n",
              "      <th>secondary_cleaner.state.floatbank5_b_air</th>\n",
              "      <th>secondary_cleaner.state.floatbank5_b_level</th>\n",
              "      <th>secondary_cleaner.state.floatbank6_a_air</th>\n",
              "      <th>secondary_cleaner.state.floatbank6_a_level</th>\n",
              "    </tr>\n",
              "  </thead>\n",
              "  <tbody>\n",
              "    <tr>\n",
              "      <th>count</th>\n",
              "      <td>12909.000000</td>\n",
              "      <td>12909.000000</td>\n",
              "      <td>12909.000000</td>\n",
              "      <td>12909.000000</td>\n",
              "      <td>12909.000000</td>\n",
              "      <td>12909.000000</td>\n",
              "      <td>12909.000000</td>\n",
              "      <td>12909.000000</td>\n",
              "      <td>12909.000000</td>\n",
              "      <td>12909.000000</td>\n",
              "      <td>...</td>\n",
              "      <td>12909.000000</td>\n",
              "      <td>12909.000000</td>\n",
              "      <td>12909.000000</td>\n",
              "      <td>12909.000000</td>\n",
              "      <td>12909.000000</td>\n",
              "      <td>12909.000000</td>\n",
              "      <td>12909.000000</td>\n",
              "      <td>12909.000000</td>\n",
              "      <td>12909.000000</td>\n",
              "      <td>12909.000000</td>\n",
              "    </tr>\n",
              "    <tr>\n",
              "      <th>mean</th>\n",
              "      <td>8.959020</td>\n",
              "      <td>7.329198</td>\n",
              "      <td>136.204547</td>\n",
              "      <td>0.888570</td>\n",
              "      <td>1607.332029</td>\n",
              "      <td>-489.090231</td>\n",
              "      <td>1608.256066</td>\n",
              "      <td>-489.691841</td>\n",
              "      <td>1609.046122</td>\n",
              "      <td>-489.813527</td>\n",
              "      <td>...</td>\n",
              "      <td>20.082600</td>\n",
              "      <td>-478.203464</td>\n",
              "      <td>15.553976</td>\n",
              "      <td>-460.100257</td>\n",
              "      <td>16.831132</td>\n",
              "      <td>-483.607982</td>\n",
              "      <td>13.096809</td>\n",
              "      <td>-483.699235</td>\n",
              "      <td>19.610215</td>\n",
              "      <td>-507.113810</td>\n",
              "    </tr>\n",
              "    <tr>\n",
              "      <th>std</th>\n",
              "      <td>3.313637</td>\n",
              "      <td>0.603483</td>\n",
              "      <td>37.330082</td>\n",
              "      <td>0.371827</td>\n",
              "      <td>126.781048</td>\n",
              "      <td>34.262932</td>\n",
              "      <td>129.748808</td>\n",
              "      <td>32.867547</td>\n",
              "      <td>130.969590</td>\n",
              "      <td>33.589972</td>\n",
              "      <td>...</td>\n",
              "      <td>5.634042</td>\n",
              "      <td>50.962802</td>\n",
              "      <td>5.262642</td>\n",
              "      <td>58.559097</td>\n",
              "      <td>5.845243</td>\n",
              "      <td>38.241246</td>\n",
              "      <td>5.778433</td>\n",
              "      <td>38.918792</td>\n",
              "      <td>5.754704</td>\n",
              "      <td>36.787652</td>\n",
              "    </tr>\n",
              "    <tr>\n",
              "      <th>min</th>\n",
              "      <td>0.000000</td>\n",
              "      <td>1.080000</td>\n",
              "      <td>0.832935</td>\n",
              "      <td>0.000154</td>\n",
              "      <td>1098.583955</td>\n",
              "      <td>-633.597180</td>\n",
              "      <td>1097.057339</td>\n",
              "      <td>-740.122129</td>\n",
              "      <td>273.536823</td>\n",
              "      <td>-782.912082</td>\n",
              "      <td>...</td>\n",
              "      <td>4.502796</td>\n",
              "      <td>-799.706757</td>\n",
              "      <td>4.815717</td>\n",
              "      <td>-799.860840</td>\n",
              "      <td>-0.372054</td>\n",
              "      <td>-637.398127</td>\n",
              "      <td>3.951813</td>\n",
              "      <td>-800.006180</td>\n",
              "      <td>0.195324</td>\n",
              "      <td>-809.392602</td>\n",
              "    </tr>\n",
              "    <tr>\n",
              "      <th>25%</th>\n",
              "      <td>6.071688</td>\n",
              "      <td>6.970000</td>\n",
              "      <td>110.813193</td>\n",
              "      <td>0.612222</td>\n",
              "      <td>1571.543624</td>\n",
              "      <td>-500.284482</td>\n",
              "      <td>1551.144539</td>\n",
              "      <td>-500.373410</td>\n",
              "      <td>1548.701227</td>\n",
              "      <td>-500.592353</td>\n",
              "      <td>...</td>\n",
              "      <td>14.999966</td>\n",
              "      <td>-500.620251</td>\n",
              "      <td>11.906848</td>\n",
              "      <td>-500.147613</td>\n",
              "      <td>11.081840</td>\n",
              "      <td>-500.362464</td>\n",
              "      <td>8.993363</td>\n",
              "      <td>-500.105345</td>\n",
              "      <td>14.988633</td>\n",
              "      <td>-500.758974</td>\n",
              "    </tr>\n",
              "    <tr>\n",
              "      <th>50%</th>\n",
              "      <td>8.041558</td>\n",
              "      <td>7.300000</td>\n",
              "      <td>135.136349</td>\n",
              "      <td>0.889318</td>\n",
              "      <td>1601.891248</td>\n",
              "      <td>-499.914186</td>\n",
              "      <td>1601.907777</td>\n",
              "      <td>-499.938468</td>\n",
              "      <td>1601.619432</td>\n",
              "      <td>-499.870879</td>\n",
              "      <td>...</td>\n",
              "      <td>20.007670</td>\n",
              "      <td>-499.681587</td>\n",
              "      <td>14.979772</td>\n",
              "      <td>-499.382419</td>\n",
              "      <td>17.952110</td>\n",
              "      <td>-499.702070</td>\n",
              "      <td>12.001683</td>\n",
              "      <td>-499.916009</td>\n",
              "      <td>19.986885</td>\n",
              "      <td>-500.065761</td>\n",
              "    </tr>\n",
              "    <tr>\n",
              "      <th>75%</th>\n",
              "      <td>11.484514</td>\n",
              "      <td>7.690000</td>\n",
              "      <td>161.103980</td>\n",
              "      <td>1.100747</td>\n",
              "      <td>1699.740387</td>\n",
              "      <td>-499.392697</td>\n",
              "      <td>1700.284795</td>\n",
              "      <td>-499.410037</td>\n",
              "      <td>1700.473228</td>\n",
              "      <td>-498.831215</td>\n",
              "      <td>...</td>\n",
              "      <td>24.992297</td>\n",
              "      <td>-428.265663</td>\n",
              "      <td>20.068933</td>\n",
              "      <td>-400.048591</td>\n",
              "      <td>21.971451</td>\n",
              "      <td>-455.958413</td>\n",
              "      <td>18.001434</td>\n",
              "      <td>-450.382048</td>\n",
              "      <td>24.992194</td>\n",
              "      <td>-499.545834</td>\n",
              "    </tr>\n",
              "    <tr>\n",
              "      <th>max</th>\n",
              "      <td>20.052255</td>\n",
              "      <td>10.470000</td>\n",
              "      <td>250.127834</td>\n",
              "      <td>2.512968</td>\n",
              "      <td>2079.531340</td>\n",
              "      <td>-330.134203</td>\n",
              "      <td>1823.922970</td>\n",
              "      <td>-347.354380</td>\n",
              "      <td>1847.621932</td>\n",
              "      <td>-346.653450</td>\n",
              "      <td>...</td>\n",
              "      <td>30.115735</td>\n",
              "      <td>-245.239184</td>\n",
              "      <td>24.007913</td>\n",
              "      <td>-145.071088</td>\n",
              "      <td>43.709931</td>\n",
              "      <td>-275.073125</td>\n",
              "      <td>27.926001</td>\n",
              "      <td>-183.442252</td>\n",
              "      <td>32.188906</td>\n",
              "      <td>-104.427459</td>\n",
              "    </tr>\n",
              "  </tbody>\n",
              "</table>\n",
              "<p>8 rows × 52 columns</p>\n",
              "</div>"
            ],
            "text/plain": [
              "       primary_cleaner.input.depressant  primary_cleaner.input.feed_size  \\\n",
              "count                      12909.000000                     12909.000000   \n",
              "mean                           8.959020                         7.329198   \n",
              "std                            3.313637                         0.603483   \n",
              "min                            0.000000                         1.080000   \n",
              "25%                            6.071688                         6.970000   \n",
              "50%                            8.041558                         7.300000   \n",
              "75%                           11.484514                         7.690000   \n",
              "max                           20.052255                        10.470000   \n",
              "\n",
              "       primary_cleaner.input.sulfate  primary_cleaner.input.xanthate  \\\n",
              "count                   12909.000000                    12909.000000   \n",
              "mean                      136.204547                        0.888570   \n",
              "std                        37.330082                        0.371827   \n",
              "min                         0.832935                        0.000154   \n",
              "25%                       110.813193                        0.612222   \n",
              "50%                       135.136349                        0.889318   \n",
              "75%                       161.103980                        1.100747   \n",
              "max                       250.127834                        2.512968   \n",
              "\n",
              "       primary_cleaner.state.floatbank8_a_air  \\\n",
              "count                            12909.000000   \n",
              "mean                              1607.332029   \n",
              "std                                126.781048   \n",
              "min                               1098.583955   \n",
              "25%                               1571.543624   \n",
              "50%                               1601.891248   \n",
              "75%                               1699.740387   \n",
              "max                               2079.531340   \n",
              "\n",
              "       primary_cleaner.state.floatbank8_a_level  \\\n",
              "count                              12909.000000   \n",
              "mean                                -489.090231   \n",
              "std                                   34.262932   \n",
              "min                                 -633.597180   \n",
              "25%                                 -500.284482   \n",
              "50%                                 -499.914186   \n",
              "75%                                 -499.392697   \n",
              "max                                 -330.134203   \n",
              "\n",
              "       primary_cleaner.state.floatbank8_b_air  \\\n",
              "count                            12909.000000   \n",
              "mean                              1608.256066   \n",
              "std                                129.748808   \n",
              "min                               1097.057339   \n",
              "25%                               1551.144539   \n",
              "50%                               1601.907777   \n",
              "75%                               1700.284795   \n",
              "max                               1823.922970   \n",
              "\n",
              "       primary_cleaner.state.floatbank8_b_level  \\\n",
              "count                              12909.000000   \n",
              "mean                                -489.691841   \n",
              "std                                   32.867547   \n",
              "min                                 -740.122129   \n",
              "25%                                 -500.373410   \n",
              "50%                                 -499.938468   \n",
              "75%                                 -499.410037   \n",
              "max                                 -347.354380   \n",
              "\n",
              "       primary_cleaner.state.floatbank8_c_air  \\\n",
              "count                            12909.000000   \n",
              "mean                              1609.046122   \n",
              "std                                130.969590   \n",
              "min                                273.536823   \n",
              "25%                               1548.701227   \n",
              "50%                               1601.619432   \n",
              "75%                               1700.473228   \n",
              "max                               1847.621932   \n",
              "\n",
              "       primary_cleaner.state.floatbank8_c_level  ...  \\\n",
              "count                              12909.000000  ...   \n",
              "mean                                -489.813527  ...   \n",
              "std                                   33.589972  ...   \n",
              "min                                 -782.912082  ...   \n",
              "25%                                 -500.592353  ...   \n",
              "50%                                 -499.870879  ...   \n",
              "75%                                 -498.831215  ...   \n",
              "max                                 -346.653450  ...   \n",
              "\n",
              "       secondary_cleaner.state.floatbank4_a_air  \\\n",
              "count                              12909.000000   \n",
              "mean                                  20.082600   \n",
              "std                                    5.634042   \n",
              "min                                    4.502796   \n",
              "25%                                   14.999966   \n",
              "50%                                   20.007670   \n",
              "75%                                   24.992297   \n",
              "max                                   30.115735   \n",
              "\n",
              "       secondary_cleaner.state.floatbank4_a_level  \\\n",
              "count                                12909.000000   \n",
              "mean                                  -478.203464   \n",
              "std                                     50.962802   \n",
              "min                                   -799.706757   \n",
              "25%                                   -500.620251   \n",
              "50%                                   -499.681587   \n",
              "75%                                   -428.265663   \n",
              "max                                   -245.239184   \n",
              "\n",
              "       secondary_cleaner.state.floatbank4_b_air  \\\n",
              "count                              12909.000000   \n",
              "mean                                  15.553976   \n",
              "std                                    5.262642   \n",
              "min                                    4.815717   \n",
              "25%                                   11.906848   \n",
              "50%                                   14.979772   \n",
              "75%                                   20.068933   \n",
              "max                                   24.007913   \n",
              "\n",
              "       secondary_cleaner.state.floatbank4_b_level  \\\n",
              "count                                12909.000000   \n",
              "mean                                  -460.100257   \n",
              "std                                     58.559097   \n",
              "min                                   -799.860840   \n",
              "25%                                   -500.147613   \n",
              "50%                                   -499.382419   \n",
              "75%                                   -400.048591   \n",
              "max                                   -145.071088   \n",
              "\n",
              "       secondary_cleaner.state.floatbank5_a_air  \\\n",
              "count                              12909.000000   \n",
              "mean                                  16.831132   \n",
              "std                                    5.845243   \n",
              "min                                   -0.372054   \n",
              "25%                                   11.081840   \n",
              "50%                                   17.952110   \n",
              "75%                                   21.971451   \n",
              "max                                   43.709931   \n",
              "\n",
              "       secondary_cleaner.state.floatbank5_a_level  \\\n",
              "count                                12909.000000   \n",
              "mean                                  -483.607982   \n",
              "std                                     38.241246   \n",
              "min                                   -637.398127   \n",
              "25%                                   -500.362464   \n",
              "50%                                   -499.702070   \n",
              "75%                                   -455.958413   \n",
              "max                                   -275.073125   \n",
              "\n",
              "       secondary_cleaner.state.floatbank5_b_air  \\\n",
              "count                              12909.000000   \n",
              "mean                                  13.096809   \n",
              "std                                    5.778433   \n",
              "min                                    3.951813   \n",
              "25%                                    8.993363   \n",
              "50%                                   12.001683   \n",
              "75%                                   18.001434   \n",
              "max                                   27.926001   \n",
              "\n",
              "       secondary_cleaner.state.floatbank5_b_level  \\\n",
              "count                                12909.000000   \n",
              "mean                                  -483.699235   \n",
              "std                                     38.918792   \n",
              "min                                   -800.006180   \n",
              "25%                                   -500.105345   \n",
              "50%                                   -499.916009   \n",
              "75%                                   -450.382048   \n",
              "max                                   -183.442252   \n",
              "\n",
              "       secondary_cleaner.state.floatbank6_a_air  \\\n",
              "count                              12909.000000   \n",
              "mean                                  19.610215   \n",
              "std                                    5.754704   \n",
              "min                                    0.195324   \n",
              "25%                                   14.988633   \n",
              "50%                                   19.986885   \n",
              "75%                                   24.992194   \n",
              "max                                   32.188906   \n",
              "\n",
              "       secondary_cleaner.state.floatbank6_a_level  \n",
              "count                                12909.000000  \n",
              "mean                                  -507.113810  \n",
              "std                                     36.787652  \n",
              "min                                   -809.392602  \n",
              "25%                                   -500.758974  \n",
              "50%                                   -500.065761  \n",
              "75%                                   -499.545834  \n",
              "max                                   -104.427459  \n",
              "\n",
              "[8 rows x 52 columns]"
            ]
          },
          "execution_count": 54,
          "metadata": {},
          "output_type": "execute_result"
        }
      ],
      "source": [
        "features_train.describe()"
      ]
    },
    {
      "cell_type": "markdown",
      "metadata": {
        "id": "OhQhJfCNxPGh"
      },
      "source": [
        "Видно, что масштаб признаков очень различен и отличается вплоть до трёх порядков. Значит, с целью повышения качества обучения моделей и увеличения качества предсказаний нормализуем признаки."
      ]
    },
    {
      "cell_type": "code",
      "execution_count": null,
      "metadata": {
        "id": "UNz0jfUWxPGh"
      },
      "outputs": [],
      "source": [
        "columns_to_scale = list(features_train.columns)\n",
        "\n",
        "scaler = StandardScaler()\n",
        "scaler.fit(features_train[columns_to_scale])\n",
        "\n",
        "\n",
        "features_train[columns_to_scale] = scaler.transform(features_train[columns_to_scale])\n",
        "features_test[columns_to_scale] = scaler.transform(features_test[columns_to_scale])\n"
      ]
    },
    {
      "cell_type": "markdown",
      "metadata": {
        "id": "BlyNiywQxPGi"
      },
      "source": [
        "Важно учесть, что флотация - это первый этап технологического процесса очистки золотосодержащей руды, а это значит, что на эффективность данного этапа не могут влиять параметры следующих шагов (первый и второй этапы очистки). Значит, для прогнозирования эффективности флотации в датасете признаков оставляем только те, которые соответствуют этапу rougher"
      ]
    },
    {
      "cell_type": "code",
      "execution_count": null,
      "metadata": {
        "id": "qJMDXExyxPGi"
      },
      "outputs": [],
      "source": [
        "features_rougher_train = features_train.iloc[:, 12:34]"
      ]
    },
    {
      "cell_type": "markdown",
      "metadata": {
        "id": "NferokaxxPGj"
      },
      "source": [
        "И отдельно формируем тестовую выборку для эффективности флотации аналогично тому, как мы делали в обучающей выборке:"
      ]
    },
    {
      "cell_type": "code",
      "execution_count": null,
      "metadata": {
        "id": "0UnWDt44xPGj"
      },
      "outputs": [],
      "source": [
        "features_rougher_test = features_test.iloc[:, 12:34]"
      ]
    },
    {
      "cell_type": "markdown",
      "metadata": {
        "id": "yQJ5AGg9xPGj"
      },
      "source": [
        "Готово, можно переходить к обучению моделей."
      ]
    },
    {
      "cell_type": "markdown",
      "metadata": {
        "id": "92Y_4ab7xPGj"
      },
      "source": [
        "#### Обучение и оптимизация моделей"
      ]
    },
    {
      "cell_type": "markdown",
      "metadata": {
        "id": "ugGO_Y4qxPGj"
      },
      "source": [
        " Наконец, всё готово к обучению моделей и проверке качества полученных предсказаний. Начнём со стандартных моделей - линейной регрессии и рандомного леса, затем перейдём на более продвинутые модели. По условию задачи, мы предсказываем два целевых признака - но никто не говорил, что это должна быть одна и та же модель :) Поэтому для повышения эффективности предсказаний можем оптимизировать модель и подобрать гиперпараметры для каждой модели отдельно.\n",
        "\n",
        "Для каждой модели также будем измерять время работы"
      ]
    },
    {
      "cell_type": "code",
      "execution_count": null,
      "metadata": {
        "id": "M0Q0Xlq_xPGj"
      },
      "outputs": [],
      "source": [
        "#подготовка к оценке качества работы моделей\n",
        "smape_score = make_scorer(smape)"
      ]
    },
    {
      "cell_type": "markdown",
      "metadata": {
        "id": "opxq6_EPxPGj"
      },
      "source": [
        "##### Линейная регрессия"
      ]
    },
    {
      "cell_type": "code",
      "execution_count": null,
      "metadata": {
        "id": "SlDFRshoxPGk",
        "outputId": "e718e719-9fc5-444f-cd2a-7fc171e6a371"
      },
      "outputs": [
        {
          "name": "stdout",
          "output_type": "stream",
          "text": [
            "CPU times: user 3 µs, sys: 0 ns, total: 3 µs\n",
            "Wall time: 5.72 µs\n",
            "sMAPE общей эффективности для модели линейной регрессии =  10.0360875023114\n"
          ]
        }
      ],
      "source": [
        "%time\n",
        "\n",
        "model_linear_final = LinearRegression().fit(features_train, final_recovery_train)\n",
        "smape_linear_final = cross_val_score(model_linear_final, features_train, \\\n",
        "                                     final_recovery_train, cv=5, scoring=smape_score)\n",
        "print('sMAPE общей эффективности для модели линейной регрессии = ', smape_linear_final.mean())\n"
      ]
    },
    {
      "cell_type": "code",
      "execution_count": null,
      "metadata": {
        "scrolled": true,
        "id": "1aqellpKxPGk",
        "outputId": "f936364e-9b3d-4019-c427-56dc9b613952"
      },
      "outputs": [
        {
          "name": "stdout",
          "output_type": "stream",
          "text": [
            "CPU times: user 12 µs, sys: 3 µs, total: 15 µs\n",
            "Wall time: 5.96 µs\n",
            "sMAPE эффективности флотации для модели линейной регрессии =  6.707593192622549\n"
          ]
        }
      ],
      "source": [
        "%time\n",
        "\n",
        "model_linear_rougher = LinearRegression().fit(features_rougher_train, rougher_recovery_train)\n",
        "smape_linear_rougher = cross_val_score(model_linear_rougher, features_rougher_train, \\\n",
        "                                     rougher_recovery_train, cv=5, scoring=smape_score)\n",
        "print('sMAPE эффективности флотации для модели линейной регрессии = ', smape_linear_rougher.mean())\n"
      ]
    },
    {
      "cell_type": "markdown",
      "metadata": {
        "id": "zL-hkD--xPGl"
      },
      "source": [
        "##### Случайный лес"
      ]
    },
    {
      "cell_type": "markdown",
      "metadata": {
        "id": "UEMPDwOXxPGl"
      },
      "source": [
        "<div class=\"alert alert-block alert-info\">\n",
        "ВАЖНО:\n",
        "    \n",
        "   Некоторый комментарий по подбору гиперпараметров: с учётом кросс-валидации \"реальный\" подбор гиперпараметров занимает несколько часов на одну модель, поэтому для всех моделей подбор гиперпараметров был сделан отдельно, а диапазоны в данной работе включают внутрь себя предварительно оптимизированные значения"
      ]
    },
    {
      "cell_type": "code",
      "execution_count": null,
      "metadata": {
        "id": "CIITp2jbxPGl",
        "outputId": "ff72b35c-a57c-42d7-83dc-c575e02e4958"
      },
      "outputs": [
        {
          "name": "stdout",
          "output_type": "stream",
          "text": [
            "CPU times: user 33 µs, sys: 8 µs, total: 41 µs\n",
            "Wall time: 11.2 µs\n"
          ]
        }
      ],
      "source": [
        "# сразу будем подбирать гиперпараметры для минимизации метрики\n",
        "\n",
        "%time\n",
        "\n",
        "smape_forest_final = 1000\n",
        "for estim in range(30, 50, 10):\n",
        "    for depth in range (10, 40, 10):\n",
        "        model_forest = RandomForestRegressor(n_estimators=estim, max_depth=depth, random_state=42).\\\n",
        "            fit(features_train, final_recovery_train)\n",
        "\n",
        "        smape_model = cross_val_score( model_forest, features_train, \\\n",
        "                                     final_recovery_train, cv=5, scoring=smape_score)\n",
        "        if smape_model.mean() < smape_forest_final:\n",
        "            smape_forest_final = smape_model.mean()\n",
        "            model_forest_final = model_forest"
      ]
    },
    {
      "cell_type": "code",
      "execution_count": null,
      "metadata": {
        "id": "UVB2ML_qxPGm",
        "outputId": "f133aac3-d42d-4422-a680-18526e7cb9a6"
      },
      "outputs": [
        {
          "name": "stdout",
          "output_type": "stream",
          "text": [
            "sMAPE общей эффективности для модели случайного леса =  8.766203296185546\n",
            "Параметры модели: максимальная глубина деревьев = 10,количество деревьев = 40\n"
          ]
        }
      ],
      "source": [
        "print('sMAPE общей эффективности для модели случайного леса = ',smape_forest_final.mean())\n",
        "print(f'Параметры модели: максимальная глубина деревьев = {model_forest_final.max_depth},'\n",
        "      f'количество деревьев = {model_forest_final.n_estimators}')"
      ]
    },
    {
      "cell_type": "code",
      "execution_count": null,
      "metadata": {
        "id": "07SY7odRxPGm",
        "outputId": "8e4fc64e-3a4b-4060-a094-3e370e5e47d1"
      },
      "outputs": [
        {
          "name": "stdout",
          "output_type": "stream",
          "text": [
            "CPU times: user 2 µs, sys: 1e+03 ns, total: 3 µs\n",
            "Wall time: 5.72 µs\n"
          ]
        }
      ],
      "source": [
        "# аналогично для эффективности флотации\n",
        "\n",
        "%time\n",
        "\n",
        "smape_forest_rougher = 1000\n",
        "for estim in range(30, 70, 20):\n",
        "    for depth in range (10, 40, 10):\n",
        "        model_forest = RandomForestRegressor(n_estimators=estim, max_depth=depth, random_state=42)\\\n",
        "            .fit(features_rougher_train, rougher_recovery_train)\n",
        "\n",
        "        smape_model = cross_val_score( model_forest, features_rougher_train, \\\n",
        "                                     rougher_recovery_train, cv=5, scoring=smape_score).mean()\n",
        "        if smape_model < smape_forest_rougher:\n",
        "            smape_forest_rougher = smape_model\n",
        "            model_forest_rougher = model_forest"
      ]
    },
    {
      "cell_type": "code",
      "execution_count": null,
      "metadata": {
        "id": "7maJaF54xPGm",
        "outputId": "fbda156b-88e2-4b66-b62f-efe19f69abf7"
      },
      "outputs": [
        {
          "name": "stdout",
          "output_type": "stream",
          "text": [
            "sMAPE эффективности флотации для модели случайного леса =  6.187198492187788\n",
            "Параметры модели: максимальная глубина деревьев = 20,количество деревьев = 30\n"
          ]
        }
      ],
      "source": [
        "print('sMAPE эффективности флотации для модели случайного леса = ',smape_forest_rougher)\n",
        "print(f'Параметры модели: максимальная глубина деревьев = {model_forest_rougher.max_depth},'\n",
        "      f'количество деревьев = {model_forest_rougher.n_estimators}')"
      ]
    },
    {
      "cell_type": "markdown",
      "metadata": {
        "id": "04JCvezPxPGn"
      },
      "source": [
        "##### Градиентный бустинг"
      ]
    },
    {
      "cell_type": "code",
      "execution_count": null,
      "metadata": {
        "id": "tshqE2aGxPGn",
        "outputId": "8cfcf9ef-01e6-4bf3-85bd-a96d6cd8ad71"
      },
      "outputs": [
        {
          "name": "stdout",
          "output_type": "stream",
          "text": [
            "CPU times: user 3 µs, sys: 0 ns, total: 3 µs\n",
            "Wall time: 5.25 µs\n"
          ]
        }
      ],
      "source": [
        "# сразу будем подбирать гиперпараметры для минимизации метрики\n",
        "\n",
        "%time\n",
        "\n",
        "smape_gbr_final = 1000\n",
        "for estim in range(10, 50, 20):\n",
        "    for depth in range (2, 10, 2):\n",
        "        model_gbr = GradientBoostingRegressor(n_estimators=estim,\n",
        "          max_depth=depth, random_state=42).fit(features_train, final_recovery_train)\n",
        "        smape_gbr = cross_val_score(model_gbr, features_train, \\\n",
        "                                     final_recovery_train, cv=5, scoring=smape_score).mean()\n",
        "        if smape_gbr < smape_gbr_final:\n",
        "            smape_gbr_final = smape_gbr\n",
        "            model_gbr_final = model_gbr\n",
        "\n",
        "\n"
      ]
    },
    {
      "cell_type": "code",
      "execution_count": null,
      "metadata": {
        "id": "6p-q_1ezxPGn",
        "outputId": "6ee4ee66-7cda-4d29-9a2e-2cc4835681ef"
      },
      "outputs": [
        {
          "name": "stdout",
          "output_type": "stream",
          "text": [
            "sMAPE общей эффективности для модели градиентного спуска =  8.275817533550546\n"
          ]
        }
      ],
      "source": [
        "print('sMAPE общей эффективности для модели градиентного спуска = ',smape_gbr_final)"
      ]
    },
    {
      "cell_type": "code",
      "execution_count": null,
      "metadata": {
        "id": "kx6d51UIxPGo",
        "outputId": "afedc548-1f89-4014-fd45-404c2fb7ffcc"
      },
      "outputs": [
        {
          "name": "stdout",
          "output_type": "stream",
          "text": [
            "CPU times: user 3 µs, sys: 0 ns, total: 3 µs\n",
            "Wall time: 6.44 µs\n"
          ]
        }
      ],
      "source": [
        "%time\n",
        "\n",
        "smape_gbr_rougher = 1000\n",
        "for estim in range(20, 100, 20):\n",
        "    for depth in range (2, 10, 2):\n",
        "        mmodel_gbr = GradientBoostingRegressor(n_estimators=estim,\n",
        "          max_depth=depth, random_state=42).fit(features_rougher_train, rougher_recovery_train)\n",
        "        smape_gbr = cross_val_score( model_gbr, features_rougher_train, \\\n",
        "                                     rougher_recovery_train, cv=5, scoring=smape_score).mean()\n",
        "        if smape_gbr < smape_gbr_rougher:\n",
        "            smape_gbr_rougher = smape_gbr\n",
        "            model_gbr_rougher = model_gbr"
      ]
    },
    {
      "cell_type": "code",
      "execution_count": null,
      "metadata": {
        "id": "Z74Q_4KbxPGo",
        "outputId": "5fdecd29-c4ce-4028-bd7e-b2a72dbba5f8"
      },
      "outputs": [
        {
          "name": "stdout",
          "output_type": "stream",
          "text": [
            "sMAPE эффективности флотации для модели градиентного спуска =  6.5750871018126915\n"
          ]
        }
      ],
      "source": [
        "print('sMAPE эффективности флотации для модели градиентного спуска = ',smape_gbr_rougher)"
      ]
    },
    {
      "cell_type": "markdown",
      "metadata": {
        "id": "QIoOINmjxPGp"
      },
      "source": [
        "##### CatBoost"
      ]
    },
    {
      "cell_type": "markdown",
      "metadata": {
        "id": "vX8SIjp3xPGp"
      },
      "source": [
        "Начнём с проверки на эффективности флотации - количество признаков меньше, обучение займёт меньше времени:"
      ]
    },
    {
      "cell_type": "code",
      "execution_count": null,
      "metadata": {
        "id": "K4PH1ymsxPGq",
        "outputId": "b1a7564e-b9b3-4da7-a289-9c9b975ededd"
      },
      "outputs": [
        {
          "name": "stdout",
          "output_type": "stream",
          "text": [
            "CPU times: user 4 µs, sys: 1 µs, total: 5 µs\n",
            "Wall time: 6.44 µs\n",
            "0:\tlearn: 5.4409292\ttotal: 67.1ms\tremaining: 604ms\n",
            "1:\tlearn: 5.1733891\ttotal: 76.6ms\tremaining: 306ms\n",
            "2:\tlearn: 5.0311754\ttotal: 85.5ms\tremaining: 199ms\n",
            "3:\tlearn: 4.8484611\ttotal: 95.1ms\tremaining: 143ms\n",
            "4:\tlearn: 4.7422224\ttotal: 101ms\tremaining: 101ms\n",
            "5:\tlearn: 4.6459351\ttotal: 106ms\tremaining: 70.8ms\n",
            "6:\tlearn: 4.5675313\ttotal: 111ms\tremaining: 47.8ms\n",
            "7:\tlearn: 4.4978976\ttotal: 116ms\tremaining: 29.1ms\n",
            "8:\tlearn: 4.4399662\ttotal: 121ms\tremaining: 13.5ms\n",
            "9:\tlearn: 4.3490930\ttotal: 126ms\tremaining: 0us\n",
            "0:\tlearn: 4.6725780\ttotal: 5.77ms\tremaining: 51.9ms\n",
            "1:\tlearn: 4.4109569\ttotal: 10.8ms\tremaining: 43.2ms\n",
            "2:\tlearn: 4.2928382\ttotal: 15.7ms\tremaining: 36.7ms\n",
            "3:\tlearn: 4.1651966\ttotal: 20.6ms\tremaining: 30.9ms\n",
            "4:\tlearn: 4.0619407\ttotal: 25.4ms\tremaining: 25.4ms\n",
            "5:\tlearn: 3.9690720\ttotal: 30.2ms\tremaining: 20.1ms\n",
            "6:\tlearn: 3.8901481\ttotal: 35.1ms\tremaining: 15ms\n",
            "7:\tlearn: 3.8298275\ttotal: 40ms\tremaining: 10ms\n",
            "8:\tlearn: 3.7892545\ttotal: 44.7ms\tremaining: 4.97ms\n",
            "9:\tlearn: 3.7313713\ttotal: 51.6ms\tremaining: 0us\n",
            "0:\tlearn: 5.3359593\ttotal: 5.14ms\tremaining: 46.3ms\n",
            "1:\tlearn: 5.0210930\ttotal: 10ms\tremaining: 40.2ms\n",
            "2:\tlearn: 4.7850114\ttotal: 14.8ms\tremaining: 34.6ms\n",
            "3:\tlearn: 4.6117970\ttotal: 19.4ms\tremaining: 29ms\n",
            "4:\tlearn: 4.4763089\ttotal: 24.4ms\tremaining: 24.4ms\n",
            "5:\tlearn: 4.3700252\ttotal: 29.6ms\tremaining: 19.7ms\n",
            "6:\tlearn: 4.2962944\ttotal: 34.3ms\tremaining: 14.7ms\n",
            "7:\tlearn: 4.2506024\ttotal: 38.7ms\tremaining: 9.68ms\n",
            "8:\tlearn: 4.1898649\ttotal: 43.1ms\tremaining: 4.79ms\n",
            "9:\tlearn: 4.1229722\ttotal: 47.8ms\tremaining: 0us\n",
            "0:\tlearn: 5.5161677\ttotal: 7.82ms\tremaining: 70.4ms\n",
            "1:\tlearn: 5.2153174\ttotal: 14.3ms\tremaining: 57.4ms\n",
            "2:\tlearn: 5.0972318\ttotal: 22.8ms\tremaining: 53.2ms\n",
            "3:\tlearn: 4.9262919\ttotal: 30.2ms\tremaining: 45.3ms\n",
            "4:\tlearn: 4.8201596\ttotal: 36.1ms\tremaining: 36.1ms\n",
            "5:\tlearn: 4.7444436\ttotal: 43.8ms\tremaining: 29.2ms\n",
            "6:\tlearn: 4.6491764\ttotal: 48.7ms\tremaining: 20.9ms\n",
            "7:\tlearn: 4.5965277\ttotal: 53.6ms\tremaining: 13.4ms\n",
            "8:\tlearn: 4.4744623\ttotal: 58.4ms\tremaining: 6.49ms\n",
            "9:\tlearn: 4.3798233\ttotal: 63ms\tremaining: 0us\n",
            "0:\tlearn: 5.5992523\ttotal: 6.2ms\tremaining: 55.8ms\n",
            "1:\tlearn: 5.2428131\ttotal: 13.3ms\tremaining: 53.2ms\n",
            "2:\tlearn: 5.0205840\ttotal: 18.7ms\tremaining: 43.6ms\n",
            "3:\tlearn: 4.8918407\ttotal: 26.6ms\tremaining: 39.9ms\n",
            "4:\tlearn: 4.7588243\ttotal: 34.4ms\tremaining: 34.4ms\n",
            "5:\tlearn: 4.6531012\ttotal: 48.1ms\tremaining: 32ms\n",
            "6:\tlearn: 4.5817377\ttotal: 55.3ms\tremaining: 23.7ms\n",
            "7:\tlearn: 4.5127086\ttotal: 62.4ms\tremaining: 15.6ms\n",
            "8:\tlearn: 4.4204257\ttotal: 69.9ms\tremaining: 7.76ms\n",
            "9:\tlearn: 4.3441366\ttotal: 78.1ms\tremaining: 0us\n",
            "0:\tlearn: 5.4472712\ttotal: 5.05ms\tremaining: 45.4ms\n",
            "1:\tlearn: 5.0492391\ttotal: 9.9ms\tremaining: 39.6ms\n",
            "2:\tlearn: 4.8707379\ttotal: 14.8ms\tremaining: 34.5ms\n",
            "3:\tlearn: 4.7164562\ttotal: 19.6ms\tremaining: 29.4ms\n",
            "4:\tlearn: 4.5916865\ttotal: 23.9ms\tremaining: 23.9ms\n",
            "5:\tlearn: 4.5273996\ttotal: 28.6ms\tremaining: 19.1ms\n",
            "6:\tlearn: 4.4568777\ttotal: 33.4ms\tremaining: 14.3ms\n",
            "7:\tlearn: 4.3589102\ttotal: 38ms\tremaining: 9.5ms\n",
            "8:\tlearn: 4.2916491\ttotal: 42.9ms\tremaining: 4.77ms\n",
            "9:\tlearn: 4.2293378\ttotal: 47.8ms\tremaining: 0us\n",
            "0:\tlearn: 4.7801978\ttotal: 82.2ms\tremaining: 740ms\n",
            "1:\tlearn: 4.3723586\ttotal: 149ms\tremaining: 595ms\n",
            "2:\tlearn: 4.0483469\ttotal: 225ms\tremaining: 526ms\n",
            "3:\tlearn: 3.8391245\ttotal: 298ms\tremaining: 447ms\n",
            "4:\tlearn: 3.7371894\ttotal: 361ms\tremaining: 361ms\n",
            "5:\tlearn: 3.6062047\ttotal: 439ms\tremaining: 292ms\n",
            "6:\tlearn: 3.5175451\ttotal: 517ms\tremaining: 222ms\n",
            "7:\tlearn: 3.4394785\ttotal: 600ms\tremaining: 150ms\n",
            "8:\tlearn: 3.3812634\ttotal: 667ms\tremaining: 74.1ms\n",
            "9:\tlearn: 3.2806214\ttotal: 735ms\tremaining: 0us\n",
            "0:\tlearn: 4.0882480\ttotal: 96.9ms\tremaining: 872ms\n",
            "1:\tlearn: 3.7468287\ttotal: 193ms\tremaining: 772ms\n",
            "2:\tlearn: 3.5114667\ttotal: 285ms\tremaining: 665ms\n",
            "3:\tlearn: 3.3390808\ttotal: 381ms\tremaining: 572ms\n",
            "4:\tlearn: 3.2347801\ttotal: 485ms\tremaining: 485ms\n",
            "5:\tlearn: 3.1415185\ttotal: 587ms\tremaining: 392ms\n",
            "6:\tlearn: 2.9787663\ttotal: 654ms\tremaining: 280ms\n",
            "7:\tlearn: 2.8691245\ttotal: 723ms\tremaining: 181ms\n",
            "8:\tlearn: 2.8029189\ttotal: 801ms\tremaining: 89ms\n",
            "9:\tlearn: 2.7511578\ttotal: 875ms\tremaining: 0us\n",
            "0:\tlearn: 4.6907129\ttotal: 88.6ms\tremaining: 797ms\n",
            "1:\tlearn: 4.1350856\ttotal: 159ms\tremaining: 634ms\n",
            "2:\tlearn: 3.9707574\ttotal: 221ms\tremaining: 515ms\n",
            "3:\tlearn: 3.7743211\ttotal: 292ms\tremaining: 438ms\n",
            "4:\tlearn: 3.6607437\ttotal: 360ms\tremaining: 360ms\n",
            "5:\tlearn: 3.5291379\ttotal: 422ms\tremaining: 282ms\n",
            "6:\tlearn: 3.4154095\ttotal: 486ms\tremaining: 208ms\n",
            "7:\tlearn: 3.3325747\ttotal: 555ms\tremaining: 139ms\n",
            "8:\tlearn: 3.2190144\ttotal: 615ms\tremaining: 68.3ms\n",
            "9:\tlearn: 3.1134505\ttotal: 679ms\tremaining: 0us\n",
            "0:\tlearn: 4.9798554\ttotal: 66.4ms\tremaining: 598ms\n",
            "1:\tlearn: 4.4807709\ttotal: 126ms\tremaining: 504ms\n",
            "2:\tlearn: 4.2936780\ttotal: 195ms\tremaining: 455ms\n",
            "3:\tlearn: 4.0827182\ttotal: 260ms\tremaining: 390ms\n",
            "4:\tlearn: 3.8516178\ttotal: 324ms\tremaining: 324ms\n",
            "5:\tlearn: 3.7272759\ttotal: 396ms\tremaining: 264ms\n",
            "6:\tlearn: 3.6102554\ttotal: 461ms\tremaining: 197ms\n",
            "7:\tlearn: 3.5223286\ttotal: 522ms\tremaining: 131ms\n",
            "8:\tlearn: 3.3641617\ttotal: 597ms\tremaining: 66.4ms\n",
            "9:\tlearn: 3.3402419\ttotal: 666ms\tremaining: 0us\n",
            "0:\tlearn: 4.8314672\ttotal: 69.4ms\tremaining: 625ms\n",
            "1:\tlearn: 4.3487659\ttotal: 144ms\tremaining: 578ms\n",
            "2:\tlearn: 4.0739378\ttotal: 210ms\tremaining: 489ms\n",
            "3:\tlearn: 3.9219310\ttotal: 271ms\tremaining: 406ms\n",
            "4:\tlearn: 3.7784309\ttotal: 341ms\tremaining: 341ms\n",
            "5:\tlearn: 3.5436311\ttotal: 405ms\tremaining: 270ms\n",
            "6:\tlearn: 3.4424220\ttotal: 468ms\tremaining: 201ms\n",
            "7:\tlearn: 3.3534120\ttotal: 540ms\tremaining: 135ms\n",
            "8:\tlearn: 3.2659352\ttotal: 604ms\tremaining: 67.1ms\n",
            "9:\tlearn: 3.1803579\ttotal: 661ms\tremaining: 0us\n",
            "0:\tlearn: 4.7061779\ttotal: 78.2ms\tremaining: 703ms\n",
            "1:\tlearn: 4.1727056\ttotal: 145ms\tremaining: 582ms\n",
            "2:\tlearn: 3.9984165\ttotal: 213ms\tremaining: 496ms\n",
            "3:\tlearn: 3.8362679\ttotal: 280ms\tremaining: 420ms\n",
            "4:\tlearn: 3.6640828\ttotal: 338ms\tremaining: 338ms\n",
            "5:\tlearn: 3.5556328\ttotal: 409ms\tremaining: 273ms\n",
            "6:\tlearn: 3.4124565\ttotal: 479ms\tremaining: 205ms\n",
            "7:\tlearn: 3.3027286\ttotal: 541ms\tremaining: 135ms\n",
            "8:\tlearn: 3.1800764\ttotal: 605ms\tremaining: 67.2ms\n",
            "9:\tlearn: 3.1510978\ttotal: 675ms\tremaining: 0us\n",
            "0:\tlearn: 5.4409292\ttotal: 6.54ms\tremaining: 124ms\n",
            "1:\tlearn: 5.1733891\ttotal: 11.9ms\tremaining: 107ms\n",
            "2:\tlearn: 5.0311754\ttotal: 16.7ms\tremaining: 94.6ms\n",
            "3:\tlearn: 4.8484611\ttotal: 21.9ms\tremaining: 87.7ms\n",
            "4:\tlearn: 4.7422224\ttotal: 26.9ms\tremaining: 80.7ms\n",
            "5:\tlearn: 4.6459351\ttotal: 32.1ms\tremaining: 74.8ms\n",
            "6:\tlearn: 4.5675313\ttotal: 37.4ms\tremaining: 69.4ms\n",
            "7:\tlearn: 4.4978976\ttotal: 44.3ms\tremaining: 66.5ms\n",
            "8:\tlearn: 4.4399662\ttotal: 51.5ms\tremaining: 63ms\n",
            "9:\tlearn: 4.3490930\ttotal: 59ms\tremaining: 59ms\n",
            "10:\tlearn: 4.2942913\ttotal: 66.6ms\tremaining: 54.5ms\n",
            "11:\tlearn: 4.2395728\ttotal: 73.7ms\tremaining: 49.2ms\n",
            "12:\tlearn: 4.1762405\ttotal: 78.9ms\tremaining: 42.5ms\n",
            "13:\tlearn: 4.1397343\ttotal: 84ms\tremaining: 36ms\n",
            "14:\tlearn: 4.0784405\ttotal: 89.2ms\tremaining: 29.7ms\n",
            "15:\tlearn: 4.0168220\ttotal: 94.3ms\tremaining: 23.6ms\n",
            "16:\tlearn: 3.9594558\ttotal: 99.4ms\tremaining: 17.5ms\n",
            "17:\tlearn: 3.9056159\ttotal: 105ms\tremaining: 11.7ms\n",
            "18:\tlearn: 3.8778784\ttotal: 110ms\tremaining: 5.78ms\n",
            "19:\tlearn: 3.8305190\ttotal: 115ms\tremaining: 0us\n",
            "0:\tlearn: 4.6725780\ttotal: 14.2ms\tremaining: 269ms\n",
            "1:\tlearn: 4.4109569\ttotal: 20.9ms\tremaining: 188ms\n",
            "2:\tlearn: 4.2928382\ttotal: 27ms\tremaining: 153ms\n",
            "3:\tlearn: 4.1651966\ttotal: 33.6ms\tremaining: 134ms\n",
            "4:\tlearn: 4.0619407\ttotal: 38.2ms\tremaining: 115ms\n",
            "5:\tlearn: 3.9690720\ttotal: 42.6ms\tremaining: 99.5ms\n",
            "6:\tlearn: 3.8901481\ttotal: 47.3ms\tremaining: 87.8ms\n",
            "7:\tlearn: 3.8298275\ttotal: 52.1ms\tremaining: 78.2ms\n",
            "8:\tlearn: 3.7892545\ttotal: 56.5ms\tremaining: 69.1ms\n",
            "9:\tlearn: 3.7313713\ttotal: 61.1ms\tremaining: 61.1ms\n",
            "10:\tlearn: 3.6867386\ttotal: 65.9ms\tremaining: 53.9ms\n",
            "11:\tlearn: 3.6189675\ttotal: 70.5ms\tremaining: 47ms\n",
            "12:\tlearn: 3.5547318\ttotal: 77.7ms\tremaining: 41.8ms\n",
            "13:\tlearn: 3.5259173\ttotal: 84ms\tremaining: 36ms\n",
            "14:\tlearn: 3.4852006\ttotal: 90.2ms\tremaining: 30.1ms\n",
            "15:\tlearn: 3.4460287\ttotal: 97.2ms\tremaining: 24.3ms\n",
            "16:\tlearn: 3.3994561\ttotal: 103ms\tremaining: 18.1ms\n",
            "17:\tlearn: 3.3621127\ttotal: 108ms\tremaining: 12ms\n",
            "18:\tlearn: 3.3206376\ttotal: 113ms\tremaining: 5.97ms\n",
            "19:\tlearn: 3.2819853\ttotal: 118ms\tremaining: 0us\n",
            "0:\tlearn: 5.3359593\ttotal: 8.75ms\tremaining: 166ms\n",
            "1:\tlearn: 5.0210930\ttotal: 17.3ms\tremaining: 156ms\n",
            "2:\tlearn: 4.7850114\ttotal: 23.5ms\tremaining: 133ms\n",
            "3:\tlearn: 4.6117970\ttotal: 28.2ms\tremaining: 113ms\n",
            "4:\tlearn: 4.4763089\ttotal: 33.1ms\tremaining: 99.3ms\n",
            "5:\tlearn: 4.3700252\ttotal: 40.8ms\tremaining: 95.1ms\n",
            "6:\tlearn: 4.2962944\ttotal: 47.5ms\tremaining: 88.3ms\n",
            "7:\tlearn: 4.2506024\ttotal: 52.2ms\tremaining: 78.3ms\n",
            "8:\tlearn: 4.1898649\ttotal: 58.6ms\tremaining: 71.6ms\n",
            "9:\tlearn: 4.1229722\ttotal: 66.9ms\tremaining: 66.9ms\n",
            "10:\tlearn: 4.0417770\ttotal: 73.1ms\tremaining: 59.8ms\n",
            "11:\tlearn: 3.9837796\ttotal: 84.3ms\tremaining: 56.2ms\n",
            "12:\tlearn: 3.9324580\ttotal: 91.3ms\tremaining: 49.2ms\n",
            "13:\tlearn: 3.8758914\ttotal: 98.1ms\tremaining: 42ms\n",
            "14:\tlearn: 3.8287847\ttotal: 105ms\tremaining: 34.9ms\n",
            "15:\tlearn: 3.7909986\ttotal: 110ms\tremaining: 27.6ms\n",
            "16:\tlearn: 3.7287892\ttotal: 116ms\tremaining: 20.5ms\n",
            "17:\tlearn: 3.7037956\ttotal: 121ms\tremaining: 13.4ms\n",
            "18:\tlearn: 3.6593970\ttotal: 126ms\tremaining: 6.61ms\n",
            "19:\tlearn: 3.6245551\ttotal: 130ms\tremaining: 0us\n",
            "0:\tlearn: 5.5161677\ttotal: 5.42ms\tremaining: 103ms\n",
            "1:\tlearn: 5.2153174\ttotal: 10.4ms\tremaining: 94ms\n",
            "2:\tlearn: 5.0972318\ttotal: 16.1ms\tremaining: 91.3ms\n",
            "3:\tlearn: 4.9262919\ttotal: 21.6ms\tremaining: 86.3ms\n",
            "4:\tlearn: 4.8201596\ttotal: 27.4ms\tremaining: 82.1ms\n",
            "5:\tlearn: 4.7444436\ttotal: 32.6ms\tremaining: 76.1ms\n",
            "6:\tlearn: 4.6491764\ttotal: 37.8ms\tremaining: 70.1ms\n",
            "7:\tlearn: 4.5965277\ttotal: 42.9ms\tremaining: 64.3ms\n",
            "8:\tlearn: 4.4744623\ttotal: 49.1ms\tremaining: 60.1ms\n",
            "9:\tlearn: 4.3798233\ttotal: 55.5ms\tremaining: 55.5ms\n",
            "10:\tlearn: 4.3450532\ttotal: 61.7ms\tremaining: 50.5ms\n",
            "11:\tlearn: 4.2868776\ttotal: 68.1ms\tremaining: 45.4ms\n",
            "12:\tlearn: 4.2218058\ttotal: 72.5ms\tremaining: 39ms\n",
            "13:\tlearn: 4.1746726\ttotal: 77.2ms\tremaining: 33.1ms\n",
            "14:\tlearn: 4.1150357\ttotal: 81.9ms\tremaining: 27.3ms\n",
            "15:\tlearn: 4.0682238\ttotal: 86.6ms\tremaining: 21.6ms\n",
            "16:\tlearn: 4.0063619\ttotal: 91.3ms\tremaining: 16.1ms\n",
            "17:\tlearn: 3.9683563\ttotal: 97.5ms\tremaining: 10.8ms\n",
            "18:\tlearn: 3.9189792\ttotal: 103ms\tremaining: 5.45ms\n",
            "19:\tlearn: 3.8910197\ttotal: 108ms\tremaining: 0us\n",
            "0:\tlearn: 5.5992523\ttotal: 5.28ms\tremaining: 100ms\n",
            "1:\tlearn: 5.2428131\ttotal: 10.3ms\tremaining: 92.3ms\n",
            "2:\tlearn: 5.0205840\ttotal: 15ms\tremaining: 84.9ms\n",
            "3:\tlearn: 4.8918407\ttotal: 19.8ms\tremaining: 79.1ms\n",
            "4:\tlearn: 4.7588243\ttotal: 24.6ms\tremaining: 73.7ms\n",
            "5:\tlearn: 4.6531012\ttotal: 29.5ms\tremaining: 68.8ms\n",
            "6:\tlearn: 4.5817377\ttotal: 34.2ms\tremaining: 63.6ms\n",
            "7:\tlearn: 4.5127086\ttotal: 38.8ms\tremaining: 58.2ms\n",
            "8:\tlearn: 4.4204257\ttotal: 43.4ms\tremaining: 53ms\n",
            "9:\tlearn: 4.3441366\ttotal: 48.2ms\tremaining: 48.2ms\n",
            "10:\tlearn: 4.2851722\ttotal: 54.9ms\tremaining: 44.9ms\n",
            "11:\tlearn: 4.2262521\ttotal: 61.6ms\tremaining: 41.1ms\n",
            "12:\tlearn: 4.1468547\ttotal: 66.3ms\tremaining: 35.7ms\n",
            "13:\tlearn: 4.1050883\ttotal: 71ms\tremaining: 30.4ms\n",
            "14:\tlearn: 4.0505940\ttotal: 75.8ms\tremaining: 25.3ms\n",
            "15:\tlearn: 4.0171493\ttotal: 81.4ms\tremaining: 20.4ms\n",
            "16:\tlearn: 3.9588797\ttotal: 86.5ms\tremaining: 15.3ms\n",
            "17:\tlearn: 3.9109248\ttotal: 91.2ms\tremaining: 10.1ms\n",
            "18:\tlearn: 3.8629829\ttotal: 96ms\tremaining: 5.05ms\n",
            "19:\tlearn: 3.8124381\ttotal: 101ms\tremaining: 0us\n",
            "0:\tlearn: 5.4472712\ttotal: 9.21ms\tremaining: 175ms\n",
            "1:\tlearn: 5.0492391\ttotal: 18.2ms\tremaining: 164ms\n",
            "2:\tlearn: 4.8707379\ttotal: 26.8ms\tremaining: 152ms\n",
            "3:\tlearn: 4.7164562\ttotal: 31.9ms\tremaining: 128ms\n",
            "4:\tlearn: 4.5916865\ttotal: 36.5ms\tremaining: 109ms\n",
            "5:\tlearn: 4.5273996\ttotal: 41.2ms\tremaining: 96.2ms\n",
            "6:\tlearn: 4.4568777\ttotal: 45.8ms\tremaining: 85ms\n",
            "7:\tlearn: 4.3589102\ttotal: 50.7ms\tremaining: 76ms\n",
            "8:\tlearn: 4.2916491\ttotal: 55.4ms\tremaining: 67.7ms\n",
            "9:\tlearn: 4.2293378\ttotal: 60ms\tremaining: 60ms\n",
            "10:\tlearn: 4.1914351\ttotal: 64.3ms\tremaining: 52.6ms\n",
            "11:\tlearn: 4.1132730\ttotal: 69.3ms\tremaining: 46.2ms\n",
            "12:\tlearn: 4.0460830\ttotal: 75.9ms\tremaining: 40.9ms\n",
            "13:\tlearn: 3.9434116\ttotal: 84.9ms\tremaining: 36.4ms\n",
            "14:\tlearn: 3.8909764\ttotal: 91.5ms\tremaining: 30.5ms\n",
            "15:\tlearn: 3.8473792\ttotal: 96.4ms\tremaining: 24.1ms\n",
            "16:\tlearn: 3.8041044\ttotal: 102ms\tremaining: 17.9ms\n",
            "17:\tlearn: 3.7761242\ttotal: 107ms\tremaining: 11.9ms\n",
            "18:\tlearn: 3.7457714\ttotal: 113ms\tremaining: 5.94ms\n",
            "19:\tlearn: 3.7062529\ttotal: 118ms\tremaining: 0us\n",
            "0:\tlearn: 4.7801978\ttotal: 71.1ms\tremaining: 1.35s\n",
            "1:\tlearn: 4.3723586\ttotal: 140ms\tremaining: 1.26s\n",
            "2:\tlearn: 4.0483469\ttotal: 202ms\tremaining: 1.15s\n",
            "3:\tlearn: 3.8391245\ttotal: 276ms\tremaining: 1.1s\n",
            "4:\tlearn: 3.7371894\ttotal: 347ms\tremaining: 1.04s\n",
            "5:\tlearn: 3.6062047\ttotal: 405ms\tremaining: 944ms\n",
            "6:\tlearn: 3.5175451\ttotal: 480ms\tremaining: 892ms\n",
            "7:\tlearn: 3.4394785\ttotal: 551ms\tremaining: 826ms\n",
            "8:\tlearn: 3.3812634\ttotal: 614ms\tremaining: 751ms\n",
            "9:\tlearn: 3.2806214\ttotal: 681ms\tremaining: 681ms\n",
            "10:\tlearn: 3.2131416\ttotal: 750ms\tremaining: 614ms\n",
            "11:\tlearn: 3.1310869\ttotal: 815ms\tremaining: 543ms\n",
            "12:\tlearn: 3.0399937\ttotal: 878ms\tremaining: 473ms\n",
            "13:\tlearn: 2.9569360\ttotal: 951ms\tremaining: 408ms\n",
            "14:\tlearn: 2.8832858\ttotal: 1.03s\tremaining: 343ms\n",
            "15:\tlearn: 2.8096680\ttotal: 1.1s\tremaining: 275ms\n",
            "16:\tlearn: 2.7280704\ttotal: 1.17s\tremaining: 207ms\n",
            "17:\tlearn: 2.6892939\ttotal: 1.25s\tremaining: 139ms\n",
            "18:\tlearn: 2.6529855\ttotal: 1.32s\tremaining: 69.3ms\n",
            "19:\tlearn: 2.5965147\ttotal: 1.37s\tremaining: 0us\n",
            "0:\tlearn: 4.0882480\ttotal: 64.8ms\tremaining: 1.23s\n",
            "1:\tlearn: 3.7468287\ttotal: 131ms\tremaining: 1.18s\n",
            "2:\tlearn: 3.5114667\ttotal: 202ms\tremaining: 1.14s\n",
            "3:\tlearn: 3.3390808\ttotal: 266ms\tremaining: 1.06s\n",
            "4:\tlearn: 3.2347801\ttotal: 328ms\tremaining: 983ms\n",
            "5:\tlearn: 3.1415185\ttotal: 401ms\tremaining: 935ms\n",
            "6:\tlearn: 2.9787663\ttotal: 469ms\tremaining: 872ms\n",
            "7:\tlearn: 2.8691245\ttotal: 530ms\tremaining: 795ms\n",
            "8:\tlearn: 2.8029189\ttotal: 604ms\tremaining: 738ms\n",
            "9:\tlearn: 2.7511578\ttotal: 676ms\tremaining: 676ms\n",
            "10:\tlearn: 2.6693721\ttotal: 739ms\tremaining: 605ms\n",
            "11:\tlearn: 2.6221005\ttotal: 803ms\tremaining: 536ms\n",
            "12:\tlearn: 2.5706224\ttotal: 874ms\tremaining: 471ms\n",
            "13:\tlearn: 2.5204857\ttotal: 939ms\tremaining: 402ms\n",
            "14:\tlearn: 2.4151985\ttotal: 1s\tremaining: 335ms\n",
            "15:\tlearn: 2.3753495\ttotal: 1.07s\tremaining: 268ms\n",
            "16:\tlearn: 2.3507639\ttotal: 1.14s\tremaining: 201ms\n",
            "17:\tlearn: 2.2983897\ttotal: 1.21s\tremaining: 134ms\n",
            "18:\tlearn: 2.2410281\ttotal: 1.28s\tremaining: 67.2ms\n",
            "19:\tlearn: 2.1968610\ttotal: 1.35s\tremaining: 0us\n",
            "0:\tlearn: 4.6907129\ttotal: 62.2ms\tremaining: 1.18s\n",
            "1:\tlearn: 4.1350856\ttotal: 130ms\tremaining: 1.17s\n",
            "2:\tlearn: 3.9707574\ttotal: 197ms\tremaining: 1.12s\n",
            "3:\tlearn: 3.7743211\ttotal: 262ms\tremaining: 1.05s\n",
            "4:\tlearn: 3.6607437\ttotal: 327ms\tremaining: 980ms\n",
            "5:\tlearn: 3.5291379\ttotal: 398ms\tremaining: 929ms\n",
            "6:\tlearn: 3.4154095\ttotal: 466ms\tremaining: 866ms\n",
            "7:\tlearn: 3.3325747\ttotal: 525ms\tremaining: 787ms\n",
            "8:\tlearn: 3.2190144\ttotal: 594ms\tremaining: 726ms\n",
            "9:\tlearn: 3.1134505\ttotal: 662ms\tremaining: 662ms\n",
            "10:\tlearn: 3.0551671\ttotal: 721ms\tremaining: 590ms\n",
            "11:\tlearn: 2.9803968\ttotal: 798ms\tremaining: 532ms\n",
            "12:\tlearn: 2.9108491\ttotal: 872ms\tremaining: 470ms\n",
            "13:\tlearn: 2.8023613\ttotal: 931ms\tremaining: 399ms\n",
            "14:\tlearn: 2.7267451\ttotal: 1.02s\tremaining: 339ms\n",
            "15:\tlearn: 2.6736942\ttotal: 1.1s\tremaining: 276ms\n",
            "16:\tlearn: 2.6196422\ttotal: 1.18s\tremaining: 208ms\n",
            "17:\tlearn: 2.5658481\ttotal: 1.26s\tremaining: 140ms\n",
            "18:\tlearn: 2.5032052\ttotal: 1.34s\tremaining: 70.7ms\n",
            "19:\tlearn: 2.4626105\ttotal: 1.42s\tremaining: 0us\n",
            "0:\tlearn: 4.9798554\ttotal: 77.9ms\tremaining: 1.48s\n",
            "1:\tlearn: 4.4807709\ttotal: 158ms\tremaining: 1.42s\n",
            "2:\tlearn: 4.2936780\ttotal: 229ms\tremaining: 1.3s\n",
            "3:\tlearn: 4.0827182\ttotal: 297ms\tremaining: 1.19s\n",
            "4:\tlearn: 3.8516178\ttotal: 369ms\tremaining: 1.11s\n",
            "5:\tlearn: 3.7272759\ttotal: 433ms\tremaining: 1.01s\n",
            "6:\tlearn: 3.6102554\ttotal: 493ms\tremaining: 916ms\n",
            "7:\tlearn: 3.5223286\ttotal: 635ms\tremaining: 953ms\n",
            "8:\tlearn: 3.3641617\ttotal: 760ms\tremaining: 928ms\n",
            "9:\tlearn: 3.3402419\ttotal: 866ms\tremaining: 866ms\n",
            "10:\tlearn: 3.2372579\ttotal: 951ms\tremaining: 778ms\n",
            "11:\tlearn: 3.1804601\ttotal: 1.11s\tremaining: 742ms\n",
            "12:\tlearn: 3.0608936\ttotal: 1.17s\tremaining: 633ms\n",
            "13:\tlearn: 2.9862474\ttotal: 1.24s\tremaining: 533ms\n",
            "14:\tlearn: 2.9223934\ttotal: 1.31s\tremaining: 435ms\n",
            "15:\tlearn: 2.8510562\ttotal: 1.37s\tremaining: 343ms\n",
            "16:\tlearn: 2.7569507\ttotal: 1.44s\tremaining: 255ms\n",
            "17:\tlearn: 2.7207563\ttotal: 1.51s\tremaining: 168ms\n",
            "18:\tlearn: 2.6194266\ttotal: 1.57s\tremaining: 82.7ms\n",
            "19:\tlearn: 2.5848047\ttotal: 1.64s\tremaining: 0us\n",
            "0:\tlearn: 4.8314672\ttotal: 65ms\tremaining: 1.23s\n",
            "1:\tlearn: 4.3487659\ttotal: 130ms\tremaining: 1.17s\n",
            "2:\tlearn: 4.0739378\ttotal: 200ms\tremaining: 1.14s\n",
            "3:\tlearn: 3.9219310\ttotal: 269ms\tremaining: 1.07s\n",
            "4:\tlearn: 3.7784309\ttotal: 358ms\tremaining: 1.07s\n",
            "5:\tlearn: 3.5436311\ttotal: 423ms\tremaining: 988ms\n",
            "6:\tlearn: 3.4424220\ttotal: 494ms\tremaining: 918ms\n",
            "7:\tlearn: 3.3534120\ttotal: 563ms\tremaining: 845ms\n",
            "8:\tlearn: 3.2659352\ttotal: 639ms\tremaining: 780ms\n",
            "9:\tlearn: 3.1803579\ttotal: 707ms\tremaining: 707ms\n",
            "10:\tlearn: 3.0951443\ttotal: 783ms\tremaining: 640ms\n",
            "11:\tlearn: 3.0113977\ttotal: 851ms\tremaining: 567ms\n",
            "12:\tlearn: 2.9508154\ttotal: 912ms\tremaining: 491ms\n",
            "13:\tlearn: 2.8699468\ttotal: 991ms\tremaining: 425ms\n",
            "14:\tlearn: 2.8080133\ttotal: 1.06s\tremaining: 355ms\n",
            "15:\tlearn: 2.7655284\ttotal: 1.12s\tremaining: 281ms\n",
            "16:\tlearn: 2.6807029\ttotal: 1.19s\tremaining: 210ms\n",
            "17:\tlearn: 2.5879986\ttotal: 1.26s\tremaining: 140ms\n",
            "18:\tlearn: 2.5460284\ttotal: 1.34s\tremaining: 70.4ms\n",
            "19:\tlearn: 2.4981908\ttotal: 1.4s\tremaining: 0us\n",
            "0:\tlearn: 4.7061779\ttotal: 70.6ms\tremaining: 1.34s\n",
            "1:\tlearn: 4.1727056\ttotal: 139ms\tremaining: 1.25s\n",
            "2:\tlearn: 3.9984165\ttotal: 202ms\tremaining: 1.14s\n",
            "3:\tlearn: 3.8362679\ttotal: 273ms\tremaining: 1.09s\n",
            "4:\tlearn: 3.6640828\ttotal: 345ms\tremaining: 1.03s\n",
            "5:\tlearn: 3.5556328\ttotal: 404ms\tremaining: 943ms\n",
            "6:\tlearn: 3.4124565\ttotal: 474ms\tremaining: 881ms\n",
            "7:\tlearn: 3.3027286\ttotal: 552ms\tremaining: 828ms\n",
            "8:\tlearn: 3.1800764\ttotal: 620ms\tremaining: 758ms\n",
            "9:\tlearn: 3.1510978\ttotal: 687ms\tremaining: 687ms\n",
            "10:\tlearn: 3.0110877\ttotal: 769ms\tremaining: 629ms\n",
            "11:\tlearn: 2.9536090\ttotal: 842ms\tremaining: 561ms\n",
            "12:\tlearn: 2.8835838\ttotal: 962ms\tremaining: 518ms\n",
            "13:\tlearn: 2.8217687\ttotal: 1.03s\tremaining: 444ms\n",
            "14:\tlearn: 2.7565532\ttotal: 1.1s\tremaining: 366ms\n",
            "15:\tlearn: 2.7083270\ttotal: 1.16s\tremaining: 291ms\n",
            "16:\tlearn: 2.6008077\ttotal: 1.24s\tremaining: 219ms\n",
            "17:\tlearn: 2.5480511\ttotal: 1.3s\tremaining: 144ms\n",
            "18:\tlearn: 2.4958521\ttotal: 1.37s\tremaining: 72ms\n",
            "19:\tlearn: 2.4587957\ttotal: 1.44s\tremaining: 0us\n",
            "0:\tlearn: 5.4409292\ttotal: 7.94ms\tremaining: 230ms\n",
            "1:\tlearn: 5.1733891\ttotal: 15.4ms\tremaining: 215ms\n",
            "2:\tlearn: 5.0311754\ttotal: 20.7ms\tremaining: 186ms\n",
            "3:\tlearn: 4.8484611\ttotal: 25.8ms\tremaining: 168ms\n",
            "4:\tlearn: 4.7422224\ttotal: 31.1ms\tremaining: 156ms\n",
            "5:\tlearn: 4.6459351\ttotal: 36.2ms\tremaining: 145ms\n",
            "6:\tlearn: 4.5675313\ttotal: 41.5ms\tremaining: 136ms\n",
            "7:\tlearn: 4.4978976\ttotal: 46.6ms\tremaining: 128ms\n",
            "8:\tlearn: 4.4399662\ttotal: 51.6ms\tremaining: 120ms\n",
            "9:\tlearn: 4.3490930\ttotal: 56.8ms\tremaining: 114ms\n",
            "10:\tlearn: 4.2942913\ttotal: 62.1ms\tremaining: 107ms\n",
            "11:\tlearn: 4.2395728\ttotal: 68.3ms\tremaining: 102ms\n",
            "12:\tlearn: 4.1762405\ttotal: 74.3ms\tremaining: 97.1ms\n",
            "13:\tlearn: 4.1397343\ttotal: 79.2ms\tremaining: 90.5ms\n",
            "14:\tlearn: 4.0784405\ttotal: 86.1ms\tremaining: 86.1ms\n",
            "15:\tlearn: 4.0168220\ttotal: 93.3ms\tremaining: 81.7ms\n",
            "16:\tlearn: 3.9594558\ttotal: 100ms\tremaining: 76.8ms\n",
            "17:\tlearn: 3.9056159\ttotal: 108ms\tremaining: 72.2ms\n",
            "18:\tlearn: 3.8778784\ttotal: 114ms\tremaining: 65.8ms\n",
            "19:\tlearn: 3.8305190\ttotal: 119ms\tremaining: 59.5ms\n",
            "20:\tlearn: 3.8002560\ttotal: 124ms\tremaining: 53.3ms\n",
            "21:\tlearn: 3.7800429\ttotal: 129ms\tremaining: 47ms\n",
            "22:\tlearn: 3.7475597\ttotal: 134ms\tremaining: 40.9ms\n",
            "23:\tlearn: 3.7153430\ttotal: 140ms\tremaining: 34.9ms\n",
            "24:\tlearn: 3.6813980\ttotal: 144ms\tremaining: 28.9ms\n",
            "25:\tlearn: 3.6521261\ttotal: 149ms\tremaining: 23ms\n",
            "26:\tlearn: 3.6216903\ttotal: 154ms\tremaining: 17.2ms\n",
            "27:\tlearn: 3.6016942\ttotal: 160ms\tremaining: 11.4ms\n",
            "28:\tlearn: 3.5745924\ttotal: 164ms\tremaining: 5.67ms\n",
            "29:\tlearn: 3.5474300\ttotal: 170ms\tremaining: 0us\n",
            "0:\tlearn: 4.6725780\ttotal: 5.56ms\tremaining: 161ms\n",
            "1:\tlearn: 4.4109569\ttotal: 10.1ms\tremaining: 141ms\n",
            "2:\tlearn: 4.2928382\ttotal: 15.3ms\tremaining: 137ms\n",
            "3:\tlearn: 4.1651966\ttotal: 20.3ms\tremaining: 132ms\n",
            "4:\tlearn: 4.0619407\ttotal: 26.9ms\tremaining: 135ms\n",
            "5:\tlearn: 3.9690720\ttotal: 33.2ms\tremaining: 133ms\n",
            "6:\tlearn: 3.8901481\ttotal: 40.2ms\tremaining: 132ms\n",
            "7:\tlearn: 3.8298275\ttotal: 48.8ms\tremaining: 134ms\n",
            "8:\tlearn: 3.7892545\ttotal: 57ms\tremaining: 133ms\n",
            "9:\tlearn: 3.7313713\ttotal: 65.2ms\tremaining: 130ms\n",
            "10:\tlearn: 3.6867386\ttotal: 73.9ms\tremaining: 128ms\n",
            "11:\tlearn: 3.6189675\ttotal: 82.1ms\tremaining: 123ms\n",
            "12:\tlearn: 3.5547318\ttotal: 90.7ms\tremaining: 119ms\n",
            "13:\tlearn: 3.5259173\ttotal: 98.6ms\tremaining: 113ms\n",
            "14:\tlearn: 3.4852006\ttotal: 107ms\tremaining: 107ms\n",
            "15:\tlearn: 3.4460287\ttotal: 115ms\tremaining: 101ms\n",
            "16:\tlearn: 3.3994561\ttotal: 124ms\tremaining: 94.5ms\n",
            "17:\tlearn: 3.3621127\ttotal: 132ms\tremaining: 87.8ms\n",
            "18:\tlearn: 3.3206376\ttotal: 140ms\tremaining: 81ms\n",
            "19:\tlearn: 3.2819853\ttotal: 148ms\tremaining: 74.2ms\n",
            "20:\tlearn: 3.2473777\ttotal: 157ms\tremaining: 67.1ms\n",
            "21:\tlearn: 3.2144137\ttotal: 163ms\tremaining: 59.2ms\n",
            "22:\tlearn: 3.1829754\ttotal: 168ms\tremaining: 51ms\n",
            "23:\tlearn: 3.1622537\ttotal: 172ms\tremaining: 43.1ms\n",
            "24:\tlearn: 3.1365431\ttotal: 177ms\tremaining: 35.5ms\n",
            "25:\tlearn: 3.0956444\ttotal: 182ms\tremaining: 28ms\n",
            "26:\tlearn: 3.0694698\ttotal: 187ms\tremaining: 20.8ms\n",
            "27:\tlearn: 3.0493869\ttotal: 192ms\tremaining: 13.7ms\n",
            "28:\tlearn: 3.0189667\ttotal: 196ms\tremaining: 6.77ms\n",
            "29:\tlearn: 2.9908860\ttotal: 203ms\tremaining: 0us\n",
            "0:\tlearn: 5.3359593\ttotal: 9.65ms\tremaining: 280ms\n",
            "1:\tlearn: 5.0210930\ttotal: 18.1ms\tremaining: 253ms\n",
            "2:\tlearn: 4.7850114\ttotal: 25.1ms\tremaining: 225ms\n",
            "3:\tlearn: 4.6117970\ttotal: 29.7ms\tremaining: 193ms\n",
            "4:\tlearn: 4.4763089\ttotal: 34.6ms\tremaining: 173ms\n",
            "5:\tlearn: 4.3700252\ttotal: 39.5ms\tremaining: 158ms\n",
            "6:\tlearn: 4.2962944\ttotal: 44.6ms\tremaining: 146ms\n",
            "7:\tlearn: 4.2506024\ttotal: 51.1ms\tremaining: 141ms\n",
            "8:\tlearn: 4.1898649\ttotal: 59.8ms\tremaining: 139ms\n",
            "9:\tlearn: 4.1229722\ttotal: 66ms\tremaining: 132ms\n",
            "10:\tlearn: 4.0417770\ttotal: 70.4ms\tremaining: 122ms\n",
            "11:\tlearn: 3.9837796\ttotal: 75.2ms\tremaining: 113ms\n",
            "12:\tlearn: 3.9324580\ttotal: 83.7ms\tremaining: 109ms\n",
            "13:\tlearn: 3.8758914\ttotal: 91.8ms\tremaining: 105ms\n",
            "14:\tlearn: 3.8287847\ttotal: 99.7ms\tremaining: 99.7ms\n",
            "15:\tlearn: 3.7909986\ttotal: 107ms\tremaining: 93.7ms\n",
            "16:\tlearn: 3.7287892\ttotal: 115ms\tremaining: 87.8ms\n",
            "17:\tlearn: 3.7037956\ttotal: 122ms\tremaining: 81.5ms\n",
            "18:\tlearn: 3.6593970\ttotal: 129ms\tremaining: 74.8ms\n",
            "19:\tlearn: 3.6245551\ttotal: 136ms\tremaining: 67.8ms\n",
            "20:\tlearn: 3.5931186\ttotal: 142ms\tremaining: 61ms\n",
            "21:\tlearn: 3.5663580\ttotal: 148ms\tremaining: 53.7ms\n",
            "22:\tlearn: 3.5346728\ttotal: 154ms\tremaining: 46.8ms\n",
            "23:\tlearn: 3.5081422\ttotal: 159ms\tremaining: 39.7ms\n",
            "24:\tlearn: 3.4832589\ttotal: 165ms\tremaining: 32.9ms\n",
            "25:\tlearn: 3.4438684\ttotal: 171ms\tremaining: 26.2ms\n",
            "26:\tlearn: 3.4099946\ttotal: 177ms\tremaining: 19.7ms\n",
            "27:\tlearn: 3.3867488\ttotal: 182ms\tremaining: 13ms\n",
            "28:\tlearn: 3.3618057\ttotal: 188ms\tremaining: 6.47ms\n",
            "29:\tlearn: 3.3235615\ttotal: 194ms\tremaining: 0us\n",
            "0:\tlearn: 5.5161677\ttotal: 5.27ms\tremaining: 153ms\n",
            "1:\tlearn: 5.2153174\ttotal: 10.1ms\tremaining: 141ms\n",
            "2:\tlearn: 5.0972318\ttotal: 15.4ms\tremaining: 138ms\n",
            "3:\tlearn: 4.9262919\ttotal: 20.4ms\tremaining: 133ms\n",
            "4:\tlearn: 4.8201596\ttotal: 25.2ms\tremaining: 126ms\n",
            "5:\tlearn: 4.7444436\ttotal: 30ms\tremaining: 120ms\n",
            "6:\tlearn: 4.6491764\ttotal: 34.6ms\tremaining: 114ms\n",
            "7:\tlearn: 4.5965277\ttotal: 39.1ms\tremaining: 108ms\n",
            "8:\tlearn: 4.4744623\ttotal: 43.6ms\tremaining: 102ms\n",
            "9:\tlearn: 4.3798233\ttotal: 48.3ms\tremaining: 96.6ms\n",
            "10:\tlearn: 4.3450532\ttotal: 54.5ms\tremaining: 94.1ms\n",
            "11:\tlearn: 4.2868776\ttotal: 61.3ms\tremaining: 92ms\n",
            "12:\tlearn: 4.2218058\ttotal: 67.8ms\tremaining: 88.6ms\n",
            "13:\tlearn: 4.1746726\ttotal: 74.1ms\tremaining: 84.7ms\n",
            "14:\tlearn: 4.1150357\ttotal: 81.2ms\tremaining: 81.2ms\n",
            "15:\tlearn: 4.0682238\ttotal: 86.3ms\tremaining: 75.5ms\n",
            "16:\tlearn: 4.0063619\ttotal: 91.3ms\tremaining: 69.9ms\n",
            "17:\tlearn: 3.9683563\ttotal: 96.1ms\tremaining: 64.1ms\n",
            "18:\tlearn: 3.9189792\ttotal: 101ms\tremaining: 58.4ms\n",
            "19:\tlearn: 3.8910197\ttotal: 106ms\tremaining: 52.8ms\n",
            "20:\tlearn: 3.8513263\ttotal: 110ms\tremaining: 47.3ms\n",
            "21:\tlearn: 3.8133816\ttotal: 115ms\tremaining: 41.9ms\n",
            "22:\tlearn: 3.7723515\ttotal: 120ms\tremaining: 36.5ms\n",
            "23:\tlearn: 3.7436077\ttotal: 124ms\tremaining: 31.1ms\n",
            "24:\tlearn: 3.7126036\ttotal: 129ms\tremaining: 25.9ms\n",
            "25:\tlearn: 3.6677171\ttotal: 135ms\tremaining: 20.7ms\n",
            "26:\tlearn: 3.6469991\ttotal: 140ms\tremaining: 15.5ms\n",
            "27:\tlearn: 3.6227193\ttotal: 145ms\tremaining: 10.4ms\n",
            "28:\tlearn: 3.5908019\ttotal: 153ms\tremaining: 5.26ms\n",
            "29:\tlearn: 3.5780932\ttotal: 159ms\tremaining: 0us\n",
            "0:\tlearn: 5.5992523\ttotal: 5.54ms\tremaining: 161ms\n",
            "1:\tlearn: 5.2428131\ttotal: 10.3ms\tremaining: 144ms\n",
            "2:\tlearn: 5.0205840\ttotal: 15.8ms\tremaining: 143ms\n",
            "3:\tlearn: 4.8918407\ttotal: 23ms\tremaining: 149ms\n",
            "4:\tlearn: 4.7588243\ttotal: 30ms\tremaining: 150ms\n",
            "5:\tlearn: 4.6531012\ttotal: 36.8ms\tremaining: 147ms\n",
            "6:\tlearn: 4.5817377\ttotal: 43.4ms\tremaining: 142ms\n",
            "7:\tlearn: 4.5127086\ttotal: 48.1ms\tremaining: 132ms\n",
            "8:\tlearn: 4.4204257\ttotal: 52.7ms\tremaining: 123ms\n",
            "9:\tlearn: 4.3441366\ttotal: 57.3ms\tremaining: 115ms\n",
            "10:\tlearn: 4.2851722\ttotal: 61.9ms\tremaining: 107ms\n",
            "11:\tlearn: 4.2262521\ttotal: 66.8ms\tremaining: 100ms\n",
            "12:\tlearn: 4.1468547\ttotal: 71.3ms\tremaining: 93.2ms\n",
            "13:\tlearn: 4.1050883\ttotal: 79ms\tremaining: 90.2ms\n",
            "14:\tlearn: 4.0505940\ttotal: 84.1ms\tremaining: 84.1ms\n",
            "15:\tlearn: 4.0171493\ttotal: 89.4ms\tremaining: 78.2ms\n",
            "16:\tlearn: 3.9588797\ttotal: 94.7ms\tremaining: 72.4ms\n",
            "17:\tlearn: 3.9109248\ttotal: 100ms\tremaining: 66.8ms\n",
            "18:\tlearn: 3.8629829\ttotal: 106ms\tremaining: 61.3ms\n",
            "19:\tlearn: 3.8124381\ttotal: 114ms\tremaining: 57.1ms\n",
            "20:\tlearn: 3.7840463\ttotal: 121ms\tremaining: 51.9ms\n",
            "21:\tlearn: 3.7481112\ttotal: 128ms\tremaining: 46.6ms\n",
            "22:\tlearn: 3.7055795\ttotal: 135ms\tremaining: 41.1ms\n",
            "23:\tlearn: 3.6583968\ttotal: 141ms\tremaining: 35.1ms\n",
            "24:\tlearn: 3.6352198\ttotal: 146ms\tremaining: 29.1ms\n",
            "25:\tlearn: 3.6040895\ttotal: 151ms\tremaining: 23.2ms\n",
            "26:\tlearn: 3.5808339\ttotal: 156ms\tremaining: 17.4ms\n",
            "27:\tlearn: 3.5487865\ttotal: 162ms\tremaining: 11.6ms\n",
            "28:\tlearn: 3.5128450\ttotal: 168ms\tremaining: 5.79ms\n",
            "29:\tlearn: 3.4804632\ttotal: 174ms\tremaining: 0us\n",
            "0:\tlearn: 5.4472712\ttotal: 5.49ms\tremaining: 159ms\n",
            "1:\tlearn: 5.0492391\ttotal: 11ms\tremaining: 153ms\n",
            "2:\tlearn: 4.8707379\ttotal: 16.5ms\tremaining: 148ms\n",
            "3:\tlearn: 4.7164562\ttotal: 21.5ms\tremaining: 140ms\n",
            "4:\tlearn: 4.5916865\ttotal: 26.1ms\tremaining: 130ms\n",
            "5:\tlearn: 4.5273996\ttotal: 30.9ms\tremaining: 123ms\n",
            "6:\tlearn: 4.4568777\ttotal: 35.7ms\tremaining: 117ms\n",
            "7:\tlearn: 4.3589102\ttotal: 40.2ms\tremaining: 111ms\n",
            "8:\tlearn: 4.2916491\ttotal: 45.5ms\tremaining: 106ms\n",
            "9:\tlearn: 4.2293378\ttotal: 52ms\tremaining: 104ms\n",
            "10:\tlearn: 4.1914351\ttotal: 58.7ms\tremaining: 101ms\n",
            "11:\tlearn: 4.1132730\ttotal: 66.1ms\tremaining: 99.1ms\n",
            "12:\tlearn: 4.0460830\ttotal: 72.9ms\tremaining: 95.4ms\n",
            "13:\tlearn: 3.9434116\ttotal: 78.5ms\tremaining: 89.7ms\n",
            "14:\tlearn: 3.8909764\ttotal: 84.5ms\tremaining: 84.5ms\n",
            "15:\tlearn: 3.8473792\ttotal: 89.6ms\tremaining: 78.4ms\n",
            "16:\tlearn: 3.8041044\ttotal: 94.8ms\tremaining: 72.5ms\n",
            "17:\tlearn: 3.7761242\ttotal: 99.5ms\tremaining: 66.3ms\n",
            "18:\tlearn: 3.7457714\ttotal: 105ms\tremaining: 60.6ms\n",
            "19:\tlearn: 3.7062529\ttotal: 110ms\tremaining: 54.8ms\n",
            "20:\tlearn: 3.6773711\ttotal: 115ms\tremaining: 49.1ms\n",
            "21:\tlearn: 3.6498513\ttotal: 120ms\tremaining: 43.5ms\n",
            "22:\tlearn: 3.6166136\ttotal: 124ms\tremaining: 37.8ms\n",
            "23:\tlearn: 3.5707276\ttotal: 129ms\tremaining: 32.3ms\n",
            "24:\tlearn: 3.5423326\ttotal: 134ms\tremaining: 26.8ms\n",
            "25:\tlearn: 3.5143479\ttotal: 141ms\tremaining: 21.7ms\n",
            "26:\tlearn: 3.4856310\ttotal: 148ms\tremaining: 16.4ms\n",
            "27:\tlearn: 3.4525013\ttotal: 155ms\tremaining: 11ms\n",
            "28:\tlearn: 3.4257393\ttotal: 161ms\tremaining: 5.56ms\n",
            "29:\tlearn: 3.4017714\ttotal: 167ms\tremaining: 0us\n",
            "0:\tlearn: 4.7801978\ttotal: 73.1ms\tremaining: 2.12s\n",
            "1:\tlearn: 4.3723586\ttotal: 134ms\tremaining: 1.88s\n",
            "2:\tlearn: 4.0483469\ttotal: 201ms\tremaining: 1.81s\n",
            "3:\tlearn: 3.8391245\ttotal: 273ms\tremaining: 1.78s\n",
            "4:\tlearn: 3.7371894\ttotal: 332ms\tremaining: 1.66s\n",
            "5:\tlearn: 3.6062047\ttotal: 399ms\tremaining: 1.59s\n",
            "6:\tlearn: 3.5175451\ttotal: 467ms\tremaining: 1.53s\n",
            "7:\tlearn: 3.4394785\ttotal: 528ms\tremaining: 1.45s\n",
            "8:\tlearn: 3.3812634\ttotal: 601ms\tremaining: 1.4s\n",
            "9:\tlearn: 3.2806214\ttotal: 671ms\tremaining: 1.34s\n",
            "10:\tlearn: 3.2131416\ttotal: 738ms\tremaining: 1.27s\n",
            "11:\tlearn: 3.1310869\ttotal: 798ms\tremaining: 1.2s\n",
            "12:\tlearn: 3.0399937\ttotal: 868ms\tremaining: 1.14s\n",
            "13:\tlearn: 2.9569360\ttotal: 934ms\tremaining: 1.07s\n",
            "14:\tlearn: 2.8832858\ttotal: 995ms\tremaining: 995ms\n",
            "15:\tlearn: 2.8096680\ttotal: 1.07s\tremaining: 933ms\n",
            "16:\tlearn: 2.7280704\ttotal: 1.14s\tremaining: 873ms\n",
            "17:\tlearn: 2.6892939\ttotal: 1.2s\tremaining: 801ms\n",
            "18:\tlearn: 2.6529855\ttotal: 1.28s\tremaining: 742ms\n",
            "19:\tlearn: 2.5965147\ttotal: 1.35s\tremaining: 677ms\n",
            "20:\tlearn: 2.5562469\ttotal: 1.42s\tremaining: 607ms\n",
            "21:\tlearn: 2.5103426\ttotal: 1.48s\tremaining: 540ms\n",
            "22:\tlearn: 2.4622422\ttotal: 1.55s\tremaining: 473ms\n",
            "23:\tlearn: 2.4238834\ttotal: 1.62s\tremaining: 405ms\n",
            "24:\tlearn: 2.3815529\ttotal: 1.69s\tremaining: 337ms\n",
            "25:\tlearn: 2.3346798\ttotal: 1.76s\tremaining: 270ms\n",
            "26:\tlearn: 2.2837621\ttotal: 1.82s\tremaining: 203ms\n",
            "27:\tlearn: 2.2579644\ttotal: 1.89s\tremaining: 135ms\n",
            "28:\tlearn: 2.2373639\ttotal: 1.96s\tremaining: 67.5ms\n",
            "29:\tlearn: 2.1918923\ttotal: 2.02s\tremaining: 0us\n",
            "0:\tlearn: 4.0882480\ttotal: 57.6ms\tremaining: 1.67s\n",
            "1:\tlearn: 3.7468287\ttotal: 126ms\tremaining: 1.76s\n",
            "2:\tlearn: 3.5114667\ttotal: 187ms\tremaining: 1.68s\n",
            "3:\tlearn: 3.3390808\ttotal: 251ms\tremaining: 1.63s\n",
            "4:\tlearn: 3.2347801\ttotal: 324ms\tremaining: 1.62s\n",
            "5:\tlearn: 3.1415185\ttotal: 397ms\tremaining: 1.59s\n",
            "6:\tlearn: 2.9787663\ttotal: 470ms\tremaining: 1.54s\n",
            "7:\tlearn: 2.8691245\ttotal: 538ms\tremaining: 1.48s\n",
            "8:\tlearn: 2.8029189\ttotal: 606ms\tremaining: 1.41s\n",
            "9:\tlearn: 2.7511578\ttotal: 662ms\tremaining: 1.32s\n",
            "10:\tlearn: 2.6693721\ttotal: 730ms\tremaining: 1.26s\n",
            "11:\tlearn: 2.6221005\ttotal: 799ms\tremaining: 1.2s\n",
            "12:\tlearn: 2.5706224\ttotal: 857ms\tremaining: 1.12s\n",
            "13:\tlearn: 2.5204857\ttotal: 925ms\tremaining: 1.06s\n",
            "14:\tlearn: 2.4151985\ttotal: 993ms\tremaining: 993ms\n",
            "15:\tlearn: 2.3753495\ttotal: 1.05s\tremaining: 920ms\n",
            "16:\tlearn: 2.3507639\ttotal: 1.12s\tremaining: 857ms\n",
            "17:\tlearn: 2.2983897\ttotal: 1.19s\tremaining: 791ms\n",
            "18:\tlearn: 2.2410281\ttotal: 1.25s\tremaining: 722ms\n",
            "19:\tlearn: 2.1968610\ttotal: 1.32s\tremaining: 660ms\n",
            "20:\tlearn: 2.1602017\ttotal: 1.39s\tremaining: 595ms\n",
            "21:\tlearn: 2.0943243\ttotal: 1.49s\tremaining: 540ms\n",
            "22:\tlearn: 2.0429791\ttotal: 1.55s\tremaining: 471ms\n",
            "23:\tlearn: 2.0257516\ttotal: 1.62s\tremaining: 405ms\n",
            "24:\tlearn: 1.9920049\ttotal: 1.69s\tremaining: 338ms\n",
            "25:\tlearn: 1.9574478\ttotal: 1.75s\tremaining: 269ms\n",
            "26:\tlearn: 1.9238002\ttotal: 1.82s\tremaining: 202ms\n",
            "27:\tlearn: 1.9042463\ttotal: 1.89s\tremaining: 135ms\n",
            "28:\tlearn: 1.8795951\ttotal: 1.95s\tremaining: 67.1ms\n",
            "29:\tlearn: 1.8528200\ttotal: 2.02s\tremaining: 0us\n",
            "0:\tlearn: 4.6907129\ttotal: 69.8ms\tremaining: 2.02s\n",
            "1:\tlearn: 4.1350856\ttotal: 134ms\tremaining: 1.87s\n",
            "2:\tlearn: 3.9707574\ttotal: 198ms\tremaining: 1.78s\n",
            "3:\tlearn: 3.7743211\ttotal: 270ms\tremaining: 1.75s\n",
            "4:\tlearn: 3.6607437\ttotal: 342ms\tremaining: 1.71s\n",
            "5:\tlearn: 3.5291379\ttotal: 413ms\tremaining: 1.65s\n",
            "6:\tlearn: 3.4154095\ttotal: 479ms\tremaining: 1.57s\n",
            "7:\tlearn: 3.3325747\ttotal: 554ms\tremaining: 1.52s\n",
            "8:\tlearn: 3.2190144\ttotal: 626ms\tremaining: 1.46s\n",
            "9:\tlearn: 3.1134505\ttotal: 687ms\tremaining: 1.37s\n",
            "10:\tlearn: 3.0551671\ttotal: 762ms\tremaining: 1.31s\n",
            "11:\tlearn: 2.9803968\ttotal: 845ms\tremaining: 1.27s\n",
            "12:\tlearn: 2.9108491\ttotal: 940ms\tremaining: 1.23s\n",
            "13:\tlearn: 2.8023613\ttotal: 1.03s\tremaining: 1.18s\n",
            "14:\tlearn: 2.7267451\ttotal: 1.1s\tremaining: 1.1s\n",
            "15:\tlearn: 2.6736942\ttotal: 1.2s\tremaining: 1.05s\n",
            "16:\tlearn: 2.6196422\ttotal: 1.27s\tremaining: 975ms\n",
            "17:\tlearn: 2.5658481\ttotal: 1.35s\tremaining: 898ms\n",
            "18:\tlearn: 2.5032052\ttotal: 1.41s\tremaining: 819ms\n",
            "19:\tlearn: 2.4626105\ttotal: 1.47s\tremaining: 736ms\n",
            "20:\tlearn: 2.4065431\ttotal: 1.54s\tremaining: 661ms\n",
            "21:\tlearn: 2.3599517\ttotal: 1.61s\tremaining: 585ms\n",
            "22:\tlearn: 2.3109798\ttotal: 1.67s\tremaining: 507ms\n",
            "23:\tlearn: 2.2740329\ttotal: 1.74s\tremaining: 434ms\n",
            "24:\tlearn: 2.2415569\ttotal: 1.8s\tremaining: 360ms\n",
            "25:\tlearn: 2.1961344\ttotal: 1.86s\tremaining: 287ms\n",
            "26:\tlearn: 2.1699352\ttotal: 1.94s\tremaining: 215ms\n",
            "27:\tlearn: 2.1460552\ttotal: 2s\tremaining: 143ms\n",
            "28:\tlearn: 2.1013636\ttotal: 2.07s\tremaining: 71.3ms\n",
            "29:\tlearn: 2.0606563\ttotal: 2.14s\tremaining: 0us\n",
            "0:\tlearn: 4.9798554\ttotal: 68ms\tremaining: 1.97s\n",
            "1:\tlearn: 4.4807709\ttotal: 139ms\tremaining: 1.95s\n",
            "2:\tlearn: 4.2936780\ttotal: 204ms\tremaining: 1.84s\n",
            "3:\tlearn: 4.0827182\ttotal: 275ms\tremaining: 1.79s\n",
            "4:\tlearn: 3.8516178\ttotal: 371ms\tremaining: 1.85s\n",
            "5:\tlearn: 3.7272759\ttotal: 443ms\tremaining: 1.77s\n",
            "6:\tlearn: 3.6102554\ttotal: 509ms\tremaining: 1.67s\n",
            "7:\tlearn: 3.5223286\ttotal: 569ms\tremaining: 1.56s\n",
            "8:\tlearn: 3.3641617\ttotal: 638ms\tremaining: 1.49s\n",
            "9:\tlearn: 3.3402419\ttotal: 703ms\tremaining: 1.41s\n",
            "10:\tlearn: 3.2372579\ttotal: 765ms\tremaining: 1.32s\n",
            "11:\tlearn: 3.1804601\ttotal: 838ms\tremaining: 1.26s\n",
            "12:\tlearn: 3.0608936\ttotal: 904ms\tremaining: 1.18s\n",
            "13:\tlearn: 2.9862474\ttotal: 966ms\tremaining: 1.1s\n",
            "14:\tlearn: 2.9223934\ttotal: 1.03s\tremaining: 1.03s\n",
            "15:\tlearn: 2.8510562\ttotal: 1.1s\tremaining: 964ms\n",
            "16:\tlearn: 2.7569507\ttotal: 1.16s\tremaining: 888ms\n",
            "17:\tlearn: 2.7207563\ttotal: 1.23s\tremaining: 821ms\n",
            "18:\tlearn: 2.6194266\ttotal: 1.3s\tremaining: 751ms\n",
            "19:\tlearn: 2.5848047\ttotal: 1.35s\tremaining: 678ms\n",
            "20:\tlearn: 2.5309210\ttotal: 1.43s\tremaining: 611ms\n",
            "21:\tlearn: 2.4435360\ttotal: 1.49s\tremaining: 543ms\n",
            "22:\tlearn: 2.3876898\ttotal: 1.55s\tremaining: 472ms\n",
            "23:\tlearn: 2.3578035\ttotal: 1.62s\tremaining: 404ms\n",
            "24:\tlearn: 2.3062631\ttotal: 1.68s\tremaining: 336ms\n",
            "25:\tlearn: 2.2528915\ttotal: 1.74s\tremaining: 268ms\n",
            "26:\tlearn: 2.1985264\ttotal: 1.81s\tremaining: 202ms\n",
            "27:\tlearn: 2.1691987\ttotal: 1.88s\tremaining: 134ms\n",
            "28:\tlearn: 2.1393391\ttotal: 1.94s\tremaining: 66.9ms\n",
            "29:\tlearn: 2.1033977\ttotal: 2.01s\tremaining: 0us\n",
            "0:\tlearn: 4.8314672\ttotal: 71.5ms\tremaining: 2.07s\n",
            "1:\tlearn: 4.3487659\ttotal: 133ms\tremaining: 1.86s\n",
            "2:\tlearn: 4.0739378\ttotal: 198ms\tremaining: 1.78s\n",
            "3:\tlearn: 3.9219310\ttotal: 266ms\tremaining: 1.73s\n",
            "4:\tlearn: 3.7784309\ttotal: 329ms\tremaining: 1.64s\n",
            "5:\tlearn: 3.5436311\ttotal: 398ms\tremaining: 1.59s\n",
            "6:\tlearn: 3.4424220\ttotal: 467ms\tremaining: 1.53s\n",
            "7:\tlearn: 3.3534120\ttotal: 526ms\tremaining: 1.45s\n",
            "8:\tlearn: 3.2659352\ttotal: 593ms\tremaining: 1.38s\n",
            "9:\tlearn: 3.1803579\ttotal: 661ms\tremaining: 1.32s\n",
            "10:\tlearn: 3.0951443\ttotal: 719ms\tremaining: 1.24s\n",
            "11:\tlearn: 3.0113977\ttotal: 787ms\tremaining: 1.18s\n",
            "12:\tlearn: 2.9508154\ttotal: 860ms\tremaining: 1.12s\n",
            "13:\tlearn: 2.8699468\ttotal: 920ms\tremaining: 1.05s\n",
            "14:\tlearn: 2.8080133\ttotal: 986ms\tremaining: 986ms\n",
            "15:\tlearn: 2.7655284\ttotal: 1.05s\tremaining: 922ms\n",
            "16:\tlearn: 2.6807029\ttotal: 1.11s\tremaining: 852ms\n",
            "17:\tlearn: 2.5879986\ttotal: 1.18s\tremaining: 788ms\n",
            "18:\tlearn: 2.5460284\ttotal: 1.25s\tremaining: 725ms\n",
            "19:\tlearn: 2.4981908\ttotal: 1.32s\tremaining: 660ms\n",
            "20:\tlearn: 2.4482048\ttotal: 1.38s\tremaining: 593ms\n",
            "21:\tlearn: 2.4067103\ttotal: 1.46s\tremaining: 531ms\n",
            "22:\tlearn: 2.3500677\ttotal: 1.53s\tremaining: 465ms\n",
            "23:\tlearn: 2.2969577\ttotal: 1.59s\tremaining: 398ms\n",
            "24:\tlearn: 2.2473031\ttotal: 1.66s\tremaining: 333ms\n",
            "25:\tlearn: 2.2016902\ttotal: 1.73s\tremaining: 266ms\n",
            "26:\tlearn: 2.1644797\ttotal: 1.79s\tremaining: 199ms\n",
            "27:\tlearn: 2.1238154\ttotal: 1.87s\tremaining: 134ms\n",
            "28:\tlearn: 2.0833860\ttotal: 1.94s\tremaining: 67ms\n",
            "29:\tlearn: 2.0585333\ttotal: 2s\tremaining: 0us\n",
            "0:\tlearn: 4.7061779\ttotal: 66.9ms\tremaining: 1.94s\n",
            "1:\tlearn: 4.1727056\ttotal: 125ms\tremaining: 1.75s\n",
            "2:\tlearn: 3.9984165\ttotal: 195ms\tremaining: 1.76s\n",
            "3:\tlearn: 3.8362679\ttotal: 263ms\tremaining: 1.71s\n",
            "4:\tlearn: 3.6640828\ttotal: 322ms\tremaining: 1.61s\n",
            "5:\tlearn: 3.5556328\ttotal: 392ms\tremaining: 1.57s\n",
            "6:\tlearn: 3.4124565\ttotal: 459ms\tremaining: 1.51s\n",
            "7:\tlearn: 3.3027286\ttotal: 523ms\tremaining: 1.44s\n",
            "8:\tlearn: 3.1800764\ttotal: 595ms\tremaining: 1.39s\n",
            "9:\tlearn: 3.1510978\ttotal: 670ms\tremaining: 1.34s\n",
            "10:\tlearn: 3.0110877\ttotal: 727ms\tremaining: 1.25s\n",
            "11:\tlearn: 2.9536090\ttotal: 813ms\tremaining: 1.22s\n",
            "12:\tlearn: 2.8835838\ttotal: 885ms\tremaining: 1.16s\n",
            "13:\tlearn: 2.8217687\ttotal: 954ms\tremaining: 1.09s\n",
            "14:\tlearn: 2.7565532\ttotal: 1.01s\tremaining: 1.01s\n",
            "15:\tlearn: 2.7083270\ttotal: 1.08s\tremaining: 946ms\n",
            "16:\tlearn: 2.6008077\ttotal: 1.15s\tremaining: 881ms\n",
            "17:\tlearn: 2.5480511\ttotal: 1.21s\tremaining: 808ms\n",
            "18:\tlearn: 2.4958521\ttotal: 1.28s\tremaining: 744ms\n",
            "19:\tlearn: 2.4587957\ttotal: 1.35s\tremaining: 678ms\n",
            "20:\tlearn: 2.4078443\ttotal: 1.42s\tremaining: 607ms\n",
            "21:\tlearn: 2.3351900\ttotal: 1.49s\tremaining: 542ms\n",
            "22:\tlearn: 2.2662256\ttotal: 1.57s\tremaining: 478ms\n",
            "23:\tlearn: 2.2434671\ttotal: 1.64s\tremaining: 411ms\n",
            "24:\tlearn: 2.2097476\ttotal: 1.7s\tremaining: 340ms\n",
            "25:\tlearn: 2.1646498\ttotal: 1.77s\tremaining: 273ms\n",
            "26:\tlearn: 2.1098607\ttotal: 1.84s\tremaining: 205ms\n",
            "27:\tlearn: 2.0830648\ttotal: 1.91s\tremaining: 136ms\n",
            "28:\tlearn: 2.0485818\ttotal: 1.98s\tremaining: 68.1ms\n",
            "29:\tlearn: 2.0178179\ttotal: 2.04s\tremaining: 0us\n"
          ]
        }
      ],
      "source": [
        "# сразу будем подбирать гиперпараметры для минимизации метрики\n",
        "\n",
        "%time\n",
        "\n",
        "smape_catboost_rougher = 1000\n",
        "for iter in range(10, 40, 10):\n",
        "    for dep in range (5, 15, 5):\n",
        "        model_catboost = CatBoostRegressor(iterations=iter,\n",
        "                          depth=dep,\n",
        "                          learning_rate=1,\n",
        "                          loss_function='RMSE')\n",
        "\n",
        "        model_catboost.fit(features_rougher_train, rougher_recovery_train)\n",
        "\n",
        "        smape_model = cross_val_score(model_catboost, features_rougher_train, \\\n",
        "                                     rougher_recovery_train, cv=5, scoring=smape_score).mean()\n",
        "        if smape_model < smape_catboost_rougher:\n",
        "            smape_catboost_rougher = smape_model\n",
        "            model_catboost_rougher = model_catboost"
      ]
    },
    {
      "cell_type": "code",
      "execution_count": null,
      "metadata": {
        "id": "s7_8lmOzxPGq",
        "outputId": "a20f8c0c-9db2-400b-ab6d-9f9c5cc2d152"
      },
      "outputs": [
        {
          "name": "stdout",
          "output_type": "stream",
          "text": [
            "sMAPE эффективности флотации для модели CatBoost =  6.990831971544767\n"
          ]
        }
      ],
      "source": [
        "print('sMAPE эффективности флотации для модели CatBoost = ',smape_catboost_rougher)\n",
        "#print(f'Параметры модели: максимальная глубина деревьев = {smape_catboost_rougher.max_depth},'\n",
        "#      f'количество деревьев = {model_forest_rougher.n_estimators}')"
      ]
    },
    {
      "cell_type": "markdown",
      "metadata": {
        "id": "re6e7MwgxPGr"
      },
      "source": [
        "На общей эфффективности проверять скорее всего нет смысла - видно, что после оптимизации гиперпараметров интересующая метрика превышает примерно в три раза значения для линейной регресси и случайного леса. Но всё-таки проверим для полноты картины и упрощения визуализации и сравнения моделей"
      ]
    },
    {
      "cell_type": "code",
      "execution_count": null,
      "metadata": {
        "id": "erHMRVr2xPGs",
        "outputId": "161b6795-f185-42db-b533-3b9d16caa402"
      },
      "outputs": [
        {
          "name": "stdout",
          "output_type": "stream",
          "text": [
            "CPU times: user 3 µs, sys: 0 ns, total: 3 µs\n",
            "Wall time: 5.72 µs\n",
            "0:\tlearn: 7.0544436\ttotal: 17.4ms\tremaining: 156ms\n",
            "1:\tlearn: 6.8145168\ttotal: 31ms\tremaining: 124ms\n",
            "2:\tlearn: 6.6288387\ttotal: 48.1ms\tremaining: 112ms\n",
            "3:\tlearn: 6.5109225\ttotal: 63.8ms\tremaining: 95.7ms\n",
            "4:\tlearn: 6.4331101\ttotal: 80.1ms\tremaining: 80.1ms\n",
            "5:\tlearn: 6.3536927\ttotal: 94.3ms\tremaining: 62.9ms\n",
            "6:\tlearn: 6.2350934\ttotal: 108ms\tremaining: 46.3ms\n",
            "7:\tlearn: 6.1943555\ttotal: 122ms\tremaining: 30.6ms\n",
            "8:\tlearn: 6.1478362\ttotal: 134ms\tremaining: 14.9ms\n",
            "9:\tlearn: 6.0799513\ttotal: 145ms\tremaining: 0us\n",
            "0:\tlearn: 7.1796416\ttotal: 12.5ms\tremaining: 113ms\n",
            "1:\tlearn: 6.8026101\ttotal: 22.4ms\tremaining: 89.5ms\n",
            "2:\tlearn: 6.5852513\ttotal: 32.3ms\tremaining: 75.5ms\n",
            "3:\tlearn: 6.4950604\ttotal: 42.4ms\tremaining: 63.5ms\n",
            "4:\tlearn: 6.3819304\ttotal: 53.7ms\tremaining: 53.7ms\n",
            "5:\tlearn: 6.2691136\ttotal: 68ms\tremaining: 45.4ms\n",
            "6:\tlearn: 6.1658386\ttotal: 82.9ms\tremaining: 35.5ms\n",
            "7:\tlearn: 6.0845341\ttotal: 97.6ms\tremaining: 24.4ms\n",
            "8:\tlearn: 6.0269494\ttotal: 109ms\tremaining: 12.2ms\n",
            "9:\tlearn: 5.9363154\ttotal: 120ms\tremaining: 0us\n",
            "0:\tlearn: 7.2069996\ttotal: 16.1ms\tremaining: 145ms\n",
            "1:\tlearn: 6.8136907\ttotal: 31ms\tremaining: 124ms\n",
            "2:\tlearn: 6.6568467\ttotal: 41ms\tremaining: 95.6ms\n",
            "3:\tlearn: 6.5346511\ttotal: 53ms\tremaining: 79.5ms\n",
            "4:\tlearn: 6.4204516\ttotal: 65.9ms\tremaining: 65.9ms\n",
            "5:\tlearn: 6.3181551\ttotal: 75.8ms\tremaining: 50.5ms\n",
            "6:\tlearn: 6.2362798\ttotal: 86ms\tremaining: 36.9ms\n",
            "7:\tlearn: 6.1679529\ttotal: 102ms\tremaining: 25.4ms\n",
            "8:\tlearn: 6.0999387\ttotal: 121ms\tremaining: 13.4ms\n",
            "9:\tlearn: 6.0025916\ttotal: 140ms\tremaining: 0us\n",
            "0:\tlearn: 7.0029145\ttotal: 12.2ms\tremaining: 110ms\n",
            "1:\tlearn: 6.6304770\ttotal: 23.3ms\tremaining: 93.3ms\n",
            "2:\tlearn: 6.4373331\ttotal: 37.6ms\tremaining: 87.7ms\n",
            "3:\tlearn: 6.2968152\ttotal: 51.6ms\tremaining: 77.4ms\n",
            "4:\tlearn: 6.1786570\ttotal: 65.8ms\tremaining: 65.8ms\n",
            "5:\tlearn: 6.1126133\ttotal: 75.9ms\tremaining: 50.6ms\n",
            "6:\tlearn: 6.0451319\ttotal: 87.1ms\tremaining: 37.3ms\n",
            "7:\tlearn: 5.9982166\ttotal: 97.4ms\tremaining: 24.4ms\n",
            "8:\tlearn: 5.9118426\ttotal: 108ms\tremaining: 12ms\n",
            "9:\tlearn: 5.8558279\ttotal: 118ms\tremaining: 0us\n",
            "0:\tlearn: 7.0357877\ttotal: 11.5ms\tremaining: 104ms\n",
            "1:\tlearn: 6.6632630\ttotal: 21.9ms\tremaining: 87.5ms\n",
            "2:\tlearn: 6.5436410\ttotal: 31.9ms\tremaining: 74.4ms\n",
            "3:\tlearn: 6.4240328\ttotal: 42.1ms\tremaining: 63.2ms\n",
            "4:\tlearn: 6.3023458\ttotal: 55.6ms\tremaining: 55.6ms\n",
            "5:\tlearn: 6.1857219\ttotal: 70.7ms\tremaining: 47.1ms\n",
            "6:\tlearn: 6.0855387\ttotal: 80.9ms\tremaining: 34.7ms\n",
            "7:\tlearn: 6.0333639\ttotal: 91ms\tremaining: 22.7ms\n",
            "8:\tlearn: 5.9783985\ttotal: 101ms\tremaining: 11.2ms\n",
            "9:\tlearn: 5.8674917\ttotal: 111ms\tremaining: 0us\n",
            "0:\tlearn: 6.9360826\ttotal: 18.1ms\tremaining: 163ms\n",
            "1:\tlearn: 6.5788209\ttotal: 30.3ms\tremaining: 121ms\n",
            "2:\tlearn: 6.3884038\ttotal: 41.5ms\tremaining: 96.9ms\n",
            "3:\tlearn: 6.2274612\ttotal: 54ms\tremaining: 80.9ms\n",
            "4:\tlearn: 6.0973555\ttotal: 67ms\tremaining: 67ms\n",
            "5:\tlearn: 5.9951274\ttotal: 77.4ms\tremaining: 51.6ms\n",
            "6:\tlearn: 5.9163965\ttotal: 89.7ms\tremaining: 38.4ms\n",
            "7:\tlearn: 5.8330876\ttotal: 105ms\tremaining: 26.2ms\n",
            "8:\tlearn: 5.7589350\ttotal: 119ms\tremaining: 13.3ms\n",
            "9:\tlearn: 5.6997793\ttotal: 131ms\tremaining: 0us\n",
            "0:\tlearn: 6.6359209\ttotal: 185ms\tremaining: 1.66s\n",
            "1:\tlearn: 6.1573562\ttotal: 334ms\tremaining: 1.33s\n",
            "2:\tlearn: 5.9492045\ttotal: 497ms\tremaining: 1.16s\n",
            "3:\tlearn: 5.7311808\ttotal: 666ms\tremaining: 999ms\n",
            "4:\tlearn: 5.4720139\ttotal: 818ms\tremaining: 818ms\n",
            "5:\tlearn: 5.2941217\ttotal: 979ms\tremaining: 652ms\n",
            "6:\tlearn: 5.1220758\ttotal: 1.13s\tremaining: 484ms\n",
            "7:\tlearn: 5.0404251\ttotal: 1.29s\tremaining: 322ms\n",
            "8:\tlearn: 4.9203307\ttotal: 1.45s\tremaining: 161ms\n",
            "9:\tlearn: 4.7965765\ttotal: 1.62s\tremaining: 0us\n",
            "0:\tlearn: 6.4336924\ttotal: 163ms\tremaining: 1.47s\n",
            "1:\tlearn: 6.0608637\ttotal: 311ms\tremaining: 1.24s\n",
            "2:\tlearn: 5.7739468\ttotal: 465ms\tremaining: 1.08s\n",
            "3:\tlearn: 5.5097460\ttotal: 611ms\tremaining: 916ms\n",
            "4:\tlearn: 5.3418018\ttotal: 771ms\tremaining: 771ms\n",
            "5:\tlearn: 5.1230603\ttotal: 913ms\tremaining: 609ms\n",
            "6:\tlearn: 4.9855671\ttotal: 1.08s\tremaining: 461ms\n",
            "7:\tlearn: 4.8232723\ttotal: 1.23s\tremaining: 306ms\n",
            "8:\tlearn: 4.6851642\ttotal: 1.39s\tremaining: 154ms\n",
            "9:\tlearn: 4.5525310\ttotal: 1.53s\tremaining: 0us\n",
            "0:\tlearn: 6.3761851\ttotal: 178ms\tremaining: 1.6s\n",
            "1:\tlearn: 6.0354271\ttotal: 359ms\tremaining: 1.43s\n",
            "2:\tlearn: 5.7712326\ttotal: 519ms\tremaining: 1.21s\n",
            "3:\tlearn: 5.5580801\ttotal: 663ms\tremaining: 994ms\n",
            "4:\tlearn: 5.4206862\ttotal: 822ms\tremaining: 822ms\n",
            "5:\tlearn: 5.2635451\ttotal: 970ms\tremaining: 646ms\n",
            "6:\tlearn: 5.1197658\ttotal: 1.13s\tremaining: 484ms\n",
            "7:\tlearn: 4.9812119\ttotal: 1.27s\tremaining: 318ms\n",
            "8:\tlearn: 4.8522670\ttotal: 1.43s\tremaining: 159ms\n",
            "9:\tlearn: 4.7092448\ttotal: 1.58s\tremaining: 0us\n",
            "0:\tlearn: 6.3811694\ttotal: 153ms\tremaining: 1.37s\n",
            "1:\tlearn: 5.9510314\ttotal: 323ms\tremaining: 1.29s\n",
            "2:\tlearn: 5.6291590\ttotal: 488ms\tremaining: 1.14s\n",
            "3:\tlearn: 5.4330793\ttotal: 654ms\tremaining: 981ms\n",
            "4:\tlearn: 5.2561465\ttotal: 811ms\tremaining: 811ms\n",
            "5:\tlearn: 5.0680366\ttotal: 961ms\tremaining: 641ms\n",
            "6:\tlearn: 4.8723379\ttotal: 1.11s\tremaining: 478ms\n",
            "7:\tlearn: 4.7199419\ttotal: 1.26s\tremaining: 316ms\n",
            "8:\tlearn: 4.6213820\ttotal: 1.42s\tremaining: 158ms\n",
            "9:\tlearn: 4.4057684\ttotal: 1.57s\tremaining: 0us\n",
            "0:\tlearn: 6.4336950\ttotal: 143ms\tremaining: 1.28s\n",
            "1:\tlearn: 5.9779253\ttotal: 299ms\tremaining: 1.2s\n",
            "2:\tlearn: 5.7376597\ttotal: 447ms\tremaining: 1.04s\n",
            "3:\tlearn: 5.4441423\ttotal: 607ms\tremaining: 910ms\n",
            "4:\tlearn: 5.2705063\ttotal: 755ms\tremaining: 755ms\n",
            "5:\tlearn: 5.0918286\ttotal: 913ms\tremaining: 609ms\n",
            "6:\tlearn: 4.9330639\ttotal: 1.1s\tremaining: 470ms\n",
            "7:\tlearn: 4.7884721\ttotal: 1.25s\tremaining: 312ms\n",
            "8:\tlearn: 4.6261636\ttotal: 1.42s\tremaining: 157ms\n",
            "9:\tlearn: 4.4927721\ttotal: 1.57s\tremaining: 0us\n",
            "0:\tlearn: 6.2552474\ttotal: 158ms\tremaining: 1.42s\n",
            "1:\tlearn: 5.7901166\ttotal: 310ms\tremaining: 1.24s\n",
            "2:\tlearn: 5.4311039\ttotal: 468ms\tremaining: 1.09s\n",
            "3:\tlearn: 5.2644103\ttotal: 617ms\tremaining: 926ms\n",
            "4:\tlearn: 5.1460346\ttotal: 788ms\tremaining: 788ms\n",
            "5:\tlearn: 4.9471201\ttotal: 979ms\tremaining: 652ms\n",
            "6:\tlearn: 4.7894018\ttotal: 1.14s\tremaining: 489ms\n",
            "7:\tlearn: 4.6446813\ttotal: 1.29s\tremaining: 323ms\n",
            "8:\tlearn: 4.4896626\ttotal: 1.46s\tremaining: 162ms\n",
            "9:\tlearn: 4.3729004\ttotal: 1.61s\tremaining: 0us\n",
            "0:\tlearn: 7.0544436\ttotal: 19.8ms\tremaining: 375ms\n",
            "1:\tlearn: 6.8145168\ttotal: 31.6ms\tremaining: 284ms\n",
            "2:\tlearn: 6.6288387\ttotal: 44.6ms\tremaining: 253ms\n",
            "3:\tlearn: 6.5109225\ttotal: 57.2ms\tremaining: 229ms\n",
            "4:\tlearn: 6.4331101\ttotal: 69.7ms\tremaining: 209ms\n",
            "5:\tlearn: 6.3536927\ttotal: 83.8ms\tremaining: 196ms\n",
            "6:\tlearn: 6.2350934\ttotal: 97.5ms\tremaining: 181ms\n",
            "7:\tlearn: 6.1943555\ttotal: 112ms\tremaining: 168ms\n",
            "8:\tlearn: 6.1478362\ttotal: 128ms\tremaining: 156ms\n",
            "9:\tlearn: 6.0799513\ttotal: 147ms\tremaining: 147ms\n",
            "10:\tlearn: 5.9923490\ttotal: 167ms\tremaining: 136ms\n",
            "11:\tlearn: 5.8919985\ttotal: 194ms\tremaining: 129ms\n",
            "12:\tlearn: 5.8210145\ttotal: 214ms\tremaining: 115ms\n",
            "13:\tlearn: 5.7595359\ttotal: 226ms\tremaining: 96.9ms\n",
            "14:\tlearn: 5.6655878\ttotal: 238ms\tremaining: 79.4ms\n",
            "15:\tlearn: 5.6067669\ttotal: 251ms\tremaining: 62.7ms\n",
            "16:\tlearn: 5.5454173\ttotal: 263ms\tremaining: 46.4ms\n",
            "17:\tlearn: 5.4910157\ttotal: 280ms\tremaining: 31.2ms\n",
            "18:\tlearn: 5.4119890\ttotal: 297ms\tremaining: 15.7ms\n",
            "19:\tlearn: 5.3683783\ttotal: 310ms\tremaining: 0us\n",
            "0:\tlearn: 7.1796416\ttotal: 10.8ms\tremaining: 204ms\n",
            "1:\tlearn: 6.8026101\ttotal: 20.6ms\tremaining: 186ms\n",
            "2:\tlearn: 6.5852513\ttotal: 30.5ms\tremaining: 173ms\n",
            "3:\tlearn: 6.4950604\ttotal: 39.8ms\tremaining: 159ms\n",
            "4:\tlearn: 6.3819304\ttotal: 52.2ms\tremaining: 156ms\n",
            "5:\tlearn: 6.2691136\ttotal: 66.5ms\tremaining: 155ms\n",
            "6:\tlearn: 6.1658386\ttotal: 80.1ms\tremaining: 149ms\n",
            "7:\tlearn: 6.0845341\ttotal: 91ms\tremaining: 136ms\n",
            "8:\tlearn: 6.0269494\ttotal: 101ms\tremaining: 124ms\n",
            "9:\tlearn: 5.9363154\ttotal: 112ms\tremaining: 112ms\n",
            "10:\tlearn: 5.8648446\ttotal: 122ms\tremaining: 100ms\n",
            "11:\tlearn: 5.7929287\ttotal: 132ms\tremaining: 88.2ms\n",
            "12:\tlearn: 5.7140517\ttotal: 144ms\tremaining: 77.6ms\n",
            "13:\tlearn: 5.6016524\ttotal: 159ms\tremaining: 67.9ms\n",
            "14:\tlearn: 5.5357521\ttotal: 172ms\tremaining: 57.3ms\n",
            "15:\tlearn: 5.4856671\ttotal: 182ms\tremaining: 45.5ms\n",
            "16:\tlearn: 5.4314456\ttotal: 192ms\tremaining: 33.8ms\n",
            "17:\tlearn: 5.3741283\ttotal: 203ms\tremaining: 22.6ms\n",
            "18:\tlearn: 5.3329960\ttotal: 214ms\tremaining: 11.2ms\n",
            "19:\tlearn: 5.2850541\ttotal: 225ms\tremaining: 0us\n",
            "0:\tlearn: 7.2069996\ttotal: 20.1ms\tremaining: 382ms\n",
            "1:\tlearn: 6.8136907\ttotal: 33.1ms\tremaining: 298ms\n",
            "2:\tlearn: 6.6568467\ttotal: 43.7ms\tremaining: 248ms\n",
            "3:\tlearn: 6.5346511\ttotal: 53.6ms\tremaining: 215ms\n",
            "4:\tlearn: 6.4204516\ttotal: 63.4ms\tremaining: 190ms\n",
            "5:\tlearn: 6.3181551\ttotal: 72.9ms\tremaining: 170ms\n",
            "6:\tlearn: 6.2362798\ttotal: 83.1ms\tremaining: 154ms\n",
            "7:\tlearn: 6.1679529\ttotal: 93.9ms\tremaining: 141ms\n",
            "8:\tlearn: 6.0999387\ttotal: 109ms\tremaining: 134ms\n",
            "9:\tlearn: 6.0025916\ttotal: 125ms\tremaining: 125ms\n",
            "10:\tlearn: 5.9508442\ttotal: 134ms\tremaining: 110ms\n",
            "11:\tlearn: 5.8843997\ttotal: 148ms\tremaining: 98.9ms\n",
            "12:\tlearn: 5.8293793\ttotal: 159ms\tremaining: 85.5ms\n",
            "13:\tlearn: 5.7646583\ttotal: 169ms\tremaining: 72.3ms\n",
            "14:\tlearn: 5.7176039\ttotal: 178ms\tremaining: 59.4ms\n",
            "15:\tlearn: 5.6103205\ttotal: 190ms\tremaining: 47.4ms\n",
            "16:\tlearn: 5.5326248\ttotal: 204ms\tremaining: 36ms\n",
            "17:\tlearn: 5.4773213\ttotal: 219ms\tremaining: 24.3ms\n",
            "18:\tlearn: 5.4299625\ttotal: 229ms\tremaining: 12.1ms\n",
            "19:\tlearn: 5.3633090\ttotal: 239ms\tremaining: 0us\n",
            "0:\tlearn: 7.0029145\ttotal: 20.4ms\tremaining: 388ms\n",
            "1:\tlearn: 6.6304770\ttotal: 38.6ms\tremaining: 348ms\n",
            "2:\tlearn: 6.4373331\ttotal: 58ms\tremaining: 328ms\n",
            "3:\tlearn: 6.2968152\ttotal: 75.4ms\tremaining: 302ms\n",
            "4:\tlearn: 6.1786570\ttotal: 87ms\tremaining: 261ms\n",
            "5:\tlearn: 6.1126133\ttotal: 101ms\tremaining: 236ms\n",
            "6:\tlearn: 6.0451319\ttotal: 114ms\tremaining: 211ms\n",
            "7:\tlearn: 5.9982166\ttotal: 131ms\tremaining: 196ms\n",
            "8:\tlearn: 5.9118426\ttotal: 142ms\tremaining: 173ms\n",
            "9:\tlearn: 5.8558279\ttotal: 151ms\tremaining: 151ms\n",
            "10:\tlearn: 5.7538559\ttotal: 162ms\tremaining: 132ms\n",
            "11:\tlearn: 5.6808300\ttotal: 172ms\tremaining: 115ms\n",
            "12:\tlearn: 5.6253484\ttotal: 187ms\tremaining: 101ms\n",
            "13:\tlearn: 5.5708477\ttotal: 201ms\tremaining: 86.3ms\n",
            "14:\tlearn: 5.4873537\ttotal: 214ms\tremaining: 71.3ms\n",
            "15:\tlearn: 5.4170633\ttotal: 224ms\tremaining: 56ms\n",
            "16:\tlearn: 5.3612135\ttotal: 234ms\tremaining: 41.2ms\n",
            "17:\tlearn: 5.2926998\ttotal: 243ms\tremaining: 27ms\n",
            "18:\tlearn: 5.2502252\ttotal: 253ms\tremaining: 13.3ms\n",
            "19:\tlearn: 5.2063354\ttotal: 264ms\tremaining: 0us\n",
            "0:\tlearn: 7.0357877\ttotal: 10.6ms\tremaining: 202ms\n",
            "1:\tlearn: 6.6632630\ttotal: 20.7ms\tremaining: 186ms\n",
            "2:\tlearn: 6.5436410\ttotal: 31.2ms\tremaining: 177ms\n",
            "3:\tlearn: 6.4240328\ttotal: 44.9ms\tremaining: 180ms\n",
            "4:\tlearn: 6.3023458\ttotal: 58.7ms\tremaining: 176ms\n",
            "5:\tlearn: 6.1857219\ttotal: 72.7ms\tremaining: 170ms\n",
            "6:\tlearn: 6.0855387\ttotal: 82.7ms\tremaining: 154ms\n",
            "7:\tlearn: 6.0333639\ttotal: 93ms\tremaining: 139ms\n",
            "8:\tlearn: 5.9783985\ttotal: 103ms\tremaining: 126ms\n",
            "9:\tlearn: 5.8674917\ttotal: 113ms\tremaining: 113ms\n",
            "10:\tlearn: 5.7910750\ttotal: 123ms\tremaining: 100ms\n",
            "11:\tlearn: 5.6923286\ttotal: 136ms\tremaining: 90.4ms\n",
            "12:\tlearn: 5.6164933\ttotal: 149ms\tremaining: 80.5ms\n",
            "13:\tlearn: 5.5297256\ttotal: 163ms\tremaining: 69.8ms\n",
            "14:\tlearn: 5.4592095\ttotal: 173ms\tremaining: 57.6ms\n",
            "15:\tlearn: 5.3927245\ttotal: 183ms\tremaining: 45.8ms\n",
            "16:\tlearn: 5.3271268\ttotal: 192ms\tremaining: 34ms\n",
            "17:\tlearn: 5.2763716\ttotal: 204ms\tremaining: 22.7ms\n",
            "18:\tlearn: 5.2067359\ttotal: 217ms\tremaining: 11.4ms\n",
            "19:\tlearn: 5.1646219\ttotal: 234ms\tremaining: 0us\n",
            "0:\tlearn: 6.9360826\ttotal: 16.4ms\tremaining: 311ms\n",
            "1:\tlearn: 6.5788209\ttotal: 28.5ms\tremaining: 256ms\n",
            "2:\tlearn: 6.3884038\ttotal: 39ms\tremaining: 221ms\n",
            "3:\tlearn: 6.2274612\ttotal: 49.8ms\tremaining: 199ms\n",
            "4:\tlearn: 6.0973555\ttotal: 60.6ms\tremaining: 182ms\n",
            "5:\tlearn: 5.9951274\ttotal: 71.5ms\tremaining: 167ms\n",
            "6:\tlearn: 5.9163965\ttotal: 82.2ms\tremaining: 153ms\n",
            "7:\tlearn: 5.8330876\ttotal: 96.5ms\tremaining: 145ms\n",
            "8:\tlearn: 5.7589350\ttotal: 111ms\tremaining: 136ms\n",
            "9:\tlearn: 5.6997793\ttotal: 123ms\tremaining: 123ms\n",
            "10:\tlearn: 5.6123926\ttotal: 132ms\tremaining: 108ms\n",
            "11:\tlearn: 5.5287584\ttotal: 142ms\tremaining: 94.7ms\n",
            "12:\tlearn: 5.4423127\ttotal: 152ms\tremaining: 81.8ms\n",
            "13:\tlearn: 5.3772375\ttotal: 162ms\tremaining: 69.4ms\n",
            "14:\tlearn: 5.2908999\ttotal: 172ms\tremaining: 57.4ms\n",
            "15:\tlearn: 5.2524283\ttotal: 185ms\tremaining: 46.2ms\n",
            "16:\tlearn: 5.1884543\ttotal: 200ms\tremaining: 35.2ms\n",
            "17:\tlearn: 5.1525606\ttotal: 214ms\tremaining: 23.8ms\n",
            "18:\tlearn: 5.1168047\ttotal: 227ms\tremaining: 11.9ms\n",
            "19:\tlearn: 5.0729662\ttotal: 238ms\tremaining: 0us\n",
            "0:\tlearn: 6.6359209\ttotal: 155ms\tremaining: 2.94s\n",
            "1:\tlearn: 6.1573562\ttotal: 308ms\tremaining: 2.77s\n",
            "2:\tlearn: 5.9492045\ttotal: 458ms\tremaining: 2.6s\n",
            "3:\tlearn: 5.7311808\ttotal: 622ms\tremaining: 2.49s\n",
            "4:\tlearn: 5.4720139\ttotal: 771ms\tremaining: 2.31s\n",
            "5:\tlearn: 5.2941217\ttotal: 940ms\tremaining: 2.19s\n",
            "6:\tlearn: 5.1220758\ttotal: 1.11s\tremaining: 2.06s\n",
            "7:\tlearn: 5.0404251\ttotal: 1.27s\tremaining: 1.9s\n",
            "8:\tlearn: 4.9203307\ttotal: 1.45s\tremaining: 1.77s\n",
            "9:\tlearn: 4.7965765\ttotal: 1.62s\tremaining: 1.62s\n",
            "10:\tlearn: 4.7207243\ttotal: 1.78s\tremaining: 1.46s\n",
            "11:\tlearn: 4.5827175\ttotal: 1.95s\tremaining: 1.3s\n",
            "12:\tlearn: 4.4241778\ttotal: 2.12s\tremaining: 1.14s\n",
            "13:\tlearn: 4.3270246\ttotal: 2.27s\tremaining: 974ms\n",
            "14:\tlearn: 4.2321713\ttotal: 2.44s\tremaining: 812ms\n",
            "15:\tlearn: 4.1524873\ttotal: 2.6s\tremaining: 651ms\n",
            "16:\tlearn: 4.0171969\ttotal: 2.76s\tremaining: 488ms\n",
            "17:\tlearn: 3.9395193\ttotal: 2.92s\tremaining: 325ms\n",
            "18:\tlearn: 3.8527635\ttotal: 3.11s\tremaining: 164ms\n",
            "19:\tlearn: 3.7659508\ttotal: 3.31s\tremaining: 0us\n",
            "0:\tlearn: 6.4336924\ttotal: 166ms\tremaining: 3.15s\n",
            "1:\tlearn: 6.0608637\ttotal: 316ms\tremaining: 2.84s\n",
            "2:\tlearn: 5.7739468\ttotal: 480ms\tremaining: 2.72s\n",
            "3:\tlearn: 5.5097460\ttotal: 639ms\tremaining: 2.56s\n",
            "4:\tlearn: 5.3418018\ttotal: 783ms\tremaining: 2.35s\n",
            "5:\tlearn: 5.1230603\ttotal: 941ms\tremaining: 2.2s\n",
            "6:\tlearn: 4.9855671\ttotal: 1.09s\tremaining: 2.02s\n",
            "7:\tlearn: 4.8232723\ttotal: 1.24s\tremaining: 1.86s\n",
            "8:\tlearn: 4.6851642\ttotal: 1.39s\tremaining: 1.7s\n",
            "9:\tlearn: 4.5525310\ttotal: 1.55s\tremaining: 1.55s\n",
            "10:\tlearn: 4.4574077\ttotal: 1.7s\tremaining: 1.39s\n",
            "11:\tlearn: 4.3039473\ttotal: 1.86s\tremaining: 1.24s\n",
            "12:\tlearn: 4.2066474\ttotal: 2.02s\tremaining: 1.08s\n",
            "13:\tlearn: 4.1175327\ttotal: 2.17s\tremaining: 928ms\n",
            "14:\tlearn: 3.9915046\ttotal: 2.32s\tremaining: 774ms\n",
            "15:\tlearn: 3.9126335\ttotal: 2.46s\tremaining: 616ms\n",
            "16:\tlearn: 3.7857238\ttotal: 2.63s\tremaining: 464ms\n",
            "17:\tlearn: 3.6932372\ttotal: 2.79s\tremaining: 310ms\n",
            "18:\tlearn: 3.6287264\ttotal: 2.95s\tremaining: 155ms\n",
            "19:\tlearn: 3.5326902\ttotal: 3.1s\tremaining: 0us\n",
            "0:\tlearn: 6.3761851\ttotal: 162ms\tremaining: 3.08s\n",
            "1:\tlearn: 6.0354271\ttotal: 310ms\tremaining: 2.79s\n",
            "2:\tlearn: 5.7712326\ttotal: 463ms\tremaining: 2.62s\n",
            "3:\tlearn: 5.5580801\ttotal: 608ms\tremaining: 2.43s\n",
            "4:\tlearn: 5.4206862\ttotal: 769ms\tremaining: 2.31s\n",
            "5:\tlearn: 5.2635451\ttotal: 932ms\tremaining: 2.17s\n",
            "6:\tlearn: 5.1197658\ttotal: 1.1s\tremaining: 2.04s\n",
            "7:\tlearn: 4.9812119\ttotal: 1.26s\tremaining: 1.89s\n",
            "8:\tlearn: 4.8522670\ttotal: 1.42s\tremaining: 1.74s\n",
            "9:\tlearn: 4.7092448\ttotal: 1.57s\tremaining: 1.57s\n",
            "10:\tlearn: 4.6007668\ttotal: 1.74s\tremaining: 1.42s\n",
            "11:\tlearn: 4.4430325\ttotal: 1.9s\tremaining: 1.27s\n",
            "12:\tlearn: 4.3445970\ttotal: 2.05s\tremaining: 1.1s\n",
            "13:\tlearn: 4.2144596\ttotal: 2.2s\tremaining: 945ms\n",
            "14:\tlearn: 4.1489178\ttotal: 2.35s\tremaining: 784ms\n",
            "15:\tlearn: 4.0262027\ttotal: 2.5s\tremaining: 626ms\n",
            "16:\tlearn: 3.9525810\ttotal: 2.65s\tremaining: 469ms\n",
            "17:\tlearn: 3.8623310\ttotal: 2.81s\tremaining: 312ms\n",
            "18:\tlearn: 3.7932474\ttotal: 2.96s\tremaining: 156ms\n",
            "19:\tlearn: 3.6961162\ttotal: 3.12s\tremaining: 0us\n",
            "0:\tlearn: 6.3811694\ttotal: 152ms\tremaining: 2.89s\n",
            "1:\tlearn: 5.9510314\ttotal: 318ms\tremaining: 2.86s\n",
            "2:\tlearn: 5.6291590\ttotal: 474ms\tremaining: 2.69s\n",
            "3:\tlearn: 5.4330793\ttotal: 615ms\tremaining: 2.46s\n",
            "4:\tlearn: 5.2561465\ttotal: 768ms\tremaining: 2.3s\n",
            "5:\tlearn: 5.0680366\ttotal: 920ms\tremaining: 2.15s\n",
            "6:\tlearn: 4.8723379\ttotal: 1.08s\tremaining: 2s\n",
            "7:\tlearn: 4.7199419\ttotal: 1.24s\tremaining: 1.85s\n",
            "8:\tlearn: 4.6213820\ttotal: 1.42s\tremaining: 1.73s\n",
            "9:\tlearn: 4.4057684\ttotal: 1.6s\tremaining: 1.6s\n",
            "10:\tlearn: 4.2798311\ttotal: 1.78s\tremaining: 1.46s\n",
            "11:\tlearn: 4.1810528\ttotal: 1.96s\tremaining: 1.3s\n",
            "12:\tlearn: 4.0470000\ttotal: 2.11s\tremaining: 1.14s\n",
            "13:\tlearn: 3.9874707\ttotal: 2.26s\tremaining: 967ms\n",
            "14:\tlearn: 3.9043289\ttotal: 2.41s\tremaining: 803ms\n",
            "15:\tlearn: 3.8115768\ttotal: 2.56s\tremaining: 641ms\n",
            "16:\tlearn: 3.7213959\ttotal: 2.72s\tremaining: 480ms\n",
            "17:\tlearn: 3.6158505\ttotal: 2.87s\tremaining: 318ms\n",
            "18:\tlearn: 3.5463063\ttotal: 3.03s\tremaining: 159ms\n",
            "19:\tlearn: 3.4640441\ttotal: 3.18s\tremaining: 0us\n",
            "0:\tlearn: 6.4336950\ttotal: 144ms\tremaining: 2.74s\n",
            "1:\tlearn: 5.9779253\ttotal: 296ms\tremaining: 2.66s\n",
            "2:\tlearn: 5.7376597\ttotal: 452ms\tremaining: 2.56s\n",
            "3:\tlearn: 5.4441423\ttotal: 599ms\tremaining: 2.4s\n",
            "4:\tlearn: 5.2705063\ttotal: 758ms\tremaining: 2.27s\n",
            "5:\tlearn: 5.0918286\ttotal: 900ms\tremaining: 2.1s\n",
            "6:\tlearn: 4.9330639\ttotal: 1.06s\tremaining: 1.97s\n",
            "7:\tlearn: 4.7884721\ttotal: 1.21s\tremaining: 1.81s\n",
            "8:\tlearn: 4.6261636\ttotal: 1.36s\tremaining: 1.66s\n",
            "9:\tlearn: 4.4927721\ttotal: 1.53s\tremaining: 1.53s\n",
            "10:\tlearn: 4.3696204\ttotal: 1.7s\tremaining: 1.39s\n",
            "11:\tlearn: 4.2630983\ttotal: 1.86s\tremaining: 1.24s\n",
            "12:\tlearn: 4.1293465\ttotal: 2.01s\tremaining: 1.08s\n",
            "13:\tlearn: 3.9776606\ttotal: 2.17s\tremaining: 932ms\n",
            "14:\tlearn: 3.8580554\ttotal: 2.34s\tremaining: 779ms\n",
            "15:\tlearn: 3.7820321\ttotal: 2.48s\tremaining: 620ms\n",
            "16:\tlearn: 3.7139391\ttotal: 2.63s\tremaining: 465ms\n",
            "17:\tlearn: 3.6273519\ttotal: 2.78s\tremaining: 309ms\n",
            "18:\tlearn: 3.5479330\ttotal: 2.94s\tremaining: 155ms\n",
            "19:\tlearn: 3.4354976\ttotal: 3.08s\tremaining: 0us\n",
            "0:\tlearn: 6.2552474\ttotal: 173ms\tremaining: 3.28s\n",
            "1:\tlearn: 5.7901166\ttotal: 316ms\tremaining: 2.84s\n",
            "2:\tlearn: 5.4311039\ttotal: 473ms\tremaining: 2.68s\n",
            "3:\tlearn: 5.2644103\ttotal: 621ms\tremaining: 2.48s\n",
            "4:\tlearn: 5.1460346\ttotal: 783ms\tremaining: 2.35s\n",
            "5:\tlearn: 4.9471201\ttotal: 928ms\tremaining: 2.17s\n",
            "6:\tlearn: 4.7894018\ttotal: 1.09s\tremaining: 2.02s\n",
            "7:\tlearn: 4.6446813\ttotal: 1.23s\tremaining: 1.85s\n",
            "8:\tlearn: 4.4896626\ttotal: 1.39s\tremaining: 1.7s\n",
            "9:\tlearn: 4.3729004\ttotal: 1.57s\tremaining: 1.57s\n",
            "10:\tlearn: 4.2701776\ttotal: 1.71s\tremaining: 1.4s\n",
            "11:\tlearn: 4.1891124\ttotal: 1.87s\tremaining: 1.25s\n",
            "12:\tlearn: 4.0324267\ttotal: 2.02s\tremaining: 1.08s\n",
            "13:\tlearn: 3.9068120\ttotal: 2.17s\tremaining: 930ms\n",
            "14:\tlearn: 3.8150855\ttotal: 2.32s\tremaining: 772ms\n",
            "15:\tlearn: 3.7769556\ttotal: 2.5s\tremaining: 624ms\n",
            "16:\tlearn: 3.7041644\ttotal: 2.67s\tremaining: 470ms\n",
            "17:\tlearn: 3.6367208\ttotal: 2.83s\tremaining: 314ms\n",
            "18:\tlearn: 3.5438015\ttotal: 2.98s\tremaining: 157ms\n",
            "19:\tlearn: 3.4632820\ttotal: 3.14s\tremaining: 0us\n",
            "0:\tlearn: 7.0544436\ttotal: 23.5ms\tremaining: 682ms\n",
            "1:\tlearn: 6.8145168\ttotal: 40.2ms\tremaining: 563ms\n",
            "2:\tlearn: 6.6288387\ttotal: 56.1ms\tremaining: 505ms\n",
            "3:\tlearn: 6.5109225\ttotal: 71.2ms\tremaining: 463ms\n",
            "4:\tlearn: 6.4331101\ttotal: 86.1ms\tremaining: 431ms\n",
            "5:\tlearn: 6.3536927\ttotal: 97ms\tremaining: 388ms\n",
            "6:\tlearn: 6.2350934\ttotal: 107ms\tremaining: 352ms\n",
            "7:\tlearn: 6.1943555\ttotal: 118ms\tremaining: 323ms\n",
            "8:\tlearn: 6.1478362\ttotal: 133ms\tremaining: 309ms\n",
            "9:\tlearn: 6.0799513\ttotal: 147ms\tremaining: 294ms\n",
            "10:\tlearn: 5.9923490\ttotal: 157ms\tremaining: 272ms\n",
            "11:\tlearn: 5.8919985\ttotal: 168ms\tremaining: 252ms\n",
            "12:\tlearn: 5.8210145\ttotal: 178ms\tremaining: 233ms\n",
            "13:\tlearn: 5.7595359\ttotal: 189ms\tremaining: 216ms\n",
            "14:\tlearn: 5.6655878\ttotal: 200ms\tremaining: 200ms\n",
            "15:\tlearn: 5.6067669\ttotal: 212ms\tremaining: 185ms\n",
            "16:\tlearn: 5.5454173\ttotal: 227ms\tremaining: 174ms\n",
            "17:\tlearn: 5.4910157\ttotal: 243ms\tremaining: 162ms\n",
            "18:\tlearn: 5.4119890\ttotal: 255ms\tremaining: 147ms\n",
            "19:\tlearn: 5.3683783\ttotal: 266ms\tremaining: 133ms\n",
            "20:\tlearn: 5.3200337\ttotal: 277ms\tremaining: 119ms\n",
            "21:\tlearn: 5.2769411\ttotal: 288ms\tremaining: 105ms\n",
            "22:\tlearn: 5.2368965\ttotal: 299ms\tremaining: 90.9ms\n",
            "23:\tlearn: 5.2023616\ttotal: 309ms\tremaining: 77.3ms\n",
            "24:\tlearn: 5.1622906\ttotal: 325ms\tremaining: 65ms\n",
            "25:\tlearn: 5.1272780\ttotal: 341ms\tremaining: 52.4ms\n",
            "26:\tlearn: 5.0942420\ttotal: 351ms\tremaining: 39ms\n",
            "27:\tlearn: 5.0645391\ttotal: 362ms\tremaining: 25.9ms\n",
            "28:\tlearn: 5.0316567\ttotal: 372ms\tremaining: 12.8ms\n",
            "29:\tlearn: 4.9997388\ttotal: 383ms\tremaining: 0us\n",
            "0:\tlearn: 7.1796416\ttotal: 11ms\tremaining: 318ms\n",
            "1:\tlearn: 6.8026101\ttotal: 25ms\tremaining: 350ms\n",
            "2:\tlearn: 6.5852513\ttotal: 39.7ms\tremaining: 358ms\n",
            "3:\tlearn: 6.4950604\ttotal: 49.2ms\tremaining: 320ms\n",
            "4:\tlearn: 6.3819304\ttotal: 59.5ms\tremaining: 297ms\n",
            "5:\tlearn: 6.2691136\ttotal: 69.8ms\tremaining: 279ms\n",
            "6:\tlearn: 6.1658386\ttotal: 80.3ms\tremaining: 264ms\n",
            "7:\tlearn: 6.0845341\ttotal: 90.9ms\tremaining: 250ms\n",
            "8:\tlearn: 6.0269494\ttotal: 100ms\tremaining: 234ms\n",
            "9:\tlearn: 5.9363154\ttotal: 114ms\tremaining: 228ms\n",
            "10:\tlearn: 5.8648446\ttotal: 129ms\tremaining: 222ms\n",
            "11:\tlearn: 5.7929287\ttotal: 139ms\tremaining: 208ms\n",
            "12:\tlearn: 5.7140517\ttotal: 149ms\tremaining: 194ms\n",
            "13:\tlearn: 5.6016524\ttotal: 158ms\tremaining: 181ms\n",
            "14:\tlearn: 5.5357521\ttotal: 168ms\tremaining: 168ms\n",
            "15:\tlearn: 5.4856671\ttotal: 179ms\tremaining: 156ms\n",
            "16:\tlearn: 5.4314456\ttotal: 188ms\tremaining: 144ms\n",
            "17:\tlearn: 5.3741283\ttotal: 201ms\tremaining: 134ms\n",
            "18:\tlearn: 5.3329960\ttotal: 216ms\tremaining: 125ms\n",
            "19:\tlearn: 5.2850541\ttotal: 230ms\tremaining: 115ms\n",
            "20:\tlearn: 5.2310820\ttotal: 240ms\tremaining: 103ms\n",
            "21:\tlearn: 5.1798603\ttotal: 251ms\tremaining: 91.2ms\n",
            "22:\tlearn: 5.1308384\ttotal: 261ms\tremaining: 79.5ms\n",
            "23:\tlearn: 5.0992081\ttotal: 271ms\tremaining: 67.7ms\n",
            "24:\tlearn: 5.0516252\ttotal: 281ms\tremaining: 56.1ms\n",
            "25:\tlearn: 5.0131643\ttotal: 292ms\tremaining: 44.9ms\n",
            "26:\tlearn: 4.9757398\ttotal: 306ms\tremaining: 34ms\n",
            "27:\tlearn: 4.9523424\ttotal: 321ms\tremaining: 22.9ms\n",
            "28:\tlearn: 4.9077472\ttotal: 331ms\tremaining: 11.4ms\n",
            "29:\tlearn: 4.8611845\ttotal: 341ms\tremaining: 0us\n",
            "0:\tlearn: 7.2069996\ttotal: 17.3ms\tremaining: 501ms\n",
            "1:\tlearn: 6.8136907\ttotal: 34.9ms\tremaining: 488ms\n",
            "2:\tlearn: 6.6568467\ttotal: 49ms\tremaining: 441ms\n",
            "3:\tlearn: 6.5346511\ttotal: 59.3ms\tremaining: 386ms\n",
            "4:\tlearn: 6.4204516\ttotal: 75.9ms\tremaining: 380ms\n",
            "5:\tlearn: 6.3181551\ttotal: 86.1ms\tremaining: 345ms\n",
            "6:\tlearn: 6.2362798\ttotal: 96ms\tremaining: 315ms\n",
            "7:\tlearn: 6.1679529\ttotal: 105ms\tremaining: 289ms\n",
            "8:\tlearn: 6.0999387\ttotal: 117ms\tremaining: 272ms\n",
            "9:\tlearn: 6.0025916\ttotal: 132ms\tremaining: 264ms\n",
            "10:\tlearn: 5.9508442\ttotal: 146ms\tremaining: 252ms\n",
            "11:\tlearn: 5.8843997\ttotal: 159ms\tremaining: 238ms\n",
            "12:\tlearn: 5.8293793\ttotal: 170ms\tremaining: 222ms\n",
            "13:\tlearn: 5.7646583\ttotal: 180ms\tremaining: 206ms\n",
            "14:\tlearn: 5.7176039\ttotal: 190ms\tremaining: 190ms\n",
            "15:\tlearn: 5.6103205\ttotal: 201ms\tremaining: 176ms\n",
            "16:\tlearn: 5.5326248\ttotal: 216ms\tremaining: 165ms\n",
            "17:\tlearn: 5.4773213\ttotal: 232ms\tremaining: 155ms\n",
            "18:\tlearn: 5.4299625\ttotal: 246ms\tremaining: 143ms\n",
            "19:\tlearn: 5.3633090\ttotal: 258ms\tremaining: 129ms\n",
            "20:\tlearn: 5.3133571\ttotal: 269ms\tremaining: 115ms\n",
            "21:\tlearn: 5.2814021\ttotal: 278ms\tremaining: 101ms\n",
            "22:\tlearn: 5.2395330\ttotal: 288ms\tremaining: 87.8ms\n",
            "23:\tlearn: 5.1967220\ttotal: 299ms\tremaining: 74.8ms\n",
            "24:\tlearn: 5.1597669\ttotal: 314ms\tremaining: 62.8ms\n",
            "25:\tlearn: 5.1195407\ttotal: 328ms\tremaining: 50.5ms\n",
            "26:\tlearn: 5.0855786\ttotal: 339ms\tremaining: 37.7ms\n",
            "27:\tlearn: 5.0456356\ttotal: 350ms\tremaining: 25ms\n",
            "28:\tlearn: 5.0123465\ttotal: 360ms\tremaining: 12.4ms\n",
            "29:\tlearn: 4.9775277\ttotal: 371ms\tremaining: 0us\n",
            "0:\tlearn: 7.0029145\ttotal: 11ms\tremaining: 318ms\n",
            "1:\tlearn: 6.6304770\ttotal: 21.1ms\tremaining: 295ms\n",
            "2:\tlearn: 6.4373331\ttotal: 31.2ms\tremaining: 281ms\n",
            "3:\tlearn: 6.2968152\ttotal: 46.4ms\tremaining: 301ms\n",
            "4:\tlearn: 6.1786570\ttotal: 62.4ms\tremaining: 312ms\n",
            "5:\tlearn: 6.1126133\ttotal: 72.8ms\tremaining: 291ms\n",
            "6:\tlearn: 6.0451319\ttotal: 82.4ms\tremaining: 271ms\n",
            "7:\tlearn: 5.9982166\ttotal: 91.8ms\tremaining: 252ms\n",
            "8:\tlearn: 5.9118426\ttotal: 103ms\tremaining: 240ms\n",
            "9:\tlearn: 5.8558279\ttotal: 114ms\tremaining: 228ms\n",
            "10:\tlearn: 5.7538559\ttotal: 124ms\tremaining: 215ms\n",
            "11:\tlearn: 5.6808300\ttotal: 141ms\tremaining: 211ms\n",
            "12:\tlearn: 5.6253484\ttotal: 155ms\tremaining: 203ms\n",
            "13:\tlearn: 5.5708477\ttotal: 166ms\tremaining: 190ms\n",
            "14:\tlearn: 5.4873537\ttotal: 177ms\tremaining: 177ms\n",
            "15:\tlearn: 5.4170633\ttotal: 187ms\tremaining: 163ms\n",
            "16:\tlearn: 5.3612135\ttotal: 196ms\tremaining: 150ms\n",
            "17:\tlearn: 5.2926998\ttotal: 207ms\tremaining: 138ms\n",
            "18:\tlearn: 5.2502252\ttotal: 218ms\tremaining: 126ms\n",
            "19:\tlearn: 5.2063354\ttotal: 232ms\tremaining: 116ms\n",
            "20:\tlearn: 5.1613568\ttotal: 244ms\tremaining: 105ms\n",
            "21:\tlearn: 5.1062681\ttotal: 254ms\tremaining: 92.4ms\n",
            "22:\tlearn: 5.0602251\ttotal: 264ms\tremaining: 80.3ms\n",
            "23:\tlearn: 5.0278144\ttotal: 274ms\tremaining: 68.5ms\n",
            "24:\tlearn: 4.9888591\ttotal: 284ms\tremaining: 56.9ms\n",
            "25:\tlearn: 4.9516509\ttotal: 294ms\tremaining: 45.2ms\n",
            "26:\tlearn: 4.9106460\ttotal: 306ms\tremaining: 34ms\n",
            "27:\tlearn: 4.8762373\ttotal: 319ms\tremaining: 22.8ms\n",
            "28:\tlearn: 4.8315600\ttotal: 334ms\tremaining: 11.5ms\n",
            "29:\tlearn: 4.8075679\ttotal: 345ms\tremaining: 0us\n",
            "0:\tlearn: 7.0357877\ttotal: 18.4ms\tremaining: 535ms\n",
            "1:\tlearn: 6.6632630\ttotal: 32.6ms\tremaining: 457ms\n",
            "2:\tlearn: 6.5436410\ttotal: 47.2ms\tremaining: 425ms\n",
            "3:\tlearn: 6.4240328\ttotal: 59.9ms\tremaining: 389ms\n",
            "4:\tlearn: 6.3023458\ttotal: 73ms\tremaining: 365ms\n",
            "5:\tlearn: 6.1857219\ttotal: 86.6ms\tremaining: 347ms\n",
            "6:\tlearn: 6.0855387\ttotal: 98.1ms\tremaining: 322ms\n",
            "7:\tlearn: 6.0333639\ttotal: 113ms\tremaining: 312ms\n",
            "8:\tlearn: 5.9783985\ttotal: 128ms\tremaining: 299ms\n",
            "9:\tlearn: 5.8674917\ttotal: 143ms\tremaining: 286ms\n",
            "10:\tlearn: 5.7910750\ttotal: 155ms\tremaining: 267ms\n",
            "11:\tlearn: 5.6923286\ttotal: 167ms\tremaining: 250ms\n",
            "12:\tlearn: 5.6164933\ttotal: 177ms\tremaining: 232ms\n",
            "13:\tlearn: 5.5297256\ttotal: 188ms\tremaining: 214ms\n",
            "14:\tlearn: 5.4592095\ttotal: 198ms\tremaining: 198ms\n",
            "15:\tlearn: 5.3927245\ttotal: 213ms\tremaining: 187ms\n",
            "16:\tlearn: 5.3271268\ttotal: 228ms\tremaining: 174ms\n",
            "17:\tlearn: 5.2763716\ttotal: 239ms\tremaining: 159ms\n",
            "18:\tlearn: 5.2067359\ttotal: 250ms\tremaining: 145ms\n",
            "19:\tlearn: 5.1646219\ttotal: 261ms\tremaining: 131ms\n",
            "20:\tlearn: 5.1209867\ttotal: 271ms\tremaining: 116ms\n",
            "21:\tlearn: 5.0840954\ttotal: 281ms\tremaining: 102ms\n",
            "22:\tlearn: 5.0281605\ttotal: 292ms\tremaining: 89ms\n",
            "23:\tlearn: 4.9941299\ttotal: 311ms\tremaining: 77.8ms\n",
            "24:\tlearn: 4.9497373\ttotal: 324ms\tremaining: 64.7ms\n",
            "25:\tlearn: 4.9172727\ttotal: 334ms\tremaining: 51.4ms\n",
            "26:\tlearn: 4.8771085\ttotal: 344ms\tremaining: 38.2ms\n",
            "27:\tlearn: 4.8323973\ttotal: 354ms\tremaining: 25.3ms\n",
            "28:\tlearn: 4.7991722\ttotal: 364ms\tremaining: 12.5ms\n",
            "29:\tlearn: 4.7622897\ttotal: 374ms\tremaining: 0us\n",
            "0:\tlearn: 6.9360826\ttotal: 10.1ms\tremaining: 294ms\n",
            "1:\tlearn: 6.5788209\ttotal: 20.7ms\tremaining: 289ms\n",
            "2:\tlearn: 6.3884038\ttotal: 30.5ms\tremaining: 274ms\n",
            "3:\tlearn: 6.2274612\ttotal: 40.7ms\tremaining: 265ms\n",
            "4:\tlearn: 6.0973555\ttotal: 50.4ms\tremaining: 252ms\n",
            "5:\tlearn: 5.9951274\ttotal: 63.8ms\tremaining: 255ms\n",
            "6:\tlearn: 5.9163965\ttotal: 78.4ms\tremaining: 258ms\n",
            "7:\tlearn: 5.8330876\ttotal: 93.8ms\tremaining: 258ms\n",
            "8:\tlearn: 5.7589350\ttotal: 105ms\tremaining: 246ms\n",
            "9:\tlearn: 5.6997793\ttotal: 116ms\tremaining: 233ms\n",
            "10:\tlearn: 5.6123926\ttotal: 128ms\tremaining: 221ms\n",
            "11:\tlearn: 5.5287584\ttotal: 139ms\tremaining: 208ms\n",
            "12:\tlearn: 5.4423127\ttotal: 151ms\tremaining: 198ms\n",
            "13:\tlearn: 5.3772375\ttotal: 165ms\tremaining: 188ms\n",
            "14:\tlearn: 5.2908999\ttotal: 179ms\tremaining: 179ms\n",
            "15:\tlearn: 5.2524283\ttotal: 190ms\tremaining: 167ms\n",
            "16:\tlearn: 5.1884543\ttotal: 200ms\tremaining: 153ms\n",
            "17:\tlearn: 5.1525606\ttotal: 211ms\tremaining: 140ms\n",
            "18:\tlearn: 5.1168047\ttotal: 220ms\tremaining: 127ms\n",
            "19:\tlearn: 5.0729662\ttotal: 231ms\tremaining: 115ms\n",
            "20:\tlearn: 5.0246592\ttotal: 241ms\tremaining: 103ms\n",
            "21:\tlearn: 4.9834860\ttotal: 257ms\tremaining: 93.4ms\n",
            "22:\tlearn: 4.9395212\ttotal: 272ms\tremaining: 82.7ms\n",
            "23:\tlearn: 4.9118541\ttotal: 282ms\tremaining: 70.6ms\n",
            "24:\tlearn: 4.8589428\ttotal: 294ms\tremaining: 58.7ms\n",
            "25:\tlearn: 4.8271123\ttotal: 304ms\tremaining: 46.8ms\n",
            "26:\tlearn: 4.8008067\ttotal: 314ms\tremaining: 34.9ms\n",
            "27:\tlearn: 4.7605157\ttotal: 324ms\tremaining: 23.2ms\n",
            "28:\tlearn: 4.7300909\ttotal: 334ms\tremaining: 11.5ms\n",
            "29:\tlearn: 4.6956612\ttotal: 347ms\tremaining: 0us\n",
            "0:\tlearn: 6.6359209\ttotal: 164ms\tremaining: 4.75s\n",
            "1:\tlearn: 6.1573562\ttotal: 317ms\tremaining: 4.43s\n",
            "2:\tlearn: 5.9492045\ttotal: 479ms\tremaining: 4.32s\n",
            "3:\tlearn: 5.7311808\ttotal: 634ms\tremaining: 4.12s\n",
            "4:\tlearn: 5.4720139\ttotal: 792ms\tremaining: 3.96s\n",
            "5:\tlearn: 5.2941217\ttotal: 948ms\tremaining: 3.79s\n",
            "6:\tlearn: 5.1220758\ttotal: 1.11s\tremaining: 3.64s\n",
            "7:\tlearn: 5.0404251\ttotal: 1.27s\tremaining: 3.49s\n",
            "8:\tlearn: 4.9203307\ttotal: 1.42s\tremaining: 3.3s\n",
            "9:\tlearn: 4.7965765\ttotal: 1.58s\tremaining: 3.16s\n",
            "10:\tlearn: 4.7207243\ttotal: 1.75s\tremaining: 3.02s\n",
            "11:\tlearn: 4.5827175\ttotal: 1.9s\tremaining: 2.85s\n",
            "12:\tlearn: 4.4241778\ttotal: 2.08s\tremaining: 2.71s\n",
            "13:\tlearn: 4.3270246\ttotal: 2.23s\tremaining: 2.55s\n",
            "14:\tlearn: 4.2321713\ttotal: 2.38s\tremaining: 2.38s\n",
            "15:\tlearn: 4.1524873\ttotal: 2.55s\tremaining: 2.23s\n",
            "16:\tlearn: 4.0171969\ttotal: 2.74s\tremaining: 2.1s\n",
            "17:\tlearn: 3.9395193\ttotal: 2.9s\tremaining: 1.93s\n",
            "18:\tlearn: 3.8527635\ttotal: 3.11s\tremaining: 1.8s\n",
            "19:\tlearn: 3.7659508\ttotal: 3.3s\tremaining: 1.65s\n",
            "20:\tlearn: 3.6888515\ttotal: 3.5s\tremaining: 1.5s\n",
            "21:\tlearn: 3.6228793\ttotal: 3.67s\tremaining: 1.33s\n",
            "22:\tlearn: 3.5531572\ttotal: 3.83s\tremaining: 1.17s\n",
            "23:\tlearn: 3.4711417\ttotal: 3.98s\tremaining: 994ms\n",
            "24:\tlearn: 3.3992803\ttotal: 4.14s\tremaining: 827ms\n",
            "25:\tlearn: 3.3579295\ttotal: 4.29s\tremaining: 660ms\n",
            "26:\tlearn: 3.2901516\ttotal: 4.46s\tremaining: 496ms\n",
            "27:\tlearn: 3.2216693\ttotal: 4.62s\tremaining: 330ms\n",
            "28:\tlearn: 3.1743815\ttotal: 4.77s\tremaining: 164ms\n",
            "29:\tlearn: 3.1343059\ttotal: 4.93s\tremaining: 0us\n",
            "0:\tlearn: 6.4336924\ttotal: 142ms\tremaining: 4.11s\n",
            "1:\tlearn: 6.0608637\ttotal: 312ms\tremaining: 4.36s\n",
            "2:\tlearn: 5.7739468\ttotal: 468ms\tremaining: 4.21s\n",
            "3:\tlearn: 5.5097460\ttotal: 617ms\tremaining: 4.01s\n",
            "4:\tlearn: 5.3418018\ttotal: 779ms\tremaining: 3.89s\n",
            "5:\tlearn: 5.1230603\ttotal: 924ms\tremaining: 3.69s\n",
            "6:\tlearn: 4.9855671\ttotal: 1.08s\tremaining: 3.56s\n",
            "7:\tlearn: 4.8232723\ttotal: 1.23s\tremaining: 3.37s\n",
            "8:\tlearn: 4.6851642\ttotal: 1.38s\tremaining: 3.23s\n",
            "9:\tlearn: 4.5525310\ttotal: 1.53s\tremaining: 3.07s\n",
            "10:\tlearn: 4.4574077\ttotal: 1.69s\tremaining: 2.92s\n",
            "11:\tlearn: 4.3039473\ttotal: 1.84s\tremaining: 2.76s\n",
            "12:\tlearn: 4.2066474\ttotal: 2s\tremaining: 2.62s\n",
            "13:\tlearn: 4.1175327\ttotal: 2.16s\tremaining: 2.47s\n",
            "14:\tlearn: 3.9915046\ttotal: 2.32s\tremaining: 2.32s\n",
            "15:\tlearn: 3.9126335\ttotal: 2.48s\tremaining: 2.17s\n",
            "16:\tlearn: 3.7857238\ttotal: 2.64s\tremaining: 2.02s\n",
            "17:\tlearn: 3.6932372\ttotal: 2.81s\tremaining: 1.87s\n",
            "18:\tlearn: 3.6287264\ttotal: 2.97s\tremaining: 1.72s\n",
            "19:\tlearn: 3.5326902\ttotal: 3.11s\tremaining: 1.55s\n",
            "20:\tlearn: 3.4169690\ttotal: 3.27s\tremaining: 1.4s\n",
            "21:\tlearn: 3.3508933\ttotal: 3.43s\tremaining: 1.25s\n",
            "22:\tlearn: 3.2918776\ttotal: 3.59s\tremaining: 1.09s\n",
            "23:\tlearn: 3.2369629\ttotal: 3.74s\tremaining: 934ms\n",
            "24:\tlearn: 3.1633693\ttotal: 3.89s\tremaining: 779ms\n",
            "25:\tlearn: 3.0903709\ttotal: 4.06s\tremaining: 625ms\n",
            "26:\tlearn: 2.9907380\ttotal: 4.21s\tremaining: 467ms\n",
            "27:\tlearn: 2.9140230\ttotal: 4.37s\tremaining: 312ms\n",
            "28:\tlearn: 2.8435408\ttotal: 4.51s\tremaining: 156ms\n",
            "29:\tlearn: 2.7894920\ttotal: 4.68s\tremaining: 0us\n",
            "0:\tlearn: 6.3761851\ttotal: 256ms\tremaining: 7.42s\n",
            "1:\tlearn: 6.0354271\ttotal: 429ms\tremaining: 6.01s\n",
            "2:\tlearn: 5.7712326\ttotal: 593ms\tremaining: 5.33s\n",
            "3:\tlearn: 5.5580801\ttotal: 762ms\tremaining: 4.95s\n",
            "4:\tlearn: 5.4206862\ttotal: 954ms\tremaining: 4.77s\n",
            "5:\tlearn: 5.2635451\ttotal: 1.14s\tremaining: 4.57s\n",
            "6:\tlearn: 5.1197658\ttotal: 1.31s\tremaining: 4.32s\n",
            "7:\tlearn: 4.9812119\ttotal: 1.49s\tremaining: 4.1s\n",
            "8:\tlearn: 4.8522670\ttotal: 1.67s\tremaining: 3.89s\n",
            "9:\tlearn: 4.7092448\ttotal: 1.86s\tremaining: 3.71s\n",
            "10:\tlearn: 4.6007668\ttotal: 2.06s\tremaining: 3.55s\n",
            "11:\tlearn: 4.4430325\ttotal: 2.27s\tremaining: 3.41s\n",
            "12:\tlearn: 4.3445970\ttotal: 2.49s\tremaining: 3.26s\n",
            "13:\tlearn: 4.2144596\ttotal: 2.7s\tremaining: 3.08s\n",
            "14:\tlearn: 4.1489178\ttotal: 2.88s\tremaining: 2.88s\n",
            "15:\tlearn: 4.0262027\ttotal: 3.05s\tremaining: 2.67s\n",
            "16:\tlearn: 3.9525810\ttotal: 3.21s\tremaining: 2.45s\n",
            "17:\tlearn: 3.8623310\ttotal: 3.37s\tremaining: 2.25s\n",
            "18:\tlearn: 3.7932474\ttotal: 3.52s\tremaining: 2.04s\n",
            "19:\tlearn: 3.6961162\ttotal: 3.69s\tremaining: 1.85s\n",
            "20:\tlearn: 3.5924044\ttotal: 3.87s\tremaining: 1.66s\n",
            "21:\tlearn: 3.5300577\ttotal: 4.07s\tremaining: 1.48s\n",
            "22:\tlearn: 3.4675534\ttotal: 4.28s\tremaining: 1.3s\n",
            "23:\tlearn: 3.3871386\ttotal: 4.45s\tremaining: 1.11s\n",
            "24:\tlearn: 3.3128140\ttotal: 4.6s\tremaining: 920ms\n",
            "25:\tlearn: 3.2712529\ttotal: 4.77s\tremaining: 734ms\n",
            "26:\tlearn: 3.1903295\ttotal: 4.93s\tremaining: 548ms\n",
            "27:\tlearn: 3.1379548\ttotal: 5.15s\tremaining: 368ms\n",
            "28:\tlearn: 3.0471744\ttotal: 5.3s\tremaining: 183ms\n",
            "29:\tlearn: 2.9718238\ttotal: 5.46s\tremaining: 0us\n",
            "0:\tlearn: 6.3811694\ttotal: 194ms\tremaining: 5.62s\n",
            "1:\tlearn: 5.9510314\ttotal: 340ms\tremaining: 4.75s\n",
            "2:\tlearn: 5.6291590\ttotal: 510ms\tremaining: 4.58s\n",
            "3:\tlearn: 5.4330793\ttotal: 664ms\tremaining: 4.32s\n",
            "4:\tlearn: 5.2561465\ttotal: 813ms\tremaining: 4.06s\n",
            "5:\tlearn: 5.0680366\ttotal: 971ms\tremaining: 3.88s\n",
            "6:\tlearn: 4.8723379\ttotal: 1.12s\tremaining: 3.68s\n",
            "7:\tlearn: 4.7199419\ttotal: 1.28s\tremaining: 3.54s\n",
            "8:\tlearn: 4.6213820\ttotal: 1.45s\tremaining: 3.37s\n",
            "9:\tlearn: 4.4057684\ttotal: 1.6s\tremaining: 3.21s\n",
            "10:\tlearn: 4.2798311\ttotal: 1.77s\tremaining: 3.06s\n",
            "11:\tlearn: 4.1810528\ttotal: 1.92s\tremaining: 2.87s\n",
            "12:\tlearn: 4.0470000\ttotal: 2.08s\tremaining: 2.72s\n",
            "13:\tlearn: 3.9874707\ttotal: 2.22s\tremaining: 2.54s\n",
            "14:\tlearn: 3.9043289\ttotal: 2.38s\tremaining: 2.38s\n",
            "15:\tlearn: 3.8115768\ttotal: 2.53s\tremaining: 2.21s\n",
            "16:\tlearn: 3.7213959\ttotal: 2.69s\tremaining: 2.06s\n",
            "17:\tlearn: 3.6158505\ttotal: 2.84s\tremaining: 1.89s\n",
            "18:\tlearn: 3.5463063\ttotal: 3s\tremaining: 1.73s\n",
            "19:\tlearn: 3.4640441\ttotal: 3.15s\tremaining: 1.57s\n",
            "20:\tlearn: 3.3822259\ttotal: 3.3s\tremaining: 1.41s\n",
            "21:\tlearn: 3.3290547\ttotal: 3.45s\tremaining: 1.25s\n",
            "22:\tlearn: 3.2650251\ttotal: 3.62s\tremaining: 1.1s\n",
            "23:\tlearn: 3.1698461\ttotal: 3.79s\tremaining: 947ms\n",
            "24:\tlearn: 3.0750313\ttotal: 3.96s\tremaining: 791ms\n",
            "25:\tlearn: 3.0080224\ttotal: 4.12s\tremaining: 633ms\n",
            "26:\tlearn: 2.9645576\ttotal: 4.28s\tremaining: 476ms\n",
            "27:\tlearn: 2.8570194\ttotal: 4.46s\tremaining: 319ms\n",
            "28:\tlearn: 2.8020941\ttotal: 4.66s\tremaining: 161ms\n",
            "29:\tlearn: 2.7091208\ttotal: 4.84s\tremaining: 0us\n",
            "0:\tlearn: 6.4336950\ttotal: 187ms\tremaining: 5.43s\n",
            "1:\tlearn: 5.9779253\ttotal: 387ms\tremaining: 5.42s\n",
            "2:\tlearn: 5.7376597\ttotal: 567ms\tremaining: 5.11s\n",
            "3:\tlearn: 5.4441423\ttotal: 735ms\tremaining: 4.78s\n",
            "4:\tlearn: 5.2705063\ttotal: 881ms\tremaining: 4.4s\n",
            "5:\tlearn: 5.0918286\ttotal: 1.04s\tremaining: 4.15s\n",
            "6:\tlearn: 4.9330639\ttotal: 1.19s\tremaining: 3.9s\n",
            "7:\tlearn: 4.7884721\ttotal: 1.36s\tremaining: 3.73s\n",
            "8:\tlearn: 4.6261636\ttotal: 1.52s\tremaining: 3.54s\n",
            "9:\tlearn: 4.4927721\ttotal: 1.67s\tremaining: 3.34s\n",
            "10:\tlearn: 4.3696204\ttotal: 1.83s\tremaining: 3.16s\n",
            "11:\tlearn: 4.2630983\ttotal: 1.97s\tremaining: 2.96s\n",
            "12:\tlearn: 4.1293465\ttotal: 2.13s\tremaining: 2.79s\n",
            "13:\tlearn: 3.9776606\ttotal: 2.29s\tremaining: 2.61s\n",
            "14:\tlearn: 3.8580554\ttotal: 2.44s\tremaining: 2.44s\n",
            "15:\tlearn: 3.7820321\ttotal: 2.59s\tremaining: 2.26s\n",
            "16:\tlearn: 3.7139391\ttotal: 2.74s\tremaining: 2.1s\n",
            "17:\tlearn: 3.6273519\ttotal: 2.89s\tremaining: 1.92s\n",
            "18:\tlearn: 3.5479330\ttotal: 3.05s\tremaining: 1.76s\n",
            "19:\tlearn: 3.4354976\ttotal: 3.2s\tremaining: 1.6s\n",
            "20:\tlearn: 3.3527413\ttotal: 3.36s\tremaining: 1.44s\n",
            "21:\tlearn: 3.2760017\ttotal: 3.51s\tremaining: 1.27s\n",
            "22:\tlearn: 3.1952742\ttotal: 3.65s\tremaining: 1.11s\n",
            "23:\tlearn: 3.1187541\ttotal: 3.81s\tremaining: 952ms\n",
            "24:\tlearn: 3.0583235\ttotal: 3.95s\tremaining: 791ms\n",
            "25:\tlearn: 2.9764337\ttotal: 4.11s\tremaining: 633ms\n",
            "26:\tlearn: 2.9172086\ttotal: 4.26s\tremaining: 473ms\n",
            "27:\tlearn: 2.8616819\ttotal: 4.42s\tremaining: 315ms\n",
            "28:\tlearn: 2.8196158\ttotal: 4.56s\tremaining: 157ms\n",
            "29:\tlearn: 2.7542771\ttotal: 4.72s\tremaining: 0us\n",
            "0:\tlearn: 6.2552474\ttotal: 149ms\tremaining: 4.32s\n",
            "1:\tlearn: 5.7901166\ttotal: 310ms\tremaining: 4.34s\n",
            "2:\tlearn: 5.4311039\ttotal: 457ms\tremaining: 4.12s\n",
            "3:\tlearn: 5.2644103\ttotal: 634ms\tremaining: 4.12s\n",
            "4:\tlearn: 5.1460346\ttotal: 809ms\tremaining: 4.04s\n",
            "5:\tlearn: 4.9471201\ttotal: 970ms\tremaining: 3.88s\n",
            "6:\tlearn: 4.7894018\ttotal: 1.12s\tremaining: 3.68s\n",
            "7:\tlearn: 4.6446813\ttotal: 1.26s\tremaining: 3.48s\n",
            "8:\tlearn: 4.4896626\ttotal: 1.42s\tremaining: 3.31s\n",
            "9:\tlearn: 4.3729004\ttotal: 1.56s\tremaining: 3.13s\n",
            "10:\tlearn: 4.2701776\ttotal: 1.72s\tremaining: 2.97s\n",
            "11:\tlearn: 4.1891124\ttotal: 1.86s\tremaining: 2.79s\n",
            "12:\tlearn: 4.0324267\ttotal: 2.02s\tremaining: 2.64s\n",
            "13:\tlearn: 3.9068120\ttotal: 2.16s\tremaining: 2.47s\n",
            "14:\tlearn: 3.8150855\ttotal: 2.32s\tremaining: 2.32s\n",
            "15:\tlearn: 3.7769556\ttotal: 2.47s\tremaining: 2.16s\n",
            "16:\tlearn: 3.7041644\ttotal: 2.63s\tremaining: 2.01s\n",
            "17:\tlearn: 3.6367208\ttotal: 2.8s\tremaining: 1.87s\n",
            "18:\tlearn: 3.5438015\ttotal: 2.97s\tremaining: 1.72s\n",
            "19:\tlearn: 3.4632820\ttotal: 3.13s\tremaining: 1.57s\n",
            "20:\tlearn: 3.3869590\ttotal: 3.31s\tremaining: 1.42s\n",
            "21:\tlearn: 3.3292461\ttotal: 3.48s\tremaining: 1.27s\n",
            "22:\tlearn: 3.2690554\ttotal: 3.65s\tremaining: 1.11s\n",
            "23:\tlearn: 3.1598466\ttotal: 3.88s\tremaining: 969ms\n",
            "24:\tlearn: 3.0976398\ttotal: 4.03s\tremaining: 806ms\n",
            "25:\tlearn: 3.0458346\ttotal: 4.2s\tremaining: 647ms\n",
            "26:\tlearn: 3.0063128\ttotal: 4.37s\tremaining: 485ms\n",
            "27:\tlearn: 2.9401806\ttotal: 4.55s\tremaining: 325ms\n",
            "28:\tlearn: 2.8705189\ttotal: 4.77s\tremaining: 164ms\n",
            "29:\tlearn: 2.7672821\ttotal: 4.99s\tremaining: 0us\n"
          ]
        }
      ],
      "source": [
        "# сразу будем подбирать гиперпараметры для минимизации метрики\n",
        "\n",
        "%time\n",
        "\n",
        "smape_catboost_final = 1000\n",
        "for iter in range(10, 40, 10):\n",
        "    for dep in range (5, 15, 5):\n",
        "        model_catboost = CatBoostRegressor(iterations=iter,\n",
        "                          depth=dep,\n",
        "                          learning_rate=1,\n",
        "                          loss_function='RMSE')\n",
        "\n",
        "        model_catboost.fit(features_train, final_recovery_train)\n",
        "\n",
        "        smape_model = cross_val_score(model_catboost, features_train, \\\n",
        "                                     final_recovery_train, cv=5, scoring=smape_score).mean()\n",
        "        if smape_model < smape_catboost_final:\n",
        "            smape_catboost_final = smape_model\n",
        "            model_catboost_final = model_catboost"
      ]
    },
    {
      "cell_type": "code",
      "execution_count": null,
      "metadata": {
        "id": "hyaZcUEFxPGt",
        "outputId": "4306de63-4dcc-424c-9bc8-bfc3c3b31501"
      },
      "outputs": [
        {
          "name": "stdout",
          "output_type": "stream",
          "text": [
            "sMAPE общей эффективности для модели CatBoost =  10.034278540984761\n"
          ]
        }
      ],
      "source": [
        "print('sMAPE общей эффективности для модели CatBoost = ',smape_catboost_final)\n",
        "#print(f'Параметры модели: максимальная глубина деревьев = {smape_catboost_rougher.max_depth},'\n",
        "#      f'количество деревьев = {model_forest_rougher.n_estimators}')"
      ]
    },
    {
      "cell_type": "markdown",
      "metadata": {
        "id": "MAUH0YgzxPGt"
      },
      "source": [
        "Возможно, для эффективности флотации качество предсказаний тоже можно сделать существенно лучше - однако помним, что мы весьма ограничены в вычислительных мощностях."
      ]
    },
    {
      "cell_type": "markdown",
      "metadata": {
        "id": "dhiGfDHhxPGu"
      },
      "source": [
        "##### Выбор модели"
      ]
    },
    {
      "cell_type": "markdown",
      "metadata": {
        "id": "g9NR5ZLHxPGu"
      },
      "source": [
        "Для выбора модели пользуемся благами планирования, составим сводную таблицу для пзначений метрики sMAPE для эффективности флотации и общей эффективности"
      ]
    },
    {
      "cell_type": "code",
      "execution_count": null,
      "metadata": {
        "id": "WGgUce5NxPGv"
      },
      "outputs": [],
      "source": [
        "smape_all = pd.DataFrame({\n",
        "#    'Model': ['LinearRegresion', 'RandomForest', 'GradientBoosting', 'CatBoost'],\n",
        "    'sMAPE_rouher': [smape_linear_rougher.mean(), smape_forest_rougher, smape_gbr_rougher, smape_catboost_rougher],\n",
        "    'sMAPE_final': [smape_linear_final.mean(), smape_forest_final, smape_gbr_final, smape_catboost_final],\n",
        "})"
      ]
    },
    {
      "cell_type": "code",
      "execution_count": null,
      "metadata": {
        "id": "YLi9qOLixPGv",
        "outputId": "4c9d9d3e-9581-400c-e3be-140fd0366b0c"
      },
      "outputs": [
        {
          "data": {
            "text/plain": [
              "[]"
            ]
          },
          "execution_count": 74,
          "metadata": {},
          "output_type": "execute_result"
        },
        {
          "data": {
            "image/png": "[encoded data removed]",
            "text/plain": [
              "<Figure size 432x288 with 2 Axes>"
            ]
          },
          "metadata": {
            "needs_background": "light"
          },
          "output_type": "display_data"
        }
      ],
      "source": [
        "smape_heat = sns.heatmap(smape_all, annot=True, fmt=\".2f\", cmap='seismic', yticklabels=['LR','RF','GB','CB'])\n",
        "#smape_heat.set(ylabel=['LinearRegresion', 'RandomForest', 'GradientBoosting', 'CatBoost'])\n",
        "smape_heat.set(ylabel='Models', title = 'sMAPE for different models')\n",
        "smape_heat.plot()"
      ]
    },
    {
      "cell_type": "markdown",
      "metadata": {
        "id": "-4ba8VrexPGv"
      },
      "source": [
        "По тепловой карте наглядно видно, что для прогнозирования эффективности флотации хорошо подходит модель случайного леса - она существенно эффективнее остальных.\n",
        "\n",
        "Что касается прогноза общей эффективности, на пьедестале более продвинутые модели - градиентный спуск"
      ]
    },
    {
      "cell_type": "markdown",
      "metadata": {
        "id": "JXAUSlvFxPGw"
      },
      "source": [
        "Тогда предварительно рассчитанная метрика sMAPE для этой линейной комбинации выбранных параметров:"
      ]
    },
    {
      "cell_type": "code",
      "execution_count": null,
      "metadata": {
        "scrolled": false,
        "id": "BpP2hOicxPGw",
        "outputId": "6d0bb2c4-afdd-4f8f-d17b-9d2e6f60b98c"
      },
      "outputs": [
        {
          "name": "stdout",
          "output_type": "stream",
          "text": [
            "Итоговая метрика эффективности sMAPE_total=7.75\n"
          ]
        }
      ],
      "source": [
        "print(f'Итоговая метрика эффективности sMAPE_total={smape_total(smape_forest_rougher, smape_gbr_final):.2f}')"
      ]
    },
    {
      "cell_type": "markdown",
      "metadata": {
        "id": "UPZPEvlsxPGw"
      },
      "source": [
        "##### Проверка модели"
      ]
    },
    {
      "cell_type": "markdown",
      "metadata": {
        "id": "_ZA3HTbYxPGw"
      },
      "source": [
        "Теперь посчитаем, наконец, sMAPE на тестовой выборке:"
      ]
    },
    {
      "cell_type": "code",
      "execution_count": null,
      "metadata": {
        "id": "l0Z7iheZxPGw"
      },
      "outputs": [],
      "source": [
        "final_predict = model_gbr_final.predict(features_test)\n",
        "smape_final_last = smape(final_recovery_test, final_predict)"
      ]
    },
    {
      "cell_type": "code",
      "execution_count": null,
      "metadata": {
        "id": "oBbehtGexPGx"
      },
      "outputs": [],
      "source": [
        "rougher_predict = model_forest_rougher.predict(features_rougher_test)\n",
        "smape_rougher_last = smape(rougher_recovery_test, rougher_predict)"
      ]
    },
    {
      "cell_type": "markdown",
      "metadata": {
        "id": "YuN5aXGSxPGx"
      },
      "source": [
        "Таким образом, общая эффективность sMAPE всего технологического процесса обогащения золотой руды:"
      ]
    },
    {
      "cell_type": "code",
      "execution_count": null,
      "metadata": {
        "id": "qn-nAh-FxPGx",
        "outputId": "d0acc269-6cae-4899-d038-8303710d5a98"
      },
      "outputs": [
        {
          "name": "stdout",
          "output_type": "stream",
          "text": [
            "Итоговая метрика эффективности sMAPE_total=9.08\n"
          ]
        }
      ],
      "source": [
        "print(f'Итоговая метрика эффективности sMAPE_total={smape_total(smape_rougher_last, smape_final_last):.2f}')"
      ]
    },
    {
      "cell_type": "markdown",
      "metadata": {
        "id": "ksrpy_jGxPGy"
      },
      "source": [
        "Для дополнительной проверки эффективности предсказаний получившейся линейной комбинации моделей сравним получившийся sMAPE с такой же метрикой, рассчитанной для константной модели, использующей в качестве предсказания медиану целевого признака обучающей выборки:"
      ]
    },
    {
      "cell_type": "code",
      "execution_count": null,
      "metadata": {
        "id": "cP7MUD1XxPGy"
      },
      "outputs": [],
      "source": [
        "smape_const_final = smape([final_recovery_train.mean()] * len(final_recovery_test), final_recovery_test)\n",
        "smape_const_rougher = smape([rougher_recovery_train.mean()] * len(rougher_recovery_test), rougher_recovery_test)"
      ]
    },
    {
      "cell_type": "code",
      "execution_count": null,
      "metadata": {
        "id": "zHsVkt27xPGy",
        "outputId": "67d79a94-5f68-4052-b044-05606a97de71"
      },
      "outputs": [
        {
          "name": "stdout",
          "output_type": "stream",
          "text": [
            "Итоговая метрика эффективности sMAPE_total для константной модели = 9.60\n"
          ]
        }
      ],
      "source": [
        "print(f'Итоговая метрика эффективности sMAPE_total для константной модели = '\n",
        "      f'{smape_total(smape_const_rougher, smape_const_final):.2f}')"
      ]
    },
    {
      "cell_type": "markdown",
      "metadata": {
        "id": "xCj8xHv_xPGy"
      },
      "source": [
        "ВЫВОД:\n",
        "Данные подготовлены к обучению моделей: удалены пропуски и нулевые значения, обучающий и тренировочный датасеты разбиты на признаки и целевые признаки, удалены лишние столбцы с вычисляемыми параметрами. Для каждого из целевых признаков выбрана наиболее оптимальная модель прогноза через призму минимизации метрики sMAPE. Определено, что для эффективности флотации наиболее оптимальной является модель случайного леса, а для итоговой эффективности - модель градиентного спуска. Проведена доволнительная кросс-проверка на подвыборках для наиболее оптимальной выбранной модели.\n",
        "\n",
        "Итогое значение метрики общей эффективности, которой удалось достичь: sMAPE_total = 9.08!\n",
        "\n",
        "Проведено сравнение с константной моделью, для неё sMAPE_total = 9.60\n",
        "\n",
        "Константная модель показывает себя хуже на пять процентов, однако значения довольно очень близки. Это говорит о том, что в целом в данной задаче регрессии можно ориентироваться на медианное значение целевых признаков."
      ]
    },
    {
      "cell_type": "markdown",
      "metadata": {
        "id": "Htx69h4YxPGy"
      },
      "source": [
        "## Общий вывод"
      ]
    },
    {
      "cell_type": "markdown",
      "metadata": {
        "id": "9S2C0w4vxPGz"
      },
      "source": [
        "Проект посвящён разработке прототипа машинного обучения, предназначенного для прогнозирования эффективности преобразования смеси золотоносной руды в финальный концентрат на двух этапах: начальном этапе флотации и итоговой  эффективности после всех шагов. Общая эффективность процессе представляет собой линейную комбинацию указанных ранее эффективностей. В качестве метрики используется sMAPE, вычисляемая как:\n",
        "\n",
        "$ sMAPE = \\frac{1}{N} \\times \\sum\\limits_{i=1}^n \\frac{2|y_{i} - \\hat{y_{i}}|}{|y_{i}| + |\\hat{y_{i}}|} \\times 100\\%$, где:\n",
        "\n",
        "$y_{i}$ - истинное значение целевого признака\n",
        "\n",
        "$\\hat{y_{i}}$ - предсказание целевого признака\n",
        "\n",
        "N - количество объектов в выборке\n",
        "\n",
        "Первая часть проекта посвящена выгрузке данных и их предварительному обзору. Обнаружено, что во всех датасетах тип данных в каждой колонке соответсвует ожидаемому. Замечено, что в тестовой выборке отсутствуют некоторые столбцы - это связано с тем, что некоторые параметры являются вычисляемыми. Проверена корректность вычисления на обучающей выборке на признаке rougher.output.recovery - это эффективность обогащения чернового концентрата, то есть это эффективность флотации - этапа конвертации руды в черновой концентрат. Средняя абсолютная ошибка эффективности ошибки = $ 9.7\\times10^{-15}$, что говорит о корректности вычисления эффективности. Изучено распределение одного из целевых признаков - эффективности обогащения финального концентрата. Распределение носит нормальный характер с медианным значением, равным 66.91. В целевых признаках удалены пропуски и аномальные значения.\n",
        "\n",
        "Следующая часть работы посвящена предварительному анализу данных. Исследованы концетрации трёх металлов: золота, серебра и свинца на четырёх различных этапах: черновом концентрате, флотации, первом и втором этапах очистки. Для золота медианное значение концентрации на каждом этапе, соответствующее пику каждого распределения - смещается вправо, что соответсвует росту концентрации после каждого этапа. Это соответствует сути процесса, ведь цель - максимально очистить золото от примесей. Концентрация свинца уменьшается после флотации, а вот дальше концентрация свинца слабо меняется. Это обусловлено особенностями технологического процесса, а повышение концентрации золота достигается путём очистки от иных примесей. Что касается серебра, пики распределний смещаются влево от этапа к этапу - то есть концентрация серебра на каждом следующем этапе уменьшается. Серебро в данном случае является примесным металлом - значит, технологический процесс должен быть направлен на уменьшение их концентрации - что и видно на гистограмме.\n",
        "\n",
        "Проведено сравнение гранул сырья в обучаюющей и тестовой выборках. Из описания технологического процесса знаем, что размер гранул сырья - одно из важных параметров технологического процесса. Если в обучающей и тестовой выборке гранулы существенно отличаются друг от друга - результаты прогнозирования могут получится некорректными. Для более детальной оценки проверена гипотеза о равенстве средних двух выборок методом статистического t-теста. Обнаружено, что перед флотацией размер гранул с высоким уровнем достоверности отличается - нулевая гипотеза о равенстве средних отвергнута, что позволяет поднять вопрос о репрезентативности тестовой выборки и может повлиять на качество прогнозирования. Однако, нет оснований утверждать о различии среднего размера гранул сырья перед первичной очисткой с высоким уровнем достоверности. Все распределения носят нормальный характер.\n",
        "\n",
        "Также рассмотрено распределение суммарной концентрации всех веществ на всех стадиях. Распределения традиционно и ожидаемо носят нормальный характер. Проведён статистический т-тест сравнения средних распределения. Любопытно, что средние концентрации после флотации с высоким уровнем значимости не отличаются от среднего финального продукта.\n",
        "\n",
        "Следующая глава посвящена построению и оптимизации моделей, выбора наиболее оптимальной, а также дополнительным проверкам выбранной модели. Предварительно проведена дополнительная подготовка данных для обучения моделей: удалены пропуски и нулевые значения, проведена нормализация данных с целью устранения высокой разницы в масштабах признаков. Решаемая задача - задача регрессии с учителем.\n",
        "\n",
        "Для повышения эффективности предсказаний решено поступить следующим образом: для каждого из целевых признаков обучать модели независимо, а затем выбрать наиболее оптимальную для каждого целевого параметра через призму минимизации метрики sMAPE, исходя из того, что минимум линейной комбинации соответствует минимуму каждого члена выражения. Проверены следующие модели: линейная регрессия, случайный лес, градиентный спуск и модель СatBoost, использующая под капотом усовершенстованное использование деревьев решений. Внутри каждой модели проведена оптимизация путём подбора гиперпараметров: количества деревьев, максимальной глубины и тд. Модель выбиралась с использованием кросс-валидации.\n",
        "\n",
        "В результате выбраны следующие модели: для эффективности флотации - лслучайный лес, для финальной эффективности - модель градиентного спуска. Для выбранных моделей рассчитанно значение sMAPE на тестовой отложенной выборке. Финальная достигнутая метрика $sMAPE_{total}^{model} = 9.08$.\n",
        "\n",
        "В качестве проверки эффективности работы модели проведено сравнение с метрикой, вычисленной на основе константной модели, заменяющей предсказания на медианное значения целевого признака обучающей выборки. Установлено, что для такой модели $sMAPE_{total}^{constant} = 9.60$. Это говорит о том, что с текущей точностью предсказания моделей при отсутствии существенных изменений параметров технологического процесса можно не расходовать вычислительные мощности на прогнозирование эффектинвости, а ориентироваться на медианное значение эффективности на каждом из двух этапов. Однако можно заметить, что модель всё-таки показывает лучшее качество прогнозирования - значит, при наличии более высоких вычислительных мощностей, которые позволили бы более тонко настроить гиперпараметры выбранных моделей, потенциально можно было бы предсказывать значение эффективностей более качественно."
      ]
    }
  ],
  "metadata": {
    "ExecuteTimeLog": [
      {
        "duration": 435,
        "start_time": "2023-03-07T20:35:49.163Z"
      },
      {
        "duration": 3117,
        "start_time": "2023-03-07T20:37:32.118Z"
      },
      {
        "duration": 442,
        "start_time": "2023-03-08T14:16:03.110Z"
      },
      {
        "duration": 3908,
        "start_time": "2023-03-08T14:16:04.358Z"
      },
      {
        "duration": 26,
        "start_time": "2023-03-08T14:16:41.389Z"
      },
      {
        "duration": 75,
        "start_time": "2023-03-08T14:16:49.576Z"
      },
      {
        "duration": 19,
        "start_time": "2023-03-08T14:16:58.847Z"
      },
      {
        "duration": 422,
        "start_time": "2023-03-09T21:01:43.234Z"
      },
      {
        "duration": 3780,
        "start_time": "2023-03-09T21:01:44.637Z"
      },
      {
        "duration": 27,
        "start_time": "2023-03-09T21:01:48.419Z"
      },
      {
        "duration": 18,
        "start_time": "2023-03-09T21:01:50.504Z"
      },
      {
        "duration": 21,
        "start_time": "2023-03-09T21:02:18.511Z"
      },
      {
        "duration": 12,
        "start_time": "2023-03-09T21:02:27.853Z"
      },
      {
        "duration": 22,
        "start_time": "2023-03-09T21:04:46.326Z"
      },
      {
        "duration": 21,
        "start_time": "2023-03-09T21:04:54.063Z"
      },
      {
        "duration": 14,
        "start_time": "2023-03-09T21:32:05.373Z"
      },
      {
        "duration": 67,
        "start_time": "2023-03-09T21:33:37.562Z"
      },
      {
        "duration": 7,
        "start_time": "2023-03-09T21:34:45.234Z"
      },
      {
        "duration": 580,
        "start_time": "2023-03-09T21:34:50.794Z"
      },
      {
        "duration": 6,
        "start_time": "2023-03-09T21:36:51.943Z"
      },
      {
        "duration": 151,
        "start_time": "2023-03-09T21:37:04.118Z"
      },
      {
        "duration": 3,
        "start_time": "2023-03-09T21:42:54.934Z"
      },
      {
        "duration": 7,
        "start_time": "2023-03-09T21:45:44.085Z"
      },
      {
        "duration": 7,
        "start_time": "2023-03-09T21:45:55.692Z"
      },
      {
        "duration": 149,
        "start_time": "2023-03-09T21:47:46.338Z"
      },
      {
        "duration": 15,
        "start_time": "2023-03-09T21:59:46.640Z"
      },
      {
        "duration": 4,
        "start_time": "2023-03-09T22:00:20.520Z"
      },
      {
        "duration": 5,
        "start_time": "2023-03-09T22:00:29.754Z"
      },
      {
        "duration": 4,
        "start_time": "2023-03-09T22:06:18.752Z"
      },
      {
        "duration": 4,
        "start_time": "2023-03-09T22:06:39.463Z"
      },
      {
        "duration": 74,
        "start_time": "2023-03-09T22:07:01.017Z"
      },
      {
        "duration": 8,
        "start_time": "2023-03-09T22:07:28.202Z"
      },
      {
        "duration": 4,
        "start_time": "2023-03-09T22:07:31.625Z"
      },
      {
        "duration": 113,
        "start_time": "2023-03-09T22:09:42.158Z"
      },
      {
        "duration": 3,
        "start_time": "2023-03-09T22:10:22.977Z"
      },
      {
        "duration": 215,
        "start_time": "2023-03-09T22:10:28.745Z"
      },
      {
        "duration": 68,
        "start_time": "2023-03-09T22:11:09.099Z"
      },
      {
        "duration": 9,
        "start_time": "2023-03-09T22:11:54.556Z"
      },
      {
        "duration": 6,
        "start_time": "2023-03-09T22:15:40.094Z"
      },
      {
        "duration": 128,
        "start_time": "2023-03-09T22:15:45.613Z"
      },
      {
        "duration": 210,
        "start_time": "2023-03-09T22:16:53.931Z"
      },
      {
        "duration": 4,
        "start_time": "2023-03-09T22:18:12.348Z"
      },
      {
        "duration": 9,
        "start_time": "2023-03-09T22:18:31.636Z"
      },
      {
        "duration": 12,
        "start_time": "2023-03-09T22:18:37.716Z"
      },
      {
        "duration": 390,
        "start_time": "2023-03-09T22:18:49.453Z"
      },
      {
        "duration": 10,
        "start_time": "2023-03-09T22:19:07.999Z"
      },
      {
        "duration": 82,
        "start_time": "2023-03-09T22:19:29.197Z"
      },
      {
        "duration": 11,
        "start_time": "2023-03-09T22:19:33.567Z"
      },
      {
        "duration": 10,
        "start_time": "2023-03-09T22:19:40.640Z"
      },
      {
        "duration": 4,
        "start_time": "2023-03-09T22:19:43.368Z"
      },
      {
        "duration": 521,
        "start_time": "2023-03-09T22:36:49.338Z"
      },
      {
        "duration": 532,
        "start_time": "2023-03-09T22:37:24.395Z"
      },
      {
        "duration": 541,
        "start_time": "2023-03-09T22:37:28.665Z"
      },
      {
        "duration": 1020,
        "start_time": "2023-03-09T22:37:38.947Z"
      },
      {
        "duration": 666,
        "start_time": "2023-03-09T22:38:36.974Z"
      },
      {
        "duration": 627,
        "start_time": "2023-03-09T22:38:39.860Z"
      },
      {
        "duration": 1530,
        "start_time": "2023-03-09T22:40:35.267Z"
      },
      {
        "duration": 1052,
        "start_time": "2023-03-09T22:41:16.943Z"
      },
      {
        "duration": 660,
        "start_time": "2023-03-09T22:41:30.621Z"
      },
      {
        "duration": 650,
        "start_time": "2023-03-09T22:44:58.916Z"
      },
      {
        "duration": 667,
        "start_time": "2023-03-09T22:46:34.632Z"
      },
      {
        "duration": 1174,
        "start_time": "2023-03-09T22:50:15.737Z"
      },
      {
        "duration": 630,
        "start_time": "2023-03-09T22:50:22.937Z"
      },
      {
        "duration": 766,
        "start_time": "2023-03-09T23:29:44.264Z"
      },
      {
        "duration": 1204,
        "start_time": "2023-03-09T23:30:29.452Z"
      },
      {
        "duration": 762,
        "start_time": "2023-03-09T23:30:52.188Z"
      },
      {
        "duration": 2,
        "start_time": "2023-03-09T23:35:32.443Z"
      },
      {
        "duration": 102,
        "start_time": "2023-03-09T23:36:41.657Z"
      },
      {
        "duration": 6,
        "start_time": "2023-03-09T23:36:50.690Z"
      },
      {
        "duration": 5,
        "start_time": "2023-03-09T23:38:15.397Z"
      },
      {
        "duration": 6,
        "start_time": "2023-03-09T23:39:46.177Z"
      },
      {
        "duration": 5,
        "start_time": "2023-03-09T23:39:54.737Z"
      },
      {
        "duration": 6,
        "start_time": "2023-03-09T23:40:01.352Z"
      },
      {
        "duration": 6,
        "start_time": "2023-03-09T23:40:05.498Z"
      },
      {
        "duration": 8,
        "start_time": "2023-03-09T23:40:15.440Z"
      },
      {
        "duration": 7,
        "start_time": "2023-03-09T23:51:03.908Z"
      },
      {
        "duration": 57,
        "start_time": "2023-03-09T23:51:55.471Z"
      },
      {
        "duration": 6,
        "start_time": "2023-03-09T23:52:23.529Z"
      },
      {
        "duration": 5,
        "start_time": "2023-03-09T23:52:28.927Z"
      },
      {
        "duration": 5,
        "start_time": "2023-03-09T23:52:36.480Z"
      },
      {
        "duration": 9,
        "start_time": "2023-03-09T23:53:22.609Z"
      },
      {
        "duration": 9,
        "start_time": "2023-03-09T23:53:28.256Z"
      },
      {
        "duration": 5,
        "start_time": "2023-03-09T23:53:31.138Z"
      },
      {
        "duration": 11,
        "start_time": "2023-03-09T23:53:55.362Z"
      },
      {
        "duration": 6,
        "start_time": "2023-03-09T23:53:57.275Z"
      },
      {
        "duration": 8,
        "start_time": "2023-03-09T23:55:21.822Z"
      },
      {
        "duration": 6,
        "start_time": "2023-03-09T23:55:25.997Z"
      },
      {
        "duration": 19,
        "start_time": "2023-03-10T00:01:20.973Z"
      },
      {
        "duration": 14,
        "start_time": "2023-03-10T00:01:36.869Z"
      },
      {
        "duration": 6,
        "start_time": "2023-03-10T00:01:42.206Z"
      },
      {
        "duration": 16,
        "start_time": "2023-03-10T00:01:53.989Z"
      },
      {
        "duration": 7,
        "start_time": "2023-03-10T00:01:55.429Z"
      },
      {
        "duration": 1615,
        "start_time": "2023-03-10T00:03:31.609Z"
      },
      {
        "duration": 765,
        "start_time": "2023-03-10T00:03:57.795Z"
      },
      {
        "duration": 1304,
        "start_time": "2023-03-10T00:04:14.211Z"
      },
      {
        "duration": 765,
        "start_time": "2023-03-10T00:04:57.365Z"
      },
      {
        "duration": 788,
        "start_time": "2023-03-10T00:05:07.997Z"
      },
      {
        "duration": 1308,
        "start_time": "2023-03-10T00:05:14.645Z"
      },
      {
        "duration": 736,
        "start_time": "2023-03-10T00:05:29.526Z"
      },
      {
        "duration": 13,
        "start_time": "2023-03-10T00:06:54.666Z"
      },
      {
        "duration": 7,
        "start_time": "2023-03-10T00:07:22.595Z"
      },
      {
        "duration": 5,
        "start_time": "2023-03-10T00:07:29.589Z"
      },
      {
        "duration": 7,
        "start_time": "2023-03-10T00:07:46.243Z"
      },
      {
        "duration": 6,
        "start_time": "2023-03-10T00:07:48.220Z"
      },
      {
        "duration": 13,
        "start_time": "2023-03-10T00:45:59.779Z"
      },
      {
        "duration": 10,
        "start_time": "2023-03-10T00:46:05.204Z"
      },
      {
        "duration": 598,
        "start_time": "2023-03-10T00:46:06.427Z"
      },
      {
        "duration": 1016,
        "start_time": "2023-03-10T00:46:12.316Z"
      },
      {
        "duration": 615,
        "start_time": "2023-03-10T00:46:22.966Z"
      },
      {
        "duration": 9,
        "start_time": "2023-03-10T00:48:34.578Z"
      },
      {
        "duration": 617,
        "start_time": "2023-03-10T00:48:58.186Z"
      },
      {
        "duration": 16,
        "start_time": "2023-03-10T00:51:04.119Z"
      },
      {
        "duration": 602,
        "start_time": "2023-03-10T00:51:10.881Z"
      },
      {
        "duration": 6,
        "start_time": "2023-03-10T00:51:27.160Z"
      },
      {
        "duration": 1035,
        "start_time": "2023-03-10T00:51:29.288Z"
      },
      {
        "duration": 6,
        "start_time": "2023-03-10T00:52:10.626Z"
      },
      {
        "duration": 6,
        "start_time": "2023-03-10T00:54:30.896Z"
      },
      {
        "duration": 5,
        "start_time": "2023-03-10T00:54:54.311Z"
      },
      {
        "duration": 13,
        "start_time": "2023-03-10T00:55:37.946Z"
      },
      {
        "duration": 6,
        "start_time": "2023-03-10T00:55:39.715Z"
      },
      {
        "duration": 6,
        "start_time": "2023-03-10T00:55:49.114Z"
      },
      {
        "duration": 7,
        "start_time": "2023-03-10T00:55:51.809Z"
      },
      {
        "duration": 3,
        "start_time": "2023-03-10T20:46:11.585Z"
      },
      {
        "duration": 8,
        "start_time": "2023-03-10T20:52:35.833Z"
      },
      {
        "duration": 4,
        "start_time": "2023-03-10T20:52:41.845Z"
      },
      {
        "duration": 64,
        "start_time": "2023-03-10T21:20:15.910Z"
      },
      {
        "duration": 311,
        "start_time": "2023-03-10T22:13:58.434Z"
      },
      {
        "duration": 28,
        "start_time": "2023-03-10T22:14:03.031Z"
      },
      {
        "duration": 7,
        "start_time": "2023-03-10T22:25:53.053Z"
      },
      {
        "duration": 7,
        "start_time": "2023-03-10T22:27:00.919Z"
      },
      {
        "duration": 8,
        "start_time": "2023-03-10T22:28:56.389Z"
      },
      {
        "duration": 19,
        "start_time": "2023-03-10T22:32:51.302Z"
      },
      {
        "duration": 15,
        "start_time": "2023-03-10T22:33:30.049Z"
      },
      {
        "duration": 77,
        "start_time": "2023-03-10T22:33:42.089Z"
      },
      {
        "duration": 583,
        "start_time": "2023-03-10T22:33:49.709Z"
      },
      {
        "duration": 24,
        "start_time": "2023-03-10T22:34:44.658Z"
      },
      {
        "duration": 33,
        "start_time": "2023-03-10T22:35:01.874Z"
      },
      {
        "duration": 7,
        "start_time": "2023-03-10T22:37:14.651Z"
      },
      {
        "duration": 11,
        "start_time": "2023-03-10T22:37:21.480Z"
      },
      {
        "duration": 11,
        "start_time": "2023-03-10T22:37:29.715Z"
      },
      {
        "duration": 17,
        "start_time": "2023-03-10T22:37:38.226Z"
      },
      {
        "duration": 21,
        "start_time": "2023-03-10T22:37:51.859Z"
      },
      {
        "duration": 3,
        "start_time": "2023-03-10T22:41:30.987Z"
      },
      {
        "duration": 11,
        "start_time": "2023-03-10T22:41:38.873Z"
      },
      {
        "duration": 15,
        "start_time": "2023-03-10T22:42:00.285Z"
      },
      {
        "duration": 5,
        "start_time": "2023-03-10T22:42:26.253Z"
      },
      {
        "duration": 8,
        "start_time": "2023-03-10T22:43:26.862Z"
      },
      {
        "duration": 1402,
        "start_time": "2023-03-10T22:43:43.029Z"
      },
      {
        "duration": 842,
        "start_time": "2023-03-10T22:43:44.433Z"
      },
      {
        "duration": 38,
        "start_time": "2023-03-10T22:43:45.278Z"
      },
      {
        "duration": 31,
        "start_time": "2023-03-10T22:43:45.319Z"
      },
      {
        "duration": 36,
        "start_time": "2023-03-10T22:43:45.352Z"
      },
      {
        "duration": 29,
        "start_time": "2023-03-10T22:43:45.391Z"
      },
      {
        "duration": 48,
        "start_time": "2023-03-10T22:43:45.422Z"
      },
      {
        "duration": 30,
        "start_time": "2023-03-10T22:43:45.474Z"
      },
      {
        "duration": 13,
        "start_time": "2023-03-10T22:43:45.506Z"
      },
      {
        "duration": 9,
        "start_time": "2023-03-10T22:43:45.522Z"
      },
      {
        "duration": 262,
        "start_time": "2023-03-10T22:43:45.533Z"
      },
      {
        "duration": 15,
        "start_time": "2023-03-10T22:43:45.797Z"
      },
      {
        "duration": 18,
        "start_time": "2023-03-10T22:43:45.814Z"
      },
      {
        "duration": 15,
        "start_time": "2023-03-10T22:43:45.834Z"
      },
      {
        "duration": 254,
        "start_time": "2023-03-10T22:43:45.850Z"
      },
      {
        "duration": 11,
        "start_time": "2023-03-10T22:43:46.106Z"
      },
      {
        "duration": 793,
        "start_time": "2023-03-10T22:43:46.118Z"
      },
      {
        "duration": 719,
        "start_time": "2023-03-10T22:43:46.913Z"
      },
      {
        "duration": 831,
        "start_time": "2023-03-10T22:43:47.634Z"
      },
      {
        "duration": 830,
        "start_time": "2023-03-10T22:43:48.468Z"
      },
      {
        "duration": 929,
        "start_time": "2023-03-10T22:43:49.300Z"
      },
      {
        "duration": 8,
        "start_time": "2023-03-10T22:43:50.231Z"
      },
      {
        "duration": 6,
        "start_time": "2023-03-10T22:43:50.241Z"
      },
      {
        "duration": 785,
        "start_time": "2023-03-10T22:43:50.262Z"
      },
      {
        "duration": 16,
        "start_time": "2023-03-10T22:43:51.049Z"
      },
      {
        "duration": 13,
        "start_time": "2023-03-10T22:43:51.067Z"
      },
      {
        "duration": 10,
        "start_time": "2023-03-10T22:43:51.082Z"
      },
      {
        "duration": 809,
        "start_time": "2023-03-10T22:43:51.095Z"
      },
      {
        "duration": 24,
        "start_time": "2023-03-10T22:43:51.906Z"
      },
      {
        "duration": 6,
        "start_time": "2023-03-10T22:43:51.932Z"
      },
      {
        "duration": 30,
        "start_time": "2023-03-10T22:43:51.939Z"
      },
      {
        "duration": 279,
        "start_time": "2023-03-10T22:43:51.972Z"
      },
      {
        "duration": 1300,
        "start_time": "2023-03-10T22:43:52.253Z"
      },
      {
        "duration": 0,
        "start_time": "2023-03-10T22:43:53.554Z"
      },
      {
        "duration": 0,
        "start_time": "2023-03-10T22:43:53.555Z"
      },
      {
        "duration": 13,
        "start_time": "2023-03-10T22:45:14.405Z"
      },
      {
        "duration": 11,
        "start_time": "2023-03-10T22:57:20.469Z"
      },
      {
        "duration": 68,
        "start_time": "2023-03-10T22:57:24.188Z"
      },
      {
        "duration": 4,
        "start_time": "2023-03-10T22:57:26.451Z"
      },
      {
        "duration": 8,
        "start_time": "2023-03-10T23:00:57.653Z"
      },
      {
        "duration": 4,
        "start_time": "2023-03-10T23:01:06.036Z"
      },
      {
        "duration": 7,
        "start_time": "2023-03-10T23:04:23.909Z"
      },
      {
        "duration": 11,
        "start_time": "2023-03-10T23:06:40.096Z"
      },
      {
        "duration": 14,
        "start_time": "2023-03-10T23:07:02.626Z"
      },
      {
        "duration": 5,
        "start_time": "2023-03-10T23:08:49.992Z"
      },
      {
        "duration": 6,
        "start_time": "2023-03-10T23:08:58.816Z"
      },
      {
        "duration": 5,
        "start_time": "2023-03-10T23:09:10.848Z"
      },
      {
        "duration": 16,
        "start_time": "2023-03-10T23:09:31.776Z"
      },
      {
        "duration": 14,
        "start_time": "2023-03-10T23:09:41.777Z"
      },
      {
        "duration": 15,
        "start_time": "2023-03-10T23:09:50.899Z"
      },
      {
        "duration": 16,
        "start_time": "2023-03-10T23:09:57.698Z"
      },
      {
        "duration": 14,
        "start_time": "2023-03-10T23:11:07.101Z"
      },
      {
        "duration": 20,
        "start_time": "2023-03-10T23:13:50.020Z"
      },
      {
        "duration": 13,
        "start_time": "2023-03-10T23:13:59.355Z"
      },
      {
        "duration": 76,
        "start_time": "2023-03-10T23:14:37.140Z"
      },
      {
        "duration": 6,
        "start_time": "2023-03-10T23:14:42.324Z"
      },
      {
        "duration": 6,
        "start_time": "2023-03-10T23:14:53.109Z"
      },
      {
        "duration": 10,
        "start_time": "2023-03-10T23:15:07.998Z"
      },
      {
        "duration": 1214,
        "start_time": "2023-03-10T23:15:15.969Z"
      },
      {
        "duration": 12,
        "start_time": "2023-03-10T23:15:23.477Z"
      },
      {
        "duration": 5,
        "start_time": "2023-03-10T23:15:50.568Z"
      },
      {
        "duration": 11,
        "start_time": "2023-03-10T23:15:58.545Z"
      },
      {
        "duration": 16,
        "start_time": "2023-03-10T23:16:08.783Z"
      },
      {
        "duration": 15,
        "start_time": "2023-03-10T23:16:11.939Z"
      },
      {
        "duration": 14,
        "start_time": "2023-03-10T23:16:15.617Z"
      },
      {
        "duration": 13,
        "start_time": "2023-03-10T23:16:30.529Z"
      },
      {
        "duration": 12,
        "start_time": "2023-03-10T23:16:43.322Z"
      },
      {
        "duration": 4,
        "start_time": "2023-03-10T23:21:02.388Z"
      },
      {
        "duration": 7,
        "start_time": "2023-03-10T23:21:13.265Z"
      },
      {
        "duration": 6,
        "start_time": "2023-03-10T23:21:36.389Z"
      },
      {
        "duration": 6,
        "start_time": "2023-03-10T23:21:46.949Z"
      },
      {
        "duration": 5,
        "start_time": "2023-03-10T23:21:57.464Z"
      },
      {
        "duration": 6,
        "start_time": "2023-03-10T23:22:04.103Z"
      },
      {
        "duration": 31,
        "start_time": "2023-03-10T23:22:52.393Z"
      },
      {
        "duration": 10,
        "start_time": "2023-03-10T23:24:05.224Z"
      },
      {
        "duration": 32,
        "start_time": "2023-03-10T23:24:14.114Z"
      },
      {
        "duration": 32,
        "start_time": "2023-03-10T23:27:00.882Z"
      },
      {
        "duration": 8,
        "start_time": "2023-03-10T23:27:20.665Z"
      },
      {
        "duration": 1425,
        "start_time": "2023-03-10T23:32:31.877Z"
      },
      {
        "duration": 716,
        "start_time": "2023-03-10T23:32:33.304Z"
      },
      {
        "duration": 37,
        "start_time": "2023-03-10T23:32:34.021Z"
      },
      {
        "duration": 20,
        "start_time": "2023-03-10T23:32:34.061Z"
      },
      {
        "duration": 23,
        "start_time": "2023-03-10T23:32:34.083Z"
      },
      {
        "duration": 15,
        "start_time": "2023-03-10T23:32:34.108Z"
      },
      {
        "duration": 53,
        "start_time": "2023-03-10T23:32:34.125Z"
      },
      {
        "duration": 21,
        "start_time": "2023-03-10T23:32:34.179Z"
      },
      {
        "duration": 15,
        "start_time": "2023-03-10T23:32:34.202Z"
      },
      {
        "duration": 41,
        "start_time": "2023-03-10T23:32:34.221Z"
      },
      {
        "duration": 282,
        "start_time": "2023-03-10T23:32:34.264Z"
      },
      {
        "duration": 18,
        "start_time": "2023-03-10T23:32:34.548Z"
      },
      {
        "duration": 5,
        "start_time": "2023-03-10T23:32:34.568Z"
      },
      {
        "duration": 13,
        "start_time": "2023-03-10T23:32:34.575Z"
      },
      {
        "duration": 250,
        "start_time": "2023-03-10T23:32:34.590Z"
      },
      {
        "duration": 16,
        "start_time": "2023-03-10T23:32:34.842Z"
      },
      {
        "duration": 879,
        "start_time": "2023-03-10T23:32:34.860Z"
      },
      {
        "duration": 693,
        "start_time": "2023-03-10T23:32:35.741Z"
      },
      {
        "duration": 831,
        "start_time": "2023-03-10T23:32:36.436Z"
      },
      {
        "duration": 819,
        "start_time": "2023-03-10T23:32:37.269Z"
      },
      {
        "duration": 926,
        "start_time": "2023-03-10T23:32:38.090Z"
      },
      {
        "duration": 9,
        "start_time": "2023-03-10T23:32:39.018Z"
      },
      {
        "duration": 7,
        "start_time": "2023-03-10T23:32:39.029Z"
      },
      {
        "duration": 813,
        "start_time": "2023-03-10T23:32:39.038Z"
      },
      {
        "duration": 10,
        "start_time": "2023-03-10T23:32:39.856Z"
      },
      {
        "duration": 6,
        "start_time": "2023-03-10T23:32:39.868Z"
      },
      {
        "duration": 12,
        "start_time": "2023-03-10T23:32:39.876Z"
      },
      {
        "duration": 821,
        "start_time": "2023-03-10T23:32:39.891Z"
      },
      {
        "duration": 23,
        "start_time": "2023-03-10T23:32:40.713Z"
      },
      {
        "duration": 20,
        "start_time": "2023-03-10T23:32:40.738Z"
      },
      {
        "duration": 4,
        "start_time": "2023-03-10T23:32:40.760Z"
      },
      {
        "duration": 266,
        "start_time": "2023-03-10T23:32:40.765Z"
      },
      {
        "duration": 4,
        "start_time": "2023-03-10T23:32:41.033Z"
      },
      {
        "duration": 19,
        "start_time": "2023-03-10T23:32:41.038Z"
      },
      {
        "duration": 1246,
        "start_time": "2023-03-10T23:32:41.059Z"
      },
      {
        "duration": 0,
        "start_time": "2023-03-10T23:32:42.306Z"
      },
      {
        "duration": 14,
        "start_time": "2023-03-10T23:33:34.554Z"
      },
      {
        "duration": 1428,
        "start_time": "2023-03-10T23:34:38.851Z"
      },
      {
        "duration": 720,
        "start_time": "2023-03-10T23:34:40.281Z"
      },
      {
        "duration": 25,
        "start_time": "2023-03-10T23:34:41.003Z"
      },
      {
        "duration": 28,
        "start_time": "2023-03-10T23:34:41.030Z"
      },
      {
        "duration": 20,
        "start_time": "2023-03-10T23:34:41.061Z"
      },
      {
        "duration": 14,
        "start_time": "2023-03-10T23:34:41.083Z"
      },
      {
        "duration": 22,
        "start_time": "2023-03-10T23:34:41.098Z"
      },
      {
        "duration": 42,
        "start_time": "2023-03-10T23:34:41.122Z"
      },
      {
        "duration": 12,
        "start_time": "2023-03-10T23:34:41.166Z"
      },
      {
        "duration": 7,
        "start_time": "2023-03-10T23:34:41.180Z"
      },
      {
        "duration": 251,
        "start_time": "2023-03-10T23:34:41.189Z"
      },
      {
        "duration": 24,
        "start_time": "2023-03-10T23:34:41.441Z"
      },
      {
        "duration": 4,
        "start_time": "2023-03-10T23:34:41.467Z"
      },
      {
        "duration": 9,
        "start_time": "2023-03-10T23:34:41.474Z"
      },
      {
        "duration": 248,
        "start_time": "2023-03-10T23:34:41.485Z"
      },
      {
        "duration": 9,
        "start_time": "2023-03-10T23:34:41.735Z"
      },
      {
        "duration": 781,
        "start_time": "2023-03-10T23:34:41.746Z"
      },
      {
        "duration": 672,
        "start_time": "2023-03-10T23:34:42.529Z"
      },
      {
        "duration": 804,
        "start_time": "2023-03-10T23:34:43.203Z"
      },
      {
        "duration": 817,
        "start_time": "2023-03-10T23:34:44.009Z"
      },
      {
        "duration": 998,
        "start_time": "2023-03-10T23:34:44.827Z"
      },
      {
        "duration": 8,
        "start_time": "2023-03-10T23:34:45.826Z"
      },
      {
        "duration": 21,
        "start_time": "2023-03-10T23:34:45.836Z"
      },
      {
        "duration": 790,
        "start_time": "2023-03-10T23:34:45.859Z"
      },
      {
        "duration": 12,
        "start_time": "2023-03-10T23:34:46.651Z"
      },
      {
        "duration": 6,
        "start_time": "2023-03-10T23:34:46.665Z"
      },
      {
        "duration": 12,
        "start_time": "2023-03-10T23:34:46.672Z"
      },
      {
        "duration": 798,
        "start_time": "2023-03-10T23:34:46.685Z"
      },
      {
        "duration": 25,
        "start_time": "2023-03-10T23:34:47.484Z"
      },
      {
        "duration": 5,
        "start_time": "2023-03-10T23:34:47.511Z"
      },
      {
        "duration": 5,
        "start_time": "2023-03-10T23:34:47.518Z"
      },
      {
        "duration": 293,
        "start_time": "2023-03-10T23:34:47.524Z"
      },
      {
        "duration": 3,
        "start_time": "2023-03-10T23:34:47.819Z"
      },
      {
        "duration": 5,
        "start_time": "2023-03-10T23:34:47.824Z"
      },
      {
        "duration": 119,
        "start_time": "2023-03-10T23:34:47.831Z"
      },
      {
        "duration": 0,
        "start_time": "2023-03-10T23:34:47.952Z"
      },
      {
        "duration": 0,
        "start_time": "2023-03-10T23:34:47.953Z"
      },
      {
        "duration": 22,
        "start_time": "2023-03-10T23:35:07.872Z"
      },
      {
        "duration": 6,
        "start_time": "2023-03-10T23:37:19.606Z"
      },
      {
        "duration": 26,
        "start_time": "2023-03-10T23:37:28.796Z"
      },
      {
        "duration": 19,
        "start_time": "2023-03-10T23:37:43.975Z"
      },
      {
        "duration": 6,
        "start_time": "2023-03-10T23:38:11.391Z"
      },
      {
        "duration": 12,
        "start_time": "2023-03-10T23:38:13.463Z"
      },
      {
        "duration": 8,
        "start_time": "2023-03-10T23:42:20.684Z"
      },
      {
        "duration": 4,
        "start_time": "2023-03-10T23:42:24.369Z"
      },
      {
        "duration": 12,
        "start_time": "2023-03-10T23:47:24.158Z"
      },
      {
        "duration": 4,
        "start_time": "2023-03-10T23:47:58.871Z"
      },
      {
        "duration": 18,
        "start_time": "2023-03-10T23:49:45.563Z"
      },
      {
        "duration": 7,
        "start_time": "2023-03-11T00:08:04.403Z"
      },
      {
        "duration": 5,
        "start_time": "2023-03-11T00:09:07.572Z"
      },
      {
        "duration": 15,
        "start_time": "2023-03-11T00:09:16.684Z"
      },
      {
        "duration": 5,
        "start_time": "2023-03-11T00:09:42.117Z"
      },
      {
        "duration": 6,
        "start_time": "2023-03-11T00:10:08.206Z"
      },
      {
        "duration": 5,
        "start_time": "2023-03-11T00:11:51.982Z"
      },
      {
        "duration": 8,
        "start_time": "2023-03-11T00:13:05.391Z"
      },
      {
        "duration": 157,
        "start_time": "2023-03-11T00:13:18.461Z"
      },
      {
        "duration": 81,
        "start_time": "2023-03-11T00:13:27.773Z"
      },
      {
        "duration": 6,
        "start_time": "2023-03-11T00:13:32.744Z"
      },
      {
        "duration": 7,
        "start_time": "2023-03-11T00:14:58.251Z"
      },
      {
        "duration": 78,
        "start_time": "2023-03-11T00:15:17.371Z"
      },
      {
        "duration": 7,
        "start_time": "2023-03-11T00:15:20.177Z"
      },
      {
        "duration": 33,
        "start_time": "2023-03-11T00:16:47.702Z"
      },
      {
        "duration": 10,
        "start_time": "2023-03-11T00:19:09.181Z"
      },
      {
        "duration": 4,
        "start_time": "2023-03-11T00:19:12.685Z"
      },
      {
        "duration": 4,
        "start_time": "2023-03-11T00:21:31.835Z"
      },
      {
        "duration": 4,
        "start_time": "2023-03-11T00:21:40.923Z"
      },
      {
        "duration": 5,
        "start_time": "2023-03-11T00:22:42.502Z"
      },
      {
        "duration": 14,
        "start_time": "2023-03-11T00:23:34.086Z"
      },
      {
        "duration": 3,
        "start_time": "2023-03-11T00:24:27.810Z"
      },
      {
        "duration": 17,
        "start_time": "2023-03-11T00:25:21.843Z"
      },
      {
        "duration": 69,
        "start_time": "2023-03-11T00:25:27.484Z"
      },
      {
        "duration": 167,
        "start_time": "2023-03-11T00:28:25.068Z"
      },
      {
        "duration": 132,
        "start_time": "2023-03-11T00:28:52.860Z"
      },
      {
        "duration": 142,
        "start_time": "2023-03-11T00:28:58.653Z"
      },
      {
        "duration": 3,
        "start_time": "2023-03-11T00:31:11.858Z"
      },
      {
        "duration": 27,
        "start_time": "2023-03-11T00:35:49.521Z"
      },
      {
        "duration": 4,
        "start_time": "2023-03-11T00:36:24.214Z"
      },
      {
        "duration": 36,
        "start_time": "2023-03-11T00:36:29.408Z"
      },
      {
        "duration": 23,
        "start_time": "2023-03-11T00:37:40.826Z"
      },
      {
        "duration": 3,
        "start_time": "2023-03-11T00:37:44.361Z"
      },
      {
        "duration": 3,
        "start_time": "2023-03-11T00:37:46.268Z"
      },
      {
        "duration": 1416,
        "start_time": "2023-03-11T00:37:59.173Z"
      },
      {
        "duration": 745,
        "start_time": "2023-03-11T00:38:00.591Z"
      },
      {
        "duration": 26,
        "start_time": "2023-03-11T00:38:01.338Z"
      },
      {
        "duration": 50,
        "start_time": "2023-03-11T00:38:01.366Z"
      },
      {
        "duration": 66,
        "start_time": "2023-03-11T00:38:01.417Z"
      },
      {
        "duration": 51,
        "start_time": "2023-03-11T00:38:01.485Z"
      },
      {
        "duration": 44,
        "start_time": "2023-03-11T00:38:01.538Z"
      },
      {
        "duration": 126,
        "start_time": "2023-03-11T00:38:01.584Z"
      },
      {
        "duration": 54,
        "start_time": "2023-03-11T00:38:01.712Z"
      },
      {
        "duration": 50,
        "start_time": "2023-03-11T00:38:01.769Z"
      },
      {
        "duration": 254,
        "start_time": "2023-03-11T00:38:01.820Z"
      },
      {
        "duration": 16,
        "start_time": "2023-03-11T00:38:02.076Z"
      },
      {
        "duration": 41,
        "start_time": "2023-03-11T00:38:02.094Z"
      },
      {
        "duration": 39,
        "start_time": "2023-03-11T00:38:02.137Z"
      },
      {
        "duration": 248,
        "start_time": "2023-03-11T00:38:02.178Z"
      },
      {
        "duration": 10,
        "start_time": "2023-03-11T00:38:02.428Z"
      },
      {
        "duration": 757,
        "start_time": "2023-03-11T00:38:02.440Z"
      },
      {
        "duration": 686,
        "start_time": "2023-03-11T00:38:03.198Z"
      },
      {
        "duration": 808,
        "start_time": "2023-03-11T00:38:03.886Z"
      },
      {
        "duration": 814,
        "start_time": "2023-03-11T00:38:04.695Z"
      },
      {
        "duration": 936,
        "start_time": "2023-03-11T00:38:05.512Z"
      },
      {
        "duration": 10,
        "start_time": "2023-03-11T00:38:06.449Z"
      },
      {
        "duration": 25,
        "start_time": "2023-03-11T00:38:06.461Z"
      },
      {
        "duration": 770,
        "start_time": "2023-03-11T00:38:06.488Z"
      },
      {
        "duration": 10,
        "start_time": "2023-03-11T00:38:07.259Z"
      },
      {
        "duration": 12,
        "start_time": "2023-03-11T00:38:07.270Z"
      },
      {
        "duration": 13,
        "start_time": "2023-03-11T00:38:07.284Z"
      },
      {
        "duration": 777,
        "start_time": "2023-03-11T00:38:07.301Z"
      },
      {
        "duration": 23,
        "start_time": "2023-03-11T00:38:08.079Z"
      },
      {
        "duration": 6,
        "start_time": "2023-03-11T00:38:08.103Z"
      },
      {
        "duration": 7,
        "start_time": "2023-03-11T00:38:08.110Z"
      },
      {
        "duration": 277,
        "start_time": "2023-03-11T00:38:08.119Z"
      },
      {
        "duration": 3,
        "start_time": "2023-03-11T00:38:08.399Z"
      },
      {
        "duration": 8,
        "start_time": "2023-03-11T00:38:08.404Z"
      },
      {
        "duration": 11,
        "start_time": "2023-03-11T00:38:08.414Z"
      },
      {
        "duration": 6,
        "start_time": "2023-03-11T00:38:08.427Z"
      },
      {
        "duration": 25,
        "start_time": "2023-03-11T00:38:08.435Z"
      },
      {
        "duration": 13,
        "start_time": "2023-03-11T00:38:08.461Z"
      },
      {
        "duration": 35,
        "start_time": "2023-03-11T00:38:08.476Z"
      },
      {
        "duration": 8,
        "start_time": "2023-03-11T00:38:08.513Z"
      },
      {
        "duration": 8,
        "start_time": "2023-03-11T00:38:08.523Z"
      },
      {
        "duration": 162,
        "start_time": "2023-03-11T00:38:08.533Z"
      },
      {
        "duration": 23,
        "start_time": "2023-03-11T00:38:08.697Z"
      },
      {
        "duration": 3,
        "start_time": "2023-03-11T00:38:08.722Z"
      },
      {
        "duration": 31,
        "start_time": "2023-03-11T00:38:08.727Z"
      },
      {
        "duration": 104,
        "start_time": "2023-03-11T00:38:26.619Z"
      },
      {
        "duration": 9,
        "start_time": "2023-03-11T00:38:28.819Z"
      },
      {
        "duration": 5,
        "start_time": "2023-03-11T00:38:36.932Z"
      },
      {
        "duration": 6,
        "start_time": "2023-03-11T00:43:08.303Z"
      },
      {
        "duration": 28,
        "start_time": "2023-03-11T00:44:26.139Z"
      },
      {
        "duration": 5,
        "start_time": "2023-03-11T00:44:39.068Z"
      },
      {
        "duration": 11,
        "start_time": "2023-03-11T00:44:50.116Z"
      },
      {
        "duration": 1396,
        "start_time": "2023-03-11T00:44:57.613Z"
      },
      {
        "duration": 719,
        "start_time": "2023-03-11T00:44:59.011Z"
      },
      {
        "duration": 23,
        "start_time": "2023-03-11T00:44:59.732Z"
      },
      {
        "duration": 18,
        "start_time": "2023-03-11T00:44:59.757Z"
      },
      {
        "duration": 21,
        "start_time": "2023-03-11T00:44:59.777Z"
      },
      {
        "duration": 20,
        "start_time": "2023-03-11T00:44:59.799Z"
      },
      {
        "duration": 43,
        "start_time": "2023-03-11T00:44:59.820Z"
      },
      {
        "duration": 17,
        "start_time": "2023-03-11T00:44:59.866Z"
      },
      {
        "duration": 13,
        "start_time": "2023-03-11T00:44:59.885Z"
      },
      {
        "duration": 8,
        "start_time": "2023-03-11T00:44:59.900Z"
      },
      {
        "duration": 258,
        "start_time": "2023-03-11T00:44:59.910Z"
      },
      {
        "duration": 16,
        "start_time": "2023-03-11T00:45:00.169Z"
      },
      {
        "duration": 5,
        "start_time": "2023-03-11T00:45:00.187Z"
      },
      {
        "duration": 15,
        "start_time": "2023-03-11T00:45:00.194Z"
      },
      {
        "duration": 236,
        "start_time": "2023-03-11T00:45:00.211Z"
      },
      {
        "duration": 17,
        "start_time": "2023-03-11T00:45:00.449Z"
      },
      {
        "duration": 749,
        "start_time": "2023-03-11T00:45:00.468Z"
      },
      {
        "duration": 684,
        "start_time": "2023-03-11T00:45:01.219Z"
      },
      {
        "duration": 781,
        "start_time": "2023-03-11T00:45:01.905Z"
      },
      {
        "duration": 788,
        "start_time": "2023-03-11T00:45:02.688Z"
      },
      {
        "duration": 1059,
        "start_time": "2023-03-11T00:45:03.478Z"
      },
      {
        "duration": 19,
        "start_time": "2023-03-11T00:45:04.539Z"
      },
      {
        "duration": 7,
        "start_time": "2023-03-11T00:45:04.560Z"
      },
      {
        "duration": 860,
        "start_time": "2023-03-11T00:45:04.569Z"
      },
      {
        "duration": 9,
        "start_time": "2023-03-11T00:45:05.431Z"
      },
      {
        "duration": 18,
        "start_time": "2023-03-11T00:45:05.442Z"
      },
      {
        "duration": 10,
        "start_time": "2023-03-11T00:45:05.461Z"
      },
      {
        "duration": 794,
        "start_time": "2023-03-11T00:45:05.472Z"
      },
      {
        "duration": 22,
        "start_time": "2023-03-11T00:45:06.268Z"
      },
      {
        "duration": 6,
        "start_time": "2023-03-11T00:45:06.292Z"
      },
      {
        "duration": 7,
        "start_time": "2023-03-11T00:45:06.299Z"
      },
      {
        "duration": 282,
        "start_time": "2023-03-11T00:45:06.308Z"
      },
      {
        "duration": 4,
        "start_time": "2023-03-11T00:45:06.592Z"
      },
      {
        "duration": 8,
        "start_time": "2023-03-11T00:45:06.598Z"
      },
      {
        "duration": 7,
        "start_time": "2023-03-11T00:45:06.607Z"
      },
      {
        "duration": 7,
        "start_time": "2023-03-11T00:45:06.616Z"
      },
      {
        "duration": 6,
        "start_time": "2023-03-11T00:45:06.625Z"
      },
      {
        "duration": 9,
        "start_time": "2023-03-11T00:45:06.656Z"
      },
      {
        "duration": 34,
        "start_time": "2023-03-11T00:45:06.667Z"
      },
      {
        "duration": 6,
        "start_time": "2023-03-11T00:45:06.703Z"
      },
      {
        "duration": 5,
        "start_time": "2023-03-11T00:45:06.713Z"
      },
      {
        "duration": 172,
        "start_time": "2023-03-11T00:45:06.719Z"
      },
      {
        "duration": 29,
        "start_time": "2023-03-11T00:45:06.893Z"
      },
      {
        "duration": 40,
        "start_time": "2023-03-11T00:45:06.924Z"
      },
      {
        "duration": 3,
        "start_time": "2023-03-11T00:45:06.966Z"
      },
      {
        "duration": 17,
        "start_time": "2023-03-11T00:45:06.970Z"
      },
      {
        "duration": 117,
        "start_time": "2023-03-11T00:45:06.989Z"
      },
      {
        "duration": 27,
        "start_time": "2023-03-11T00:45:17.331Z"
      },
      {
        "duration": 4,
        "start_time": "2023-03-11T00:51:35.061Z"
      },
      {
        "duration": 21,
        "start_time": "2023-03-11T00:53:10.608Z"
      },
      {
        "duration": 6,
        "start_time": "2023-03-11T00:53:32.230Z"
      },
      {
        "duration": 6,
        "start_time": "2023-03-11T00:53:40.744Z"
      },
      {
        "duration": 5,
        "start_time": "2023-03-11T00:53:49.553Z"
      },
      {
        "duration": 4,
        "start_time": "2023-03-11T00:54:15.634Z"
      },
      {
        "duration": 7,
        "start_time": "2023-03-11T00:54:51.283Z"
      },
      {
        "duration": 6,
        "start_time": "2023-03-11T00:55:15.005Z"
      },
      {
        "duration": 132,
        "start_time": "2023-03-11T00:56:12.128Z"
      },
      {
        "duration": 3,
        "start_time": "2023-03-11T00:56:33.864Z"
      },
      {
        "duration": 330,
        "start_time": "2023-03-11T00:56:42.456Z"
      },
      {
        "duration": 1401,
        "start_time": "2023-03-11T00:57:44.232Z"
      },
      {
        "duration": 741,
        "start_time": "2023-03-11T00:57:45.635Z"
      },
      {
        "duration": 26,
        "start_time": "2023-03-11T00:57:46.378Z"
      },
      {
        "duration": 18,
        "start_time": "2023-03-11T00:57:46.406Z"
      },
      {
        "duration": 41,
        "start_time": "2023-03-11T00:57:46.425Z"
      },
      {
        "duration": 14,
        "start_time": "2023-03-11T00:57:46.468Z"
      },
      {
        "duration": 26,
        "start_time": "2023-03-11T00:57:46.484Z"
      },
      {
        "duration": 48,
        "start_time": "2023-03-11T00:57:46.512Z"
      },
      {
        "duration": 11,
        "start_time": "2023-03-11T00:57:46.562Z"
      },
      {
        "duration": 8,
        "start_time": "2023-03-11T00:57:46.576Z"
      },
      {
        "duration": 252,
        "start_time": "2023-03-11T00:57:46.586Z"
      },
      {
        "duration": 24,
        "start_time": "2023-03-11T00:57:46.840Z"
      },
      {
        "duration": 5,
        "start_time": "2023-03-11T00:57:46.866Z"
      },
      {
        "duration": 11,
        "start_time": "2023-03-11T00:57:46.872Z"
      },
      {
        "duration": 238,
        "start_time": "2023-03-11T00:57:46.885Z"
      },
      {
        "duration": 11,
        "start_time": "2023-03-11T00:57:47.125Z"
      },
      {
        "duration": 756,
        "start_time": "2023-03-11T00:57:47.137Z"
      },
      {
        "duration": 691,
        "start_time": "2023-03-11T00:57:47.895Z"
      },
      {
        "duration": 789,
        "start_time": "2023-03-11T00:57:48.588Z"
      },
      {
        "duration": 805,
        "start_time": "2023-03-11T00:57:49.379Z"
      },
      {
        "duration": 891,
        "start_time": "2023-03-11T00:57:50.186Z"
      },
      {
        "duration": 8,
        "start_time": "2023-03-11T00:57:51.079Z"
      },
      {
        "duration": 6,
        "start_time": "2023-03-11T00:57:51.089Z"
      },
      {
        "duration": 802,
        "start_time": "2023-03-11T00:57:51.097Z"
      },
      {
        "duration": 12,
        "start_time": "2023-03-11T00:57:51.901Z"
      },
      {
        "duration": 5,
        "start_time": "2023-03-11T00:57:51.915Z"
      },
      {
        "duration": 19,
        "start_time": "2023-03-11T00:57:51.922Z"
      },
      {
        "duration": 748,
        "start_time": "2023-03-11T00:57:51.957Z"
      },
      {
        "duration": 22,
        "start_time": "2023-03-11T00:57:52.707Z"
      },
      {
        "duration": 5,
        "start_time": "2023-03-11T00:57:52.731Z"
      },
      {
        "duration": 20,
        "start_time": "2023-03-11T00:57:52.738Z"
      },
      {
        "duration": 261,
        "start_time": "2023-03-11T00:57:52.760Z"
      },
      {
        "duration": 3,
        "start_time": "2023-03-11T00:57:53.023Z"
      },
      {
        "duration": 7,
        "start_time": "2023-03-11T00:57:53.028Z"
      },
      {
        "duration": 11,
        "start_time": "2023-03-11T00:57:53.037Z"
      },
      {
        "duration": 5,
        "start_time": "2023-03-11T00:57:53.057Z"
      },
      {
        "duration": 10,
        "start_time": "2023-03-11T00:57:53.063Z"
      },
      {
        "duration": 12,
        "start_time": "2023-03-11T00:57:53.074Z"
      },
      {
        "duration": 33,
        "start_time": "2023-03-11T00:57:53.089Z"
      },
      {
        "duration": 8,
        "start_time": "2023-03-11T00:57:53.124Z"
      },
      {
        "duration": 24,
        "start_time": "2023-03-11T00:57:53.133Z"
      },
      {
        "duration": 160,
        "start_time": "2023-03-11T00:57:53.159Z"
      },
      {
        "duration": 21,
        "start_time": "2023-03-11T00:57:53.321Z"
      },
      {
        "duration": 13,
        "start_time": "2023-03-11T00:57:53.344Z"
      },
      {
        "duration": 6,
        "start_time": "2023-03-11T00:57:53.360Z"
      },
      {
        "duration": 124,
        "start_time": "2023-03-11T00:57:53.367Z"
      },
      {
        "duration": 0,
        "start_time": "2023-03-11T00:57:53.493Z"
      },
      {
        "duration": 0,
        "start_time": "2023-03-11T00:57:53.495Z"
      },
      {
        "duration": 0,
        "start_time": "2023-03-11T00:57:53.497Z"
      },
      {
        "duration": 19,
        "start_time": "2023-03-11T01:00:15.586Z"
      },
      {
        "duration": 3,
        "start_time": "2023-03-11T01:02:52.400Z"
      },
      {
        "duration": 13,
        "start_time": "2023-03-11T01:03:26.329Z"
      },
      {
        "duration": 20,
        "start_time": "2023-03-11T01:03:32.168Z"
      },
      {
        "duration": 5,
        "start_time": "2023-03-11T01:05:14.374Z"
      },
      {
        "duration": 6,
        "start_time": "2023-03-11T01:05:31.895Z"
      },
      {
        "duration": 6,
        "start_time": "2023-03-11T01:06:09.552Z"
      },
      {
        "duration": 5,
        "start_time": "2023-03-11T01:06:18.856Z"
      },
      {
        "duration": 5,
        "start_time": "2023-03-11T01:06:33.000Z"
      },
      {
        "duration": 6,
        "start_time": "2023-03-11T01:06:49.994Z"
      },
      {
        "duration": 5,
        "start_time": "2023-03-11T01:07:04.391Z"
      },
      {
        "duration": 6,
        "start_time": "2023-03-11T01:09:31.241Z"
      },
      {
        "duration": 5,
        "start_time": "2023-03-11T01:09:43.249Z"
      },
      {
        "duration": 168,
        "start_time": "2023-03-11T01:13:54.811Z"
      },
      {
        "duration": 5,
        "start_time": "2023-03-11T01:15:14.581Z"
      },
      {
        "duration": 7,
        "start_time": "2023-03-11T01:15:22.861Z"
      },
      {
        "duration": 7,
        "start_time": "2023-03-11T01:15:26.597Z"
      },
      {
        "duration": 5,
        "start_time": "2023-03-11T01:15:29.895Z"
      },
      {
        "duration": 19,
        "start_time": "2023-03-11T01:17:47.606Z"
      },
      {
        "duration": 15,
        "start_time": "2023-03-11T01:19:20.188Z"
      },
      {
        "duration": 5,
        "start_time": "2023-03-11T01:20:25.803Z"
      },
      {
        "duration": 12,
        "start_time": "2023-03-11T01:20:38.619Z"
      },
      {
        "duration": 10,
        "start_time": "2023-03-11T01:20:41.531Z"
      },
      {
        "duration": 6,
        "start_time": "2023-03-11T01:20:46.507Z"
      },
      {
        "duration": 10,
        "start_time": "2023-03-11T01:20:51.924Z"
      },
      {
        "duration": 6,
        "start_time": "2023-03-11T01:23:03.898Z"
      },
      {
        "duration": 16,
        "start_time": "2023-03-11T01:24:41.390Z"
      },
      {
        "duration": 1478,
        "start_time": "2023-03-11T01:24:52.249Z"
      },
      {
        "duration": 734,
        "start_time": "2023-03-11T01:24:53.729Z"
      },
      {
        "duration": 25,
        "start_time": "2023-03-11T01:24:54.465Z"
      },
      {
        "duration": 16,
        "start_time": "2023-03-11T01:24:54.492Z"
      },
      {
        "duration": 22,
        "start_time": "2023-03-11T01:24:54.510Z"
      },
      {
        "duration": 14,
        "start_time": "2023-03-11T01:24:54.557Z"
      },
      {
        "duration": 19,
        "start_time": "2023-03-11T01:24:54.572Z"
      },
      {
        "duration": 20,
        "start_time": "2023-03-11T01:24:54.593Z"
      },
      {
        "duration": 46,
        "start_time": "2023-03-11T01:24:54.615Z"
      },
      {
        "duration": 7,
        "start_time": "2023-03-11T01:24:54.663Z"
      },
      {
        "duration": 234,
        "start_time": "2023-03-11T01:24:54.672Z"
      },
      {
        "duration": 15,
        "start_time": "2023-03-11T01:24:54.907Z"
      },
      {
        "duration": 4,
        "start_time": "2023-03-11T01:24:54.924Z"
      },
      {
        "duration": 32,
        "start_time": "2023-03-11T01:24:54.930Z"
      },
      {
        "duration": 234,
        "start_time": "2023-03-11T01:24:54.964Z"
      },
      {
        "duration": 12,
        "start_time": "2023-03-11T01:24:55.200Z"
      },
      {
        "duration": 776,
        "start_time": "2023-03-11T01:24:55.215Z"
      },
      {
        "duration": 656,
        "start_time": "2023-03-11T01:24:55.993Z"
      },
      {
        "duration": 779,
        "start_time": "2023-03-11T01:24:56.657Z"
      },
      {
        "duration": 750,
        "start_time": "2023-03-11T01:24:57.438Z"
      },
      {
        "duration": 872,
        "start_time": "2023-03-11T01:24:58.189Z"
      },
      {
        "duration": 7,
        "start_time": "2023-03-11T01:24:59.063Z"
      },
      {
        "duration": 14,
        "start_time": "2023-03-11T01:24:59.072Z"
      },
      {
        "duration": 756,
        "start_time": "2023-03-11T01:24:59.088Z"
      },
      {
        "duration": 17,
        "start_time": "2023-03-11T01:24:59.846Z"
      },
      {
        "duration": 6,
        "start_time": "2023-03-11T01:24:59.864Z"
      },
      {
        "duration": 9,
        "start_time": "2023-03-11T01:24:59.871Z"
      },
      {
        "duration": 748,
        "start_time": "2023-03-11T01:24:59.883Z"
      },
      {
        "duration": 37,
        "start_time": "2023-03-11T01:25:00.633Z"
      },
      {
        "duration": 18,
        "start_time": "2023-03-11T01:25:00.672Z"
      },
      {
        "duration": 46,
        "start_time": "2023-03-11T01:25:00.692Z"
      },
      {
        "duration": 298,
        "start_time": "2023-03-11T01:25:00.740Z"
      },
      {
        "duration": 4,
        "start_time": "2023-03-11T01:25:01.039Z"
      },
      {
        "duration": 41,
        "start_time": "2023-03-11T01:25:01.044Z"
      },
      {
        "duration": 35,
        "start_time": "2023-03-11T01:25:01.086Z"
      },
      {
        "duration": 39,
        "start_time": "2023-03-11T01:25:01.123Z"
      },
      {
        "duration": 34,
        "start_time": "2023-03-11T01:25:01.164Z"
      },
      {
        "duration": 36,
        "start_time": "2023-03-11T01:25:01.200Z"
      },
      {
        "duration": 59,
        "start_time": "2023-03-11T01:25:01.238Z"
      },
      {
        "duration": 37,
        "start_time": "2023-03-11T01:25:01.299Z"
      },
      {
        "duration": 49,
        "start_time": "2023-03-11T01:25:01.338Z"
      },
      {
        "duration": 171,
        "start_time": "2023-03-11T01:25:01.389Z"
      },
      {
        "duration": 21,
        "start_time": "2023-03-11T01:25:01.562Z"
      },
      {
        "duration": 37,
        "start_time": "2023-03-11T01:25:01.585Z"
      },
      {
        "duration": 50,
        "start_time": "2023-03-11T01:25:01.624Z"
      },
      {
        "duration": 147,
        "start_time": "2023-03-11T01:25:01.676Z"
      },
      {
        "duration": 0,
        "start_time": "2023-03-11T01:25:01.824Z"
      },
      {
        "duration": 0,
        "start_time": "2023-03-11T01:25:01.826Z"
      },
      {
        "duration": 0,
        "start_time": "2023-03-11T01:25:01.827Z"
      },
      {
        "duration": 0,
        "start_time": "2023-03-11T01:25:01.828Z"
      },
      {
        "duration": 0,
        "start_time": "2023-03-11T01:25:01.829Z"
      },
      {
        "duration": 0,
        "start_time": "2023-03-11T01:25:01.831Z"
      },
      {
        "duration": 0,
        "start_time": "2023-03-11T01:25:01.832Z"
      },
      {
        "duration": 0,
        "start_time": "2023-03-11T01:25:01.833Z"
      },
      {
        "duration": 0,
        "start_time": "2023-03-11T01:25:01.835Z"
      },
      {
        "duration": 0,
        "start_time": "2023-03-11T01:25:01.857Z"
      },
      {
        "duration": 0,
        "start_time": "2023-03-11T01:25:01.859Z"
      },
      {
        "duration": 6,
        "start_time": "2023-03-11T01:25:17.734Z"
      },
      {
        "duration": 7,
        "start_time": "2023-03-11T01:25:38.801Z"
      },
      {
        "duration": 6,
        "start_time": "2023-03-11T01:25:40.791Z"
      },
      {
        "duration": 25,
        "start_time": "2023-03-11T01:26:01.706Z"
      },
      {
        "duration": 7,
        "start_time": "2023-03-11T01:26:07.288Z"
      },
      {
        "duration": 18,
        "start_time": "2023-03-11T01:26:22.752Z"
      },
      {
        "duration": 12,
        "start_time": "2023-03-11T01:27:42.724Z"
      },
      {
        "duration": 4,
        "start_time": "2023-03-11T01:27:44.356Z"
      },
      {
        "duration": 3,
        "start_time": "2023-03-11T01:27:46.660Z"
      },
      {
        "duration": 6,
        "start_time": "2023-03-11T01:27:55.380Z"
      },
      {
        "duration": 1454,
        "start_time": "2023-03-11T01:28:12.875Z"
      },
      {
        "duration": 737,
        "start_time": "2023-03-11T01:28:14.331Z"
      },
      {
        "duration": 25,
        "start_time": "2023-03-11T01:28:15.071Z"
      },
      {
        "duration": 16,
        "start_time": "2023-03-11T01:28:15.098Z"
      },
      {
        "duration": 45,
        "start_time": "2023-03-11T01:28:15.116Z"
      },
      {
        "duration": 15,
        "start_time": "2023-03-11T01:28:15.164Z"
      },
      {
        "duration": 30,
        "start_time": "2023-03-11T01:28:15.182Z"
      },
      {
        "duration": 51,
        "start_time": "2023-03-11T01:28:15.214Z"
      },
      {
        "duration": 15,
        "start_time": "2023-03-11T01:28:15.269Z"
      },
      {
        "duration": 8,
        "start_time": "2023-03-11T01:28:15.286Z"
      },
      {
        "duration": 251,
        "start_time": "2023-03-11T01:28:15.296Z"
      },
      {
        "duration": 21,
        "start_time": "2023-03-11T01:28:15.549Z"
      },
      {
        "duration": 7,
        "start_time": "2023-03-11T01:28:15.572Z"
      },
      {
        "duration": 18,
        "start_time": "2023-03-11T01:28:15.581Z"
      },
      {
        "duration": 239,
        "start_time": "2023-03-11T01:28:15.602Z"
      },
      {
        "duration": 16,
        "start_time": "2023-03-11T01:28:15.842Z"
      },
      {
        "duration": 722,
        "start_time": "2023-03-11T01:28:15.860Z"
      },
      {
        "duration": 657,
        "start_time": "2023-03-11T01:28:16.583Z"
      },
      {
        "duration": 781,
        "start_time": "2023-03-11T01:28:17.242Z"
      },
      {
        "duration": 796,
        "start_time": "2023-03-11T01:28:18.026Z"
      },
      {
        "duration": 881,
        "start_time": "2023-03-11T01:28:18.824Z"
      },
      {
        "duration": 8,
        "start_time": "2023-03-11T01:28:19.707Z"
      },
      {
        "duration": 9,
        "start_time": "2023-03-11T01:28:19.717Z"
      },
      {
        "duration": 792,
        "start_time": "2023-03-11T01:28:19.728Z"
      },
      {
        "duration": 8,
        "start_time": "2023-03-11T01:28:20.522Z"
      },
      {
        "duration": 12,
        "start_time": "2023-03-11T01:28:20.532Z"
      },
      {
        "duration": 39,
        "start_time": "2023-03-11T01:28:20.548Z"
      },
      {
        "duration": 761,
        "start_time": "2023-03-11T01:28:20.589Z"
      },
      {
        "duration": 25,
        "start_time": "2023-03-11T01:28:21.357Z"
      },
      {
        "duration": 6,
        "start_time": "2023-03-11T01:28:21.383Z"
      },
      {
        "duration": 4,
        "start_time": "2023-03-11T01:28:21.391Z"
      },
      {
        "duration": 276,
        "start_time": "2023-03-11T01:28:21.397Z"
      },
      {
        "duration": 3,
        "start_time": "2023-03-11T01:28:21.675Z"
      },
      {
        "duration": 8,
        "start_time": "2023-03-11T01:28:21.680Z"
      },
      {
        "duration": 9,
        "start_time": "2023-03-11T01:28:21.689Z"
      },
      {
        "duration": 6,
        "start_time": "2023-03-11T01:28:21.700Z"
      },
      {
        "duration": 8,
        "start_time": "2023-03-11T01:28:21.708Z"
      },
      {
        "duration": 7,
        "start_time": "2023-03-11T01:28:21.717Z"
      },
      {
        "duration": 58,
        "start_time": "2023-03-11T01:28:21.726Z"
      },
      {
        "duration": 7,
        "start_time": "2023-03-11T01:28:21.785Z"
      },
      {
        "duration": 8,
        "start_time": "2023-03-11T01:28:21.793Z"
      },
      {
        "duration": 160,
        "start_time": "2023-03-11T01:28:21.802Z"
      },
      {
        "duration": 18,
        "start_time": "2023-03-11T01:28:21.964Z"
      },
      {
        "duration": 9,
        "start_time": "2023-03-11T01:28:21.983Z"
      },
      {
        "duration": 3,
        "start_time": "2023-03-11T01:28:21.993Z"
      },
      {
        "duration": 7,
        "start_time": "2023-03-11T01:28:21.998Z"
      },
      {
        "duration": 151,
        "start_time": "2023-03-11T01:28:22.007Z"
      },
      {
        "duration": 0,
        "start_time": "2023-03-11T01:28:22.159Z"
      },
      {
        "duration": 0,
        "start_time": "2023-03-11T01:28:22.161Z"
      },
      {
        "duration": 0,
        "start_time": "2023-03-11T01:28:22.163Z"
      },
      {
        "duration": 0,
        "start_time": "2023-03-11T01:28:22.164Z"
      },
      {
        "duration": 0,
        "start_time": "2023-03-11T01:28:22.165Z"
      },
      {
        "duration": 0,
        "start_time": "2023-03-11T01:28:22.166Z"
      },
      {
        "duration": 0,
        "start_time": "2023-03-11T01:28:22.167Z"
      },
      {
        "duration": 0,
        "start_time": "2023-03-11T01:28:22.168Z"
      },
      {
        "duration": 0,
        "start_time": "2023-03-11T01:28:22.169Z"
      },
      {
        "duration": 0,
        "start_time": "2023-03-11T01:28:22.171Z"
      },
      {
        "duration": 0,
        "start_time": "2023-03-11T01:28:22.172Z"
      },
      {
        "duration": 1472,
        "start_time": "2023-03-11T01:30:17.352Z"
      },
      {
        "duration": 727,
        "start_time": "2023-03-11T01:30:18.826Z"
      },
      {
        "duration": 24,
        "start_time": "2023-03-11T01:30:19.554Z"
      },
      {
        "duration": 17,
        "start_time": "2023-03-11T01:30:19.580Z"
      },
      {
        "duration": 22,
        "start_time": "2023-03-11T01:30:19.598Z"
      },
      {
        "duration": 42,
        "start_time": "2023-03-11T01:30:19.621Z"
      },
      {
        "duration": 22,
        "start_time": "2023-03-11T01:30:19.666Z"
      },
      {
        "duration": 19,
        "start_time": "2023-03-11T01:30:19.690Z"
      },
      {
        "duration": 13,
        "start_time": "2023-03-11T01:30:19.711Z"
      },
      {
        "duration": 9,
        "start_time": "2023-03-11T01:30:19.757Z"
      },
      {
        "duration": 237,
        "start_time": "2023-03-11T01:30:19.767Z"
      },
      {
        "duration": 16,
        "start_time": "2023-03-11T01:30:20.006Z"
      },
      {
        "duration": 8,
        "start_time": "2023-03-11T01:30:20.024Z"
      },
      {
        "duration": 30,
        "start_time": "2023-03-11T01:30:20.034Z"
      },
      {
        "duration": 224,
        "start_time": "2023-03-11T01:30:20.066Z"
      },
      {
        "duration": 11,
        "start_time": "2023-03-11T01:30:20.292Z"
      },
      {
        "duration": 756,
        "start_time": "2023-03-11T01:30:20.305Z"
      },
      {
        "duration": 660,
        "start_time": "2023-03-11T01:30:21.063Z"
      },
      {
        "duration": 771,
        "start_time": "2023-03-11T01:30:21.725Z"
      },
      {
        "duration": 793,
        "start_time": "2023-03-11T01:30:22.497Z"
      },
      {
        "duration": 879,
        "start_time": "2023-03-11T01:30:23.292Z"
      },
      {
        "duration": 8,
        "start_time": "2023-03-11T01:30:24.173Z"
      },
      {
        "duration": 7,
        "start_time": "2023-03-11T01:30:24.182Z"
      },
      {
        "duration": 788,
        "start_time": "2023-03-11T01:30:24.191Z"
      },
      {
        "duration": 9,
        "start_time": "2023-03-11T01:30:24.980Z"
      },
      {
        "duration": 6,
        "start_time": "2023-03-11T01:30:24.991Z"
      },
      {
        "duration": 9,
        "start_time": "2023-03-11T01:30:24.998Z"
      },
      {
        "duration": 824,
        "start_time": "2023-03-11T01:30:25.011Z"
      },
      {
        "duration": 36,
        "start_time": "2023-03-11T01:30:25.837Z"
      },
      {
        "duration": 5,
        "start_time": "2023-03-11T01:30:25.875Z"
      },
      {
        "duration": 7,
        "start_time": "2023-03-11T01:30:25.882Z"
      },
      {
        "duration": 268,
        "start_time": "2023-03-11T01:30:25.891Z"
      },
      {
        "duration": 11,
        "start_time": "2023-03-11T01:30:26.161Z"
      },
      {
        "duration": 4,
        "start_time": "2023-03-11T01:30:26.173Z"
      },
      {
        "duration": 9,
        "start_time": "2023-03-11T01:30:26.178Z"
      },
      {
        "duration": 7,
        "start_time": "2023-03-11T01:30:26.188Z"
      },
      {
        "duration": 6,
        "start_time": "2023-03-11T01:30:26.196Z"
      },
      {
        "duration": 8,
        "start_time": "2023-03-11T01:30:26.203Z"
      },
      {
        "duration": 7,
        "start_time": "2023-03-11T01:30:26.212Z"
      },
      {
        "duration": 59,
        "start_time": "2023-03-11T01:30:26.221Z"
      },
      {
        "duration": 5,
        "start_time": "2023-03-11T01:30:26.281Z"
      },
      {
        "duration": 8,
        "start_time": "2023-03-11T01:30:26.288Z"
      },
      {
        "duration": 145,
        "start_time": "2023-03-11T01:30:26.298Z"
      },
      {
        "duration": 21,
        "start_time": "2023-03-11T01:30:26.445Z"
      },
      {
        "duration": 3,
        "start_time": "2023-03-11T01:30:26.468Z"
      },
      {
        "duration": 5,
        "start_time": "2023-03-11T01:30:26.473Z"
      },
      {
        "duration": 83,
        "start_time": "2023-03-11T01:30:26.480Z"
      },
      {
        "duration": 95,
        "start_time": "2023-03-11T01:30:26.564Z"
      },
      {
        "duration": 0,
        "start_time": "2023-03-11T01:30:26.662Z"
      },
      {
        "duration": 0,
        "start_time": "2023-03-11T01:30:26.664Z"
      },
      {
        "duration": 0,
        "start_time": "2023-03-11T01:30:26.666Z"
      },
      {
        "duration": 0,
        "start_time": "2023-03-11T01:30:26.667Z"
      },
      {
        "duration": 0,
        "start_time": "2023-03-11T01:30:26.668Z"
      },
      {
        "duration": 0,
        "start_time": "2023-03-11T01:30:26.670Z"
      },
      {
        "duration": 0,
        "start_time": "2023-03-11T01:30:26.671Z"
      },
      {
        "duration": 0,
        "start_time": "2023-03-11T01:30:26.758Z"
      },
      {
        "duration": 0,
        "start_time": "2023-03-11T01:30:26.759Z"
      },
      {
        "duration": 0,
        "start_time": "2023-03-11T01:30:26.760Z"
      },
      {
        "duration": 12,
        "start_time": "2023-03-11T01:30:49.542Z"
      },
      {
        "duration": 315,
        "start_time": "2023-03-11T01:32:55.651Z"
      },
      {
        "duration": 32,
        "start_time": "2023-03-11T01:33:47.964Z"
      },
      {
        "duration": 3,
        "start_time": "2023-03-11T01:33:50.828Z"
      },
      {
        "duration": 3,
        "start_time": "2023-03-11T01:33:51.891Z"
      },
      {
        "duration": 317,
        "start_time": "2023-03-11T01:33:54.044Z"
      },
      {
        "duration": 255,
        "start_time": "2023-03-11T02:00:49.305Z"
      },
      {
        "duration": 164,
        "start_time": "2023-03-11T02:00:55.304Z"
      },
      {
        "duration": 96,
        "start_time": "2023-03-11T02:01:25.761Z"
      },
      {
        "duration": 193,
        "start_time": "2023-03-11T02:01:36.273Z"
      },
      {
        "duration": 294,
        "start_time": "2023-03-11T02:01:44.868Z"
      },
      {
        "duration": 175,
        "start_time": "2023-03-11T02:01:58.692Z"
      },
      {
        "duration": 178,
        "start_time": "2023-03-11T02:03:39.384Z"
      },
      {
        "duration": 139,
        "start_time": "2023-03-11T02:03:41.921Z"
      },
      {
        "duration": 216,
        "start_time": "2023-03-11T02:10:15.751Z"
      },
      {
        "duration": 96,
        "start_time": "2023-03-11T02:10:17.367Z"
      },
      {
        "duration": 47,
        "start_time": "2023-03-11T02:11:53.012Z"
      },
      {
        "duration": 149,
        "start_time": "2023-03-11T02:11:56.116Z"
      },
      {
        "duration": 168,
        "start_time": "2023-03-11T02:11:57.788Z"
      },
      {
        "duration": 6,
        "start_time": "2023-03-11T02:13:56.058Z"
      },
      {
        "duration": 207,
        "start_time": "2023-03-11T02:14:04.251Z"
      },
      {
        "duration": 5,
        "start_time": "2023-03-11T02:14:14.490Z"
      },
      {
        "duration": 113,
        "start_time": "2023-03-11T02:14:30.907Z"
      },
      {
        "duration": 107,
        "start_time": "2023-03-11T02:14:39.555Z"
      },
      {
        "duration": 208,
        "start_time": "2023-03-11T02:14:42.149Z"
      },
      {
        "duration": 17,
        "start_time": "2023-03-11T02:14:54.140Z"
      },
      {
        "duration": 27,
        "start_time": "2023-03-11T02:15:09.469Z"
      },
      {
        "duration": 673,
        "start_time": "2023-03-11T02:15:27.992Z"
      },
      {
        "duration": 170,
        "start_time": "2023-03-11T02:16:23.881Z"
      },
      {
        "duration": 175,
        "start_time": "2023-03-11T02:16:57.529Z"
      },
      {
        "duration": 2118,
        "start_time": "2023-03-11T02:18:29.022Z"
      },
      {
        "duration": 2109,
        "start_time": "2023-03-11T02:18:40.703Z"
      },
      {
        "duration": 2129,
        "start_time": "2023-03-11T02:20:28.658Z"
      },
      {
        "duration": 6,
        "start_time": "2023-03-11T02:20:44.244Z"
      },
      {
        "duration": 2144,
        "start_time": "2023-03-11T02:20:53.076Z"
      },
      {
        "duration": 6,
        "start_time": "2023-03-11T02:21:06.957Z"
      },
      {
        "duration": 4,
        "start_time": "2023-03-11T02:21:17.389Z"
      },
      {
        "duration": 69,
        "start_time": "2023-03-11T02:21:34.342Z"
      },
      {
        "duration": 2249,
        "start_time": "2023-03-11T02:21:43.895Z"
      },
      {
        "duration": 10,
        "start_time": "2023-03-11T02:22:08.015Z"
      },
      {
        "duration": 4,
        "start_time": "2023-03-11T02:22:33.456Z"
      },
      {
        "duration": 2097,
        "start_time": "2023-03-11T02:22:48.361Z"
      },
      {
        "duration": 4,
        "start_time": "2023-03-11T02:23:09.914Z"
      },
      {
        "duration": 2121,
        "start_time": "2023-03-11T02:23:27.259Z"
      },
      {
        "duration": 10,
        "start_time": "2023-03-11T02:23:37.876Z"
      },
      {
        "duration": 69,
        "start_time": "2023-03-11T02:23:51.324Z"
      },
      {
        "duration": 10,
        "start_time": "2023-03-11T02:23:54.444Z"
      },
      {
        "duration": 4,
        "start_time": "2023-03-11T02:24:37.493Z"
      },
      {
        "duration": 19,
        "start_time": "2023-03-11T02:24:48.158Z"
      },
      {
        "duration": 19,
        "start_time": "2023-03-11T02:25:02.247Z"
      },
      {
        "duration": 184,
        "start_time": "2023-03-11T02:25:11.383Z"
      },
      {
        "duration": 1407,
        "start_time": "2023-03-11T02:25:29.407Z"
      },
      {
        "duration": 722,
        "start_time": "2023-03-11T02:25:30.816Z"
      },
      {
        "duration": 25,
        "start_time": "2023-03-11T02:25:31.541Z"
      },
      {
        "duration": 29,
        "start_time": "2023-03-11T02:25:31.568Z"
      },
      {
        "duration": 34,
        "start_time": "2023-03-11T02:25:31.599Z"
      },
      {
        "duration": 30,
        "start_time": "2023-03-11T02:25:31.634Z"
      },
      {
        "duration": 43,
        "start_time": "2023-03-11T02:25:31.665Z"
      },
      {
        "duration": 47,
        "start_time": "2023-03-11T02:25:31.710Z"
      },
      {
        "duration": 27,
        "start_time": "2023-03-11T02:25:31.759Z"
      },
      {
        "duration": 11,
        "start_time": "2023-03-11T02:25:31.789Z"
      },
      {
        "duration": 242,
        "start_time": "2023-03-11T02:25:31.802Z"
      },
      {
        "duration": 21,
        "start_time": "2023-03-11T02:25:32.046Z"
      },
      {
        "duration": 6,
        "start_time": "2023-03-11T02:25:32.069Z"
      },
      {
        "duration": 35,
        "start_time": "2023-03-11T02:25:32.076Z"
      },
      {
        "duration": 230,
        "start_time": "2023-03-11T02:25:32.113Z"
      },
      {
        "duration": 17,
        "start_time": "2023-03-11T02:25:32.345Z"
      },
      {
        "duration": 737,
        "start_time": "2023-03-11T02:25:32.364Z"
      },
      {
        "duration": 634,
        "start_time": "2023-03-11T02:25:33.103Z"
      },
      {
        "duration": 787,
        "start_time": "2023-03-11T02:25:33.739Z"
      },
      {
        "duration": 810,
        "start_time": "2023-03-11T02:25:34.529Z"
      },
      {
        "duration": 882,
        "start_time": "2023-03-11T02:25:35.341Z"
      },
      {
        "duration": 9,
        "start_time": "2023-03-11T02:25:36.225Z"
      },
      {
        "duration": 27,
        "start_time": "2023-03-11T02:25:36.235Z"
      },
      {
        "duration": 772,
        "start_time": "2023-03-11T02:25:36.265Z"
      },
      {
        "duration": 9,
        "start_time": "2023-03-11T02:25:37.039Z"
      },
      {
        "duration": 6,
        "start_time": "2023-03-11T02:25:37.056Z"
      },
      {
        "duration": 18,
        "start_time": "2023-03-11T02:25:37.064Z"
      },
      {
        "duration": 778,
        "start_time": "2023-03-11T02:25:37.088Z"
      },
      {
        "duration": 26,
        "start_time": "2023-03-11T02:25:37.868Z"
      },
      {
        "duration": 6,
        "start_time": "2023-03-11T02:25:37.896Z"
      },
      {
        "duration": 7,
        "start_time": "2023-03-11T02:25:37.904Z"
      },
      {
        "duration": 273,
        "start_time": "2023-03-11T02:25:37.913Z"
      },
      {
        "duration": 12,
        "start_time": "2023-03-11T02:25:38.187Z"
      },
      {
        "duration": 4,
        "start_time": "2023-03-11T02:25:38.200Z"
      },
      {
        "duration": 14,
        "start_time": "2023-03-11T02:25:38.205Z"
      },
      {
        "duration": 8,
        "start_time": "2023-03-11T02:25:38.221Z"
      },
      {
        "duration": 6,
        "start_time": "2023-03-11T02:25:38.231Z"
      },
      {
        "duration": 23,
        "start_time": "2023-03-11T02:25:38.238Z"
      },
      {
        "duration": 11,
        "start_time": "2023-03-11T02:25:38.262Z"
      },
      {
        "duration": 33,
        "start_time": "2023-03-11T02:25:38.275Z"
      },
      {
        "duration": 6,
        "start_time": "2023-03-11T02:25:38.310Z"
      },
      {
        "duration": 12,
        "start_time": "2023-03-11T02:25:38.318Z"
      },
      {
        "duration": 162,
        "start_time": "2023-03-11T02:25:38.332Z"
      },
      {
        "duration": 25,
        "start_time": "2023-03-11T02:25:38.495Z"
      },
      {
        "duration": 3,
        "start_time": "2023-03-11T02:25:38.522Z"
      },
      {
        "duration": 7,
        "start_time": "2023-03-11T02:25:38.527Z"
      },
      {
        "duration": 326,
        "start_time": "2023-03-11T02:25:38.536Z"
      },
      {
        "duration": 293,
        "start_time": "2023-03-11T02:25:38.864Z"
      },
      {
        "duration": 6,
        "start_time": "2023-03-11T02:25:39.160Z"
      },
      {
        "duration": 1457,
        "start_time": "2023-03-11T03:44:54.658Z"
      },
      {
        "duration": 720,
        "start_time": "2023-03-11T03:44:56.117Z"
      },
      {
        "duration": 24,
        "start_time": "2023-03-11T03:44:56.839Z"
      },
      {
        "duration": 17,
        "start_time": "2023-03-11T03:44:56.864Z"
      },
      {
        "duration": 22,
        "start_time": "2023-03-11T03:44:56.883Z"
      },
      {
        "duration": 17,
        "start_time": "2023-03-11T03:44:56.906Z"
      },
      {
        "duration": 40,
        "start_time": "2023-03-11T03:44:56.925Z"
      },
      {
        "duration": 18,
        "start_time": "2023-03-11T03:44:56.967Z"
      },
      {
        "duration": 12,
        "start_time": "2023-03-11T03:44:56.987Z"
      },
      {
        "duration": 7,
        "start_time": "2023-03-11T03:44:57.001Z"
      },
      {
        "duration": 248,
        "start_time": "2023-03-11T03:44:57.009Z"
      },
      {
        "duration": 14,
        "start_time": "2023-03-11T03:44:57.258Z"
      },
      {
        "duration": 4,
        "start_time": "2023-03-11T03:44:57.274Z"
      },
      {
        "duration": 13,
        "start_time": "2023-03-11T03:44:57.281Z"
      },
      {
        "duration": 234,
        "start_time": "2023-03-11T03:44:57.296Z"
      },
      {
        "duration": 10,
        "start_time": "2023-03-11T03:44:57.531Z"
      },
      {
        "duration": 714,
        "start_time": "2023-03-11T03:44:57.543Z"
      },
      {
        "duration": 647,
        "start_time": "2023-03-11T03:44:58.259Z"
      },
      {
        "duration": 748,
        "start_time": "2023-03-11T03:44:58.908Z"
      },
      {
        "duration": 756,
        "start_time": "2023-03-11T03:44:59.658Z"
      },
      {
        "duration": 882,
        "start_time": "2023-03-11T03:45:00.416Z"
      },
      {
        "duration": 10,
        "start_time": "2023-03-11T03:45:01.300Z"
      },
      {
        "duration": 22,
        "start_time": "2023-03-11T03:45:01.312Z"
      },
      {
        "duration": 794,
        "start_time": "2023-03-11T03:45:01.336Z"
      },
      {
        "duration": 8,
        "start_time": "2023-03-11T03:45:02.132Z"
      },
      {
        "duration": 63,
        "start_time": "2023-03-11T03:45:02.143Z"
      },
      {
        "duration": 43,
        "start_time": "2023-03-11T03:45:02.209Z"
      },
      {
        "duration": 801,
        "start_time": "2023-03-11T03:45:02.254Z"
      },
      {
        "duration": 26,
        "start_time": "2023-03-11T03:45:03.057Z"
      },
      {
        "duration": 9,
        "start_time": "2023-03-11T03:45:03.085Z"
      },
      {
        "duration": 39,
        "start_time": "2023-03-11T03:45:03.096Z"
      },
      {
        "duration": 287,
        "start_time": "2023-03-11T03:45:03.137Z"
      },
      {
        "duration": 11,
        "start_time": "2023-03-11T03:45:03.426Z"
      },
      {
        "duration": 15,
        "start_time": "2023-03-11T03:45:03.439Z"
      },
      {
        "duration": 31,
        "start_time": "2023-03-11T03:45:03.455Z"
      },
      {
        "duration": 12,
        "start_time": "2023-03-11T03:45:03.488Z"
      },
      {
        "duration": 32,
        "start_time": "2023-03-11T03:45:03.502Z"
      },
      {
        "duration": 17,
        "start_time": "2023-03-11T03:45:03.536Z"
      },
      {
        "duration": 22,
        "start_time": "2023-03-11T03:45:03.555Z"
      },
      {
        "duration": 43,
        "start_time": "2023-03-11T03:45:03.579Z"
      },
      {
        "duration": 26,
        "start_time": "2023-03-11T03:45:03.625Z"
      },
      {
        "duration": 24,
        "start_time": "2023-03-11T03:45:03.653Z"
      },
      {
        "duration": 149,
        "start_time": "2023-03-11T03:45:03.679Z"
      },
      {
        "duration": 27,
        "start_time": "2023-03-11T03:45:03.830Z"
      },
      {
        "duration": 3,
        "start_time": "2023-03-11T03:45:03.859Z"
      },
      {
        "duration": 17,
        "start_time": "2023-03-11T03:45:03.864Z"
      },
      {
        "duration": 182,
        "start_time": "2023-03-11T03:45:03.883Z"
      },
      {
        "duration": 107,
        "start_time": "2023-03-11T03:45:04.068Z"
      },
      {
        "duration": 182,
        "start_time": "2023-03-11T03:45:04.177Z"
      },
      {
        "duration": 26,
        "start_time": "2023-03-11T03:45:04.360Z"
      },
      {
        "duration": 2309,
        "start_time": "2023-03-11T03:45:04.387Z"
      },
      {
        "duration": 8,
        "start_time": "2023-03-11T03:45:06.698Z"
      },
      {
        "duration": 32,
        "start_time": "2023-03-11T03:45:06.707Z"
      },
      {
        "duration": 30,
        "start_time": "2023-03-11T03:45:06.741Z"
      },
      {
        "duration": 23,
        "start_time": "2023-03-11T03:45:06.773Z"
      },
      {
        "duration": 147,
        "start_time": "2023-03-11T03:45:06.798Z"
      },
      {
        "duration": 83,
        "start_time": "2023-03-11T03:45:06.947Z"
      },
      {
        "duration": 608944,
        "start_time": "2023-03-11T03:46:26.372Z"
      },
      {
        "duration": 3,
        "start_time": "2023-03-11T03:58:29.114Z"
      },
      {
        "duration": 233287,
        "start_time": "2023-03-11T04:04:47.411Z"
      },
      {
        "duration": 5,
        "start_time": "2023-03-11T04:09:21.484Z"
      },
      {
        "duration": 5,
        "start_time": "2023-03-11T04:30:09.639Z"
      },
      {
        "duration": 1168807,
        "start_time": "2023-03-11T04:31:20.433Z"
      },
      {
        "duration": 4,
        "start_time": "2023-03-11T04:52:33.227Z"
      },
      {
        "duration": 5,
        "start_time": "2023-03-11T04:52:53.194Z"
      },
      {
        "duration": 4,
        "start_time": "2023-03-11T04:56:23.589Z"
      },
      {
        "duration": 4,
        "start_time": "2023-03-11T04:56:44.500Z"
      },
      {
        "duration": 4,
        "start_time": "2023-03-11T04:57:21.555Z"
      },
      {
        "duration": 4,
        "start_time": "2023-03-11T04:58:23.026Z"
      },
      {
        "duration": 5,
        "start_time": "2023-03-11T04:58:47.180Z"
      },
      {
        "duration": 4,
        "start_time": "2023-03-11T05:03:55.815Z"
      },
      {
        "duration": 3,
        "start_time": "2023-03-11T05:04:22.249Z"
      },
      {
        "duration": 1232,
        "start_time": "2023-03-11T05:05:17.115Z"
      },
      {
        "duration": 541,
        "start_time": "2023-03-11T05:05:31.277Z"
      },
      {
        "duration": 5,
        "start_time": "2023-03-11T05:05:35.124Z"
      },
      {
        "duration": 1727,
        "start_time": "2023-03-11T05:05:55.098Z"
      },
      {
        "duration": 5,
        "start_time": "2023-03-11T05:05:58.900Z"
      },
      {
        "duration": 735,
        "start_time": "2023-03-11T05:07:12.501Z"
      },
      {
        "duration": 1444,
        "start_time": "2023-03-11T05:12:35.672Z"
      },
      {
        "duration": 719,
        "start_time": "2023-03-11T05:12:37.118Z"
      },
      {
        "duration": 25,
        "start_time": "2023-03-11T05:12:37.838Z"
      },
      {
        "duration": 17,
        "start_time": "2023-03-11T05:12:37.865Z"
      },
      {
        "duration": 21,
        "start_time": "2023-03-11T05:12:37.884Z"
      },
      {
        "duration": 14,
        "start_time": "2023-03-11T05:12:37.907Z"
      },
      {
        "duration": 44,
        "start_time": "2023-03-11T05:12:37.922Z"
      },
      {
        "duration": 16,
        "start_time": "2023-03-11T05:12:37.968Z"
      },
      {
        "duration": 11,
        "start_time": "2023-03-11T05:12:37.986Z"
      },
      {
        "duration": 7,
        "start_time": "2023-03-11T05:12:38.000Z"
      },
      {
        "duration": 264,
        "start_time": "2023-03-11T05:12:38.009Z"
      },
      {
        "duration": 14,
        "start_time": "2023-03-11T05:12:38.275Z"
      },
      {
        "duration": 5,
        "start_time": "2023-03-11T05:12:38.290Z"
      },
      {
        "duration": 12,
        "start_time": "2023-03-11T05:12:38.296Z"
      },
      {
        "duration": 241,
        "start_time": "2023-03-11T05:12:38.310Z"
      },
      {
        "duration": 10,
        "start_time": "2023-03-11T05:12:38.556Z"
      },
      {
        "duration": 743,
        "start_time": "2023-03-11T05:12:38.568Z"
      },
      {
        "duration": 644,
        "start_time": "2023-03-11T05:12:39.313Z"
      },
      {
        "duration": 765,
        "start_time": "2023-03-11T05:12:39.959Z"
      },
      {
        "duration": 788,
        "start_time": "2023-03-11T05:12:40.726Z"
      },
      {
        "duration": 882,
        "start_time": "2023-03-11T05:12:41.515Z"
      },
      {
        "duration": 8,
        "start_time": "2023-03-11T05:12:42.398Z"
      },
      {
        "duration": 26,
        "start_time": "2023-03-11T05:12:42.407Z"
      },
      {
        "duration": 766,
        "start_time": "2023-03-11T05:12:42.434Z"
      },
      {
        "duration": 9,
        "start_time": "2023-03-11T05:12:43.202Z"
      },
      {
        "duration": 5,
        "start_time": "2023-03-11T05:12:43.213Z"
      },
      {
        "duration": 10,
        "start_time": "2023-03-11T05:12:43.220Z"
      },
      {
        "duration": 766,
        "start_time": "2023-03-11T05:12:43.233Z"
      },
      {
        "duration": 24,
        "start_time": "2023-03-11T05:12:44.001Z"
      },
      {
        "duration": 6,
        "start_time": "2023-03-11T05:12:44.026Z"
      },
      {
        "duration": 24,
        "start_time": "2023-03-11T05:12:44.034Z"
      },
      {
        "duration": 268,
        "start_time": "2023-03-11T05:12:44.060Z"
      },
      {
        "duration": 11,
        "start_time": "2023-03-11T05:12:44.329Z"
      },
      {
        "duration": 3,
        "start_time": "2023-03-11T05:12:44.341Z"
      },
      {
        "duration": 15,
        "start_time": "2023-03-11T05:12:44.346Z"
      },
      {
        "duration": 12,
        "start_time": "2023-03-11T05:12:44.363Z"
      },
      {
        "duration": 9,
        "start_time": "2023-03-11T05:12:44.377Z"
      },
      {
        "duration": 6,
        "start_time": "2023-03-11T05:12:44.389Z"
      },
      {
        "duration": 10,
        "start_time": "2023-03-11T05:12:44.397Z"
      },
      {
        "duration": 51,
        "start_time": "2023-03-11T05:12:44.409Z"
      },
      {
        "duration": 6,
        "start_time": "2023-03-11T05:12:44.462Z"
      },
      {
        "duration": 6,
        "start_time": "2023-03-11T05:12:44.469Z"
      },
      {
        "duration": 147,
        "start_time": "2023-03-11T05:12:44.477Z"
      },
      {
        "duration": 31,
        "start_time": "2023-03-11T05:12:44.626Z"
      },
      {
        "duration": 3,
        "start_time": "2023-03-11T05:12:44.659Z"
      },
      {
        "duration": 7,
        "start_time": "2023-03-11T05:12:44.663Z"
      },
      {
        "duration": 200,
        "start_time": "2023-03-11T05:12:44.671Z"
      },
      {
        "duration": 100,
        "start_time": "2023-03-11T05:12:44.957Z"
      },
      {
        "duration": 22067,
        "start_time": "2023-03-11T05:12:45.060Z"
      },
      {
        "duration": 0,
        "start_time": "2023-03-11T05:13:07.129Z"
      },
      {
        "duration": 0,
        "start_time": "2023-03-11T05:13:07.130Z"
      },
      {
        "duration": 0,
        "start_time": "2023-03-11T05:13:07.131Z"
      },
      {
        "duration": 0,
        "start_time": "2023-03-11T05:13:07.132Z"
      },
      {
        "duration": 0,
        "start_time": "2023-03-11T05:13:07.133Z"
      },
      {
        "duration": 11374,
        "start_time": "2023-03-11T05:13:11.710Z"
      },
      {
        "duration": 586,
        "start_time": "2023-03-11T05:13:27.408Z"
      },
      {
        "duration": 4,
        "start_time": "2023-03-11T05:13:33.847Z"
      },
      {
        "duration": 1445,
        "start_time": "2023-03-11T05:32:53.411Z"
      },
      {
        "duration": 835,
        "start_time": "2023-03-11T05:32:54.858Z"
      },
      {
        "duration": 26,
        "start_time": "2023-03-11T05:32:55.695Z"
      },
      {
        "duration": 37,
        "start_time": "2023-03-11T05:32:55.723Z"
      },
      {
        "duration": 23,
        "start_time": "2023-03-11T05:32:55.763Z"
      },
      {
        "duration": 16,
        "start_time": "2023-03-11T05:32:55.788Z"
      },
      {
        "duration": 23,
        "start_time": "2023-03-11T05:32:55.805Z"
      },
      {
        "duration": 20,
        "start_time": "2023-03-11T05:32:55.856Z"
      },
      {
        "duration": 13,
        "start_time": "2023-03-11T05:32:55.878Z"
      },
      {
        "duration": 7,
        "start_time": "2023-03-11T05:32:55.893Z"
      },
      {
        "duration": 258,
        "start_time": "2023-03-11T05:32:55.902Z"
      },
      {
        "duration": 15,
        "start_time": "2023-03-11T05:32:56.162Z"
      },
      {
        "duration": 4,
        "start_time": "2023-03-11T05:32:56.179Z"
      },
      {
        "duration": 10,
        "start_time": "2023-03-11T05:32:56.186Z"
      },
      {
        "duration": 247,
        "start_time": "2023-03-11T05:32:56.198Z"
      },
      {
        "duration": 11,
        "start_time": "2023-03-11T05:32:56.447Z"
      },
      {
        "duration": 753,
        "start_time": "2023-03-11T05:32:56.460Z"
      },
      {
        "duration": 662,
        "start_time": "2023-03-11T05:32:57.215Z"
      },
      {
        "duration": 770,
        "start_time": "2023-03-11T05:32:57.879Z"
      },
      {
        "duration": 776,
        "start_time": "2023-03-11T05:32:58.657Z"
      },
      {
        "duration": 906,
        "start_time": "2023-03-11T05:32:59.436Z"
      },
      {
        "duration": 14,
        "start_time": "2023-03-11T05:33:00.344Z"
      },
      {
        "duration": 24,
        "start_time": "2023-03-11T05:33:00.360Z"
      },
      {
        "duration": 821,
        "start_time": "2023-03-11T05:33:00.386Z"
      },
      {
        "duration": 10,
        "start_time": "2023-03-11T05:33:01.209Z"
      },
      {
        "duration": 15,
        "start_time": "2023-03-11T05:33:01.221Z"
      },
      {
        "duration": 22,
        "start_time": "2023-03-11T05:33:01.238Z"
      },
      {
        "duration": 813,
        "start_time": "2023-03-11T05:33:01.262Z"
      },
      {
        "duration": 27,
        "start_time": "2023-03-11T05:33:02.077Z"
      },
      {
        "duration": 7,
        "start_time": "2023-03-11T05:33:02.106Z"
      },
      {
        "duration": 48,
        "start_time": "2023-03-11T05:33:02.115Z"
      },
      {
        "duration": 311,
        "start_time": "2023-03-11T05:33:02.166Z"
      },
      {
        "duration": 12,
        "start_time": "2023-03-11T05:33:02.479Z"
      },
      {
        "duration": 17,
        "start_time": "2023-03-11T05:33:02.492Z"
      },
      {
        "duration": 21,
        "start_time": "2023-03-11T05:33:02.511Z"
      },
      {
        "duration": 22,
        "start_time": "2023-03-11T05:33:02.533Z"
      },
      {
        "duration": 49,
        "start_time": "2023-03-11T05:33:02.557Z"
      },
      {
        "duration": 23,
        "start_time": "2023-03-11T05:33:02.608Z"
      },
      {
        "duration": 29,
        "start_time": "2023-03-11T05:33:02.633Z"
      },
      {
        "duration": 49,
        "start_time": "2023-03-11T05:33:02.664Z"
      },
      {
        "duration": 36,
        "start_time": "2023-03-11T05:33:02.717Z"
      },
      {
        "duration": 48,
        "start_time": "2023-03-11T05:33:02.757Z"
      },
      {
        "duration": 141,
        "start_time": "2023-03-11T05:33:02.807Z"
      },
      {
        "duration": 28,
        "start_time": "2023-03-11T05:33:02.950Z"
      },
      {
        "duration": 3,
        "start_time": "2023-03-11T05:33:02.979Z"
      },
      {
        "duration": 20,
        "start_time": "2023-03-11T05:33:02.984Z"
      },
      {
        "duration": 155,
        "start_time": "2023-03-11T05:33:03.006Z"
      },
      {
        "duration": 87,
        "start_time": "2023-03-11T05:33:29.170Z"
      },
      {
        "duration": 38984,
        "start_time": "2023-03-11T05:33:42.611Z"
      },
      {
        "duration": 83,
        "start_time": "2023-03-11T05:34:38.126Z"
      },
      {
        "duration": 3,
        "start_time": "2023-03-11T05:34:48.447Z"
      },
      {
        "duration": 957151,
        "start_time": "2023-03-11T05:35:04.502Z"
      },
      {
        "duration": 19,
        "start_time": "2023-03-11T05:51:26.699Z"
      },
      {
        "duration": 40224,
        "start_time": "2023-03-11T05:51:59.961Z"
      },
      {
        "duration": 4,
        "start_time": "2023-03-11T05:52:43.018Z"
      },
      {
        "duration": 15082,
        "start_time": "2023-03-11T05:53:26.739Z"
      },
      {
        "duration": 5,
        "start_time": "2023-03-11T05:53:54.696Z"
      },
      {
        "duration": 17,
        "start_time": "2023-03-11T05:54:45.307Z"
      },
      {
        "duration": 5,
        "start_time": "2023-03-11T05:55:27.049Z"
      },
      {
        "duration": 5,
        "start_time": "2023-03-11T05:55:30.599Z"
      },
      {
        "duration": 2825,
        "start_time": "2023-03-11T05:55:50.378Z"
      },
      {
        "duration": 4,
        "start_time": "2023-03-11T05:56:00.294Z"
      },
      {
        "duration": 2637,
        "start_time": "2023-03-11T05:56:15.373Z"
      },
      {
        "duration": 4,
        "start_time": "2023-03-11T05:56:20.010Z"
      },
      {
        "duration": 14770,
        "start_time": "2023-03-11T05:57:26.493Z"
      },
      {
        "duration": 5,
        "start_time": "2023-03-11T05:58:07.446Z"
      },
      {
        "duration": 4,
        "start_time": "2023-03-11T05:58:09.238Z"
      },
      {
        "duration": 83,
        "start_time": "2023-03-11T06:03:29.027Z"
      },
      {
        "duration": 9877,
        "start_time": "2023-03-11T06:05:10.544Z"
      },
      {
        "duration": 44,
        "start_time": "2023-03-11T06:05:36.803Z"
      },
      {
        "duration": 17,
        "start_time": "2023-03-11T06:06:12.928Z"
      },
      {
        "duration": 10,
        "start_time": "2023-03-11T06:06:21.597Z"
      },
      {
        "duration": 55,
        "start_time": "2023-03-11T06:06:37.026Z"
      },
      {
        "duration": 5,
        "start_time": "2023-03-11T06:08:28.558Z"
      },
      {
        "duration": 5,
        "start_time": "2023-03-11T06:10:25.400Z"
      },
      {
        "duration": 25,
        "start_time": "2023-03-11T06:11:29.471Z"
      },
      {
        "duration": 52523,
        "start_time": "2023-03-11T06:12:48.826Z"
      },
      {
        "duration": 4444,
        "start_time": "2023-03-11T06:13:45.006Z"
      },
      {
        "duration": 5,
        "start_time": "2023-03-11T06:13:51.444Z"
      },
      {
        "duration": 11256,
        "start_time": "2023-03-11T06:13:58.132Z"
      },
      {
        "duration": 4,
        "start_time": "2023-03-11T06:14:11.236Z"
      },
      {
        "duration": 5667,
        "start_time": "2023-03-11T06:14:19.860Z"
      },
      {
        "duration": 5,
        "start_time": "2023-03-11T06:14:27.423Z"
      },
      {
        "duration": 5,
        "start_time": "2023-03-11T06:14:33.831Z"
      },
      {
        "duration": 4799,
        "start_time": "2023-03-11T06:14:35.908Z"
      },
      {
        "duration": 4,
        "start_time": "2023-03-11T06:14:43.340Z"
      },
      {
        "duration": 4732,
        "start_time": "2023-03-11T06:18:51.730Z"
      },
      {
        "duration": 169253,
        "start_time": "2023-03-11T06:19:25.459Z"
      },
      {
        "duration": 6,
        "start_time": "2023-03-11T06:22:26.648Z"
      },
      {
        "duration": 5,
        "start_time": "2023-03-11T06:22:33.226Z"
      },
      {
        "duration": 4,
        "start_time": "2023-03-11T06:28:37.647Z"
      },
      {
        "duration": 6,
        "start_time": "2023-03-11T06:28:40.077Z"
      },
      {
        "duration": 388920,
        "start_time": "2023-03-11T06:31:16.029Z"
      },
      {
        "duration": 5,
        "start_time": "2023-03-11T06:40:27.526Z"
      },
      {
        "duration": 5,
        "start_time": "2023-03-11T06:40:34.172Z"
      },
      {
        "duration": 5,
        "start_time": "2023-03-11T06:41:25.847Z"
      },
      {
        "duration": 4,
        "start_time": "2023-03-11T06:42:00.768Z"
      },
      {
        "duration": 1606,
        "start_time": "2023-03-11T06:42:45.820Z"
      },
      {
        "duration": 770,
        "start_time": "2023-03-11T06:42:47.428Z"
      },
      {
        "duration": 25,
        "start_time": "2023-03-11T06:42:48.200Z"
      },
      {
        "duration": 36,
        "start_time": "2023-03-11T06:42:48.228Z"
      },
      {
        "duration": 28,
        "start_time": "2023-03-11T06:42:48.265Z"
      },
      {
        "duration": 15,
        "start_time": "2023-03-11T06:42:48.296Z"
      },
      {
        "duration": 20,
        "start_time": "2023-03-11T06:42:48.313Z"
      },
      {
        "duration": 21,
        "start_time": "2023-03-11T06:42:48.358Z"
      },
      {
        "duration": 15,
        "start_time": "2023-03-11T06:42:48.381Z"
      },
      {
        "duration": 9,
        "start_time": "2023-03-11T06:42:48.400Z"
      },
      {
        "duration": 262,
        "start_time": "2023-03-11T06:42:48.411Z"
      },
      {
        "duration": 18,
        "start_time": "2023-03-11T06:42:48.680Z"
      },
      {
        "duration": 6,
        "start_time": "2023-03-11T06:42:48.701Z"
      },
      {
        "duration": 14,
        "start_time": "2023-03-11T06:42:48.709Z"
      },
      {
        "duration": 254,
        "start_time": "2023-03-11T06:42:48.725Z"
      },
      {
        "duration": 12,
        "start_time": "2023-03-11T06:42:48.981Z"
      },
      {
        "duration": 800,
        "start_time": "2023-03-11T06:42:48.996Z"
      },
      {
        "duration": 753,
        "start_time": "2023-03-11T06:42:49.798Z"
      },
      {
        "duration": 841,
        "start_time": "2023-03-11T06:42:50.553Z"
      },
      {
        "duration": 858,
        "start_time": "2023-03-11T06:42:51.396Z"
      },
      {
        "duration": 1022,
        "start_time": "2023-03-11T06:42:52.257Z"
      },
      {
        "duration": 9,
        "start_time": "2023-03-11T06:42:53.281Z"
      },
      {
        "duration": 23,
        "start_time": "2023-03-11T06:42:53.292Z"
      },
      {
        "duration": 849,
        "start_time": "2023-03-11T06:42:53.317Z"
      },
      {
        "duration": 10,
        "start_time": "2023-03-11T06:42:54.168Z"
      },
      {
        "duration": 6,
        "start_time": "2023-03-11T06:42:54.180Z"
      },
      {
        "duration": 26,
        "start_time": "2023-03-11T06:42:54.188Z"
      },
      {
        "duration": 801,
        "start_time": "2023-03-11T06:42:54.218Z"
      },
      {
        "duration": 40,
        "start_time": "2023-03-11T06:42:55.021Z"
      },
      {
        "duration": 7,
        "start_time": "2023-03-11T06:42:55.064Z"
      },
      {
        "duration": 7,
        "start_time": "2023-03-11T06:42:55.073Z"
      },
      {
        "duration": 349,
        "start_time": "2023-03-11T06:42:55.081Z"
      },
      {
        "duration": 13,
        "start_time": "2023-03-11T06:42:55.432Z"
      },
      {
        "duration": 12,
        "start_time": "2023-03-11T06:42:55.447Z"
      },
      {
        "duration": 15,
        "start_time": "2023-03-11T06:42:55.461Z"
      },
      {
        "duration": 14,
        "start_time": "2023-03-11T06:42:55.479Z"
      },
      {
        "duration": 16,
        "start_time": "2023-03-11T06:42:55.497Z"
      },
      {
        "duration": 41,
        "start_time": "2023-03-11T06:42:55.515Z"
      },
      {
        "duration": 12,
        "start_time": "2023-03-11T06:42:55.558Z"
      },
      {
        "duration": 53,
        "start_time": "2023-03-11T06:42:55.572Z"
      },
      {
        "duration": 11,
        "start_time": "2023-03-11T06:42:55.627Z"
      },
      {
        "duration": 8,
        "start_time": "2023-03-11T06:42:55.661Z"
      },
      {
        "duration": 148,
        "start_time": "2023-03-11T06:42:55.672Z"
      },
      {
        "duration": 35,
        "start_time": "2023-03-11T06:42:55.822Z"
      },
      {
        "duration": 3,
        "start_time": "2023-03-11T06:42:55.859Z"
      },
      {
        "duration": 7,
        "start_time": "2023-03-11T06:42:55.864Z"
      },
      {
        "duration": 289,
        "start_time": "2023-03-11T06:42:55.873Z"
      },
      {
        "duration": 196,
        "start_time": "2023-03-11T06:42:56.165Z"
      },
      {
        "duration": 1267223,
        "start_time": "2023-03-11T06:42:56.363Z"
      },
      {
        "duration": 3,
        "start_time": "2023-03-11T07:04:03.588Z"
      },
      {
        "duration": 242605,
        "start_time": "2023-03-11T07:04:03.592Z"
      },
      {
        "duration": 4,
        "start_time": "2023-03-11T07:08:06.198Z"
      },
      {
        "duration": 173,
        "start_time": "2023-03-11T07:08:06.204Z"
      },
      {
        "duration": 0,
        "start_time": "2023-03-11T07:08:06.379Z"
      },
      {
        "duration": 0,
        "start_time": "2023-03-11T07:08:06.380Z"
      },
      {
        "duration": 0,
        "start_time": "2023-03-11T07:08:06.381Z"
      },
      {
        "duration": 0,
        "start_time": "2023-03-11T07:08:06.383Z"
      },
      {
        "duration": 0,
        "start_time": "2023-03-11T07:08:06.384Z"
      },
      {
        "duration": 622238,
        "start_time": "2023-03-11T07:12:44.157Z"
      },
      {
        "duration": 4,
        "start_time": "2023-03-11T07:23:43.802Z"
      },
      {
        "duration": 800780,
        "start_time": "2023-03-11T07:23:45.500Z"
      },
      {
        "duration": 4,
        "start_time": "2023-03-11T07:39:28.354Z"
      },
      {
        "duration": 10023,
        "start_time": "2023-03-11T07:39:31.504Z"
      },
      {
        "duration": 4,
        "start_time": "2023-03-11T07:42:19.460Z"
      },
      {
        "duration": 4,
        "start_time": "2023-03-11T07:44:42.891Z"
      },
      {
        "duration": 12,
        "start_time": "2023-03-11T07:52:04.453Z"
      },
      {
        "duration": 4,
        "start_time": "2023-03-11T07:52:07.485Z"
      },
      {
        "duration": 5,
        "start_time": "2023-03-11T07:52:10.020Z"
      },
      {
        "duration": 12,
        "start_time": "2023-03-11T07:52:21.942Z"
      },
      {
        "duration": 15,
        "start_time": "2023-03-11T07:52:26.943Z"
      },
      {
        "duration": 14,
        "start_time": "2023-03-11T07:52:41.726Z"
      },
      {
        "duration": 4,
        "start_time": "2023-03-11T07:57:07.425Z"
      },
      {
        "duration": 9,
        "start_time": "2023-03-11T07:57:11.657Z"
      },
      {
        "duration": 31,
        "start_time": "2023-03-11T07:59:17.676Z"
      },
      {
        "duration": 315,
        "start_time": "2023-03-11T07:59:27.821Z"
      },
      {
        "duration": 29,
        "start_time": "2023-03-11T08:00:08.561Z"
      },
      {
        "duration": 5,
        "start_time": "2023-03-11T08:00:28.893Z"
      },
      {
        "duration": 15,
        "start_time": "2023-03-11T08:00:30.391Z"
      },
      {
        "duration": 14,
        "start_time": "2023-03-11T08:00:45.384Z"
      },
      {
        "duration": 5,
        "start_time": "2023-03-11T08:00:56.961Z"
      },
      {
        "duration": 301,
        "start_time": "2023-03-11T08:01:00.629Z"
      },
      {
        "duration": 296,
        "start_time": "2023-03-11T08:01:39.651Z"
      },
      {
        "duration": 1172,
        "start_time": "2023-03-11T08:04:11.863Z"
      },
      {
        "duration": 1181,
        "start_time": "2023-03-11T08:04:19.410Z"
      },
      {
        "duration": 332,
        "start_time": "2023-03-11T08:04:31.371Z"
      },
      {
        "duration": 317,
        "start_time": "2023-03-11T08:05:09.245Z"
      },
      {
        "duration": 350,
        "start_time": "2023-03-11T08:05:14.793Z"
      },
      {
        "duration": 963,
        "start_time": "2023-03-11T08:08:00.261Z"
      },
      {
        "duration": 15754,
        "start_time": "2023-03-11T08:08:29.654Z"
      },
      {
        "duration": 4,
        "start_time": "2023-03-11T08:12:54.037Z"
      },
      {
        "duration": 4,
        "start_time": "2023-03-11T08:14:21.282Z"
      },
      {
        "duration": 17,
        "start_time": "2023-03-11T08:14:25.516Z"
      },
      {
        "duration": 14,
        "start_time": "2023-03-11T08:14:28.540Z"
      },
      {
        "duration": 4,
        "start_time": "2023-03-11T08:14:30.567Z"
      },
      {
        "duration": 4,
        "start_time": "2023-03-11T08:14:37.059Z"
      },
      {
        "duration": 307,
        "start_time": "2023-03-11T08:14:38.707Z"
      },
      {
        "duration": 10,
        "start_time": "2023-03-11T08:14:58.765Z"
      },
      {
        "duration": 314,
        "start_time": "2023-03-11T08:15:05.654Z"
      },
      {
        "duration": 336,
        "start_time": "2023-03-11T08:16:17.009Z"
      },
      {
        "duration": 571,
        "start_time": "2023-03-11T08:16:41.313Z"
      },
      {
        "duration": 288,
        "start_time": "2023-03-11T08:16:45.897Z"
      },
      {
        "duration": 332,
        "start_time": "2023-03-11T08:19:34.221Z"
      },
      {
        "duration": 306,
        "start_time": "2023-03-11T08:19:41.330Z"
      },
      {
        "duration": 255,
        "start_time": "2023-03-11T08:22:50.886Z"
      },
      {
        "duration": 301,
        "start_time": "2023-03-11T08:23:07.823Z"
      },
      {
        "duration": 326,
        "start_time": "2023-03-11T08:23:42.845Z"
      },
      {
        "duration": 284,
        "start_time": "2023-03-11T08:25:48.575Z"
      },
      {
        "duration": 312,
        "start_time": "2023-03-11T08:26:08.783Z"
      },
      {
        "duration": 344,
        "start_time": "2023-03-11T08:26:34.218Z"
      },
      {
        "duration": 8,
        "start_time": "2023-03-11T08:26:43.204Z"
      },
      {
        "duration": 330,
        "start_time": "2023-03-11T08:27:09.914Z"
      },
      {
        "duration": 287,
        "start_time": "2023-03-11T08:27:30.981Z"
      },
      {
        "duration": 331,
        "start_time": "2023-03-11T08:27:35.195Z"
      },
      {
        "duration": 269,
        "start_time": "2023-03-11T08:27:38.074Z"
      },
      {
        "duration": 274,
        "start_time": "2023-03-11T08:29:22.586Z"
      },
      {
        "duration": 5,
        "start_time": "2023-03-11T08:35:10.648Z"
      },
      {
        "duration": 3,
        "start_time": "2023-03-11T08:36:07.224Z"
      },
      {
        "duration": 4,
        "start_time": "2023-03-11T08:36:15.490Z"
      },
      {
        "duration": 4,
        "start_time": "2023-03-11T08:36:19.151Z"
      },
      {
        "duration": 4,
        "start_time": "2023-03-11T08:36:30.249Z"
      },
      {
        "duration": 8,
        "start_time": "2023-03-11T08:43:38.011Z"
      },
      {
        "duration": 4,
        "start_time": "2023-03-11T08:43:41.868Z"
      },
      {
        "duration": 4,
        "start_time": "2023-03-11T08:45:10.990Z"
      },
      {
        "duration": 4,
        "start_time": "2023-03-11T08:45:18.637Z"
      },
      {
        "duration": 3,
        "start_time": "2023-03-11T08:45:21.101Z"
      },
      {
        "duration": 3,
        "start_time": "2023-03-11T08:45:54.769Z"
      },
      {
        "duration": 13,
        "start_time": "2023-03-11T08:46:12.914Z"
      },
      {
        "duration": 11,
        "start_time": "2023-03-11T08:46:17.689Z"
      },
      {
        "duration": 4,
        "start_time": "2023-03-11T08:46:18.741Z"
      },
      {
        "duration": 4,
        "start_time": "2023-03-11T08:46:23.666Z"
      },
      {
        "duration": 86,
        "start_time": "2023-03-11T08:52:46.674Z"
      },
      {
        "duration": 14,
        "start_time": "2023-03-11T08:53:16.061Z"
      },
      {
        "duration": 194,
        "start_time": "2023-03-11T08:53:24.972Z"
      },
      {
        "duration": 11,
        "start_time": "2023-03-11T08:54:02.228Z"
      },
      {
        "duration": 4,
        "start_time": "2023-03-11T08:54:25.022Z"
      },
      {
        "duration": 9,
        "start_time": "2023-03-11T08:54:31.770Z"
      },
      {
        "duration": 12,
        "start_time": "2023-03-11T08:54:34.376Z"
      },
      {
        "duration": 4,
        "start_time": "2023-03-11T08:54:56.926Z"
      },
      {
        "duration": 9,
        "start_time": "2023-03-11T08:55:03.159Z"
      },
      {
        "duration": 14,
        "start_time": "2023-03-11T08:55:15.991Z"
      },
      {
        "duration": 6,
        "start_time": "2023-03-11T08:58:05.407Z"
      },
      {
        "duration": 13,
        "start_time": "2023-03-11T08:58:16.624Z"
      },
      {
        "duration": 6,
        "start_time": "2023-03-11T09:00:43.444Z"
      },
      {
        "duration": 13,
        "start_time": "2023-03-11T09:00:45.043Z"
      },
      {
        "duration": 6,
        "start_time": "2023-03-11T09:00:50.494Z"
      },
      {
        "duration": 50,
        "start_time": "2023-03-11T09:00:52.015Z"
      },
      {
        "duration": 4,
        "start_time": "2023-03-11T09:15:30.554Z"
      },
      {
        "duration": 5,
        "start_time": "2023-03-11T09:16:10.270Z"
      },
      {
        "duration": 13,
        "start_time": "2023-03-11T09:18:12.953Z"
      },
      {
        "duration": 7,
        "start_time": "2023-03-11T09:18:37.812Z"
      },
      {
        "duration": 13,
        "start_time": "2023-03-11T09:18:40.305Z"
      },
      {
        "duration": 38,
        "start_time": "2023-03-11T09:19:00.923Z"
      },
      {
        "duration": 69,
        "start_time": "2023-03-11T09:19:14.790Z"
      },
      {
        "duration": 3,
        "start_time": "2023-03-11T09:19:39.405Z"
      },
      {
        "duration": 61,
        "start_time": "2023-03-11T09:19:41.299Z"
      },
      {
        "duration": 4,
        "start_time": "2023-03-11T09:20:11.727Z"
      },
      {
        "duration": 98,
        "start_time": "2023-03-11T09:20:13.261Z"
      },
      {
        "duration": 4,
        "start_time": "2023-03-11T09:25:55.570Z"
      },
      {
        "duration": 6,
        "start_time": "2023-03-11T09:26:03.253Z"
      },
      {
        "duration": 5,
        "start_time": "2023-03-11T09:26:46.319Z"
      },
      {
        "duration": 4,
        "start_time": "2023-03-11T09:26:51.335Z"
      },
      {
        "duration": 6,
        "start_time": "2023-03-11T09:27:00.070Z"
      },
      {
        "duration": 4,
        "start_time": "2023-03-11T09:27:21.049Z"
      },
      {
        "duration": 6,
        "start_time": "2023-03-11T09:27:22.393Z"
      },
      {
        "duration": 5,
        "start_time": "2023-03-11T09:27:42.645Z"
      },
      {
        "duration": 14,
        "start_time": "2023-03-11T09:27:46.242Z"
      },
      {
        "duration": 11,
        "start_time": "2023-03-11T09:28:13.819Z"
      },
      {
        "duration": 11,
        "start_time": "2023-03-11T09:28:18.458Z"
      },
      {
        "duration": 407,
        "start_time": "2023-03-11T09:28:37.259Z"
      },
      {
        "duration": 5,
        "start_time": "2023-03-11T09:28:52.772Z"
      },
      {
        "duration": 6,
        "start_time": "2023-03-11T09:29:43.366Z"
      },
      {
        "duration": 8,
        "start_time": "2023-03-11T09:29:57.670Z"
      },
      {
        "duration": 4,
        "start_time": "2023-03-11T09:30:18.318Z"
      },
      {
        "duration": 1958,
        "start_time": "2023-03-11T09:30:20.363Z"
      },
      {
        "duration": 8,
        "start_time": "2023-03-11T09:30:24.892Z"
      },
      {
        "duration": 9,
        "start_time": "2023-03-11T09:30:43.240Z"
      },
      {
        "duration": 159,
        "start_time": "2023-03-11T09:30:55.362Z"
      },
      {
        "duration": 1971,
        "start_time": "2023-03-11T09:31:30.783Z"
      },
      {
        "duration": 128,
        "start_time": "2023-03-11T09:31:34.996Z"
      },
      {
        "duration": 8,
        "start_time": "2023-03-11T09:31:38.017Z"
      },
      {
        "duration": 6,
        "start_time": "2023-03-11T09:33:05.170Z"
      },
      {
        "duration": 1598,
        "start_time": "2023-03-11T09:33:07.421Z"
      },
      {
        "duration": 1608,
        "start_time": "2023-03-11T09:33:22.574Z"
      },
      {
        "duration": 10,
        "start_time": "2023-03-11T09:33:25.294Z"
      },
      {
        "duration": 126,
        "start_time": "2023-03-11T09:33:26.575Z"
      },
      {
        "duration": 4,
        "start_time": "2023-03-11T09:33:37.586Z"
      },
      {
        "duration": 1682,
        "start_time": "2023-03-11T09:33:39.231Z"
      },
      {
        "duration": 135,
        "start_time": "2023-03-11T09:33:43.233Z"
      },
      {
        "duration": 4,
        "start_time": "2023-03-11T09:33:47.760Z"
      },
      {
        "duration": 1722,
        "start_time": "2023-03-11T09:33:49.504Z"
      },
      {
        "duration": 122,
        "start_time": "2023-03-11T09:33:53.127Z"
      },
      {
        "duration": 4,
        "start_time": "2023-03-11T09:34:28.504Z"
      },
      {
        "duration": 1738,
        "start_time": "2023-03-11T09:34:30.426Z"
      },
      {
        "duration": 148,
        "start_time": "2023-03-11T09:34:33.754Z"
      },
      {
        "duration": 153,
        "start_time": "2023-03-11T09:35:06.515Z"
      },
      {
        "duration": 470,
        "start_time": "2023-03-11T09:35:55.742Z"
      },
      {
        "duration": 165,
        "start_time": "2023-03-11T09:36:01.532Z"
      },
      {
        "duration": 166,
        "start_time": "2023-03-11T09:36:07.774Z"
      },
      {
        "duration": 10,
        "start_time": "2023-03-11T09:36:12.415Z"
      },
      {
        "duration": 4,
        "start_time": "2023-03-11T09:36:19.535Z"
      },
      {
        "duration": 16131,
        "start_time": "2023-03-11T09:36:22.335Z"
      },
      {
        "duration": 157,
        "start_time": "2023-03-11T09:36:41.453Z"
      },
      {
        "duration": 156,
        "start_time": "2023-03-11T09:37:29.897Z"
      },
      {
        "duration": 377,
        "start_time": "2023-03-11T09:37:34.546Z"
      },
      {
        "duration": 358,
        "start_time": "2023-03-11T09:37:45.874Z"
      },
      {
        "duration": 15815,
        "start_time": "2023-03-11T09:39:24.805Z"
      },
      {
        "duration": 11,
        "start_time": "2023-03-11T09:39:42.719Z"
      },
      {
        "duration": 10,
        "start_time": "2023-03-11T09:40:31.913Z"
      },
      {
        "duration": 9,
        "start_time": "2023-03-11T09:40:39.123Z"
      },
      {
        "duration": 5,
        "start_time": "2023-03-11T09:41:02.965Z"
      },
      {
        "duration": 15890,
        "start_time": "2023-03-11T09:41:06.985Z"
      },
      {
        "duration": 10,
        "start_time": "2023-03-11T09:41:24.451Z"
      },
      {
        "duration": 4,
        "start_time": "2023-03-11T09:41:33.747Z"
      },
      {
        "duration": 15896,
        "start_time": "2023-03-11T09:44:42.963Z"
      },
      {
        "duration": 9,
        "start_time": "2023-03-11T09:45:09.855Z"
      },
      {
        "duration": 8,
        "start_time": "2023-03-11T09:45:33.205Z"
      },
      {
        "duration": 8,
        "start_time": "2023-03-11T09:45:41.339Z"
      },
      {
        "duration": 5,
        "start_time": "2023-03-11T09:45:45.238Z"
      },
      {
        "duration": 3,
        "start_time": "2023-03-11T09:47:40.084Z"
      },
      {
        "duration": 15,
        "start_time": "2023-03-11T10:19:25.756Z"
      },
      {
        "duration": 10,
        "start_time": "2023-03-11T10:19:32.797Z"
      },
      {
        "duration": 4,
        "start_time": "2023-03-11T10:58:11.649Z"
      },
      {
        "duration": 4,
        "start_time": "2023-03-11T10:58:17.464Z"
      },
      {
        "duration": 1500,
        "start_time": "2023-03-11T11:10:35.451Z"
      },
      {
        "duration": 731,
        "start_time": "2023-03-11T11:10:36.953Z"
      },
      {
        "duration": 26,
        "start_time": "2023-03-11T11:10:37.686Z"
      },
      {
        "duration": 17,
        "start_time": "2023-03-11T11:10:37.714Z"
      },
      {
        "duration": 40,
        "start_time": "2023-03-11T11:10:37.733Z"
      },
      {
        "duration": 16,
        "start_time": "2023-03-11T11:10:37.775Z"
      },
      {
        "duration": 22,
        "start_time": "2023-03-11T11:10:37.793Z"
      },
      {
        "duration": 42,
        "start_time": "2023-03-11T11:10:37.816Z"
      },
      {
        "duration": 12,
        "start_time": "2023-03-11T11:10:37.860Z"
      },
      {
        "duration": 8,
        "start_time": "2023-03-11T11:10:37.875Z"
      },
      {
        "duration": 239,
        "start_time": "2023-03-11T11:10:37.884Z"
      },
      {
        "duration": 15,
        "start_time": "2023-03-11T11:10:38.125Z"
      },
      {
        "duration": 17,
        "start_time": "2023-03-11T11:10:38.141Z"
      },
      {
        "duration": 10,
        "start_time": "2023-03-11T11:10:38.160Z"
      },
      {
        "duration": 233,
        "start_time": "2023-03-11T11:10:38.171Z"
      },
      {
        "duration": 8,
        "start_time": "2023-03-11T11:10:38.406Z"
      },
      {
        "duration": 10,
        "start_time": "2023-03-11T11:10:38.416Z"
      },
      {
        "duration": 757,
        "start_time": "2023-03-11T11:10:38.428Z"
      },
      {
        "duration": 656,
        "start_time": "2023-03-11T11:10:39.187Z"
      },
      {
        "duration": 784,
        "start_time": "2023-03-11T11:10:39.845Z"
      },
      {
        "duration": 771,
        "start_time": "2023-03-11T11:10:40.631Z"
      },
      {
        "duration": 878,
        "start_time": "2023-03-11T11:10:41.404Z"
      },
      {
        "duration": 12,
        "start_time": "2023-03-11T11:10:42.283Z"
      },
      {
        "duration": 5,
        "start_time": "2023-03-11T11:10:42.297Z"
      },
      {
        "duration": 771,
        "start_time": "2023-03-11T11:10:42.304Z"
      },
      {
        "duration": 8,
        "start_time": "2023-03-11T11:10:43.077Z"
      },
      {
        "duration": 6,
        "start_time": "2023-03-11T11:10:43.087Z"
      },
      {
        "duration": 140,
        "start_time": "2023-03-11T11:10:43.097Z"
      },
      {
        "duration": 650,
        "start_time": "2023-03-11T11:10:43.238Z"
      },
      {
        "duration": 19,
        "start_time": "2023-03-11T11:10:43.890Z"
      },
      {
        "duration": 6,
        "start_time": "2023-03-11T11:10:43.911Z"
      },
      {
        "duration": 15,
        "start_time": "2023-03-11T11:10:43.918Z"
      },
      {
        "duration": 305,
        "start_time": "2023-03-11T11:10:43.935Z"
      },
      {
        "duration": 13,
        "start_time": "2023-03-11T11:10:44.241Z"
      },
      {
        "duration": 3,
        "start_time": "2023-03-11T11:10:44.257Z"
      },
      {
        "duration": 27,
        "start_time": "2023-03-11T11:10:44.262Z"
      },
      {
        "duration": 20,
        "start_time": "2023-03-11T11:10:44.291Z"
      },
      {
        "duration": 29,
        "start_time": "2023-03-11T11:10:44.313Z"
      },
      {
        "duration": 30,
        "start_time": "2023-03-11T11:10:44.344Z"
      },
      {
        "duration": 14,
        "start_time": "2023-03-11T11:10:44.377Z"
      },
      {
        "duration": 53,
        "start_time": "2023-03-11T11:10:44.393Z"
      },
      {
        "duration": 5,
        "start_time": "2023-03-11T11:10:44.448Z"
      },
      {
        "duration": 7,
        "start_time": "2023-03-11T11:10:44.454Z"
      },
      {
        "duration": 160,
        "start_time": "2023-03-11T11:10:44.463Z"
      },
      {
        "duration": 37,
        "start_time": "2023-03-11T11:10:44.626Z"
      },
      {
        "duration": 3,
        "start_time": "2023-03-11T11:10:44.665Z"
      },
      {
        "duration": 8,
        "start_time": "2023-03-11T11:10:44.670Z"
      },
      {
        "duration": 83,
        "start_time": "2023-03-11T11:10:44.680Z"
      },
      {
        "duration": 295,
        "start_time": "2023-03-11T11:10:44.765Z"
      },
      {
        "duration": 1184583,
        "start_time": "2023-03-11T11:10:45.062Z"
      },
      {
        "duration": 4,
        "start_time": "2023-03-11T11:30:29.647Z"
      },
      {
        "duration": 234918,
        "start_time": "2023-03-11T11:30:29.657Z"
      },
      {
        "duration": 4,
        "start_time": "2023-03-11T11:34:24.577Z"
      },
      {
        "duration": 599227,
        "start_time": "2023-03-11T11:34:24.583Z"
      },
      {
        "duration": 2,
        "start_time": "2023-03-11T11:44:23.812Z"
      },
      {
        "duration": 765871,
        "start_time": "2023-03-11T11:44:23.816Z"
      },
      {
        "duration": 4,
        "start_time": "2023-03-11T11:57:09.689Z"
      },
      {
        "duration": 8794,
        "start_time": "2023-03-11T11:57:09.695Z"
      },
      {
        "duration": 3,
        "start_time": "2023-03-11T11:57:18.491Z"
      },
      {
        "duration": 13933,
        "start_time": "2023-03-11T11:57:18.496Z"
      },
      {
        "duration": 4,
        "start_time": "2023-03-11T11:57:32.430Z"
      },
      {
        "duration": 50,
        "start_time": "2023-03-11T11:57:32.435Z"
      },
      {
        "duration": 315,
        "start_time": "2023-03-11T11:57:32.486Z"
      },
      {
        "duration": 4,
        "start_time": "2023-03-11T11:57:32.802Z"
      },
      {
        "duration": 31,
        "start_time": "2023-03-11T11:57:32.808Z"
      },
      {
        "duration": 15341,
        "start_time": "2023-03-11T11:57:32.841Z"
      },
      {
        "duration": 9,
        "start_time": "2023-03-11T11:57:48.183Z"
      },
      {
        "duration": 15051,
        "start_time": "2023-03-11T11:57:48.193Z"
      },
      {
        "duration": 15,
        "start_time": "2023-03-11T11:58:03.246Z"
      },
      {
        "duration": 17,
        "start_time": "2023-03-11T11:58:03.263Z"
      },
      {
        "duration": 25,
        "start_time": "2023-03-11T11:58:03.282Z"
      },
      {
        "duration": 25,
        "start_time": "2023-03-11T11:58:03.309Z"
      },
      {
        "duration": 1672,
        "start_time": "2023-03-11T19:37:11.681Z"
      },
      {
        "duration": 2806,
        "start_time": "2023-03-11T19:37:13.355Z"
      },
      {
        "duration": 25,
        "start_time": "2023-03-11T19:37:16.163Z"
      },
      {
        "duration": 20,
        "start_time": "2023-03-11T19:37:16.190Z"
      },
      {
        "duration": 20,
        "start_time": "2023-03-11T19:37:16.213Z"
      },
      {
        "duration": 15,
        "start_time": "2023-03-11T19:37:16.235Z"
      },
      {
        "duration": 44,
        "start_time": "2023-03-11T19:37:16.251Z"
      },
      {
        "duration": 18,
        "start_time": "2023-03-11T19:37:16.297Z"
      },
      {
        "duration": 12,
        "start_time": "2023-03-11T19:37:16.317Z"
      },
      {
        "duration": 7,
        "start_time": "2023-03-11T19:37:16.331Z"
      },
      {
        "duration": 318,
        "start_time": "2023-03-11T19:37:16.339Z"
      },
      {
        "duration": 16,
        "start_time": "2023-03-11T19:37:16.659Z"
      },
      {
        "duration": 18,
        "start_time": "2023-03-11T19:37:16.677Z"
      },
      {
        "duration": 239,
        "start_time": "2023-03-11T19:37:22.557Z"
      },
      {
        "duration": 10,
        "start_time": "2023-03-11T19:37:26.072Z"
      },
      {
        "duration": 5,
        "start_time": "2023-03-11T19:49:08.969Z"
      },
      {
        "duration": 150,
        "start_time": "2023-03-11T19:53:10.617Z"
      },
      {
        "duration": 32,
        "start_time": "2023-03-11T19:53:15.415Z"
      },
      {
        "duration": 33,
        "start_time": "2023-03-11T19:53:39.413Z"
      },
      {
        "duration": 108,
        "start_time": "2023-03-11T19:54:11.930Z"
      },
      {
        "duration": 111,
        "start_time": "2023-03-11T19:54:38.528Z"
      },
      {
        "duration": 817,
        "start_time": "2023-03-11T19:58:48.675Z"
      },
      {
        "duration": 816,
        "start_time": "2023-03-11T19:58:58.265Z"
      },
      {
        "duration": 1195,
        "start_time": "2023-03-11T19:59:11.435Z"
      },
      {
        "duration": 868,
        "start_time": "2023-03-11T19:59:16.291Z"
      },
      {
        "duration": 1220,
        "start_time": "2023-03-11T19:59:44.909Z"
      },
      {
        "duration": 852,
        "start_time": "2023-03-11T19:59:52.414Z"
      },
      {
        "duration": 864,
        "start_time": "2023-03-11T20:00:05.436Z"
      },
      {
        "duration": 1218,
        "start_time": "2023-03-11T20:04:40.197Z"
      },
      {
        "duration": 843,
        "start_time": "2023-03-11T20:04:48.878Z"
      },
      {
        "duration": 427,
        "start_time": "2023-03-11T20:06:46.074Z"
      },
      {
        "duration": 392,
        "start_time": "2023-03-11T20:08:09.978Z"
      },
      {
        "duration": 11,
        "start_time": "2023-03-11T20:09:17.298Z"
      },
      {
        "duration": 11,
        "start_time": "2023-03-11T20:09:47.396Z"
      },
      {
        "duration": 9,
        "start_time": "2023-03-11T20:10:10.632Z"
      },
      {
        "duration": 145,
        "start_time": "2023-03-11T20:10:20.446Z"
      },
      {
        "duration": 109,
        "start_time": "2023-03-11T20:10:34.199Z"
      },
      {
        "duration": 145,
        "start_time": "2023-03-11T20:12:24.416Z"
      },
      {
        "duration": 91,
        "start_time": "2023-03-11T20:13:15.811Z"
      },
      {
        "duration": 68,
        "start_time": "2023-03-11T20:13:39.680Z"
      },
      {
        "duration": 344,
        "start_time": "2023-03-11T20:14:01.388Z"
      },
      {
        "duration": 386,
        "start_time": "2023-03-11T20:14:45.514Z"
      },
      {
        "duration": 398,
        "start_time": "2023-03-11T20:15:00.825Z"
      },
      {
        "duration": 398,
        "start_time": "2023-03-11T20:15:41.124Z"
      },
      {
        "duration": 449,
        "start_time": "2023-03-11T20:16:18.879Z"
      },
      {
        "duration": 454,
        "start_time": "2023-03-11T20:16:29.399Z"
      },
      {
        "duration": 461,
        "start_time": "2023-03-11T20:17:14.985Z"
      },
      {
        "duration": 11,
        "start_time": "2023-03-11T20:18:56.213Z"
      },
      {
        "duration": 6,
        "start_time": "2023-03-11T20:18:58.157Z"
      },
      {
        "duration": 79,
        "start_time": "2023-03-11T20:20:19.908Z"
      },
      {
        "duration": 484,
        "start_time": "2023-03-11T20:20:27.347Z"
      },
      {
        "duration": 530,
        "start_time": "2023-03-11T20:20:37.109Z"
      },
      {
        "duration": 446,
        "start_time": "2023-03-11T20:20:52.875Z"
      },
      {
        "duration": 68,
        "start_time": "2023-03-11T23:38:23.305Z"
      },
      {
        "duration": 2010,
        "start_time": "2023-03-11T23:38:29.553Z"
      },
      {
        "duration": 3405,
        "start_time": "2023-03-11T23:38:31.566Z"
      },
      {
        "duration": 41,
        "start_time": "2023-03-11T23:38:34.975Z"
      },
      {
        "duration": 23,
        "start_time": "2023-03-11T23:38:35.019Z"
      },
      {
        "duration": 30,
        "start_time": "2023-03-11T23:38:35.044Z"
      },
      {
        "duration": 46,
        "start_time": "2023-03-11T23:38:35.076Z"
      },
      {
        "duration": 33,
        "start_time": "2023-03-11T23:38:35.124Z"
      },
      {
        "duration": 29,
        "start_time": "2023-03-11T23:38:35.159Z"
      },
      {
        "duration": 26,
        "start_time": "2023-03-11T23:38:35.196Z"
      },
      {
        "duration": 17,
        "start_time": "2023-03-11T23:38:35.226Z"
      },
      {
        "duration": 282,
        "start_time": "2023-03-11T23:38:35.245Z"
      },
      {
        "duration": 16,
        "start_time": "2023-03-11T23:38:35.529Z"
      },
      {
        "duration": 6,
        "start_time": "2023-03-11T23:38:35.547Z"
      },
      {
        "duration": 34,
        "start_time": "2023-03-11T23:38:35.575Z"
      },
      {
        "duration": 268,
        "start_time": "2023-03-11T23:38:35.611Z"
      },
      {
        "duration": 13,
        "start_time": "2023-03-11T23:38:35.880Z"
      },
      {
        "duration": 40,
        "start_time": "2023-03-11T23:38:35.894Z"
      },
      {
        "duration": 6,
        "start_time": "2023-03-11T23:38:35.936Z"
      },
      {
        "duration": 242,
        "start_time": "2023-03-11T23:38:35.944Z"
      },
      {
        "duration": 1140,
        "start_time": "2023-03-11T23:38:39.761Z"
      },
      {
        "duration": 916,
        "start_time": "2023-03-11T23:38:47.438Z"
      },
      {
        "duration": 1043,
        "start_time": "2023-03-11T23:39:03.001Z"
      },
      {
        "duration": 872,
        "start_time": "2023-03-11T23:39:12.366Z"
      },
      {
        "duration": 5,
        "start_time": "2023-03-11T23:41:47.459Z"
      },
      {
        "duration": 989,
        "start_time": "2023-03-11T23:41:47.466Z"
      },
      {
        "duration": 37,
        "start_time": "2023-03-11T23:41:48.457Z"
      },
      {
        "duration": 24,
        "start_time": "2023-03-11T23:41:48.498Z"
      },
      {
        "duration": 28,
        "start_time": "2023-03-11T23:41:48.525Z"
      },
      {
        "duration": 39,
        "start_time": "2023-03-11T23:41:48.555Z"
      },
      {
        "duration": 50,
        "start_time": "2023-03-11T23:41:48.597Z"
      },
      {
        "duration": 25,
        "start_time": "2023-03-11T23:41:48.650Z"
      },
      {
        "duration": 9,
        "start_time": "2023-03-11T23:41:48.677Z"
      },
      {
        "duration": 38,
        "start_time": "2023-03-11T23:41:48.690Z"
      },
      {
        "duration": 407,
        "start_time": "2023-03-11T23:41:48.732Z"
      },
      {
        "duration": 13,
        "start_time": "2023-03-11T23:41:49.141Z"
      },
      {
        "duration": 39,
        "start_time": "2023-03-11T23:41:49.156Z"
      },
      {
        "duration": 20,
        "start_time": "2023-03-11T23:41:49.198Z"
      },
      {
        "duration": 251,
        "start_time": "2023-03-11T23:41:49.220Z"
      },
      {
        "duration": 17,
        "start_time": "2023-03-11T23:41:49.477Z"
      },
      {
        "duration": 29,
        "start_time": "2023-03-11T23:41:49.496Z"
      },
      {
        "duration": 7,
        "start_time": "2023-03-11T23:41:49.527Z"
      },
      {
        "duration": 151,
        "start_time": "2023-03-11T23:41:49.535Z"
      },
      {
        "duration": 939,
        "start_time": "2023-03-11T23:41:49.694Z"
      },
      {
        "duration": 1070,
        "start_time": "2023-03-11T23:41:50.639Z"
      },
      {
        "duration": 1003,
        "start_time": "2023-03-11T23:41:51.710Z"
      },
      {
        "duration": 1139,
        "start_time": "2023-03-11T23:41:52.715Z"
      },
      {
        "duration": 679,
        "start_time": "2023-03-11T23:41:53.857Z"
      },
      {
        "duration": 10,
        "start_time": "2023-03-11T23:41:54.538Z"
      },
      {
        "duration": 7,
        "start_time": "2023-03-11T23:41:54.551Z"
      },
      {
        "duration": 570,
        "start_time": "2023-03-11T23:41:54.587Z"
      },
      {
        "duration": 25,
        "start_time": "2023-03-11T23:41:55.159Z"
      },
      {
        "duration": 30,
        "start_time": "2023-03-11T23:41:55.188Z"
      },
      {
        "duration": 1628,
        "start_time": "2023-03-11T23:42:02.440Z"
      },
      {
        "duration": 11,
        "start_time": "2023-03-11T23:42:14.413Z"
      },
      {
        "duration": 1014,
        "start_time": "2023-03-11T23:42:48.807Z"
      },
      {
        "duration": 26,
        "start_time": "2023-03-11T23:43:16.912Z"
      },
      {
        "duration": 7,
        "start_time": "2023-03-11T23:43:18.030Z"
      },
      {
        "duration": 6,
        "start_time": "2023-03-11T23:43:40.432Z"
      },
      {
        "duration": 1078,
        "start_time": "2023-03-11T23:43:40.440Z"
      },
      {
        "duration": 33,
        "start_time": "2023-03-11T23:43:41.528Z"
      },
      {
        "duration": 40,
        "start_time": "2023-03-11T23:43:41.564Z"
      },
      {
        "duration": 47,
        "start_time": "2023-03-11T23:43:41.612Z"
      },
      {
        "duration": 28,
        "start_time": "2023-03-11T23:43:41.661Z"
      },
      {
        "duration": 48,
        "start_time": "2023-03-11T23:43:41.695Z"
      },
      {
        "duration": 21,
        "start_time": "2023-03-11T23:43:41.745Z"
      },
      {
        "duration": 13,
        "start_time": "2023-03-11T23:43:41.768Z"
      },
      {
        "duration": 33,
        "start_time": "2023-03-11T23:43:41.788Z"
      },
      {
        "duration": 408,
        "start_time": "2023-03-11T23:43:41.824Z"
      },
      {
        "duration": 12,
        "start_time": "2023-03-11T23:43:42.234Z"
      },
      {
        "duration": 6,
        "start_time": "2023-03-11T23:43:42.247Z"
      },
      {
        "duration": 56,
        "start_time": "2023-03-11T23:43:42.255Z"
      },
      {
        "duration": 252,
        "start_time": "2023-03-11T23:43:42.312Z"
      },
      {
        "duration": 31,
        "start_time": "2023-03-11T23:43:42.566Z"
      },
      {
        "duration": 26,
        "start_time": "2023-03-11T23:43:42.601Z"
      },
      {
        "duration": 5,
        "start_time": "2023-03-11T23:43:42.629Z"
      },
      {
        "duration": 178,
        "start_time": "2023-03-11T23:43:42.636Z"
      },
      {
        "duration": 942,
        "start_time": "2023-03-11T23:43:42.817Z"
      },
      {
        "duration": 1022,
        "start_time": "2023-03-11T23:43:43.761Z"
      },
      {
        "duration": 1019,
        "start_time": "2023-03-11T23:43:44.785Z"
      },
      {
        "duration": 1141,
        "start_time": "2023-03-11T23:43:45.812Z"
      },
      {
        "duration": 743,
        "start_time": "2023-03-11T23:43:46.955Z"
      },
      {
        "duration": 14,
        "start_time": "2023-03-11T23:43:47.704Z"
      },
      {
        "duration": 11,
        "start_time": "2023-03-11T23:43:47.721Z"
      },
      {
        "duration": 535,
        "start_time": "2023-03-11T23:43:47.734Z"
      },
      {
        "duration": 20,
        "start_time": "2023-03-11T23:43:48.277Z"
      },
      {
        "duration": 31,
        "start_time": "2023-03-11T23:43:48.300Z"
      },
      {
        "duration": 18,
        "start_time": "2023-03-11T23:43:48.334Z"
      },
      {
        "duration": 1181,
        "start_time": "2023-03-11T23:43:48.354Z"
      },
      {
        "duration": 27,
        "start_time": "2023-03-11T23:43:49.537Z"
      },
      {
        "duration": 26,
        "start_time": "2023-03-11T23:43:49.566Z"
      },
      {
        "duration": 10,
        "start_time": "2023-03-11T23:51:56.372Z"
      },
      {
        "duration": 332,
        "start_time": "2023-03-11T23:52:19.360Z"
      },
      {
        "duration": 5,
        "start_time": "2023-03-11T23:53:08.232Z"
      },
      {
        "duration": 918,
        "start_time": "2023-03-11T23:53:08.239Z"
      },
      {
        "duration": 32,
        "start_time": "2023-03-11T23:53:09.159Z"
      },
      {
        "duration": 30,
        "start_time": "2023-03-11T23:53:09.193Z"
      },
      {
        "duration": 22,
        "start_time": "2023-03-11T23:53:09.225Z"
      },
      {
        "duration": 22,
        "start_time": "2023-03-11T23:53:09.249Z"
      },
      {
        "duration": 32,
        "start_time": "2023-03-11T23:53:09.273Z"
      },
      {
        "duration": 32,
        "start_time": "2023-03-11T23:53:09.307Z"
      },
      {
        "duration": 11,
        "start_time": "2023-03-11T23:53:09.341Z"
      },
      {
        "duration": 13,
        "start_time": "2023-03-11T23:53:09.354Z"
      },
      {
        "duration": 433,
        "start_time": "2023-03-11T23:53:09.374Z"
      },
      {
        "duration": 14,
        "start_time": "2023-03-11T23:53:09.809Z"
      },
      {
        "duration": 5,
        "start_time": "2023-03-11T23:53:09.824Z"
      },
      {
        "duration": 3,
        "start_time": "2023-03-11T23:53:09.831Z"
      },
      {
        "duration": 284,
        "start_time": "2023-03-11T23:53:09.836Z"
      },
      {
        "duration": 10,
        "start_time": "2023-03-11T23:53:10.122Z"
      },
      {
        "duration": 9,
        "start_time": "2023-03-11T23:53:10.133Z"
      },
      {
        "duration": 40,
        "start_time": "2023-03-11T23:53:10.145Z"
      },
      {
        "duration": 127,
        "start_time": "2023-03-11T23:53:10.187Z"
      },
      {
        "duration": 974,
        "start_time": "2023-03-11T23:53:10.315Z"
      },
      {
        "duration": 933,
        "start_time": "2023-03-11T23:53:11.297Z"
      },
      {
        "duration": 981,
        "start_time": "2023-03-11T23:53:12.232Z"
      },
      {
        "duration": 1098,
        "start_time": "2023-03-11T23:53:13.214Z"
      },
      {
        "duration": 574,
        "start_time": "2023-03-11T23:53:14.314Z"
      },
      {
        "duration": 13,
        "start_time": "2023-03-11T23:53:14.890Z"
      },
      {
        "duration": 9,
        "start_time": "2023-03-11T23:53:14.909Z"
      },
      {
        "duration": 525,
        "start_time": "2023-03-11T23:53:14.920Z"
      },
      {
        "duration": 10,
        "start_time": "2023-03-11T23:53:15.448Z"
      },
      {
        "duration": 9,
        "start_time": "2023-03-11T23:53:15.478Z"
      },
      {
        "duration": 58,
        "start_time": "2023-03-11T23:53:15.489Z"
      },
      {
        "duration": 988,
        "start_time": "2023-03-11T23:53:15.549Z"
      },
      {
        "duration": 25,
        "start_time": "2023-03-11T23:53:16.540Z"
      },
      {
        "duration": 11,
        "start_time": "2023-03-11T23:53:16.572Z"
      },
      {
        "duration": 36,
        "start_time": "2023-03-11T23:53:16.591Z"
      },
      {
        "duration": 281,
        "start_time": "2023-03-11T23:53:21.070Z"
      },
      {
        "duration": 38,
        "start_time": "2023-03-11T23:54:36.606Z"
      },
      {
        "duration": 9,
        "start_time": "2023-03-11T23:54:44.315Z"
      },
      {
        "duration": 9,
        "start_time": "2023-03-11T23:54:55.863Z"
      },
      {
        "duration": 10,
        "start_time": "2023-03-11T23:55:12.848Z"
      },
      {
        "duration": 5,
        "start_time": "2023-03-11T23:55:28.147Z"
      },
      {
        "duration": 15,
        "start_time": "2023-03-11T23:56:37.054Z"
      },
      {
        "duration": 5,
        "start_time": "2023-03-11T23:56:52.622Z"
      },
      {
        "duration": 53,
        "start_time": "2023-03-11T23:58:25.541Z"
      },
      {
        "duration": 40,
        "start_time": "2023-03-11T23:58:47.565Z"
      },
      {
        "duration": 1505,
        "start_time": "2023-03-12T00:06:03.583Z"
      },
      {
        "duration": 127,
        "start_time": "2023-03-12T00:08:03.344Z"
      },
      {
        "duration": 1353,
        "start_time": "2023-03-12T00:08:24.447Z"
      },
      {
        "duration": 19,
        "start_time": "2023-03-12T00:08:52.886Z"
      },
      {
        "duration": 4,
        "start_time": "2023-03-12T00:09:11.266Z"
      },
      {
        "duration": 14,
        "start_time": "2023-03-12T00:09:21.243Z"
      },
      {
        "duration": 5,
        "start_time": "2023-03-12T00:09:52.948Z"
      },
      {
        "duration": 1330,
        "start_time": "2023-03-12T00:10:05.919Z"
      },
      {
        "duration": 1414,
        "start_time": "2023-03-12T00:10:23.586Z"
      },
      {
        "duration": 1303,
        "start_time": "2023-03-12T00:10:47.087Z"
      },
      {
        "duration": 153,
        "start_time": "2023-03-12T00:35:48.329Z"
      },
      {
        "duration": 6,
        "start_time": "2023-03-12T00:35:55.117Z"
      },
      {
        "duration": 10,
        "start_time": "2023-03-12T00:36:35.294Z"
      },
      {
        "duration": 2519,
        "start_time": "2023-03-12T00:37:54.051Z"
      },
      {
        "duration": 1288,
        "start_time": "2023-03-12T00:38:52.271Z"
      },
      {
        "duration": 5,
        "start_time": "2023-03-12T00:39:01.839Z"
      },
      {
        "duration": 5,
        "start_time": "2023-03-12T00:39:24.695Z"
      },
      {
        "duration": 5,
        "start_time": "2023-03-12T00:39:30.958Z"
      },
      {
        "duration": 87,
        "start_time": "2023-03-12T00:40:43.979Z"
      },
      {
        "duration": 8496,
        "start_time": "2023-03-12T00:41:20.633Z"
      },
      {
        "duration": 11,
        "start_time": "2023-03-12T00:41:32.426Z"
      },
      {
        "duration": 8,
        "start_time": "2023-03-12T00:42:08.083Z"
      },
      {
        "duration": 5,
        "start_time": "2023-03-12T00:42:16.900Z"
      },
      {
        "duration": 1024,
        "start_time": "2023-03-12T00:42:16.908Z"
      },
      {
        "duration": 27,
        "start_time": "2023-03-12T00:42:17.934Z"
      },
      {
        "duration": 32,
        "start_time": "2023-03-12T00:42:17.962Z"
      },
      {
        "duration": 24,
        "start_time": "2023-03-12T00:42:17.996Z"
      },
      {
        "duration": 15,
        "start_time": "2023-03-12T00:42:18.023Z"
      },
      {
        "duration": 58,
        "start_time": "2023-03-12T00:42:18.040Z"
      },
      {
        "duration": 28,
        "start_time": "2023-03-12T00:42:18.100Z"
      },
      {
        "duration": 11,
        "start_time": "2023-03-12T00:42:18.130Z"
      },
      {
        "duration": 35,
        "start_time": "2023-03-12T00:42:18.144Z"
      },
      {
        "duration": 259,
        "start_time": "2023-03-12T00:42:18.183Z"
      },
      {
        "duration": 14,
        "start_time": "2023-03-12T00:42:18.443Z"
      },
      {
        "duration": 30,
        "start_time": "2023-03-12T00:42:18.458Z"
      },
      {
        "duration": 7,
        "start_time": "2023-03-12T00:42:18.490Z"
      },
      {
        "duration": 259,
        "start_time": "2023-03-12T00:42:18.499Z"
      },
      {
        "duration": 27,
        "start_time": "2023-03-12T00:42:18.761Z"
      },
      {
        "duration": 10,
        "start_time": "2023-03-12T00:42:18.790Z"
      },
      {
        "duration": 8,
        "start_time": "2023-03-12T00:42:18.802Z"
      },
      {
        "duration": 140,
        "start_time": "2023-03-12T00:42:18.812Z"
      },
      {
        "duration": 1237,
        "start_time": "2023-03-12T00:42:18.953Z"
      },
      {
        "duration": 971,
        "start_time": "2023-03-12T00:42:20.193Z"
      },
      {
        "duration": 964,
        "start_time": "2023-03-12T00:42:21.166Z"
      },
      {
        "duration": 1255,
        "start_time": "2023-03-12T00:42:22.132Z"
      },
      {
        "duration": 481,
        "start_time": "2023-03-12T00:42:23.389Z"
      },
      {
        "duration": 9,
        "start_time": "2023-03-12T00:42:23.873Z"
      },
      {
        "duration": 20,
        "start_time": "2023-03-12T00:42:23.886Z"
      },
      {
        "duration": 549,
        "start_time": "2023-03-12T00:42:23.909Z"
      },
      {
        "duration": 21,
        "start_time": "2023-03-12T00:42:24.461Z"
      },
      {
        "duration": 6,
        "start_time": "2023-03-12T00:42:24.490Z"
      },
      {
        "duration": 13,
        "start_time": "2023-03-12T00:42:24.498Z"
      },
      {
        "duration": 1193,
        "start_time": "2023-03-12T00:42:24.513Z"
      },
      {
        "duration": 30,
        "start_time": "2023-03-12T00:42:25.708Z"
      },
      {
        "duration": 6,
        "start_time": "2023-03-12T00:42:25.740Z"
      },
      {
        "duration": 40,
        "start_time": "2023-03-12T00:42:25.748Z"
      },
      {
        "duration": 278,
        "start_time": "2023-03-12T00:42:25.790Z"
      },
      {
        "duration": 17,
        "start_time": "2023-03-12T00:42:26.069Z"
      },
      {
        "duration": 21,
        "start_time": "2023-03-12T00:42:26.092Z"
      },
      {
        "duration": 22,
        "start_time": "2023-03-12T00:42:26.115Z"
      },
      {
        "duration": 4,
        "start_time": "2023-03-12T00:43:43.995Z"
      },
      {
        "duration": 891,
        "start_time": "2023-03-12T00:43:44.002Z"
      },
      {
        "duration": 24,
        "start_time": "2023-03-12T00:43:44.896Z"
      },
      {
        "duration": 20,
        "start_time": "2023-03-12T00:43:44.921Z"
      },
      {
        "duration": 52,
        "start_time": "2023-03-12T00:43:44.943Z"
      },
      {
        "duration": 14,
        "start_time": "2023-03-12T00:43:44.997Z"
      },
      {
        "duration": 145,
        "start_time": "2023-03-12T00:43:45.013Z"
      },
      {
        "duration": 59,
        "start_time": "2023-03-12T00:43:45.160Z"
      },
      {
        "duration": 9,
        "start_time": "2023-03-12T00:43:45.221Z"
      },
      {
        "duration": 12,
        "start_time": "2023-03-12T00:43:45.232Z"
      },
      {
        "duration": 250,
        "start_time": "2023-03-12T00:43:45.247Z"
      },
      {
        "duration": 11,
        "start_time": "2023-03-12T00:43:45.499Z"
      },
      {
        "duration": 5,
        "start_time": "2023-03-12T00:43:45.512Z"
      },
      {
        "duration": 7,
        "start_time": "2023-03-12T00:43:45.520Z"
      },
      {
        "duration": 299,
        "start_time": "2023-03-12T00:43:45.529Z"
      },
      {
        "duration": 13,
        "start_time": "2023-03-12T00:43:45.829Z"
      },
      {
        "duration": 15,
        "start_time": "2023-03-12T00:43:45.844Z"
      },
      {
        "duration": 28,
        "start_time": "2023-03-12T00:43:45.861Z"
      },
      {
        "duration": 130,
        "start_time": "2023-03-12T00:43:45.890Z"
      },
      {
        "duration": 877,
        "start_time": "2023-03-12T00:43:46.023Z"
      },
      {
        "duration": 823,
        "start_time": "2023-03-12T00:43:46.902Z"
      },
      {
        "duration": 1387,
        "start_time": "2023-03-12T00:43:47.727Z"
      },
      {
        "duration": 1168,
        "start_time": "2023-03-12T00:43:49.116Z"
      },
      {
        "duration": 524,
        "start_time": "2023-03-12T00:43:50.286Z"
      },
      {
        "duration": 9,
        "start_time": "2023-03-12T00:43:50.812Z"
      },
      {
        "duration": 11,
        "start_time": "2023-03-12T00:43:50.823Z"
      },
      {
        "duration": 498,
        "start_time": "2023-03-12T00:43:50.836Z"
      },
      {
        "duration": 9,
        "start_time": "2023-03-12T00:43:51.336Z"
      },
      {
        "duration": 14,
        "start_time": "2023-03-12T00:43:51.349Z"
      },
      {
        "duration": 33,
        "start_time": "2023-03-12T00:43:51.365Z"
      },
      {
        "duration": 925,
        "start_time": "2023-03-12T00:43:51.400Z"
      },
      {
        "duration": 21,
        "start_time": "2023-03-12T00:43:52.328Z"
      },
      {
        "duration": 27,
        "start_time": "2023-03-12T00:43:52.352Z"
      },
      {
        "duration": 17,
        "start_time": "2023-03-12T00:43:52.382Z"
      },
      {
        "duration": 304,
        "start_time": "2023-03-12T00:43:52.401Z"
      },
      {
        "duration": 10,
        "start_time": "2023-03-12T00:43:52.707Z"
      },
      {
        "duration": 5,
        "start_time": "2023-03-12T00:43:52.719Z"
      },
      {
        "duration": 26,
        "start_time": "2023-03-12T00:43:52.725Z"
      },
      {
        "duration": 33,
        "start_time": "2023-03-12T00:43:52.753Z"
      },
      {
        "duration": 14,
        "start_time": "2023-03-12T00:44:02.413Z"
      },
      {
        "duration": 12,
        "start_time": "2023-03-12T00:44:24.093Z"
      },
      {
        "duration": 78,
        "start_time": "2023-03-12T00:44:39.046Z"
      },
      {
        "duration": 1302,
        "start_time": "2023-03-12T00:44:43.415Z"
      },
      {
        "duration": 9,
        "start_time": "2023-03-12T00:45:03.431Z"
      },
      {
        "duration": 5,
        "start_time": "2023-03-12T00:45:43.666Z"
      },
      {
        "duration": 5,
        "start_time": "2023-03-12T00:45:48.496Z"
      },
      {
        "duration": 16,
        "start_time": "2023-03-12T00:45:56.176Z"
      },
      {
        "duration": 7,
        "start_time": "2023-03-12T00:46:09.778Z"
      },
      {
        "duration": 10,
        "start_time": "2023-03-12T00:46:16.321Z"
      },
      {
        "duration": 5,
        "start_time": "2023-03-12T00:46:18.637Z"
      },
      {
        "duration": 11,
        "start_time": "2023-03-12T00:46:32.939Z"
      },
      {
        "duration": 1245,
        "start_time": "2023-03-12T00:46:50.767Z"
      },
      {
        "duration": 14,
        "start_time": "2023-03-12T00:47:03.103Z"
      },
      {
        "duration": 4,
        "start_time": "2023-03-12T00:47:10.757Z"
      },
      {
        "duration": 15,
        "start_time": "2023-03-12T00:47:37.031Z"
      },
      {
        "duration": 12,
        "start_time": "2023-03-12T00:48:22.497Z"
      },
      {
        "duration": 5,
        "start_time": "2023-03-12T00:48:35.536Z"
      },
      {
        "duration": 13,
        "start_time": "2023-03-12T00:48:40.419Z"
      },
      {
        "duration": 7,
        "start_time": "2023-03-12T00:48:43.085Z"
      },
      {
        "duration": 4,
        "start_time": "2023-03-12T00:48:49.455Z"
      },
      {
        "duration": 4,
        "start_time": "2023-03-12T00:48:58.896Z"
      },
      {
        "duration": 13,
        "start_time": "2023-03-12T00:50:40.473Z"
      },
      {
        "duration": 5,
        "start_time": "2023-03-12T00:51:01.027Z"
      },
      {
        "duration": 92,
        "start_time": "2023-03-12T00:51:02.945Z"
      },
      {
        "duration": 5,
        "start_time": "2023-03-12T00:51:11.209Z"
      },
      {
        "duration": 5,
        "start_time": "2023-03-12T00:51:13.589Z"
      },
      {
        "duration": 1242,
        "start_time": "2023-03-12T00:51:43.804Z"
      },
      {
        "duration": 8,
        "start_time": "2023-03-12T00:52:53.009Z"
      },
      {
        "duration": 20,
        "start_time": "2023-03-12T00:53:35.070Z"
      },
      {
        "duration": 18,
        "start_time": "2023-03-12T00:53:50.951Z"
      },
      {
        "duration": 22,
        "start_time": "2023-03-12T00:54:06.598Z"
      },
      {
        "duration": 1554,
        "start_time": "2023-03-12T18:11:46.009Z"
      },
      {
        "duration": 2154,
        "start_time": "2023-03-12T18:11:47.565Z"
      },
      {
        "duration": 25,
        "start_time": "2023-03-12T18:11:49.721Z"
      },
      {
        "duration": 17,
        "start_time": "2023-03-12T18:11:49.748Z"
      },
      {
        "duration": 21,
        "start_time": "2023-03-12T18:11:49.767Z"
      },
      {
        "duration": 15,
        "start_time": "2023-03-12T18:11:49.789Z"
      },
      {
        "duration": 21,
        "start_time": "2023-03-12T18:11:49.806Z"
      },
      {
        "duration": 43,
        "start_time": "2023-03-12T18:11:49.829Z"
      },
      {
        "duration": 12,
        "start_time": "2023-03-12T18:11:49.873Z"
      },
      {
        "duration": 7,
        "start_time": "2023-03-12T18:11:49.888Z"
      },
      {
        "duration": 248,
        "start_time": "2023-03-12T18:11:49.897Z"
      },
      {
        "duration": 23,
        "start_time": "2023-03-12T18:11:50.147Z"
      },
      {
        "duration": 4,
        "start_time": "2023-03-12T18:11:50.172Z"
      },
      {
        "duration": 13,
        "start_time": "2023-03-12T18:11:50.177Z"
      },
      {
        "duration": 232,
        "start_time": "2023-03-12T18:11:50.191Z"
      },
      {
        "duration": 9,
        "start_time": "2023-03-12T18:11:50.425Z"
      },
      {
        "duration": 13,
        "start_time": "2023-03-12T18:11:50.435Z"
      },
      {
        "duration": 20,
        "start_time": "2023-03-12T18:11:50.450Z"
      },
      {
        "duration": 186,
        "start_time": "2023-03-12T18:11:50.472Z"
      },
      {
        "duration": 753,
        "start_time": "2023-03-12T18:11:50.660Z"
      },
      {
        "duration": 730,
        "start_time": "2023-03-12T18:11:51.415Z"
      },
      {
        "duration": 958,
        "start_time": "2023-03-12T18:11:52.146Z"
      },
      {
        "duration": 831,
        "start_time": "2023-03-12T18:11:53.105Z"
      },
      {
        "duration": 685,
        "start_time": "2023-03-12T18:11:53.938Z"
      },
      {
        "duration": 9,
        "start_time": "2023-03-12T18:11:54.625Z"
      },
      {
        "duration": 16,
        "start_time": "2023-03-12T18:11:54.636Z"
      },
      {
        "duration": 452,
        "start_time": "2023-03-12T18:11:54.653Z"
      },
      {
        "duration": 13,
        "start_time": "2023-03-12T18:11:55.109Z"
      },
      {
        "duration": 29,
        "start_time": "2023-03-12T18:11:55.124Z"
      },
      {
        "duration": 16,
        "start_time": "2023-03-12T18:11:55.155Z"
      },
      {
        "duration": 768,
        "start_time": "2023-03-12T18:11:55.173Z"
      },
      {
        "duration": 31,
        "start_time": "2023-03-12T18:11:55.943Z"
      },
      {
        "duration": 5,
        "start_time": "2023-03-12T18:11:55.976Z"
      },
      {
        "duration": 4,
        "start_time": "2023-03-12T18:12:12.935Z"
      },
      {
        "duration": 713,
        "start_time": "2023-03-12T18:12:12.941Z"
      },
      {
        "duration": 21,
        "start_time": "2023-03-12T18:12:13.656Z"
      },
      {
        "duration": 17,
        "start_time": "2023-03-12T18:12:13.679Z"
      },
      {
        "duration": 20,
        "start_time": "2023-03-12T18:12:13.698Z"
      },
      {
        "duration": 14,
        "start_time": "2023-03-12T18:12:13.720Z"
      },
      {
        "duration": 42,
        "start_time": "2023-03-12T18:12:13.735Z"
      },
      {
        "duration": 20,
        "start_time": "2023-03-12T18:12:13.778Z"
      },
      {
        "duration": 12,
        "start_time": "2023-03-12T18:12:13.800Z"
      },
      {
        "duration": 7,
        "start_time": "2023-03-12T18:12:13.814Z"
      },
      {
        "duration": 282,
        "start_time": "2023-03-12T18:12:13.824Z"
      },
      {
        "duration": 19,
        "start_time": "2023-03-12T18:12:14.108Z"
      },
      {
        "duration": 5,
        "start_time": "2023-03-12T18:12:14.128Z"
      },
      {
        "duration": 4,
        "start_time": "2023-03-12T18:12:14.134Z"
      },
      {
        "duration": 241,
        "start_time": "2023-03-12T18:12:14.140Z"
      },
      {
        "duration": 8,
        "start_time": "2023-03-12T18:12:14.382Z"
      },
      {
        "duration": 10,
        "start_time": "2023-03-12T18:12:14.391Z"
      },
      {
        "duration": 7,
        "start_time": "2023-03-12T18:12:14.403Z"
      },
      {
        "duration": 226,
        "start_time": "2023-03-12T18:12:14.411Z"
      },
      {
        "duration": 759,
        "start_time": "2023-03-12T18:12:14.639Z"
      },
      {
        "duration": 689,
        "start_time": "2023-03-12T18:12:15.399Z"
      },
      {
        "duration": 892,
        "start_time": "2023-03-12T18:12:16.090Z"
      },
      {
        "duration": 774,
        "start_time": "2023-03-12T18:12:16.984Z"
      },
      {
        "duration": 570,
        "start_time": "2023-03-12T18:12:17.760Z"
      },
      {
        "duration": 10,
        "start_time": "2023-03-12T18:12:18.332Z"
      },
      {
        "duration": 6,
        "start_time": "2023-03-12T18:12:18.343Z"
      },
      {
        "duration": 440,
        "start_time": "2023-03-12T18:12:18.351Z"
      },
      {
        "duration": 7,
        "start_time": "2023-03-12T18:12:18.793Z"
      },
      {
        "duration": 5,
        "start_time": "2023-03-12T18:12:18.803Z"
      },
      {
        "duration": 10,
        "start_time": "2023-03-12T18:12:18.810Z"
      },
      {
        "duration": 805,
        "start_time": "2023-03-12T18:12:18.821Z"
      },
      {
        "duration": 17,
        "start_time": "2023-03-12T18:12:19.628Z"
      },
      {
        "duration": 6,
        "start_time": "2023-03-12T18:12:19.646Z"
      },
      {
        "duration": 17,
        "start_time": "2023-03-12T18:12:19.653Z"
      },
      {
        "duration": 234,
        "start_time": "2023-03-12T18:12:19.672Z"
      },
      {
        "duration": 9,
        "start_time": "2023-03-12T18:12:19.907Z"
      },
      {
        "duration": 3,
        "start_time": "2023-03-12T18:12:19.918Z"
      },
      {
        "duration": 20,
        "start_time": "2023-03-12T18:12:19.923Z"
      },
      {
        "duration": 6,
        "start_time": "2023-03-12T18:20:48.607Z"
      },
      {
        "duration": 156,
        "start_time": "2023-03-12T18:20:56.894Z"
      },
      {
        "duration": 195,
        "start_time": "2023-03-12T18:21:26.905Z"
      },
      {
        "duration": 10,
        "start_time": "2023-03-12T18:35:05.123Z"
      },
      {
        "duration": 13,
        "start_time": "2023-03-12T18:35:12.275Z"
      },
      {
        "duration": 8,
        "start_time": "2023-03-12T18:35:46.383Z"
      },
      {
        "duration": 6,
        "start_time": "2023-03-12T18:41:18.075Z"
      },
      {
        "duration": 113,
        "start_time": "2023-03-12T18:42:27.086Z"
      },
      {
        "duration": 4,
        "start_time": "2023-03-12T18:53:32.353Z"
      },
      {
        "duration": 772,
        "start_time": "2023-03-12T18:53:32.359Z"
      },
      {
        "duration": 20,
        "start_time": "2023-03-12T18:53:33.133Z"
      },
      {
        "duration": 26,
        "start_time": "2023-03-12T18:53:33.155Z"
      },
      {
        "duration": 21,
        "start_time": "2023-03-12T18:53:33.184Z"
      },
      {
        "duration": 23,
        "start_time": "2023-03-12T18:53:33.207Z"
      },
      {
        "duration": 37,
        "start_time": "2023-03-12T18:53:33.232Z"
      },
      {
        "duration": 19,
        "start_time": "2023-03-12T18:53:33.272Z"
      },
      {
        "duration": 11,
        "start_time": "2023-03-12T18:53:33.294Z"
      },
      {
        "duration": 25,
        "start_time": "2023-03-12T18:53:33.307Z"
      },
      {
        "duration": 230,
        "start_time": "2023-03-12T18:53:33.336Z"
      },
      {
        "duration": 15,
        "start_time": "2023-03-12T18:53:33.569Z"
      },
      {
        "duration": 4,
        "start_time": "2023-03-12T18:53:33.586Z"
      },
      {
        "duration": 4,
        "start_time": "2023-03-12T18:53:33.592Z"
      },
      {
        "duration": 230,
        "start_time": "2023-03-12T18:53:33.597Z"
      },
      {
        "duration": 9,
        "start_time": "2023-03-12T18:53:33.829Z"
      },
      {
        "duration": 13,
        "start_time": "2023-03-12T18:53:33.840Z"
      },
      {
        "duration": 17,
        "start_time": "2023-03-12T18:53:33.855Z"
      },
      {
        "duration": 127,
        "start_time": "2023-03-12T18:53:33.874Z"
      },
      {
        "duration": 740,
        "start_time": "2023-03-12T18:53:34.003Z"
      },
      {
        "duration": 753,
        "start_time": "2023-03-12T18:53:34.745Z"
      },
      {
        "duration": 1141,
        "start_time": "2023-03-12T18:53:35.500Z"
      },
      {
        "duration": 789,
        "start_time": "2023-03-12T18:53:36.643Z"
      },
      {
        "duration": 481,
        "start_time": "2023-03-12T18:53:37.434Z"
      },
      {
        "duration": 8,
        "start_time": "2023-03-12T18:53:37.917Z"
      },
      {
        "duration": 6,
        "start_time": "2023-03-12T18:53:37.926Z"
      },
      {
        "duration": 486,
        "start_time": "2023-03-12T18:53:37.933Z"
      },
      {
        "duration": 8,
        "start_time": "2023-03-12T18:53:38.421Z"
      },
      {
        "duration": 5,
        "start_time": "2023-03-12T18:53:38.433Z"
      },
      {
        "duration": 29,
        "start_time": "2023-03-12T18:53:38.440Z"
      },
      {
        "duration": 859,
        "start_time": "2023-03-12T18:53:38.471Z"
      },
      {
        "duration": 21,
        "start_time": "2023-03-12T18:53:39.331Z"
      },
      {
        "duration": 5,
        "start_time": "2023-03-12T18:53:39.353Z"
      },
      {
        "duration": 4,
        "start_time": "2023-03-12T18:53:39.368Z"
      },
      {
        "duration": 261,
        "start_time": "2023-03-12T18:53:39.373Z"
      },
      {
        "duration": 9,
        "start_time": "2023-03-12T18:53:39.636Z"
      },
      {
        "duration": 3,
        "start_time": "2023-03-12T18:53:39.646Z"
      },
      {
        "duration": 31,
        "start_time": "2023-03-12T18:53:39.651Z"
      },
      {
        "duration": 3,
        "start_time": "2023-03-12T18:53:39.684Z"
      },
      {
        "duration": 628,
        "start_time": "2023-03-12T18:53:39.689Z"
      },
      {
        "duration": 10,
        "start_time": "2023-03-12T18:53:40.319Z"
      },
      {
        "duration": 13,
        "start_time": "2023-03-12T18:53:40.331Z"
      },
      {
        "duration": 29,
        "start_time": "2023-03-12T18:53:40.345Z"
      },
      {
        "duration": 7,
        "start_time": "2023-03-12T18:53:40.376Z"
      },
      {
        "duration": 8,
        "start_time": "2023-03-12T18:53:40.384Z"
      },
      {
        "duration": 19,
        "start_time": "2023-03-12T18:53:40.393Z"
      },
      {
        "duration": 27,
        "start_time": "2023-03-12T18:53:40.413Z"
      },
      {
        "duration": 8,
        "start_time": "2023-03-12T18:53:40.442Z"
      },
      {
        "duration": 6,
        "start_time": "2023-03-12T18:56:16.013Z"
      },
      {
        "duration": 740,
        "start_time": "2023-03-12T18:56:43.520Z"
      },
      {
        "duration": 11,
        "start_time": "2023-03-12T18:56:49.880Z"
      },
      {
        "duration": 12,
        "start_time": "2023-03-12T18:57:07.249Z"
      },
      {
        "duration": 38,
        "start_time": "2023-03-12T18:57:25.745Z"
      },
      {
        "duration": 11,
        "start_time": "2023-03-12T18:58:08.001Z"
      },
      {
        "duration": 12,
        "start_time": "2023-03-12T18:58:26.568Z"
      },
      {
        "duration": 10,
        "start_time": "2023-03-12T18:58:29.139Z"
      },
      {
        "duration": 42,
        "start_time": "2023-03-12T19:00:39.744Z"
      },
      {
        "duration": 7,
        "start_time": "2023-03-12T19:00:47.078Z"
      },
      {
        "duration": 2,
        "start_time": "2023-03-12T19:05:02.957Z"
      },
      {
        "duration": 50,
        "start_time": "2023-03-12T19:05:30.936Z"
      },
      {
        "duration": 1352,
        "start_time": "2023-03-12T19:05:56.966Z"
      },
      {
        "duration": 675,
        "start_time": "2023-03-12T19:05:58.320Z"
      },
      {
        "duration": 24,
        "start_time": "2023-03-12T19:05:58.996Z"
      },
      {
        "duration": 17,
        "start_time": "2023-03-12T19:05:59.023Z"
      },
      {
        "duration": 38,
        "start_time": "2023-03-12T19:05:59.042Z"
      },
      {
        "duration": 17,
        "start_time": "2023-03-12T19:05:59.082Z"
      },
      {
        "duration": 19,
        "start_time": "2023-03-12T19:05:59.101Z"
      },
      {
        "duration": 18,
        "start_time": "2023-03-12T19:05:59.122Z"
      },
      {
        "duration": 36,
        "start_time": "2023-03-12T19:05:59.142Z"
      },
      {
        "duration": 7,
        "start_time": "2023-03-12T19:05:59.182Z"
      },
      {
        "duration": 233,
        "start_time": "2023-03-12T19:05:59.191Z"
      },
      {
        "duration": 16,
        "start_time": "2023-03-12T19:05:59.426Z"
      },
      {
        "duration": 5,
        "start_time": "2023-03-12T19:05:59.444Z"
      },
      {
        "duration": 19,
        "start_time": "2023-03-12T19:05:59.451Z"
      },
      {
        "duration": 214,
        "start_time": "2023-03-12T19:05:59.472Z"
      },
      {
        "duration": 8,
        "start_time": "2023-03-12T19:05:59.687Z"
      },
      {
        "duration": 2,
        "start_time": "2023-03-12T19:05:59.697Z"
      },
      {
        "duration": 8,
        "start_time": "2023-03-12T19:05:59.701Z"
      },
      {
        "duration": 193,
        "start_time": "2023-03-12T19:05:59.711Z"
      },
      {
        "duration": 700,
        "start_time": "2023-03-12T19:05:59.906Z"
      },
      {
        "duration": 673,
        "start_time": "2023-03-12T19:06:00.608Z"
      },
      {
        "duration": 917,
        "start_time": "2023-03-12T19:06:01.283Z"
      },
      {
        "duration": 723,
        "start_time": "2023-03-12T19:06:02.202Z"
      },
      {
        "duration": 584,
        "start_time": "2023-03-12T19:06:02.928Z"
      },
      {
        "duration": 10,
        "start_time": "2023-03-12T19:06:03.514Z"
      },
      {
        "duration": 6,
        "start_time": "2023-03-12T19:06:03.525Z"
      },
      {
        "duration": 466,
        "start_time": "2023-03-12T19:06:03.532Z"
      },
      {
        "duration": 13,
        "start_time": "2023-03-12T19:06:04.002Z"
      },
      {
        "duration": 10,
        "start_time": "2023-03-12T19:06:04.018Z"
      },
      {
        "duration": 15,
        "start_time": "2023-03-12T19:06:04.030Z"
      },
      {
        "duration": 768,
        "start_time": "2023-03-12T19:06:04.047Z"
      },
      {
        "duration": 26,
        "start_time": "2023-03-12T19:06:04.816Z"
      },
      {
        "duration": 6,
        "start_time": "2023-03-12T19:06:04.844Z"
      },
      {
        "duration": 5,
        "start_time": "2023-03-12T19:06:04.869Z"
      },
      {
        "duration": 232,
        "start_time": "2023-03-12T19:06:04.876Z"
      },
      {
        "duration": 9,
        "start_time": "2023-03-12T19:06:05.109Z"
      },
      {
        "duration": 5,
        "start_time": "2023-03-12T19:06:05.119Z"
      },
      {
        "duration": 28,
        "start_time": "2023-03-12T19:06:05.126Z"
      },
      {
        "duration": 19,
        "start_time": "2023-03-12T19:06:05.156Z"
      },
      {
        "duration": 196,
        "start_time": "2023-03-12T19:06:05.177Z"
      },
      {
        "duration": 10,
        "start_time": "2023-03-12T19:06:05.375Z"
      },
      {
        "duration": 12,
        "start_time": "2023-03-12T19:06:05.387Z"
      },
      {
        "duration": 9,
        "start_time": "2023-03-12T19:06:05.400Z"
      },
      {
        "duration": 4,
        "start_time": "2023-03-12T19:06:05.410Z"
      },
      {
        "duration": 12,
        "start_time": "2023-03-12T19:06:05.416Z"
      },
      {
        "duration": 11,
        "start_time": "2023-03-12T19:06:05.430Z"
      },
      {
        "duration": 29,
        "start_time": "2023-03-12T19:06:05.443Z"
      },
      {
        "duration": 11,
        "start_time": "2023-03-12T19:06:05.473Z"
      },
      {
        "duration": 17,
        "start_time": "2023-03-12T19:06:05.485Z"
      },
      {
        "duration": 7,
        "start_time": "2023-03-12T19:06:05.504Z"
      },
      {
        "duration": 57,
        "start_time": "2023-03-12T19:06:05.512Z"
      },
      {
        "duration": 5,
        "start_time": "2023-03-12T19:06:05.570Z"
      },
      {
        "duration": 143,
        "start_time": "2023-03-12T19:06:05.577Z"
      },
      {
        "duration": 162,
        "start_time": "2023-03-12T19:06:05.722Z"
      },
      {
        "duration": 32,
        "start_time": "2023-03-12T19:08:34.585Z"
      },
      {
        "duration": 4,
        "start_time": "2023-03-12T19:08:49.396Z"
      },
      {
        "duration": 137,
        "start_time": "2023-03-12T19:08:51.290Z"
      },
      {
        "duration": 67,
        "start_time": "2023-03-12T19:08:53.998Z"
      },
      {
        "duration": 7,
        "start_time": "2023-03-12T19:09:09.248Z"
      },
      {
        "duration": 5,
        "start_time": "2023-03-12T19:09:11.488Z"
      },
      {
        "duration": 143,
        "start_time": "2023-03-12T19:09:14.055Z"
      },
      {
        "duration": 55,
        "start_time": "2023-03-12T19:09:16.246Z"
      },
      {
        "duration": 8,
        "start_time": "2023-03-12T19:11:55.802Z"
      },
      {
        "duration": 4,
        "start_time": "2023-03-12T19:11:59.041Z"
      },
      {
        "duration": 20,
        "start_time": "2023-03-12T19:12:23.992Z"
      },
      {
        "duration": 28,
        "start_time": "2023-03-12T19:12:40.013Z"
      },
      {
        "duration": 4,
        "start_time": "2023-03-12T19:12:44.107Z"
      },
      {
        "duration": 723,
        "start_time": "2023-03-12T19:12:44.112Z"
      },
      {
        "duration": 21,
        "start_time": "2023-03-12T19:12:44.837Z"
      },
      {
        "duration": 22,
        "start_time": "2023-03-12T19:12:44.859Z"
      },
      {
        "duration": 20,
        "start_time": "2023-03-12T19:12:44.883Z"
      },
      {
        "duration": 18,
        "start_time": "2023-03-12T19:12:44.904Z"
      },
      {
        "duration": 21,
        "start_time": "2023-03-12T19:12:44.923Z"
      },
      {
        "duration": 17,
        "start_time": "2023-03-12T19:12:44.970Z"
      },
      {
        "duration": 10,
        "start_time": "2023-03-12T19:12:44.989Z"
      },
      {
        "duration": 8,
        "start_time": "2023-03-12T19:12:45.001Z"
      },
      {
        "duration": 262,
        "start_time": "2023-03-12T19:12:45.011Z"
      },
      {
        "duration": 15,
        "start_time": "2023-03-12T19:12:45.274Z"
      },
      {
        "duration": 5,
        "start_time": "2023-03-12T19:12:45.291Z"
      },
      {
        "duration": 5,
        "start_time": "2023-03-12T19:12:45.297Z"
      },
      {
        "duration": 236,
        "start_time": "2023-03-12T19:12:45.304Z"
      },
      {
        "duration": 8,
        "start_time": "2023-03-12T19:12:45.542Z"
      },
      {
        "duration": 3,
        "start_time": "2023-03-12T19:12:45.552Z"
      },
      {
        "duration": 5,
        "start_time": "2023-03-12T19:12:45.569Z"
      },
      {
        "duration": 116,
        "start_time": "2023-03-12T19:12:45.576Z"
      },
      {
        "duration": 701,
        "start_time": "2023-03-12T19:12:45.694Z"
      },
      {
        "duration": 629,
        "start_time": "2023-03-12T19:12:46.396Z"
      },
      {
        "duration": 1115,
        "start_time": "2023-03-12T19:12:47.027Z"
      },
      {
        "duration": 706,
        "start_time": "2023-03-12T19:12:48.144Z"
      },
      {
        "duration": 445,
        "start_time": "2023-03-12T19:12:48.852Z"
      },
      {
        "duration": 8,
        "start_time": "2023-03-12T19:12:49.299Z"
      },
      {
        "duration": 6,
        "start_time": "2023-03-12T19:12:49.309Z"
      },
      {
        "duration": 461,
        "start_time": "2023-03-12T19:12:49.316Z"
      },
      {
        "duration": 8,
        "start_time": "2023-03-12T19:12:49.778Z"
      },
      {
        "duration": 9,
        "start_time": "2023-03-12T19:12:49.789Z"
      },
      {
        "duration": 9,
        "start_time": "2023-03-12T19:12:49.800Z"
      },
      {
        "duration": 741,
        "start_time": "2023-03-12T19:12:49.811Z"
      },
      {
        "duration": 28,
        "start_time": "2023-03-12T19:12:50.554Z"
      },
      {
        "duration": 5,
        "start_time": "2023-03-12T19:12:50.584Z"
      },
      {
        "duration": 4,
        "start_time": "2023-03-12T19:12:50.592Z"
      },
      {
        "duration": 234,
        "start_time": "2023-03-12T19:12:50.598Z"
      },
      {
        "duration": 8,
        "start_time": "2023-03-12T19:12:50.834Z"
      },
      {
        "duration": 5,
        "start_time": "2023-03-12T19:12:50.843Z"
      },
      {
        "duration": 27,
        "start_time": "2023-03-12T19:12:50.849Z"
      },
      {
        "duration": 4,
        "start_time": "2023-03-12T19:12:50.878Z"
      },
      {
        "duration": 187,
        "start_time": "2023-03-12T19:12:50.883Z"
      },
      {
        "duration": 11,
        "start_time": "2023-03-12T19:12:51.072Z"
      },
      {
        "duration": 12,
        "start_time": "2023-03-12T19:12:51.084Z"
      },
      {
        "duration": 8,
        "start_time": "2023-03-12T19:12:51.097Z"
      },
      {
        "duration": 3,
        "start_time": "2023-03-12T19:12:51.106Z"
      },
      {
        "duration": 10,
        "start_time": "2023-03-12T19:12:51.110Z"
      },
      {
        "duration": 8,
        "start_time": "2023-03-12T19:12:51.122Z"
      },
      {
        "duration": 6,
        "start_time": "2023-03-12T19:12:51.132Z"
      },
      {
        "duration": 39,
        "start_time": "2023-03-12T19:12:51.139Z"
      },
      {
        "duration": 7,
        "start_time": "2023-03-12T19:12:51.180Z"
      },
      {
        "duration": 40,
        "start_time": "2023-03-12T19:12:51.188Z"
      },
      {
        "duration": 13,
        "start_time": "2023-03-12T19:12:51.230Z"
      },
      {
        "duration": 25,
        "start_time": "2023-03-12T19:12:51.244Z"
      },
      {
        "duration": 138,
        "start_time": "2023-03-12T19:12:51.271Z"
      },
      {
        "duration": 182,
        "start_time": "2023-03-12T19:16:19.991Z"
      },
      {
        "duration": 4,
        "start_time": "2023-03-12T19:30:01.580Z"
      },
      {
        "duration": 3,
        "start_time": "2023-03-12T19:30:13.347Z"
      },
      {
        "duration": 1543,
        "start_time": "2023-03-12T19:31:48.826Z"
      },
      {
        "duration": 1595,
        "start_time": "2023-03-12T19:32:03.580Z"
      },
      {
        "duration": 1255,
        "start_time": "2023-03-12T19:35:13.616Z"
      },
      {
        "duration": 11,
        "start_time": "2023-03-12T19:37:07.918Z"
      },
      {
        "duration": 3,
        "start_time": "2023-03-12T19:38:01.718Z"
      },
      {
        "duration": 726,
        "start_time": "2023-03-12T19:38:01.723Z"
      },
      {
        "duration": 21,
        "start_time": "2023-03-12T19:38:02.451Z"
      },
      {
        "duration": 31,
        "start_time": "2023-03-12T19:38:02.473Z"
      },
      {
        "duration": 21,
        "start_time": "2023-03-12T19:38:02.506Z"
      },
      {
        "duration": 23,
        "start_time": "2023-03-12T19:38:02.529Z"
      },
      {
        "duration": 32,
        "start_time": "2023-03-12T19:38:02.554Z"
      },
      {
        "duration": 43,
        "start_time": "2023-03-12T19:38:02.588Z"
      },
      {
        "duration": 9,
        "start_time": "2023-03-12T19:38:02.632Z"
      },
      {
        "duration": 22,
        "start_time": "2023-03-12T19:38:02.643Z"
      },
      {
        "duration": 252,
        "start_time": "2023-03-12T19:38:02.667Z"
      },
      {
        "duration": 16,
        "start_time": "2023-03-12T19:38:02.921Z"
      },
      {
        "duration": 25,
        "start_time": "2023-03-12T19:38:02.938Z"
      },
      {
        "duration": 26,
        "start_time": "2023-03-12T19:38:02.965Z"
      },
      {
        "duration": 238,
        "start_time": "2023-03-12T19:38:02.993Z"
      },
      {
        "duration": 10,
        "start_time": "2023-03-12T19:38:03.233Z"
      },
      {
        "duration": 8,
        "start_time": "2023-03-12T19:38:03.244Z"
      },
      {
        "duration": 19,
        "start_time": "2023-03-12T19:38:03.254Z"
      },
      {
        "duration": 123,
        "start_time": "2023-03-12T19:38:03.275Z"
      },
      {
        "duration": 1130,
        "start_time": "2023-03-12T19:38:03.400Z"
      },
      {
        "duration": 715,
        "start_time": "2023-03-12T19:38:04.532Z"
      },
      {
        "duration": 810,
        "start_time": "2023-03-12T19:38:05.249Z"
      },
      {
        "duration": 762,
        "start_time": "2023-03-12T19:38:06.060Z"
      },
      {
        "duration": 880,
        "start_time": "2023-03-12T19:38:06.824Z"
      },
      {
        "duration": 9,
        "start_time": "2023-03-12T19:38:07.706Z"
      },
      {
        "duration": 8,
        "start_time": "2023-03-12T19:38:07.716Z"
      },
      {
        "duration": 459,
        "start_time": "2023-03-12T19:38:07.725Z"
      },
      {
        "duration": 8,
        "start_time": "2023-03-12T19:38:08.186Z"
      },
      {
        "duration": 6,
        "start_time": "2023-03-12T19:38:08.199Z"
      },
      {
        "duration": 14,
        "start_time": "2023-03-12T19:38:08.207Z"
      },
      {
        "duration": 771,
        "start_time": "2023-03-12T19:38:08.223Z"
      },
      {
        "duration": 18,
        "start_time": "2023-03-12T19:38:08.996Z"
      },
      {
        "duration": 6,
        "start_time": "2023-03-12T19:38:09.016Z"
      },
      {
        "duration": 7,
        "start_time": "2023-03-12T19:38:09.023Z"
      },
      {
        "duration": 240,
        "start_time": "2023-03-12T19:38:09.032Z"
      },
      {
        "duration": 9,
        "start_time": "2023-03-12T19:38:09.274Z"
      },
      {
        "duration": 3,
        "start_time": "2023-03-12T19:38:09.285Z"
      },
      {
        "duration": 17,
        "start_time": "2023-03-12T19:38:09.289Z"
      },
      {
        "duration": 3,
        "start_time": "2023-03-12T19:38:09.308Z"
      },
      {
        "duration": 206,
        "start_time": "2023-03-12T19:38:09.313Z"
      },
      {
        "duration": 10,
        "start_time": "2023-03-12T19:38:09.520Z"
      },
      {
        "duration": 18,
        "start_time": "2023-03-12T19:38:09.532Z"
      },
      {
        "duration": 18,
        "start_time": "2023-03-12T19:38:09.552Z"
      },
      {
        "duration": 3,
        "start_time": "2023-03-12T19:38:09.572Z"
      },
      {
        "duration": 9,
        "start_time": "2023-03-12T19:38:09.577Z"
      },
      {
        "duration": 17,
        "start_time": "2023-03-12T19:38:09.587Z"
      },
      {
        "duration": 11,
        "start_time": "2023-03-12T19:38:09.606Z"
      },
      {
        "duration": 15,
        "start_time": "2023-03-12T19:38:09.619Z"
      },
      {
        "duration": 12,
        "start_time": "2023-03-12T19:38:09.636Z"
      },
      {
        "duration": 58,
        "start_time": "2023-03-12T19:38:09.650Z"
      },
      {
        "duration": 13,
        "start_time": "2023-03-12T19:38:09.710Z"
      },
      {
        "duration": 13,
        "start_time": "2023-03-12T19:38:09.725Z"
      },
      {
        "duration": 152,
        "start_time": "2023-03-12T19:38:09.740Z"
      },
      {
        "duration": 27,
        "start_time": "2023-03-12T19:38:09.894Z"
      },
      {
        "duration": 3,
        "start_time": "2023-03-12T19:38:09.923Z"
      },
      {
        "duration": 17,
        "start_time": "2023-03-12T19:38:09.927Z"
      },
      {
        "duration": 3,
        "start_time": "2023-03-12T19:38:15.353Z"
      },
      {
        "duration": 1073,
        "start_time": "2023-03-12T19:38:17.498Z"
      },
      {
        "duration": 994,
        "start_time": "2023-03-12T19:38:21.683Z"
      },
      {
        "duration": 688,
        "start_time": "2023-03-12T19:38:31.285Z"
      },
      {
        "duration": 6801592,
        "start_time": "2023-03-12T19:49:03.078Z"
      },
      {
        "duration": 1414,
        "start_time": "2023-03-12T21:42:39.736Z"
      },
      {
        "duration": 712,
        "start_time": "2023-03-12T21:42:41.152Z"
      },
      {
        "duration": 22,
        "start_time": "2023-03-12T21:42:41.866Z"
      },
      {
        "duration": 15,
        "start_time": "2023-03-12T21:42:41.890Z"
      },
      {
        "duration": 20,
        "start_time": "2023-03-12T21:42:41.906Z"
      },
      {
        "duration": 14,
        "start_time": "2023-03-12T21:42:41.928Z"
      },
      {
        "duration": 36,
        "start_time": "2023-03-12T21:42:41.944Z"
      },
      {
        "duration": 16,
        "start_time": "2023-03-12T21:42:41.982Z"
      },
      {
        "duration": 12,
        "start_time": "2023-03-12T21:42:42.000Z"
      },
      {
        "duration": 7,
        "start_time": "2023-03-12T21:42:42.014Z"
      },
      {
        "duration": 239,
        "start_time": "2023-03-12T21:42:42.023Z"
      },
      {
        "duration": 17,
        "start_time": "2023-03-12T21:42:42.264Z"
      },
      {
        "duration": 4,
        "start_time": "2023-03-12T21:42:42.283Z"
      },
      {
        "duration": 6,
        "start_time": "2023-03-12T21:42:42.288Z"
      },
      {
        "duration": 220,
        "start_time": "2023-03-12T21:42:42.296Z"
      },
      {
        "duration": 9,
        "start_time": "2023-03-12T21:42:42.517Z"
      },
      {
        "duration": 3,
        "start_time": "2023-03-12T21:42:42.527Z"
      },
      {
        "duration": 6,
        "start_time": "2023-03-12T21:42:42.531Z"
      },
      {
        "duration": 200,
        "start_time": "2023-03-12T21:42:42.539Z"
      },
      {
        "duration": 705,
        "start_time": "2023-03-12T21:42:42.740Z"
      },
      {
        "duration": 700,
        "start_time": "2023-03-12T21:42:43.447Z"
      },
      {
        "duration": 891,
        "start_time": "2023-03-12T21:42:44.149Z"
      },
      {
        "duration": 751,
        "start_time": "2023-03-12T21:42:45.042Z"
      },
      {
        "duration": 611,
        "start_time": "2023-03-12T21:42:45.796Z"
      },
      {
        "duration": 10,
        "start_time": "2023-03-12T21:42:46.409Z"
      },
      {
        "duration": 8,
        "start_time": "2023-03-12T21:42:46.420Z"
      },
      {
        "duration": 453,
        "start_time": "2023-03-12T21:42:46.429Z"
      },
      {
        "duration": 11,
        "start_time": "2023-03-12T21:42:46.886Z"
      },
      {
        "duration": 7,
        "start_time": "2023-03-12T21:42:46.899Z"
      },
      {
        "duration": 10,
        "start_time": "2023-03-12T21:42:46.908Z"
      },
      {
        "duration": 751,
        "start_time": "2023-03-12T21:42:46.919Z"
      },
      {
        "duration": 23,
        "start_time": "2023-03-12T21:42:47.672Z"
      },
      {
        "duration": 6,
        "start_time": "2023-03-12T21:42:47.697Z"
      },
      {
        "duration": 7,
        "start_time": "2023-03-12T21:42:47.704Z"
      },
      {
        "duration": 241,
        "start_time": "2023-03-12T21:42:47.713Z"
      },
      {
        "duration": 18,
        "start_time": "2023-03-12T21:42:47.956Z"
      },
      {
        "duration": 4,
        "start_time": "2023-03-12T21:42:47.975Z"
      },
      {
        "duration": 30,
        "start_time": "2023-03-12T21:42:47.980Z"
      },
      {
        "duration": 4,
        "start_time": "2023-03-12T21:42:48.012Z"
      },
      {
        "duration": 191,
        "start_time": "2023-03-12T21:42:48.018Z"
      },
      {
        "duration": 10,
        "start_time": "2023-03-12T21:42:48.211Z"
      },
      {
        "duration": 16,
        "start_time": "2023-03-12T21:42:48.223Z"
      },
      {
        "duration": 8,
        "start_time": "2023-03-12T21:42:48.241Z"
      },
      {
        "duration": 21,
        "start_time": "2023-03-12T21:42:48.251Z"
      },
      {
        "duration": 7,
        "start_time": "2023-03-12T21:42:48.274Z"
      },
      {
        "duration": 10,
        "start_time": "2023-03-12T21:42:48.282Z"
      },
      {
        "duration": 6,
        "start_time": "2023-03-12T21:42:48.293Z"
      },
      {
        "duration": 17,
        "start_time": "2023-03-12T21:42:48.301Z"
      },
      {
        "duration": 7,
        "start_time": "2023-03-12T21:42:48.319Z"
      },
      {
        "duration": 67,
        "start_time": "2023-03-12T21:42:48.327Z"
      },
      {
        "duration": 11,
        "start_time": "2023-03-12T21:42:48.395Z"
      },
      {
        "duration": 9,
        "start_time": "2023-03-12T21:42:48.407Z"
      },
      {
        "duration": 145,
        "start_time": "2023-03-12T21:42:48.418Z"
      },
      {
        "duration": 30,
        "start_time": "2023-03-12T21:42:48.564Z"
      },
      {
        "duration": 3,
        "start_time": "2023-03-12T21:42:48.595Z"
      },
      {
        "duration": 13,
        "start_time": "2023-03-12T21:42:48.599Z"
      },
      {
        "duration": 10,
        "start_time": "2023-03-12T21:42:48.613Z"
      },
      {
        "duration": 1351,
        "start_time": "2023-03-12T21:42:48.624Z"
      },
      {
        "duration": 902,
        "start_time": "2023-03-12T21:42:54.376Z"
      },
      {
        "duration": 112599,
        "start_time": "2023-03-12T21:44:26.074Z"
      },
      {
        "duration": 4,
        "start_time": "2023-03-12T21:47:30.854Z"
      },
      {
        "duration": 19937,
        "start_time": "2023-03-12T21:48:44.186Z"
      },
      {
        "duration": 5218,
        "start_time": "2023-03-12T21:49:38.507Z"
      },
      {
        "duration": 4,
        "start_time": "2023-03-12T21:49:47.643Z"
      },
      {
        "duration": 715,
        "start_time": "2023-03-12T21:49:47.649Z"
      },
      {
        "duration": 20,
        "start_time": "2023-03-12T21:49:48.366Z"
      },
      {
        "duration": 18,
        "start_time": "2023-03-12T21:49:48.388Z"
      },
      {
        "duration": 23,
        "start_time": "2023-03-12T21:49:48.408Z"
      },
      {
        "duration": 41,
        "start_time": "2023-03-12T21:49:48.434Z"
      },
      {
        "duration": 21,
        "start_time": "2023-03-12T21:49:48.477Z"
      },
      {
        "duration": 20,
        "start_time": "2023-03-12T21:49:48.500Z"
      },
      {
        "duration": 7,
        "start_time": "2023-03-12T21:49:48.523Z"
      },
      {
        "duration": 8,
        "start_time": "2023-03-12T21:49:48.532Z"
      },
      {
        "duration": 303,
        "start_time": "2023-03-12T21:49:48.568Z"
      },
      {
        "duration": 15,
        "start_time": "2023-03-12T21:49:48.873Z"
      },
      {
        "duration": 5,
        "start_time": "2023-03-12T21:49:48.890Z"
      },
      {
        "duration": 3,
        "start_time": "2023-03-12T21:49:48.897Z"
      },
      {
        "duration": 238,
        "start_time": "2023-03-12T21:49:48.902Z"
      },
      {
        "duration": 10,
        "start_time": "2023-03-12T21:49:49.142Z"
      },
      {
        "duration": 2,
        "start_time": "2023-03-12T21:49:49.154Z"
      },
      {
        "duration": 7,
        "start_time": "2023-03-12T21:49:49.168Z"
      },
      {
        "duration": 117,
        "start_time": "2023-03-12T21:49:49.177Z"
      },
      {
        "duration": 687,
        "start_time": "2023-03-12T21:49:49.296Z"
      },
      {
        "duration": 787,
        "start_time": "2023-03-12T21:49:49.985Z"
      },
      {
        "duration": 791,
        "start_time": "2023-03-12T21:49:50.774Z"
      },
      {
        "duration": 871,
        "start_time": "2023-03-12T21:49:51.568Z"
      },
      {
        "duration": 487,
        "start_time": "2023-03-12T21:49:52.441Z"
      },
      {
        "duration": 8,
        "start_time": "2023-03-12T21:49:52.930Z"
      },
      {
        "duration": 7,
        "start_time": "2023-03-12T21:49:52.940Z"
      },
      {
        "duration": 457,
        "start_time": "2023-03-12T21:49:52.948Z"
      },
      {
        "duration": 8,
        "start_time": "2023-03-12T21:49:53.407Z"
      },
      {
        "duration": 11,
        "start_time": "2023-03-12T21:49:53.419Z"
      },
      {
        "duration": 18,
        "start_time": "2023-03-12T21:49:53.432Z"
      },
      {
        "duration": 784,
        "start_time": "2023-03-12T21:49:53.452Z"
      },
      {
        "duration": 24,
        "start_time": "2023-03-12T21:49:54.237Z"
      },
      {
        "duration": 6,
        "start_time": "2023-03-12T21:49:54.269Z"
      },
      {
        "duration": 5,
        "start_time": "2023-03-12T21:49:54.276Z"
      },
      {
        "duration": 239,
        "start_time": "2023-03-12T21:49:54.283Z"
      },
      {
        "duration": 9,
        "start_time": "2023-03-12T21:49:54.523Z"
      },
      {
        "duration": 4,
        "start_time": "2023-03-12T21:49:54.533Z"
      },
      {
        "duration": 33,
        "start_time": "2023-03-12T21:49:54.538Z"
      },
      {
        "duration": 3,
        "start_time": "2023-03-12T21:49:54.573Z"
      },
      {
        "duration": 318,
        "start_time": "2023-03-12T21:49:54.577Z"
      },
      {
        "duration": 10,
        "start_time": "2023-03-12T21:49:54.897Z"
      },
      {
        "duration": 12,
        "start_time": "2023-03-12T21:49:54.908Z"
      },
      {
        "duration": 15,
        "start_time": "2023-03-12T21:49:54.922Z"
      },
      {
        "duration": 8,
        "start_time": "2023-03-12T21:49:54.938Z"
      },
      {
        "duration": 22,
        "start_time": "2023-03-12T21:49:54.948Z"
      },
      {
        "duration": 10,
        "start_time": "2023-03-12T21:49:54.971Z"
      },
      {
        "duration": 21,
        "start_time": "2023-03-12T21:49:54.982Z"
      },
      {
        "duration": 19,
        "start_time": "2023-03-12T21:49:55.004Z"
      },
      {
        "duration": 9,
        "start_time": "2023-03-12T21:49:55.024Z"
      },
      {
        "duration": 51,
        "start_time": "2023-03-12T21:49:55.034Z"
      },
      {
        "duration": 7,
        "start_time": "2023-03-12T21:49:55.087Z"
      },
      {
        "duration": 19,
        "start_time": "2023-03-12T21:49:55.096Z"
      },
      {
        "duration": 160,
        "start_time": "2023-03-12T21:49:55.117Z"
      },
      {
        "duration": 29,
        "start_time": "2023-03-12T21:49:55.279Z"
      },
      {
        "duration": 3,
        "start_time": "2023-03-12T21:49:55.309Z"
      },
      {
        "duration": 9,
        "start_time": "2023-03-12T21:49:55.314Z"
      },
      {
        "duration": 6,
        "start_time": "2023-03-12T21:49:55.325Z"
      },
      {
        "duration": 1442,
        "start_time": "2023-03-12T21:49:55.333Z"
      },
      {
        "duration": 1001,
        "start_time": "2023-03-12T21:49:56.777Z"
      },
      {
        "duration": 491071,
        "start_time": "2023-03-12T21:50:09.997Z"
      },
      {
        "duration": 5,
        "start_time": "2023-03-12T21:58:43.997Z"
      },
      {
        "duration": 211062,
        "start_time": "2023-03-12T22:00:50.350Z"
      },
      {
        "duration": 4,
        "start_time": "2023-03-12T22:08:25.670Z"
      },
      {
        "duration": 916141,
        "start_time": "2023-03-12T22:11:22.132Z"
      },
      {
        "duration": 3,
        "start_time": "2023-03-12T22:28:45.531Z"
      },
      {
        "duration": 32866,
        "start_time": "2023-03-12T22:28:47.219Z"
      },
      {
        "duration": 231093,
        "start_time": "2023-03-12T22:29:25.910Z"
      },
      {
        "duration": 204285,
        "start_time": "2023-03-12T22:34:24.022Z"
      },
      {
        "duration": 450086,
        "start_time": "2023-03-12T22:38:06.894Z"
      },
      {
        "duration": 21753,
        "start_time": "2023-03-12T22:53:26.672Z"
      },
      {
        "duration": 63271,
        "start_time": "2023-03-12T22:54:05.526Z"
      },
      {
        "duration": 4,
        "start_time": "2023-03-12T22:56:22.141Z"
      },
      {
        "duration": 1427,
        "start_time": "2023-03-12T22:57:53.260Z"
      },
      {
        "duration": 694,
        "start_time": "2023-03-12T22:57:54.689Z"
      },
      {
        "duration": 24,
        "start_time": "2023-03-12T22:57:55.385Z"
      },
      {
        "duration": 16,
        "start_time": "2023-03-12T22:57:55.411Z"
      },
      {
        "duration": 18,
        "start_time": "2023-03-12T22:57:55.429Z"
      },
      {
        "duration": 28,
        "start_time": "2023-03-12T22:57:55.449Z"
      },
      {
        "duration": 20,
        "start_time": "2023-03-12T22:57:55.479Z"
      },
      {
        "duration": 22,
        "start_time": "2023-03-12T22:57:55.501Z"
      },
      {
        "duration": 11,
        "start_time": "2023-03-12T22:57:55.525Z"
      },
      {
        "duration": 31,
        "start_time": "2023-03-12T22:57:55.539Z"
      },
      {
        "duration": 213,
        "start_time": "2023-03-12T22:57:55.572Z"
      },
      {
        "duration": 14,
        "start_time": "2023-03-12T22:57:55.787Z"
      },
      {
        "duration": 7,
        "start_time": "2023-03-12T22:57:55.802Z"
      },
      {
        "duration": 23,
        "start_time": "2023-03-12T22:57:55.811Z"
      },
      {
        "duration": 198,
        "start_time": "2023-03-12T22:57:55.836Z"
      },
      {
        "duration": 8,
        "start_time": "2023-03-12T22:57:56.036Z"
      },
      {
        "duration": 3,
        "start_time": "2023-03-12T22:57:56.045Z"
      },
      {
        "duration": 21,
        "start_time": "2023-03-12T22:57:56.049Z"
      },
      {
        "duration": 183,
        "start_time": "2023-03-12T22:57:56.071Z"
      },
      {
        "duration": 690,
        "start_time": "2023-03-12T22:57:56.255Z"
      },
      {
        "duration": 661,
        "start_time": "2023-03-12T22:57:56.947Z"
      },
      {
        "duration": 1701,
        "start_time": "2023-03-12T22:57:57.609Z"
      },
      {
        "duration": 747,
        "start_time": "2023-03-12T22:57:59.312Z"
      },
      {
        "duration": 548,
        "start_time": "2023-03-12T22:58:00.061Z"
      },
      {
        "duration": 11,
        "start_time": "2023-03-12T22:58:00.611Z"
      },
      {
        "duration": 14,
        "start_time": "2023-03-12T22:58:00.623Z"
      },
      {
        "duration": 444,
        "start_time": "2023-03-12T22:58:00.639Z"
      },
      {
        "duration": 11,
        "start_time": "2023-03-12T22:58:01.088Z"
      },
      {
        "duration": 20,
        "start_time": "2023-03-12T22:58:01.101Z"
      },
      {
        "duration": 46,
        "start_time": "2023-03-12T22:58:01.123Z"
      },
      {
        "duration": 743,
        "start_time": "2023-03-12T22:58:01.171Z"
      },
      {
        "duration": 23,
        "start_time": "2023-03-12T22:58:01.916Z"
      },
      {
        "duration": 5,
        "start_time": "2023-03-12T22:58:01.941Z"
      },
      {
        "duration": 22,
        "start_time": "2023-03-12T22:58:01.948Z"
      },
      {
        "duration": 222,
        "start_time": "2023-03-12T22:58:01.972Z"
      },
      {
        "duration": 10,
        "start_time": "2023-03-12T22:58:02.196Z"
      },
      {
        "duration": 4,
        "start_time": "2023-03-12T22:58:02.208Z"
      },
      {
        "duration": 14,
        "start_time": "2023-03-12T22:58:02.214Z"
      },
      {
        "duration": 3,
        "start_time": "2023-03-12T22:58:02.230Z"
      },
      {
        "duration": 187,
        "start_time": "2023-03-12T22:58:02.268Z"
      },
      {
        "duration": 19,
        "start_time": "2023-03-12T22:58:02.457Z"
      },
      {
        "duration": 11,
        "start_time": "2023-03-12T22:58:02.477Z"
      },
      {
        "duration": 15,
        "start_time": "2023-03-12T22:58:02.490Z"
      },
      {
        "duration": 21,
        "start_time": "2023-03-12T22:58:02.507Z"
      },
      {
        "duration": 24,
        "start_time": "2023-03-12T22:58:02.530Z"
      },
      {
        "duration": 14,
        "start_time": "2023-03-12T22:58:02.556Z"
      },
      {
        "duration": 12,
        "start_time": "2023-03-12T22:58:02.572Z"
      },
      {
        "duration": 17,
        "start_time": "2023-03-12T22:58:02.586Z"
      },
      {
        "duration": 21,
        "start_time": "2023-03-12T22:58:02.605Z"
      },
      {
        "duration": 54,
        "start_time": "2023-03-12T22:58:02.628Z"
      },
      {
        "duration": 25,
        "start_time": "2023-03-12T22:58:02.684Z"
      },
      {
        "duration": 8,
        "start_time": "2023-03-12T22:58:02.711Z"
      },
      {
        "duration": 135,
        "start_time": "2023-03-12T22:58:02.721Z"
      },
      {
        "duration": 31,
        "start_time": "2023-03-12T22:58:02.858Z"
      },
      {
        "duration": 3,
        "start_time": "2023-03-12T22:58:02.890Z"
      },
      {
        "duration": 9,
        "start_time": "2023-03-12T22:58:02.895Z"
      },
      {
        "duration": 9,
        "start_time": "2023-03-12T22:58:02.906Z"
      },
      {
        "duration": 1559,
        "start_time": "2023-03-12T22:58:02.917Z"
      },
      {
        "duration": 711,
        "start_time": "2023-03-12T22:58:04.568Z"
      },
      {
        "duration": 477746,
        "start_time": "2023-03-12T22:58:05.371Z"
      },
      {
        "duration": 4,
        "start_time": "2023-03-12T23:06:03.118Z"
      },
      {
        "duration": 206527,
        "start_time": "2023-03-12T23:06:03.124Z"
      },
      {
        "duration": 3,
        "start_time": "2023-03-12T23:09:29.653Z"
      },
      {
        "duration": 232475,
        "start_time": "2023-03-12T23:09:29.657Z"
      },
      {
        "duration": 3,
        "start_time": "2023-03-12T23:13:22.133Z"
      },
      {
        "duration": 450021,
        "start_time": "2023-03-12T23:13:22.138Z"
      },
      {
        "duration": 3,
        "start_time": "2023-03-12T23:20:52.160Z"
      },
      {
        "duration": 35206,
        "start_time": "2023-03-12T23:20:52.169Z"
      },
      {
        "duration": 4,
        "start_time": "2023-03-12T23:21:27.377Z"
      },
      {
        "duration": 63364,
        "start_time": "2023-03-12T23:21:27.382Z"
      },
      {
        "duration": 3,
        "start_time": "2023-03-12T23:22:30.747Z"
      },
      {
        "duration": 3,
        "start_time": "2023-03-12T23:22:35.579Z"
      },
      {
        "duration": 4,
        "start_time": "2023-03-12T23:23:54.961Z"
      },
      {
        "duration": 111,
        "start_time": "2023-03-12T23:23:57.565Z"
      },
      {
        "duration": 4,
        "start_time": "2023-03-12T23:25:10.867Z"
      },
      {
        "duration": 318,
        "start_time": "2023-03-12T23:25:12.733Z"
      },
      {
        "duration": 10,
        "start_time": "2023-03-12T23:26:28.199Z"
      },
      {
        "duration": 4,
        "start_time": "2023-03-12T23:26:59.808Z"
      },
      {
        "duration": 1276,
        "start_time": "2023-03-12T23:32:54.399Z"
      },
      {
        "duration": 9,
        "start_time": "2023-03-12T23:33:03.704Z"
      },
      {
        "duration": 129,
        "start_time": "2023-03-12T23:33:15.513Z"
      },
      {
        "duration": 1212,
        "start_time": "2023-03-12T23:33:27.064Z"
      },
      {
        "duration": 59,
        "start_time": "2023-03-12T23:34:14.603Z"
      },
      {
        "duration": 13334,
        "start_time": "2023-03-12T23:34:47.503Z"
      },
      {
        "duration": 4,
        "start_time": "2023-03-12T23:35:24.721Z"
      },
      {
        "duration": 8,
        "start_time": "2023-03-12T23:35:37.117Z"
      },
      {
        "duration": 3,
        "start_time": "2023-03-12T23:35:38.836Z"
      },
      {
        "duration": 1655,
        "start_time": "2023-03-12T23:39:15.621Z"
      },
      {
        "duration": 3,
        "start_time": "2023-03-12T23:39:21.110Z"
      },
      {
        "duration": 9,
        "start_time": "2023-03-12T23:39:23.716Z"
      },
      {
        "duration": 2,
        "start_time": "2023-03-12T23:39:25.962Z"
      },
      {
        "duration": 1254,
        "start_time": "2023-03-13T09:09:45.712Z"
      },
      {
        "duration": 2034,
        "start_time": "2023-03-13T09:09:46.968Z"
      },
      {
        "duration": 23,
        "start_time": "2023-03-13T09:09:49.003Z"
      },
      {
        "duration": 15,
        "start_time": "2023-03-13T09:09:49.028Z"
      },
      {
        "duration": 18,
        "start_time": "2023-03-13T09:09:49.045Z"
      },
      {
        "duration": 18,
        "start_time": "2023-03-13T09:09:49.065Z"
      },
      {
        "duration": 20,
        "start_time": "2023-03-13T09:09:49.084Z"
      },
      {
        "duration": 37,
        "start_time": "2023-03-13T09:09:49.106Z"
      },
      {
        "duration": 11,
        "start_time": "2023-03-13T09:09:49.145Z"
      },
      {
        "duration": 7,
        "start_time": "2023-03-13T09:09:49.159Z"
      },
      {
        "duration": 248,
        "start_time": "2023-03-13T09:09:49.167Z"
      },
      {
        "duration": 27,
        "start_time": "2023-03-13T09:09:49.416Z"
      },
      {
        "duration": 5,
        "start_time": "2023-03-13T09:09:49.445Z"
      },
      {
        "duration": 7,
        "start_time": "2023-03-13T09:09:49.452Z"
      },
      {
        "duration": 220,
        "start_time": "2023-03-13T09:09:49.460Z"
      },
      {
        "duration": 10,
        "start_time": "2023-03-13T09:09:49.682Z"
      },
      {
        "duration": 2,
        "start_time": "2023-03-13T09:09:49.693Z"
      },
      {
        "duration": 9,
        "start_time": "2023-03-13T09:09:49.697Z"
      },
      {
        "duration": 194,
        "start_time": "2023-03-13T09:09:49.708Z"
      },
      {
        "duration": 702,
        "start_time": "2023-03-13T09:09:49.903Z"
      },
      {
        "duration": 703,
        "start_time": "2023-03-13T09:09:50.607Z"
      },
      {
        "duration": 901,
        "start_time": "2023-03-13T09:09:51.311Z"
      },
      {
        "duration": 821,
        "start_time": "2023-03-13T09:09:52.214Z"
      },
      {
        "duration": 536,
        "start_time": "2023-03-13T09:09:53.037Z"
      },
      {
        "duration": 11,
        "start_time": "2023-03-13T09:09:53.574Z"
      },
      {
        "duration": 6,
        "start_time": "2023-03-13T09:09:53.587Z"
      },
      {
        "duration": 456,
        "start_time": "2023-03-13T09:09:53.595Z"
      },
      {
        "duration": 11,
        "start_time": "2023-03-13T09:09:54.054Z"
      },
      {
        "duration": 5,
        "start_time": "2023-03-13T09:09:54.067Z"
      },
      {
        "duration": 11,
        "start_time": "2023-03-13T09:09:54.073Z"
      },
      {
        "duration": 790,
        "start_time": "2023-03-13T09:09:54.085Z"
      },
      {
        "duration": 23,
        "start_time": "2023-03-13T09:09:54.876Z"
      },
      {
        "duration": 5,
        "start_time": "2023-03-13T09:09:54.901Z"
      },
      {
        "duration": 4,
        "start_time": "2023-03-13T09:09:54.908Z"
      },
      {
        "duration": 241,
        "start_time": "2023-03-13T09:09:54.914Z"
      },
      {
        "duration": 9,
        "start_time": "2023-03-13T09:09:55.156Z"
      },
      {
        "duration": 3,
        "start_time": "2023-03-13T09:09:55.167Z"
      },
      {
        "duration": 14,
        "start_time": "2023-03-13T09:09:55.172Z"
      },
      {
        "duration": 5,
        "start_time": "2023-03-13T09:09:55.188Z"
      },
      {
        "duration": 46,
        "start_time": "2023-03-13T09:09:55.194Z"
      },
      {
        "duration": 14,
        "start_time": "2023-03-13T09:11:12.250Z"
      },
      {
        "duration": 1597,
        "start_time": "2023-03-13T12:37:23.357Z"
      },
      {
        "duration": 2545,
        "start_time": "2023-03-13T12:37:24.956Z"
      },
      {
        "duration": 27,
        "start_time": "2023-03-13T12:37:27.503Z"
      },
      {
        "duration": 18,
        "start_time": "2023-03-13T12:37:27.532Z"
      },
      {
        "duration": 23,
        "start_time": "2023-03-13T12:37:27.552Z"
      },
      {
        "duration": 28,
        "start_time": "2023-03-13T12:37:27.577Z"
      },
      {
        "duration": 22,
        "start_time": "2023-03-13T12:37:27.606Z"
      },
      {
        "duration": 31,
        "start_time": "2023-03-13T12:37:27.630Z"
      },
      {
        "duration": 12,
        "start_time": "2023-03-13T12:37:27.663Z"
      },
      {
        "duration": 22,
        "start_time": "2023-03-13T12:37:27.677Z"
      },
      {
        "duration": 227,
        "start_time": "2023-03-13T12:37:27.701Z"
      },
      {
        "duration": 14,
        "start_time": "2023-03-13T12:37:27.930Z"
      },
      {
        "duration": 5,
        "start_time": "2023-03-13T12:37:27.957Z"
      },
      {
        "duration": 12,
        "start_time": "2023-03-13T12:37:27.963Z"
      },
      {
        "duration": 222,
        "start_time": "2023-03-13T12:37:27.977Z"
      },
      {
        "duration": 9,
        "start_time": "2023-03-13T12:37:28.200Z"
      },
      {
        "duration": 26,
        "start_time": "2023-03-13T12:37:28.210Z"
      },
      {
        "duration": 16,
        "start_time": "2023-03-13T12:37:28.238Z"
      },
      {
        "duration": 213,
        "start_time": "2023-03-13T12:37:28.256Z"
      },
      {
        "duration": 725,
        "start_time": "2023-03-13T12:37:28.471Z"
      },
      {
        "duration": 704,
        "start_time": "2023-03-13T12:37:29.199Z"
      },
      {
        "duration": 918,
        "start_time": "2023-03-13T12:37:29.905Z"
      },
      {
        "duration": 783,
        "start_time": "2023-03-13T12:37:30.825Z"
      },
      {
        "duration": 586,
        "start_time": "2023-03-13T12:37:31.610Z"
      },
      {
        "duration": 9,
        "start_time": "2023-03-13T12:37:32.198Z"
      },
      {
        "duration": 16,
        "start_time": "2023-03-13T12:37:32.209Z"
      },
      {
        "duration": 474,
        "start_time": "2023-03-13T12:37:32.226Z"
      },
      {
        "duration": 10,
        "start_time": "2023-03-13T12:37:32.705Z"
      },
      {
        "duration": 20,
        "start_time": "2023-03-13T12:37:32.717Z"
      },
      {
        "duration": 26,
        "start_time": "2023-03-13T12:37:32.739Z"
      },
      {
        "duration": 798,
        "start_time": "2023-03-13T12:37:32.767Z"
      },
      {
        "duration": 23,
        "start_time": "2023-03-13T12:37:33.567Z"
      },
      {
        "duration": 6,
        "start_time": "2023-03-13T12:37:33.592Z"
      },
      {
        "duration": 11,
        "start_time": "2023-03-13T12:37:33.600Z"
      },
      {
        "duration": 254,
        "start_time": "2023-03-13T12:37:33.613Z"
      },
      {
        "duration": 10,
        "start_time": "2023-03-13T12:37:33.869Z"
      },
      {
        "duration": 4,
        "start_time": "2023-03-13T12:37:33.881Z"
      },
      {
        "duration": 18,
        "start_time": "2023-03-13T12:37:33.886Z"
      },
      {
        "duration": 4,
        "start_time": "2023-03-13T12:37:33.905Z"
      },
      {
        "duration": 14,
        "start_time": "2023-03-13T12:37:33.910Z"
      },
      {
        "duration": 237,
        "start_time": "2023-03-13T12:37:33.926Z"
      },
      {
        "duration": 11,
        "start_time": "2023-03-13T12:37:34.165Z"
      },
      {
        "duration": 19,
        "start_time": "2023-03-13T12:37:34.178Z"
      },
      {
        "duration": 10,
        "start_time": "2023-03-13T12:37:34.199Z"
      },
      {
        "duration": 5,
        "start_time": "2023-03-13T12:37:34.210Z"
      },
      {
        "duration": 23,
        "start_time": "2023-03-13T12:37:34.217Z"
      },
      {
        "duration": 7,
        "start_time": "2023-03-13T12:37:34.258Z"
      },
      {
        "duration": 21,
        "start_time": "2023-03-13T12:37:34.267Z"
      },
      {
        "duration": 23,
        "start_time": "2023-03-13T12:37:34.290Z"
      },
      {
        "duration": 9,
        "start_time": "2023-03-13T12:37:34.314Z"
      },
      {
        "duration": 60,
        "start_time": "2023-03-13T12:37:34.324Z"
      },
      {
        "duration": 16,
        "start_time": "2023-03-13T12:37:34.386Z"
      },
      {
        "duration": 11,
        "start_time": "2023-03-13T12:37:34.404Z"
      },
      {
        "duration": 163,
        "start_time": "2023-03-13T12:37:34.416Z"
      },
      {
        "duration": 27,
        "start_time": "2023-03-13T12:37:34.581Z"
      },
      {
        "duration": 3,
        "start_time": "2023-03-13T12:37:34.610Z"
      },
      {
        "duration": 5,
        "start_time": "2023-03-13T12:37:34.614Z"
      },
      {
        "duration": 11,
        "start_time": "2023-03-13T12:37:34.621Z"
      },
      {
        "duration": 1529,
        "start_time": "2023-03-13T12:37:34.633Z"
      },
      {
        "duration": 1099,
        "start_time": "2023-03-13T12:37:36.164Z"
      },
      {
        "duration": 519289,
        "start_time": "2023-03-13T12:37:37.266Z"
      },
      {
        "duration": 3,
        "start_time": "2023-03-13T12:46:16.558Z"
      },
      {
        "duration": 227550,
        "start_time": "2023-03-13T12:46:16.563Z"
      },
      {
        "duration": 4,
        "start_time": "2023-03-13T12:50:04.115Z"
      },
      {
        "duration": 251372,
        "start_time": "2023-03-13T12:50:04.121Z"
      },
      {
        "duration": 4,
        "start_time": "2023-03-13T12:54:15.495Z"
      },
      {
        "duration": 493074,
        "start_time": "2023-03-13T12:54:15.501Z"
      },
      {
        "duration": 4,
        "start_time": "2023-03-13T13:02:28.576Z"
      },
      {
        "duration": 47509,
        "start_time": "2023-03-13T13:02:28.581Z"
      },
      {
        "duration": 4,
        "start_time": "2023-03-13T13:03:16.091Z"
      },
      {
        "duration": 76980,
        "start_time": "2023-03-13T13:03:16.098Z"
      },
      {
        "duration": 4,
        "start_time": "2023-03-13T13:04:33.080Z"
      },
      {
        "duration": 17,
        "start_time": "2023-03-13T13:04:33.085Z"
      },
      {
        "duration": 318,
        "start_time": "2023-03-13T13:04:33.104Z"
      },
      {
        "duration": 3,
        "start_time": "2023-03-13T13:04:33.423Z"
      },
      {
        "duration": 120,
        "start_time": "2023-03-13T13:06:25.331Z"
      },
      {
        "duration": 869,
        "start_time": "2023-03-13T13:06:37.655Z"
      },
      {
        "duration": 854,
        "start_time": "2023-03-13T13:07:51.824Z"
      },
      {
        "duration": 8,
        "start_time": "2023-03-13T13:09:10.406Z"
      },
      {
        "duration": 28,
        "start_time": "2023-03-13T13:09:12.230Z"
      },
      {
        "duration": 3,
        "start_time": "2023-03-13T13:09:14.267Z"
      },
      {
        "duration": 9,
        "start_time": "2023-03-13T13:09:20.334Z"
      },
      {
        "duration": 10,
        "start_time": "2023-03-13T13:09:24.941Z"
      },
      {
        "duration": 3,
        "start_time": "2023-03-13T13:09:26.141Z"
      },
      {
        "duration": 1600,
        "start_time": "2023-03-13T13:17:09.249Z"
      },
      {
        "duration": 732,
        "start_time": "2023-03-13T13:17:10.851Z"
      },
      {
        "duration": 25,
        "start_time": "2023-03-13T13:17:11.585Z"
      },
      {
        "duration": 17,
        "start_time": "2023-03-13T13:17:11.612Z"
      },
      {
        "duration": 38,
        "start_time": "2023-03-13T13:17:11.630Z"
      },
      {
        "duration": 14,
        "start_time": "2023-03-13T13:17:11.670Z"
      },
      {
        "duration": 20,
        "start_time": "2023-03-13T13:17:11.686Z"
      },
      {
        "duration": 17,
        "start_time": "2023-03-13T13:17:11.709Z"
      },
      {
        "duration": 39,
        "start_time": "2023-03-13T13:17:11.729Z"
      },
      {
        "duration": 8,
        "start_time": "2023-03-13T13:17:11.772Z"
      },
      {
        "duration": 274,
        "start_time": "2023-03-13T13:17:11.782Z"
      },
      {
        "duration": 14,
        "start_time": "2023-03-13T13:17:12.058Z"
      },
      {
        "duration": 5,
        "start_time": "2023-03-13T13:17:12.074Z"
      },
      {
        "duration": 6,
        "start_time": "2023-03-13T13:17:12.080Z"
      },
      {
        "duration": 251,
        "start_time": "2023-03-13T13:17:12.087Z"
      },
      {
        "duration": 17,
        "start_time": "2023-03-13T13:17:12.340Z"
      },
      {
        "duration": 2,
        "start_time": "2023-03-13T13:17:12.359Z"
      },
      {
        "duration": 26,
        "start_time": "2023-03-13T13:17:12.363Z"
      },
      {
        "duration": 183,
        "start_time": "2023-03-13T13:17:12.391Z"
      },
      {
        "duration": 745,
        "start_time": "2023-03-13T13:17:12.576Z"
      },
      {
        "duration": 728,
        "start_time": "2023-03-13T13:17:13.323Z"
      },
      {
        "duration": 976,
        "start_time": "2023-03-13T13:17:14.053Z"
      },
      {
        "duration": 788,
        "start_time": "2023-03-13T13:17:15.031Z"
      },
      {
        "duration": 619,
        "start_time": "2023-03-13T13:17:15.821Z"
      },
      {
        "duration": 16,
        "start_time": "2023-03-13T13:17:16.441Z"
      },
      {
        "duration": 5,
        "start_time": "2023-03-13T13:17:16.459Z"
      },
      {
        "duration": 419,
        "start_time": "2023-03-13T13:17:16.465Z"
      },
      {
        "duration": 11,
        "start_time": "2023-03-13T13:17:16.888Z"
      },
      {
        "duration": 8,
        "start_time": "2023-03-13T13:17:16.901Z"
      },
      {
        "duration": 11,
        "start_time": "2023-03-13T13:17:16.910Z"
      },
      {
        "duration": 824,
        "start_time": "2023-03-13T13:17:16.922Z"
      },
      {
        "duration": 24,
        "start_time": "2023-03-13T13:17:17.748Z"
      },
      {
        "duration": 5,
        "start_time": "2023-03-13T13:17:17.774Z"
      },
      {
        "duration": 5,
        "start_time": "2023-03-13T13:17:17.781Z"
      },
      {
        "duration": 261,
        "start_time": "2023-03-13T13:17:17.787Z"
      },
      {
        "duration": 13,
        "start_time": "2023-03-13T13:17:18.050Z"
      },
      {
        "duration": 4,
        "start_time": "2023-03-13T13:17:18.064Z"
      },
      {
        "duration": 18,
        "start_time": "2023-03-13T13:17:18.069Z"
      },
      {
        "duration": 4,
        "start_time": "2023-03-13T13:17:18.088Z"
      },
      {
        "duration": 14,
        "start_time": "2023-03-13T13:17:18.095Z"
      },
      {
        "duration": 224,
        "start_time": "2023-03-13T13:17:18.111Z"
      },
      {
        "duration": 11,
        "start_time": "2023-03-13T13:17:18.336Z"
      },
      {
        "duration": 13,
        "start_time": "2023-03-13T13:17:18.356Z"
      },
      {
        "duration": 8,
        "start_time": "2023-03-13T13:17:18.371Z"
      },
      {
        "duration": 16,
        "start_time": "2023-03-13T13:17:18.381Z"
      },
      {
        "duration": 15,
        "start_time": "2023-03-13T13:17:18.398Z"
      },
      {
        "duration": 13,
        "start_time": "2023-03-13T13:17:18.414Z"
      },
      {
        "duration": 8,
        "start_time": "2023-03-13T13:17:18.429Z"
      },
      {
        "duration": 28,
        "start_time": "2023-03-13T13:17:18.438Z"
      },
      {
        "duration": 7,
        "start_time": "2023-03-13T13:17:18.468Z"
      },
      {
        "duration": 45,
        "start_time": "2023-03-13T13:17:18.477Z"
      },
      {
        "duration": 12,
        "start_time": "2023-03-13T13:17:18.524Z"
      },
      {
        "duration": 24,
        "start_time": "2023-03-13T13:17:18.537Z"
      },
      {
        "duration": 159,
        "start_time": "2023-03-13T13:17:18.563Z"
      },
      {
        "duration": 35,
        "start_time": "2023-03-13T13:17:18.723Z"
      },
      {
        "duration": 3,
        "start_time": "2023-03-13T13:17:18.759Z"
      },
      {
        "duration": 5,
        "start_time": "2023-03-13T13:17:18.764Z"
      },
      {
        "duration": 13,
        "start_time": "2023-03-13T13:17:18.771Z"
      },
      {
        "duration": 1371,
        "start_time": "2023-03-13T13:17:18.786Z"
      },
      {
        "duration": 1009,
        "start_time": "2023-03-13T13:17:20.160Z"
      },
      {
        "duration": 545999,
        "start_time": "2023-03-13T13:17:21.171Z"
      },
      {
        "duration": 4,
        "start_time": "2023-03-13T13:26:27.174Z"
      },
      {
        "duration": 243426,
        "start_time": "2023-03-13T13:26:27.179Z"
      },
      {
        "duration": 3,
        "start_time": "2023-03-13T13:30:30.607Z"
      },
      {
        "duration": 268480,
        "start_time": "2023-03-13T13:30:30.612Z"
      },
      {
        "duration": 3,
        "start_time": "2023-03-13T13:34:59.094Z"
      },
      {
        "duration": 532572,
        "start_time": "2023-03-13T13:34:59.098Z"
      },
      {
        "duration": 11,
        "start_time": "2023-03-13T13:43:51.672Z"
      },
      {
        "duration": 53330,
        "start_time": "2023-03-13T13:43:51.690Z"
      },
      {
        "duration": 4,
        "start_time": "2023-03-13T13:44:45.022Z"
      },
      {
        "duration": 91309,
        "start_time": "2023-03-13T13:44:45.027Z"
      },
      {
        "duration": 3,
        "start_time": "2023-03-13T13:46:16.339Z"
      },
      {
        "duration": 12,
        "start_time": "2023-03-13T13:46:16.343Z"
      },
      {
        "duration": 343,
        "start_time": "2023-03-13T13:46:16.358Z"
      },
      {
        "duration": 3,
        "start_time": "2023-03-13T13:46:16.703Z"
      },
      {
        "duration": 73,
        "start_time": "2023-03-13T13:46:16.707Z"
      },
      {
        "duration": 81,
        "start_time": "2023-03-13T13:46:16.787Z"
      },
      {
        "duration": 6,
        "start_time": "2023-03-13T13:46:16.871Z"
      },
      {
        "duration": 35,
        "start_time": "2023-03-13T13:46:16.879Z"
      },
      {
        "duration": 58,
        "start_time": "2023-03-13T13:46:16.916Z"
      }
    ],
    "kernelspec": {
      "display_name": "Python 3 (ipykernel)",
      "language": "python",
      "name": "python3"
    },
    "language_info": {
      "codemirror_mode": {
        "name": "ipython",
        "version": 3
      },
      "file_extension": ".py",
      "mimetype": "text/x-python",
      "name": "python",
      "nbconvert_exporter": "python",
      "pygments_lexer": "ipython3",
      "version": "3.9.5"
    },
    "toc": {
      "base_numbering": 1,
      "nav_menu": {},
      "number_sections": true,
      "sideBar": true,
      "skip_h1_title": true,
      "title_cell": "Содержание",
      "title_sidebar": "Contents",
      "toc_cell": true,
      "toc_position": {},
      "toc_section_display": true,
      "toc_window_display": true
    },
    "colab": {
      "provenance": []
    }
  },
  "nbformat": 4,
  "nbformat_minor": 0
}