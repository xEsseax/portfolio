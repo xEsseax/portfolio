{
  "cells": [
    {
      "cell_type": "markdown",
      "source": [
        "# Введение\n",
        "\n",
        "Проект посвящён оценке токсичности комментариев: интернет-магазин «Викишоп» запускает новый сервис. Теперь пользователи могут редактировать и дополнять описания товаров, как в вики-сообществах. То есть клиенты предлагают свои правки и комментируют изменения других. Магазину нужен инструмент, который будет искать токсичные комментарии и отправлять их на модерацию.\n",
        "\n",
        "Цель - обучение модели, способной классифицировать комментарии на позитивные и негативные. В распоряжении набор данных с разметкой о токсичности правок.\n",
        "\n",
        "Для оценки качества используется f1-метрика, по ТЗ значение метрики должно быть не менее 0.75.\n",
        "\n",
        "План:\n",
        "1. Обзор данных и предварительная подготовка\n",
        "- очистка и лемматизация, разделение на выборки, борьба с дисбалансом\n",
        "2. Обучение моделей с оптимизацией гиперпараметров\n",
        "- Выбор модели. Тестирование: сравнение полученной модели со случайной\n",
        "3. Выводы\n",
        "\n",
        "\n",
        "Данные находятся в файле toxic_comments.csv. Столбец text в нём содержит текст комментария, а toxic — целевой признак.\n"
      ],
      "metadata": {
        "id": "fOKsTdkVC6fT"
      }
    },
    {
      "cell_type": "markdown",
      "metadata": {
        "toc": true,
        "id": "3YiSGSuEA6k-"
      },
      "source": [
        "<h1>Содержание<span class=\"tocSkip\"></span></h1>\n",
        "<div class=\"toc\"><ul class=\"toc-item\"><li><span><a href=\"#Подготовка\" data-toc-modified-id=\"Подготовка-1\"><span class=\"toc-item-num\">1&nbsp;&nbsp;</span>Подготовка</a></span><ul class=\"toc-item\"><li><span><a href=\"#Чтение-и-обзор-данных\" data-toc-modified-id=\"Чтение-и-обзор-данных-1.1\"><span class=\"toc-item-num\">1.1&nbsp;&nbsp;</span>Чтение и обзор данных</a></span></li><li><span><a href=\"#Очистка-и-лемматизация-текстов\" data-toc-modified-id=\"Очистка-и-лемматизация-текстов-1.2\"><span class=\"toc-item-num\">1.2&nbsp;&nbsp;</span>Очистка и лемматизация текстов</a></span></li><li><span><a href=\"#Подготовка-данных-к-обучению-моделей\" data-toc-modified-id=\"Подготовка-данных-к-обучению-моделей-1.3\"><span class=\"toc-item-num\">1.3&nbsp;&nbsp;</span>Подготовка данных к обучению моделей</a></span></li></ul></li><li><span><a href=\"#Обучение\" data-toc-modified-id=\"Обучение-2\"><span class=\"toc-item-num\">2&nbsp;&nbsp;</span>Обучение</a></span><ul class=\"toc-item\"><li><span><a href=\"#Логистическая-регрессия\" data-toc-modified-id=\"Логистическая-регрессия-2.1\"><span class=\"toc-item-num\">2.1&nbsp;&nbsp;</span>Логистическая регрессия</a></span></li><li><span><a href=\"#Классификатор-SGDC\" data-toc-modified-id=\"Классификатор-SGDC-2.2\"><span class=\"toc-item-num\">2.2&nbsp;&nbsp;</span>Классификатор SGDC</a></span></li></ul></li><li><span><a href=\"#Проверка\" data-toc-modified-id=\"Проверка-3\"><span class=\"toc-item-num\">3&nbsp;&nbsp;</span>Проверка</a></span></li><li><span><a href=\"#Выводы\" data-toc-modified-id=\"Выводы-4\"><span class=\"toc-item-num\">4&nbsp;&nbsp;</span>Выводы</a></span></li><li><span><a href=\"#Чек-лист-проверки\" data-toc-modified-id=\"Чек-лист-проверки-5\"><span class=\"toc-item-num\">5&nbsp;&nbsp;</span>Чек-лист проверки</a></span></li></ul></div>"
      ]
    },
    {
      "cell_type": "markdown",
      "metadata": {
        "id": "8JcnBebyA6k_"
      },
      "source": [
        "## Подготовка"
      ]
    },
    {
      "cell_type": "markdown",
      "metadata": {
        "id": "MEMagEtfA6lA"
      },
      "source": [
        "### Чтение и обзор данных"
      ]
    },
    {
      "cell_type": "markdown",
      "metadata": {
        "id": "wfux9gfwA6lA"
      },
      "source": [
        "Начнём с чтения и обзора данных"
      ]
    },
    {
      "cell_type": "code",
      "execution_count": 1,
      "metadata": {
        "id": "l1klRc4GA6lB"
      },
      "outputs": [],
      "source": [
        "import pandas as pd\n",
        "import nltk\n",
        "import spacy\n",
        "import re\n",
        "import random\n",
        "import numpy as np\n",
        "\n",
        "from sklearn.model_selection import train_test_split\n",
        "from sklearn.feature_extraction.text import TfidfVectorizer\n",
        "from nltk.corpus import stopwords as nltk_stopwords\n",
        "from sklearn.linear_model import LogisticRegression, SGDClassifier\n",
        "from sklearn.metrics import f1_score\n",
        "\n",
        "from tqdm.notebook import tqdm"
      ]
    },
    {
      "cell_type": "code",
      "execution_count": 2,
      "metadata": {
        "id": "w2YubQbBA6lC"
      },
      "outputs": [],
      "source": [
        "try:\n",
        "    data = pd.read_csv('/datasets/toxic_comments.csv')\n",
        "except:\n",
        "    data = pd.read_csv('toxic_comments.csv')"
      ]
    },
    {
      "cell_type": "code",
      "execution_count": 3,
      "metadata": {
        "colab": {
          "base_uri": "https://localhost:8080/",
          "height": 206
        },
        "id": "RdJxl-_lA6lC",
        "outputId": "48f39a32-4e45-418e-eb43-a53d302a02b6"
      },
      "outputs": [
        {
          "output_type": "execute_result",
          "data": {
            "text/plain": [
              "   Unnamed: 0                                               text  toxic\n",
              "0           0  Explanation\\nWhy the edits made under my usern...      0\n",
              "1           1  D'aww! He matches this background colour I'm s...      0\n",
              "2           2  Hey man, I'm really not trying to edit war. It...      0\n",
              "3           3  \"\\nMore\\nI can't make any real suggestions on ...      0\n",
              "4           4  You, sir, are my hero. Any chance you remember...      0"
            ],
            "text/html": [
              "\n",
              "\n",
              "  <div id=\"df-98d30f37-5bd4-4912-9674-9b1811e401cb\">\n",
              "    <div class=\"colab-df-container\">\n",
              "      <div>\n",
              "<style scoped>\n",
              "    .dataframe tbody tr th:only-of-type {\n",
              "        vertical-align: middle;\n",
              "    }\n",
              "\n",
              "    .dataframe tbody tr th {\n",
              "        vertical-align: top;\n",
              "    }\n",
              "\n",
              "    .dataframe thead th {\n",
              "        text-align: right;\n",
              "    }\n",
              "</style>\n",
              "<table border=\"1\" class=\"dataframe\">\n",
              "  <thead>\n",
              "    <tr style=\"text-align: right;\">\n",
              "      <th></th>\n",
              "      <th>Unnamed: 0</th>\n",
              "      <th>text</th>\n",
              "      <th>toxic</th>\n",
              "    </tr>\n",
              "  </thead>\n",
              "  <tbody>\n",
              "    <tr>\n",
              "      <th>0</th>\n",
              "      <td>0</td>\n",
              "      <td>Explanation\\nWhy the edits made under my usern...</td>\n",
              "      <td>0</td>\n",
              "    </tr>\n",
              "    <tr>\n",
              "      <th>1</th>\n",
              "      <td>1</td>\n",
              "      <td>D'aww! He matches this background colour I'm s...</td>\n",
              "      <td>0</td>\n",
              "    </tr>\n",
              "    <tr>\n",
              "      <th>2</th>\n",
              "      <td>2</td>\n",
              "      <td>Hey man, I'm really not trying to edit war. It...</td>\n",
              "      <td>0</td>\n",
              "    </tr>\n",
              "    <tr>\n",
              "      <th>3</th>\n",
              "      <td>3</td>\n",
              "      <td>\"\\nMore\\nI can't make any real suggestions on ...</td>\n",
              "      <td>0</td>\n",
              "    </tr>\n",
              "    <tr>\n",
              "      <th>4</th>\n",
              "      <td>4</td>\n",
              "      <td>You, sir, are my hero. Any chance you remember...</td>\n",
              "      <td>0</td>\n",
              "    </tr>\n",
              "  </tbody>\n",
              "</table>\n",
              "</div>\n",
              "      <button class=\"colab-df-convert\" onclick=\"convertToInteractive('df-98d30f37-5bd4-4912-9674-9b1811e401cb')\"\n",
              "              title=\"Convert this dataframe to an interactive table.\"\n",
              "              style=\"display:none;\">\n",
              "\n",
              "  <svg xmlns=\"http://www.w3.org/2000/svg\" height=\"24px\"viewBox=\"0 0 24 24\"\n",
              "       width=\"24px\">\n",
              "    <path d=\"M0 0h24v24H0V0z\" fill=\"none\"/>\n",
              "    <path d=\"M18.56 5.44l.94 2.06.94-2.06 2.06-.94-2.06-.94-.94-2.06-.94 2.06-2.06.94zm-11 1L8.5 8.5l.94-2.06 2.06-.94-2.06-.94L8.5 2.5l-.94 2.06-2.06.94zm10 10l.94 2.06.94-2.06 2.06-.94-2.06-.94-.94-2.06-.94 2.06-2.06.94z\"/><path d=\"M17.41 7.96l-1.37-1.37c-.4-.4-.92-.59-1.43-.59-.52 0-1.04.2-1.43.59L10.3 9.45l-7.72 7.72c-.78.78-.78 2.05 0 2.83L4 21.41c.39.39.9.59 1.41.59.51 0 1.02-.2 1.41-.59l7.78-7.78 2.81-2.81c.8-.78.8-2.07 0-2.86zM5.41 20L4 18.59l7.72-7.72 1.47 1.35L5.41 20z\"/>\n",
              "  </svg>\n",
              "      </button>\n",
              "\n",
              "\n",
              "\n",
              "    <div id=\"df-9762e56b-bdc2-42c1-a501-6b27c655921c\">\n",
              "      <button class=\"colab-df-quickchart\" onclick=\"quickchart('df-9762e56b-bdc2-42c1-a501-6b27c655921c')\"\n",
              "              title=\"Suggest charts.\"\n",
              "              style=\"display:none;\">\n",
              "\n",
              "<svg xmlns=\"http://www.w3.org/2000/svg\" height=\"24px\"viewBox=\"0 0 24 24\"\n",
              "     width=\"24px\">\n",
              "    <g>\n",
              "        <path d=\"M19 3H5c-1.1 0-2 .9-2 2v14c0 1.1.9 2 2 2h14c1.1 0 2-.9 2-2V5c0-1.1-.9-2-2-2zM9 17H7v-7h2v7zm4 0h-2V7h2v10zm4 0h-2v-4h2v4z\"/>\n",
              "    </g>\n",
              "</svg>\n",
              "      </button>\n",
              "    </div>\n",
              "\n",
              "<style>\n",
              "  .colab-df-quickchart {\n",
              "    background-color: #E8F0FE;\n",
              "    border: none;\n",
              "    border-radius: 50%;\n",
              "    cursor: pointer;\n",
              "    display: none;\n",
              "    fill: #1967D2;\n",
              "    height: 32px;\n",
              "    padding: 0 0 0 0;\n",
              "    width: 32px;\n",
              "  }\n",
              "\n",
              "  .colab-df-quickchart:hover {\n",
              "    background-color: #E2EBFA;\n",
              "    box-shadow: 0px 1px 2px rgba(60, 64, 67, 0.3), 0px 1px 3px 1px rgba(60, 64, 67, 0.15);\n",
              "    fill: #174EA6;\n",
              "  }\n",
              "\n",
              "  [theme=dark] .colab-df-quickchart {\n",
              "    background-color: #3B4455;\n",
              "    fill: #D2E3FC;\n",
              "  }\n",
              "\n",
              "  [theme=dark] .colab-df-quickchart:hover {\n",
              "    background-color: #434B5C;\n",
              "    box-shadow: 0px 1px 3px 1px rgba(0, 0, 0, 0.15);\n",
              "    filter: drop-shadow(0px 1px 2px rgba(0, 0, 0, 0.3));\n",
              "    fill: #FFFFFF;\n",
              "  }\n",
              "</style>\n",
              "\n",
              "    <script>\n",
              "      async function quickchart(key) {\n",
              "        const containerElement = document.querySelector('#' + key);\n",
              "        const charts = await google.colab.kernel.invokeFunction(\n",
              "            'suggestCharts', [key], {});\n",
              "      }\n",
              "    </script>\n",
              "\n",
              "      <script>\n",
              "\n",
              "function displayQuickchartButton(domScope) {\n",
              "  let quickchartButtonEl =\n",
              "    domScope.querySelector('#df-9762e56b-bdc2-42c1-a501-6b27c655921c button.colab-df-quickchart');\n",
              "  quickchartButtonEl.style.display =\n",
              "    google.colab.kernel.accessAllowed ? 'block' : 'none';\n",
              "}\n",
              "\n",
              "        displayQuickchartButton(document);\n",
              "      </script>\n",
              "      <style>\n",
              "    .colab-df-container {\n",
              "      display:flex;\n",
              "      flex-wrap:wrap;\n",
              "      gap: 12px;\n",
              "    }\n",
              "\n",
              "    .colab-df-convert {\n",
              "      background-color: #E8F0FE;\n",
              "      border: none;\n",
              "      border-radius: 50%;\n",
              "      cursor: pointer;\n",
              "      display: none;\n",
              "      fill: #1967D2;\n",
              "      height: 32px;\n",
              "      padding: 0 0 0 0;\n",
              "      width: 32px;\n",
              "    }\n",
              "\n",
              "    .colab-df-convert:hover {\n",
              "      background-color: #E2EBFA;\n",
              "      box-shadow: 0px 1px 2px rgba(60, 64, 67, 0.3), 0px 1px 3px 1px rgba(60, 64, 67, 0.15);\n",
              "      fill: #174EA6;\n",
              "    }\n",
              "\n",
              "    [theme=dark] .colab-df-convert {\n",
              "      background-color: #3B4455;\n",
              "      fill: #D2E3FC;\n",
              "    }\n",
              "\n",
              "    [theme=dark] .colab-df-convert:hover {\n",
              "      background-color: #434B5C;\n",
              "      box-shadow: 0px 1px 3px 1px rgba(0, 0, 0, 0.15);\n",
              "      filter: drop-shadow(0px 1px 2px rgba(0, 0, 0, 0.3));\n",
              "      fill: #FFFFFF;\n",
              "    }\n",
              "  </style>\n",
              "\n",
              "      <script>\n",
              "        const buttonEl =\n",
              "          document.querySelector('#df-98d30f37-5bd4-4912-9674-9b1811e401cb button.colab-df-convert');\n",
              "        buttonEl.style.display =\n",
              "          google.colab.kernel.accessAllowed ? 'block' : 'none';\n",
              "\n",
              "        async function convertToInteractive(key) {\n",
              "          const element = document.querySelector('#df-98d30f37-5bd4-4912-9674-9b1811e401cb');\n",
              "          const dataTable =\n",
              "            await google.colab.kernel.invokeFunction('convertToInteractive',\n",
              "                                                     [key], {});\n",
              "          if (!dataTable) return;\n",
              "\n",
              "          const docLinkHtml = 'Like what you see? Visit the ' +\n",
              "            '<a target=\"_blank\" href=https://colab.research.google.com/notebooks/data_table.ipynb>data table notebook</a>'\n",
              "            + ' to learn more about interactive tables.';\n",
              "          element.innerHTML = '';\n",
              "          dataTable['output_type'] = 'display_data';\n",
              "          await google.colab.output.renderOutput(dataTable, element);\n",
              "          const docLink = document.createElement('div');\n",
              "          docLink.innerHTML = docLinkHtml;\n",
              "          element.appendChild(docLink);\n",
              "        }\n",
              "      </script>\n",
              "    </div>\n",
              "  </div>\n"
            ]
          },
          "metadata": {},
          "execution_count": 3
        }
      ],
      "source": [
        "#посмотрим на структуру данных визуально\n",
        "data.head()"
      ]
    },
    {
      "cell_type": "code",
      "execution_count": 4,
      "metadata": {
        "colab": {
          "base_uri": "https://localhost:8080/"
        },
        "id": "hOOAAAZUA6lD",
        "outputId": "a636f4ad-15bb-4888-f5a9-a20fb4c50cb7"
      },
      "outputs": [
        {
          "output_type": "stream",
          "name": "stdout",
          "text": [
            "<class 'pandas.core.frame.DataFrame'>\n",
            "RangeIndex: 159292 entries, 0 to 159291\n",
            "Data columns (total 3 columns):\n",
            " #   Column      Non-Null Count   Dtype \n",
            "---  ------      --------------   ----- \n",
            " 0   Unnamed: 0  159292 non-null  int64 \n",
            " 1   text        159292 non-null  object\n",
            " 2   toxic       159292 non-null  int64 \n",
            "dtypes: int64(2), object(1)\n",
            "memory usage: 3.6+ MB\n"
          ]
        }
      ],
      "source": [
        "#и оценим масштаб\n",
        "data.info()"
      ]
    },
    {
      "cell_type": "markdown",
      "metadata": {
        "id": "4uE-GC8jA6lD"
      },
      "source": [
        "В нашем распоряжении практически 160 тысяч комментариев, все размеченные, пропусков в данных нет (о, счастье!). Комментарии на английском языке.\n",
        "\n",
        "Зато есть непонятная колонка Unnamed:0, которая в первом приближении кажется совпадающей с индексом - и бесполезной."
      ]
    },
    {
      "cell_type": "code",
      "execution_count": 5,
      "metadata": {
        "colab": {
          "base_uri": "https://localhost:8080/"
        },
        "id": "I1gJV_QuA6lD",
        "outputId": "f80635a5-f2a5-4093-840b-6964f953018b"
      },
      "outputs": [
        {
          "output_type": "execute_result",
          "data": {
            "text/plain": [
              "array([     0,      1,      2, ..., 159448, 159449, 159450])"
            ]
          },
          "metadata": {},
          "execution_count": 5
        }
      ],
      "source": [
        "data['Unnamed: 0'].unique()"
      ]
    },
    {
      "cell_type": "markdown",
      "metadata": {
        "id": "9v6L_kftA6lD"
      },
      "source": [
        "Порядковый номер комментария? В любом случае - бесполезно, удаляем"
      ]
    },
    {
      "cell_type": "code",
      "execution_count": 6,
      "metadata": {
        "id": "2a891nEzA6lE"
      },
      "outputs": [],
      "source": [
        "data = data.drop(['Unnamed: 0'], axis=1)"
      ]
    },
    {
      "cell_type": "markdown",
      "metadata": {
        "id": "CiAcfhtRA6lE"
      },
      "source": [
        "Теперь посмотрим на баланс классов: сколько в выборке положительных и отрицательных комментариев:"
      ]
    },
    {
      "cell_type": "code",
      "execution_count": 7,
      "metadata": {
        "colab": {
          "base_uri": "https://localhost:8080/",
          "height": 430
        },
        "id": "QEECfekcA6lE",
        "outputId": "23bb1cb0-1aee-48d5-bce9-1c78561ece6b"
      },
      "outputs": [
        {
          "output_type": "display_data",
          "data": {
            "text/plain": [
              "<Figure size 640x480 with 1 Axes>"
            ],
            "image/png": "[encoded data removed]"
          },
          "metadata": {}
        }
      ],
      "source": [
        "data['toxic'].hist();"
      ]
    },
    {
      "cell_type": "markdown",
      "metadata": {
        "id": "3ACIhuIDA6lH"
      },
      "source": [
        "Негативных примерно в семь раз меньше позитивных. Учтём это при обучении моделей."
      ]
    },
    {
      "cell_type": "markdown",
      "metadata": {
        "id": "aZTuxqVzA6lH"
      },
      "source": [
        "### Очистка и лемматизация текстов"
      ]
    },
    {
      "cell_type": "markdown",
      "metadata": {
        "id": "Yl3puTMZA6lH"
      },
      "source": [
        "В текстах комментариев видны символы переноса строк, апострофы и тд - очистим от спецсимволов, оставим только латинские буквы, и приведём всё к нижнему регистру."
      ]
    },
    {
      "cell_type": "code",
      "execution_count": 8,
      "metadata": {
        "id": "hUpWF7FXA6lI"
      },
      "outputs": [],
      "source": [
        "# отключаем ненужные сущности для экономии времени\n",
        "disabled_pipes = [ \"parser\",  \"ner\"]\n",
        "nlp = spacy.load('en_core_web_sm', disable=disabled_pipes)\n",
        "def clean(text):\n",
        "    text = re.sub(r\"(?:\\n|\\r)\", \" \", text)\n",
        "    return re.sub(r\"[^a-zA-Z ]+\", \"\", text).strip().lower()\n",
        "\n",
        "def lemmatizer(text):\n",
        "    tx = nlp(clean(text))\n",
        "    empty_list = []\n",
        "    for token in tx:\n",
        "        empty_list.append(token.lemma_)\n",
        "    return ' '.join(map(str,empty_list))"
      ]
    },
    {
      "cell_type": "code",
      "execution_count": 9,
      "metadata": {
        "id": "4z0qd9wEA6lI"
      },
      "outputs": [],
      "source": [
        "#проверим работоспособность лемматизатора на одном предложении\n",
        "sentence = \"The striped\\nbats are hanging on their feet for best!\""
      ]
    },
    {
      "cell_type": "code",
      "execution_count": 10,
      "metadata": {
        "colab": {
          "base_uri": "https://localhost:8080/",
          "height": 36
        },
        "id": "chkIMBCuA6lI",
        "outputId": "a9fddc46-08a9-4262-f7ba-d163ef1b0ebb"
      },
      "outputs": [
        {
          "output_type": "execute_result",
          "data": {
            "text/plain": [
              "'the stripe bat be hang on their foot for good'"
            ],
            "application/vnd.google.colaboratory.intrinsic+json": {
              "type": "string"
            }
          },
          "metadata": {},
          "execution_count": 10
        }
      ],
      "source": [
        "lemmatizer(sentence)"
      ]
    },
    {
      "cell_type": "markdown",
      "metadata": {
        "id": "hDjVD0ZFA6lJ"
      },
      "source": [
        "Получили ожидаемый результат - можно преобразовывать весь датасет"
      ]
    },
    {
      "cell_type": "code",
      "execution_count": 11,
      "metadata": {
        "colab": {
          "base_uri": "https://localhost:8080/",
          "height": 49,
          "referenced_widgets": [
            "a888d6047742440e881815343c79e8ba",
            "a86d563dbfa94cefbda4f7c6a7a78fe7",
            "f8b36db1d41543c1ad39ce030a978ffe",
            "b20d7cb9ee99428fa2fbb9b4349fdab6",
            "769d25b51e9c4211b478a2c94b400e9b",
            "48aefb42c7cc402eb19cdcd6fd8e7ad0",
            "3ad0c894c93d4b22a48c28d23f2e2666",
            "9f4c400cca814b96869cb4f78c9f56af",
            "b0660fb0dae547f0a3d13a8b8acd64cc",
            "173f97f7fa514c098e2ea663476e829c",
            "2a4e1daa10bb4e52ac1a8f963546d1f6"
          ]
        },
        "id": "C_2GXJjvA6lV",
        "outputId": "0f0da05a-75f6-47d5-c16a-f61be2074550"
      },
      "outputs": [
        {
          "output_type": "display_data",
          "data": {
            "text/plain": [
              "  0%|          | 0/159292 [00:00<?, ?it/s]"
            ],
            "application/vnd.jupyter.widget-view+json": {
              "version_major": 2,
              "version_minor": 0,
              "model_id": "a888d6047742440e881815343c79e8ba"
            }
          },
          "metadata": {}
        }
      ],
      "source": [
        "#прогресс-бар для контроля статуса процесса\n",
        "tqdm.pandas()\n",
        "data['lemm_text'] = data['text'].progress_apply(lemmatizer)"
      ]
    },
    {
      "cell_type": "code",
      "source": [],
      "metadata": {
        "id": "CFvHRSVkM-bz"
      },
      "execution_count": 11,
      "outputs": []
    },
    {
      "cell_type": "code",
      "execution_count": 12,
      "metadata": {
        "id": "j8wopqf3A6lW"
      },
      "outputs": [],
      "source": [
        "# удаляем столбец с исходным текстом\n",
        "data = data.drop(['text'], axis=1)"
      ]
    },
    {
      "cell_type": "code",
      "execution_count": 13,
      "metadata": {
        "colab": {
          "base_uri": "https://localhost:8080/",
          "height": 206
        },
        "id": "vmE7Q5lDA6lX",
        "outputId": "4168d76b-fd23-47a5-a0a7-da57820187fd"
      },
      "outputs": [
        {
          "output_type": "execute_result",
          "data": {
            "text/plain": [
              "   toxic                                          lemm_text\n",
              "0      0  explanation why the edit make under my usernam...\n",
              "1      0  daww he match this background colour I m seemi...\n",
              "2      0  hey man I m really not try to edit war its jus...\n",
              "3      0  more I can not make any real suggestion on imp...\n",
              "4      0  you sir be my hero any chance you remember wha..."
            ],
            "text/html": [
              "\n",
              "\n",
              "  <div id=\"df-3673612a-70f6-4542-9cd7-ee531cd07b7b\">\n",
              "    <div class=\"colab-df-container\">\n",
              "      <div>\n",
              "<style scoped>\n",
              "    .dataframe tbody tr th:only-of-type {\n",
              "        vertical-align: middle;\n",
              "    }\n",
              "\n",
              "    .dataframe tbody tr th {\n",
              "        vertical-align: top;\n",
              "    }\n",
              "\n",
              "    .dataframe thead th {\n",
              "        text-align: right;\n",
              "    }\n",
              "</style>\n",
              "<table border=\"1\" class=\"dataframe\">\n",
              "  <thead>\n",
              "    <tr style=\"text-align: right;\">\n",
              "      <th></th>\n",
              "      <th>toxic</th>\n",
              "      <th>lemm_text</th>\n",
              "    </tr>\n",
              "  </thead>\n",
              "  <tbody>\n",
              "    <tr>\n",
              "      <th>0</th>\n",
              "      <td>0</td>\n",
              "      <td>explanation why the edit make under my usernam...</td>\n",
              "    </tr>\n",
              "    <tr>\n",
              "      <th>1</th>\n",
              "      <td>0</td>\n",
              "      <td>daww he match this background colour I m seemi...</td>\n",
              "    </tr>\n",
              "    <tr>\n",
              "      <th>2</th>\n",
              "      <td>0</td>\n",
              "      <td>hey man I m really not try to edit war its jus...</td>\n",
              "    </tr>\n",
              "    <tr>\n",
              "      <th>3</th>\n",
              "      <td>0</td>\n",
              "      <td>more I can not make any real suggestion on imp...</td>\n",
              "    </tr>\n",
              "    <tr>\n",
              "      <th>4</th>\n",
              "      <td>0</td>\n",
              "      <td>you sir be my hero any chance you remember wha...</td>\n",
              "    </tr>\n",
              "  </tbody>\n",
              "</table>\n",
              "</div>\n",
              "      <button class=\"colab-df-convert\" onclick=\"convertToInteractive('df-3673612a-70f6-4542-9cd7-ee531cd07b7b')\"\n",
              "              title=\"Convert this dataframe to an interactive table.\"\n",
              "              style=\"display:none;\">\n",
              "\n",
              "  <svg xmlns=\"http://www.w3.org/2000/svg\" height=\"24px\"viewBox=\"0 0 24 24\"\n",
              "       width=\"24px\">\n",
              "    <path d=\"M0 0h24v24H0V0z\" fill=\"none\"/>\n",
              "    <path d=\"M18.56 5.44l.94 2.06.94-2.06 2.06-.94-2.06-.94-.94-2.06-.94 2.06-2.06.94zm-11 1L8.5 8.5l.94-2.06 2.06-.94-2.06-.94L8.5 2.5l-.94 2.06-2.06.94zm10 10l.94 2.06.94-2.06 2.06-.94-2.06-.94-.94-2.06-.94 2.06-2.06.94z\"/><path d=\"M17.41 7.96l-1.37-1.37c-.4-.4-.92-.59-1.43-.59-.52 0-1.04.2-1.43.59L10.3 9.45l-7.72 7.72c-.78.78-.78 2.05 0 2.83L4 21.41c.39.39.9.59 1.41.59.51 0 1.02-.2 1.41-.59l7.78-7.78 2.81-2.81c.8-.78.8-2.07 0-2.86zM5.41 20L4 18.59l7.72-7.72 1.47 1.35L5.41 20z\"/>\n",
              "  </svg>\n",
              "      </button>\n",
              "\n",
              "\n",
              "\n",
              "    <div id=\"df-13c4ef4e-73fb-4e70-9813-e1914b1139e7\">\n",
              "      <button class=\"colab-df-quickchart\" onclick=\"quickchart('df-13c4ef4e-73fb-4e70-9813-e1914b1139e7')\"\n",
              "              title=\"Suggest charts.\"\n",
              "              style=\"display:none;\">\n",
              "\n",
              "<svg xmlns=\"http://www.w3.org/2000/svg\" height=\"24px\"viewBox=\"0 0 24 24\"\n",
              "     width=\"24px\">\n",
              "    <g>\n",
              "        <path d=\"M19 3H5c-1.1 0-2 .9-2 2v14c0 1.1.9 2 2 2h14c1.1 0 2-.9 2-2V5c0-1.1-.9-2-2-2zM9 17H7v-7h2v7zm4 0h-2V7h2v10zm4 0h-2v-4h2v4z\"/>\n",
              "    </g>\n",
              "</svg>\n",
              "      </button>\n",
              "    </div>\n",
              "\n",
              "<style>\n",
              "  .colab-df-quickchart {\n",
              "    background-color: #E8F0FE;\n",
              "    border: none;\n",
              "    border-radius: 50%;\n",
              "    cursor: pointer;\n",
              "    display: none;\n",
              "    fill: #1967D2;\n",
              "    height: 32px;\n",
              "    padding: 0 0 0 0;\n",
              "    width: 32px;\n",
              "  }\n",
              "\n",
              "  .colab-df-quickchart:hover {\n",
              "    background-color: #E2EBFA;\n",
              "    box-shadow: 0px 1px 2px rgba(60, 64, 67, 0.3), 0px 1px 3px 1px rgba(60, 64, 67, 0.15);\n",
              "    fill: #174EA6;\n",
              "  }\n",
              "\n",
              "  [theme=dark] .colab-df-quickchart {\n",
              "    background-color: #3B4455;\n",
              "    fill: #D2E3FC;\n",
              "  }\n",
              "\n",
              "  [theme=dark] .colab-df-quickchart:hover {\n",
              "    background-color: #434B5C;\n",
              "    box-shadow: 0px 1px 3px 1px rgba(0, 0, 0, 0.15);\n",
              "    filter: drop-shadow(0px 1px 2px rgba(0, 0, 0, 0.3));\n",
              "    fill: #FFFFFF;\n",
              "  }\n",
              "</style>\n",
              "\n",
              "    <script>\n",
              "      async function quickchart(key) {\n",
              "        const containerElement = document.querySelector('#' + key);\n",
              "        const charts = await google.colab.kernel.invokeFunction(\n",
              "            'suggestCharts', [key], {});\n",
              "      }\n",
              "    </script>\n",
              "\n",
              "      <script>\n",
              "\n",
              "function displayQuickchartButton(domScope) {\n",
              "  let quickchartButtonEl =\n",
              "    domScope.querySelector('#df-13c4ef4e-73fb-4e70-9813-e1914b1139e7 button.colab-df-quickchart');\n",
              "  quickchartButtonEl.style.display =\n",
              "    google.colab.kernel.accessAllowed ? 'block' : 'none';\n",
              "}\n",
              "\n",
              "        displayQuickchartButton(document);\n",
              "      </script>\n",
              "      <style>\n",
              "    .colab-df-container {\n",
              "      display:flex;\n",
              "      flex-wrap:wrap;\n",
              "      gap: 12px;\n",
              "    }\n",
              "\n",
              "    .colab-df-convert {\n",
              "      background-color: #E8F0FE;\n",
              "      border: none;\n",
              "      border-radius: 50%;\n",
              "      cursor: pointer;\n",
              "      display: none;\n",
              "      fill: #1967D2;\n",
              "      height: 32px;\n",
              "      padding: 0 0 0 0;\n",
              "      width: 32px;\n",
              "    }\n",
              "\n",
              "    .colab-df-convert:hover {\n",
              "      background-color: #E2EBFA;\n",
              "      box-shadow: 0px 1px 2px rgba(60, 64, 67, 0.3), 0px 1px 3px 1px rgba(60, 64, 67, 0.15);\n",
              "      fill: #174EA6;\n",
              "    }\n",
              "\n",
              "    [theme=dark] .colab-df-convert {\n",
              "      background-color: #3B4455;\n",
              "      fill: #D2E3FC;\n",
              "    }\n",
              "\n",
              "    [theme=dark] .colab-df-convert:hover {\n",
              "      background-color: #434B5C;\n",
              "      box-shadow: 0px 1px 3px 1px rgba(0, 0, 0, 0.15);\n",
              "      filter: drop-shadow(0px 1px 2px rgba(0, 0, 0, 0.3));\n",
              "      fill: #FFFFFF;\n",
              "    }\n",
              "  </style>\n",
              "\n",
              "      <script>\n",
              "        const buttonEl =\n",
              "          document.querySelector('#df-3673612a-70f6-4542-9cd7-ee531cd07b7b button.colab-df-convert');\n",
              "        buttonEl.style.display =\n",
              "          google.colab.kernel.accessAllowed ? 'block' : 'none';\n",
              "\n",
              "        async function convertToInteractive(key) {\n",
              "          const element = document.querySelector('#df-3673612a-70f6-4542-9cd7-ee531cd07b7b');\n",
              "          const dataTable =\n",
              "            await google.colab.kernel.invokeFunction('convertToInteractive',\n",
              "                                                     [key], {});\n",
              "          if (!dataTable) return;\n",
              "\n",
              "          const docLinkHtml = 'Like what you see? Visit the ' +\n",
              "            '<a target=\"_blank\" href=https://colab.research.google.com/notebooks/data_table.ipynb>data table notebook</a>'\n",
              "            + ' to learn more about interactive tables.';\n",
              "          element.innerHTML = '';\n",
              "          dataTable['output_type'] = 'display_data';\n",
              "          await google.colab.output.renderOutput(dataTable, element);\n",
              "          const docLink = document.createElement('div');\n",
              "          docLink.innerHTML = docLinkHtml;\n",
              "          element.appendChild(docLink);\n",
              "        }\n",
              "      </script>\n",
              "    </div>\n",
              "  </div>\n"
            ]
          },
          "metadata": {},
          "execution_count": 13
        }
      ],
      "source": [
        "#посмотрим что получилось\n",
        "data.head()"
      ]
    },
    {
      "cell_type": "markdown",
      "metadata": {
        "id": "-EU8yqtsA6lY"
      },
      "source": [
        "### Подготовка данных к обучению моделей"
      ]
    },
    {
      "cell_type": "markdown",
      "metadata": {
        "id": "88vJKYKcA6lY"
      },
      "source": [
        "Помним, что токсичных комментариев существенно меньше. Можно было бы размножить данные с целевым признаком==1, но попробуем быть ленивыми и будем обучать модели с учётом взвешивания классов."
      ]
    },
    {
      "cell_type": "markdown",
      "metadata": {
        "id": "mQP5mUcAA6lY"
      },
      "source": [
        "Для того, чтобы можно было обучать модели, необходимо перевести тексты в числовой формат, то есть провести векторизацию прекдварительно очищенных текстов, а также разбить данные на подвыборки.\n",
        "\n",
        "Делим на обучающую, валидационную и тестовую в пропорциях 8:1:1 соответственно.\n",
        "Модели, которые мы обучаем чувствительны к объему обучающих данных. Чем больше слов они увидят в процессе обучения, и оценят их вклад в \"токсичность\", тем лучше будут модели. А для корректного тестирования и 10% данных вполне достаточно, учитывая немаленький размер датасета."
      ]
    },
    {
      "cell_type": "code",
      "execution_count": 14,
      "metadata": {
        "id": "brpEzhXmA6lY"
      },
      "outputs": [],
      "source": [
        "train_valid, test = train_test_split(data, test_size=.1)\n",
        "train, valid = train_test_split(train_valid, test_size=.1)"
      ]
    },
    {
      "cell_type": "markdown",
      "source": [
        "Далее очищаем тексты от стопслов:"
      ],
      "metadata": {
        "id": "wN93K8MaMK2S"
      }
    },
    {
      "cell_type": "code",
      "execution_count": 15,
      "metadata": {
        "colab": {
          "base_uri": "https://localhost:8080/"
        },
        "id": "BG1NJBMDA6lY",
        "outputId": "c644080c-9689-4ea2-8850-a60c1ec6df2e"
      },
      "outputs": [
        {
          "output_type": "stream",
          "name": "stderr",
          "text": [
            "[nltk_data] Downloading package stopwords to /root/nltk_data...\n",
            "[nltk_data]   Package stopwords is already up-to-date!\n"
          ]
        }
      ],
      "source": [
        "nltk.download('stopwords')\n",
        "stopwords = set(nltk_stopwords.words('english'))"
      ]
    },
    {
      "cell_type": "code",
      "execution_count": 16,
      "metadata": {
        "id": "WXKKGUFiA6lZ"
      },
      "outputs": [],
      "source": [
        "X_train = train['lemm_text'].values\n",
        "X_valid = valid['lemm_text'].values\n",
        "X_test = test['lemm_text'].values"
      ]
    },
    {
      "cell_type": "code",
      "execution_count": 17,
      "metadata": {
        "id": "yN7TClqSA6lZ"
      },
      "outputs": [],
      "source": [
        "#обучаем tf-idf на обучающей выборке\n",
        "count_tf_idf = TfidfVectorizer(stop_words=list(stopwords))\n",
        "tf_idf_model = count_tf_idf.fit_transform(X_train)"
      ]
    },
    {
      "cell_type": "code",
      "execution_count": 18,
      "metadata": {
        "id": "38T1vzZ8A6la"
      },
      "outputs": [],
      "source": [
        "X_train = count_tf_idf.transform(X_train)\n",
        "X_valid = count_tf_idf.transform(X_valid)\n",
        "X_test = count_tf_idf.transform(X_test)"
      ]
    },
    {
      "cell_type": "code",
      "execution_count": 19,
      "metadata": {
        "id": "D4P7WLdLA6la"
      },
      "outputs": [],
      "source": [
        "Y_train = train['toxic']\n",
        "Y_valid = valid['toxic']\n",
        "Y_test = test['toxic']"
      ]
    },
    {
      "cell_type": "markdown",
      "metadata": {
        "id": "muqQNX3oA6la"
      },
      "source": [
        "Вывод: данные подготовлены для обучения моделей. Датасет разбит на обучающую, валидационную и тестовую выборки, тексты очищены и преобразованы в векторную форму методом tf-idf."
      ]
    },
    {
      "cell_type": "markdown",
      "metadata": {
        "id": "Pqc4KLj5A6lb"
      },
      "source": [
        "## Обучение"
      ]
    },
    {
      "cell_type": "markdown",
      "metadata": {
        "id": "tzyLW_JCA6lb"
      },
      "source": [
        "Алгоритм действий такой: на обучающей выборке проведём обучение моделей, там, где это возможно - с подбором гиперпараметров. На валидационной выборке посчитаем значение выбранной метрики - в данном случае жто метрика F1 в соответствии с ТЗ. Для модели, показавшей наилучшее значение метрики, посчитаем метрику на тестовой выборке - это и будет финальным результатом."
      ]
    },
    {
      "cell_type": "markdown",
      "metadata": {
        "id": "3MkgO3GMA6lb"
      },
      "source": [
        "### Логистическая регрессия"
      ]
    },
    {
      "cell_type": "code",
      "execution_count": 20,
      "metadata": {
        "id": "Ias8Zfz5A6lb"
      },
      "outputs": [],
      "source": [
        "#будем сразу оптимизировать гиперпараметры: в данном случае параметр С\n",
        "f1_logr = 0\n",
        "c_lr = 5\n",
        "for param_c in range(1,15,1):\n",
        "    model = LogisticRegression(random_state=42, solver='liblinear', \\\n",
        "        class_weight='balanced', max_iter=300, C=param_c).fit(X_train, Y_train)\n",
        "    f1 = f1_score(Y_valid, pd.DataFrame(model.predict(X_valid)))\n",
        "    if f1>f1_logr:\n",
        "        f1_logr = f1\n",
        "        c_lr = param_c"
      ]
    },
    {
      "cell_type": "code",
      "execution_count": 21,
      "metadata": {
        "colab": {
          "base_uri": "https://localhost:8080/"
        },
        "id": "KChO_PSbA6lc",
        "outputId": "2d935391-08b2-4525-dcc7-348c534317ab"
      },
      "outputs": [
        {
          "output_type": "stream",
          "name": "stdout",
          "text": [
            "Метрика f1 на валидационной выборке для модели логистической регресси = 0.7771428571428571\n"
          ]
        },
        {
          "output_type": "stream",
          "name": "stderr",
          "text": [
            "/usr/local/lib/python3.10/dist-packages/sklearn/linear_model/_logistic.py:458: ConvergenceWarning: lbfgs failed to converge (status=1):\n",
            "STOP: TOTAL NO. of ITERATIONS REACHED LIMIT.\n",
            "\n",
            "Increase the number of iterations (max_iter) or scale the data as shown in:\n",
            "    https://scikit-learn.org/stable/modules/preprocessing.html\n",
            "Please also refer to the documentation for alternative solver options:\n",
            "    https://scikit-learn.org/stable/modules/linear_model.html#logistic-regression\n",
            "  n_iter_i = _check_optimize_result(\n"
          ]
        }
      ],
      "source": [
        "#создадам финальную версию модели лог регрессии и посчитаем метрику на валидационной выборке\n",
        "model_logr = LogisticRegression(random_state=42, \\\n",
        "        C=param_c, class_weight='balanced', max_iter=200).fit(X_train, Y_train)\n",
        "f1_logr = f1_score(Y_valid, pd.DataFrame(model_logr.predict(X_valid)))\n",
        "print(f'Метрика f1 на валидационной выборке для модели логистической регресси = {f1_logr}')"
      ]
    },
    {
      "cell_type": "markdown",
      "metadata": {
        "id": "q8R-3Z5BA6lc"
      },
      "source": [
        "### Классификатор SGDC"
      ]
    },
    {
      "cell_type": "code",
      "execution_count": 22,
      "metadata": {
        "colab": {
          "base_uri": "https://localhost:8080/"
        },
        "id": "zRgobwHKA6ld",
        "outputId": "b1107b01-dd22-4449-d2e1-3eacdb5c1cdd"
      },
      "outputs": [
        {
          "output_type": "stream",
          "name": "stderr",
          "text": [
            "/usr/local/lib/python3.10/dist-packages/sklearn/linear_model/_stochastic_gradient.py:163: FutureWarning: The loss 'log' was deprecated in v1.1 and will be removed in version 1.3. Use `loss='log_loss'` which is equivalent.\n",
            "  warnings.warn(\n",
            "/usr/local/lib/python3.10/dist-packages/sklearn/linear_model/_stochastic_gradient.py:163: FutureWarning: The loss 'log' was deprecated in v1.1 and will be removed in version 1.3. Use `loss='log_loss'` which is equivalent.\n",
            "  warnings.warn(\n",
            "/usr/local/lib/python3.10/dist-packages/sklearn/linear_model/_stochastic_gradient.py:163: FutureWarning: The loss 'log' was deprecated in v1.1 and will be removed in version 1.3. Use `loss='log_loss'` which is equivalent.\n",
            "  warnings.warn(\n",
            "/usr/local/lib/python3.10/dist-packages/sklearn/linear_model/_stochastic_gradient.py:163: FutureWarning: The loss 'log' was deprecated in v1.1 and will be removed in version 1.3. Use `loss='log_loss'` which is equivalent.\n",
            "  warnings.warn(\n",
            "/usr/local/lib/python3.10/dist-packages/sklearn/linear_model/_stochastic_gradient.py:163: FutureWarning: The loss 'log' was deprecated in v1.1 and will be removed in version 1.3. Use `loss='log_loss'` which is equivalent.\n",
            "  warnings.warn(\n",
            "/usr/local/lib/python3.10/dist-packages/sklearn/linear_model/_stochastic_gradient.py:163: FutureWarning: The loss 'log' was deprecated in v1.1 and will be removed in version 1.3. Use `loss='log_loss'` which is equivalent.\n",
            "  warnings.warn(\n"
          ]
        }
      ],
      "source": [
        "# снова подбираем гиперпараметры\n",
        "f1_sgdc = 0\n",
        "locc_sgdc = 'hinge'\n",
        "eta_sgdc = 0\n",
        "for loss in ['hinge', 'log', 'modified_huber']:\n",
        "    for eta in [0.01, 0.05, 0.1, 0.2, 0.3, 0.5]:\n",
        "            model = SGDClassifier(loss=loss, eta0=eta,\\\n",
        "                class_weight='balanced').fit(X_train, Y_train)\n",
        "            f1 = f1_score(Y_valid, pd.DataFrame(model.predict(X_valid)))\n",
        "            if f1>f1_sgdc:\n",
        "                f1_sgdc = f1\n",
        "                locc_sgdc = loss\n",
        "                eta_sgdc = eta"
      ]
    },
    {
      "cell_type": "code",
      "execution_count": 23,
      "metadata": {
        "id": "YchdnODtA6ld"
      },
      "outputs": [],
      "source": [
        "model_sgdc = SGDClassifier(loss=locc_sgdc, eta0=eta_sgdc,\\\n",
        "    class_weight='balanced').fit(X_train, Y_train)"
      ]
    },
    {
      "cell_type": "markdown",
      "metadata": {
        "id": "T95RtqdiA6ld"
      },
      "source": [
        "0.760378 for {'class_weight': {0: 1, 1: 8.834884437596301}, 'eta0': 0.05, 'learning_rate': 'adaptive', 'loss': 'modified_huber', 'random_state': 12082020}"
      ]
    },
    {
      "cell_type": "code",
      "execution_count": 24,
      "metadata": {
        "colab": {
          "base_uri": "https://localhost:8080/"
        },
        "id": "bR7CElPYA6ld",
        "outputId": "f550e7ce-f8c8-45b4-d9cf-43a40b5b23ef"
      },
      "outputs": [
        {
          "output_type": "stream",
          "name": "stdout",
          "text": [
            "Метрика f1 на валидационной выборке для модели SGDC = 0.7565808932268561\n"
          ]
        }
      ],
      "source": [
        "f1_sgdc = f1_score(Y_valid, pd.DataFrame(model_sgdc.predict(X_valid)))\n",
        "print(f'Метрика f1 на валидационной выборке для модели SGDC = {f1_sgdc}')"
      ]
    },
    {
      "cell_type": "markdown",
      "metadata": {
        "id": "P_ehJFGSA6le"
      },
      "source": [
        "Вывод: обучены модели логистической регрессии и классификатора SGDC. Модель логистической регрессии показывает значение метрики выше требуемого, SGDC чуть уступает. Финальное значение метрики на тестовой выборке посчитаем чуть позже, после сравнения со случайной моделью."
      ]
    },
    {
      "cell_type": "markdown",
      "metadata": {
        "id": "zADj44ndA6le"
      },
      "source": [
        "## Проверка"
      ]
    },
    {
      "cell_type": "markdown",
      "metadata": {
        "id": "NzOw3J14A6lf"
      },
      "source": [
        "В качестве проверки сравним полученные метрики со случайной моделью, рандомно заполняющей целевой признак нулём или единицей:"
      ]
    },
    {
      "cell_type": "code",
      "execution_count": 25,
      "metadata": {
        "id": "gjIKuIUEA6lf"
      },
      "outputs": [],
      "source": [
        "pred_rand = np.random.randint(0, 2, Y_valid.shape[0])"
      ]
    },
    {
      "cell_type": "code",
      "execution_count": 26,
      "metadata": {
        "colab": {
          "base_uri": "https://localhost:8080/"
        },
        "id": "riyMM-5DA6lf",
        "outputId": "ea736322-eda6-40dd-b944-0f66a81ca5b6"
      },
      "outputs": [
        {
          "output_type": "stream",
          "name": "stdout",
          "text": [
            "Метрика f1 на валидационной выборке для случайной модели = 0.17361507709880067\n"
          ]
        }
      ],
      "source": [
        "f1_rand = f1_score(Y_valid, pd.DataFrame(pred_rand))\n",
        "print(f'Метрика f1 на валидационной выборке для случайной модели = {f1_rand}')"
      ]
    },
    {
      "cell_type": "markdown",
      "metadata": {
        "id": "VTZPejbHA6lf"
      },
      "source": [
        "Это значит, что обе наши модели способны классифицировать настроение твита существенно лучше случайной модели. Сведём результаты в финальную таблицу:"
      ]
    },
    {
      "cell_type": "code",
      "execution_count": 27,
      "metadata": {
        "id": "EJNCglhUA6lg"
      },
      "outputs": [],
      "source": [
        "models_f1 = pd.DataFrame({\n",
        "    'Model': ['LogisticRegression', 'SGDC', 'Random'],\n",
        "    'RMSE': [f1_logr, f1_sgdc, f1_rand],\n",
        "})"
      ]
    },
    {
      "cell_type": "code",
      "execution_count": 28,
      "metadata": {
        "colab": {
          "base_uri": "https://localhost:8080/",
          "height": 143
        },
        "id": "JTkODovLA6lg",
        "outputId": "e7818ded-3777-4f8e-e15c-7f7cd5c4c078"
      },
      "outputs": [
        {
          "output_type": "execute_result",
          "data": {
            "text/plain": [
              "                Model      RMSE\n",
              "0  LogisticRegression  0.777143\n",
              "1                SGDC  0.756581\n",
              "2              Random  0.173615"
            ],
            "text/html": [
              "\n",
              "\n",
              "  <div id=\"df-74e89d9b-a3d3-46c4-813e-27caa735c47b\">\n",
              "    <div class=\"colab-df-container\">\n",
              "      <div>\n",
              "<style scoped>\n",
              "    .dataframe tbody tr th:only-of-type {\n",
              "        vertical-align: middle;\n",
              "    }\n",
              "\n",
              "    .dataframe tbody tr th {\n",
              "        vertical-align: top;\n",
              "    }\n",
              "\n",
              "    .dataframe thead th {\n",
              "        text-align: right;\n",
              "    }\n",
              "</style>\n",
              "<table border=\"1\" class=\"dataframe\">\n",
              "  <thead>\n",
              "    <tr style=\"text-align: right;\">\n",
              "      <th></th>\n",
              "      <th>Model</th>\n",
              "      <th>RMSE</th>\n",
              "    </tr>\n",
              "  </thead>\n",
              "  <tbody>\n",
              "    <tr>\n",
              "      <th>0</th>\n",
              "      <td>LogisticRegression</td>\n",
              "      <td>0.777143</td>\n",
              "    </tr>\n",
              "    <tr>\n",
              "      <th>1</th>\n",
              "      <td>SGDC</td>\n",
              "      <td>0.756581</td>\n",
              "    </tr>\n",
              "    <tr>\n",
              "      <th>2</th>\n",
              "      <td>Random</td>\n",
              "      <td>0.173615</td>\n",
              "    </tr>\n",
              "  </tbody>\n",
              "</table>\n",
              "</div>\n",
              "      <button class=\"colab-df-convert\" onclick=\"convertToInteractive('df-74e89d9b-a3d3-46c4-813e-27caa735c47b')\"\n",
              "              title=\"Convert this dataframe to an interactive table.\"\n",
              "              style=\"display:none;\">\n",
              "\n",
              "  <svg xmlns=\"http://www.w3.org/2000/svg\" height=\"24px\"viewBox=\"0 0 24 24\"\n",
              "       width=\"24px\">\n",
              "    <path d=\"M0 0h24v24H0V0z\" fill=\"none\"/>\n",
              "    <path d=\"M18.56 5.44l.94 2.06.94-2.06 2.06-.94-2.06-.94-.94-2.06-.94 2.06-2.06.94zm-11 1L8.5 8.5l.94-2.06 2.06-.94-2.06-.94L8.5 2.5l-.94 2.06-2.06.94zm10 10l.94 2.06.94-2.06 2.06-.94-2.06-.94-.94-2.06-.94 2.06-2.06.94z\"/><path d=\"M17.41 7.96l-1.37-1.37c-.4-.4-.92-.59-1.43-.59-.52 0-1.04.2-1.43.59L10.3 9.45l-7.72 7.72c-.78.78-.78 2.05 0 2.83L4 21.41c.39.39.9.59 1.41.59.51 0 1.02-.2 1.41-.59l7.78-7.78 2.81-2.81c.8-.78.8-2.07 0-2.86zM5.41 20L4 18.59l7.72-7.72 1.47 1.35L5.41 20z\"/>\n",
              "  </svg>\n",
              "      </button>\n",
              "\n",
              "\n",
              "\n",
              "    <div id=\"df-06875a39-373b-416e-9d11-f7930c442d34\">\n",
              "      <button class=\"colab-df-quickchart\" onclick=\"quickchart('df-06875a39-373b-416e-9d11-f7930c442d34')\"\n",
              "              title=\"Suggest charts.\"\n",
              "              style=\"display:none;\">\n",
              "\n",
              "<svg xmlns=\"http://www.w3.org/2000/svg\" height=\"24px\"viewBox=\"0 0 24 24\"\n",
              "     width=\"24px\">\n",
              "    <g>\n",
              "        <path d=\"M19 3H5c-1.1 0-2 .9-2 2v14c0 1.1.9 2 2 2h14c1.1 0 2-.9 2-2V5c0-1.1-.9-2-2-2zM9 17H7v-7h2v7zm4 0h-2V7h2v10zm4 0h-2v-4h2v4z\"/>\n",
              "    </g>\n",
              "</svg>\n",
              "      </button>\n",
              "    </div>\n",
              "\n",
              "<style>\n",
              "  .colab-df-quickchart {\n",
              "    background-color: #E8F0FE;\n",
              "    border: none;\n",
              "    border-radius: 50%;\n",
              "    cursor: pointer;\n",
              "    display: none;\n",
              "    fill: #1967D2;\n",
              "    height: 32px;\n",
              "    padding: 0 0 0 0;\n",
              "    width: 32px;\n",
              "  }\n",
              "\n",
              "  .colab-df-quickchart:hover {\n",
              "    background-color: #E2EBFA;\n",
              "    box-shadow: 0px 1px 2px rgba(60, 64, 67, 0.3), 0px 1px 3px 1px rgba(60, 64, 67, 0.15);\n",
              "    fill: #174EA6;\n",
              "  }\n",
              "\n",
              "  [theme=dark] .colab-df-quickchart {\n",
              "    background-color: #3B4455;\n",
              "    fill: #D2E3FC;\n",
              "  }\n",
              "\n",
              "  [theme=dark] .colab-df-quickchart:hover {\n",
              "    background-color: #434B5C;\n",
              "    box-shadow: 0px 1px 3px 1px rgba(0, 0, 0, 0.15);\n",
              "    filter: drop-shadow(0px 1px 2px rgba(0, 0, 0, 0.3));\n",
              "    fill: #FFFFFF;\n",
              "  }\n",
              "</style>\n",
              "\n",
              "    <script>\n",
              "      async function quickchart(key) {\n",
              "        const containerElement = document.querySelector('#' + key);\n",
              "        const charts = await google.colab.kernel.invokeFunction(\n",
              "            'suggestCharts', [key], {});\n",
              "      }\n",
              "    </script>\n",
              "\n",
              "      <script>\n",
              "\n",
              "function displayQuickchartButton(domScope) {\n",
              "  let quickchartButtonEl =\n",
              "    domScope.querySelector('#df-06875a39-373b-416e-9d11-f7930c442d34 button.colab-df-quickchart');\n",
              "  quickchartButtonEl.style.display =\n",
              "    google.colab.kernel.accessAllowed ? 'block' : 'none';\n",
              "}\n",
              "\n",
              "        displayQuickchartButton(document);\n",
              "      </script>\n",
              "      <style>\n",
              "    .colab-df-container {\n",
              "      display:flex;\n",
              "      flex-wrap:wrap;\n",
              "      gap: 12px;\n",
              "    }\n",
              "\n",
              "    .colab-df-convert {\n",
              "      background-color: #E8F0FE;\n",
              "      border: none;\n",
              "      border-radius: 50%;\n",
              "      cursor: pointer;\n",
              "      display: none;\n",
              "      fill: #1967D2;\n",
              "      height: 32px;\n",
              "      padding: 0 0 0 0;\n",
              "      width: 32px;\n",
              "    }\n",
              "\n",
              "    .colab-df-convert:hover {\n",
              "      background-color: #E2EBFA;\n",
              "      box-shadow: 0px 1px 2px rgba(60, 64, 67, 0.3), 0px 1px 3px 1px rgba(60, 64, 67, 0.15);\n",
              "      fill: #174EA6;\n",
              "    }\n",
              "\n",
              "    [theme=dark] .colab-df-convert {\n",
              "      background-color: #3B4455;\n",
              "      fill: #D2E3FC;\n",
              "    }\n",
              "\n",
              "    [theme=dark] .colab-df-convert:hover {\n",
              "      background-color: #434B5C;\n",
              "      box-shadow: 0px 1px 3px 1px rgba(0, 0, 0, 0.15);\n",
              "      filter: drop-shadow(0px 1px 2px rgba(0, 0, 0, 0.3));\n",
              "      fill: #FFFFFF;\n",
              "    }\n",
              "  </style>\n",
              "\n",
              "      <script>\n",
              "        const buttonEl =\n",
              "          document.querySelector('#df-74e89d9b-a3d3-46c4-813e-27caa735c47b button.colab-df-convert');\n",
              "        buttonEl.style.display =\n",
              "          google.colab.kernel.accessAllowed ? 'block' : 'none';\n",
              "\n",
              "        async function convertToInteractive(key) {\n",
              "          const element = document.querySelector('#df-74e89d9b-a3d3-46c4-813e-27caa735c47b');\n",
              "          const dataTable =\n",
              "            await google.colab.kernel.invokeFunction('convertToInteractive',\n",
              "                                                     [key], {});\n",
              "          if (!dataTable) return;\n",
              "\n",
              "          const docLinkHtml = 'Like what you see? Visit the ' +\n",
              "            '<a target=\"_blank\" href=https://colab.research.google.com/notebooks/data_table.ipynb>data table notebook</a>'\n",
              "            + ' to learn more about interactive tables.';\n",
              "          element.innerHTML = '';\n",
              "          dataTable['output_type'] = 'display_data';\n",
              "          await google.colab.output.renderOutput(dataTable, element);\n",
              "          const docLink = document.createElement('div');\n",
              "          docLink.innerHTML = docLinkHtml;\n",
              "          element.appendChild(docLink);\n",
              "        }\n",
              "      </script>\n",
              "    </div>\n",
              "  </div>\n"
            ]
          },
          "metadata": {},
          "execution_count": 28
        }
      ],
      "source": [
        "models_f1"
      ]
    },
    {
      "cell_type": "markdown",
      "metadata": {
        "id": "Iri8jV__A6lh"
      },
      "source": [
        "Видно, что модель логистической регрессии чуть лучше - её и выбираем. Считаем финальное значение метрики на тестовой выборке:"
      ]
    },
    {
      "cell_type": "code",
      "execution_count": 29,
      "metadata": {
        "colab": {
          "base_uri": "https://localhost:8080/"
        },
        "id": "2EVs6OQQA6lh",
        "outputId": "51a756eb-00be-4b77-9ccb-36abf284efec"
      },
      "outputs": [
        {
          "output_type": "stream",
          "name": "stdout",
          "text": [
            "Метрика f1 на тестовой выборке для модели логистической регресси = 0.76\n"
          ]
        }
      ],
      "source": [
        "f1_logr_final = f1_score(Y_test, pd.DataFrame(model_logr.predict(X_test)))\n",
        "print(f'Метрика f1 на тестовой выборке для модели логистической регресси = {f1_logr_final:.3}')"
      ]
    },
    {
      "cell_type": "markdown",
      "metadata": {
        "id": "FmtvQZy2A6lh"
      },
      "source": [
        "<img src=\"https://emojigraph.org/media/apple/check-mark-button_2705.png\" align=left width=33, heigth=33>\n",
        "<div class=\"alert alert-success\">\n",
        "Молодец:\n",
        "    \n",
        "  - выбрана лучшая модель\n",
        "  - тестирование произведено корректно\n",
        "  - достигнута метрика f1 выше 0,75 на тестовой выборке\n",
        "</div>\n"
      ]
    },
    {
      "cell_type": "markdown",
      "metadata": {
        "id": "3u6krXWUA6lh"
      },
      "source": [
        "## Выводы"
      ]
    },
    {
      "cell_type": "markdown",
      "metadata": {
        "id": "QSY3YaUTA6li"
      },
      "source": [
        "Работа посвящена обучению модели, способной спрогнозировать тональность твита - положительную или негативную.\n",
        "Прежде всего проведено чтение и осмотр датасета: в нашем распоряжении примерно 160тысяч твитов на английском языке, пропусков нет. Текст был очищен и лемматизирован, затем приведён к векторному виду с помощью tf-idf метода.\n",
        "\n",
        "На получившихся признаках обучены две модели - логистическая регрессия и классификатор SGDC. Обе показали качество выше требуемого на валидационной выборке. Выполнено сравнение со случайной моделью - обе модели демонстрируют существенно более высокое значение метрики. Ввиду простоты и более высокой скорости выбрана модель логистической регрессии, финальное значение метрики на тестовой выборке = 0.76, что удовлетворяет условиям ТЗ."
      ]
    }
  ],
  "metadata": {
    "ExecuteTimeLog": [
      {
        "duration": 514,
        "start_time": "2023-06-09T13:01:23.133Z"
      },
      {
        "duration": 133,
        "start_time": "2023-06-09T13:01:47.428Z"
      },
      {
        "duration": 4077,
        "start_time": "2023-06-09T13:02:16.189Z"
      },
      {
        "duration": 21,
        "start_time": "2023-06-09T13:03:34.478Z"
      },
      {
        "duration": 33,
        "start_time": "2023-06-09T13:03:48.889Z"
      },
      {
        "duration": 6,
        "start_time": "2023-06-09T13:06:15.724Z"
      },
      {
        "duration": 10,
        "start_time": "2023-06-09T13:06:25.540Z"
      },
      {
        "duration": 12,
        "start_time": "2023-06-09T13:07:58.191Z"
      },
      {
        "duration": 18,
        "start_time": "2023-06-09T13:08:01.944Z"
      },
      {
        "duration": 13,
        "start_time": "2023-06-09T13:08:41.897Z"
      },
      {
        "duration": 902,
        "start_time": "2023-06-09T13:10:21.764Z"
      },
      {
        "duration": 3,
        "start_time": "2023-06-09T13:48:09.939Z"
      },
      {
        "duration": 60,
        "start_time": "2023-06-09T13:49:59.319Z"
      },
      {
        "duration": 211,
        "start_time": "2023-06-09T14:54:08.742Z"
      },
      {
        "duration": 229,
        "start_time": "2023-06-09T14:55:50.625Z"
      },
      {
        "duration": 6,
        "start_time": "2023-06-09T14:55:59.506Z"
      },
      {
        "duration": 5,
        "start_time": "2023-06-09T14:56:44.141Z"
      },
      {
        "duration": 73,
        "start_time": "2023-06-09T14:56:48.611Z"
      },
      {
        "duration": 755,
        "start_time": "2023-06-09T14:57:07.582Z"
      },
      {
        "duration": 1411,
        "start_time": "2023-06-09T14:57:36.511Z"
      },
      {
        "duration": 6151,
        "start_time": "2023-06-09T14:57:40.010Z"
      },
      {
        "duration": 51,
        "start_time": "2023-06-09T14:58:46.309Z"
      },
      {
        "duration": 1321,
        "start_time": "2023-06-09T14:58:53.508Z"
      },
      {
        "duration": 3682,
        "start_time": "2023-06-09T14:58:54.831Z"
      },
      {
        "duration": 13,
        "start_time": "2023-06-09T14:58:58.515Z"
      },
      {
        "duration": 37,
        "start_time": "2023-06-09T14:58:58.530Z"
      },
      {
        "duration": 11,
        "start_time": "2023-06-09T14:58:58.570Z"
      },
      {
        "duration": 11,
        "start_time": "2023-06-09T14:58:58.583Z"
      },
      {
        "duration": 361,
        "start_time": "2023-06-09T14:58:58.595Z"
      },
      {
        "duration": 47,
        "start_time": "2023-06-09T14:58:58.958Z"
      },
      {
        "duration": 225,
        "start_time": "2023-06-09T14:58:59.007Z"
      },
      {
        "duration": 2118,
        "start_time": "2023-06-09T14:59:03.210Z"
      },
      {
        "duration": 6113,
        "start_time": "2023-06-09T14:59:08.361Z"
      },
      {
        "duration": 9953,
        "start_time": "2023-06-09T15:01:00.562Z"
      },
      {
        "duration": 4,
        "start_time": "2023-06-09T15:04:12.120Z"
      },
      {
        "duration": 4,
        "start_time": "2023-06-09T15:05:18.889Z"
      },
      {
        "duration": 5620,
        "start_time": "2023-06-09T15:05:44.793Z"
      },
      {
        "duration": 3,
        "start_time": "2023-06-09T15:05:51.866Z"
      },
      {
        "duration": 109,
        "start_time": "2023-06-09T15:06:25.273Z"
      },
      {
        "duration": 1244,
        "start_time": "2023-06-09T15:06:45.908Z"
      },
      {
        "duration": 865,
        "start_time": "2023-06-09T15:06:47.155Z"
      },
      {
        "duration": 15,
        "start_time": "2023-06-09T15:06:48.022Z"
      },
      {
        "duration": 47,
        "start_time": "2023-06-09T15:06:48.038Z"
      },
      {
        "duration": 13,
        "start_time": "2023-06-09T15:06:48.087Z"
      },
      {
        "duration": 13,
        "start_time": "2023-06-09T15:06:48.101Z"
      },
      {
        "duration": 369,
        "start_time": "2023-06-09T15:06:48.116Z"
      },
      {
        "duration": 73,
        "start_time": "2023-06-09T15:06:48.488Z"
      },
      {
        "duration": 289,
        "start_time": "2023-06-09T15:06:48.563Z"
      },
      {
        "duration": 2028,
        "start_time": "2023-06-09T15:06:48.854Z"
      },
      {
        "duration": 5871,
        "start_time": "2023-06-09T15:06:50.884Z"
      },
      {
        "duration": 9263,
        "start_time": "2023-06-09T15:06:56.757Z"
      },
      {
        "duration": 5,
        "start_time": "2023-06-09T15:07:06.021Z"
      },
      {
        "duration": 4,
        "start_time": "2023-06-09T15:08:39.102Z"
      },
      {
        "duration": 4,
        "start_time": "2023-06-09T15:15:41.587Z"
      },
      {
        "duration": 32008,
        "start_time": "2023-06-09T15:25:17.276Z"
      },
      {
        "duration": 15,
        "start_time": "2023-06-09T15:26:04.293Z"
      },
      {
        "duration": 4,
        "start_time": "2023-06-09T15:26:09.336Z"
      },
      {
        "duration": 15,
        "start_time": "2023-06-09T15:27:06.912Z"
      },
      {
        "duration": 32376,
        "start_time": "2023-06-09T15:27:15.686Z"
      },
      {
        "duration": 6,
        "start_time": "2023-06-09T15:28:11.165Z"
      },
      {
        "duration": 225231,
        "start_time": "2023-06-09T15:28:29.540Z"
      },
      {
        "duration": 0,
        "start_time": "2023-06-09T15:32:14.779Z"
      },
      {
        "duration": 4,
        "start_time": "2023-06-09T15:32:18.075Z"
      },
      {
        "duration": 25916,
        "start_time": "2023-06-09T15:33:10.738Z"
      },
      {
        "duration": 31,
        "start_time": "2023-06-09T15:33:47.016Z"
      },
      {
        "duration": 15,
        "start_time": "2023-06-09T15:34:40.820Z"
      },
      {
        "duration": 14,
        "start_time": "2023-06-09T15:35:03.737Z"
      },
      {
        "duration": 8,
        "start_time": "2023-06-09T15:35:13.082Z"
      },
      {
        "duration": 4,
        "start_time": "2023-06-09T20:38:41.507Z"
      },
      {
        "duration": 876,
        "start_time": "2023-06-09T20:38:41.513Z"
      },
      {
        "duration": 9,
        "start_time": "2023-06-09T20:38:42.391Z"
      },
      {
        "duration": 48,
        "start_time": "2023-06-09T20:38:42.402Z"
      },
      {
        "duration": 11,
        "start_time": "2023-06-09T20:38:42.457Z"
      },
      {
        "duration": 23,
        "start_time": "2023-06-09T20:38:42.470Z"
      },
      {
        "duration": 206,
        "start_time": "2023-06-09T20:38:42.495Z"
      },
      {
        "duration": 83,
        "start_time": "2023-06-09T20:38:42.704Z"
      },
      {
        "duration": 237,
        "start_time": "2023-06-09T20:38:42.789Z"
      },
      {
        "duration": 2034,
        "start_time": "2023-06-09T20:38:43.029Z"
      },
      {
        "duration": 6921,
        "start_time": "2023-06-09T20:38:45.065Z"
      },
      {
        "duration": 10900,
        "start_time": "2023-06-09T20:38:51.988Z"
      },
      {
        "duration": 3,
        "start_time": "2023-06-09T20:39:02.890Z"
      },
      {
        "duration": 39916,
        "start_time": "2023-06-09T20:39:02.895Z"
      },
      {
        "duration": 29,
        "start_time": "2023-06-09T20:39:46.435Z"
      },
      {
        "duration": 12,
        "start_time": "2023-06-09T20:39:48.119Z"
      },
      {
        "duration": 5,
        "start_time": "2023-06-09T20:55:13.210Z"
      },
      {
        "duration": 8,
        "start_time": "2023-06-09T20:55:19.173Z"
      },
      {
        "duration": 5,
        "start_time": "2023-06-09T20:55:27.201Z"
      },
      {
        "duration": 9,
        "start_time": "2023-06-09T20:57:52.569Z"
      },
      {
        "duration": 163,
        "start_time": "2023-06-09T21:05:23.638Z"
      },
      {
        "duration": 4,
        "start_time": "2023-06-09T21:05:27.513Z"
      },
      {
        "duration": 39,
        "start_time": "2023-06-09T21:05:33.704Z"
      },
      {
        "duration": 16,
        "start_time": "2023-06-09T21:06:22.378Z"
      },
      {
        "duration": 4,
        "start_time": "2023-06-09T21:06:31.424Z"
      },
      {
        "duration": 25,
        "start_time": "2023-06-09T21:06:40.361Z"
      },
      {
        "duration": 3,
        "start_time": "2023-06-09T21:08:11.696Z"
      },
      {
        "duration": 41,
        "start_time": "2023-06-09T21:08:13.548Z"
      },
      {
        "duration": 15,
        "start_time": "2023-06-09T21:08:14.821Z"
      },
      {
        "duration": 3,
        "start_time": "2023-06-09T21:09:32.541Z"
      },
      {
        "duration": 34,
        "start_time": "2023-06-09T21:09:33.724Z"
      },
      {
        "duration": 14,
        "start_time": "2023-06-09T21:09:34.604Z"
      },
      {
        "duration": 4,
        "start_time": "2023-06-09T21:09:50.584Z"
      },
      {
        "duration": 4,
        "start_time": "2023-06-09T21:10:07.814Z"
      },
      {
        "duration": 5,
        "start_time": "2023-06-09T21:11:20.244Z"
      },
      {
        "duration": 10,
        "start_time": "2023-06-09T21:12:20.976Z"
      },
      {
        "duration": 3,
        "start_time": "2023-06-09T21:12:33.028Z"
      },
      {
        "duration": 39,
        "start_time": "2023-06-09T21:12:38.671Z"
      },
      {
        "duration": 5,
        "start_time": "2023-06-09T21:12:40.023Z"
      },
      {
        "duration": 4,
        "start_time": "2023-06-09T21:12:41.533Z"
      },
      {
        "duration": 19,
        "start_time": "2023-06-09T21:12:46.897Z"
      },
      {
        "duration": 5,
        "start_time": "2023-06-09T21:12:54.518Z"
      },
      {
        "duration": 18,
        "start_time": "2023-06-09T21:13:14.535Z"
      },
      {
        "duration": 30,
        "start_time": "2023-06-09T21:13:48.509Z"
      },
      {
        "duration": 23,
        "start_time": "2023-06-09T21:14:08.210Z"
      },
      {
        "duration": 810,
        "start_time": "2023-06-09T21:14:10.795Z"
      },
      {
        "duration": 3,
        "start_time": "2023-06-09T21:14:51.421Z"
      },
      {
        "duration": 62,
        "start_time": "2023-06-09T21:14:52.646Z"
      },
      {
        "duration": 4,
        "start_time": "2023-06-09T21:14:53.884Z"
      },
      {
        "duration": 12,
        "start_time": "2023-06-09T21:14:55.150Z"
      },
      {
        "duration": 4,
        "start_time": "2023-06-09T21:15:06.280Z"
      },
      {
        "duration": 5,
        "start_time": "2023-06-09T21:15:07.889Z"
      },
      {
        "duration": 49,
        "start_time": "2023-06-09T21:16:27.688Z"
      },
      {
        "duration": 5,
        "start_time": "2023-06-09T21:16:33.536Z"
      },
      {
        "duration": 24,
        "start_time": "2023-06-09T21:16:54.486Z"
      },
      {
        "duration": 3,
        "start_time": "2023-06-09T21:17:00.200Z"
      },
      {
        "duration": 36,
        "start_time": "2023-06-09T21:17:02.378Z"
      },
      {
        "duration": 6,
        "start_time": "2023-06-09T21:17:03.346Z"
      },
      {
        "duration": 4,
        "start_time": "2023-06-09T21:17:04.769Z"
      },
      {
        "duration": 754,
        "start_time": "2023-06-09T21:17:06.880Z"
      },
      {
        "duration": 4,
        "start_time": "2023-06-09T21:18:06.816Z"
      },
      {
        "duration": 4,
        "start_time": "2023-06-09T21:18:09.035Z"
      },
      {
        "duration": 4,
        "start_time": "2023-06-09T21:18:10.328Z"
      },
      {
        "duration": 810,
        "start_time": "2023-06-09T21:18:11.926Z"
      },
      {
        "duration": 21,
        "start_time": "2023-06-09T21:22:05.786Z"
      },
      {
        "duration": 10,
        "start_time": "2023-06-09T21:22:50.818Z"
      },
      {
        "duration": 2398,
        "start_time": "2023-06-09T21:23:04.723Z"
      },
      {
        "duration": 13,
        "start_time": "2023-06-09T21:23:13.110Z"
      },
      {
        "duration": 0,
        "start_time": "2023-06-09T21:26:42.855Z"
      },
      {
        "duration": 0,
        "start_time": "2023-06-09T21:26:42.856Z"
      },
      {
        "duration": 0,
        "start_time": "2023-06-09T21:26:42.857Z"
      },
      {
        "duration": 0,
        "start_time": "2023-06-09T21:26:42.858Z"
      },
      {
        "duration": 0,
        "start_time": "2023-06-09T21:26:42.861Z"
      },
      {
        "duration": 0,
        "start_time": "2023-06-09T21:26:42.862Z"
      },
      {
        "duration": 0,
        "start_time": "2023-06-09T21:26:42.863Z"
      },
      {
        "duration": 0,
        "start_time": "2023-06-09T21:26:42.864Z"
      },
      {
        "duration": 0,
        "start_time": "2023-06-09T21:26:42.865Z"
      },
      {
        "duration": 0,
        "start_time": "2023-06-09T21:26:42.866Z"
      },
      {
        "duration": 0,
        "start_time": "2023-06-09T21:26:42.867Z"
      },
      {
        "duration": 0,
        "start_time": "2023-06-09T21:26:42.868Z"
      },
      {
        "duration": 0,
        "start_time": "2023-06-09T21:26:42.869Z"
      },
      {
        "duration": 1347,
        "start_time": "2023-06-09T21:26:52.375Z"
      },
      {
        "duration": 3708,
        "start_time": "2023-06-09T21:26:53.724Z"
      },
      {
        "duration": 12,
        "start_time": "2023-06-09T21:26:57.434Z"
      },
      {
        "duration": 41,
        "start_time": "2023-06-09T21:26:57.448Z"
      },
      {
        "duration": 11,
        "start_time": "2023-06-09T21:26:57.491Z"
      },
      {
        "duration": 11,
        "start_time": "2023-06-09T21:26:57.504Z"
      },
      {
        "duration": 378,
        "start_time": "2023-06-09T21:26:57.516Z"
      },
      {
        "duration": 4,
        "start_time": "2023-06-09T21:26:57.895Z"
      },
      {
        "duration": 32,
        "start_time": "2023-06-09T21:26:57.901Z"
      },
      {
        "duration": 8,
        "start_time": "2023-06-09T21:26:57.934Z"
      },
      {
        "duration": 769,
        "start_time": "2023-06-09T21:26:57.951Z"
      },
      {
        "duration": 2245,
        "start_time": "2023-06-09T21:26:58.722Z"
      },
      {
        "duration": 1398,
        "start_time": "2023-06-10T10:59:48.271Z"
      },
      {
        "duration": 925,
        "start_time": "2023-06-10T10:59:49.676Z"
      },
      {
        "duration": 14,
        "start_time": "2023-06-10T10:59:50.603Z"
      },
      {
        "duration": 52,
        "start_time": "2023-06-10T10:59:50.618Z"
      },
      {
        "duration": 17,
        "start_time": "2023-06-10T10:59:50.672Z"
      },
      {
        "duration": 15,
        "start_time": "2023-06-10T10:59:50.691Z"
      },
      {
        "duration": 397,
        "start_time": "2023-06-10T10:59:50.708Z"
      },
      {
        "duration": 4,
        "start_time": "2023-06-10T10:59:51.106Z"
      },
      {
        "duration": 59,
        "start_time": "2023-06-10T10:59:51.111Z"
      },
      {
        "duration": 19,
        "start_time": "2023-06-10T10:59:51.172Z"
      },
      {
        "duration": 790,
        "start_time": "2023-06-10T10:59:51.192Z"
      },
      {
        "duration": 2676,
        "start_time": "2023-06-10T10:59:51.984Z"
      },
      {
        "duration": 6,
        "start_time": "2023-06-10T10:59:54.667Z"
      },
      {
        "duration": 110,
        "start_time": "2023-06-10T10:59:54.680Z"
      },
      {
        "duration": 45,
        "start_time": "2023-06-10T10:59:54.792Z"
      },
      {
        "duration": 183,
        "start_time": "2023-06-10T10:59:54.839Z"
      },
      {
        "duration": 2173,
        "start_time": "2023-06-10T10:59:55.024Z"
      },
      {
        "duration": 6830,
        "start_time": "2023-06-10T10:59:57.199Z"
      },
      {
        "duration": 11149,
        "start_time": "2023-06-10T11:00:04.033Z"
      },
      {
        "duration": 5,
        "start_time": "2023-06-10T11:00:15.185Z"
      },
      {
        "duration": 31,
        "start_time": "2023-06-10T11:00:15.192Z"
      },
      {
        "duration": 41929,
        "start_time": "2023-06-10T11:00:15.225Z"
      },
      {
        "duration": 28,
        "start_time": "2023-06-10T11:00:57.159Z"
      },
      {
        "duration": 8,
        "start_time": "2023-06-10T11:00:57.190Z"
      },
      {
        "duration": 199225,
        "start_time": "2023-06-10T11:00:57.200Z"
      },
      {
        "duration": 0,
        "start_time": "2023-06-10T11:04:16.427Z"
      },
      {
        "duration": 0,
        "start_time": "2023-06-10T11:04:16.428Z"
      },
      {
        "duration": 0,
        "start_time": "2023-06-10T11:04:16.429Z"
      },
      {
        "duration": 0,
        "start_time": "2023-06-10T11:04:16.431Z"
      },
      {
        "duration": 0,
        "start_time": "2023-06-10T11:04:16.432Z"
      },
      {
        "duration": 6635,
        "start_time": "2023-06-10T11:04:23.621Z"
      },
      {
        "duration": 17,
        "start_time": "2023-06-10T11:04:32.484Z"
      },
      {
        "duration": 7735,
        "start_time": "2023-06-10T11:04:39.716Z"
      },
      {
        "duration": 21,
        "start_time": "2023-06-10T11:04:50.137Z"
      },
      {
        "duration": 8,
        "start_time": "2023-06-10T11:04:52.384Z"
      },
      {
        "duration": 10,
        "start_time": "2023-06-10T11:05:15.275Z"
      },
      {
        "duration": 6,
        "start_time": "2023-06-10T11:05:25.608Z"
      },
      {
        "duration": 3,
        "start_time": "2023-06-10T11:05:31.305Z"
      },
      {
        "duration": 5,
        "start_time": "2023-06-10T11:06:14.786Z"
      },
      {
        "duration": 8,
        "start_time": "2023-06-10T11:06:24.877Z"
      },
      {
        "duration": 10,
        "start_time": "2023-06-10T11:06:57.203Z"
      },
      {
        "duration": 12833,
        "start_time": "2023-06-10T11:11:05.621Z"
      },
      {
        "duration": 18,
        "start_time": "2023-06-10T11:11:20.224Z"
      },
      {
        "duration": 316944,
        "start_time": "2023-06-10T11:12:49.915Z"
      },
      {
        "duration": 0,
        "start_time": "2023-06-10T11:18:06.861Z"
      },
      {
        "duration": 3,
        "start_time": "2023-06-10T11:18:14.932Z"
      },
      {
        "duration": 789,
        "start_time": "2023-06-10T11:18:14.937Z"
      },
      {
        "duration": 7,
        "start_time": "2023-06-10T11:18:15.728Z"
      },
      {
        "duration": 45,
        "start_time": "2023-06-10T11:18:15.737Z"
      },
      {
        "duration": 8,
        "start_time": "2023-06-10T11:18:15.784Z"
      },
      {
        "duration": 14,
        "start_time": "2023-06-10T11:18:15.793Z"
      },
      {
        "duration": 164,
        "start_time": "2023-06-10T11:18:15.808Z"
      },
      {
        "duration": 3,
        "start_time": "2023-06-10T11:18:26.070Z"
      },
      {
        "duration": 34,
        "start_time": "2023-06-10T11:18:54.766Z"
      },
      {
        "duration": 70272,
        "start_time": "2023-06-10T11:19:19.904Z"
      },
      {
        "duration": 17,
        "start_time": "2023-06-10T11:21:08.343Z"
      },
      {
        "duration": 33,
        "start_time": "2023-06-10T11:32:35.467Z"
      },
      {
        "duration": 7,
        "start_time": "2023-06-10T11:35:25.138Z"
      },
      {
        "duration": 7,
        "start_time": "2023-06-10T11:35:52.834Z"
      },
      {
        "duration": 36,
        "start_time": "2023-06-10T11:42:44.318Z"
      },
      {
        "duration": 4,
        "start_time": "2023-06-10T11:42:45.412Z"
      },
      {
        "duration": 679,
        "start_time": "2023-06-10T11:42:46.275Z"
      },
      {
        "duration": 47,
        "start_time": "2023-06-10T11:43:09.096Z"
      },
      {
        "duration": 1321,
        "start_time": "2023-06-10T11:43:18.122Z"
      },
      {
        "duration": 3464,
        "start_time": "2023-06-10T11:43:19.445Z"
      },
      {
        "duration": 13,
        "start_time": "2023-06-10T11:43:22.911Z"
      },
      {
        "duration": 33,
        "start_time": "2023-06-10T11:43:22.926Z"
      },
      {
        "duration": 11,
        "start_time": "2023-06-10T11:43:22.961Z"
      },
      {
        "duration": 11,
        "start_time": "2023-06-10T11:43:22.973Z"
      },
      {
        "duration": 324,
        "start_time": "2023-06-10T11:43:22.985Z"
      },
      {
        "duration": 4,
        "start_time": "2023-06-10T11:43:23.311Z"
      },
      {
        "duration": 40,
        "start_time": "2023-06-10T11:43:23.316Z"
      },
      {
        "duration": 70885,
        "start_time": "2023-06-10T11:43:23.358Z"
      },
      {
        "duration": 54,
        "start_time": "2023-06-10T11:44:34.245Z"
      },
      {
        "duration": 9,
        "start_time": "2023-06-10T11:44:34.301Z"
      },
      {
        "duration": 56,
        "start_time": "2023-06-10T11:44:34.312Z"
      },
      {
        "duration": 251,
        "start_time": "2023-06-10T11:44:34.371Z"
      },
      {
        "duration": 1304,
        "start_time": "2023-06-10T11:45:09.303Z"
      },
      {
        "duration": 3703,
        "start_time": "2023-06-10T11:45:12.089Z"
      },
      {
        "duration": 14,
        "start_time": "2023-06-10T11:45:16.729Z"
      },
      {
        "duration": 33,
        "start_time": "2023-06-10T11:45:17.663Z"
      },
      {
        "duration": 32,
        "start_time": "2023-06-10T11:45:37.797Z"
      },
      {
        "duration": 125,
        "start_time": "2023-06-10T11:45:39.261Z"
      },
      {
        "duration": 3,
        "start_time": "2023-06-10T11:45:49.845Z"
      },
      {
        "duration": 833,
        "start_time": "2023-06-10T11:45:49.852Z"
      },
      {
        "duration": 7,
        "start_time": "2023-06-10T11:45:50.687Z"
      },
      {
        "duration": 36,
        "start_time": "2023-06-10T11:45:50.695Z"
      },
      {
        "duration": 38,
        "start_time": "2023-06-10T11:45:50.734Z"
      },
      {
        "duration": 11,
        "start_time": "2023-06-10T11:45:50.774Z"
      },
      {
        "duration": 378,
        "start_time": "2023-06-10T11:45:50.787Z"
      },
      {
        "duration": 3,
        "start_time": "2023-06-10T11:45:51.169Z"
      },
      {
        "duration": 54,
        "start_time": "2023-06-10T11:45:51.174Z"
      },
      {
        "duration": 74633,
        "start_time": "2023-06-10T11:45:51.230Z"
      },
      {
        "duration": 39,
        "start_time": "2023-06-10T11:47:05.865Z"
      },
      {
        "duration": 9,
        "start_time": "2023-06-10T11:47:05.906Z"
      },
      {
        "duration": 61,
        "start_time": "2023-06-10T11:47:05.917Z"
      },
      {
        "duration": 227,
        "start_time": "2023-06-10T11:47:05.981Z"
      },
      {
        "duration": 1350,
        "start_time": "2023-06-10T11:51:11.189Z"
      },
      {
        "duration": 3838,
        "start_time": "2023-06-10T11:51:12.542Z"
      },
      {
        "duration": 15,
        "start_time": "2023-06-10T11:51:16.382Z"
      },
      {
        "duration": 34,
        "start_time": "2023-06-10T11:51:16.398Z"
      },
      {
        "duration": 17,
        "start_time": "2023-06-10T11:51:16.435Z"
      },
      {
        "duration": 11,
        "start_time": "2023-06-10T11:51:16.454Z"
      },
      {
        "duration": 350,
        "start_time": "2023-06-10T11:51:16.467Z"
      },
      {
        "duration": 4,
        "start_time": "2023-06-10T11:51:16.818Z"
      },
      {
        "duration": 44,
        "start_time": "2023-06-10T11:51:16.824Z"
      },
      {
        "duration": 73526,
        "start_time": "2023-06-10T11:51:16.871Z"
      },
      {
        "duration": 38,
        "start_time": "2023-06-10T11:52:30.399Z"
      },
      {
        "duration": 23,
        "start_time": "2023-06-10T11:52:30.438Z"
      },
      {
        "duration": 92,
        "start_time": "2023-06-10T11:52:30.469Z"
      },
      {
        "duration": 233,
        "start_time": "2023-06-10T11:52:30.571Z"
      },
      {
        "duration": 52,
        "start_time": "2023-06-10T11:52:41.714Z"
      },
      {
        "duration": 1355,
        "start_time": "2023-06-10T11:52:51.619Z"
      },
      {
        "duration": 3644,
        "start_time": "2023-06-10T11:52:54.066Z"
      },
      {
        "duration": 18,
        "start_time": "2023-06-10T11:52:58.653Z"
      },
      {
        "duration": 34,
        "start_time": "2023-06-10T11:52:59.860Z"
      },
      {
        "duration": 11,
        "start_time": "2023-06-10T11:53:03.420Z"
      },
      {
        "duration": 11,
        "start_time": "2023-06-10T11:53:05.000Z"
      },
      {
        "duration": 343,
        "start_time": "2023-06-10T11:53:06.564Z"
      },
      {
        "duration": 3,
        "start_time": "2023-06-10T11:53:09.339Z"
      },
      {
        "duration": 30,
        "start_time": "2023-06-10T11:53:10.473Z"
      },
      {
        "duration": 71828,
        "start_time": "2023-06-10T11:53:11.420Z"
      },
      {
        "duration": 38,
        "start_time": "2023-06-10T11:54:38.755Z"
      },
      {
        "duration": 7,
        "start_time": "2023-06-10T11:54:39.892Z"
      },
      {
        "duration": 40,
        "start_time": "2023-06-10T11:56:42.179Z"
      },
      {
        "duration": 173,
        "start_time": "2023-06-10T11:56:44.823Z"
      },
      {
        "duration": 45,
        "start_time": "2023-06-10T11:56:53.985Z"
      },
      {
        "duration": 1375,
        "start_time": "2023-06-10T11:57:04.322Z"
      },
      {
        "duration": 3457,
        "start_time": "2023-06-10T11:57:06.978Z"
      },
      {
        "duration": 3,
        "start_time": "2023-06-10T11:57:16.582Z"
      },
      {
        "duration": 791,
        "start_time": "2023-06-10T11:57:16.587Z"
      },
      {
        "duration": 13,
        "start_time": "2023-06-10T11:57:17.380Z"
      },
      {
        "duration": 44,
        "start_time": "2023-06-10T11:57:17.395Z"
      },
      {
        "duration": 11,
        "start_time": "2023-06-10T11:57:17.441Z"
      },
      {
        "duration": 11,
        "start_time": "2023-06-10T11:57:17.454Z"
      },
      {
        "duration": 326,
        "start_time": "2023-06-10T11:57:17.466Z"
      },
      {
        "duration": 4,
        "start_time": "2023-06-10T11:57:17.793Z"
      },
      {
        "duration": 70083,
        "start_time": "2023-06-10T11:57:17.798Z"
      },
      {
        "duration": 35,
        "start_time": "2023-06-10T11:58:27.883Z"
      },
      {
        "duration": 8,
        "start_time": "2023-06-10T11:58:27.920Z"
      },
      {
        "duration": 56,
        "start_time": "2023-06-10T11:58:27.930Z"
      },
      {
        "duration": 181,
        "start_time": "2023-06-10T11:58:32.328Z"
      },
      {
        "duration": 9,
        "start_time": "2023-06-10T11:58:39.437Z"
      },
      {
        "duration": 1143,
        "start_time": "2023-06-10T11:58:51.959Z"
      },
      {
        "duration": 376,
        "start_time": "2023-06-10T11:59:08.238Z"
      },
      {
        "duration": 48,
        "start_time": "2023-06-10T15:59:59.793Z"
      },
      {
        "duration": 1378,
        "start_time": "2023-06-10T16:00:04.991Z"
      },
      {
        "duration": 2587,
        "start_time": "2023-06-10T16:00:08.597Z"
      },
      {
        "duration": 16,
        "start_time": "2023-06-10T16:00:13.004Z"
      },
      {
        "duration": 11,
        "start_time": "2023-06-10T16:00:15.392Z"
      },
      {
        "duration": 11,
        "start_time": "2023-06-10T16:00:17.801Z"
      },
      {
        "duration": 513,
        "start_time": "2023-06-10T16:00:23.647Z"
      },
      {
        "duration": 4,
        "start_time": "2023-06-10T16:39:17.314Z"
      },
      {
        "duration": 3,
        "start_time": "2023-06-10T16:39:34.364Z"
      },
      {
        "duration": 4,
        "start_time": "2023-06-10T16:39:49.012Z"
      },
      {
        "duration": 162,
        "start_time": "2023-06-10T16:40:08.362Z"
      },
      {
        "duration": 5026,
        "start_time": "2023-06-10T16:40:23.720Z"
      },
      {
        "duration": 4636,
        "start_time": "2023-06-10T16:40:41.018Z"
      },
      {
        "duration": 32,
        "start_time": "2023-06-10T16:40:50.973Z"
      },
      {
        "duration": 8,
        "start_time": "2023-06-10T16:40:51.858Z"
      },
      {
        "duration": 2,
        "start_time": "2023-06-10T16:41:04.031Z"
      },
      {
        "duration": 4,
        "start_time": "2023-06-10T16:41:17.494Z"
      },
      {
        "duration": 4,
        "start_time": "2023-06-10T16:42:14.217Z"
      },
      {
        "duration": 3,
        "start_time": "2023-06-10T16:42:20.560Z"
      },
      {
        "duration": 110,
        "start_time": "2023-06-10T16:42:21.651Z"
      },
      {
        "duration": 3,
        "start_time": "2023-06-10T16:42:43.934Z"
      },
      {
        "duration": 3,
        "start_time": "2023-06-10T16:42:48.228Z"
      },
      {
        "duration": 16,
        "start_time": "2023-06-10T16:42:49.255Z"
      },
      {
        "duration": 3,
        "start_time": "2023-06-10T16:43:14.572Z"
      },
      {
        "duration": 4,
        "start_time": "2023-06-10T16:43:17.559Z"
      },
      {
        "duration": 4315,
        "start_time": "2023-06-10T16:44:02.809Z"
      },
      {
        "duration": 287,
        "start_time": "2023-06-10T16:44:40.391Z"
      },
      {
        "duration": 802,
        "start_time": "2023-06-10T16:45:07.194Z"
      },
      {
        "duration": 727,
        "start_time": "2023-06-10T16:45:16.651Z"
      },
      {
        "duration": 42,
        "start_time": "2023-06-10T16:45:49.256Z"
      },
      {
        "duration": 19,
        "start_time": "2023-06-10T16:46:18.480Z"
      },
      {
        "duration": 4,
        "start_time": "2023-06-10T16:46:31.946Z"
      },
      {
        "duration": 466,
        "start_time": "2023-06-10T16:52:14.025Z"
      },
      {
        "duration": 2,
        "start_time": "2023-06-10T16:52:23.897Z"
      },
      {
        "duration": 13,
        "start_time": "2023-06-10T16:52:26.585Z"
      },
      {
        "duration": 469,
        "start_time": "2023-06-10T16:53:28.319Z"
      },
      {
        "duration": 1209,
        "start_time": "2023-06-10T16:53:35.822Z"
      },
      {
        "duration": 5,
        "start_time": "2023-06-10T16:53:55.417Z"
      },
      {
        "duration": 1706,
        "start_time": "2023-06-10T16:53:55.425Z"
      },
      {
        "duration": 9,
        "start_time": "2023-06-10T16:53:57.133Z"
      },
      {
        "duration": 46,
        "start_time": "2023-06-10T16:53:57.144Z"
      },
      {
        "duration": 33,
        "start_time": "2023-06-10T16:53:57.192Z"
      },
      {
        "duration": 18,
        "start_time": "2023-06-10T16:53:57.227Z"
      },
      {
        "duration": 152,
        "start_time": "2023-06-10T16:53:57.246Z"
      },
      {
        "duration": 467,
        "start_time": "2023-06-10T16:54:06.205Z"
      },
      {
        "duration": 2859852,
        "start_time": "2023-06-10T16:54:09.627Z"
      },
      {
        "duration": 39,
        "start_time": "2023-06-10T17:44:47.366Z"
      },
      {
        "duration": 7,
        "start_time": "2023-06-10T17:44:48.514Z"
      },
      {
        "duration": 8,
        "start_time": "2023-06-10T17:45:06.565Z"
      },
      {
        "duration": 3,
        "start_time": "2023-06-10T17:45:24.365Z"
      },
      {
        "duration": 12,
        "start_time": "2023-06-10T17:45:25.566Z"
      },
      {
        "duration": 521,
        "start_time": "2023-06-10T17:46:46.270Z"
      },
      {
        "duration": 5,
        "start_time": "2023-06-10T17:46:53.695Z"
      },
      {
        "duration": 504,
        "start_time": "2023-06-10T17:47:03.760Z"
      },
      {
        "duration": 17,
        "start_time": "2023-06-10T17:47:11.839Z"
      },
      {
        "duration": 2043,
        "start_time": "2023-06-10T17:47:16.948Z"
      },
      {
        "duration": 1104,
        "start_time": "2023-06-10T17:47:33.319Z"
      },
      {
        "duration": 0,
        "start_time": "2023-06-10T17:47:34.426Z"
      },
      {
        "duration": 0,
        "start_time": "2023-06-10T17:47:34.428Z"
      },
      {
        "duration": 0,
        "start_time": "2023-06-10T17:47:34.429Z"
      },
      {
        "duration": 0,
        "start_time": "2023-06-10T17:47:34.431Z"
      },
      {
        "duration": 0,
        "start_time": "2023-06-10T17:47:34.432Z"
      },
      {
        "duration": 0,
        "start_time": "2023-06-10T17:47:34.434Z"
      },
      {
        "duration": 0,
        "start_time": "2023-06-10T17:47:34.435Z"
      },
      {
        "duration": 0,
        "start_time": "2023-06-10T17:47:34.436Z"
      },
      {
        "duration": 0,
        "start_time": "2023-06-10T17:47:34.438Z"
      },
      {
        "duration": 0,
        "start_time": "2023-06-10T17:47:34.439Z"
      },
      {
        "duration": 0,
        "start_time": "2023-06-10T17:47:34.440Z"
      },
      {
        "duration": 0,
        "start_time": "2023-06-10T17:47:34.441Z"
      },
      {
        "duration": 0,
        "start_time": "2023-06-10T17:47:34.442Z"
      },
      {
        "duration": 0,
        "start_time": "2023-06-10T17:47:34.443Z"
      },
      {
        "duration": 0,
        "start_time": "2023-06-10T17:47:34.443Z"
      },
      {
        "duration": 0,
        "start_time": "2023-06-10T17:47:34.444Z"
      },
      {
        "duration": 0,
        "start_time": "2023-06-10T17:47:34.448Z"
      },
      {
        "duration": 0,
        "start_time": "2023-06-10T17:47:34.449Z"
      },
      {
        "duration": 0,
        "start_time": "2023-06-10T17:47:34.450Z"
      },
      {
        "duration": 0,
        "start_time": "2023-06-10T17:47:34.451Z"
      },
      {
        "duration": 0,
        "start_time": "2023-06-10T17:47:34.451Z"
      },
      {
        "duration": 0,
        "start_time": "2023-06-10T17:47:34.452Z"
      },
      {
        "duration": 0,
        "start_time": "2023-06-10T17:47:34.453Z"
      },
      {
        "duration": 0,
        "start_time": "2023-06-10T17:47:34.457Z"
      },
      {
        "duration": 0,
        "start_time": "2023-06-10T17:47:34.462Z"
      },
      {
        "duration": 0,
        "start_time": "2023-06-10T17:47:34.463Z"
      },
      {
        "duration": 1,
        "start_time": "2023-06-10T17:47:34.464Z"
      },
      {
        "duration": 0,
        "start_time": "2023-06-10T17:47:34.466Z"
      },
      {
        "duration": 15981,
        "start_time": "2023-06-10T17:47:52.896Z"
      },
      {
        "duration": 0,
        "start_time": "2023-06-10T17:48:08.880Z"
      },
      {
        "duration": 0,
        "start_time": "2023-06-10T17:48:08.880Z"
      },
      {
        "duration": 0,
        "start_time": "2023-06-10T17:48:08.882Z"
      },
      {
        "duration": 0,
        "start_time": "2023-06-10T17:48:08.883Z"
      },
      {
        "duration": 0,
        "start_time": "2023-06-10T17:48:08.884Z"
      },
      {
        "duration": 0,
        "start_time": "2023-06-10T17:48:08.885Z"
      },
      {
        "duration": 0,
        "start_time": "2023-06-10T17:48:08.886Z"
      },
      {
        "duration": 0,
        "start_time": "2023-06-10T17:48:08.887Z"
      },
      {
        "duration": 0,
        "start_time": "2023-06-10T17:48:08.888Z"
      },
      {
        "duration": 0,
        "start_time": "2023-06-10T17:48:08.890Z"
      },
      {
        "duration": 0,
        "start_time": "2023-06-10T17:48:08.891Z"
      },
      {
        "duration": 63,
        "start_time": "2023-06-10T17:48:11.090Z"
      },
      {
        "duration": 40,
        "start_time": "2023-06-10T17:48:24.930Z"
      },
      {
        "duration": 9702,
        "start_time": "2023-06-10T17:48:48.165Z"
      },
      {
        "duration": 1149,
        "start_time": "2023-06-10T17:48:57.869Z"
      },
      {
        "duration": 185,
        "start_time": "2023-06-10T17:48:59.020Z"
      },
      {
        "duration": 51,
        "start_time": "2023-06-10T17:48:59.208Z"
      },
      {
        "duration": 19,
        "start_time": "2023-06-10T17:48:59.261Z"
      },
      {
        "duration": 10,
        "start_time": "2023-06-10T17:48:59.282Z"
      },
      {
        "duration": 378,
        "start_time": "2023-06-10T17:48:59.294Z"
      },
      {
        "duration": 549,
        "start_time": "2023-06-10T17:48:59.673Z"
      },
      {
        "duration": 2,
        "start_time": "2023-06-10T17:49:00.224Z"
      },
      {
        "duration": 49,
        "start_time": "2023-06-10T17:49:00.229Z"
      },
      {
        "duration": 2785403,
        "start_time": "2023-06-10T17:49:00.280Z"
      },
      {
        "duration": 39,
        "start_time": "2023-06-10T18:35:25.685Z"
      },
      {
        "duration": 35,
        "start_time": "2023-06-10T18:35:25.726Z"
      },
      {
        "duration": 51,
        "start_time": "2023-06-10T18:35:25.764Z"
      },
      {
        "duration": 312,
        "start_time": "2023-06-10T18:35:25.816Z"
      },
      {
        "duration": 3387,
        "start_time": "2023-06-10T18:35:26.130Z"
      },
      {
        "duration": 7649,
        "start_time": "2023-06-10T18:35:29.519Z"
      },
      {
        "duration": 52,
        "start_time": "2023-06-10T18:47:55.760Z"
      }
    ],
    "celltoolbar": "Отсутствует",
    "kernelspec": {
      "display_name": "Python 3 (ipykernel)",
      "language": "python",
      "name": "python3"
    },
    "language_info": {
      "codemirror_mode": {
        "name": "ipython",
        "version": 3
      },
      "file_extension": ".py",
      "mimetype": "text/x-python",
      "name": "python",
      "nbconvert_exporter": "python",
      "pygments_lexer": "ipython3",
      "version": "3.9.5"
    },
    "toc": {
      "base_numbering": 1,
      "nav_menu": {},
      "number_sections": true,
      "sideBar": true,
      "skip_h1_title": true,
      "title_cell": "Содержание",
      "title_sidebar": "Contents",
      "toc_cell": true,
      "toc_position": {
        "height": "calc(100% - 180px)",
        "left": "10px",
        "top": "150px",
        "width": "302.391px"
      },
      "toc_section_display": true,
      "toc_window_display": true
    },
    "colab": {
      "provenance": []
    },
    "widgets": {
      "application/vnd.jupyter.widget-state+json": {
        "a888d6047742440e881815343c79e8ba": {
          "model_module": "@jupyter-widgets/controls",
          "model_name": "HBoxModel",
          "model_module_version": "1.5.0",
          "state": {
            "_dom_classes": [],
            "_model_module": "@jupyter-widgets/controls",
            "_model_module_version": "1.5.0",
            "_model_name": "HBoxModel",
            "_view_count": null,
            "_view_module": "@jupyter-widgets/controls",
            "_view_module_version": "1.5.0",
            "_view_name": "HBoxView",
            "box_style": "",
            "children": [
              "IPY_MODEL_a86d563dbfa94cefbda4f7c6a7a78fe7",
              "IPY_MODEL_f8b36db1d41543c1ad39ce030a978ffe",
              "IPY_MODEL_b20d7cb9ee99428fa2fbb9b4349fdab6"
            ],
            "layout": "IPY_MODEL_769d25b51e9c4211b478a2c94b400e9b"
          }
        },
        "a86d563dbfa94cefbda4f7c6a7a78fe7": {
          "model_module": "@jupyter-widgets/controls",
          "model_name": "HTMLModel",
          "model_module_version": "1.5.0",
          "state": {
            "_dom_classes": [],
            "_model_module": "@jupyter-widgets/controls",
            "_model_module_version": "1.5.0",
            "_model_name": "HTMLModel",
            "_view_count": null,
            "_view_module": "@jupyter-widgets/controls",
            "_view_module_version": "1.5.0",
            "_view_name": "HTMLView",
            "description": "",
            "description_tooltip": null,
            "layout": "IPY_MODEL_48aefb42c7cc402eb19cdcd6fd8e7ad0",
            "placeholder": "​",
            "style": "IPY_MODEL_3ad0c894c93d4b22a48c28d23f2e2666",
            "value": "100%"
          }
        },
        "f8b36db1d41543c1ad39ce030a978ffe": {
          "model_module": "@jupyter-widgets/controls",
          "model_name": "FloatProgressModel",
          "model_module_version": "1.5.0",
          "state": {
            "_dom_classes": [],
            "_model_module": "@jupyter-widgets/controls",
            "_model_module_version": "1.5.0",
            "_model_name": "FloatProgressModel",
            "_view_count": null,
            "_view_module": "@jupyter-widgets/controls",
            "_view_module_version": "1.5.0",
            "_view_name": "ProgressView",
            "bar_style": "success",
            "description": "",
            "description_tooltip": null,
            "layout": "IPY_MODEL_9f4c400cca814b96869cb4f78c9f56af",
            "max": 159292,
            "min": 0,
            "orientation": "horizontal",
            "style": "IPY_MODEL_b0660fb0dae547f0a3d13a8b8acd64cc",
            "value": 159292
          }
        },
        "b20d7cb9ee99428fa2fbb9b4349fdab6": {
          "model_module": "@jupyter-widgets/controls",
          "model_name": "HTMLModel",
          "model_module_version": "1.5.0",
          "state": {
            "_dom_classes": [],
            "_model_module": "@jupyter-widgets/controls",
            "_model_module_version": "1.5.0",
            "_model_name": "HTMLModel",
            "_view_count": null,
            "_view_module": "@jupyter-widgets/controls",
            "_view_module_version": "1.5.0",
            "_view_name": "HTMLView",
            "description": "",
            "description_tooltip": null,
            "layout": "IPY_MODEL_173f97f7fa514c098e2ea663476e829c",
            "placeholder": "​",
            "style": "IPY_MODEL_2a4e1daa10bb4e52ac1a8f963546d1f6",
            "value": " 159292/159292 [14:18&lt;00:00, 194.85it/s]"
          }
        },
        "769d25b51e9c4211b478a2c94b400e9b": {
          "model_module": "@jupyter-widgets/base",
          "model_name": "LayoutModel",
          "model_module_version": "1.2.0",
          "state": {
            "_model_module": "@jupyter-widgets/base",
            "_model_module_version": "1.2.0",
            "_model_name": "LayoutModel",
            "_view_count": null,
            "_view_module": "@jupyter-widgets/base",
            "_view_module_version": "1.2.0",
            "_view_name": "LayoutView",
            "align_content": null,
            "align_items": null,
            "align_self": null,
            "border": null,
            "bottom": null,
            "display": null,
            "flex": null,
            "flex_flow": null,
            "grid_area": null,
            "grid_auto_columns": null,
            "grid_auto_flow": null,
            "grid_auto_rows": null,
            "grid_column": null,
            "grid_gap": null,
            "grid_row": null,
            "grid_template_areas": null,
            "grid_template_columns": null,
            "grid_template_rows": null,
            "height": null,
            "justify_content": null,
            "justify_items": null,
            "left": null,
            "margin": null,
            "max_height": null,
            "max_width": null,
            "min_height": null,
            "min_width": null,
            "object_fit": null,
            "object_position": null,
            "order": null,
            "overflow": null,
            "overflow_x": null,
            "overflow_y": null,
            "padding": null,
            "right": null,
            "top": null,
            "visibility": null,
            "width": null
          }
        },
        "48aefb42c7cc402eb19cdcd6fd8e7ad0": {
          "model_module": "@jupyter-widgets/base",
          "model_name": "LayoutModel",
          "model_module_version": "1.2.0",
          "state": {
            "_model_module": "@jupyter-widgets/base",
            "_model_module_version": "1.2.0",
            "_model_name": "LayoutModel",
            "_view_count": null,
            "_view_module": "@jupyter-widgets/base",
            "_view_module_version": "1.2.0",
            "_view_name": "LayoutView",
            "align_content": null,
            "align_items": null,
            "align_self": null,
            "border": null,
            "bottom": null,
            "display": null,
            "flex": null,
            "flex_flow": null,
            "grid_area": null,
            "grid_auto_columns": null,
            "grid_auto_flow": null,
            "grid_auto_rows": null,
            "grid_column": null,
            "grid_gap": null,
            "grid_row": null,
            "grid_template_areas": null,
            "grid_template_columns": null,
            "grid_template_rows": null,
            "height": null,
            "justify_content": null,
            "justify_items": null,
            "left": null,
            "margin": null,
            "max_height": null,
            "max_width": null,
            "min_height": null,
            "min_width": null,
            "object_fit": null,
            "object_position": null,
            "order": null,
            "overflow": null,
            "overflow_x": null,
            "overflow_y": null,
            "padding": null,
            "right": null,
            "top": null,
            "visibility": null,
            "width": null
          }
        },
        "3ad0c894c93d4b22a48c28d23f2e2666": {
          "model_module": "@jupyter-widgets/controls",
          "model_name": "DescriptionStyleModel",
          "model_module_version": "1.5.0",
          "state": {
            "_model_module": "@jupyter-widgets/controls",
            "_model_module_version": "1.5.0",
            "_model_name": "DescriptionStyleModel",
            "_view_count": null,
            "_view_module": "@jupyter-widgets/base",
            "_view_module_version": "1.2.0",
            "_view_name": "StyleView",
            "description_width": ""
          }
        },
        "9f4c400cca814b96869cb4f78c9f56af": {
          "model_module": "@jupyter-widgets/base",
          "model_name": "LayoutModel",
          "model_module_version": "1.2.0",
          "state": {
            "_model_module": "@jupyter-widgets/base",
            "_model_module_version": "1.2.0",
            "_model_name": "LayoutModel",
            "_view_count": null,
            "_view_module": "@jupyter-widgets/base",
            "_view_module_version": "1.2.0",
            "_view_name": "LayoutView",
            "align_content": null,
            "align_items": null,
            "align_self": null,
            "border": null,
            "bottom": null,
            "display": null,
            "flex": null,
            "flex_flow": null,
            "grid_area": null,
            "grid_auto_columns": null,
            "grid_auto_flow": null,
            "grid_auto_rows": null,
            "grid_column": null,
            "grid_gap": null,
            "grid_row": null,
            "grid_template_areas": null,
            "grid_template_columns": null,
            "grid_template_rows": null,
            "height": null,
            "justify_content": null,
            "justify_items": null,
            "left": null,
            "margin": null,
            "max_height": null,
            "max_width": null,
            "min_height": null,
            "min_width": null,
            "object_fit": null,
            "object_position": null,
            "order": null,
            "overflow": null,
            "overflow_x": null,
            "overflow_y": null,
            "padding": null,
            "right": null,
            "top": null,
            "visibility": null,
            "width": null
          }
        },
        "b0660fb0dae547f0a3d13a8b8acd64cc": {
          "model_module": "@jupyter-widgets/controls",
          "model_name": "ProgressStyleModel",
          "model_module_version": "1.5.0",
          "state": {
            "_model_module": "@jupyter-widgets/controls",
            "_model_module_version": "1.5.0",
            "_model_name": "ProgressStyleModel",
            "_view_count": null,
            "_view_module": "@jupyter-widgets/base",
            "_view_module_version": "1.2.0",
            "_view_name": "StyleView",
            "bar_color": null,
            "description_width": ""
          }
        },
        "173f97f7fa514c098e2ea663476e829c": {
          "model_module": "@jupyter-widgets/base",
          "model_name": "LayoutModel",
          "model_module_version": "1.2.0",
          "state": {
            "_model_module": "@jupyter-widgets/base",
            "_model_module_version": "1.2.0",
            "_model_name": "LayoutModel",
            "_view_count": null,
            "_view_module": "@jupyter-widgets/base",
            "_view_module_version": "1.2.0",
            "_view_name": "LayoutView",
            "align_content": null,
            "align_items": null,
            "align_self": null,
            "border": null,
            "bottom": null,
            "display": null,
            "flex": null,
            "flex_flow": null,
            "grid_area": null,
            "grid_auto_columns": null,
            "grid_auto_flow": null,
            "grid_auto_rows": null,
            "grid_column": null,
            "grid_gap": null,
            "grid_row": null,
            "grid_template_areas": null,
            "grid_template_columns": null,
            "grid_template_rows": null,
            "height": null,
            "justify_content": null,
            "justify_items": null,
            "left": null,
            "margin": null,
            "max_height": null,
            "max_width": null,
            "min_height": null,
            "min_width": null,
            "object_fit": null,
            "object_position": null,
            "order": null,
            "overflow": null,
            "overflow_x": null,
            "overflow_y": null,
            "padding": null,
            "right": null,
            "top": null,
            "visibility": null,
            "width": null
          }
        },
        "2a4e1daa10bb4e52ac1a8f963546d1f6": {
          "model_module": "@jupyter-widgets/controls",
          "model_name": "DescriptionStyleModel",
          "model_module_version": "1.5.0",
          "state": {
            "_model_module": "@jupyter-widgets/controls",
            "_model_module_version": "1.5.0",
            "_model_name": "DescriptionStyleModel",
            "_view_count": null,
            "_view_module": "@jupyter-widgets/base",
            "_view_module_version": "1.2.0",
            "_view_name": "StyleView",
            "description_width": ""
          }
        }
      }
    }
  },
  "nbformat": 4,
  "nbformat_minor": 0
}
